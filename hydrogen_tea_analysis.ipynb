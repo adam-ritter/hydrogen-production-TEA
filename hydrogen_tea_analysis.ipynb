{
 "cells": [
  {
   "cell_type": "markdown",
   "id": "9ffdf043",
   "metadata": {},
   "source": [
    "# Techno-Economic Analysis: Hydrogen and Acetylene Black Production from Renewable Natural Gas via Microwave Plasma Reactors\n",
    "\n",
    "## Executive Summary\n",
    "\n",
    "This analysis evaluates the techno-economic viability of producing hydrogen gas and acetylene black from renewable natural gas (RNG) using Pentacarbon's proprietary microwave plasma reactor technology.\n",
    "\n",
    "### Key Results\n",
    "\n",
    "**Financial Performance:**\n",
    "- **NPV (20 years, 15% discount):** $XX million\n",
    "- **IRR:** XX%\n",
    "- **Payback Period:** XX years\n",
    "- **ROI (Year 3):** XX%\n",
    "- **LCOH:** $XX/kg H2\n",
    "\n",
    "**Production Capacity**\n",
    "- **Hydrogen:** 393.1 kg/hr (3,100 tonnes/year)\n",
    "- **Acetylene Black:** 824.6 kg/hr (6,500 tonnes/year)\n",
    "- **Capacity Factor:** 91.7%\n",
    "\n",
    "**Environmental Performance**\n",
    "- **CO2 Intensity:** 0.12 kg CO2eq/kg H2 (99.9% reduction vs. SMR)\n",
    "- **Water Intensity:** 0.6kg H2O/kg H2 (86.7% reduction vs. SMR)\n",
    "- **Energy Source:** Renewable electricity\n",
    "- **Feedstock Source:** Landfill methane that would otherwise be released to atmosphere\n",
    "\n",
    "**Economic Advantages:**\n",
    "- Strong profitability with conservative pricing\n",
    "- Premium co-product (acetylene black) provides 40% of revenue with downstream sustainability applications\n",
    "- Near-zero emissions using renewable energy\n",
    "- Minimal water consumption\n",
    "- Utilizes waste/renewable methane feedstock\n",
    "\n",
    "---\n",
    "\n",
    "## Background\n",
    "\n",
    "### The Hydrogen Challenge\n",
    "\n",
    "Hydrogen is critical for:\n",
    "- **Industrial decarbonization** (ammonia, steel, refining)\n",
    "- **Clean transportation** (fuel cells)\n",
    "- **Energy storage** (power-to-gas)\n",
    "- **Chemical Manufacturing**\n",
    "\n",
    "However, **96% of hydrogen is produced from fossil fuels via steam methane reforming (SMR)**, emitting ~845 million tonnes CO2 annually worldwide (9-10kg CO2 per kg H2).\n",
    "\n",
    "### The Carbon Black Opportunity\n",
    "\n",
    "Acetylene black is a **highly conductive carbon black** used in:\n",
    "- Lithium-ion batteries\n",
    "- Supercapacitors\n",
    "- Advanced electronics\n",
    "- Specialty coatings\n",
    "\n",
    "It commands **2-3x the price** of commodity carbon blacks used in tires.\n",
    "\n",
    "### The Solution: Microwave Plasma Conversion\n",
    "\n",
    "**Core Reaction:** CH4 &rarr; C(s) + 2H2\n",
    "\n",
    "Using **microwave-induced plasma at 2000C** we crack methane into:\n",
    "- **Hydrogen gas** (99.9% purity after separation)\n",
    "- **Acetylene black** (premium conductive solid carbon)\n",
    "\n",
    "This process:\n",
    "- Eliminates CO2 emissions  (when using renewable electricity)\n",
    "- Minimizes water consumption (87% less than industry standard SMR)\n",
    "- Produces valuable co-product with downstream tech applications\n",
    "- Uses renewable natural gas feedstock that would otherwise contribute to global emissions\n",
    "\n",
    "---\n",
    "\n",
    "## Process Description\n",
    "\n",
    "### Simplified Process Flow\n",
    "\n",
    "<pre>\n",
    "                                                                                            ← Methane Recycle\n",
    "                                                                                                    ↑\n",
    "RNG Feed → Pentacarbon Microwave Reactor → Quench and Compression → Acetylene Absorption → Hydrogen Separation →\n",
    "                                                    ↓                       ↓\n",
    "                                             ← Water Recycle          Conversion to\n",
    "                                                                      Acetylene Black → Solids Processing →\n",
    "</pre>\n",
    "\n",
    "### Process Steps\n",
    "\n",
    "**1. Feed**\n",
    "- **Flow rate:** 1923 kg/hr renewable natural gas\n",
    "- **Composition:** 90.5% CH4, 7.8% CO2, 1.3% N2, trace H2S\n",
    "- **Treatment:** Heat to 38C, compress to 2 bar\n",
    "\n",
    "**2. Microwave Reactor (R1):**\n",
    "- **Temperature:** 2000C (plasma conditions)\n",
    "- **Pressure:** 2.07 bar\n",
    "- **Power Requirement:** 13,400.0 kW\n",
    "- **Conversion:** 90%\n",
    "- **Products:** H2, acetylene (C2H2), ethylene (C2H4), unreacted CH4\n",
    "\n",
    "**Quench and Compression**\n",
    "- Rapid water quench to 114C\n",
    "- Compression to 18.8 bar for absorption\n",
    "\n",
    "**4. Acetylene Absorption**\n",
    "- Acetylene absorbed in water solvent\n",
    "- Separates acetylene-rich stream from H2-rich stream\n",
    "\n",
    "**5. Conversion to Acetylene Black**\n",
    "- **Acetylene-rich stream\n",
    "- **Temperature:** 2000C\n",
    "- **Reaction:** C2H2 &rarr; 2C(s) + H2\n",
    "- **Product:** Acetylene Black (premium carbon black)\n",
    "- Additional hydrogen recovered and recycled\n",
    "\n",
    "**6. Hydrogen Purification**\n",
    "- Pressure Swing Absoroption (PSA)\n",
    "- **Final Purity:** 99.9% H2\n",
    "- **Production:** 393.1 kg/hr\n",
    "\n",
    "**7. Solids Processing**\n",
    "- Solid carbon collected via cyclone\n",
    "- **Grade:** Acetylene Black (premium conductive)\n",
    "- **Production:** 824.6 kg/hr\n",
    "\n",
    "---\n",
    "\n",
    "## Key Process Specifications\n",
    "\n",
    "### Feed Composition (ASPEN Stream: Feed (1))\n",
    "\n",
    "\n",
    "| Component | kg/hr | % by mass |\n",
    "|-----------|-------|-----------|\n",
    "| Methane (CH₄) | 1741.4 | 90.5% |\n",
    "| Carbon Dioxide (CO₂) | 149.3 | 7.8% |\n",
    "| Nitrogen (N₂) | 25.3 | 1.3% |\n",
    "| H₂S (trace) | 0.02 | <0.01% |\n",
    "| **Total** | **1923** | **100%** |\n",
    "\n",
    "### Product Streams (ASPEN Stream: HYDPROD(34), CARBON(28))\n",
    "\n",
    "| Product | kg/hr | tonnes/day | tonnes/year |\n",
    "|---------|-------|------------|-------------|\n",
    "| Hydrogen (99.9%) | 393.1 | 9.43 | 3,100 |\n",
    "| Acetylene Black | 824.6 | 19.79 | 6,500 |\n",
    "\n",
    "### Energy Consumption\n",
    "\n",
    "| Utility | Consumption | Annual Cost |\n",
    "|---------|-------------|-------------|\n",
    "| Electricity (total) | 14,480 kW | $8,365,843 |\n",
    "| Cooling Water | 237,847 L/hr | $51,861 |\n",
    "| Process Water | 252 L/hr | $539 |\n",
    "\n",
    "---\n",
    "\n",
    "## Based on an Original Publication at the University of Pennsylvania\n",
    "\n",
    "**Title:** \"Natural Gas Conversion into Clean Hydrogen and Carbon for Li-Ion Battery Electrodes Using Renewable Energy\"\n",
    "\n",
    "**Authors:** Adam Ritter, Sydney Levine, Skylar Cannon\n",
    "\n",
    "**Advisors:** Dr. Matthew Targett, Dr. Warren Seider\n",
    "\n",
    "**Institution:** University of Pennsylvania, Department of Chemical and Biomolecular Engineering\n",
    "\n",
    "**Year:** 2022\n",
    "\n",
    "**Note:** This analysis uses ASPEN Plus simulation results from our original design project. I've taken this opportunity to expand and refine the economic analysis, siting assessment, and uncertainty analysis.\n",
    "\n",
    "[Link to thesis](https://repository.upenn.edu/entities/publication/89c4a34b-5df2-4229-b0c5-94324f8dcfd4)\n"
   ]
  },
  {
   "cell_type": "code",
   "execution_count": 1581,
   "id": "2d2b0f20",
   "metadata": {},
   "outputs": [
    {
     "name": "stdout",
     "output_type": "stream",
     "text": [
      "✓ Libraries imported successfully\n",
      "✓ Analysis Date: November 2025\n",
      "✓ Based on: Penn CBE Senior Design Project 2022\n",
      "✓ Process parameters are sourced from the original project data. Economic assumptions have been updated to reflect 2025 market conditions.\n"
     ]
    }
   ],
   "source": [
    "import pandas as pd\n",
    "import numpy as np\n",
    "import matplotlib.pyplot as plt\n",
    "import seaborn as sns\n",
    "import plotly.graph_objects as go\n",
    "import plotly.express as px\n",
    "from plotly.subplots import make_subplots\n",
    "import numpy_financial as npf\n",
    "import warnings\n",
    "warnings.filterwarnings(\"ignore\")\n",
    "\n",
    "sns.set_style(\"whitegrid\")\n",
    "plt.rcParams['figure.figsize'] = (12, 6)\n",
    "plt.rcParams['font.size'] = 11\n",
    "\n",
    "print(\"✓ Libraries imported successfully\")\n",
    "print(f\"✓ Analysis Date: November 2025\")\n",
    "print(f\"✓ Based on: Penn CBE Senior Design Project 2022\")\n",
    "print(f\"✓ Process parameters are sourced from the original project data. Economic assumptions have been updated to reflect 2025 market conditions.\")"
   ]
  },
  {
   "cell_type": "code",
   "execution_count": 1582,
   "id": "8165cc86",
   "metadata": {},
   "outputs": [
    {
     "name": "stdout",
     "output_type": "stream",
     "text": [
      "================================================================================\n",
      "PROCESS PARAMETERS (from ASPEN Plus Simulation)\n",
      "================================================================================\n"
     ]
    },
    {
     "data": {
      "text/html": [
       "<div>\n",
       "<style scoped>\n",
       "    .dataframe tbody tr th:only-of-type {\n",
       "        vertical-align: middle;\n",
       "    }\n",
       "\n",
       "    .dataframe tbody tr th {\n",
       "        vertical-align: top;\n",
       "    }\n",
       "\n",
       "    .dataframe thead th {\n",
       "        text-align: right;\n",
       "    }\n",
       "</style>\n",
       "<table border=\"1\" class=\"dataframe\">\n",
       "  <thead>\n",
       "    <tr style=\"text-align: right;\">\n",
       "      <th></th>\n",
       "      <th>parameter</th>\n",
       "      <th>value</th>\n",
       "      <th>unit</th>\n",
       "      <th>source</th>\n",
       "      <th>notes</th>\n",
       "    </tr>\n",
       "  </thead>\n",
       "  <tbody>\n",
       "    <tr>\n",
       "      <th>0</th>\n",
       "      <td>rng_feed_rate</td>\n",
       "      <td>1923.00</td>\n",
       "      <td>kg/hr</td>\n",
       "      <td>ASPEN FEED stream</td>\n",
       "      <td>renewable natural gas input rate</td>\n",
       "    </tr>\n",
       "    <tr>\n",
       "      <th>1</th>\n",
       "      <td>hydrogen_production_rate</td>\n",
       "      <td>393.10</td>\n",
       "      <td>kg/hr</td>\n",
       "      <td>ASPEN HYDPROD stream</td>\n",
       "      <td>Purified hydrogen product</td>\n",
       "    </tr>\n",
       "    <tr>\n",
       "      <th>2</th>\n",
       "      <td>acetylene_black_production_rate</td>\n",
       "      <td>824.60</td>\n",
       "      <td>kg/hr</td>\n",
       "      <td>ASPEN CARBON stream</td>\n",
       "      <td>Solid carbon product</td>\n",
       "    </tr>\n",
       "    <tr>\n",
       "      <th>3</th>\n",
       "      <td>process_water_rate</td>\n",
       "      <td>252.00</td>\n",
       "      <td>L/hr</td>\n",
       "      <td>Absorption tower</td>\n",
       "      <td>Process water input</td>\n",
       "    </tr>\n",
       "    <tr>\n",
       "      <th>4</th>\n",
       "      <td>cooling_water_rate</td>\n",
       "      <td>237847.00</td>\n",
       "      <td>L/hr</td>\n",
       "      <td>Cooler 1-3 and Flash 1</td>\n",
       "      <td>Cooling water input</td>\n",
       "    </tr>\n",
       "    <tr>\n",
       "      <th>5</th>\n",
       "      <td>co2_production_rate</td>\n",
       "      <td>4.50</td>\n",
       "      <td>kg/hr</td>\n",
       "      <td>ASPEN net CO2 production</td>\n",
       "      <td>CO2 byproduct from reactor</td>\n",
       "    </tr>\n",
       "    <tr>\n",
       "      <th>6</th>\n",
       "      <td>plant_lifetime</td>\n",
       "      <td>20.00</td>\n",
       "      <td>years</td>\n",
       "      <td>Financial analysis</td>\n",
       "      <td>Economic evaluation basis</td>\n",
       "    </tr>\n",
       "    <tr>\n",
       "      <th>7</th>\n",
       "      <td>capacity_factor</td>\n",
       "      <td>91.00</td>\n",
       "      <td>percent</td>\n",
       "      <td>industry standard</td>\n",
       "      <td>percentage actual operating time</td>\n",
       "    </tr>\n",
       "    <tr>\n",
       "      <th>8</th>\n",
       "      <td>reactor_temperature</td>\n",
       "      <td>2000.00</td>\n",
       "      <td>celsius</td>\n",
       "      <td>ASPEN R1OUT stream</td>\n",
       "      <td>Pentacarbon reactor</td>\n",
       "    </tr>\n",
       "    <tr>\n",
       "      <th>9</th>\n",
       "      <td>reactor_pressure</td>\n",
       "      <td>2.07</td>\n",
       "      <td>bar</td>\n",
       "      <td>ASPEN R1OUT stream</td>\n",
       "      <td>Slightly above atmospheric</td>\n",
       "    </tr>\n",
       "    <tr>\n",
       "      <th>10</th>\n",
       "      <td>power_requirement</td>\n",
       "      <td>14481.00</td>\n",
       "      <td>kW</td>\n",
       "      <td>process simulation</td>\n",
       "      <td>Reactor + compression + pumps</td>\n",
       "    </tr>\n",
       "  </tbody>\n",
       "</table>\n",
       "</div>"
      ],
      "text/plain": [
       "                          parameter      value     unit  \\\n",
       "0                     rng_feed_rate    1923.00    kg/hr   \n",
       "1          hydrogen_production_rate     393.10    kg/hr   \n",
       "2   acetylene_black_production_rate     824.60    kg/hr   \n",
       "3                process_water_rate     252.00     L/hr   \n",
       "4                cooling_water_rate  237847.00     L/hr   \n",
       "5               co2_production_rate       4.50    kg/hr   \n",
       "6                    plant_lifetime      20.00    years   \n",
       "7                   capacity_factor      91.00  percent   \n",
       "8               reactor_temperature    2000.00  celsius   \n",
       "9                  reactor_pressure       2.07      bar   \n",
       "10                power_requirement   14481.00       kW   \n",
       "\n",
       "                       source                             notes  \n",
       "0           ASPEN FEED stream  renewable natural gas input rate  \n",
       "1        ASPEN HYDPROD stream         Purified hydrogen product  \n",
       "2         ASPEN CARBON stream              Solid carbon product  \n",
       "3            Absorption tower               Process water input  \n",
       "4      Cooler 1-3 and Flash 1               Cooling water input  \n",
       "5    ASPEN net CO2 production        CO2 byproduct from reactor  \n",
       "6          Financial analysis         Economic evaluation basis  \n",
       "7           industry standard  percentage actual operating time  \n",
       "8          ASPEN R1OUT stream               Pentacarbon reactor  \n",
       "9          ASPEN R1OUT stream        Slightly above atmospheric  \n",
       "10         process simulation     Reactor + compression + pumps  "
      ]
     },
     "metadata": {},
     "output_type": "display_data"
    },
    {
     "name": "stdout",
     "output_type": "stream",
     "text": [
      "\n",
      "================================================================================\n",
      "ECONOMIC ASSUMPTIONS (from Financial Analysis)\n",
      "================================================================================\n"
     ]
    },
    {
     "data": {
      "text/html": [
       "<div>\n",
       "<style scoped>\n",
       "    .dataframe tbody tr th:only-of-type {\n",
       "        vertical-align: middle;\n",
       "    }\n",
       "\n",
       "    .dataframe tbody tr th {\n",
       "        vertical-align: top;\n",
       "    }\n",
       "\n",
       "    .dataframe thead th {\n",
       "        text-align: right;\n",
       "    }\n",
       "</style>\n",
       "<table border=\"1\" class=\"dataframe\">\n",
       "  <thead>\n",
       "    <tr style=\"text-align: right;\">\n",
       "      <th></th>\n",
       "      <th>parameter</th>\n",
       "      <th>value</th>\n",
       "      <th>unit</th>\n",
       "      <th>notes</th>\n",
       "      <th>calculation_basis</th>\n",
       "    </tr>\n",
       "  </thead>\n",
       "  <tbody>\n",
       "    <tr>\n",
       "      <th>0</th>\n",
       "      <td>rng_price</td>\n",
       "      <td>1.800000e-01</td>\n",
       "      <td>USD/kg</td>\n",
       "      <td>Renewable natural gas 2025</td>\n",
       "      <td>Updated from $0.16</td>\n",
       "    </tr>\n",
       "    <tr>\n",
       "      <th>1</th>\n",
       "      <td>electricity_price</td>\n",
       "      <td>6.500000e-02</td>\n",
       "      <td>USD/kWh</td>\n",
       "      <td>Industrial rate 2025</td>\n",
       "      <td>Updated from $0.07</td>\n",
       "    </tr>\n",
       "    <tr>\n",
       "      <th>2</th>\n",
       "      <td>hydrogen_price</td>\n",
       "      <td>4.000000e+00</td>\n",
       "      <td>USD/kg</td>\n",
       "      <td>Wholesale price 2025</td>\n",
       "      <td>Updated from $3.18</td>\n",
       "    </tr>\n",
       "    <tr>\n",
       "      <th>3</th>\n",
       "      <td>acetylene_black_price</td>\n",
       "      <td>2.200000e+00</td>\n",
       "      <td>USD/kg</td>\n",
       "      <td>Premium carbon black 2025</td>\n",
       "      <td>Updated from $2.00</td>\n",
       "    </tr>\n",
       "    <tr>\n",
       "      <th>4</th>\n",
       "      <td>cooling_water_price</td>\n",
       "      <td>2.700000e-05</td>\n",
       "      <td>USD/L</td>\n",
       "      <td>Utility cost</td>\n",
       "      <td>Industrial water rate</td>\n",
       "    </tr>\n",
       "    <tr>\n",
       "      <th>5</th>\n",
       "      <td>process_water_price</td>\n",
       "      <td>2.700000e-04</td>\n",
       "      <td>USD/L</td>\n",
       "      <td>Utility cost</td>\n",
       "      <td>Treated water rate</td>\n",
       "    </tr>\n",
       "    <tr>\n",
       "      <th>6</th>\n",
       "      <td>discount_rate</td>\n",
       "      <td>1.500000e+01</td>\n",
       "      <td>percent</td>\n",
       "      <td>WACC assumption</td>\n",
       "      <td>For NPV calculation</td>\n",
       "    </tr>\n",
       "    <tr>\n",
       "      <th>7</th>\n",
       "      <td>depreciation_rate</td>\n",
       "      <td>8.000000e+00</td>\n",
       "      <td>percent</td>\n",
       "      <td>straight-line depreciation</td>\n",
       "      <td>Annual depreciation expense</td>\n",
       "    </tr>\n",
       "    <tr>\n",
       "      <th>8</th>\n",
       "      <td>average_salvage_value</td>\n",
       "      <td>1.000000e+01</td>\n",
       "      <td>percent</td>\n",
       "      <td>average end of life asset value</td>\n",
       "      <td>Percent of initial capital cost</td>\n",
       "    </tr>\n",
       "    <tr>\n",
       "      <th>9</th>\n",
       "      <td>general_variable_expense_rate</td>\n",
       "      <td>1.155000e+01</td>\n",
       "      <td>percent</td>\n",
       "      <td>selling/transfer/admin/research/incentive</td>\n",
       "      <td>percent of total revenue</td>\n",
       "    </tr>\n",
       "    <tr>\n",
       "      <th>10</th>\n",
       "      <td>operators_per_shift</td>\n",
       "      <td>1.000000e+00</td>\n",
       "      <td>operators/shift</td>\n",
       "      <td>Plant Operators</td>\n",
       "      <td>number of operators per shift</td>\n",
       "    </tr>\n",
       "    <tr>\n",
       "      <th>11</th>\n",
       "      <td>shifts_per_day</td>\n",
       "      <td>5.000000e+00</td>\n",
       "      <td>shifts/day</td>\n",
       "      <td>Shifts per Day</td>\n",
       "      <td>number of shifts per day</td>\n",
       "    </tr>\n",
       "    <tr>\n",
       "      <th>12</th>\n",
       "      <td>direct_hourly_wages</td>\n",
       "      <td>4.000000e+01</td>\n",
       "      <td>USD/hour</td>\n",
       "      <td>Direct Wages</td>\n",
       "      <td>hourly wage per operator</td>\n",
       "    </tr>\n",
       "    <tr>\n",
       "      <th>13</th>\n",
       "      <td>equipment_purchase_cost</td>\n",
       "      <td>1.400000e+07</td>\n",
       "      <td>USD</td>\n",
       "      <td>Total equipment purchase cost</td>\n",
       "      <td>Sum of major equipment items</td>\n",
       "    </tr>\n",
       "    <tr>\n",
       "      <th>14</th>\n",
       "      <td>bare_module_factor</td>\n",
       "      <td>3.210000e+00</td>\n",
       "      <td>NaN</td>\n",
       "      <td>Bare module cost factor</td>\n",
       "      <td>Includes installation/piping/instrumentation/e...</td>\n",
       "    </tr>\n",
       "    <tr>\n",
       "      <th>15</th>\n",
       "      <td>average_salvage_rate</td>\n",
       "      <td>1.000000e+01</td>\n",
       "      <td>percent</td>\n",
       "      <td>average end of life asset value</td>\n",
       "      <td>Percent of initial capital cost</td>\n",
       "    </tr>\n",
       "  </tbody>\n",
       "</table>\n",
       "</div>"
      ],
      "text/plain": [
       "                        parameter         value             unit  \\\n",
       "0                       rng_price  1.800000e-01           USD/kg   \n",
       "1               electricity_price  6.500000e-02          USD/kWh   \n",
       "2                  hydrogen_price  4.000000e+00           USD/kg   \n",
       "3           acetylene_black_price  2.200000e+00           USD/kg   \n",
       "4             cooling_water_price  2.700000e-05            USD/L   \n",
       "5             process_water_price  2.700000e-04            USD/L   \n",
       "6                   discount_rate  1.500000e+01          percent   \n",
       "7               depreciation_rate  8.000000e+00          percent   \n",
       "8           average_salvage_value  1.000000e+01          percent   \n",
       "9   general_variable_expense_rate  1.155000e+01          percent   \n",
       "10            operators_per_shift  1.000000e+00  operators/shift   \n",
       "11                 shifts_per_day  5.000000e+00       shifts/day   \n",
       "12            direct_hourly_wages  4.000000e+01         USD/hour   \n",
       "13        equipment_purchase_cost  1.400000e+07              USD   \n",
       "14             bare_module_factor  3.210000e+00              NaN   \n",
       "15           average_salvage_rate  1.000000e+01          percent   \n",
       "\n",
       "                                        notes  \\\n",
       "0                  Renewable natural gas 2025   \n",
       "1                        Industrial rate 2025   \n",
       "2                        Wholesale price 2025   \n",
       "3                   Premium carbon black 2025   \n",
       "4                                Utility cost   \n",
       "5                                Utility cost   \n",
       "6                             WACC assumption   \n",
       "7                  straight-line depreciation   \n",
       "8             average end of life asset value   \n",
       "9   selling/transfer/admin/research/incentive   \n",
       "10                            Plant Operators   \n",
       "11                             Shifts per Day   \n",
       "12                               Direct Wages   \n",
       "13              Total equipment purchase cost   \n",
       "14                    Bare module cost factor   \n",
       "15            average end of life asset value   \n",
       "\n",
       "                                    calculation_basis  \n",
       "0                                  Updated from $0.16  \n",
       "1                                  Updated from $0.07  \n",
       "2                                  Updated from $3.18  \n",
       "3                                  Updated from $2.00  \n",
       "4                               Industrial water rate  \n",
       "5                                  Treated water rate  \n",
       "6                                 For NPV calculation  \n",
       "7                         Annual depreciation expense  \n",
       "8                     Percent of initial capital cost  \n",
       "9                            percent of total revenue  \n",
       "10                      number of operators per shift  \n",
       "11                           number of shifts per day  \n",
       "12                           hourly wage per operator  \n",
       "13                       Sum of major equipment items  \n",
       "14  Includes installation/piping/instrumentation/e...  \n",
       "15                    Percent of initial capital cost  "
      ]
     },
     "metadata": {},
     "output_type": "display_data"
    },
    {
     "name": "stdout",
     "output_type": "stream",
     "text": [
      "\n",
      "================================================================================\n",
      "SENSITIVITY ANALYSIS RANGES\n",
      "================================================================================\n"
     ]
    },
    {
     "data": {
      "text/html": [
       "<div>\n",
       "<style scoped>\n",
       "    .dataframe tbody tr th:only-of-type {\n",
       "        vertical-align: middle;\n",
       "    }\n",
       "\n",
       "    .dataframe tbody tr th {\n",
       "        vertical-align: top;\n",
       "    }\n",
       "\n",
       "    .dataframe thead th {\n",
       "        text-align: right;\n",
       "    }\n",
       "</style>\n",
       "<table border=\"1\" class=\"dataframe\">\n",
       "  <thead>\n",
       "    <tr style=\"text-align: right;\">\n",
       "      <th></th>\n",
       "      <th>parameter</th>\n",
       "      <th>base_value</th>\n",
       "      <th>low_value</th>\n",
       "      <th>high_value</th>\n",
       "      <th>unit</th>\n",
       "      <th>notes</th>\n",
       "    </tr>\n",
       "  </thead>\n",
       "  <tbody>\n",
       "    <tr>\n",
       "      <th>0</th>\n",
       "      <td>electricity_price</td>\n",
       "      <td>0.07</td>\n",
       "      <td>0.04</td>\n",
       "      <td>0.10</td>\n",
       "      <td>USD/kWh</td>\n",
       "      <td>Regional variation ±40%</td>\n",
       "    </tr>\n",
       "    <tr>\n",
       "      <th>1</th>\n",
       "      <td>hydrogen_price</td>\n",
       "      <td>4.00</td>\n",
       "      <td>2.00</td>\n",
       "      <td>6.00</td>\n",
       "      <td>USD/kg</td>\n",
       "      <td>Market volatility scenarios</td>\n",
       "    </tr>\n",
       "    <tr>\n",
       "      <th>2</th>\n",
       "      <td>acetylene_black_price</td>\n",
       "      <td>2.00</td>\n",
       "      <td>1.00</td>\n",
       "      <td>3.00</td>\n",
       "      <td>USD/kg</td>\n",
       "      <td>Grade and market dependent</td>\n",
       "    </tr>\n",
       "    <tr>\n",
       "      <th>3</th>\n",
       "      <td>rng_price</td>\n",
       "      <td>0.16</td>\n",
       "      <td>0.10</td>\n",
       "      <td>0.22</td>\n",
       "      <td>USD/kg</td>\n",
       "      <td>Feedstock cost variation</td>\n",
       "    </tr>\n",
       "    <tr>\n",
       "      <th>4</th>\n",
       "      <td>capex_total</td>\n",
       "      <td>45000000.00</td>\n",
       "      <td>30000000.00</td>\n",
       "      <td>60000000.00</td>\n",
       "      <td>USD</td>\n",
       "      <td>±33% contingency</td>\n",
       "    </tr>\n",
       "    <tr>\n",
       "      <th>5</th>\n",
       "      <td>carbon_conversion</td>\n",
       "      <td>90.00</td>\n",
       "      <td>85.00</td>\n",
       "      <td>95.00</td>\n",
       "      <td>percent</td>\n",
       "      <td>Process performance range</td>\n",
       "    </tr>\n",
       "    <tr>\n",
       "      <th>6</th>\n",
       "      <td>capacity_factor</td>\n",
       "      <td>91.70</td>\n",
       "      <td>85.00</td>\n",
       "      <td>95.00</td>\n",
       "      <td>percent</td>\n",
       "      <td>Operational reliability</td>\n",
       "    </tr>\n",
       "    <tr>\n",
       "      <th>7</th>\n",
       "      <td>discount_rate</td>\n",
       "      <td>15.00</td>\n",
       "      <td>10.00</td>\n",
       "      <td>20.00</td>\n",
       "      <td>percent</td>\n",
       "      <td>Financial assumption range</td>\n",
       "    </tr>\n",
       "  </tbody>\n",
       "</table>\n",
       "</div>"
      ],
      "text/plain": [
       "               parameter   base_value    low_value   high_value     unit  \\\n",
       "0      electricity_price         0.07         0.04         0.10  USD/kWh   \n",
       "1         hydrogen_price         4.00         2.00         6.00   USD/kg   \n",
       "2  acetylene_black_price         2.00         1.00         3.00   USD/kg   \n",
       "3              rng_price         0.16         0.10         0.22   USD/kg   \n",
       "4            capex_total  45000000.00  30000000.00  60000000.00      USD   \n",
       "5      carbon_conversion        90.00        85.00        95.00  percent   \n",
       "6        capacity_factor        91.70        85.00        95.00  percent   \n",
       "7          discount_rate        15.00        10.00        20.00  percent   \n",
       "\n",
       "                         notes  \n",
       "0      Regional variation ±40%  \n",
       "1  Market volatility scenarios  \n",
       "2   Grade and market dependent  \n",
       "3     Feedstock cost variation  \n",
       "4             ±33% contingency  \n",
       "5    Process performance range  \n",
       "6      Operational reliability  \n",
       "7   Financial assumption range  "
      ]
     },
     "metadata": {},
     "output_type": "display_data"
    }
   ],
   "source": [
    "# load csv data, define a function to extract values, display dataframes\n",
    "process_params = pd.read_csv('data/process_parameters.csv')\n",
    "econ_assumptions = pd.read_csv('data/economic_assumptions.csv')\n",
    "sensitivity_ranges = pd.read_csv('data/sensitivity_ranges.csv')\n",
    "\n",
    "def get_value(df, param_name):\n",
    "    return df[df['parameter'] == param_name]['value'].values[0]\n",
    "\n",
    "print(\"=\"*80)\n",
    "print(\"PROCESS PARAMETERS (from ASPEN Plus Simulation)\")\n",
    "print(\"=\"*80)\n",
    "display(process_params)\n",
    "\n",
    "print(\"\\n\" + \"=\"*80)\n",
    "print(\"ECONOMIC ASSUMPTIONS (from Financial Analysis)\")\n",
    "print(\"=\"*80)\n",
    "display(econ_assumptions)\n",
    "\n",
    "print(\"\\n\" + \"=\"*80)\n",
    "print(\"SENSITIVITY ANALYSIS RANGES\")\n",
    "print(\"=\"*80)\n",
    "display(sensitivity_ranges)"
   ]
  },
  {
   "cell_type": "code",
   "execution_count": 1583,
   "id": "fde48952",
   "metadata": {},
   "outputs": [],
   "source": [
    "# extract parameters for key metric calculations\n",
    "\n",
    "# process parameters\n",
    "# hydrogen_production_rate = get_value(process_params, 'hydrogen_production_rate')  # kg/hr\n",
    "# acetylene_black_production_rate = get_value(process_params, 'acetylene_black_production_rate')  # kg/hr\n",
    "# annual_operating_days = get_value(process_params, 'annual_operating_days')\n",
    "# plant_lifetime = get_value(process_params, 'plant_lifetime')\n",
    "# capacity_factor = get_value(process_params, 'plant_capacity_factor') / 100\n",
    "# energy_per_kg_h2 = get_value(process_params, 'energy_per_kg_h2')\n",
    "# co2_per_kg_h2 = get_value(process_params, 'co2_per_kg_h2')\n",
    "# water_per_kg_h2 = get_value(process_params, 'water_per_kg_h2')\n",
    "\n",
    "# prices\n",
    "# h2_price = get_value(econ_assumptions, 'hydrogen_price')\n",
    "# cb_price = get_value(econ_assumptions, 'acetylene_black_price')\n",
    "# electricity_price = get_value(econ_assumptions, 'electricity_price')\n",
    "# rng_price = get_value(econ_assumptions, 'rng_price')\n",
    "# discount_rate = get_value(econ_assumptions, 'discount_rate') / 100\n",
    "\n",
    "# calculate economic parameters\n",
    "# capex = get_value(econ_assumptions, 'capex_total')\n",
    "# h2_revenue = get_value(econ_assumptions, 'annual_hydrogen_revenue')\n",
    "# cb_revenue = get_value(econ_assumptions, 'annual_acetylene_black_revenue')\n",
    "# #total_revenue = get_value(econ_assumptions, 'total_annual_revenue')\n",
    "# variable_costs = get_value(econ_assumptions, 'total_annual_variable_costs')\n",
    "# gross_margin = get_value(econ_assumptions, 'annual_gross_margin')\n",
    "# npv = get_value(econ_assumptions, 'npv_20_year')\n",
    "# irr = get_value(econ_assumptions, 'irr')\n",
    "# payback = get_value(econ_assumptions, 'payback_period')\n",
    "# lcoh = get_value(econ_assumptions, 'lcoh')\n"
   ]
  },
  {
   "cell_type": "code",
   "execution_count": 1584,
   "id": "5a07ec0b",
   "metadata": {},
   "outputs": [],
   "source": [
    "# #calculate key metrics and print summary\n",
    "\n",
    "# #process\n",
    "# operating_hours = annual_operating_days * 24\n",
    "# annual_h2_rate = h2_rate * operating_hours\n",
    "\n",
    "# h2_revenue = h2_price * h2_annual\n",
    "# cb_revenue = cb_price * cb_annual\n",
    "\n",
    "# print(\"=\"*80)\n",
    "# print(\"KEY PERFORMANCE METRICS\")\n",
    "# print(\"=\"*80)\n",
    "\n",
    "# print(f\"\\n📊 PRODUCTION CAPACITY:\")\n",
    "# print(f\"   Hydrogen: {h2_rate:,.1f} kg/hr = {h2_annual/1000:,.1f} tonnes/year\")\n",
    "# print(f\"   Acetylene Black: {cb_rate:,.1f} kg/hr = {cb_annual/1000:,.1f} tonnes/year\")\n",
    "# print(f\"   Capacity Factor: {capacity_factor*100:.1f}%\")\n",
    "# print(f\"   Operating Hours: {operating_hours:,.0f} hrs/year\")\n",
    "\n",
    "# print(f\"\\n💰 FINANCIAL PERFORMANCE:\")\n",
    "# print(f\"   Total CapEx: ${capex/1e6:.2f} million\")\n",
    "# print(f\"   Annual Revenue: ${total_revenue/1e6:.2f} million\")\n",
    "# print(f\"   Annual Variable Costs: ${variable_costs/1e6:.2f} million\")\n",
    "# print(f\"   Gross Margin: ${gross_margin/1e6:.2f} million ({gross_margin/total_revenue*100:.1f}%)\")\n",
    "# print(f\"   NPV (20 yr, 15%): ${npv/1e6:.2f} million\")\n",
    "# print(f\"   IRR: {irr:.2f}%\")\n",
    "# print(f\"   Payback: {payback:.1f} years\")\n",
    "# print(f\"   LCOH: ${lcoh:.2f}/kg H₂\")\n",
    "\n",
    "# print(f\"\\n💵 MARKET PRICES:\")\n",
    "# print(f\"   Hydrogen: ${h2_price}/kg (wholesale)\")\n",
    "# print(f\"   Acetylene Black: ${cb_price}/kg (premium grade)\")\n",
    "# print(f\"   Electricity: ${electricity_price}/kWh\")\n",
    "# print(f\"   RNG Feedstock: ${rng_price}/kg\")\n",
    "\n",
    "# print(f\"\\n🌍 ENVIRONMENTAL:\")\n",
    "# print(f\"   CO₂ Intensity: {co2_per_kg_h2} kg CO₂eq/kg H₂\")\n",
    "# print(f\"   Water Intensity: {water_per_kg_h2} kg H₂O/kg H₂\")\n",
    "# print(f\"   Energy Intensity: {energy_per_kg_h2} kWh/kg H₂\")\n",
    "\n",
    "# # revenue breakdown\n",
    "# h2_revenue_pct = h2_revenue / total_revenue * 100\n",
    "# cb_revenue_pct = cb_revenue / total_revenue * 100\n",
    "# print(f\"\\n📈 REVENUE MIX:\")\n",
    "# print(f\"   Hydrogen: {h2_revenue_pct:.1f}% (${h2_revenue/1e6:.2f}M)\")\n",
    "# print(f\"   Acetylene Black: {cb_revenue_pct:.1f}% (${cb_revenue/1e6:.2f}M)\")\n",
    "\n"
   ]
  },
  {
   "cell_type": "code",
   "execution_count": 1585,
   "id": "e82f3548",
   "metadata": {},
   "outputs": [],
   "source": [
    "# Extract process parameters and economic inputs\n",
    "\n",
    "#process\n",
    "rng_feed_rate = get_value(process_params, 'rng_feed_rate')  # kg/hr\n",
    "h2_rate = get_value(process_params, 'hydrogen_production_rate')  # kg/hr\n",
    "cb_rate = get_value(process_params, 'acetylene_black_production_rate')  # kg/hr\n",
    "co2_rate = get_value(process_params, 'co2_production_rate')  # kg/hr\n",
    "process_water_rate = get_value(process_params, 'process_water_rate')  # L/hr\n",
    "cooling_water_rate = get_value(process_params, 'cooling_water_rate')  # L/hr\n",
    "energy_rate = get_value(process_params, 'power_requirement')  # kW\n",
    "capacity_factor = get_value(process_params, 'capacity_factor') # percent\n",
    "plant_lifetime = get_value(process_params, 'plant_lifetime') # years\n",
    "\n",
    "#econ\n",
    "h2_price = get_value(econ_assumptions, 'hydrogen_price') # usd per kg\n",
    "cb_price = get_value(econ_assumptions, 'acetylene_black_price') # usd per kg\n",
    "electricity_price = get_value(econ_assumptions, 'electricity_price') # usd per kWh\n",
    "rng_price = get_value(econ_assumptions, 'rng_price') # usd per kg\n",
    "cooling_water_price = get_value(econ_assumptions, 'cooling_water_price') # usd per L\n",
    "process_water_price = get_value(econ_assumptions, 'process_water_price') # usd per L\n",
    "equipment_purchase_cost = get_value(econ_assumptions, 'equipment_purchase_cost') # usd\n",
    "bare_module_factor = get_value(econ_assumptions, 'bare_module_factor') # to calculate total installed cost\n",
    "discount_rate = get_value(econ_assumptions, 'discount_rate') / 100 # as decimal\n",
    "general_variable_expense_rate = get_value(econ_assumptions, 'general_variable_expense_rate') / 100 # as decimal\n",
    "salvage_rate = get_value(econ_assumptions, 'average_salvage_rate') # percent\n",
    "operators_per_shift = get_value(econ_assumptions, 'operators_per_shift') # number of operators per shift\n",
    "shifts_per_day = get_value(econ_assumptions, 'shifts_per_day') # number of shifts per day\n",
    "direct_hourly_wages = get_value(econ_assumptions, 'direct_hourly_wages') # usd per operator per hour"
   ]
  },
  {
   "cell_type": "code",
   "execution_count": 1586,
   "id": "3c79199f",
   "metadata": {},
   "outputs": [
    {
     "name": "stdout",
     "output_type": "stream",
     "text": [
      "================================================================================\n",
      "INITIAL PERFORMANCE METRICS\n",
      "================================================================================\n",
      "\n",
      "📊 PRODUCTION CAPACITY:\n",
      "   Hydrogen: 393.1 kg/hr = 3,133.6 tonnes/year\n",
      "   Acetylene Black: 824.6 kg/hr = 6,573.4 tonnes/year\n",
      "   Capacity Factor: 91.0%\n",
      "   Operating Hours: 7,972 hrs/year\n",
      "\n",
      "💰 FINANCIAL PERFORMANCE:\n",
      "   Total CapEx: $44.94 million\n",
      "   Annual Revenue: $27.00 million\n",
      "   Annual Variable Costs: $10.29 million\n",
      "   Gross Margin: $16.70 million (61.9%)\n",
      "   LCOH: $2.95/kg H₂\n",
      "\n",
      "💵 MARKET PRICES:\n",
      "   Hydrogen: $4.0/kg (wholesale)\n",
      "   Acetylene Black: $2.2/kg (premium grade)\n",
      "   Electricity: $0.065/kWh\n",
      "   RNG Feedstock: $0.18/kg\n",
      "\n",
      "🌍 ENVIRONMENTAL:\n",
      "   CO₂ Intensity: 0.01 kg CO₂eq/kg H₂\n",
      "   Water Intensity: 0.64 kg H₂O/kg H₂\n",
      "   Energy Intensity: 36.84 kWh/kg H₂\n"
     ]
    }
   ],
   "source": [
    "# calculate initial metrics and display\n",
    "\n",
    "#process\n",
    "annual_operating_days = 365 * capacity_factor / 100\n",
    "annual_operating_hours = annual_operating_days * 24\n",
    "hydrogen_production = h2_rate * annual_operating_hours  # kg/year\n",
    "acetylene_black_production = cb_rate * annual_operating_hours  # kg/year\n",
    "co2_per_h2 = co2_rate / h2_rate  # kg CO2/kg H2\n",
    "h2o_per_h2 = process_water_rate / h2_rate  # kg H2O/kg H2\n",
    "energy_per_h2 = energy_rate / h2_rate  # kWh/kg H2\n",
    "\n",
    "#econ\n",
    "#revenue\n",
    "h2_revenue = h2_price * hydrogen_production # usd/year\n",
    "cb_revenue = cb_price * acetylene_black_production # usd/year\n",
    "total_revenue = h2_revenue + cb_revenue # usd/year\n",
    "\n",
    "#variable costs\n",
    "electricity_cost = electricity_price * (energy_rate * annual_operating_hours) # usd/year\n",
    "rng_cost = rng_price * rng_feed_rate * annual_operating_hours # usd/year\n",
    "cooling_water_cost = cooling_water_price * cooling_water_rate * annual_operating_hours # usd/year\n",
    "process_water_cost = process_water_price * process_water_rate * annual_operating_hours # usd/year\n",
    "general_variable_expenses = general_variable_expense_rate / 100 * total_revenue # usd/year, includes selling/transfer expenses, research, admin expenses, management incentives\n",
    "variable_opex = electricity_cost + rng_cost + process_water_cost + general_variable_expenses # usd/year\n",
    "\n",
    "#fixed costs\n",
    "capex = equipment_purchase_cost * bare_module_factor # usd, total installed cost\n",
    "labor_cost = operators_per_shift * shifts_per_day * direct_hourly_wages * annual_operating_days # usd/year\n",
    "operations_cost = .21 * direct_hourly_wages * operators_per_shift * shifts_per_day * annual_operating_days + 125000 # 21% of direct wages + 125,000 usd/year technical assistance\n",
    "maintenance_cost = .1035 * capex # 10.35% of capex, including salaries and benefits, materials and services, overhead\n",
    "operating_overhead = .0103 * capex # 1.03% of capex, including general plant overhead, mechanical department services, employee relations, business services\n",
    "taxes_insurance = .02 * capex # 2% of capex for taxes and insurance\n",
    "fixed_opex = labor_cost + operations_cost + maintenance_cost + operating_overhead + taxes_insurance # usd/year\n",
    "\n",
    "crf = discount_rate * (1 + discount_rate) ** plant_lifetime / ((1 + discount_rate) ** plant_lifetime - 1)  # capital recovery factor\n",
    "annual_capex = capex * crf # usd/year\n",
    "gross_margin = total_revenue - variable_opex # usd/year\n",
    "lcoh = (variable_opex + fixed_opex + annual_capex - cb_revenue) / hydrogen_production  # usd/kg H2\n",
    "\n",
    "print(\"=\"*80)\n",
    "print(\"INITIAL PERFORMANCE METRICS\")\n",
    "print(\"=\"*80)\n",
    "\n",
    "print(f\"\\n📊 PRODUCTION CAPACITY:\")\n",
    "print(f\"   Hydrogen: {h2_rate:,.1f} kg/hr = {hydrogen_production/1000:,.1f} tonnes/year\")\n",
    "print(f\"   Acetylene Black: {cb_rate:,.1f} kg/hr = {acetylene_black_production/1000:,.1f} tonnes/year\")\n",
    "print(f\"   Capacity Factor: {capacity_factor:.1f}%\")\n",
    "print(f\"   Operating Hours: {annual_operating_hours:,.0f} hrs/year\")\n",
    "\n",
    "print(f\"\\n💰 FINANCIAL PERFORMANCE:\")\n",
    "print(f\"   Total CapEx: ${capex/1e6:.2f} million\")\n",
    "print(f\"   Annual Revenue: ${total_revenue/1e6:.2f} million\")\n",
    "print(f\"   Annual Variable Costs: ${variable_opex/1e6:.2f} million\")\n",
    "print(f\"   Gross Margin: ${gross_margin/1e6:.2f} million ({gross_margin/total_revenue*100:.1f}%)\")\n",
    "print(f\"   LCOH: ${lcoh:.2f}/kg H₂\")\n",
    "\n",
    "print(f\"\\n💵 MARKET PRICES:\")\n",
    "print(f\"   Hydrogen: ${h2_price}/kg (wholesale)\")\n",
    "print(f\"   Acetylene Black: ${cb_price}/kg (premium grade)\")\n",
    "print(f\"   Electricity: ${electricity_price}/kWh\")\n",
    "print(f\"   RNG Feedstock: ${rng_price}/kg\")\n",
    "\n",
    "print(f\"\\n🌍 ENVIRONMENTAL:\")\n",
    "print(f\"   CO₂ Intensity: {co2_per_h2:.2f} kg CO₂eq/kg H₂\")\n",
    "print(f\"   Water Intensity: {h2o_per_h2:.2f} kg H₂O/kg H₂\")\n",
    "print(f\"   Energy Intensity: {energy_per_h2:.2f} kWh/kg H₂\")"
   ]
  },
  {
   "cell_type": "code",
   "execution_count": 1587,
   "id": "5f286800",
   "metadata": {},
   "outputs": [
    {
     "data": {
      "application/vnd.plotly.v1+json": {
       "config": {
        "plotlyServerURL": "https://plot.ly"
       },
       "data": [
        {
         "marker": {
          "color": [
           "#3498db",
           "#95a5a6"
          ]
         },
         "showlegend": false,
         "text": [
          "$12.5M",
          "$14.5M"
         ],
         "textposition": "outside",
         "type": "bar",
         "x": [
          "Hydrogen",
          "Acetylene Black"
         ],
         "xaxis": "x",
         "y": {
          "bdata": "rkfh+mHoZ0HJdr7fP5VrQQ==",
          "dtype": "f8"
         },
         "yaxis": "y"
        },
        {
         "domain": {
          "x": [
           0.55,
           1
          ],
          "y": [
           0,
           1
          ]
         },
         "labels": [
          "Hydrogen",
          "Acetylene Black"
         ],
         "marker": {
          "colors": [
           "#3498db",
           "#95a5a6"
          ]
         },
         "showlegend": false,
         "textinfo": "label+percent",
         "type": "pie",
         "values": {
          "bdata": "rkfh+mHoZ0HJdr7fP5VrQQ==",
          "dtype": "f8"
         }
        }
       ],
       "layout": {
        "annotations": [
         {
          "font": {
           "size": 16
          },
          "showarrow": false,
          "text": "Annual Revenue by Product",
          "x": 0.225,
          "xanchor": "center",
          "xref": "paper",
          "y": 1,
          "yanchor": "bottom",
          "yref": "paper"
         },
         {
          "font": {
           "size": 16
          },
          "showarrow": false,
          "text": "Revenue Mix",
          "x": 0.775,
          "xanchor": "center",
          "xref": "paper",
          "y": 1,
          "yanchor": "bottom",
          "yref": "paper"
         }
        ],
        "height": 400,
        "showlegend": false,
        "template": {
         "data": {
          "bar": [
           {
            "error_x": {
             "color": "#2a3f5f"
            },
            "error_y": {
             "color": "#2a3f5f"
            },
            "marker": {
             "line": {
              "color": "#E5ECF6",
              "width": 0.5
             },
             "pattern": {
              "fillmode": "overlay",
              "size": 10,
              "solidity": 0.2
             }
            },
            "type": "bar"
           }
          ],
          "barpolar": [
           {
            "marker": {
             "line": {
              "color": "#E5ECF6",
              "width": 0.5
             },
             "pattern": {
              "fillmode": "overlay",
              "size": 10,
              "solidity": 0.2
             }
            },
            "type": "barpolar"
           }
          ],
          "carpet": [
           {
            "aaxis": {
             "endlinecolor": "#2a3f5f",
             "gridcolor": "white",
             "linecolor": "white",
             "minorgridcolor": "white",
             "startlinecolor": "#2a3f5f"
            },
            "baxis": {
             "endlinecolor": "#2a3f5f",
             "gridcolor": "white",
             "linecolor": "white",
             "minorgridcolor": "white",
             "startlinecolor": "#2a3f5f"
            },
            "type": "carpet"
           }
          ],
          "choropleth": [
           {
            "colorbar": {
             "outlinewidth": 0,
             "ticks": ""
            },
            "type": "choropleth"
           }
          ],
          "contour": [
           {
            "colorbar": {
             "outlinewidth": 0,
             "ticks": ""
            },
            "colorscale": [
             [
              0,
              "#0d0887"
             ],
             [
              0.1111111111111111,
              "#46039f"
             ],
             [
              0.2222222222222222,
              "#7201a8"
             ],
             [
              0.3333333333333333,
              "#9c179e"
             ],
             [
              0.4444444444444444,
              "#bd3786"
             ],
             [
              0.5555555555555556,
              "#d8576b"
             ],
             [
              0.6666666666666666,
              "#ed7953"
             ],
             [
              0.7777777777777778,
              "#fb9f3a"
             ],
             [
              0.8888888888888888,
              "#fdca26"
             ],
             [
              1,
              "#f0f921"
             ]
            ],
            "type": "contour"
           }
          ],
          "contourcarpet": [
           {
            "colorbar": {
             "outlinewidth": 0,
             "ticks": ""
            },
            "type": "contourcarpet"
           }
          ],
          "heatmap": [
           {
            "colorbar": {
             "outlinewidth": 0,
             "ticks": ""
            },
            "colorscale": [
             [
              0,
              "#0d0887"
             ],
             [
              0.1111111111111111,
              "#46039f"
             ],
             [
              0.2222222222222222,
              "#7201a8"
             ],
             [
              0.3333333333333333,
              "#9c179e"
             ],
             [
              0.4444444444444444,
              "#bd3786"
             ],
             [
              0.5555555555555556,
              "#d8576b"
             ],
             [
              0.6666666666666666,
              "#ed7953"
             ],
             [
              0.7777777777777778,
              "#fb9f3a"
             ],
             [
              0.8888888888888888,
              "#fdca26"
             ],
             [
              1,
              "#f0f921"
             ]
            ],
            "type": "heatmap"
           }
          ],
          "histogram": [
           {
            "marker": {
             "pattern": {
              "fillmode": "overlay",
              "size": 10,
              "solidity": 0.2
             }
            },
            "type": "histogram"
           }
          ],
          "histogram2d": [
           {
            "colorbar": {
             "outlinewidth": 0,
             "ticks": ""
            },
            "colorscale": [
             [
              0,
              "#0d0887"
             ],
             [
              0.1111111111111111,
              "#46039f"
             ],
             [
              0.2222222222222222,
              "#7201a8"
             ],
             [
              0.3333333333333333,
              "#9c179e"
             ],
             [
              0.4444444444444444,
              "#bd3786"
             ],
             [
              0.5555555555555556,
              "#d8576b"
             ],
             [
              0.6666666666666666,
              "#ed7953"
             ],
             [
              0.7777777777777778,
              "#fb9f3a"
             ],
             [
              0.8888888888888888,
              "#fdca26"
             ],
             [
              1,
              "#f0f921"
             ]
            ],
            "type": "histogram2d"
           }
          ],
          "histogram2dcontour": [
           {
            "colorbar": {
             "outlinewidth": 0,
             "ticks": ""
            },
            "colorscale": [
             [
              0,
              "#0d0887"
             ],
             [
              0.1111111111111111,
              "#46039f"
             ],
             [
              0.2222222222222222,
              "#7201a8"
             ],
             [
              0.3333333333333333,
              "#9c179e"
             ],
             [
              0.4444444444444444,
              "#bd3786"
             ],
             [
              0.5555555555555556,
              "#d8576b"
             ],
             [
              0.6666666666666666,
              "#ed7953"
             ],
             [
              0.7777777777777778,
              "#fb9f3a"
             ],
             [
              0.8888888888888888,
              "#fdca26"
             ],
             [
              1,
              "#f0f921"
             ]
            ],
            "type": "histogram2dcontour"
           }
          ],
          "mesh3d": [
           {
            "colorbar": {
             "outlinewidth": 0,
             "ticks": ""
            },
            "type": "mesh3d"
           }
          ],
          "parcoords": [
           {
            "line": {
             "colorbar": {
              "outlinewidth": 0,
              "ticks": ""
             }
            },
            "type": "parcoords"
           }
          ],
          "pie": [
           {
            "automargin": true,
            "type": "pie"
           }
          ],
          "scatter": [
           {
            "fillpattern": {
             "fillmode": "overlay",
             "size": 10,
             "solidity": 0.2
            },
            "type": "scatter"
           }
          ],
          "scatter3d": [
           {
            "line": {
             "colorbar": {
              "outlinewidth": 0,
              "ticks": ""
             }
            },
            "marker": {
             "colorbar": {
              "outlinewidth": 0,
              "ticks": ""
             }
            },
            "type": "scatter3d"
           }
          ],
          "scattercarpet": [
           {
            "marker": {
             "colorbar": {
              "outlinewidth": 0,
              "ticks": ""
             }
            },
            "type": "scattercarpet"
           }
          ],
          "scattergeo": [
           {
            "marker": {
             "colorbar": {
              "outlinewidth": 0,
              "ticks": ""
             }
            },
            "type": "scattergeo"
           }
          ],
          "scattergl": [
           {
            "marker": {
             "colorbar": {
              "outlinewidth": 0,
              "ticks": ""
             }
            },
            "type": "scattergl"
           }
          ],
          "scattermap": [
           {
            "marker": {
             "colorbar": {
              "outlinewidth": 0,
              "ticks": ""
             }
            },
            "type": "scattermap"
           }
          ],
          "scattermapbox": [
           {
            "marker": {
             "colorbar": {
              "outlinewidth": 0,
              "ticks": ""
             }
            },
            "type": "scattermapbox"
           }
          ],
          "scatterpolar": [
           {
            "marker": {
             "colorbar": {
              "outlinewidth": 0,
              "ticks": ""
             }
            },
            "type": "scatterpolar"
           }
          ],
          "scatterpolargl": [
           {
            "marker": {
             "colorbar": {
              "outlinewidth": 0,
              "ticks": ""
             }
            },
            "type": "scatterpolargl"
           }
          ],
          "scatterternary": [
           {
            "marker": {
             "colorbar": {
              "outlinewidth": 0,
              "ticks": ""
             }
            },
            "type": "scatterternary"
           }
          ],
          "surface": [
           {
            "colorbar": {
             "outlinewidth": 0,
             "ticks": ""
            },
            "colorscale": [
             [
              0,
              "#0d0887"
             ],
             [
              0.1111111111111111,
              "#46039f"
             ],
             [
              0.2222222222222222,
              "#7201a8"
             ],
             [
              0.3333333333333333,
              "#9c179e"
             ],
             [
              0.4444444444444444,
              "#bd3786"
             ],
             [
              0.5555555555555556,
              "#d8576b"
             ],
             [
              0.6666666666666666,
              "#ed7953"
             ],
             [
              0.7777777777777778,
              "#fb9f3a"
             ],
             [
              0.8888888888888888,
              "#fdca26"
             ],
             [
              1,
              "#f0f921"
             ]
            ],
            "type": "surface"
           }
          ],
          "table": [
           {
            "cells": {
             "fill": {
              "color": "#EBF0F8"
             },
             "line": {
              "color": "white"
             }
            },
            "header": {
             "fill": {
              "color": "#C8D4E3"
             },
             "line": {
              "color": "white"
             }
            },
            "type": "table"
           }
          ]
         },
         "layout": {
          "annotationdefaults": {
           "arrowcolor": "#2a3f5f",
           "arrowhead": 0,
           "arrowwidth": 1
          },
          "autotypenumbers": "strict",
          "coloraxis": {
           "colorbar": {
            "outlinewidth": 0,
            "ticks": ""
           }
          },
          "colorscale": {
           "diverging": [
            [
             0,
             "#8e0152"
            ],
            [
             0.1,
             "#c51b7d"
            ],
            [
             0.2,
             "#de77ae"
            ],
            [
             0.3,
             "#f1b6da"
            ],
            [
             0.4,
             "#fde0ef"
            ],
            [
             0.5,
             "#f7f7f7"
            ],
            [
             0.6,
             "#e6f5d0"
            ],
            [
             0.7,
             "#b8e186"
            ],
            [
             0.8,
             "#7fbc41"
            ],
            [
             0.9,
             "#4d9221"
            ],
            [
             1,
             "#276419"
            ]
           ],
           "sequential": [
            [
             0,
             "#0d0887"
            ],
            [
             0.1111111111111111,
             "#46039f"
            ],
            [
             0.2222222222222222,
             "#7201a8"
            ],
            [
             0.3333333333333333,
             "#9c179e"
            ],
            [
             0.4444444444444444,
             "#bd3786"
            ],
            [
             0.5555555555555556,
             "#d8576b"
            ],
            [
             0.6666666666666666,
             "#ed7953"
            ],
            [
             0.7777777777777778,
             "#fb9f3a"
            ],
            [
             0.8888888888888888,
             "#fdca26"
            ],
            [
             1,
             "#f0f921"
            ]
           ],
           "sequentialminus": [
            [
             0,
             "#0d0887"
            ],
            [
             0.1111111111111111,
             "#46039f"
            ],
            [
             0.2222222222222222,
             "#7201a8"
            ],
            [
             0.3333333333333333,
             "#9c179e"
            ],
            [
             0.4444444444444444,
             "#bd3786"
            ],
            [
             0.5555555555555556,
             "#d8576b"
            ],
            [
             0.6666666666666666,
             "#ed7953"
            ],
            [
             0.7777777777777778,
             "#fb9f3a"
            ],
            [
             0.8888888888888888,
             "#fdca26"
            ],
            [
             1,
             "#f0f921"
            ]
           ]
          },
          "colorway": [
           "#636efa",
           "#EF553B",
           "#00cc96",
           "#ab63fa",
           "#FFA15A",
           "#19d3f3",
           "#FF6692",
           "#B6E880",
           "#FF97FF",
           "#FECB52"
          ],
          "font": {
           "color": "#2a3f5f"
          },
          "geo": {
           "bgcolor": "white",
           "lakecolor": "white",
           "landcolor": "#E5ECF6",
           "showlakes": true,
           "showland": true,
           "subunitcolor": "white"
          },
          "hoverlabel": {
           "align": "left"
          },
          "hovermode": "closest",
          "mapbox": {
           "style": "light"
          },
          "paper_bgcolor": "white",
          "plot_bgcolor": "#E5ECF6",
          "polar": {
           "angularaxis": {
            "gridcolor": "white",
            "linecolor": "white",
            "ticks": ""
           },
           "bgcolor": "#E5ECF6",
           "radialaxis": {
            "gridcolor": "white",
            "linecolor": "white",
            "ticks": ""
           }
          },
          "scene": {
           "xaxis": {
            "backgroundcolor": "#E5ECF6",
            "gridcolor": "white",
            "gridwidth": 2,
            "linecolor": "white",
            "showbackground": true,
            "ticks": "",
            "zerolinecolor": "white"
           },
           "yaxis": {
            "backgroundcolor": "#E5ECF6",
            "gridcolor": "white",
            "gridwidth": 2,
            "linecolor": "white",
            "showbackground": true,
            "ticks": "",
            "zerolinecolor": "white"
           },
           "zaxis": {
            "backgroundcolor": "#E5ECF6",
            "gridcolor": "white",
            "gridwidth": 2,
            "linecolor": "white",
            "showbackground": true,
            "ticks": "",
            "zerolinecolor": "white"
           }
          },
          "shapedefaults": {
           "line": {
            "color": "#2a3f5f"
           }
          },
          "ternary": {
           "aaxis": {
            "gridcolor": "white",
            "linecolor": "white",
            "ticks": ""
           },
           "baxis": {
            "gridcolor": "white",
            "linecolor": "white",
            "ticks": ""
           },
           "bgcolor": "#E5ECF6",
           "caxis": {
            "gridcolor": "white",
            "linecolor": "white",
            "ticks": ""
           }
          },
          "title": {
           "x": 0.05
          },
          "xaxis": {
           "automargin": true,
           "gridcolor": "white",
           "linecolor": "white",
           "ticks": "",
           "title": {
            "standoff": 15
           },
           "zerolinecolor": "white",
           "zerolinewidth": 2
          },
          "yaxis": {
           "automargin": true,
           "gridcolor": "white",
           "linecolor": "white",
           "ticks": "",
           "title": {
            "standoff": 15
           },
           "zerolinecolor": "white",
           "zerolinewidth": 2
          }
         }
        },
        "title": {
         "text": "Revenue Analysis"
        },
        "xaxis": {
         "anchor": "y",
         "domain": [
          0,
          0.45
         ],
         "title": {
          "text": "Product"
         }
        },
        "yaxis": {
         "anchor": "x",
         "domain": [
          0,
          1
         ],
         "range": [
          0,
          15907582.891200002
         ],
         "title": {
          "text": "Annual Revenue (USD)"
         }
        }
       }
      }
     },
     "metadata": {},
     "output_type": "display_data"
    },
    {
     "name": "stdout",
     "output_type": "stream",
     "text": [
      "\n",
      "💡 Key Insight:\n",
      "   Acetylene black provides 53.6% of revenue despite being\n",
      "   a 'co-product'. This highly-conductive solid carbon by-product is critical to project economics.\n"
     ]
    }
   ],
   "source": [
    "# Revenue breakdown\n",
    "revenue_data = pd.DataFrame({\n",
    "    'Product': ['Hydrogen', 'Acetylene Black'],\n",
    "    'Annual Revenue': [h2_revenue, cb_revenue],\n",
    "    'Revenue %': [h2_revenue / total_revenue * 100, cb_revenue / total_revenue * 100]\n",
    "})\n",
    "\n",
    "fig = make_subplots(\n",
    "    rows=1, cols=2,\n",
    "    subplot_titles=('Annual Revenue by Product', 'Revenue Mix'),\n",
    "    specs=[[{'type': 'bar'}, {'type': 'pie'}]]\n",
    ")\n",
    "\n",
    "# Bar chart\n",
    "fig.add_trace(\n",
    "    go.Bar(\n",
    "        x=revenue_data['Product'],\n",
    "        y=revenue_data['Annual Revenue'],\n",
    "        text=[f'${x/1e6:.1f}M' for x in revenue_data['Annual Revenue']],\n",
    "        textposition='outside',\n",
    "        marker_color=['#3498db', '#95a5a6'],\n",
    "        showlegend=False\n",
    "    ),\n",
    "    row=1, col=1\n",
    ")\n",
    "\n",
    "# Pie chart\n",
    "fig.add_trace(\n",
    "    go.Pie(\n",
    "        labels=revenue_data['Product'],\n",
    "        values=revenue_data['Annual Revenue'],\n",
    "        marker_colors=['#3498db', '#95a5a6'],\n",
    "        textinfo='label+percent',\n",
    "        showlegend=False\n",
    "    ),\n",
    "    row=1, col=2\n",
    ")\n",
    "\n",
    "fig.update_xaxes(title_text=\"Product\", row=1, col=1)\n",
    "fig.update_yaxes(title_text=\"Annual Revenue (USD)\", row=1, col=1)\n",
    "fig.update_layout(height=400, showlegend=False, title_text=\"Revenue Analysis\")\n",
    "\n",
    "#add 10% space to ensure text fits\n",
    "max_value = revenue_data['Annual Revenue'].max()\n",
    "fig.update_yaxes(range=[0, max_value * 1.1])\n",
    "fig.show()\n",
    "\n",
    "print(f\"\\n💡 Key Insight:\")\n",
    "print(f\"   Acetylene black provides {(cb_revenue / total_revenue) * 100:.1f}% of revenue despite being\")\n",
    "print(f\"   a 'co-product'. This highly-conductive solid carbon by-product is critical to project economics.\")"
   ]
  },
  {
   "cell_type": "code",
   "execution_count": 1588,
   "id": "ffca3b86",
   "metadata": {},
   "outputs": [
    {
     "data": {
      "application/vnd.plotly.v1+json": {
       "config": {
        "plotlyServerURL": "https://plot.ly"
       },
       "data": [
        {
         "marker": {
          "color": {
           "bdata": "sU6V7xnzgEDT2/pEEv/oQGQ73888DUVBf2q8BIefXEE=",
           "dtype": "f8"
          },
          "colorscale": [
           [
            0,
            "rgb(255,245,240)"
           ],
           [
            0.125,
            "rgb(254,224,210)"
           ],
           [
            0.25,
            "rgb(252,187,161)"
           ],
           [
            0.375,
            "rgb(252,146,114)"
           ],
           [
            0.5,
            "rgb(251,106,74)"
           ],
           [
            0.625,
            "rgb(239,59,44)"
           ],
           [
            0.75,
            "rgb(203,24,29)"
           ],
           [
            0.875,
            "rgb(165,15,21)"
           ],
           [
            1,
            "rgb(103,0,13)"
           ]
          ],
          "showscale": false
         },
         "orientation": "h",
         "text": [
          "$0.0M (0%)",
          "$0.1M (0%)",
          "$2.8M (27%)",
          "$7.5M (73%)"
         ],
         "textposition": "outside",
         "type": "bar",
         "x": {
          "bdata": "sU6V7xnzgEDT2/pEEv/oQGQ73888DUVBf2q8BIefXEE=",
          "dtype": "f8"
         },
         "y": [
          "Process Water",
          "Cooling Water",
          "RNG Feedstock",
          "Electricity"
         ]
        }
       ],
       "layout": {
        "height": 400,
        "template": {
         "data": {
          "bar": [
           {
            "error_x": {
             "color": "#2a3f5f"
            },
            "error_y": {
             "color": "#2a3f5f"
            },
            "marker": {
             "line": {
              "color": "#E5ECF6",
              "width": 0.5
             },
             "pattern": {
              "fillmode": "overlay",
              "size": 10,
              "solidity": 0.2
             }
            },
            "type": "bar"
           }
          ],
          "barpolar": [
           {
            "marker": {
             "line": {
              "color": "#E5ECF6",
              "width": 0.5
             },
             "pattern": {
              "fillmode": "overlay",
              "size": 10,
              "solidity": 0.2
             }
            },
            "type": "barpolar"
           }
          ],
          "carpet": [
           {
            "aaxis": {
             "endlinecolor": "#2a3f5f",
             "gridcolor": "white",
             "linecolor": "white",
             "minorgridcolor": "white",
             "startlinecolor": "#2a3f5f"
            },
            "baxis": {
             "endlinecolor": "#2a3f5f",
             "gridcolor": "white",
             "linecolor": "white",
             "minorgridcolor": "white",
             "startlinecolor": "#2a3f5f"
            },
            "type": "carpet"
           }
          ],
          "choropleth": [
           {
            "colorbar": {
             "outlinewidth": 0,
             "ticks": ""
            },
            "type": "choropleth"
           }
          ],
          "contour": [
           {
            "colorbar": {
             "outlinewidth": 0,
             "ticks": ""
            },
            "colorscale": [
             [
              0,
              "#0d0887"
             ],
             [
              0.1111111111111111,
              "#46039f"
             ],
             [
              0.2222222222222222,
              "#7201a8"
             ],
             [
              0.3333333333333333,
              "#9c179e"
             ],
             [
              0.4444444444444444,
              "#bd3786"
             ],
             [
              0.5555555555555556,
              "#d8576b"
             ],
             [
              0.6666666666666666,
              "#ed7953"
             ],
             [
              0.7777777777777778,
              "#fb9f3a"
             ],
             [
              0.8888888888888888,
              "#fdca26"
             ],
             [
              1,
              "#f0f921"
             ]
            ],
            "type": "contour"
           }
          ],
          "contourcarpet": [
           {
            "colorbar": {
             "outlinewidth": 0,
             "ticks": ""
            },
            "type": "contourcarpet"
           }
          ],
          "heatmap": [
           {
            "colorbar": {
             "outlinewidth": 0,
             "ticks": ""
            },
            "colorscale": [
             [
              0,
              "#0d0887"
             ],
             [
              0.1111111111111111,
              "#46039f"
             ],
             [
              0.2222222222222222,
              "#7201a8"
             ],
             [
              0.3333333333333333,
              "#9c179e"
             ],
             [
              0.4444444444444444,
              "#bd3786"
             ],
             [
              0.5555555555555556,
              "#d8576b"
             ],
             [
              0.6666666666666666,
              "#ed7953"
             ],
             [
              0.7777777777777778,
              "#fb9f3a"
             ],
             [
              0.8888888888888888,
              "#fdca26"
             ],
             [
              1,
              "#f0f921"
             ]
            ],
            "type": "heatmap"
           }
          ],
          "histogram": [
           {
            "marker": {
             "pattern": {
              "fillmode": "overlay",
              "size": 10,
              "solidity": 0.2
             }
            },
            "type": "histogram"
           }
          ],
          "histogram2d": [
           {
            "colorbar": {
             "outlinewidth": 0,
             "ticks": ""
            },
            "colorscale": [
             [
              0,
              "#0d0887"
             ],
             [
              0.1111111111111111,
              "#46039f"
             ],
             [
              0.2222222222222222,
              "#7201a8"
             ],
             [
              0.3333333333333333,
              "#9c179e"
             ],
             [
              0.4444444444444444,
              "#bd3786"
             ],
             [
              0.5555555555555556,
              "#d8576b"
             ],
             [
              0.6666666666666666,
              "#ed7953"
             ],
             [
              0.7777777777777778,
              "#fb9f3a"
             ],
             [
              0.8888888888888888,
              "#fdca26"
             ],
             [
              1,
              "#f0f921"
             ]
            ],
            "type": "histogram2d"
           }
          ],
          "histogram2dcontour": [
           {
            "colorbar": {
             "outlinewidth": 0,
             "ticks": ""
            },
            "colorscale": [
             [
              0,
              "#0d0887"
             ],
             [
              0.1111111111111111,
              "#46039f"
             ],
             [
              0.2222222222222222,
              "#7201a8"
             ],
             [
              0.3333333333333333,
              "#9c179e"
             ],
             [
              0.4444444444444444,
              "#bd3786"
             ],
             [
              0.5555555555555556,
              "#d8576b"
             ],
             [
              0.6666666666666666,
              "#ed7953"
             ],
             [
              0.7777777777777778,
              "#fb9f3a"
             ],
             [
              0.8888888888888888,
              "#fdca26"
             ],
             [
              1,
              "#f0f921"
             ]
            ],
            "type": "histogram2dcontour"
           }
          ],
          "mesh3d": [
           {
            "colorbar": {
             "outlinewidth": 0,
             "ticks": ""
            },
            "type": "mesh3d"
           }
          ],
          "parcoords": [
           {
            "line": {
             "colorbar": {
              "outlinewidth": 0,
              "ticks": ""
             }
            },
            "type": "parcoords"
           }
          ],
          "pie": [
           {
            "automargin": true,
            "type": "pie"
           }
          ],
          "scatter": [
           {
            "fillpattern": {
             "fillmode": "overlay",
             "size": 10,
             "solidity": 0.2
            },
            "type": "scatter"
           }
          ],
          "scatter3d": [
           {
            "line": {
             "colorbar": {
              "outlinewidth": 0,
              "ticks": ""
             }
            },
            "marker": {
             "colorbar": {
              "outlinewidth": 0,
              "ticks": ""
             }
            },
            "type": "scatter3d"
           }
          ],
          "scattercarpet": [
           {
            "marker": {
             "colorbar": {
              "outlinewidth": 0,
              "ticks": ""
             }
            },
            "type": "scattercarpet"
           }
          ],
          "scattergeo": [
           {
            "marker": {
             "colorbar": {
              "outlinewidth": 0,
              "ticks": ""
             }
            },
            "type": "scattergeo"
           }
          ],
          "scattergl": [
           {
            "marker": {
             "colorbar": {
              "outlinewidth": 0,
              "ticks": ""
             }
            },
            "type": "scattergl"
           }
          ],
          "scattermap": [
           {
            "marker": {
             "colorbar": {
              "outlinewidth": 0,
              "ticks": ""
             }
            },
            "type": "scattermap"
           }
          ],
          "scattermapbox": [
           {
            "marker": {
             "colorbar": {
              "outlinewidth": 0,
              "ticks": ""
             }
            },
            "type": "scattermapbox"
           }
          ],
          "scatterpolar": [
           {
            "marker": {
             "colorbar": {
              "outlinewidth": 0,
              "ticks": ""
             }
            },
            "type": "scatterpolar"
           }
          ],
          "scatterpolargl": [
           {
            "marker": {
             "colorbar": {
              "outlinewidth": 0,
              "ticks": ""
             }
            },
            "type": "scatterpolargl"
           }
          ],
          "scatterternary": [
           {
            "marker": {
             "colorbar": {
              "outlinewidth": 0,
              "ticks": ""
             }
            },
            "type": "scatterternary"
           }
          ],
          "surface": [
           {
            "colorbar": {
             "outlinewidth": 0,
             "ticks": ""
            },
            "colorscale": [
             [
              0,
              "#0d0887"
             ],
             [
              0.1111111111111111,
              "#46039f"
             ],
             [
              0.2222222222222222,
              "#7201a8"
             ],
             [
              0.3333333333333333,
              "#9c179e"
             ],
             [
              0.4444444444444444,
              "#bd3786"
             ],
             [
              0.5555555555555556,
              "#d8576b"
             ],
             [
              0.6666666666666666,
              "#ed7953"
             ],
             [
              0.7777777777777778,
              "#fb9f3a"
             ],
             [
              0.8888888888888888,
              "#fdca26"
             ],
             [
              1,
              "#f0f921"
             ]
            ],
            "type": "surface"
           }
          ],
          "table": [
           {
            "cells": {
             "fill": {
              "color": "#EBF0F8"
             },
             "line": {
              "color": "white"
             }
            },
            "header": {
             "fill": {
              "color": "#C8D4E3"
             },
             "line": {
              "color": "white"
             }
            },
            "type": "table"
           }
          ]
         },
         "layout": {
          "annotationdefaults": {
           "arrowcolor": "#2a3f5f",
           "arrowhead": 0,
           "arrowwidth": 1
          },
          "autotypenumbers": "strict",
          "coloraxis": {
           "colorbar": {
            "outlinewidth": 0,
            "ticks": ""
           }
          },
          "colorscale": {
           "diverging": [
            [
             0,
             "#8e0152"
            ],
            [
             0.1,
             "#c51b7d"
            ],
            [
             0.2,
             "#de77ae"
            ],
            [
             0.3,
             "#f1b6da"
            ],
            [
             0.4,
             "#fde0ef"
            ],
            [
             0.5,
             "#f7f7f7"
            ],
            [
             0.6,
             "#e6f5d0"
            ],
            [
             0.7,
             "#b8e186"
            ],
            [
             0.8,
             "#7fbc41"
            ],
            [
             0.9,
             "#4d9221"
            ],
            [
             1,
             "#276419"
            ]
           ],
           "sequential": [
            [
             0,
             "#0d0887"
            ],
            [
             0.1111111111111111,
             "#46039f"
            ],
            [
             0.2222222222222222,
             "#7201a8"
            ],
            [
             0.3333333333333333,
             "#9c179e"
            ],
            [
             0.4444444444444444,
             "#bd3786"
            ],
            [
             0.5555555555555556,
             "#d8576b"
            ],
            [
             0.6666666666666666,
             "#ed7953"
            ],
            [
             0.7777777777777778,
             "#fb9f3a"
            ],
            [
             0.8888888888888888,
             "#fdca26"
            ],
            [
             1,
             "#f0f921"
            ]
           ],
           "sequentialminus": [
            [
             0,
             "#0d0887"
            ],
            [
             0.1111111111111111,
             "#46039f"
            ],
            [
             0.2222222222222222,
             "#7201a8"
            ],
            [
             0.3333333333333333,
             "#9c179e"
            ],
            [
             0.4444444444444444,
             "#bd3786"
            ],
            [
             0.5555555555555556,
             "#d8576b"
            ],
            [
             0.6666666666666666,
             "#ed7953"
            ],
            [
             0.7777777777777778,
             "#fb9f3a"
            ],
            [
             0.8888888888888888,
             "#fdca26"
            ],
            [
             1,
             "#f0f921"
            ]
           ]
          },
          "colorway": [
           "#636efa",
           "#EF553B",
           "#00cc96",
           "#ab63fa",
           "#FFA15A",
           "#19d3f3",
           "#FF6692",
           "#B6E880",
           "#FF97FF",
           "#FECB52"
          ],
          "font": {
           "color": "#2a3f5f"
          },
          "geo": {
           "bgcolor": "white",
           "lakecolor": "white",
           "landcolor": "#E5ECF6",
           "showlakes": true,
           "showland": true,
           "subunitcolor": "white"
          },
          "hoverlabel": {
           "align": "left"
          },
          "hovermode": "closest",
          "mapbox": {
           "style": "light"
          },
          "paper_bgcolor": "white",
          "plot_bgcolor": "#E5ECF6",
          "polar": {
           "angularaxis": {
            "gridcolor": "white",
            "linecolor": "white",
            "ticks": ""
           },
           "bgcolor": "#E5ECF6",
           "radialaxis": {
            "gridcolor": "white",
            "linecolor": "white",
            "ticks": ""
           }
          },
          "scene": {
           "xaxis": {
            "backgroundcolor": "#E5ECF6",
            "gridcolor": "white",
            "gridwidth": 2,
            "linecolor": "white",
            "showbackground": true,
            "ticks": "",
            "zerolinecolor": "white"
           },
           "yaxis": {
            "backgroundcolor": "#E5ECF6",
            "gridcolor": "white",
            "gridwidth": 2,
            "linecolor": "white",
            "showbackground": true,
            "ticks": "",
            "zerolinecolor": "white"
           },
           "zaxis": {
            "backgroundcolor": "#E5ECF6",
            "gridcolor": "white",
            "gridwidth": 2,
            "linecolor": "white",
            "showbackground": true,
            "ticks": "",
            "zerolinecolor": "white"
           }
          },
          "shapedefaults": {
           "line": {
            "color": "#2a3f5f"
           }
          },
          "ternary": {
           "aaxis": {
            "gridcolor": "white",
            "linecolor": "white",
            "ticks": ""
           },
           "baxis": {
            "gridcolor": "white",
            "linecolor": "white",
            "ticks": ""
           },
           "bgcolor": "#E5ECF6",
           "caxis": {
            "gridcolor": "white",
            "linecolor": "white",
            "ticks": ""
           }
          },
          "title": {
           "x": 0.05
          },
          "xaxis": {
           "automargin": true,
           "gridcolor": "white",
           "linecolor": "white",
           "ticks": "",
           "title": {
            "standoff": 15
           },
           "zerolinecolor": "white",
           "zerolinewidth": 2
          },
          "yaxis": {
           "automargin": true,
           "gridcolor": "white",
           "linecolor": "white",
           "ticks": "",
           "title": {
            "standoff": 15
           },
           "zerolinecolor": "white",
           "zerolinewidth": 2
          }
         }
        },
        "title": {
         "text": "Annual Variable Operating Cost Breakdown"
        },
        "xaxis": {
         "range": [
          0,
          8253726.8814
         ],
         "title": {
          "text": "Annual Cost (USD)"
         }
        },
        "yaxis": {
         "title": {
          "text": "Cost Category"
         }
        }
       }
      }
     },
     "metadata": {},
     "output_type": "display_data"
    },
    {
     "name": "stdout",
     "output_type": "stream",
     "text": [
      "\n",
      "📊 Cost Analysis:\n",
      "   Electricity is 72.9% of variable operating costs\n",
      "   Total variable OpEx: $10.29M\n",
      "   Gross Margin: 61.9%\n",
      "\n",
      "💡 Key Insight:\n",
      "   Electricity is the dominant operating cost. Process economics are\n",
      "   likely sensitive to electricity prices and availability of renewable power.\n"
     ]
    }
   ],
   "source": [
    "\n",
    "# Create cost breakdown\n",
    "cost_data = pd.DataFrame({\n",
    "    'Cost Category': ['RNG Feedstock', 'Electricity', 'Cooling Water', 'Process Water'],\n",
    "    'Annual Cost': [rng_cost, electricity_cost, cooling_water_cost, process_water_cost],\n",
    "    'Percent of Total': [\n",
    "        rng_cost/variable_opex*100,\n",
    "        electricity_cost/variable_opex*100,\n",
    "        cooling_water_cost/variable_opex*100,\n",
    "        process_water_cost/variable_opex*100\n",
    "    ]\n",
    "})\n",
    "\n",
    "# Sort by cost\n",
    "cost_data = cost_data.sort_values('Annual Cost', ascending=True)\n",
    "\n",
    "fig = go.Figure()\n",
    "\n",
    "fig.add_trace(go.Bar(\n",
    "    y=cost_data['Cost Category'],\n",
    "    x=cost_data['Annual Cost'],\n",
    "    orientation='h',\n",
    "    text=[f'${x/1e6:.1f}M ({p:.0f}%)' for x, p in zip(cost_data['Annual Cost'], cost_data['Percent of Total'])],\n",
    "    textposition='outside',\n",
    "    marker=dict(\n",
    "        color=cost_data['Annual Cost'],\n",
    "        colorscale='Reds',\n",
    "        showscale=False\n",
    "    )\n",
    "))\n",
    "\n",
    "fig.update_layout(\n",
    "    title='Annual Variable Operating Cost Breakdown',\n",
    "    xaxis_title='Annual Cost (USD)',\n",
    "    yaxis_title='Cost Category',\n",
    "    height=400\n",
    ")\n",
    "\n",
    "max_value = cost_data['Annual Cost'].max()\n",
    "fig.update_xaxes(range=[0, max_value * 1.1])\n",
    "fig.show()\n",
    "\n",
    "print(f\"\\n📊 Cost Analysis:\")\n",
    "print(f\"   Electricity is {electricity_cost/variable_opex*100:.1f}% of variable operating costs\")\n",
    "print(f\"   Total variable OpEx: ${variable_opex/1e6:.2f}M\")\n",
    "print(f\"   Gross Margin: {gross_margin/total_revenue*100:.1f}%\")\n",
    "print(f\"\\n💡 Key Insight:\")\n",
    "print(f\"   Electricity is the dominant operating cost. Process economics are\")\n",
    "print(f\"   likely sensitive to electricity prices and availability of renewable power.\")"
   ]
  },
  {
   "cell_type": "code",
   "execution_count": 1589,
   "id": "9fd133e0",
   "metadata": {},
   "outputs": [
    {
     "data": {
      "application/vnd.plotly.v1+json": {
       "config": {
        "plotlyServerURL": "https://plot.ly"
       },
       "data": [
        {
         "connector": {
          "line": {
           "color": "rgb(63, 63, 63)"
          }
         },
         "decreasing": {
          "marker": {
           "color": "#e74c3c"
          }
         },
         "increasing": {
          "marker": {
           "color": "#2ecc71"
          }
         },
         "measure": [
          "relative",
          "relative",
          "relative",
          "relative",
          "relative",
          "total"
         ],
         "name": "Annual Economics",
         "orientation": "v",
         "text": [
          "$+12.53M",
          "$+14.46M",
          "$-2.76M",
          "$-7.50M",
          "$-0.05M",
          "$+16.70M"
         ],
         "textposition": "outside",
         "totals": {
          "marker": {
           "color": "#3498db"
          }
         },
         "type": "waterfall",
         "x": [
          "H₂ Revenue",
          "Acetylene Revenue",
          "RNG Cost",
          "Electricity Cost",
          "Water Costs",
          "Gross Margin"
         ],
         "y": [
          12534543.84,
          14461438.992,
          -2759289.624,
          -7503388.074,
          -51734.958584399996,
          16701582.386165043
         ]
        }
       ],
       "layout": {
        "height": 500,
        "showlegend": false,
        "template": {
         "data": {
          "bar": [
           {
            "error_x": {
             "color": "#2a3f5f"
            },
            "error_y": {
             "color": "#2a3f5f"
            },
            "marker": {
             "line": {
              "color": "#E5ECF6",
              "width": 0.5
             },
             "pattern": {
              "fillmode": "overlay",
              "size": 10,
              "solidity": 0.2
             }
            },
            "type": "bar"
           }
          ],
          "barpolar": [
           {
            "marker": {
             "line": {
              "color": "#E5ECF6",
              "width": 0.5
             },
             "pattern": {
              "fillmode": "overlay",
              "size": 10,
              "solidity": 0.2
             }
            },
            "type": "barpolar"
           }
          ],
          "carpet": [
           {
            "aaxis": {
             "endlinecolor": "#2a3f5f",
             "gridcolor": "white",
             "linecolor": "white",
             "minorgridcolor": "white",
             "startlinecolor": "#2a3f5f"
            },
            "baxis": {
             "endlinecolor": "#2a3f5f",
             "gridcolor": "white",
             "linecolor": "white",
             "minorgridcolor": "white",
             "startlinecolor": "#2a3f5f"
            },
            "type": "carpet"
           }
          ],
          "choropleth": [
           {
            "colorbar": {
             "outlinewidth": 0,
             "ticks": ""
            },
            "type": "choropleth"
           }
          ],
          "contour": [
           {
            "colorbar": {
             "outlinewidth": 0,
             "ticks": ""
            },
            "colorscale": [
             [
              0,
              "#0d0887"
             ],
             [
              0.1111111111111111,
              "#46039f"
             ],
             [
              0.2222222222222222,
              "#7201a8"
             ],
             [
              0.3333333333333333,
              "#9c179e"
             ],
             [
              0.4444444444444444,
              "#bd3786"
             ],
             [
              0.5555555555555556,
              "#d8576b"
             ],
             [
              0.6666666666666666,
              "#ed7953"
             ],
             [
              0.7777777777777778,
              "#fb9f3a"
             ],
             [
              0.8888888888888888,
              "#fdca26"
             ],
             [
              1,
              "#f0f921"
             ]
            ],
            "type": "contour"
           }
          ],
          "contourcarpet": [
           {
            "colorbar": {
             "outlinewidth": 0,
             "ticks": ""
            },
            "type": "contourcarpet"
           }
          ],
          "heatmap": [
           {
            "colorbar": {
             "outlinewidth": 0,
             "ticks": ""
            },
            "colorscale": [
             [
              0,
              "#0d0887"
             ],
             [
              0.1111111111111111,
              "#46039f"
             ],
             [
              0.2222222222222222,
              "#7201a8"
             ],
             [
              0.3333333333333333,
              "#9c179e"
             ],
             [
              0.4444444444444444,
              "#bd3786"
             ],
             [
              0.5555555555555556,
              "#d8576b"
             ],
             [
              0.6666666666666666,
              "#ed7953"
             ],
             [
              0.7777777777777778,
              "#fb9f3a"
             ],
             [
              0.8888888888888888,
              "#fdca26"
             ],
             [
              1,
              "#f0f921"
             ]
            ],
            "type": "heatmap"
           }
          ],
          "histogram": [
           {
            "marker": {
             "pattern": {
              "fillmode": "overlay",
              "size": 10,
              "solidity": 0.2
             }
            },
            "type": "histogram"
           }
          ],
          "histogram2d": [
           {
            "colorbar": {
             "outlinewidth": 0,
             "ticks": ""
            },
            "colorscale": [
             [
              0,
              "#0d0887"
             ],
             [
              0.1111111111111111,
              "#46039f"
             ],
             [
              0.2222222222222222,
              "#7201a8"
             ],
             [
              0.3333333333333333,
              "#9c179e"
             ],
             [
              0.4444444444444444,
              "#bd3786"
             ],
             [
              0.5555555555555556,
              "#d8576b"
             ],
             [
              0.6666666666666666,
              "#ed7953"
             ],
             [
              0.7777777777777778,
              "#fb9f3a"
             ],
             [
              0.8888888888888888,
              "#fdca26"
             ],
             [
              1,
              "#f0f921"
             ]
            ],
            "type": "histogram2d"
           }
          ],
          "histogram2dcontour": [
           {
            "colorbar": {
             "outlinewidth": 0,
             "ticks": ""
            },
            "colorscale": [
             [
              0,
              "#0d0887"
             ],
             [
              0.1111111111111111,
              "#46039f"
             ],
             [
              0.2222222222222222,
              "#7201a8"
             ],
             [
              0.3333333333333333,
              "#9c179e"
             ],
             [
              0.4444444444444444,
              "#bd3786"
             ],
             [
              0.5555555555555556,
              "#d8576b"
             ],
             [
              0.6666666666666666,
              "#ed7953"
             ],
             [
              0.7777777777777778,
              "#fb9f3a"
             ],
             [
              0.8888888888888888,
              "#fdca26"
             ],
             [
              1,
              "#f0f921"
             ]
            ],
            "type": "histogram2dcontour"
           }
          ],
          "mesh3d": [
           {
            "colorbar": {
             "outlinewidth": 0,
             "ticks": ""
            },
            "type": "mesh3d"
           }
          ],
          "parcoords": [
           {
            "line": {
             "colorbar": {
              "outlinewidth": 0,
              "ticks": ""
             }
            },
            "type": "parcoords"
           }
          ],
          "pie": [
           {
            "automargin": true,
            "type": "pie"
           }
          ],
          "scatter": [
           {
            "fillpattern": {
             "fillmode": "overlay",
             "size": 10,
             "solidity": 0.2
            },
            "type": "scatter"
           }
          ],
          "scatter3d": [
           {
            "line": {
             "colorbar": {
              "outlinewidth": 0,
              "ticks": ""
             }
            },
            "marker": {
             "colorbar": {
              "outlinewidth": 0,
              "ticks": ""
             }
            },
            "type": "scatter3d"
           }
          ],
          "scattercarpet": [
           {
            "marker": {
             "colorbar": {
              "outlinewidth": 0,
              "ticks": ""
             }
            },
            "type": "scattercarpet"
           }
          ],
          "scattergeo": [
           {
            "marker": {
             "colorbar": {
              "outlinewidth": 0,
              "ticks": ""
             }
            },
            "type": "scattergeo"
           }
          ],
          "scattergl": [
           {
            "marker": {
             "colorbar": {
              "outlinewidth": 0,
              "ticks": ""
             }
            },
            "type": "scattergl"
           }
          ],
          "scattermap": [
           {
            "marker": {
             "colorbar": {
              "outlinewidth": 0,
              "ticks": ""
             }
            },
            "type": "scattermap"
           }
          ],
          "scattermapbox": [
           {
            "marker": {
             "colorbar": {
              "outlinewidth": 0,
              "ticks": ""
             }
            },
            "type": "scattermapbox"
           }
          ],
          "scatterpolar": [
           {
            "marker": {
             "colorbar": {
              "outlinewidth": 0,
              "ticks": ""
             }
            },
            "type": "scatterpolar"
           }
          ],
          "scatterpolargl": [
           {
            "marker": {
             "colorbar": {
              "outlinewidth": 0,
              "ticks": ""
             }
            },
            "type": "scatterpolargl"
           }
          ],
          "scatterternary": [
           {
            "marker": {
             "colorbar": {
              "outlinewidth": 0,
              "ticks": ""
             }
            },
            "type": "scatterternary"
           }
          ],
          "surface": [
           {
            "colorbar": {
             "outlinewidth": 0,
             "ticks": ""
            },
            "colorscale": [
             [
              0,
              "#0d0887"
             ],
             [
              0.1111111111111111,
              "#46039f"
             ],
             [
              0.2222222222222222,
              "#7201a8"
             ],
             [
              0.3333333333333333,
              "#9c179e"
             ],
             [
              0.4444444444444444,
              "#bd3786"
             ],
             [
              0.5555555555555556,
              "#d8576b"
             ],
             [
              0.6666666666666666,
              "#ed7953"
             ],
             [
              0.7777777777777778,
              "#fb9f3a"
             ],
             [
              0.8888888888888888,
              "#fdca26"
             ],
             [
              1,
              "#f0f921"
             ]
            ],
            "type": "surface"
           }
          ],
          "table": [
           {
            "cells": {
             "fill": {
              "color": "#EBF0F8"
             },
             "line": {
              "color": "white"
             }
            },
            "header": {
             "fill": {
              "color": "#C8D4E3"
             },
             "line": {
              "color": "white"
             }
            },
            "type": "table"
           }
          ]
         },
         "layout": {
          "annotationdefaults": {
           "arrowcolor": "#2a3f5f",
           "arrowhead": 0,
           "arrowwidth": 1
          },
          "autotypenumbers": "strict",
          "coloraxis": {
           "colorbar": {
            "outlinewidth": 0,
            "ticks": ""
           }
          },
          "colorscale": {
           "diverging": [
            [
             0,
             "#8e0152"
            ],
            [
             0.1,
             "#c51b7d"
            ],
            [
             0.2,
             "#de77ae"
            ],
            [
             0.3,
             "#f1b6da"
            ],
            [
             0.4,
             "#fde0ef"
            ],
            [
             0.5,
             "#f7f7f7"
            ],
            [
             0.6,
             "#e6f5d0"
            ],
            [
             0.7,
             "#b8e186"
            ],
            [
             0.8,
             "#7fbc41"
            ],
            [
             0.9,
             "#4d9221"
            ],
            [
             1,
             "#276419"
            ]
           ],
           "sequential": [
            [
             0,
             "#0d0887"
            ],
            [
             0.1111111111111111,
             "#46039f"
            ],
            [
             0.2222222222222222,
             "#7201a8"
            ],
            [
             0.3333333333333333,
             "#9c179e"
            ],
            [
             0.4444444444444444,
             "#bd3786"
            ],
            [
             0.5555555555555556,
             "#d8576b"
            ],
            [
             0.6666666666666666,
             "#ed7953"
            ],
            [
             0.7777777777777778,
             "#fb9f3a"
            ],
            [
             0.8888888888888888,
             "#fdca26"
            ],
            [
             1,
             "#f0f921"
            ]
           ],
           "sequentialminus": [
            [
             0,
             "#0d0887"
            ],
            [
             0.1111111111111111,
             "#46039f"
            ],
            [
             0.2222222222222222,
             "#7201a8"
            ],
            [
             0.3333333333333333,
             "#9c179e"
            ],
            [
             0.4444444444444444,
             "#bd3786"
            ],
            [
             0.5555555555555556,
             "#d8576b"
            ],
            [
             0.6666666666666666,
             "#ed7953"
            ],
            [
             0.7777777777777778,
             "#fb9f3a"
            ],
            [
             0.8888888888888888,
             "#fdca26"
            ],
            [
             1,
             "#f0f921"
            ]
           ]
          },
          "colorway": [
           "#636efa",
           "#EF553B",
           "#00cc96",
           "#ab63fa",
           "#FFA15A",
           "#19d3f3",
           "#FF6692",
           "#B6E880",
           "#FF97FF",
           "#FECB52"
          ],
          "font": {
           "color": "#2a3f5f"
          },
          "geo": {
           "bgcolor": "white",
           "lakecolor": "white",
           "landcolor": "#E5ECF6",
           "showlakes": true,
           "showland": true,
           "subunitcolor": "white"
          },
          "hoverlabel": {
           "align": "left"
          },
          "hovermode": "closest",
          "mapbox": {
           "style": "light"
          },
          "paper_bgcolor": "white",
          "plot_bgcolor": "#E5ECF6",
          "polar": {
           "angularaxis": {
            "gridcolor": "white",
            "linecolor": "white",
            "ticks": ""
           },
           "bgcolor": "#E5ECF6",
           "radialaxis": {
            "gridcolor": "white",
            "linecolor": "white",
            "ticks": ""
           }
          },
          "scene": {
           "xaxis": {
            "backgroundcolor": "#E5ECF6",
            "gridcolor": "white",
            "gridwidth": 2,
            "linecolor": "white",
            "showbackground": true,
            "ticks": "",
            "zerolinecolor": "white"
           },
           "yaxis": {
            "backgroundcolor": "#E5ECF6",
            "gridcolor": "white",
            "gridwidth": 2,
            "linecolor": "white",
            "showbackground": true,
            "ticks": "",
            "zerolinecolor": "white"
           },
           "zaxis": {
            "backgroundcolor": "#E5ECF6",
            "gridcolor": "white",
            "gridwidth": 2,
            "linecolor": "white",
            "showbackground": true,
            "ticks": "",
            "zerolinecolor": "white"
           }
          },
          "shapedefaults": {
           "line": {
            "color": "#2a3f5f"
           }
          },
          "ternary": {
           "aaxis": {
            "gridcolor": "white",
            "linecolor": "white",
            "ticks": ""
           },
           "baxis": {
            "gridcolor": "white",
            "linecolor": "white",
            "ticks": ""
           },
           "bgcolor": "#E5ECF6",
           "caxis": {
            "gridcolor": "white",
            "linecolor": "white",
            "ticks": ""
           }
          },
          "title": {
           "x": 0.05
          },
          "xaxis": {
           "automargin": true,
           "gridcolor": "white",
           "linecolor": "white",
           "ticks": "",
           "title": {
            "standoff": 15
           },
           "zerolinecolor": "white",
           "zerolinewidth": 2
          },
          "yaxis": {
           "automargin": true,
           "gridcolor": "white",
           "linecolor": "white",
           "ticks": "",
           "title": {
            "standoff": 15
           },
           "zerolinecolor": "white",
           "zerolinewidth": 2
          }
         }
        },
        "title": {
         "text": "Annual Revenue to Gross Margin (Waterfall)"
        },
        "yaxis": {
         "title": {
          "text": "Amount (USD)"
         }
        }
       }
      }
     },
     "metadata": {},
     "output_type": "display_data"
    },
    {
     "name": "stdout",
     "output_type": "stream",
     "text": [
      "\n",
      "📊 Annual Economics Summary:\n",
      "   Total Revenue:        $ 27.00M\n",
      "   Variable Costs:       $ 10.29M\n",
      "   ─────────────────────────────────\n",
      "   Gross Margin:         $ 16.70M\n",
      "   Gross Margin %:         61.9%\n",
      "\n",
      "   Note: This excludes fixed costs (labor, maintenance, overhead)\n"
     ]
    }
   ],
   "source": [
    "# Create waterfall showing revenue to profit flow\n",
    "categories = [\n",
    "    'H₂ Revenue',\n",
    "    'Acetylene Revenue',\n",
    "    'RNG Cost',\n",
    "    'Electricity Cost',\n",
    "    'Water Costs',\n",
    "    'Gross Margin'\n",
    "]\n",
    "\n",
    "values = [\n",
    "    h2_revenue,\n",
    "    cb_revenue,\n",
    "    -rng_cost,\n",
    "    -electricity_cost,\n",
    "    -(cooling_water_cost + process_water_cost),\n",
    "    0  # Will be calculated as total\n",
    "]\n",
    "\n",
    "fig = go.Figure(go.Waterfall(\n",
    "    name=\"Annual Economics\",\n",
    "    orientation=\"v\",\n",
    "    measure=[\"relative\", \"relative\", \"relative\", \"relative\", \"relative\", \"total\"],\n",
    "    x=categories,\n",
    "    y=values[:-1] + [gross_margin],\n",
    "    text=[f'${v/1e6:+.2f}M' if v != 0 else f'${gross_margin/1e6:.2f}M' for v in values[:-1] + [gross_margin]],\n",
    "    textposition=\"outside\",\n",
    "    connector={\"line\": {\"color\": \"rgb(63, 63, 63)\"}},\n",
    "    increasing={\"marker\": {\"color\": \"#2ecc71\"}},\n",
    "    decreasing={\"marker\": {\"color\": \"#e74c3c\"}},\n",
    "    totals={\"marker\": {\"color\": \"#3498db\"}}\n",
    "))\n",
    "\n",
    "fig.update_layout(\n",
    "    title=\"Annual Revenue to Gross Margin (Waterfall)\",\n",
    "    yaxis_title=\"Amount (USD)\",\n",
    "    showlegend=False,\n",
    "    height=500\n",
    ")\n",
    "\n",
    "fig.show()\n",
    "\n",
    "print(f\"\\n📊 Annual Economics Summary:\")\n",
    "print(f\"   Total Revenue:        ${total_revenue/1e6:>6.2f}M\")\n",
    "print(f\"   Variable Costs:       ${variable_opex/1e6:>6.2f}M\")\n",
    "print(f\"   ─────────────────────────────────\")\n",
    "print(f\"   Gross Margin:         ${gross_margin/1e6:>6.2f}M\")\n",
    "print(f\"   Gross Margin %:       {gross_margin/total_revenue*100:>6.1f}%\")\n",
    "print(f\"\\n   Note: This excludes fixed costs (labor, maintenance, overhead)\")"
   ]
  },
  {
   "cell_type": "markdown",
   "id": "31e589cc",
   "metadata": {},
   "source": [
    "## Comparison with Steam Methane Reforming (SMR)\n",
    "\n",
    "Steam methane reforming is the incumbent technology for hydrogen production, accounting for ~96% of global production. Let's compare our process:"
   ]
  },
  {
   "cell_type": "code",
   "execution_count": 1590,
   "id": "cc6e941a",
   "metadata": {},
   "outputs": [
    {
     "data": {
      "text/html": [
       "<style type=\"text/css\">\n",
       "#T_aa2b8 th {\n",
       "  text-align: center;\n",
       "}\n",
       "#T_aa2b8_row0_col0, #T_aa2b8_row0_col1, #T_aa2b8_row0_col2, #T_aa2b8_row0_col3, #T_aa2b8_row1_col0, #T_aa2b8_row1_col1, #T_aa2b8_row1_col2, #T_aa2b8_row1_col3, #T_aa2b8_row2_col0, #T_aa2b8_row2_col1, #T_aa2b8_row2_col2, #T_aa2b8_row2_col3, #T_aa2b8_row3_col0, #T_aa2b8_row3_col1, #T_aa2b8_row3_col2, #T_aa2b8_row3_col3 {\n",
       "  text-align: center;\n",
       "}\n",
       "</style>\n",
       "<table id=\"T_aa2b8\">\n",
       "  <thead>\n",
       "    <tr>\n",
       "      <th class=\"blank level0\" >&nbsp;</th>\n",
       "      <th id=\"T_aa2b8_level0_col0\" class=\"col_heading level0 col0\" >Metric</th>\n",
       "      <th id=\"T_aa2b8_level0_col1\" class=\"col_heading level0 col1\" >Steam Methane Reforming</th>\n",
       "      <th id=\"T_aa2b8_level0_col2\" class=\"col_heading level0 col2\" >Microwave Plasma Process</th>\n",
       "      <th id=\"T_aa2b8_level0_col3\" class=\"col_heading level0 col3\" >Improvement (%)</th>\n",
       "    </tr>\n",
       "  </thead>\n",
       "  <tbody>\n",
       "    <tr>\n",
       "      <th id=\"T_aa2b8_level0_row0\" class=\"row_heading level0 row0\" >0</th>\n",
       "      <td id=\"T_aa2b8_row0_col0\" class=\"data row0 col0\" >Water Consumption (kg/kg H₂)</td>\n",
       "      <td id=\"T_aa2b8_row0_col1\" class=\"data row0 col1\" >4.5</td>\n",
       "      <td id=\"T_aa2b8_row0_col2\" class=\"data row0 col2\" >0.64</td>\n",
       "      <td id=\"T_aa2b8_row0_col3\" class=\"data row0 col3\" >+85.8%</td>\n",
       "    </tr>\n",
       "    <tr>\n",
       "      <th id=\"T_aa2b8_level0_row1\" class=\"row_heading level0 row1\" >1</th>\n",
       "      <td id=\"T_aa2b8_row1_col0\" class=\"data row1 col0\" >CO₂ Emissions (kg/kg H₂)</td>\n",
       "      <td id=\"T_aa2b8_row1_col1\" class=\"data row1 col1\" >9.7</td>\n",
       "      <td id=\"T_aa2b8_row1_col2\" class=\"data row1 col2\" >0.01</td>\n",
       "      <td id=\"T_aa2b8_row1_col3\" class=\"data row1 col3\" >+99.9%</td>\n",
       "    </tr>\n",
       "    <tr>\n",
       "      <th id=\"T_aa2b8_level0_row2\" class=\"row_heading level0 row2\" >2</th>\n",
       "      <td id=\"T_aa2b8_row2_col0\" class=\"data row2 col0\" >Energy Consumption (kJ/kg H₂)</td>\n",
       "      <td id=\"T_aa2b8_row2_col1\" class=\"data row2 col1\" >27.0</td>\n",
       "      <td id=\"T_aa2b8_row2_col2\" class=\"data row2 col2\" >36.84</td>\n",
       "      <td id=\"T_aa2b8_row2_col3\" class=\"data row2 col3\" >-36.4%</td>\n",
       "    </tr>\n",
       "    <tr>\n",
       "      <th id=\"T_aa2b8_level0_row3\" class=\"row_heading level0 row3\" >3</th>\n",
       "      <td id=\"T_aa2b8_row3_col0\" class=\"data row3 col0\" >H₂ Production Cost ($/kg)*</td>\n",
       "      <td id=\"T_aa2b8_row3_col1\" class=\"data row3 col1\" >2.5</td>\n",
       "      <td id=\"T_aa2b8_row3_col2\" class=\"data row3 col2\" >2.95</td>\n",
       "      <td id=\"T_aa2b8_row3_col3\" class=\"data row3 col3\" >-17.8%</td>\n",
       "    </tr>\n",
       "  </tbody>\n",
       "</table>\n"
      ],
      "text/plain": [
       "<pandas.io.formats.style.Styler at 0x25748975000>"
      ]
     },
     "metadata": {},
     "output_type": "display_data"
    },
    {
     "name": "stdout",
     "output_type": "stream",
     "text": [
      "\n",
      "🌟 Environmental Advantages:\n",
      "   • Water Consumption:  85.8% reduction\n",
      "   • CO₂ Emissions:      99.9% reduction\n",
      "   • Near-zero emissions when using renewable electricity\n",
      "\n",
      "⚡ Energy Trade-off:\n",
      "   • Higher energy intensity, ideally from renewable sources\n",
      "   • Our process: Higher energy input, zero carbon output\n",
      "\n",
      "💰 Cost Competitiveness:\n",
      "   • LCOH: $2.95/kg vs ~$2.50/kg for SMR\n",
      "   • Higher cost, even accounting for high-value co-product\n",
      "   • Clean hydrogen incentives would likely make this competitive\n"
     ]
    },
    {
     "data": {
      "application/vnd.plotly.v1+json": {
       "config": {
        "plotlyServerURL": "https://plot.ly"
       },
       "data": [
        {
         "marker": {
          "color": [
           "#e74c3c",
           "#2ecc71"
          ]
         },
         "name": "Water",
         "showlegend": false,
         "type": "bar",
         "x": [
          "SMR",
          "Microwave Plasma"
         ],
         "xaxis": "x",
         "y": [
          4.5,
          0.6410582548969728
         ],
         "yaxis": "y"
        },
        {
         "marker": {
          "color": [
           "#e74c3c",
           "#2ecc71"
          ]
         },
         "name": "CO2",
         "showlegend": false,
         "type": "bar",
         "x": [
          "SMR",
          "Microwave Plasma"
         ],
         "xaxis": "x2",
         "y": [
          9.7,
          0.011447468837445941
         ],
         "yaxis": "y2"
        },
        {
         "marker": {
          "color": [
           "#e74c3c",
           "#2ecc71"
          ]
         },
         "name": "Energy",
         "showlegend": false,
         "type": "bar",
         "x": [
          "SMR",
          "Microwave Plasma"
         ],
         "xaxis": "x3",
         "y": [
          27,
          36.83795471890104
         ],
         "yaxis": "y3"
        },
        {
         "marker": {
          "color": [
           "#e74c3c",
           "#2ecc71"
          ]
         },
         "name": "Cost",
         "showlegend": false,
         "type": "bar",
         "x": [
          "SMR",
          "Microwave Plasma"
         ],
         "xaxis": "x4",
         "y": [
          2.5,
          2.945777477569248
         ],
         "yaxis": "y4"
        }
       ],
       "layout": {
        "annotations": [
         {
          "font": {
           "size": 16
          },
          "showarrow": false,
          "text": "Water Consumption",
          "x": 0.10625,
          "xanchor": "center",
          "xref": "paper",
          "y": 1,
          "yanchor": "bottom",
          "yref": "paper"
         },
         {
          "font": {
           "size": 16
          },
          "showarrow": false,
          "text": "CO₂ Emissions",
          "x": 0.36875,
          "xanchor": "center",
          "xref": "paper",
          "y": 1,
          "yanchor": "bottom",
          "yref": "paper"
         },
         {
          "font": {
           "size": 16
          },
          "showarrow": false,
          "text": "Energy Consumption",
          "x": 0.6312500000000001,
          "xanchor": "center",
          "xref": "paper",
          "y": 1,
          "yanchor": "bottom",
          "yref": "paper"
         },
         {
          "font": {
           "size": 16
          },
          "showarrow": false,
          "text": "Production Cost",
          "x": 0.89375,
          "xanchor": "center",
          "xref": "paper",
          "y": 1,
          "yanchor": "bottom",
          "yref": "paper"
         }
        ],
        "height": 400,
        "showlegend": false,
        "template": {
         "data": {
          "bar": [
           {
            "error_x": {
             "color": "#2a3f5f"
            },
            "error_y": {
             "color": "#2a3f5f"
            },
            "marker": {
             "line": {
              "color": "#E5ECF6",
              "width": 0.5
             },
             "pattern": {
              "fillmode": "overlay",
              "size": 10,
              "solidity": 0.2
             }
            },
            "type": "bar"
           }
          ],
          "barpolar": [
           {
            "marker": {
             "line": {
              "color": "#E5ECF6",
              "width": 0.5
             },
             "pattern": {
              "fillmode": "overlay",
              "size": 10,
              "solidity": 0.2
             }
            },
            "type": "barpolar"
           }
          ],
          "carpet": [
           {
            "aaxis": {
             "endlinecolor": "#2a3f5f",
             "gridcolor": "white",
             "linecolor": "white",
             "minorgridcolor": "white",
             "startlinecolor": "#2a3f5f"
            },
            "baxis": {
             "endlinecolor": "#2a3f5f",
             "gridcolor": "white",
             "linecolor": "white",
             "minorgridcolor": "white",
             "startlinecolor": "#2a3f5f"
            },
            "type": "carpet"
           }
          ],
          "choropleth": [
           {
            "colorbar": {
             "outlinewidth": 0,
             "ticks": ""
            },
            "type": "choropleth"
           }
          ],
          "contour": [
           {
            "colorbar": {
             "outlinewidth": 0,
             "ticks": ""
            },
            "colorscale": [
             [
              0,
              "#0d0887"
             ],
             [
              0.1111111111111111,
              "#46039f"
             ],
             [
              0.2222222222222222,
              "#7201a8"
             ],
             [
              0.3333333333333333,
              "#9c179e"
             ],
             [
              0.4444444444444444,
              "#bd3786"
             ],
             [
              0.5555555555555556,
              "#d8576b"
             ],
             [
              0.6666666666666666,
              "#ed7953"
             ],
             [
              0.7777777777777778,
              "#fb9f3a"
             ],
             [
              0.8888888888888888,
              "#fdca26"
             ],
             [
              1,
              "#f0f921"
             ]
            ],
            "type": "contour"
           }
          ],
          "contourcarpet": [
           {
            "colorbar": {
             "outlinewidth": 0,
             "ticks": ""
            },
            "type": "contourcarpet"
           }
          ],
          "heatmap": [
           {
            "colorbar": {
             "outlinewidth": 0,
             "ticks": ""
            },
            "colorscale": [
             [
              0,
              "#0d0887"
             ],
             [
              0.1111111111111111,
              "#46039f"
             ],
             [
              0.2222222222222222,
              "#7201a8"
             ],
             [
              0.3333333333333333,
              "#9c179e"
             ],
             [
              0.4444444444444444,
              "#bd3786"
             ],
             [
              0.5555555555555556,
              "#d8576b"
             ],
             [
              0.6666666666666666,
              "#ed7953"
             ],
             [
              0.7777777777777778,
              "#fb9f3a"
             ],
             [
              0.8888888888888888,
              "#fdca26"
             ],
             [
              1,
              "#f0f921"
             ]
            ],
            "type": "heatmap"
           }
          ],
          "histogram": [
           {
            "marker": {
             "pattern": {
              "fillmode": "overlay",
              "size": 10,
              "solidity": 0.2
             }
            },
            "type": "histogram"
           }
          ],
          "histogram2d": [
           {
            "colorbar": {
             "outlinewidth": 0,
             "ticks": ""
            },
            "colorscale": [
             [
              0,
              "#0d0887"
             ],
             [
              0.1111111111111111,
              "#46039f"
             ],
             [
              0.2222222222222222,
              "#7201a8"
             ],
             [
              0.3333333333333333,
              "#9c179e"
             ],
             [
              0.4444444444444444,
              "#bd3786"
             ],
             [
              0.5555555555555556,
              "#d8576b"
             ],
             [
              0.6666666666666666,
              "#ed7953"
             ],
             [
              0.7777777777777778,
              "#fb9f3a"
             ],
             [
              0.8888888888888888,
              "#fdca26"
             ],
             [
              1,
              "#f0f921"
             ]
            ],
            "type": "histogram2d"
           }
          ],
          "histogram2dcontour": [
           {
            "colorbar": {
             "outlinewidth": 0,
             "ticks": ""
            },
            "colorscale": [
             [
              0,
              "#0d0887"
             ],
             [
              0.1111111111111111,
              "#46039f"
             ],
             [
              0.2222222222222222,
              "#7201a8"
             ],
             [
              0.3333333333333333,
              "#9c179e"
             ],
             [
              0.4444444444444444,
              "#bd3786"
             ],
             [
              0.5555555555555556,
              "#d8576b"
             ],
             [
              0.6666666666666666,
              "#ed7953"
             ],
             [
              0.7777777777777778,
              "#fb9f3a"
             ],
             [
              0.8888888888888888,
              "#fdca26"
             ],
             [
              1,
              "#f0f921"
             ]
            ],
            "type": "histogram2dcontour"
           }
          ],
          "mesh3d": [
           {
            "colorbar": {
             "outlinewidth": 0,
             "ticks": ""
            },
            "type": "mesh3d"
           }
          ],
          "parcoords": [
           {
            "line": {
             "colorbar": {
              "outlinewidth": 0,
              "ticks": ""
             }
            },
            "type": "parcoords"
           }
          ],
          "pie": [
           {
            "automargin": true,
            "type": "pie"
           }
          ],
          "scatter": [
           {
            "fillpattern": {
             "fillmode": "overlay",
             "size": 10,
             "solidity": 0.2
            },
            "type": "scatter"
           }
          ],
          "scatter3d": [
           {
            "line": {
             "colorbar": {
              "outlinewidth": 0,
              "ticks": ""
             }
            },
            "marker": {
             "colorbar": {
              "outlinewidth": 0,
              "ticks": ""
             }
            },
            "type": "scatter3d"
           }
          ],
          "scattercarpet": [
           {
            "marker": {
             "colorbar": {
              "outlinewidth": 0,
              "ticks": ""
             }
            },
            "type": "scattercarpet"
           }
          ],
          "scattergeo": [
           {
            "marker": {
             "colorbar": {
              "outlinewidth": 0,
              "ticks": ""
             }
            },
            "type": "scattergeo"
           }
          ],
          "scattergl": [
           {
            "marker": {
             "colorbar": {
              "outlinewidth": 0,
              "ticks": ""
             }
            },
            "type": "scattergl"
           }
          ],
          "scattermap": [
           {
            "marker": {
             "colorbar": {
              "outlinewidth": 0,
              "ticks": ""
             }
            },
            "type": "scattermap"
           }
          ],
          "scattermapbox": [
           {
            "marker": {
             "colorbar": {
              "outlinewidth": 0,
              "ticks": ""
             }
            },
            "type": "scattermapbox"
           }
          ],
          "scatterpolar": [
           {
            "marker": {
             "colorbar": {
              "outlinewidth": 0,
              "ticks": ""
             }
            },
            "type": "scatterpolar"
           }
          ],
          "scatterpolargl": [
           {
            "marker": {
             "colorbar": {
              "outlinewidth": 0,
              "ticks": ""
             }
            },
            "type": "scatterpolargl"
           }
          ],
          "scatterternary": [
           {
            "marker": {
             "colorbar": {
              "outlinewidth": 0,
              "ticks": ""
             }
            },
            "type": "scatterternary"
           }
          ],
          "surface": [
           {
            "colorbar": {
             "outlinewidth": 0,
             "ticks": ""
            },
            "colorscale": [
             [
              0,
              "#0d0887"
             ],
             [
              0.1111111111111111,
              "#46039f"
             ],
             [
              0.2222222222222222,
              "#7201a8"
             ],
             [
              0.3333333333333333,
              "#9c179e"
             ],
             [
              0.4444444444444444,
              "#bd3786"
             ],
             [
              0.5555555555555556,
              "#d8576b"
             ],
             [
              0.6666666666666666,
              "#ed7953"
             ],
             [
              0.7777777777777778,
              "#fb9f3a"
             ],
             [
              0.8888888888888888,
              "#fdca26"
             ],
             [
              1,
              "#f0f921"
             ]
            ],
            "type": "surface"
           }
          ],
          "table": [
           {
            "cells": {
             "fill": {
              "color": "#EBF0F8"
             },
             "line": {
              "color": "white"
             }
            },
            "header": {
             "fill": {
              "color": "#C8D4E3"
             },
             "line": {
              "color": "white"
             }
            },
            "type": "table"
           }
          ]
         },
         "layout": {
          "annotationdefaults": {
           "arrowcolor": "#2a3f5f",
           "arrowhead": 0,
           "arrowwidth": 1
          },
          "autotypenumbers": "strict",
          "coloraxis": {
           "colorbar": {
            "outlinewidth": 0,
            "ticks": ""
           }
          },
          "colorscale": {
           "diverging": [
            [
             0,
             "#8e0152"
            ],
            [
             0.1,
             "#c51b7d"
            ],
            [
             0.2,
             "#de77ae"
            ],
            [
             0.3,
             "#f1b6da"
            ],
            [
             0.4,
             "#fde0ef"
            ],
            [
             0.5,
             "#f7f7f7"
            ],
            [
             0.6,
             "#e6f5d0"
            ],
            [
             0.7,
             "#b8e186"
            ],
            [
             0.8,
             "#7fbc41"
            ],
            [
             0.9,
             "#4d9221"
            ],
            [
             1,
             "#276419"
            ]
           ],
           "sequential": [
            [
             0,
             "#0d0887"
            ],
            [
             0.1111111111111111,
             "#46039f"
            ],
            [
             0.2222222222222222,
             "#7201a8"
            ],
            [
             0.3333333333333333,
             "#9c179e"
            ],
            [
             0.4444444444444444,
             "#bd3786"
            ],
            [
             0.5555555555555556,
             "#d8576b"
            ],
            [
             0.6666666666666666,
             "#ed7953"
            ],
            [
             0.7777777777777778,
             "#fb9f3a"
            ],
            [
             0.8888888888888888,
             "#fdca26"
            ],
            [
             1,
             "#f0f921"
            ]
           ],
           "sequentialminus": [
            [
             0,
             "#0d0887"
            ],
            [
             0.1111111111111111,
             "#46039f"
            ],
            [
             0.2222222222222222,
             "#7201a8"
            ],
            [
             0.3333333333333333,
             "#9c179e"
            ],
            [
             0.4444444444444444,
             "#bd3786"
            ],
            [
             0.5555555555555556,
             "#d8576b"
            ],
            [
             0.6666666666666666,
             "#ed7953"
            ],
            [
             0.7777777777777778,
             "#fb9f3a"
            ],
            [
             0.8888888888888888,
             "#fdca26"
            ],
            [
             1,
             "#f0f921"
            ]
           ]
          },
          "colorway": [
           "#636efa",
           "#EF553B",
           "#00cc96",
           "#ab63fa",
           "#FFA15A",
           "#19d3f3",
           "#FF6692",
           "#B6E880",
           "#FF97FF",
           "#FECB52"
          ],
          "font": {
           "color": "#2a3f5f"
          },
          "geo": {
           "bgcolor": "white",
           "lakecolor": "white",
           "landcolor": "#E5ECF6",
           "showlakes": true,
           "showland": true,
           "subunitcolor": "white"
          },
          "hoverlabel": {
           "align": "left"
          },
          "hovermode": "closest",
          "mapbox": {
           "style": "light"
          },
          "paper_bgcolor": "white",
          "plot_bgcolor": "#E5ECF6",
          "polar": {
           "angularaxis": {
            "gridcolor": "white",
            "linecolor": "white",
            "ticks": ""
           },
           "bgcolor": "#E5ECF6",
           "radialaxis": {
            "gridcolor": "white",
            "linecolor": "white",
            "ticks": ""
           }
          },
          "scene": {
           "xaxis": {
            "backgroundcolor": "#E5ECF6",
            "gridcolor": "white",
            "gridwidth": 2,
            "linecolor": "white",
            "showbackground": true,
            "ticks": "",
            "zerolinecolor": "white"
           },
           "yaxis": {
            "backgroundcolor": "#E5ECF6",
            "gridcolor": "white",
            "gridwidth": 2,
            "linecolor": "white",
            "showbackground": true,
            "ticks": "",
            "zerolinecolor": "white"
           },
           "zaxis": {
            "backgroundcolor": "#E5ECF6",
            "gridcolor": "white",
            "gridwidth": 2,
            "linecolor": "white",
            "showbackground": true,
            "ticks": "",
            "zerolinecolor": "white"
           }
          },
          "shapedefaults": {
           "line": {
            "color": "#2a3f5f"
           }
          },
          "ternary": {
           "aaxis": {
            "gridcolor": "white",
            "linecolor": "white",
            "ticks": ""
           },
           "baxis": {
            "gridcolor": "white",
            "linecolor": "white",
            "ticks": ""
           },
           "bgcolor": "#E5ECF6",
           "caxis": {
            "gridcolor": "white",
            "linecolor": "white",
            "ticks": ""
           }
          },
          "title": {
           "x": 0.05
          },
          "xaxis": {
           "automargin": true,
           "gridcolor": "white",
           "linecolor": "white",
           "ticks": "",
           "title": {
            "standoff": 15
           },
           "zerolinecolor": "white",
           "zerolinewidth": 2
          },
          "yaxis": {
           "automargin": true,
           "gridcolor": "white",
           "linecolor": "white",
           "ticks": "",
           "title": {
            "standoff": 15
           },
           "zerolinecolor": "white",
           "zerolinewidth": 2
          }
         }
        },
        "title": {
         "text": "Process Comparison: SMR vs Microwave Plasma"
        },
        "xaxis": {
         "anchor": "y",
         "domain": [
          0,
          0.2125
         ]
        },
        "xaxis2": {
         "anchor": "y2",
         "domain": [
          0.2625,
          0.475
         ]
        },
        "xaxis3": {
         "anchor": "y3",
         "domain": [
          0.525,
          0.7375
         ]
        },
        "xaxis4": {
         "anchor": "y4",
         "domain": [
          0.7875,
          1
         ]
        },
        "yaxis": {
         "anchor": "x",
         "domain": [
          0,
          1
         ],
         "title": {
          "text": "kg H₂O / kg H₂"
         }
        },
        "yaxis2": {
         "anchor": "x2",
         "domain": [
          0,
          1
         ],
         "title": {
          "text": "kg CO₂ / kg H₂"
         }
        },
        "yaxis3": {
         "anchor": "x3",
         "domain": [
          0,
          1
         ],
         "title": {
          "text": "kWh / kg H₂"
         }
        },
        "yaxis4": {
         "anchor": "x4",
         "domain": [
          0,
          1
         ],
         "title": {
          "text": "$ / kg H₂"
         }
        }
       }
      }
     },
     "metadata": {},
     "output_type": "display_data"
    },
    {
     "name": "stdout",
     "output_type": "stream",
     "text": [
      "\n",
      "* SMR cost varies by region and natural gas prices. $2.50/kg is typical for US Gulf Coast.\n"
     ]
    }
   ],
   "source": [
    "# SMR baseline data (from performance_metrics.txt)\n",
    "comparison_data = {\n",
    "    'Metric': [\n",
    "        'Water Consumption (kg/kg H₂)',\n",
    "        'CO₂ Emissions (kg/kg H₂)',\n",
    "        'Energy Consumption (kJ/kg H₂)',\n",
    "        'H₂ Production Cost ($/kg)*'\n",
    "    ],\n",
    "    'Steam Methane Reforming': [\n",
    "        4.5,      # Water\n",
    "        9.7,      # CO2\n",
    "        27,       # Energy\n",
    "        2.50      # Cost (typical)\n",
    "    ],\n",
    "    'Microwave Plasma Process': [\n",
    "        h2o_per_h2,          # XX\n",
    "        co2_per_h2,          # XX\n",
    "        energy_per_h2,       # Higher but renewable\n",
    "        lcoh                 # XX\n",
    "    ]\n",
    "}\n",
    "\n",
    "comparison_df = pd.DataFrame(comparison_data)\n",
    "\n",
    "# Calculate improvements\n",
    "comparison_df['Improvement (%)'] = (\n",
    "    (comparison_df['Steam Methane Reforming'] - comparison_df['Microwave Plasma Process']) / \n",
    "    comparison_df['Steam Methane Reforming'] * 100\n",
    ").round(1)\n",
    "\n",
    "# Display with styling\n",
    "display(comparison_df.style.set_properties(**{'text-align': 'center'}).set_table_styles(\n",
    "    [dict(selector='th', props=[('text-align', 'center')])]\n",
    ").format({\n",
    "    'Steam Methane Reforming': '{:.1f}',\n",
    "    'Microwave Plasma Process': '{:.2f}',\n",
    "    'Improvement (%)': '{:+.1f}%'\n",
    "}))\n",
    "\n",
    "print(f\"\\n🌟 Environmental Advantages:\")\n",
    "print(f\"   • Water Consumption:  {(1 - h2o_per_h2/4.5)*100:.1f}% reduction\")\n",
    "print(f\"   • CO₂ Emissions:      {(1 - co2_per_h2/9.7)*100:.1f}% reduction\")\n",
    "print(f\"   • Near-zero emissions when using renewable electricity\")\n",
    "print(f\"\\n⚡ Energy Trade-off:\")\n",
    "print(f\"   • Higher energy intensity, ideally from renewable sources\")\n",
    "print(f\"   • Our process: Higher energy input, zero carbon output\")\n",
    "print(f\"\\n💰 Cost Competitiveness:\")\n",
    "print(f\"   • LCOH: ${lcoh:.2f}/kg vs ~$2.50/kg for SMR\")\n",
    "print(f\"   • Higher cost, even accounting for high-value co-product\")\n",
    "print(f\"   • Clean hydrogen incentives would likely make this competitive\")\n",
    "\n",
    "# Visualize key metrics\n",
    "fig = make_subplots(\n",
    "    rows=1, cols=4,\n",
    "    subplot_titles=('Water Consumption', 'CO₂ Emissions', 'Energy Consumption', 'Production Cost'),\n",
    "    specs=[[{'type': 'bar'}, {'type': 'bar'}, {'type': 'bar'}, {'type': 'bar'}]]\n",
    ")\n",
    "\n",
    "processes = ['SMR', 'Microwave Plasma']\n",
    "colors = ['#e74c3c', '#2ecc71']\n",
    "\n",
    "# Water\n",
    "fig.add_trace(\n",
    "    go.Bar(x=processes, y=[4.5, h2o_per_h2], name='Water', marker_color=colors, showlegend=False),\n",
    "    row=1, col=1\n",
    ")\n",
    "\n",
    "# CO2\n",
    "fig.add_trace(\n",
    "    go.Bar(x=processes, y=[9.7, co2_per_h2], name='CO2', marker_color=colors, showlegend=False),\n",
    "    row=1, col=2\n",
    ")\n",
    "\n",
    "# energy\n",
    "fig.add_trace(\n",
    "    go.Bar(x=processes, y=[27, energy_per_h2], name='Energy', marker_color=colors, showlegend=False),\n",
    "    row=1, col=3\n",
    ")\n",
    "\n",
    "# Cost\n",
    "fig.add_trace(\n",
    "    go.Bar(x=processes, y=[2.50, lcoh], name='Cost', marker_color=colors, showlegend=False),\n",
    "    row=1, col=4\n",
    ")\n",
    "\n",
    "fig.update_yaxes(title_text=\"kg H₂O / kg H₂\", row=1, col=1)\n",
    "fig.update_yaxes(title_text=\"kg CO₂ / kg H₂\", row=1, col=2)\n",
    "fig.update_yaxes(title_text=\"kWh / kg H₂\", row=1, col=3)\n",
    "fig.update_yaxes(title_text=\"$ / kg H₂\", row=1, col=4)\n",
    "\n",
    "fig.update_layout(height=400, showlegend=False, title_text=\"Process Comparison: SMR vs Microwave Plasma\")\n",
    "\n",
    "fig.show()\n",
    "\n",
    "print(f\"\\n* SMR cost varies by region and natural gas prices. $2.50/kg is typical for US Gulf Coast.\")"
   ]
  },
  {
   "cell_type": "code",
   "execution_count": 1591,
   "id": "e70b2b1d",
   "metadata": {},
   "outputs": [
    {
     "name": "stdout",
     "output_type": "stream",
     "text": [
      "================================================================================\n",
      "PROJECT FINANCIAL ANALYSIS\n",
      "================================================================================\n",
      "\n",
      "💰 Net Present Value:\n",
      "   NPV (15% discount):    $   12.51 million\n",
      "\n",
      "📈 Internal Rate of Return:\n",
      "   Calculated IRR:           20.13%\n",
      "\n",
      "⏱️ Payback Period:\n",
      "   Calculated:                 4.7 years\n"
     ]
    },
    {
     "data": {
      "application/vnd.plotly.v1+json": {
       "config": {
        "plotlyServerURL": "https://plot.ly"
       },
       "data": [
        {
         "fill": "tozeroy",
         "line": {
          "color": "#2ecc71",
          "width": 3
         },
         "marker": {
          "size": 6
         },
         "mode": "lines+markers",
         "name": "Cumulative Cash Flow",
         "type": "scatter",
         "x": [
          0,
          1,
          2,
          3,
          4,
          5,
          6,
          7,
          8,
          9,
          10,
          11,
          12,
          13,
          14,
          15,
          16,
          17,
          18,
          19,
          20
         ],
         "y": [
          -44940000,
          -35310048.231929615,
          -25680096.46385923,
          -16050144.695788845,
          -6420192.927718461,
          3209758.8403519243,
          12839710.60842231,
          22469662.376492694,
          30751414.14456308,
          39033165.912633464,
          47314917.68070385,
          55596669.44877423,
          63878421.21684462,
          72160172.984915,
          80441924.75298539,
          88723676.52105577,
          97005428.28912616,
          105287180.05719654,
          113568931.82526693,
          121850683.59333731,
          130132435.3614077
         ]
        }
       ],
       "layout": {
        "annotations": [
         {
          "showarrow": false,
          "text": "Break Even",
          "x": 1,
          "xanchor": "right",
          "xref": "x domain",
          "y": 0,
          "yanchor": "bottom",
          "yref": "y"
         },
         {
          "showarrow": false,
          "text": "Payback: 4.7 years",
          "x": 4.66669003981989,
          "xanchor": "left",
          "xref": "x",
          "y": 1,
          "yanchor": "top",
          "yref": "y domain"
         }
        ],
        "height": 500,
        "hovermode": "x unified",
        "shapes": [
         {
          "line": {
           "color": "red",
           "dash": "dash"
          },
          "type": "line",
          "x0": 0,
          "x1": 1,
          "xref": "x domain",
          "y0": 0,
          "y1": 0,
          "yref": "y"
         },
         {
          "line": {
           "color": "orange",
           "dash": "dot"
          },
          "type": "line",
          "x0": 4.66669003981989,
          "x1": 4.66669003981989,
          "xref": "x",
          "y0": 0,
          "y1": 1,
          "yref": "y domain"
         }
        ],
        "template": {
         "data": {
          "bar": [
           {
            "error_x": {
             "color": "#2a3f5f"
            },
            "error_y": {
             "color": "#2a3f5f"
            },
            "marker": {
             "line": {
              "color": "#E5ECF6",
              "width": 0.5
             },
             "pattern": {
              "fillmode": "overlay",
              "size": 10,
              "solidity": 0.2
             }
            },
            "type": "bar"
           }
          ],
          "barpolar": [
           {
            "marker": {
             "line": {
              "color": "#E5ECF6",
              "width": 0.5
             },
             "pattern": {
              "fillmode": "overlay",
              "size": 10,
              "solidity": 0.2
             }
            },
            "type": "barpolar"
           }
          ],
          "carpet": [
           {
            "aaxis": {
             "endlinecolor": "#2a3f5f",
             "gridcolor": "white",
             "linecolor": "white",
             "minorgridcolor": "white",
             "startlinecolor": "#2a3f5f"
            },
            "baxis": {
             "endlinecolor": "#2a3f5f",
             "gridcolor": "white",
             "linecolor": "white",
             "minorgridcolor": "white",
             "startlinecolor": "#2a3f5f"
            },
            "type": "carpet"
           }
          ],
          "choropleth": [
           {
            "colorbar": {
             "outlinewidth": 0,
             "ticks": ""
            },
            "type": "choropleth"
           }
          ],
          "contour": [
           {
            "colorbar": {
             "outlinewidth": 0,
             "ticks": ""
            },
            "colorscale": [
             [
              0,
              "#0d0887"
             ],
             [
              0.1111111111111111,
              "#46039f"
             ],
             [
              0.2222222222222222,
              "#7201a8"
             ],
             [
              0.3333333333333333,
              "#9c179e"
             ],
             [
              0.4444444444444444,
              "#bd3786"
             ],
             [
              0.5555555555555556,
              "#d8576b"
             ],
             [
              0.6666666666666666,
              "#ed7953"
             ],
             [
              0.7777777777777778,
              "#fb9f3a"
             ],
             [
              0.8888888888888888,
              "#fdca26"
             ],
             [
              1,
              "#f0f921"
             ]
            ],
            "type": "contour"
           }
          ],
          "contourcarpet": [
           {
            "colorbar": {
             "outlinewidth": 0,
             "ticks": ""
            },
            "type": "contourcarpet"
           }
          ],
          "heatmap": [
           {
            "colorbar": {
             "outlinewidth": 0,
             "ticks": ""
            },
            "colorscale": [
             [
              0,
              "#0d0887"
             ],
             [
              0.1111111111111111,
              "#46039f"
             ],
             [
              0.2222222222222222,
              "#7201a8"
             ],
             [
              0.3333333333333333,
              "#9c179e"
             ],
             [
              0.4444444444444444,
              "#bd3786"
             ],
             [
              0.5555555555555556,
              "#d8576b"
             ],
             [
              0.6666666666666666,
              "#ed7953"
             ],
             [
              0.7777777777777778,
              "#fb9f3a"
             ],
             [
              0.8888888888888888,
              "#fdca26"
             ],
             [
              1,
              "#f0f921"
             ]
            ],
            "type": "heatmap"
           }
          ],
          "histogram": [
           {
            "marker": {
             "pattern": {
              "fillmode": "overlay",
              "size": 10,
              "solidity": 0.2
             }
            },
            "type": "histogram"
           }
          ],
          "histogram2d": [
           {
            "colorbar": {
             "outlinewidth": 0,
             "ticks": ""
            },
            "colorscale": [
             [
              0,
              "#0d0887"
             ],
             [
              0.1111111111111111,
              "#46039f"
             ],
             [
              0.2222222222222222,
              "#7201a8"
             ],
             [
              0.3333333333333333,
              "#9c179e"
             ],
             [
              0.4444444444444444,
              "#bd3786"
             ],
             [
              0.5555555555555556,
              "#d8576b"
             ],
             [
              0.6666666666666666,
              "#ed7953"
             ],
             [
              0.7777777777777778,
              "#fb9f3a"
             ],
             [
              0.8888888888888888,
              "#fdca26"
             ],
             [
              1,
              "#f0f921"
             ]
            ],
            "type": "histogram2d"
           }
          ],
          "histogram2dcontour": [
           {
            "colorbar": {
             "outlinewidth": 0,
             "ticks": ""
            },
            "colorscale": [
             [
              0,
              "#0d0887"
             ],
             [
              0.1111111111111111,
              "#46039f"
             ],
             [
              0.2222222222222222,
              "#7201a8"
             ],
             [
              0.3333333333333333,
              "#9c179e"
             ],
             [
              0.4444444444444444,
              "#bd3786"
             ],
             [
              0.5555555555555556,
              "#d8576b"
             ],
             [
              0.6666666666666666,
              "#ed7953"
             ],
             [
              0.7777777777777778,
              "#fb9f3a"
             ],
             [
              0.8888888888888888,
              "#fdca26"
             ],
             [
              1,
              "#f0f921"
             ]
            ],
            "type": "histogram2dcontour"
           }
          ],
          "mesh3d": [
           {
            "colorbar": {
             "outlinewidth": 0,
             "ticks": ""
            },
            "type": "mesh3d"
           }
          ],
          "parcoords": [
           {
            "line": {
             "colorbar": {
              "outlinewidth": 0,
              "ticks": ""
             }
            },
            "type": "parcoords"
           }
          ],
          "pie": [
           {
            "automargin": true,
            "type": "pie"
           }
          ],
          "scatter": [
           {
            "fillpattern": {
             "fillmode": "overlay",
             "size": 10,
             "solidity": 0.2
            },
            "type": "scatter"
           }
          ],
          "scatter3d": [
           {
            "line": {
             "colorbar": {
              "outlinewidth": 0,
              "ticks": ""
             }
            },
            "marker": {
             "colorbar": {
              "outlinewidth": 0,
              "ticks": ""
             }
            },
            "type": "scatter3d"
           }
          ],
          "scattercarpet": [
           {
            "marker": {
             "colorbar": {
              "outlinewidth": 0,
              "ticks": ""
             }
            },
            "type": "scattercarpet"
           }
          ],
          "scattergeo": [
           {
            "marker": {
             "colorbar": {
              "outlinewidth": 0,
              "ticks": ""
             }
            },
            "type": "scattergeo"
           }
          ],
          "scattergl": [
           {
            "marker": {
             "colorbar": {
              "outlinewidth": 0,
              "ticks": ""
             }
            },
            "type": "scattergl"
           }
          ],
          "scattermap": [
           {
            "marker": {
             "colorbar": {
              "outlinewidth": 0,
              "ticks": ""
             }
            },
            "type": "scattermap"
           }
          ],
          "scattermapbox": [
           {
            "marker": {
             "colorbar": {
              "outlinewidth": 0,
              "ticks": ""
             }
            },
            "type": "scattermapbox"
           }
          ],
          "scatterpolar": [
           {
            "marker": {
             "colorbar": {
              "outlinewidth": 0,
              "ticks": ""
             }
            },
            "type": "scatterpolar"
           }
          ],
          "scatterpolargl": [
           {
            "marker": {
             "colorbar": {
              "outlinewidth": 0,
              "ticks": ""
             }
            },
            "type": "scatterpolargl"
           }
          ],
          "scatterternary": [
           {
            "marker": {
             "colorbar": {
              "outlinewidth": 0,
              "ticks": ""
             }
            },
            "type": "scatterternary"
           }
          ],
          "surface": [
           {
            "colorbar": {
             "outlinewidth": 0,
             "ticks": ""
            },
            "colorscale": [
             [
              0,
              "#0d0887"
             ],
             [
              0.1111111111111111,
              "#46039f"
             ],
             [
              0.2222222222222222,
              "#7201a8"
             ],
             [
              0.3333333333333333,
              "#9c179e"
             ],
             [
              0.4444444444444444,
              "#bd3786"
             ],
             [
              0.5555555555555556,
              "#d8576b"
             ],
             [
              0.6666666666666666,
              "#ed7953"
             ],
             [
              0.7777777777777778,
              "#fb9f3a"
             ],
             [
              0.8888888888888888,
              "#fdca26"
             ],
             [
              1,
              "#f0f921"
             ]
            ],
            "type": "surface"
           }
          ],
          "table": [
           {
            "cells": {
             "fill": {
              "color": "#EBF0F8"
             },
             "line": {
              "color": "white"
             }
            },
            "header": {
             "fill": {
              "color": "#C8D4E3"
             },
             "line": {
              "color": "white"
             }
            },
            "type": "table"
           }
          ]
         },
         "layout": {
          "annotationdefaults": {
           "arrowcolor": "#2a3f5f",
           "arrowhead": 0,
           "arrowwidth": 1
          },
          "autotypenumbers": "strict",
          "coloraxis": {
           "colorbar": {
            "outlinewidth": 0,
            "ticks": ""
           }
          },
          "colorscale": {
           "diverging": [
            [
             0,
             "#8e0152"
            ],
            [
             0.1,
             "#c51b7d"
            ],
            [
             0.2,
             "#de77ae"
            ],
            [
             0.3,
             "#f1b6da"
            ],
            [
             0.4,
             "#fde0ef"
            ],
            [
             0.5,
             "#f7f7f7"
            ],
            [
             0.6,
             "#e6f5d0"
            ],
            [
             0.7,
             "#b8e186"
            ],
            [
             0.8,
             "#7fbc41"
            ],
            [
             0.9,
             "#4d9221"
            ],
            [
             1,
             "#276419"
            ]
           ],
           "sequential": [
            [
             0,
             "#0d0887"
            ],
            [
             0.1111111111111111,
             "#46039f"
            ],
            [
             0.2222222222222222,
             "#7201a8"
            ],
            [
             0.3333333333333333,
             "#9c179e"
            ],
            [
             0.4444444444444444,
             "#bd3786"
            ],
            [
             0.5555555555555556,
             "#d8576b"
            ],
            [
             0.6666666666666666,
             "#ed7953"
            ],
            [
             0.7777777777777778,
             "#fb9f3a"
            ],
            [
             0.8888888888888888,
             "#fdca26"
            ],
            [
             1,
             "#f0f921"
            ]
           ],
           "sequentialminus": [
            [
             0,
             "#0d0887"
            ],
            [
             0.1111111111111111,
             "#46039f"
            ],
            [
             0.2222222222222222,
             "#7201a8"
            ],
            [
             0.3333333333333333,
             "#9c179e"
            ],
            [
             0.4444444444444444,
             "#bd3786"
            ],
            [
             0.5555555555555556,
             "#d8576b"
            ],
            [
             0.6666666666666666,
             "#ed7953"
            ],
            [
             0.7777777777777778,
             "#fb9f3a"
            ],
            [
             0.8888888888888888,
             "#fdca26"
            ],
            [
             1,
             "#f0f921"
            ]
           ]
          },
          "colorway": [
           "#636efa",
           "#EF553B",
           "#00cc96",
           "#ab63fa",
           "#FFA15A",
           "#19d3f3",
           "#FF6692",
           "#B6E880",
           "#FF97FF",
           "#FECB52"
          ],
          "font": {
           "color": "#2a3f5f"
          },
          "geo": {
           "bgcolor": "white",
           "lakecolor": "white",
           "landcolor": "#E5ECF6",
           "showlakes": true,
           "showland": true,
           "subunitcolor": "white"
          },
          "hoverlabel": {
           "align": "left"
          },
          "hovermode": "closest",
          "mapbox": {
           "style": "light"
          },
          "paper_bgcolor": "white",
          "plot_bgcolor": "#E5ECF6",
          "polar": {
           "angularaxis": {
            "gridcolor": "white",
            "linecolor": "white",
            "ticks": ""
           },
           "bgcolor": "#E5ECF6",
           "radialaxis": {
            "gridcolor": "white",
            "linecolor": "white",
            "ticks": ""
           }
          },
          "scene": {
           "xaxis": {
            "backgroundcolor": "#E5ECF6",
            "gridcolor": "white",
            "gridwidth": 2,
            "linecolor": "white",
            "showbackground": true,
            "ticks": "",
            "zerolinecolor": "white"
           },
           "yaxis": {
            "backgroundcolor": "#E5ECF6",
            "gridcolor": "white",
            "gridwidth": 2,
            "linecolor": "white",
            "showbackground": true,
            "ticks": "",
            "zerolinecolor": "white"
           },
           "zaxis": {
            "backgroundcolor": "#E5ECF6",
            "gridcolor": "white",
            "gridwidth": 2,
            "linecolor": "white",
            "showbackground": true,
            "ticks": "",
            "zerolinecolor": "white"
           }
          },
          "shapedefaults": {
           "line": {
            "color": "#2a3f5f"
           }
          },
          "ternary": {
           "aaxis": {
            "gridcolor": "white",
            "linecolor": "white",
            "ticks": ""
           },
           "baxis": {
            "gridcolor": "white",
            "linecolor": "white",
            "ticks": ""
           },
           "bgcolor": "#E5ECF6",
           "caxis": {
            "gridcolor": "white",
            "linecolor": "white",
            "ticks": ""
           }
          },
          "title": {
           "x": 0.05
          },
          "xaxis": {
           "automargin": true,
           "gridcolor": "white",
           "linecolor": "white",
           "ticks": "",
           "title": {
            "standoff": 15
           },
           "zerolinecolor": "white",
           "zerolinewidth": 2
          },
          "yaxis": {
           "automargin": true,
           "gridcolor": "white",
           "linecolor": "white",
           "ticks": "",
           "title": {
            "standoff": 15
           },
           "zerolinecolor": "white",
           "zerolinewidth": 2
          }
         }
        },
        "title": {
         "text": "Cumulative Cash Flow Over Project Life"
        },
        "xaxis": {
         "title": {
          "text": "Year"
         }
        },
        "yaxis": {
         "title": {
          "text": "Cumulative Cash Flow (USD)"
         }
        }
       }
      }
     },
     "metadata": {},
     "output_type": "display_data"
    },
    {
     "name": "stdout",
     "output_type": "stream",
     "text": [
      "\n",
      "🎯 Investment Attractiveness:\n",
      "   ✅ Positive NPV: Project creates value\n",
      "   ✅ IRR (20.1%) exceeds discount rate (15.0%)\n",
      "   ✅ Fast payback: 4.7 years is excellent for chemical industry\n"
     ]
    }
   ],
   "source": [
    "def calculate_project_npv(capex, annual_revenue, annual_variable_costs, \n",
    "                          discount_rate, project_life, \n",
    "                          annual_fixed_costs=0, tax_rate=0.21):\n",
    "    \"\"\"\n",
    "    Calculate NPV and IRR with more detailed cash flow model\n",
    "    \n",
    "    Parameters match actual thesis financial structure\n",
    "    \"\"\"\n",
    "    \n",
    "    # Year 0: Capital investment\n",
    "    cash_flows = [-capex]\n",
    "    \n",
    "    # Years 1-20: Operating cash flows\n",
    "    for year in range(1, project_life + 1):\n",
    "        # Revenue\n",
    "        revenue = annual_revenue\n",
    "        \n",
    "        # Costs\n",
    "        variable_cost = annual_variable_costs\n",
    "        fixed_cost = annual_fixed_costs\n",
    "        \n",
    "        # EBITDA\n",
    "        ebitda = revenue - variable_cost - fixed_cost\n",
    "        \n",
    "        # Depreciation (simplified - straight line over 7 years)\n",
    "        if year <= 7:\n",
    "            depreciation = capex / 7\n",
    "        else:\n",
    "            depreciation = 0\n",
    "        \n",
    "        # EBIT\n",
    "        ebit = ebitda - depreciation\n",
    "        \n",
    "        # Taxes\n",
    "        taxes = max(0, ebit * tax_rate)\n",
    "        \n",
    "        # Net Income\n",
    "        net_income = ebit - taxes\n",
    "        \n",
    "        # Cash Flow = Net Income + Depreciation (add back non-cash)\n",
    "        cash_flow = net_income + depreciation\n",
    "        \n",
    "        cash_flows.append(cash_flow)\n",
    "    \n",
    "    # Calculate NPV\n",
    "    npv_calc = npf.npv(discount_rate, cash_flows)\n",
    "    \n",
    "    # Calculate IRR\n",
    "    try:\n",
    "        irr_calc = npf.irr(cash_flows) * 100\n",
    "    except:\n",
    "        irr_calc = None\n",
    "    \n",
    "    # Simple payback\n",
    "    cumulative = -capex\n",
    "    payback_year = None\n",
    "    for year in range(1, project_life + 1):\n",
    "        cumulative += cash_flows[year]\n",
    "        if cumulative >= 0 and payback_year is None:\n",
    "            previous_cumulative = cumulative - cash_flows[year]  # Balance before this year\n",
    "            fraction_of_year = abs(previous_cumulative) / cash_flows[year]\n",
    "            payback_year = year - 1 + fraction_of_year\n",
    "            break\n",
    "    \n",
    "    return {\n",
    "        'NPV': npv_calc,\n",
    "        'IRR': irr_calc,\n",
    "        'Payback': payback_year,\n",
    "        'Cash Flows': cash_flows\n",
    "    }\n",
    "\n",
    "# Calculate with actual numbers\n",
    "results = calculate_project_npv(\n",
    "    capex=capex,\n",
    "    annual_revenue=total_revenue,\n",
    "    annual_variable_costs=variable_opex,\n",
    "    discount_rate=discount_rate,\n",
    "    project_life=int(plant_lifetime),\n",
    "    annual_fixed_costs=fixed_opex,\n",
    "    tax_rate=0.21\n",
    ")\n",
    "\n",
    "print(\"=\"*80)\n",
    "print(\"PROJECT FINANCIAL ANALYSIS\")\n",
    "print(\"=\"*80)\n",
    "print(f\"\\n💰 Net Present Value:\")\n",
    "print(f\"   NPV (15% discount):    ${results['NPV']/1e6:>8.2f} million\")\n",
    "\n",
    "print(f\"\\n📈 Internal Rate of Return:\")\n",
    "print(f\"   Calculated IRR:        {results['IRR']:>8.2f}%\")\n",
    "\n",
    "print(f\"\\n⏱️ Payback Period:\")\n",
    "if results['Payback'] is None:\n",
    "    print( f\"   Calculated:         {'Never':>8} (doesn't pay back within {plant_lifetime} years)\")\n",
    "else:\n",
    "    print(f\"   Calculated:            {results['Payback']:>8.1f} years\")\n",
    "\n",
    "# Visualize cumulative cash flow\n",
    "years = list(range(0, int(plant_lifetime) + 1))\n",
    "cumulative_cf = [results['Cash Flows'][0]]  # Start with -CapEx\n",
    "\n",
    "for i in range(1, len(results['Cash Flows'])):\n",
    "    cumulative_cf.append(cumulative_cf[-1] + results['Cash Flows'][i])\n",
    "\n",
    "fig = go.Figure()\n",
    "\n",
    "fig.add_trace(go.Scatter(\n",
    "    x=years,\n",
    "    y=cumulative_cf,\n",
    "    mode='lines+markers',\n",
    "    name='Cumulative Cash Flow',\n",
    "    fill='tozeroy',\n",
    "    line=dict(width=3, color='#2ecc71'),\n",
    "    marker=dict(size=6)\n",
    "))\n",
    "\n",
    "fig.add_hline(y=0, line_dash=\"dash\", line_color=\"red\", annotation_text=\"Break Even\")\n",
    "\n",
    "# Mark payback point\n",
    "if results['Payback']:\n",
    "    fig.add_vline(x=results['Payback'], line_dash=\"dot\", line_color=\"orange\",\n",
    "                  annotation_text=f\"Payback: {results['Payback']:.1f} years\")\n",
    "\n",
    "fig.update_layout(\n",
    "    title='Cumulative Cash Flow Over Project Life',\n",
    "    xaxis_title='Year',\n",
    "    yaxis_title='Cumulative Cash Flow (USD)',\n",
    "    hovermode='x unified',\n",
    "    height=500\n",
    ")\n",
    "\n",
    "fig.show()\n",
    "\n",
    "print(f\"\\n🎯 Investment Attractiveness:\")\n",
    "if results['NPV'] > 0:\n",
    "    print(f\"   ✅ Positive NPV: Project creates value\")\n",
    "if results['IRR'] and results['IRR'] > discount_rate * 100:\n",
    "    print(f\"   ✅ IRR ({results['IRR']:.1f}%) exceeds discount rate ({discount_rate*100}%)\")\n",
    "if results['Payback'] and results['Payback'] < 5:\n",
    "    print(f\"   ✅ Fast payback: {results['Payback']:.1f} years is excellent for chemical industry\")"
   ]
  },
  {
   "cell_type": "code",
   "execution_count": 1592,
   "id": "9855b189",
   "metadata": {},
   "outputs": [
    {
     "data": {
      "application/vnd.plotly.v1+json": {
       "config": {
        "plotlyServerURL": "https://plot.ly"
       },
       "data": [
        {
         "hovertemplate": "Capacity Factor<br>Low Case: $11.3M<extra></extra>",
         "marker": {
          "color": "#3498db"
         },
         "name": "Capacity Factor",
         "orientation": "h",
         "showlegend": false,
         "type": "bar",
         "x": [
          -1250730.7384670377
         ],
         "y": [
          "Capacity Factor"
         ]
        },
        {
         "hovertemplate": "Capacity Factor<br>High Case: $13.8M<extra></extra>",
         "marker": {
          "color": "#e74c3c"
         },
         "name": "Capacity Factor",
         "orientation": "h",
         "showlegend": false,
         "type": "bar",
         "x": [
          1250730.7384670395
         ],
         "y": [
          "Capacity Factor"
         ]
        },
        {
         "hovertemplate": "Discount Rate<br>Low Case: $11.3M<extra></extra>",
         "marker": {
          "color": "#3498db"
         },
         "name": "Discount Rate",
         "orientation": "h",
         "showlegend": false,
         "type": "bar",
         "x": [
          -1250730.7384670377
         ],
         "y": [
          "Discount Rate"
         ]
        },
        {
         "hovertemplate": "Discount Rate<br>High Case: $13.8M<extra></extra>",
         "marker": {
          "color": "#e74c3c"
         },
         "name": "Discount Rate",
         "orientation": "h",
         "showlegend": false,
         "type": "bar",
         "x": [
          1250730.7384670395
         ],
         "y": [
          "Discount Rate"
         ]
        },
        {
         "hovertemplate": "Carbon Conversion<br>Low Case: $11.3M<extra></extra>",
         "marker": {
          "color": "#3498db"
         },
         "name": "Carbon Conversion",
         "orientation": "h",
         "showlegend": false,
         "type": "bar",
         "x": [
          -1250730.7384670377
         ],
         "y": [
          "Carbon Conversion"
         ]
        },
        {
         "hovertemplate": "Carbon Conversion<br>High Case: $13.8M<extra></extra>",
         "marker": {
          "color": "#e74c3c"
         },
         "name": "Carbon Conversion",
         "orientation": "h",
         "showlegend": false,
         "type": "bar",
         "x": [
          1250730.7384670395
         ],
         "y": [
          "Carbon Conversion"
         ]
        },
        {
         "hovertemplate": "Rng Price<br>Low Case: $18.3M<extra></extra>",
         "marker": {
          "color": "#3498db"
         },
         "name": "Rng Price",
         "orientation": "h",
         "showlegend": false,
         "type": "bar",
         "x": [
          5757102.796212945
         ],
         "y": [
          "Rng Price"
         ]
        },
        {
         "hovertemplate": "Rng Price<br>High Case: $6.8M<extra></extra>",
         "marker": {
          "color": "#e74c3c"
         },
         "name": "Rng Price",
         "orientation": "h",
         "showlegend": false,
         "type": "bar",
         "x": [
          -5757102.796212946
         ],
         "y": [
          "Rng Price"
         ]
        },
        {
         "hovertemplate": "Capex Total<br>Low Case: $27.5M<extra></extra>",
         "marker": {
          "color": "#3498db"
         },
         "name": "Capex Total",
         "orientation": "h",
         "showlegend": false,
         "type": "bar",
         "x": [
          15000000
         ],
         "y": [
          "Capex Total"
         ]
        },
        {
         "hovertemplate": "Capex Total<br>High Case: $-2.5M<extra></extra>",
         "marker": {
          "color": "#e74c3c"
         },
         "name": "Capex Total",
         "orientation": "h",
         "showlegend": false,
         "type": "bar",
         "x": [
          -15000000
         ],
         "y": [
          "Capex Total"
         ]
        },
        {
         "hovertemplate": "Electricity Price<br>Low Case: $34.2M<extra></extra>",
         "marker": {
          "color": "#3498db"
         },
         "name": "Electricity Price",
         "orientation": "h",
         "showlegend": false,
         "type": "bar",
         "x": [
          21676704.522090405
         ],
         "y": [
          "Electricity Price"
         ]
        },
        {
         "hovertemplate": "Electricity Price<br>High Case: $-9.2M<extra></extra>",
         "marker": {
          "color": "#e74c3c"
         },
         "name": "Electricity Price",
         "orientation": "h",
         "showlegend": false,
         "type": "bar",
         "x": [
          -21676704.5220904
         ],
         "y": [
          "Electricity Price"
         ]
        },
        {
         "hovertemplate": "Hydrogen Price<br>Low Case: $-26.7M<extra></extra>",
         "marker": {
          "color": "#3498db"
         },
         "name": "Hydrogen Price",
         "orientation": "h",
         "showlegend": false,
         "type": "bar",
         "x": [
          -39228932.38327803
         ],
         "y": [
          "Hydrogen Price"
         ]
        },
        {
         "hovertemplate": "Hydrogen Price<br>High Case: $51.7M<extra></extra>",
         "marker": {
          "color": "#e74c3c"
         },
         "name": "Hydrogen Price",
         "orientation": "h",
         "showlegend": false,
         "type": "bar",
         "x": [
          39228932.38327803
         ],
         "y": [
          "Hydrogen Price"
         ]
        },
        {
         "hovertemplate": "Acetylene Black Price<br>Low Case: $-28.6M<extra></extra>",
         "marker": {
          "color": "#3498db"
         },
         "name": "Acetylene Black Price",
         "orientation": "h",
         "showlegend": false,
         "type": "bar",
         "x": [
          -41144972.83547578
         ],
         "y": [
          "Acetylene Black Price"
         ]
        },
        {
         "hovertemplate": "Acetylene Black Price<br>High Case: $53.7M<extra></extra>",
         "marker": {
          "color": "#e74c3c"
         },
         "name": "Acetylene Black Price",
         "orientation": "h",
         "showlegend": false,
         "type": "bar",
         "x": [
          41144972.83547578
         ],
         "y": [
          "Acetylene Black Price"
         ]
        }
       ],
       "layout": {
        "barmode": "overlay",
        "height": 500,
        "hovermode": "y unified",
        "shapes": [
         {
          "line": {
           "color": "black",
           "dash": "solid",
           "width": 2
          },
          "type": "line",
          "x0": 0,
          "x1": 0,
          "xref": "x",
          "y0": 0,
          "y1": 1,
          "yref": "y domain"
         }
        ],
        "template": {
         "data": {
          "bar": [
           {
            "error_x": {
             "color": "#2a3f5f"
            },
            "error_y": {
             "color": "#2a3f5f"
            },
            "marker": {
             "line": {
              "color": "#E5ECF6",
              "width": 0.5
             },
             "pattern": {
              "fillmode": "overlay",
              "size": 10,
              "solidity": 0.2
             }
            },
            "type": "bar"
           }
          ],
          "barpolar": [
           {
            "marker": {
             "line": {
              "color": "#E5ECF6",
              "width": 0.5
             },
             "pattern": {
              "fillmode": "overlay",
              "size": 10,
              "solidity": 0.2
             }
            },
            "type": "barpolar"
           }
          ],
          "carpet": [
           {
            "aaxis": {
             "endlinecolor": "#2a3f5f",
             "gridcolor": "white",
             "linecolor": "white",
             "minorgridcolor": "white",
             "startlinecolor": "#2a3f5f"
            },
            "baxis": {
             "endlinecolor": "#2a3f5f",
             "gridcolor": "white",
             "linecolor": "white",
             "minorgridcolor": "white",
             "startlinecolor": "#2a3f5f"
            },
            "type": "carpet"
           }
          ],
          "choropleth": [
           {
            "colorbar": {
             "outlinewidth": 0,
             "ticks": ""
            },
            "type": "choropleth"
           }
          ],
          "contour": [
           {
            "colorbar": {
             "outlinewidth": 0,
             "ticks": ""
            },
            "colorscale": [
             [
              0,
              "#0d0887"
             ],
             [
              0.1111111111111111,
              "#46039f"
             ],
             [
              0.2222222222222222,
              "#7201a8"
             ],
             [
              0.3333333333333333,
              "#9c179e"
             ],
             [
              0.4444444444444444,
              "#bd3786"
             ],
             [
              0.5555555555555556,
              "#d8576b"
             ],
             [
              0.6666666666666666,
              "#ed7953"
             ],
             [
              0.7777777777777778,
              "#fb9f3a"
             ],
             [
              0.8888888888888888,
              "#fdca26"
             ],
             [
              1,
              "#f0f921"
             ]
            ],
            "type": "contour"
           }
          ],
          "contourcarpet": [
           {
            "colorbar": {
             "outlinewidth": 0,
             "ticks": ""
            },
            "type": "contourcarpet"
           }
          ],
          "heatmap": [
           {
            "colorbar": {
             "outlinewidth": 0,
             "ticks": ""
            },
            "colorscale": [
             [
              0,
              "#0d0887"
             ],
             [
              0.1111111111111111,
              "#46039f"
             ],
             [
              0.2222222222222222,
              "#7201a8"
             ],
             [
              0.3333333333333333,
              "#9c179e"
             ],
             [
              0.4444444444444444,
              "#bd3786"
             ],
             [
              0.5555555555555556,
              "#d8576b"
             ],
             [
              0.6666666666666666,
              "#ed7953"
             ],
             [
              0.7777777777777778,
              "#fb9f3a"
             ],
             [
              0.8888888888888888,
              "#fdca26"
             ],
             [
              1,
              "#f0f921"
             ]
            ],
            "type": "heatmap"
           }
          ],
          "histogram": [
           {
            "marker": {
             "pattern": {
              "fillmode": "overlay",
              "size": 10,
              "solidity": 0.2
             }
            },
            "type": "histogram"
           }
          ],
          "histogram2d": [
           {
            "colorbar": {
             "outlinewidth": 0,
             "ticks": ""
            },
            "colorscale": [
             [
              0,
              "#0d0887"
             ],
             [
              0.1111111111111111,
              "#46039f"
             ],
             [
              0.2222222222222222,
              "#7201a8"
             ],
             [
              0.3333333333333333,
              "#9c179e"
             ],
             [
              0.4444444444444444,
              "#bd3786"
             ],
             [
              0.5555555555555556,
              "#d8576b"
             ],
             [
              0.6666666666666666,
              "#ed7953"
             ],
             [
              0.7777777777777778,
              "#fb9f3a"
             ],
             [
              0.8888888888888888,
              "#fdca26"
             ],
             [
              1,
              "#f0f921"
             ]
            ],
            "type": "histogram2d"
           }
          ],
          "histogram2dcontour": [
           {
            "colorbar": {
             "outlinewidth": 0,
             "ticks": ""
            },
            "colorscale": [
             [
              0,
              "#0d0887"
             ],
             [
              0.1111111111111111,
              "#46039f"
             ],
             [
              0.2222222222222222,
              "#7201a8"
             ],
             [
              0.3333333333333333,
              "#9c179e"
             ],
             [
              0.4444444444444444,
              "#bd3786"
             ],
             [
              0.5555555555555556,
              "#d8576b"
             ],
             [
              0.6666666666666666,
              "#ed7953"
             ],
             [
              0.7777777777777778,
              "#fb9f3a"
             ],
             [
              0.8888888888888888,
              "#fdca26"
             ],
             [
              1,
              "#f0f921"
             ]
            ],
            "type": "histogram2dcontour"
           }
          ],
          "mesh3d": [
           {
            "colorbar": {
             "outlinewidth": 0,
             "ticks": ""
            },
            "type": "mesh3d"
           }
          ],
          "parcoords": [
           {
            "line": {
             "colorbar": {
              "outlinewidth": 0,
              "ticks": ""
             }
            },
            "type": "parcoords"
           }
          ],
          "pie": [
           {
            "automargin": true,
            "type": "pie"
           }
          ],
          "scatter": [
           {
            "fillpattern": {
             "fillmode": "overlay",
             "size": 10,
             "solidity": 0.2
            },
            "type": "scatter"
           }
          ],
          "scatter3d": [
           {
            "line": {
             "colorbar": {
              "outlinewidth": 0,
              "ticks": ""
             }
            },
            "marker": {
             "colorbar": {
              "outlinewidth": 0,
              "ticks": ""
             }
            },
            "type": "scatter3d"
           }
          ],
          "scattercarpet": [
           {
            "marker": {
             "colorbar": {
              "outlinewidth": 0,
              "ticks": ""
             }
            },
            "type": "scattercarpet"
           }
          ],
          "scattergeo": [
           {
            "marker": {
             "colorbar": {
              "outlinewidth": 0,
              "ticks": ""
             }
            },
            "type": "scattergeo"
           }
          ],
          "scattergl": [
           {
            "marker": {
             "colorbar": {
              "outlinewidth": 0,
              "ticks": ""
             }
            },
            "type": "scattergl"
           }
          ],
          "scattermap": [
           {
            "marker": {
             "colorbar": {
              "outlinewidth": 0,
              "ticks": ""
             }
            },
            "type": "scattermap"
           }
          ],
          "scattermapbox": [
           {
            "marker": {
             "colorbar": {
              "outlinewidth": 0,
              "ticks": ""
             }
            },
            "type": "scattermapbox"
           }
          ],
          "scatterpolar": [
           {
            "marker": {
             "colorbar": {
              "outlinewidth": 0,
              "ticks": ""
             }
            },
            "type": "scatterpolar"
           }
          ],
          "scatterpolargl": [
           {
            "marker": {
             "colorbar": {
              "outlinewidth": 0,
              "ticks": ""
             }
            },
            "type": "scatterpolargl"
           }
          ],
          "scatterternary": [
           {
            "marker": {
             "colorbar": {
              "outlinewidth": 0,
              "ticks": ""
             }
            },
            "type": "scatterternary"
           }
          ],
          "surface": [
           {
            "colorbar": {
             "outlinewidth": 0,
             "ticks": ""
            },
            "colorscale": [
             [
              0,
              "#0d0887"
             ],
             [
              0.1111111111111111,
              "#46039f"
             ],
             [
              0.2222222222222222,
              "#7201a8"
             ],
             [
              0.3333333333333333,
              "#9c179e"
             ],
             [
              0.4444444444444444,
              "#bd3786"
             ],
             [
              0.5555555555555556,
              "#d8576b"
             ],
             [
              0.6666666666666666,
              "#ed7953"
             ],
             [
              0.7777777777777778,
              "#fb9f3a"
             ],
             [
              0.8888888888888888,
              "#fdca26"
             ],
             [
              1,
              "#f0f921"
             ]
            ],
            "type": "surface"
           }
          ],
          "table": [
           {
            "cells": {
             "fill": {
              "color": "#EBF0F8"
             },
             "line": {
              "color": "white"
             }
            },
            "header": {
             "fill": {
              "color": "#C8D4E3"
             },
             "line": {
              "color": "white"
             }
            },
            "type": "table"
           }
          ]
         },
         "layout": {
          "annotationdefaults": {
           "arrowcolor": "#2a3f5f",
           "arrowhead": 0,
           "arrowwidth": 1
          },
          "autotypenumbers": "strict",
          "coloraxis": {
           "colorbar": {
            "outlinewidth": 0,
            "ticks": ""
           }
          },
          "colorscale": {
           "diverging": [
            [
             0,
             "#8e0152"
            ],
            [
             0.1,
             "#c51b7d"
            ],
            [
             0.2,
             "#de77ae"
            ],
            [
             0.3,
             "#f1b6da"
            ],
            [
             0.4,
             "#fde0ef"
            ],
            [
             0.5,
             "#f7f7f7"
            ],
            [
             0.6,
             "#e6f5d0"
            ],
            [
             0.7,
             "#b8e186"
            ],
            [
             0.8,
             "#7fbc41"
            ],
            [
             0.9,
             "#4d9221"
            ],
            [
             1,
             "#276419"
            ]
           ],
           "sequential": [
            [
             0,
             "#0d0887"
            ],
            [
             0.1111111111111111,
             "#46039f"
            ],
            [
             0.2222222222222222,
             "#7201a8"
            ],
            [
             0.3333333333333333,
             "#9c179e"
            ],
            [
             0.4444444444444444,
             "#bd3786"
            ],
            [
             0.5555555555555556,
             "#d8576b"
            ],
            [
             0.6666666666666666,
             "#ed7953"
            ],
            [
             0.7777777777777778,
             "#fb9f3a"
            ],
            [
             0.8888888888888888,
             "#fdca26"
            ],
            [
             1,
             "#f0f921"
            ]
           ],
           "sequentialminus": [
            [
             0,
             "#0d0887"
            ],
            [
             0.1111111111111111,
             "#46039f"
            ],
            [
             0.2222222222222222,
             "#7201a8"
            ],
            [
             0.3333333333333333,
             "#9c179e"
            ],
            [
             0.4444444444444444,
             "#bd3786"
            ],
            [
             0.5555555555555556,
             "#d8576b"
            ],
            [
             0.6666666666666666,
             "#ed7953"
            ],
            [
             0.7777777777777778,
             "#fb9f3a"
            ],
            [
             0.8888888888888888,
             "#fdca26"
            ],
            [
             1,
             "#f0f921"
            ]
           ]
          },
          "colorway": [
           "#636efa",
           "#EF553B",
           "#00cc96",
           "#ab63fa",
           "#FFA15A",
           "#19d3f3",
           "#FF6692",
           "#B6E880",
           "#FF97FF",
           "#FECB52"
          ],
          "font": {
           "color": "#2a3f5f"
          },
          "geo": {
           "bgcolor": "white",
           "lakecolor": "white",
           "landcolor": "#E5ECF6",
           "showlakes": true,
           "showland": true,
           "subunitcolor": "white"
          },
          "hoverlabel": {
           "align": "left"
          },
          "hovermode": "closest",
          "mapbox": {
           "style": "light"
          },
          "paper_bgcolor": "white",
          "plot_bgcolor": "#E5ECF6",
          "polar": {
           "angularaxis": {
            "gridcolor": "white",
            "linecolor": "white",
            "ticks": ""
           },
           "bgcolor": "#E5ECF6",
           "radialaxis": {
            "gridcolor": "white",
            "linecolor": "white",
            "ticks": ""
           }
          },
          "scene": {
           "xaxis": {
            "backgroundcolor": "#E5ECF6",
            "gridcolor": "white",
            "gridwidth": 2,
            "linecolor": "white",
            "showbackground": true,
            "ticks": "",
            "zerolinecolor": "white"
           },
           "yaxis": {
            "backgroundcolor": "#E5ECF6",
            "gridcolor": "white",
            "gridwidth": 2,
            "linecolor": "white",
            "showbackground": true,
            "ticks": "",
            "zerolinecolor": "white"
           },
           "zaxis": {
            "backgroundcolor": "#E5ECF6",
            "gridcolor": "white",
            "gridwidth": 2,
            "linecolor": "white",
            "showbackground": true,
            "ticks": "",
            "zerolinecolor": "white"
           }
          },
          "shapedefaults": {
           "line": {
            "color": "#2a3f5f"
           }
          },
          "ternary": {
           "aaxis": {
            "gridcolor": "white",
            "linecolor": "white",
            "ticks": ""
           },
           "baxis": {
            "gridcolor": "white",
            "linecolor": "white",
            "ticks": ""
           },
           "bgcolor": "#E5ECF6",
           "caxis": {
            "gridcolor": "white",
            "linecolor": "white",
            "ticks": ""
           }
          },
          "title": {
           "x": 0.05
          },
          "xaxis": {
           "automargin": true,
           "gridcolor": "white",
           "linecolor": "white",
           "ticks": "",
           "title": {
            "standoff": 15
           },
           "zerolinecolor": "white",
           "zerolinewidth": 2
          },
          "yaxis": {
           "automargin": true,
           "gridcolor": "white",
           "linecolor": "white",
           "ticks": "",
           "title": {
            "standoff": 15
           },
           "zerolinecolor": "white",
           "zerolinewidth": 2
          }
         }
        },
        "title": {
         "text": "Sensitivity Analysis: Impact on NPV (Tornado Diagram)"
        },
        "xaxis": {
         "title": {
          "text": "Change in NPV from Base Case ($)"
         }
        },
        "yaxis": {
         "title": {
          "text": "Parameter"
         }
        }
       }
      }
     },
     "metadata": {},
     "output_type": "display_data"
    },
    {
     "name": "stdout",
     "output_type": "stream",
     "text": [
      "\n",
      "📊 Sensitivity Analysis Results:\n",
      "\n",
      "Parameters ranked by impact on NPV (most to least sensitive):\n",
      "\n",
      "================================================================================\n",
      "Acetylene Black Price................... Range: $  82.3M\n",
      "Hydrogen Price.......................... Range: $  78.5M\n",
      "Electricity Price....................... Range: $  43.4M\n",
      "Capex Total............................. Range: $  30.0M\n",
      "Rng Price............................... Range: $  11.5M\n",
      "Carbon Conversion....................... Range: $   2.5M\n",
      "Capacity Factor......................... Range: $   2.5M\n",
      "Discount Rate........................... Range: $   2.5M\n",
      "================================================================================\n",
      "\n",
      "💡 Key Insights:\n",
      "   • Most sensitive parameter: Acetylene Black Price\n",
      "   • NPV range: $-28.6M to $53.7M\n",
      "   • Project remains attractive across most scenarios if NPV > 0\n"
     ]
    }
   ],
   "source": [
    "# Sensitivity analysis on key parameters\n",
    "def sensitivity_analysis_tornado(base_npv, base_params):\n",
    "    \"\"\"\n",
    "    Run sensitivity analysis varying one parameter at a time\n",
    "    Calculate impact on NPV\n",
    "    \"\"\"\n",
    "    \n",
    "    results = []\n",
    "    \n",
    "    # Parameters to test from sensitivity_ranges\n",
    "    params_to_test = sensitivity_ranges['parameter'].tolist()\n",
    "    \n",
    "    for param in params_to_test:\n",
    "        row = sensitivity_ranges[sensitivity_ranges['parameter'] == param].iloc[0]\n",
    "        \n",
    "        low_val = row['low_value']\n",
    "        high_val = row['high_value']\n",
    "        base_val = row['base_value']\n",
    "        \n",
    "        # Calculate NPV at low and high values\n",
    "        # This is simplified - in reality you'd recalculate full model\n",
    "        # For demonstration, we'll estimate impact\n",
    "        \n",
    "        if param == 'electricity_price':\n",
    "            # Electricity affects variable costs\n",
    "            elec_cost_base = hydrogen_production * energy_per_h2 * base_val\n",
    "            elec_cost_low = hydrogen_production * energy_per_h2 * low_val\n",
    "            elec_cost_high = hydrogen_production * energy_per_h2 * high_val\n",
    "            \n",
    "            delta_low = elec_cost_base - elec_cost_low\n",
    "            delta_high = elec_cost_high - elec_cost_base\n",
    "            \n",
    "            # NPV impact (simplified: annual savings * annuity factor)\n",
    "            annuity_factor = (1 - (1 + discount_rate)**(-plant_lifetime)) / discount_rate\n",
    "            npv_low = base_npv + delta_low * annuity_factor\n",
    "            npv_high = base_npv - delta_high * annuity_factor\n",
    "            \n",
    "        elif param == 'hydrogen_price':\n",
    "            # H2 price affects revenue\n",
    "            revenue_change_low = (low_val - base_val) * hydrogen_production\n",
    "            revenue_change_high = (high_val - base_val) * hydrogen_production\n",
    "            \n",
    "            annuity_factor = (1 - (1 + discount_rate)**(-plant_lifetime)) / discount_rate\n",
    "            npv_low = base_npv + revenue_change_low * annuity_factor\n",
    "            npv_high = base_npv + revenue_change_high * annuity_factor\n",
    "            \n",
    "        elif param == 'acetylene_black_price':\n",
    "            # CB price affects revenue\n",
    "            revenue_change_low = (low_val - base_val) * acetylene_black_production\n",
    "            revenue_change_high = (high_val - base_val) * acetylene_black_production\n",
    "            \n",
    "            annuity_factor = (1 - (1 + discount_rate)**(-plant_lifetime)) / discount_rate\n",
    "            npv_low = base_npv + revenue_change_low * annuity_factor\n",
    "            npv_high = base_npv + revenue_change_high * annuity_factor\n",
    "            \n",
    "        elif param == 'capex_total':\n",
    "            # CapEx directly affects NPV\n",
    "            npv_low = base_npv + (base_val - low_val)\n",
    "            npv_high = base_npv + (base_val - high_val)\n",
    "            \n",
    "        elif param == 'rng_price':\n",
    "            # RNG price affects costs\n",
    "            rng_annual_consumption = 1923 * annual_operating_days * 24\n",
    "            cost_change_low = (low_val - base_val) * rng_annual_consumption\n",
    "            cost_change_high = (high_val - base_val) * rng_annual_consumption\n",
    "            \n",
    "            annuity_factor = (1 - (1 + discount_rate)**(-plant_lifetime)) / discount_rate\n",
    "            npv_low = base_npv - cost_change_low * annuity_factor\n",
    "            npv_high = base_npv - cost_change_high * annuity_factor\n",
    "            \n",
    "        else:\n",
    "            # For other parameters, use rough estimate\n",
    "            npv_low = base_npv * 0.9\n",
    "            npv_high = base_npv * 1.1\n",
    "        \n",
    "        results.append({\n",
    "            'Parameter': param.replace('_', ' ').title(),\n",
    "            'NPV_Low': npv_low,\n",
    "            'NPV_High': npv_high,\n",
    "            'Range': abs(npv_high - npv_low),\n",
    "            'Impact_Low': npv_low - base_npv,\n",
    "            'Impact_High': npv_high - base_npv\n",
    "        })\n",
    "    \n",
    "    return pd.DataFrame(results).sort_values('Range', ascending=True)\n",
    "\n",
    "# Run sensitivity analysis\n",
    "sensitivity_results = sensitivity_analysis_tornado(results['NPV'], {\n",
    "    'electricity_price': electricity_price,\n",
    "    'hydrogen_price': h2_price,\n",
    "    'acetylene_black_price': cb_price,\n",
    "    'capex_total': capex,\n",
    "    'rng_price': rng_price\n",
    "})\n",
    "\n",
    "# Create tornado diagram\n",
    "fig = go.Figure()\n",
    "\n",
    "# Add bars for each parameter\n",
    "for idx, row in sensitivity_results.iterrows():\n",
    "    fig.add_trace(go.Bar(\n",
    "        name=row['Parameter'],\n",
    "        y=[row['Parameter']],\n",
    "        x=[row['Impact_Low']],\n",
    "        orientation='h',\n",
    "        marker=dict(color='#3498db'),\n",
    "        showlegend=False,\n",
    "        hovertemplate=f\"{row['Parameter']}<br>Low Case: ${row['NPV_Low']/1e6:.1f}M<extra></extra>\"\n",
    "    ))\n",
    "    \n",
    "    fig.add_trace(go.Bar(\n",
    "        name=row['Parameter'],\n",
    "        y=[row['Parameter']],\n",
    "        x=[row['Impact_High']],\n",
    "        orientation='h',\n",
    "        marker=dict(color='#e74c3c'),\n",
    "        showlegend=False,\n",
    "        hovertemplate=f\"{row['Parameter']}<br>High Case: ${row['NPV_High']/1e6:.1f}M<extra></extra>\"\n",
    "    ))\n",
    "\n",
    "fig.add_vline(x=0, line_width=2, line_dash=\"solid\", line_color=\"black\")\n",
    "\n",
    "fig.update_layout(\n",
    "    title='Sensitivity Analysis: Impact on NPV (Tornado Diagram)',\n",
    "    xaxis_title='Change in NPV from Base Case ($)',\n",
    "    yaxis_title='Parameter',\n",
    "    barmode='overlay',\n",
    "    height=500,\n",
    "    hovermode='y unified'\n",
    ")\n",
    "\n",
    "fig.show()\n",
    "\n",
    "print(\"\\n📊 Sensitivity Analysis Results:\")\n",
    "print(\"\\nParameters ranked by impact on NPV (most to least sensitive):\")\n",
    "print(\"\\n\" + \"=\"*80)\n",
    "for idx, row in sensitivity_results.sort_values('Range', ascending=False).iterrows():\n",
    "    print(f\"{row['Parameter']:.<40} Range: ${row['Range']/1e6:>6.1f}M\")\n",
    "print(\"=\"*80)\n",
    "\n",
    "print(f\"\\n💡 Key Insights:\")\n",
    "most_sensitive = sensitivity_results.sort_values('Range', ascending=False).iloc[0]\n",
    "print(f\"   • Most sensitive parameter: {most_sensitive['Parameter']}\")\n",
    "print(f\"   • NPV range: ${most_sensitive['NPV_Low']/1e6:.1f}M to ${most_sensitive['NPV_High']/1e6:.1f}M\")\n",
    "print(f\"   • Project remains attractive across most scenarios if NPV > 0\")"
   ]
  },
  {
   "cell_type": "code",
   "execution_count": 1593,
   "id": "adc931f8",
   "metadata": {},
   "outputs": [
    {
     "data": {
      "text/html": [
       "<style type=\"text/css\">\n",
       "#T_4ec26_row0_col0, #T_4ec26_row0_col1, #T_4ec26_row0_col2, #T_4ec26_row0_col3, #T_4ec26_row0_col4, #T_4ec26_row1_col0, #T_4ec26_row1_col1, #T_4ec26_row1_col2, #T_4ec26_row1_col3, #T_4ec26_row1_col4, #T_4ec26_row2_col0, #T_4ec26_row2_col1, #T_4ec26_row2_col2, #T_4ec26_row2_col3, #T_4ec26_row2_col4, #T_4ec26_row3_col0, #T_4ec26_row3_col1, #T_4ec26_row3_col2, #T_4ec26_row3_col3, #T_4ec26_row3_col4, #T_4ec26_row4_col0, #T_4ec26_row4_col1, #T_4ec26_row4_col2, #T_4ec26_row4_col3, #T_4ec26_row4_col4 {\n",
       "  text-align: center;\n",
       "}\n",
       "</style>\n",
       "<table id=\"T_4ec26\">\n",
       "  <thead>\n",
       "    <tr>\n",
       "      <th class=\"blank level0\" >&nbsp;</th>\n",
       "      <th id=\"T_4ec26_level0_col0\" class=\"col_heading level0 col0\" >Scenario</th>\n",
       "      <th id=\"T_4ec26_level0_col1\" class=\"col_heading level0 col1\" >Electricity Price ($/kWh)</th>\n",
       "      <th id=\"T_4ec26_level0_col2\" class=\"col_heading level0 col2\" >LCOH ($/kg)</th>\n",
       "      <th id=\"T_4ec26_level0_col3\" class=\"col_heading level0 col3\" >NPV ($M)</th>\n",
       "      <th id=\"T_4ec26_level0_col4\" class=\"col_heading level0 col4\" >Gross Margin (%)</th>\n",
       "    </tr>\n",
       "  </thead>\n",
       "  <tbody>\n",
       "    <tr>\n",
       "      <th id=\"T_4ec26_level0_row0\" class=\"row_heading level0 row0\" >0</th>\n",
       "      <td id=\"T_4ec26_row0_col0\" class=\"data row0 col0\" >Very Low\n",
       "(Abundant Renewables)</td>\n",
       "      <td id=\"T_4ec26_row0_col1\" class=\"data row0 col1\" >0.03</td>\n",
       "      <td id=\"T_4ec26_row0_col2\" class=\"data row0 col2\" >1.66</td>\n",
       "      <td id=\"T_4ec26_row0_col3\" class=\"data row0 col3\" >37.8</td>\n",
       "      <td id=\"T_4ec26_row0_col4\" class=\"data row0 col4\" >76.8%</td>\n",
       "    </tr>\n",
       "    <tr>\n",
       "      <th id=\"T_4ec26_level0_row1\" class=\"row_heading level0 row1\" >1</th>\n",
       "      <td id=\"T_4ec26_row1_col0\" class=\"data row1 col0\" >Low\n",
       "(TX/Midwest Wind)</td>\n",
       "      <td id=\"T_4ec26_row1_col1\" class=\"data row1 col1\" >0.05</td>\n",
       "      <td id=\"T_4ec26_row1_col2\" class=\"data row1 col2\" >2.39</td>\n",
       "      <td id=\"T_4ec26_row1_col3\" class=\"data row1 col3\" >23.3</td>\n",
       "      <td id=\"T_4ec26_row1_col4\" class=\"data row1 col4\" >68.2%</td>\n",
       "    </tr>\n",
       "    <tr>\n",
       "      <th id=\"T_4ec26_level0_row2\" class=\"row_heading level0 row2\" >2</th>\n",
       "      <td id=\"T_4ec26_row2_col0\" class=\"data row2 col0\" >Base Case\n",
       "(Industrial Average)</td>\n",
       "      <td id=\"T_4ec26_row2_col1\" class=\"data row2 col1\" >0.07</td>\n",
       "      <td id=\"T_4ec26_row2_col2\" class=\"data row2 col2\" >3.13</td>\n",
       "      <td id=\"T_4ec26_row2_col3\" class=\"data row2 col3\" >8.9</td>\n",
       "      <td id=\"T_4ec26_row2_col4\" class=\"data row2 col4\" >59.7%</td>\n",
       "    </tr>\n",
       "    <tr>\n",
       "      <th id=\"T_4ec26_level0_row3\" class=\"row_heading level0 row3\" >3</th>\n",
       "      <td id=\"T_4ec26_row3_col0\" class=\"data row3 col0\" >High\n",
       "(CA/Northeast)</td>\n",
       "      <td id=\"T_4ec26_row3_col1\" class=\"data row3 col1\" >0.10</td>\n",
       "      <td id=\"T_4ec26_row3_col2\" class=\"data row3 col2\" >4.24</td>\n",
       "      <td id=\"T_4ec26_row3_col3\" class=\"data row3 col3\" >-12.8</td>\n",
       "      <td id=\"T_4ec26_row3_col4\" class=\"data row3 col4\" >46.8%</td>\n",
       "    </tr>\n",
       "    <tr>\n",
       "      <th id=\"T_4ec26_level0_row4\" class=\"row_heading level0 row4\" >4</th>\n",
       "      <td id=\"T_4ec26_row4_col0\" class=\"data row4 col0\" >Very High\n",
       "(Peak/Premium)</td>\n",
       "      <td id=\"T_4ec26_row4_col1\" class=\"data row4 col1\" >0.12</td>\n",
       "      <td id=\"T_4ec26_row4_col2\" class=\"data row4 col2\" >4.97</td>\n",
       "      <td id=\"T_4ec26_row4_col3\" class=\"data row4 col3\" >-27.2</td>\n",
       "      <td id=\"T_4ec26_row4_col4\" class=\"data row4 col4\" >38.3%</td>\n",
       "    </tr>\n",
       "  </tbody>\n",
       "</table>\n"
      ],
      "text/plain": [
       "<pandas.io.formats.style.Styler at 0x257486e1ea0>"
      ]
     },
     "metadata": {},
     "output_type": "display_data"
    },
    {
     "data": {
      "application/vnd.plotly.v1+json": {
       "config": {
        "plotlyServerURL": "https://plot.ly"
       },
       "data": [
        {
         "line": {
          "color": "#3498db",
          "width": 3
         },
         "marker": {
          "size": 10
         },
         "mode": "lines+markers",
         "name": "LCOH",
         "type": "scatter",
         "x": {
          "bdata": "uB6F61G4nj+amZmZmZmpP+xRuB6F67E/mpmZmZmZuT+4HoXrUbi+Pw==",
          "dtype": "f8"
         },
         "xaxis": "x",
         "y": {
          "bdata": "6H5ou9CA+j9AUm9RSiUDQAtlKkUsCglAnoBhmb/wEEADCj+TMOMTQA==",
          "dtype": "f8"
         },
         "yaxis": "y"
        },
        {
         "line": {
          "color": "#e74c3c",
          "width": 3
         },
         "marker": {
          "size": 10
         },
         "mode": "lines+markers",
         "name": "NPV",
         "type": "scatter",
         "x": {
          "bdata": "uB6F61G4nj+amZmZmZmpP+xRuB6F67E/mpmZmZmZuT+4HoXrUbi+Pw==",
          "dtype": "f8"
         },
         "xaxis": "x2",
         "y": {
          "bdata": "8Ww/af3lQkA25YkmfVg3QBvhKfX+ySFA5fy0DnqQKcAZc0+zujs7wA==",
          "dtype": "f8"
         },
         "yaxis": "y2"
        }
       ],
       "layout": {
        "annotations": [
         {
          "font": {
           "size": 16
          },
          "showarrow": false,
          "text": "LCOH vs Electricity Price",
          "x": 0.225,
          "xanchor": "center",
          "xref": "paper",
          "y": 1,
          "yanchor": "bottom",
          "yref": "paper"
         },
         {
          "font": {
           "size": 16
          },
          "showarrow": false,
          "text": "NPV vs Electricity Price",
          "x": 0.775,
          "xanchor": "center",
          "xref": "paper",
          "y": 1,
          "yanchor": "bottom",
          "yref": "paper"
         },
         {
          "showarrow": false,
          "text": "H₂ Market Price ($4.0/kg)",
          "x": 1,
          "xanchor": "right",
          "xref": "x domain",
          "y": 4,
          "yanchor": "bottom",
          "yref": "y"
         },
         {
          "showarrow": false,
          "text": "SMR LCOH ($2.50/kg)",
          "x": 1,
          "xanchor": "right",
          "xref": "x domain",
          "y": 2.5,
          "yanchor": "bottom",
          "yref": "y"
         },
         {
          "showarrow": false,
          "text": "Break Even",
          "x": 1,
          "xanchor": "right",
          "xref": "x2 domain",
          "y": 0,
          "yanchor": "bottom",
          "yref": "y2"
         }
        ],
        "height": 400,
        "shapes": [
         {
          "line": {
           "color": "green",
           "dash": "dash"
          },
          "type": "line",
          "x0": 0,
          "x1": 1,
          "xref": "x domain",
          "y0": 4,
          "y1": 4,
          "yref": "y"
         },
         {
          "line": {
           "color": "red",
           "dash": "dash"
          },
          "type": "line",
          "x0": 0,
          "x1": 1,
          "xref": "x domain",
          "y0": 2.5,
          "y1": 2.5,
          "yref": "y"
         },
         {
          "line": {
           "color": "red",
           "dash": "dash"
          },
          "type": "line",
          "x0": 0,
          "x1": 1,
          "xref": "x2 domain",
          "y0": 0,
          "y1": 0,
          "yref": "y2"
         }
        ],
        "showlegend": false,
        "template": {
         "data": {
          "bar": [
           {
            "error_x": {
             "color": "#2a3f5f"
            },
            "error_y": {
             "color": "#2a3f5f"
            },
            "marker": {
             "line": {
              "color": "#E5ECF6",
              "width": 0.5
             },
             "pattern": {
              "fillmode": "overlay",
              "size": 10,
              "solidity": 0.2
             }
            },
            "type": "bar"
           }
          ],
          "barpolar": [
           {
            "marker": {
             "line": {
              "color": "#E5ECF6",
              "width": 0.5
             },
             "pattern": {
              "fillmode": "overlay",
              "size": 10,
              "solidity": 0.2
             }
            },
            "type": "barpolar"
           }
          ],
          "carpet": [
           {
            "aaxis": {
             "endlinecolor": "#2a3f5f",
             "gridcolor": "white",
             "linecolor": "white",
             "minorgridcolor": "white",
             "startlinecolor": "#2a3f5f"
            },
            "baxis": {
             "endlinecolor": "#2a3f5f",
             "gridcolor": "white",
             "linecolor": "white",
             "minorgridcolor": "white",
             "startlinecolor": "#2a3f5f"
            },
            "type": "carpet"
           }
          ],
          "choropleth": [
           {
            "colorbar": {
             "outlinewidth": 0,
             "ticks": ""
            },
            "type": "choropleth"
           }
          ],
          "contour": [
           {
            "colorbar": {
             "outlinewidth": 0,
             "ticks": ""
            },
            "colorscale": [
             [
              0,
              "#0d0887"
             ],
             [
              0.1111111111111111,
              "#46039f"
             ],
             [
              0.2222222222222222,
              "#7201a8"
             ],
             [
              0.3333333333333333,
              "#9c179e"
             ],
             [
              0.4444444444444444,
              "#bd3786"
             ],
             [
              0.5555555555555556,
              "#d8576b"
             ],
             [
              0.6666666666666666,
              "#ed7953"
             ],
             [
              0.7777777777777778,
              "#fb9f3a"
             ],
             [
              0.8888888888888888,
              "#fdca26"
             ],
             [
              1,
              "#f0f921"
             ]
            ],
            "type": "contour"
           }
          ],
          "contourcarpet": [
           {
            "colorbar": {
             "outlinewidth": 0,
             "ticks": ""
            },
            "type": "contourcarpet"
           }
          ],
          "heatmap": [
           {
            "colorbar": {
             "outlinewidth": 0,
             "ticks": ""
            },
            "colorscale": [
             [
              0,
              "#0d0887"
             ],
             [
              0.1111111111111111,
              "#46039f"
             ],
             [
              0.2222222222222222,
              "#7201a8"
             ],
             [
              0.3333333333333333,
              "#9c179e"
             ],
             [
              0.4444444444444444,
              "#bd3786"
             ],
             [
              0.5555555555555556,
              "#d8576b"
             ],
             [
              0.6666666666666666,
              "#ed7953"
             ],
             [
              0.7777777777777778,
              "#fb9f3a"
             ],
             [
              0.8888888888888888,
              "#fdca26"
             ],
             [
              1,
              "#f0f921"
             ]
            ],
            "type": "heatmap"
           }
          ],
          "histogram": [
           {
            "marker": {
             "pattern": {
              "fillmode": "overlay",
              "size": 10,
              "solidity": 0.2
             }
            },
            "type": "histogram"
           }
          ],
          "histogram2d": [
           {
            "colorbar": {
             "outlinewidth": 0,
             "ticks": ""
            },
            "colorscale": [
             [
              0,
              "#0d0887"
             ],
             [
              0.1111111111111111,
              "#46039f"
             ],
             [
              0.2222222222222222,
              "#7201a8"
             ],
             [
              0.3333333333333333,
              "#9c179e"
             ],
             [
              0.4444444444444444,
              "#bd3786"
             ],
             [
              0.5555555555555556,
              "#d8576b"
             ],
             [
              0.6666666666666666,
              "#ed7953"
             ],
             [
              0.7777777777777778,
              "#fb9f3a"
             ],
             [
              0.8888888888888888,
              "#fdca26"
             ],
             [
              1,
              "#f0f921"
             ]
            ],
            "type": "histogram2d"
           }
          ],
          "histogram2dcontour": [
           {
            "colorbar": {
             "outlinewidth": 0,
             "ticks": ""
            },
            "colorscale": [
             [
              0,
              "#0d0887"
             ],
             [
              0.1111111111111111,
              "#46039f"
             ],
             [
              0.2222222222222222,
              "#7201a8"
             ],
             [
              0.3333333333333333,
              "#9c179e"
             ],
             [
              0.4444444444444444,
              "#bd3786"
             ],
             [
              0.5555555555555556,
              "#d8576b"
             ],
             [
              0.6666666666666666,
              "#ed7953"
             ],
             [
              0.7777777777777778,
              "#fb9f3a"
             ],
             [
              0.8888888888888888,
              "#fdca26"
             ],
             [
              1,
              "#f0f921"
             ]
            ],
            "type": "histogram2dcontour"
           }
          ],
          "mesh3d": [
           {
            "colorbar": {
             "outlinewidth": 0,
             "ticks": ""
            },
            "type": "mesh3d"
           }
          ],
          "parcoords": [
           {
            "line": {
             "colorbar": {
              "outlinewidth": 0,
              "ticks": ""
             }
            },
            "type": "parcoords"
           }
          ],
          "pie": [
           {
            "automargin": true,
            "type": "pie"
           }
          ],
          "scatter": [
           {
            "fillpattern": {
             "fillmode": "overlay",
             "size": 10,
             "solidity": 0.2
            },
            "type": "scatter"
           }
          ],
          "scatter3d": [
           {
            "line": {
             "colorbar": {
              "outlinewidth": 0,
              "ticks": ""
             }
            },
            "marker": {
             "colorbar": {
              "outlinewidth": 0,
              "ticks": ""
             }
            },
            "type": "scatter3d"
           }
          ],
          "scattercarpet": [
           {
            "marker": {
             "colorbar": {
              "outlinewidth": 0,
              "ticks": ""
             }
            },
            "type": "scattercarpet"
           }
          ],
          "scattergeo": [
           {
            "marker": {
             "colorbar": {
              "outlinewidth": 0,
              "ticks": ""
             }
            },
            "type": "scattergeo"
           }
          ],
          "scattergl": [
           {
            "marker": {
             "colorbar": {
              "outlinewidth": 0,
              "ticks": ""
             }
            },
            "type": "scattergl"
           }
          ],
          "scattermap": [
           {
            "marker": {
             "colorbar": {
              "outlinewidth": 0,
              "ticks": ""
             }
            },
            "type": "scattermap"
           }
          ],
          "scattermapbox": [
           {
            "marker": {
             "colorbar": {
              "outlinewidth": 0,
              "ticks": ""
             }
            },
            "type": "scattermapbox"
           }
          ],
          "scatterpolar": [
           {
            "marker": {
             "colorbar": {
              "outlinewidth": 0,
              "ticks": ""
             }
            },
            "type": "scatterpolar"
           }
          ],
          "scatterpolargl": [
           {
            "marker": {
             "colorbar": {
              "outlinewidth": 0,
              "ticks": ""
             }
            },
            "type": "scatterpolargl"
           }
          ],
          "scatterternary": [
           {
            "marker": {
             "colorbar": {
              "outlinewidth": 0,
              "ticks": ""
             }
            },
            "type": "scatterternary"
           }
          ],
          "surface": [
           {
            "colorbar": {
             "outlinewidth": 0,
             "ticks": ""
            },
            "colorscale": [
             [
              0,
              "#0d0887"
             ],
             [
              0.1111111111111111,
              "#46039f"
             ],
             [
              0.2222222222222222,
              "#7201a8"
             ],
             [
              0.3333333333333333,
              "#9c179e"
             ],
             [
              0.4444444444444444,
              "#bd3786"
             ],
             [
              0.5555555555555556,
              "#d8576b"
             ],
             [
              0.6666666666666666,
              "#ed7953"
             ],
             [
              0.7777777777777778,
              "#fb9f3a"
             ],
             [
              0.8888888888888888,
              "#fdca26"
             ],
             [
              1,
              "#f0f921"
             ]
            ],
            "type": "surface"
           }
          ],
          "table": [
           {
            "cells": {
             "fill": {
              "color": "#EBF0F8"
             },
             "line": {
              "color": "white"
             }
            },
            "header": {
             "fill": {
              "color": "#C8D4E3"
             },
             "line": {
              "color": "white"
             }
            },
            "type": "table"
           }
          ]
         },
         "layout": {
          "annotationdefaults": {
           "arrowcolor": "#2a3f5f",
           "arrowhead": 0,
           "arrowwidth": 1
          },
          "autotypenumbers": "strict",
          "coloraxis": {
           "colorbar": {
            "outlinewidth": 0,
            "ticks": ""
           }
          },
          "colorscale": {
           "diverging": [
            [
             0,
             "#8e0152"
            ],
            [
             0.1,
             "#c51b7d"
            ],
            [
             0.2,
             "#de77ae"
            ],
            [
             0.3,
             "#f1b6da"
            ],
            [
             0.4,
             "#fde0ef"
            ],
            [
             0.5,
             "#f7f7f7"
            ],
            [
             0.6,
             "#e6f5d0"
            ],
            [
             0.7,
             "#b8e186"
            ],
            [
             0.8,
             "#7fbc41"
            ],
            [
             0.9,
             "#4d9221"
            ],
            [
             1,
             "#276419"
            ]
           ],
           "sequential": [
            [
             0,
             "#0d0887"
            ],
            [
             0.1111111111111111,
             "#46039f"
            ],
            [
             0.2222222222222222,
             "#7201a8"
            ],
            [
             0.3333333333333333,
             "#9c179e"
            ],
            [
             0.4444444444444444,
             "#bd3786"
            ],
            [
             0.5555555555555556,
             "#d8576b"
            ],
            [
             0.6666666666666666,
             "#ed7953"
            ],
            [
             0.7777777777777778,
             "#fb9f3a"
            ],
            [
             0.8888888888888888,
             "#fdca26"
            ],
            [
             1,
             "#f0f921"
            ]
           ],
           "sequentialminus": [
            [
             0,
             "#0d0887"
            ],
            [
             0.1111111111111111,
             "#46039f"
            ],
            [
             0.2222222222222222,
             "#7201a8"
            ],
            [
             0.3333333333333333,
             "#9c179e"
            ],
            [
             0.4444444444444444,
             "#bd3786"
            ],
            [
             0.5555555555555556,
             "#d8576b"
            ],
            [
             0.6666666666666666,
             "#ed7953"
            ],
            [
             0.7777777777777778,
             "#fb9f3a"
            ],
            [
             0.8888888888888888,
             "#fdca26"
            ],
            [
             1,
             "#f0f921"
            ]
           ]
          },
          "colorway": [
           "#636efa",
           "#EF553B",
           "#00cc96",
           "#ab63fa",
           "#FFA15A",
           "#19d3f3",
           "#FF6692",
           "#B6E880",
           "#FF97FF",
           "#FECB52"
          ],
          "font": {
           "color": "#2a3f5f"
          },
          "geo": {
           "bgcolor": "white",
           "lakecolor": "white",
           "landcolor": "#E5ECF6",
           "showlakes": true,
           "showland": true,
           "subunitcolor": "white"
          },
          "hoverlabel": {
           "align": "left"
          },
          "hovermode": "closest",
          "mapbox": {
           "style": "light"
          },
          "paper_bgcolor": "white",
          "plot_bgcolor": "#E5ECF6",
          "polar": {
           "angularaxis": {
            "gridcolor": "white",
            "linecolor": "white",
            "ticks": ""
           },
           "bgcolor": "#E5ECF6",
           "radialaxis": {
            "gridcolor": "white",
            "linecolor": "white",
            "ticks": ""
           }
          },
          "scene": {
           "xaxis": {
            "backgroundcolor": "#E5ECF6",
            "gridcolor": "white",
            "gridwidth": 2,
            "linecolor": "white",
            "showbackground": true,
            "ticks": "",
            "zerolinecolor": "white"
           },
           "yaxis": {
            "backgroundcolor": "#E5ECF6",
            "gridcolor": "white",
            "gridwidth": 2,
            "linecolor": "white",
            "showbackground": true,
            "ticks": "",
            "zerolinecolor": "white"
           },
           "zaxis": {
            "backgroundcolor": "#E5ECF6",
            "gridcolor": "white",
            "gridwidth": 2,
            "linecolor": "white",
            "showbackground": true,
            "ticks": "",
            "zerolinecolor": "white"
           }
          },
          "shapedefaults": {
           "line": {
            "color": "#2a3f5f"
           }
          },
          "ternary": {
           "aaxis": {
            "gridcolor": "white",
            "linecolor": "white",
            "ticks": ""
           },
           "baxis": {
            "gridcolor": "white",
            "linecolor": "white",
            "ticks": ""
           },
           "bgcolor": "#E5ECF6",
           "caxis": {
            "gridcolor": "white",
            "linecolor": "white",
            "ticks": ""
           }
          },
          "title": {
           "x": 0.05
          },
          "xaxis": {
           "automargin": true,
           "gridcolor": "white",
           "linecolor": "white",
           "ticks": "",
           "title": {
            "standoff": 15
           },
           "zerolinecolor": "white",
           "zerolinewidth": 2
          },
          "yaxis": {
           "automargin": true,
           "gridcolor": "white",
           "linecolor": "white",
           "ticks": "",
           "title": {
            "standoff": 15
           },
           "zerolinecolor": "white",
           "zerolinewidth": 2
          }
         }
        },
        "title": {
         "text": "Electricity Price Scenario Analysis"
        },
        "xaxis": {
         "anchor": "y",
         "domain": [
          0,
          0.45
         ],
         "title": {
          "text": "Electricity Price ($/kWh)"
         }
        },
        "xaxis2": {
         "anchor": "y2",
         "domain": [
          0.55,
          1
         ],
         "title": {
          "text": "Electricity Price ($/kWh)"
         }
        },
        "yaxis": {
         "anchor": "x",
         "domain": [
          0,
          1
         ],
         "title": {
          "text": "LCOH ($/kg H₂)"
         }
        },
        "yaxis2": {
         "anchor": "x2",
         "domain": [
          0,
          1
         ],
         "title": {
          "text": "NPV ($ millions)"
         }
        }
       }
      }
     },
     "metadata": {},
     "output_type": "display_data"
    },
    {
     "name": "stdout",
     "output_type": "stream",
     "text": [
      "\n",
      "💡 Strategic Insights:\n",
      "\n",
      "🌟 Best Case (Abundant Renewables at $0.03/kWh):\n",
      "   • LCOH: $1.66/kg\n",
      "   • NPV: $37.8M\n",
      "   • Project is HIGHLY attractive\n",
      "\n",
      "⚠️ Worst Case (Premium Electricity at $0.12/kWh):\n",
      "   • LCOH: $4.97/kg\n",
      "   • NPV: $-27.2M\n",
      "   • Project is NOT viable\n",
      "\n",
      "🎯 Optimal Deployment Strategy:\n",
      "   • Target regions with low-cost renewable electricity\n",
      "   • Co-locate with wind/solar farms for direct PPAs\n",
      "   • Consider regions: West Texas, Midwest, Pacific Northwest\n",
      "   • Avoid: High electricity cost regions unless H₂ prices are premium\n"
     ]
    }
   ],
   "source": [
    "# Detailed scenario analysis for electricity price\n",
    "# This is the most sensitive variable and represents renewable energy availability\n",
    "\n",
    "electricity_scenarios = {\n",
    "    'Scenario': [\n",
    "        'Very Low\\n(Abundant Renewables)',\n",
    "        'Low\\n(TX/Midwest Wind)',\n",
    "        'Base Case\\n(Industrial Average)',\n",
    "        'High\\n(CA/Northeast)',\n",
    "        'Very High\\n(Peak/Premium)'\n",
    "    ],\n",
    "    'Electricity Price ($/kWh)': [0.03, 0.05, 0.07, 0.10, 0.12],\n",
    "    'Context': [\n",
    "        'West Texas wind, overnight rates',\n",
    "        'PPA with wind farm',\n",
    "        'Standard industrial rate',\n",
    "        'High-cost regions',\n",
    "        'Peak demand pricing'\n",
    "    ]\n",
    "}\n",
    "\n",
    "scenario_df = pd.DataFrame(electricity_scenarios)\n",
    "\n",
    "# Calculate metrics for each scenario\n",
    "lcoh_scenarios = []\n",
    "npv_scenarios = []\n",
    "margin_scenarios = []\n",
    "\n",
    "for elec_price in scenario_df['Electricity Price ($/kWh)']:\n",
    "    # Recalculate electricity cost\n",
    "    annual_elec = hydrogen_production * energy_per_h2 * elec_price\n",
    "    \n",
    "    # Recalculate variable costs\n",
    "    new_variable_costs = (rng_cost + annual_elec + cooling_water_cost + process_water_cost)\n",
    "    \n",
    "    # Recalculate margin\n",
    "    new_margin = total_revenue - new_variable_costs\n",
    "    margin_pct = new_margin / total_revenue * 100\n",
    "    \n",
    "    # Estimate NPV impact\n",
    "    cost_delta = annual_elec - electricity_cost\n",
    "    annuity_factor = (1 - (1 + discount_rate)**(-plant_lifetime)) / discount_rate\n",
    "    new_npv = results['NPV'] - cost_delta * annuity_factor\n",
    "    \n",
    "    # LCOH estimate\n",
    "    # Simplified: base LCOH + electricity cost change per kg H2\n",
    "    lcoh_delta = (elec_price - electricity_price) * energy_per_h2\n",
    "    new_lcoh = lcoh + lcoh_delta\n",
    "    \n",
    "    lcoh_scenarios.append(new_lcoh)\n",
    "    npv_scenarios.append(new_npv)\n",
    "    margin_scenarios.append(margin_pct)\n",
    "\n",
    "scenario_df['LCOH ($/kg)'] = lcoh_scenarios\n",
    "scenario_df['NPV ($M)'] = [x/1e6 for x in npv_scenarios]\n",
    "scenario_df['Gross Margin (%)'] = margin_scenarios\n",
    "\n",
    "# Display table\n",
    "display(scenario_df[['Scenario', 'Electricity Price ($/kWh)', 'LCOH ($/kg)', \n",
    "                     'NPV ($M)', 'Gross Margin (%)']].style.format({\n",
    "    'Electricity Price ($/kWh)': '{:.2f}',\n",
    "    'LCOH ($/kg)': '{:.2f}',\n",
    "    'NPV ($M)': '{:.1f}',\n",
    "    'Gross Margin (%)': '{:.1f}%'\n",
    "}).set_properties(**{'text-align': 'center'}))\n",
    "\n",
    "# Visualize\n",
    "fig = make_subplots(\n",
    "    rows=1, cols=2,\n",
    "    subplot_titles=('LCOH vs Electricity Price', 'NPV vs Electricity Price')\n",
    ")\n",
    "\n",
    "fig.add_trace(\n",
    "    go.Scatter(\n",
    "        x=scenario_df['Electricity Price ($/kWh)'],\n",
    "        y=scenario_df['LCOH ($/kg)'],\n",
    "        mode='lines+markers',\n",
    "        name='LCOH',\n",
    "        line=dict(width=3, color='#3498db'),\n",
    "        marker=dict(size=10)\n",
    "    ),\n",
    "    row=1, col=1\n",
    ")\n",
    "\n",
    "# Add H2 market price reference\n",
    "fig.add_hline(y=h2_price, line_dash=\"dash\", line_color=\"green\", \n",
    "              annotation_text=f\"H₂ Market Price (${h2_price}/kg)\",\n",
    "              row=1, col=1)\n",
    "\n",
    "# add SMR LCOH\n",
    "fig.add_hline(y=2.50, line_dash=\"dash\", line_color=\"red\",\n",
    "              annotation_text=\"SMR LCOH ($2.50/kg)\",\n",
    "              row=1, col=1)\n",
    "\n",
    "fig.add_trace(\n",
    "    go.Scatter(\n",
    "        x=scenario_df['Electricity Price ($/kWh)'],\n",
    "        y=scenario_df['NPV ($M)'],\n",
    "        mode='lines+markers',\n",
    "        name='NPV',\n",
    "        line=dict(width=3, color='#e74c3c'),\n",
    "        marker=dict(size=10)\n",
    "    ),\n",
    "    row=1, col=2\n",
    ")\n",
    "\n",
    "fig.add_hline(y=0, line_dash=\"dash\", line_color=\"red\",\n",
    "              annotation_text=\"Break Even\",\n",
    "              row=1, col=2)\n",
    "\n",
    "fig.update_xaxes(title_text=\"Electricity Price ($/kWh)\", row=1, col=1)\n",
    "fig.update_xaxes(title_text=\"Electricity Price ($/kWh)\", row=1, col=2)\n",
    "fig.update_yaxes(title_text=\"LCOH ($/kg H₂)\", row=1, col=1)\n",
    "fig.update_yaxes(title_text=\"NPV ($ millions)\", row=1, col=2)\n",
    "\n",
    "fig.update_layout(height=400, showlegend=False, title_text=\"Electricity Price Scenario Analysis\")\n",
    "\n",
    "fig.show()\n",
    "\n",
    "print(f\"\\n💡 Strategic Insights:\")\n",
    "print(f\"\\n🌟 Best Case (Abundant Renewables at $0.03/kWh):\")\n",
    "print(f\"   • LCOH: ${lcoh_scenarios[0]:.2f}/kg\")\n",
    "print(f\"   • NPV: ${npv_scenarios[0]/1e6:.1f}M\")\n",
    "print(f\"   • Project is HIGHLY attractive\")\n",
    "\n",
    "print(f\"\\n⚠️ Worst Case (Premium Electricity at $0.12/kWh):\")\n",
    "print(f\"   • LCOH: ${lcoh_scenarios[-1]:.2f}/kg\")\n",
    "print(f\"   • NPV: ${npv_scenarios[-1]/1e6:.1f}M\")\n",
    "worst_viable = \"still viable\" if npv_scenarios[-1] > 0 else \"NOT viable\"\n",
    "print(f\"   • Project is {worst_viable}\")\n",
    "\n",
    "print(f\"\\n🎯 Optimal Deployment Strategy:\")\n",
    "print(f\"   • Target regions with low-cost renewable electricity\")\n",
    "print(f\"   • Co-locate with wind/solar farms for direct PPAs\")\n",
    "print(f\"   • Consider regions: West Texas, Midwest, Pacific Northwest\")\n",
    "print(f\"   • Avoid: High electricity cost regions unless H₂ prices are premium\")"
   ]
  },
  {
   "cell_type": "code",
   "execution_count": 1594,
   "id": "9b13c149",
   "metadata": {},
   "outputs": [
    {
     "name": "stdout",
     "output_type": "stream",
     "text": [
      "Running Monte Carlo simulation with 5,000 iterations...\n",
      "This quantifies project risk by sampling from parameter distributions\n",
      "\n",
      "================================================================================\n",
      "MONTE CARLO UNCERTAINTY ANALYSIS RESULTS (5,000 iterations)\n",
      "================================================================================\n",
      "\n",
      "💰 NET PRESENT VALUE:\n",
      "   Mean:              $   68.84 million\n",
      "   Median:            $   68.88 million\n",
      "   Std Deviation:     $   20.08 million\n",
      "   5th Percentile:    $   36.11 million\n",
      "   95th Percentile:   $  101.39 million\n",
      "   Probability NPV>0:    99.9%\n",
      "\n",
      "💵 LEVELIZED COST OF HYDROGEN:\n",
      "   Mean:              $    0.74/kg\n",
      "   Median:            $    0.75/kg\n",
      "   Std Deviation:     $    0.82/kg\n",
      "   5th Percentile:    $   -0.60/kg\n",
      "   95th Percentile:   $    2.07/kg\n",
      "   Probability LCOH<$3.18: 100.0%\n",
      "\n",
      "📊 GROSS MARGIN:\n",
      "   Mean:                  62.2%\n",
      "   Median:                62.6%\n",
      "   5th Percentile:        51.8%\n",
      "   95th Percentile:       71.3%\n",
      "   Probability Margin>20%: 100.0%\n"
     ]
    },
    {
     "data": {
      "application/vnd.plotly.v1+json": {
       "config": {
        "plotlyServerURL": "https://plot.ly"
       },
       "data": [
        {
         "marker": {
          "color": "#3498db"
         },
         "name": "NPV",
         "nbinsx": 50,
         "showlegend": false,
         "type": "histogram",
         "x": {
          "bdata": "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",
          "dtype": "f8"
         },
         "xaxis": "x",
         "yaxis": "y"
        },
        {
         "marker": {
          "color": "#2ecc71"
         },
         "name": "LCOH",
         "nbinsx": 50,
         "showlegend": false,
         "type": "histogram",
         "x": {
          "bdata": "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",
          "dtype": "f8"
         },
         "xaxis": "x2",
         "yaxis": "y2"
        },
        {
         "marker": {
          "color": "#e74c3c"
         },
         "name": "Margin",
         "nbinsx": 50,
         "showlegend": false,
         "type": "histogram",
         "x": {
          "bdata": "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",
          "dtype": "f8"
         },
         "xaxis": "x3",
         "yaxis": "y3"
        },
        {
         "line": {
          "color": "#9b59b6",
          "width": 3
         },
         "mode": "lines",
         "showlegend": false,
         "type": "scatter",
         "x": {
          "bdata": "Z1QTIfNhI8DzWabvTO8XwNhF6UK0K/O/XhDhUtnI/z9QUEYtilQGQEP/8PdehhxA4pK+9rzhIUD9E+h29eUiQLuXMxCDeyNAWVKg9OLXI0Ce04IjFuQjQCfC8+3hSSRAvjA4wp+dJUCtpP8q5dklQOFEezCRXSZAUyJXv60wJ0Ce0JB3Ym8nQO1Jc65ugClAV0Fjcwq8LEALmiXk3vosQK9CbMRkEy9AgNTOKcxhL0CSWTY3N7MvQNQnAXa61S9AI69sR3ROMEC3eR2/DkQxQKsiYkguTTFAxs3ogfxdMUAX1RdTLGwxQCDw7GBdhDFAeCcEHq2MMUAB3GLXAZ8xQIQbn2A9sTFAYEmr1i1FMkCaNDt9DlIyQO4UEdVu2TJACwvk3BPuMkCDJDeI3BkzQEQj/d5KVjNAokFGZO17M0A+E8wcyYozQMrE6HYNizNAZY6UM8PlM0Bu+nJotAo0QHamkBFPkzRAiufbV+ytNEDT+L+UDMU0QCHWPEqWxjRAtI7GXYT2NECWapKBTAA1QH/Bo5vFLTVAPwxc8pUONkBrx8SbKRw2QDB1kzVAMTZAhxaQXcx+NkAo1bQJH+02QLtfDnDeDTdAoSB3AkA2N0AydXi43Yk3QJ7+0oHHyTdA+2YtpF76N0DS4qhFsQo4QPimvNvPOThAdrP5uII8OEDSZakrJUE4QCzvB76/SDhAHBgw7v5IOEAkY2TfR1M4QP8yKbu7XThAtpE2ar6fOEApT7BfnR85QG+CUL/MTTlANe4osPNVOUDTsasdTq05QLkOscorrjlA12tbVSm6OUCwjf1MBtQ5QA/WDLQA3DlAq6BJDs0POkBPv1ZxkhY6QBtK5vHjIzpAbqfyomsmOkD3A/1Pryk6QF6EEAMyMjpA4TSeqYVCOkAm7oZIo3Q6QHzu34FkiTpAn3KI5W2nOkCsA34q8fs6QGQ/PlnX/TpAnBlD2lACO0ATnez7FAc7QPhG9ovPCztA7D6BFH0gO0Ajcy7oECI7QK8Zq9bxPjtA1tPUgwZAO0BQck5c11c7QGBaZEwVXTtAPBHMKrBtO0DbwbWa6po7QJUZjTDPpztAv8Ml2ie6O0BBgxQIi/U7QEsj/S5BFzxAmodNL48XPEBThUJdjRk8QAvQTsnpKzxA9M/KAf1APEDaZiOt5U08QKU8nKPndjxAFlG6LfeHPEB9EslVq5A8QDtgzdcoqDxAYjDkn7S5PECGSD/qn8c8QGedaS3H4jxA6OmkFb7xPEBdGWcEABg9QPpeWIrjHD1AIii2jcQ0PUA7tsjVVT89QGUaxfzVQz1ANtvPFnpMPUAg+zjFTl89QOSjFeYFbz1A/weEpB50PUB+iiiJAng9QFe1a12Gez1ATwNgxmB8PUBuJv2Wv589QKmGV9iAtz1At4uGThvlPUDWKJBAZeo9QEfzZPfP+j1AB/yTbP0GPkA4TUF7zgc+QMy3rEoxEj5ABRRIN3IUPkDRTjvzgiQ+QPJdES9aUD5AywQmcXZsPkCpoutMVX8+QM4pZhF+lz5AAUHCQ7eePkAUkqCBCKY+QL+4fjGM2T5AQzqBVEHuPkCo0fbLPgg/QAK6Sfi0ED9A/vAHmPslP0Dl0uVkxS4/QO8c3MW2Mj9ARLTC8td7P0DSxBJwToQ/QEQ29Jcroj9At0Vpdt2wP0CJihk9IcI/QNSdN05W0j9A9MHskyj8P0DSTTLndwRAQJO6Z1qID0BA+nJ0PZ8QQEB3USf17BhAQLUGRBY9HUBAzk3vl9YdQEC5iVDpySNAQITmOd/uKUBAXu471a8rQEBxBbYksTNAQBehxn4ON0BATUJhiEI7QEDVClVNtz9AQCDSjujKRkBAnJSWLfFGQEDHziPZjUtAQHXkgNZKUUBAqfKlUIVhQECnhUjjMmZAQEaiNqCmbEBA3wHOzq59QED4AdO9T39AQE4UuggPiUBAuVQD09qPQECHATXSoJFAQIj7zcq/kUBApfzh1hieQECEQakgr59AQKKUVlQHokBAcFwSsN+mQEBxvBf+ralAQOuvkkXGzkBAoHggA3vbQEDYAJLbq+BAQCDonF0T60BAxxD6adfrQEAioGqyne1AQDARe7I+A0FAtKV2pAAHQUDAxyvKRA5BQPUXicByEkFAoHTAHrQYQUC1jcuUxhpBQJt/BkjrIEFAXRIUbE4hQUDXAMjPVyVBQFVfgA6ZJkFAA8PlSl8rQUA28clZFixBQLHV+ZT2L0FAgYomrko9QUBj+a92qz1BQKrpMDqlP0FAXIzPe0JGQUCc21Q6/1NBQOYnigDDVEFADt3rK/VgQUDfkFFTI2NBQCmNwl5IZ0FAUyqCqrttQUBxTWa7rXFBQCiG8CB1eUFA7Y239g6AQUDDuDm6cYpBQHRceMbcikFAZZohJxOeQUCRxzXQuKNBQAGduhmypkFAGC47cXapQUBn1mv3ealBQO/l0OAwsUFAMY+VPyWyQUAql7SQHrVBQGggbkAotkFAMGLIWNq8QUBMcbz9875BQMgF6dxoxEFAz+1Zr/DZQUDJlvOkDd5BQJAvdwE+5EFAWGae+rrmQUAi1WOuN+hBQAsPbpgS8UFACxPwqj32QUDR9DYtIPlBQAQ7UEB++0FAywGuMnsAQkDhfiDUhgVCQMai5YoUCUJAvqw14msJQkDTj4BsaQ5CQGVVvcekEkJA9LCmwfgSQkCORVwpUBZCQHnTETOUHkJApWbDRxkiQkAIqPoeeyZCQFsiwFamJ0JAAxbTyC8oQkDC2ZG9pytCQGn12j+tK0JARpvo5LYsQkAGDPcI5ixCQHnVGO/5MUJAtk06w8YzQkCwbdjLlTZCQKbX+GTRN0JAcYyYldw/QkCE/EPdBUJCQF2djqhARkJAubnVWJhKQkCEZEdt+ldCQF1tp7w7W0JALHgNcDtdQkAiOn9rAV5CQDYRRQZ7ZEJAT5Z0iZlnQkAXLdpvwWdCQHv8xIi4bEJAb0+WYLJwQkA4OWU9yHNCQFYLzJjxdEJAF84fY7d5QkAcpth2BntCQAOdUJuqgEJAkNuk9lODQkBxC6uXkIRCQFw99NKkhUJA5GBTezeLQkC4j6iYTI9CQDj3kq+lk0JAM3BCkUKWQkA+ggto1JtCQPeSfIcqn0JAXexvu3unQkB4qUHiyapCQEEYadutskJAwik5NIXAQkCth9D78MFCQCJcih5Kx0JAuqUD6YTMQkD5XSgbrMxCQIe2OGGAzUJAXnZD24XOQkA2OsyReM9CQKszrX9H0EJA7oPg/+PVQkDSpWDcbtpCQK8HqtNd50JABJR+MFHoQkDCNGedY+lCQD3C6VW+7EJA8GvzWSTtQkBz8OIo1O9CQIymB6Ss80JA8Rdbj+n2QkCQS8oB8fdCQA1gJ9aGBkNAVKQv07YHQ0CPf5/jIg1DQPOduIKmFkNAH4B+JosYQ0Bh+/k8Uh1DQPSGCA9wHkNASTArNSEmQ0Ck2omdQitDQDrDdbRiL0NA3kiFhVY0Q0DnmC8+rzdDQPBXErlVOkNAp87XSfNEQ0AyhclLP0pDQJkILSJgTENAkFU3u3FNQ0AGKprpHlBDQCmXJUc1UUNAghcV0sdRQ0BGM0/1ilVDQFc4nTJfV0NApLzGrg5bQ0Bxxg0Wal9DQCvON4GrX0NAsL+kCetfQ0DJiq1Z/GBDQEaPOtwGZkNAiwY8X4ZpQ0Cr1nUBE2pDQN3qP3/NakNATkI8YilsQ0DbpXHNdWxDQDEHsFm1bUNAboviB2BuQ0CqOwoaqW5DQNfEj1H2b0NA+sRFP1JwQ0AskaWb73BDQO0RKDJ1ckNADXQkqI5yQ0CDTnbTc3NDQIPFX1o0ekNAT2hzDXR9Q0B8TZvWIn5DQEJldtE4f0NAE2lAukV/Q0DDEeBu+X9DQDiBNJtihENAAiKrIkCIQ0A1KXDTo5NDQOrJwR+wlkNAG1grKnGaQ0DwhDivkaFDQDw/tdIxo0NAZX6GspmrQ0DocbeC0LZDQGrqLhsOukNAnjdB+RK6Q0BsCXFzx7xDQHAguj8OwENALmKHCKHGQ0BAg7p0kMdDQHiQOjh5yUNAoX+RCmXOQ0AZlaOYXdFDQKab7pyT0UNAiM1DGe3UQ0CSl87wc9ZDQPzCTPhb2ENAEa5vFcbZQ0A8ZZnr6OBDQCPgPNsF5UNA7wrcnAHtQ0CHum37Pu9DQPHxuHDn+ENAXrI80zoAREAJer9ILwREQD6Xl3HMB0RAn8uoDS4OREDu+FmqXxREQI/nYRzkGERApz335u8ZREDS+4EQ5x9EQMlFLQpUI0RAtKOVeWcnREAhAwTfyy1EQAMzLq2SLkRAtND7BTUwREDQwICkSzVEQDKmIjMwNkRADoSQME87RED0+Ywr0jxEQHhh+hEUT0RAKAc8leJPREDEfNt8ulNEQLWNJAjkVURAYYss0hVaREDWlCZ8cFtEQCNwK6GIW0RA50UddNphREBFQYGc1WdEQAas1zopbURAnR/PCfFuREA8zphqDHREQCSgGUCDdERA+gMAcGN7REBDR+NeDnxEQAhnFwrLfERAfsbFS9B+REDHwe1bdn9EQGnVJlmHgERA58aVAJCCRECDNQSiIoNEQJ0MA//OhERAvV5OcRmGRECaUqjgPYZEQDy0WJ3ch0RAAT9FNs2OREBJYuZJkZJEQIi8IIrelURA2rROsxOWREDpwXVVh5lEQP3ft2Hem0RAbVtwLZOcREBPCa0SAp5EQNLTl664n0RAf6yHwI+kREBGH4Qk7qlEQIMGNwJjrURA4A+xO/WuREBWY6pqXrBEQHWg4bM0tERAUKJMK763REDxgn366btEQCG1KfyAwERAqYHizVHCREC9qIWnCMNEQOhYBpOUxURAKklXajPIREC8k4oEf9REQB7NYuza2ERAShmDRsDZRECdkm2A8ttEQAzsbN054ERALtkfpsniREAEnHg4rO5EQO+raGmP70RAt8pEUrj0REBpE/pr4vREQOgWGxycAEVAkD3mbcQBRUDFug+SRAJFQOiBitrvBEVAGYgIKD8IRUAAn3m8AgpFQBtxsxeBCkVAJx1v0nYLRUD5pRXFIxFFQHTi9qsVFUVAr7J6exIWRUAowCz9xRtFQBGpSRHnG0VAtZpDvdwfRUBkuLVgJiJFQLLagG5IJUVANIUbbsApRUDpfgzdtC5FQP3Rzed8L0VAoKh+Q7kyRUD0H9nB9DJFQMeQU29oN0VAdG7eqpM6RUByPvL7PD9FQL8Qxo0bQUVAGnqjZkhBRUBqmOM3MUNFQErvQUHhRkVAfSyXeMtJRUD30U57cE1FQPeJp32qVEVAfbAGBllYRUD1Q4A2RVlFQN+pBsBRXEVAegsWNTBdRUAFSmcydV1FQCEfsqMsYUVAkiQnR8FjRUAzh/KvRmZFQFFcNWdKakVAG9zhgF1wRUAALPJ/0HFFQJNmxra6dUVATXBYYMl7RUDud9OguX1FQHjb/ui0fkVAgz4W0l2ARUCTillFH4ZFQOoyDxwpiEVAwRtye2SKRUA2tcSIWYxFQADFKIZhjEVA3Pdl6YuTRUBpbQTBlZVFQDCXM6AFnEVAqVouigSeRUAdL6WutJ5FQHvBLVe6n0VA9qBGaluhRUAsPyh/raRFQL+U1pd7pkVAyI+QSmyuRUBBJ9XvUbRFQM5htKNytEVAjr+GvYG8RUCtscSNz75FQM4ITmxzwkVATuqhauzDRUABAdlizcdFQCbNqifhzEVAZUGSlUnbRUB4wqOVVNxFQF4ZZvGy4EVAZA5M8VniRUDi1C/6IuhFQBpD9tkF60VA2S7lvGfsRUDaXkRPMe9FQC9csfu770VAYeZ+ZhL1RUBinO0JlfpFQJZaSuJEA0ZAj5u2xy0GRkCQ+SZ4OQdGQEZYtGueCEZAcmQC48sIRkAcgs1LHglGQO0tCH9SCUZA1W4U+gYKRkA8F6GjxQxGQB4yZpp7DUZA7tc42I8PRkDts7g8jRJGQCPm8fDbE0ZATw+NHv4WRkDrKn9vYRtGQLQX1TcuHUZAWf1IrN0gRkDB20+idCVGQHrJ5SL7KUZA4+HqJ/AtRkC+XIPK4y5GQJiw2gxLL0ZAP2oHhjo2RkD8D3KybTdGQPbAZ2TjN0ZAiXW+Ih44RkC/EdMemTtGQBYv9qfrPEZARAzWr15CRkCdhKgdyEhGQHyxuiynS0ZAnsBTR19MRkBdXXQjQE9GQFyyYjTuUUZASoxmV9hWRkBAsTFQuF1GQLw9iINUXkZAYCjAbZReRkCIXAmCD2JGQIfeuwoyYkZA1xhYQOdkRkCcns+g0WZGQDhtN085Z0ZA+CdAwXNtRkBTknhYpHFGQH8HP/jdcUZAIpcho890RkBRR6SOfnZGQLs1lWH1g0ZAnx7CCZKERkCun53cjo1GQL0YzSNdjkZAu4bAmqSVRkC+X3v52ZdGQHJB/MHNm0ZA/76H4decRkBY1ar9AZ1GQCmMwFGDoEZAeIRMZgGjRkCXCOwzEKZGQBOJ5oqBqEZA1HbpiZqpRkBk9trmGapGQMKe4dExrEZAPUPBgZiyRkBFuW77NLNGQI6BM2iktEZAOTG/hz21RkCl+A1kEb5GQJlXj3gXwUZAjGqAu53KRkBcJJCyDcxGQFBH9uAOzkZAL5LmTirORkDoi8IfgtRGQGw35HWN1EZAsVC9uALVRkBw2bKlwddGQHMq3mgl2EZAuTazt7/YRkCCC963jd1GQPZGGnAm5EZAszTOWN3lRkDFGYIOg+ZGQM6OPVge6kZAUmXIguvuRkBvak2wHPJGQDBwUeIy8kZAqojZ2mjyRkAMkrWYNfZGQGSi8J1s90ZAwScSPSL7RkAbwVYZMgRHQB8FdqHVBUdAMFYAXzAGR0DAkGp9YQdHQFWPTCIWCUdAtuHBrbIMR0A2hHtTLw1HQJichu0pD0dAybPVjFIRR0BA2EURjRFHQOAJFY5jEkdA0hJRsnAVR0A941sSjBdHQH1W3EePF0dA9CiRdgEYR0Dh67foTRlHQMJUsjFSHEdAK5IhUDcdR0D5M6+GQR1HQOA0IE4vH0dATl5xIwoiR0APH+liUSVHQAFs2B9QKEdAHW5nA/8sR0DS3H1k1i1HQEYEh5YLLkdABM+pYs4xR0DMaQ/ldTJHQF4yCRfSNUdAW6c81qY2R0B5Zxn6RDpHQMkc4+IFPEdAkVCWpZ1CR0BnHzKyH0RHQFhHhPAdRUdAfoen4HdMR0BUVYWkKlFHQHaa0WWmVEdADHRlw9RUR0DXhlHZkFVHQBMeU0QYWEdA52tcVMpnR0DfBVCqY29HQAA+BdoocUdARzE01tlxR0ARPf/BEHJHQOUNaEumckdAng87OeRyR0CmUMomOXNHQECClJV8c0dA5G3G9rlzR0CEOwoAB3RHQHPoKAdedUdAR5lEjhV2R0CQrqjwznZHQCmhOka5eEdAFHgMNNl5R0B9v62veXtHQHeBpsdrf0dA+oXARK+CR0DRPdDy94JHQFE/rdI/g0dAZDsSMwWFR0B94P7vLIdHQEpTV4yFiUdAv5WoG7qKR0CAFI6aSYtHQPX9wmpSjEdAG6w1uwSPR0BySHeXZY9HQF12k6FlkUdAruBo+qKUR0DHf8UftJVHQBMwCAkmlkdAlFsdld2dR0DOi1PO7J5HQAtU8rCHn0dAn0eneeOhR0B5r5beCKdHQFxmpqcWq0dAdT5hWRmrR0Bksx+pOaxHQPTWwMUcsEdAAmGseqyzR0Bz/Up/PLdHQDdVAZNgvkdA/r4OB6W/R0A/eLvt28JHQIJH17fTxUdA6A109kTHR0BxMUCwTsdHQPIg+AyUx0dABUbzTOrIR0BbeSqDUsxHQM2dytNGz0dA/D05ByLQR0BtRSkEutFHQJSCqme91UdAebn7pgvWR0AvD6UgetZHQIE0xe4k2EdAVs4m7PrYR0C7w8WrV9xHQJezcoCm4UdArxo716PiR0CnB2H1RONHQBPufhXM5UdAfew5qSfmR0CQGha3fupHQJTbd6ni60dAX3pyOwLsR0CGYeVJxOxHQKRji5JK7kdA7LFOapnvR0C98h66WfdHQGJjLFoV/EdANSwZ1A3+R0DE29BBkf9HQLLiaBszAEhAclAm31UASEARIn68fQFIQOGS5AuPBEhAbpjLPZYGSED96iB/9gZIQHeiXN+NB0hAqOvjwtwJSEAbCA0r9QlIQAI7nBsbCkhAoV2BeSkKSECTJitQCwtIQIkVO2v4DEhAMdZnaAINSEBNYuX/gA5IQF/XHubXE0hA7y8woqgZSEBW47YWthpIQBgPBAGHG0hA/YWzZU4fSECvVaS4nx9IQPWJf9AXJUhA4qBq44ElSECQ/oiteydIQPH+l5vELUhAzS/FEFIxSECVc2PUbTJIQGdfuMLuNEhA1jLn5zU3SECUgxZ1XzhIQJtY31HtOkhACLVNw1M/SEDu6py0V0ZIQGtFyDQ5VEhAfMi8Cu9USEBH02Jrb1ZIQIs+KrPuV0hAoBiUzvpZSEDHKWZbIVtIQPj2XOytXEhA9rT9MRpdSEBqGx7eRl9IQK9HLpWcX0hA65LtZ95lSEDdDNCeB2ZIQCEbx68sakhApN+XgNJsSEBda0ok5HFIQGovaWs3dEhANE7DAJ50SED3tc+w0HRIQNsjneAod0hALyo9DKB6SECr8IP87XtIQFfsTLaVfEhAOS0cssaCSEBXJumsioRIQP8U18bVhEhAzSdausmFSECMWByQ5YdIQC9FYiqojEhA8uewsqyMSECBnLSoxoxIQOs7MQ3skEhAB/+gCYOTSEACZoNcqJNIQAiFb701lkhA9zZVyu6aSEBGKmcw3JtIQMdlUmmpnUhA4Kd++oqfSEB1OS2Y76BIQJFjXe59oUhAwbo3rauoSEDn/ywH0KlIQEF/piO0rEhAcQs/V6OtSEBfSW7G/K1IQCkz8VYMsUhAHKZgP/65SEBUvCHiRLxIQM3v1PlavUhAslKd2l+/SECWUGyF+MFIQEXrrUuVwkhABTMXr9HGSEDpW8rSmchIQKpZ+PdLyUhAKwuxvknLSEAjY0KWtMtIQGjDbpO7zEhAsTkZ3m7OSEAAov8V385IQAaLfjkzz0hAzPo+ZovPSECDCqUMC9VIQBo7n7wt2UhAi1mIsGDZSEBUaxBHs9pIQK8Drc893EhA0+dqy0ncSECsA0N4ZtxIQOftb60C3UhAsbCbjFbdSECJnMqfpd1IQC+EbuCv4EhA9a5msiLhSEDsEX+NEuNIQMFsZtjU40hARTMaoIvkSEBYAJWFb+hIQKigW7nX6UhAVtURo0frSEA+SZNtrOtIQCEsQ+ZH8EhAJh9qoj30SED6fX2lzfVIQIaj6+ZE90hA1SyazDn4SEBqxjS/lPhIQGL3Hon3+UhAV32vbg/6SEDIncKA/PtIQGT9ztKO/EhAIoippN38SEDi+mSFq/5IQOTPZ6MyAElAnXRldz4CSUCX0VUm+wNJQP8roLl2BklA1G768PYGSUDXzviImQpJQBRTno5vC0lALUoeWiINSUC+za4H7g5JQERJetu9EklAUMymQr0cSUCPDNBJXh1JQOC9eePMHUlARm6izcUfSUBH8yeyICBJQFlPpeUxIklA3DjNCZEqSUAuWnp3dTFJQHp7qcKqM0lA/D5QsUU0SUDGqMoC/DlJQOClvnIfPElAlGjw+pk/SUDIWDtqDEFJQLHzmOWSQUlAZ2+PAxFCSUBNXI8AA0NJQD9E3ysZQ0lAaB/EQJFDSUC+yHd2TkRJQB8YiHk/RklANvgTJytHSUBdFSwprUdJQLaG6h+TSUlAMnc7v9BJSUB9UiBm30lJQDLim6wHSklAhe8vGo9PSUA0RU6wmFFJQMano3bPVElAmkWVdPxUSUBgYbh8wVtJQAdl4x4fXUlAxJ6Eg/1dSUDusyxd3V5JQKY3h3s5YElACwZxUMVgSUCR7aKpD2VJQFrXNtHDZUlA1CT/y0NnSUDWe3OFeWdJQDkRutC/Z0lAydC6SHxqSUAzvrBohWpJQMexWfQ2a0lA+R7ky3ZvSUDFEQvIGnJJQEMskepQdElAIwOanid6SUBBy+qrj3pJQE5MsnsOe0lANuW6Pgd8SUDNXlSMHnxJQIEt9RyKfElA1lMf9F9+SUCkIFUFxoVJQP7O85zdh0lA/dEAKPSHSUC+Z9WHLYhJQEIB4X+akElAgnwTa0OWSUDEMAFTwJlJQJDvK66km0lAdYSd8lydSUD7ikJBS55JQIqD5V5yoElA3tOQLSelSUBIf4ZCjqdJQE9Uf/uwp0lAaPCA0hCqSUAG/gheB6xJQKNTx5kTr0lAoga+uu2wSUDRO4rQoMFJQMaEB5HhwklAnVlOOq3ESUDLzuoGisVJQIONQjuIxklAbJVBpwvISUDM9rrvMchJQGpyVmpByElAynRNddbLSUAzgj/1GdBJQHfUFoTQ1klAur79AdTeSUC+aDhmY+FJQHJAbQL24UlAvONxkW7jSUCWi5VJfuNJQHbZf9df5UlAagDGiavmSUAOOFUnn+hJQPi2CSgX6UlAJEu/KpDpSUB4Fz7ogetJQMiMjK0E7klA5g+hUvruSUChwUvDHPBJQEhFmfGu8ElA0+pgIbDySUBUvSeFzPNJQPzJcAUv+klA9dhiw9X7SUAUq4VA2PxJQOLFG32M/0lAe75DJRsBSkCQwyFfXwVKQJh6ZOQgCEpAnLlla/MJSkAKIjDgDw1KQAz63Z7LDUpAoEnTGB8OSkBPpEUGyw5KQLcrcB1uEEpAu53orA0RSkADt9D+pBFKQCO1KhISE0pASqc4mvkUSkBgaEn0nBZKQH2KiW7mGEpADSi0aoQZSkCjk5U8uBlKQMWElGiCGkpA1TmyspQaSkAts23WRx1KQO+l7nsXHkpABH9WY00fSkBMxrRusCRKQHw4ky+/JUpABX8TUxcnSkBgu8kWEChKQP+k4BsoK0pAHYqzOIkrSkAYlkfafSxKQILc4FUOMUpAV009Pj82SkA5sFraND1KQEplFJgQPkpAGSKqufVASkA24uJ+Z0JKQG2rK+VQREpADeQW8CBHSkAAN60tS0lKQPUcmImRSUpAhTyfA+FJSkB4BlYB7UpKQBk7e2LRS0pAPB8XKg5NSkB75qPcWE5KQHMv0M6RUEpAS0ibk1JSSkAMAcy7C1RKQNGnKpAoVUpA59H98zNVSkD4/HlQgFVKQAGTxb4SWUpAIvQq0ZlcSkBdMysW/l5KQFi5VmIYYEpAuFVG4XhkSkAC2WzOeWRKQIQdnkx9ZEpAq5X5UZFoSkAHG11CK2lKQBkKIDCmakpA9+qwYEprSkC83aPO+2tKQJwymHcSbEpAJTu236JsSkA6evvTMG1KQB5aIrefbUpAw4cjagtvSkAuRqbqcnBKQIOvhaCrdUpAR78mifN5SkB2hUdnxn5KQNFnOEZ+f0pAziW7BjGCSkDvNGBGioJKQNnlXLDKgkpAE29SomaFSkDcIOd9a4dKQJBnQGTwh0pAxSvNfE+KSkC8d8BvEItKQPzv9pf4i0pA38lWRpmMSkCJ68eRupBKQE8M0ZQJkUpANlOK+N6WSkCQSt+xypdKQHa9mPWNmEpAwOm2Vh2dSkBdJ0a2UJ1KQNdHiBTcnUpAsQgosP+mSkDoB+p/x6pKQAEyh+ymq0pAkisrTo2tSkAB8CaJd69KQCYa8Giws0pAEdWpg0a1SkCaWJ+Fd7VKQNXrdcmAtUpAuxq0uji2SkBMKYjdzbZKQP4vQhYYuUpAbcWt4gW6SkCFRkfU3rpKQN0Hh/Ztv0pA8clECH3BSkD1jGZZlsNKQLFJRC+FxEpAJOE4TRrFSkCrJgyfDcZKQCwnOcBsykpA9q11G8PLSkCj2hqYbs9KQGMcLKOtz0pAubcnPmHQSkDOLXX6wNFKQDMfGcDa0kpARC9zfSrTSkC2FhCXOdNKQAPnmamQ10pAEIhes1baSkATRsxOc95KQOxwR8AX4UpACV83KanhSkC/RAdgr+FKQMuUwm+k4kpAnHgnP7/jSkBmHFii2udKQGkZge/j6EpApi13WJLpSkDUNhmthepKQE+s82ah6kpAGennfufrSkCUkgqjDe1KQE2KQtgT8EpAS63zvHrxSkCnuPeJGPJKQB5sLt8N9kpAKnszGAL4SkAjtLxwqfhKQAVNgsrN/kpA56b8J9z+SkBEQKm4PP9KQMOpWDAOBUtAMO111aQGS0C7GM4psAZLQHwZO9PoBktAzD0tw0cKS0DK2vDQ0wtLQI3/sNkvDUtAeLJ/ta4NS0C9LuPNOA5LQKCT3aVfD0tAMPMn9h0QS0AfAv7dXhBLQLWdMHfiEktATsOZT94TS0DTUOyqtxtLQD/SccJPHEtAY/D+hvscS0AA9++6YR9LQFASMFSWIEtAo06TTiYhS0BGqsFo0CJLQDKdtfi5JEtAEbIYVNAkS0DgaV7I6iRLQEU3HYodJktAyfhbVGUrS0DNhPE3qytLQLyS2CZ3LUtAFJzr3LctS0AEWlKCES5LQJ/E4Se2NEtAEzk4wqw1S0DrYG991zVLQBvIxzwWNktAg0ch+dI2S0ApHnoFzjhLQDMU5XznOUtArUziKNI7S0Dg8IiPej5LQK617yYmQUtAuOT0pZdCS0AZnQZeHkRLQAZ3HokgRktAVqLx2cJHS0AIju1BDUlLQEjeJFdcS0tAhEJ/yrlOS0AOPO4JAVVLQP1MBjzcWUtAX2KwgZNcS0CZ0eAFuFxLQF/+oMlMXUtA9xhQMZZdS0Baohzwll1LQGqOokj+XktAhz0kEzpfS0DQxppLWGBLQIam4/OuY0tAE2R29qpkS0CCD5NF02VLQCUjjRUeZktAbxxroLZmS0CpeE6UBWpLQBfnlWiqa0tAMf9FSbJrS0ClHzCCwG5LQA0hCu9qb0tAt+gmx4pxS0B/DAss1XFLQN8iywZZcktAlCq9nYV0S0DnAhJi13RLQDUbIqYqdktAo6iXnXp2S0AoZQ5CTnlLQBrRSxo7fEtAP4D3dFB9S0ApTl02hH9LQGOHcDRagUtABfMBhmGBS0AFBje8Y4FLQCsQyLGHgUtAgfhJ8YqBS0AnKBU0+YFLQAEZiD4LhktA46dbX2CKS0B0QD2+/otLQK+pg369jEtATNkixEKNS0Df257Qxo5LQEsSuln/jktAsO24jTCPS0BESNmlVJBLQEFRVBYBkUtA5KerbD+US0Bdeld7qZdLQLPtPZ88nEtAXgQNNUmcS0Byc2WbCJ1LQO66gkZ+nUtA1EALdIygS0AEcfv36KFLQOQSb3FKpEtAyh4mF4umS0DQjXxhCqdLQDCbKe18p0tAfy1wcDqsS0C90SUIUKxLQJ2ot2q1r0tA2ySGbIiwS0DABQiDn7BLQPAP8fjBsktA0VMqTQC1S0ClQ45tHLtLQBYc4/EmvEtAhOwXWjC8S0CpHQMXNLxLQE6aj/+avktAJpsV3Zy+S0BF4g3tZ8BLQB1YFLwDxEtAoF9D63rIS0Bx7o4X4stLQHb3+xlUzEtAqOhsogjNS0DFgaX3G81LQPE9lMd2zUtA4uSxAiXOS0D89YX4JdJLQEVLd+li2EtApEfIIMrcS0BuX3oxAt1LQCiMvbqX3ktA3qu3QM/fS0CMoROPeuFLQNXwImkM5ktAhuZu7+XmS0Bmi034zOlLQObmGqMv7EtAcuGNFmfsS0BPZoXnmexLQFRPrlGp8EtAPVzrWgjyS0AMB+X+g/RLQMI0AHf19EtAEEA766/2S0Bd7UNlsfpLQONRaCA0/0tA0i4y4z//S0CHVG4XogBMQCKjHPhlAUxAPKOjHYwETEBQ1WVdFQVMQK4MEpyYBkxAxfHPkj0KTEAabvjR/gtMQJ6XY7JyDExA+DChtNUMTEDKyERvWw1MQNW0pKL8DUxA+OKxqfsPTEBm764hxBFMQH2yXemgE0xAqVLH2UUUTECBjQKYTRRMQG9QRzNlFExAMwzaAekXTEDtUMXx+hdMQDasflNaIExArNtxyYQhTEApiMPDDSJMQDsPp9HgI0xAcq0n6jooTEBVVkwTXCpMQPXBitR7K0xAtxuJPIssTEDBQD+EsyxMQJ9yFhc+LkxAYu9bs1cuTEA7Y6uIFDBMQKFwJhDkMUxAB6kTb2YzTEBLWp8qSTVMQGnwj4ZXNUxAr00b4Yw1TEBUA13xoDVMQOXwf00qN0xAAwJE8XI4TEDeJ9SIxTlMQGz7i8MIO0xAJErKDV47TEDA6CSqVz9MQGzTIObZQExACcMp8SdDTECDg15sYkNMQO3DWheMQ0xATen0nzRETEBbJYcXHkdMQC9vzRBUTExAfKD/acxMTEAGspQs3U9MQJfvHNGrUExAHVnjPxpRTEBlRB5EYlFMQLjeHoHQUkxAC4E1HG1UTEBj5q4iM1VMQMqBNGlRVUxAXLcKqfhVTEBTXcn39lhMQACqyCGzXkxARC76yuJiTECoJu10GGRMQH5sQfmFZUxAa8wHd7hmTEAueSuNHWdMQBZ/Yh+tZ0xAwk5UFw1qTEC1hDSNVmpMQFzfKCpHbExAhdDAdchsTECLxomfgG1MQH0F/EYObkxAkYWCu2VuTEAHQyR91W9MQAtJD9yQcUxA8UZuEX5yTEDUKYSb4nJMQAwjrcXwdkxAx//ZNQR8TECptkbwQ3xMQHqmH7UbgUxAW4R0HmuBTEBxDJlM54FMQH7p2dHxg0xAU1XD6LiETEBuSTcnsYVMQG/W9WIUh0xA8KZk3EyHTECGSYo9N45MQFCMtGjLkUxA/ci4q2WSTEC367a4F5NMQJUP5b5hk0xA5opfHSeUTEC0gPzROJRMQAmG9Wi/lUxAfTeFf8yXTECKVA0tV5hMQOypSSOMmExAowUBpWCaTEC1yF3nd5tMQOmrFq4XnkxACYD4cUqeTECfUYS2959MQIO1EONWo0xAq9zQRR+lTEBly3EdWKlMQDL4G0z6qUxAewZylNCvTEAV0Kcg0LVMQA4+kTwmuUxAiQAH0la5TEC/83iZcrlMQDrHRhdHukxAPVcqSPu6TEB1gg5z5MFMQBtZ+57hw0xAWSlQ1PjHTEDan63t+cdMQPSplpgXyUxAveutIMLJTEAKgOFJLcpMQEQBz2SbykxANaotdM3LTEBq9TW4Ss9MQMPiEX7I0UxA0lI0HZ/XTEAY6y6LqNdMQHwqQf9M2ExA3WrH1avaTEAsRKazsNpMQBY+dlID4ExApG62NBrgTECvuu9vPuJMQF1S6r4n40xAz+2etr/nTECCjVAiI+hMQCMhBeAz6UxAoKxTdbnpTEB8vrD6UOpMQMA478Us60xA1rFz5WbvTEBb/O9Ss+9MQA8VO5NX8kxAtScq1Ub0TEAFw+m4gPRMQEFYsQQA+UxAJDZjxvX5TEAz/NVoJP1MQOVUsV/mAU1AZ84tlCMCTUAxnvudmwNNQJUlQj3gA01AJAk4ErgETUC7il7ATglNQIZza0VmCU1Aq0UD81YLTUCLL9lrKwxNQC+fiQzeDE1Ao4QZhCUNTUDy88btYg5NQIzcGdq+Dk1AFIH+IRERTUDNnXnLBRNNQFokMAaXE01A8znge1MVTUDy1hKG5hhNQKEqEsyuGU1AUkxsuRIbTUBc15AUsxxNQLcohdz9HU1AjMp8wggfTUDGvgG8Zh9NQDh2p0S9IU1AJFhp+hciTUDVUFnaeSNNQHMCjg6cI01AFWSt3+YoTUBkZ4IsfylNQMeX1W2RK01AgY4g69QsTUA4Zey+WC9NQISDWjrsL01AT8AxQdIxTUCBuhUDkDJNQE3YEYfkMk1AuUeoA2w2TUBOIPZ6fzZNQK9imGgKN01AAhF7GYY5TUBE1rioDTtNQLfgx/4mPU1AaAW6E5NATUBAs97K2UJNQLVAk6QIQ01Ak+uDmDFDTUBE4xS6hkdNQGkCfmLFR01AOg/fRQJLTUCxIMNGkUxNQDLV+/fBT01A1IkzUDxQTUDSET5haVBNQHJB/R3vUE1AN5ICjPJRTUB5S1RRHlJNQEPEaRrJUk1AZE9SGJlVTUCQbdyOB1dNQF6CORJdV01AMXSchhJYTUAnw3y991pNQDkANVSnYE1AZ+3ao+FgTUBgBjlsSWFNQAbFmmVMYU1A61ZAdFtjTUB2DHkPmmNNQCiuV4BqZE1AXv4JiptkTUC4Zi0+uGRNQIQ/bDS2ZU1A1gAI6QhoTUCJNch8XmlNQOBYuOQha01AhSma6rZvTUAI93M1znJNQJjcKWAjc01AUzx3zJVzTUCBI5qsN3RNQFm3PUZBdE1ADpeihlF0TUB+u0BRHHZNQPV48tHUdk1A0IZ01bx6TUBg/YRhcX5NQDDPANNqgE1AbzHCGoiATUDMn1ik5YFNQMpjPiIzg01A6lslql2FTUAAblsqZoVNQO36Z7pAhk1AnR3GTvWGTUCA/6m8s4dNQH5qso1siE1Af5vlY7uLTUBW5BZnlI1NQCmOP73UkU1A2s5LwWOaTUCaF7duvJxNQKirSDvMnk1AL7er91igTUC6kEjumKBNQPzA28DUoU1AEdHCuIWiTUAIauyR0qJNQAfRuehEo01AqhSG+zqkTUBhvlADPKRNQOhRVg4/pE1AyQHuBtmkTUB0OyBOXqZNQOpZA/+wpk1AYpOMIAKnTUD5L5WBUadNQMI3sXq8p01AKx+0TjSpTUANURmZl6tNQGVTyuvZq01AilRgmMmuTUAG5jilj69NQIp/wpxksE1Acza9/SK1TUAoL76lm7VNQEj/MUYStk1A7kKWr/C2TUAJ8f4H67dNQLmCszgfuE1ANNm8vYG4TUD2431RPblNQJzd4j8ivE1AWJIRVo69TUBBXeS4sL1NQMj8z5zsv01A6kZr73XATUAiDfOKksBNQJ5iT0qwwE1AZXSYLN/ETUDG/LBcyMVNQJ4znm71xU1AbGYm8ATGTUBcG/OGNchNQEu+6dE+yE1AQb6ZJAjJTUCnzyhsrspNQCK8oZd0z01AnhrNV6bQTUD+W/fPBtFNQNJvdtgK0U1AK+0CFNnRTUA9UiI2MtJNQKHLaTdc0k1AR8NCWC3WTUDRhiFAfdZNQLxzaddq2k1Ap430yUncTUCKU5C1Xd1NQF2+T2sF401ATkeWEGDjTUClbewQbeRNQAe1H3wI5U1Ah4Dh6DfoTUCi73wTPOhNQD5xqLVj6E1Ak56NiofpTUBTValM4elNQCkTCsJ/7k1Afa8uET/vTUCm0hT4BPBNQEWv8R5z801AlelMySX1TUAjvSL6Z/VNQPwt8Nmh9U1AEtfTFs71TUCXHkzO/fhNQMyylUlt+U1ARrFxxiT7TUDPAadtbPxNQOhllpBW/U1A8w72v/79TUDl+KkrOv5NQMwHDyzF/k1ANdHbzqj/TUANxPWzQQBOQHBJb1lDAU5AD7dDvOgBTkB4sj5IiAJOQDE9yWOpAk5A0SDxmOUCTkCB9lnBywNOQBl39AScBE5A3bXUmP8ETkCvyiz2TgdOQGSHSIFpC05AVYH7uYcLTkCO1/wbowtOQL+Cjy1eDE5A3RiD5dIMTkCkWmlWWw1OQBE2x2PcDU5AH4ZfjQoOTkBQ/fGHuxBOQHXrh46ZEU5ASP6gdPsUTkA/t4rnVRlOQL27mss5Gk5A4oNehNcaTkAYUkyzDBtOQDPcw0f2G05AhtAxbdgcTkDaDBIk5x1OQABOAJ0vHk5A2okUrn4eTkB9xVsRkR5OQMBLj8m8Hk5A/MFbTJ0fTkBJnlyxsyBOQJ4HmztCIU5Aq+wCSW0hTkC6KofDRCROQFmxpCgQJU5AH4p8MaElTkAkpo1UwSZOQLx1ErB4J05AYCEb4JQnTkDuu8+OJylOQNpKRKjKKU5AEtVRBmgqTkCcDNDEiStOQAoLLDGeK05AiRBXIrArTkCOsVaKoCxOQDTP3RlOLk5AGv+mbvwvTkCMDUmAJTFOQBilq8sgNU5Alezjefo1TkBWcytTJzZOQFeUId6eNk5AoOITcqw2TkCCrpq7SjlOQIAI1mfGO05AATGkfiU8TkBv6k1N3zxOQFzGLjRsPU5AIMR1BwQ/TkB907/XM0BOQCvuDFPZQE5ADT7NPjlCTkDZAlMArENOQLdtbdLARU5AOuh72E9GTkBEdy7fU0ZOQMCmV9M4R05Ai2puVn1MTkBBG3iCv0xOQCwDk3g8T05AI6HuMKdRTkAdOKTV5lFOQAwlF5+IU05AYj5WKeNVTkC/9sYe9FZOQLE0XsdtWE5AvBJcgLJYTkBQfsU2jllOQJM3Bp+xWU5AwQHFWzZbTkBf0a+aiFxOQAYdkfOJXU5AUsAsJPNeTkBuyU39pWFOQFiG1eWWYk5ApetW8aVjTkAakcq0VWZOQMpOog4faU5AK2JqEZhsTkCdtzh/Z25OQBPavcgUb05AvDiP6J9vTkA1keEHw29OQCyNWoNGcU5ArY0gR3ByTkB2wZd4snJOQGqS4xiSdE5AQzL/2a50TkByoBq+EHZOQGhOHFyxdk5ArVsdBRx3TkAf3w/4MXpOQE3QzQ1bf05AhXSp4xmATkB/M0VDQIBOQMvM9NdfgE5Amz4uzGOFTkBQ28slVYdOQNp8TTJsh05Axbk8HnOHTkAreJxQm4hOQC+xym1yiU5A5KKv/aiJTkDEyG641YtOQJ610okkjk5A7VFpc2WOTkBK6akQz5BOQKefWdbok05AKL+sIw6UTkAwGZDzd5VOQA/JKSAYmU5A4KDtjtSZTkC98N3tnptOQNFOPtjsnE5ApoEdAwGeTkBviDuyyKBOQHYkekXloU5A9ggut6ijTkDIbn3oYKVOQBlYm66/pk5AlhchF8CmTkAhBVP4qqdOQHPqmJBpqE5AHhnkQ3SsTkAEARd2B61OQALndbUSrU5ApRO988OuTkDT/AOSkq9OQBCENghlsE5An53l6bWwTkCNFektqLJOQAKgKGS8sk5AE3PPIlKzTkAsPfpP8bVOQDtWTL53tk5APb9/DLi2TkD2DMfDz7ZOQL4d9m9Ct05AjASzQPi4TkA81l88V7lOQPMC2CP/uk5AyXHE6+W7TkC8nFU0EL5OQK1MFzKmv05A613q6UjBTkDrDMwecsFOQCtl297kwU5AcN8l34PFTkDE0sYT38VOQNH1swyKx05A4taDZmbITkDVcvkKz8pOQFo/f6neyk5A8RQ+L/zKTkDjbSCUXstOQIK15MRqzU5Aw7l5QjnOTkCpgivAQM5OQMDlfMtzz05AmL18e4TQTkCfgtof69JOQGNxHJpG005A8TtYrbLUTkABFngHR9ZOQEvL46oO2E5AYjpGvZ/cTkAwuHAnOt1OQPpbV5m+3k5ATIh8W5fgTkBq1wmI+uFOQKLPZer05E5AC2dldSfnTkCI3Iz3i+dOQPQl1kNM7U5AECBWmEvuTkBi1MRKd+9OQITk6+oZ8U5AOefIBcPxTkAukVcwmfNOQGJ17PWe9E5ApMt8OOH0TkDIQHBLevdOQJbDfWsE+k5AiwwcCRL6TkCBwp/abfpOQAf+AL17+05Acnh5hCr9TkDMx1H8Rf1OQKO9NzL3/05A7Xafkk4AT0BLSRHrbwBPQJO8dqYhAk9AHHMN4oUCT0DTGCzJEQNPQG6GYVvcBE9AuFNiulkGT0AVH2g4ZwZPQFhJidCtCE9Ap5v+zUgKT0DNXCeopgpPQLSDOskxDE9APJXZVUINT0CedEdUug1PQMQ4gRRkEU9AMTxn8ngST0AWGHLEfRdPQBovvCmnF09AM98bnz0ZT0A5RFdocBlPQHLIuyLXGU9Arh7hoDsaT0CEBwWuFx1PQEYJb1ozHk9AjxwHIAwhT0DMjGsS7yFPQK5QpCWzI09ApQctKrsjT0CnavaZQCVPQC3H+dSTJk9AgZKhTC4nT0AbLjB/WydPQGvbEedvJ09AFZTfUeQnT0DhLB/ARihPQCG/MNALLU9APSHwp5otT0DlxT/agy9PQP0geb6rME9ADXdpsFkxT0C+I4xIhDFPQN5FKJMjNE9AiTuM0XU1T0B2iA6Q6TVPQDkcN8jeNk9A7pyE4Uc3T0DRme+3jzhPQCVjRSfmOU9A/49hjtA6T0DN15kaPD1PQMGVE0Y+Pk9AG3Gy2SQ/T0DC+gSKKz9PQP1FfhpWP09As9bYN14/T0Cul8hQPUBPQIj947+NQk9AjudBw11DT0Bi++GyEkRPQCvQkiFkRU9AJrzBsQ9GT0CQkP6VbkZPQL//o8BLR09AzRX+UkhIT0DRrSxPVUlPQMCJqUXSSU9AlHN8cj5LT0B52Fyayk1PQFc5WpeXT09AmMd1EtlQT0Bwm7LzTVJPQFPab+yrVE9AwajmCiVWT0DXXeS2V1hPQAJjoR56WE9ABag305FYT0CWjcEO7lhPQFQilDT9WE9AsxDRt7pZT0AbDwKeElpPQL4uhz0ZWk9A1Z3iFtBaT0BLiIWaZltPQPBqUX2nXE9AxsSktd5dT0DsiOxYP19PQJsszYSdX09AF1nVS+pfT0BxY7UliWNPQGnGTx6LY09ABz/IIVpkT0DaeTFjI2lPQHzrQ51la09AoK1Gnk5sT0B0VxwSnGxPQPN7fL23bE9AMJP5ssBsT0BurkU/MW1PQCRrLj6RcU9AgLQ4EHlyT0B4PSj9G3RPQNEoYAQKdU9AxfmRbW51T0CbBLuCNnZPQLIZ0tI/eE9ATjGfu0t6T0APeUx1nntPQOVUPEkJfk9AU3vljTJ+T0BEsRVVgH5PQGOcfPKMfk9AOPn/XgZ/T0Cce0ys8oFPQPogrtinhE9A0bS3xrCFT0DNGrC1PYZPQDj92aFvhk9ArDs8ZM2GT0D4qj3soodPQHjiltNhiE9Ap63ym3SIT0Co6EZIEolPQOuUvKZLiU9AQrkBNnSKT0DYhsbGpotPQC5XGFxhkE9AqcRBl4CRT0CUBsQEWZNPQBnJg9OzlE9Als6yf2mWT0DqyckTeZZPQG6JwRyulk9ASQMJMSKZT0C4ePT2cppPQKGd2VnLnE9AKovfILSdT0AfCiEhX59PQDkuArJxpU9Avc9hR9KmT0BuaXilaKhPQGZ6pqOUqk9ArZSIXRmrT0BHxtUkSatPQEavlmLRq09A94tfI+mrT0DHD4pgEbBPQH9lOtuMsE9ALbTMBvOxT0AQb1wiWrJPQJwp1bhmtE9ADGoYEjG2T0AOi5T/LrhPQAzORzNhvE9A6w+Oqbi8T0AKrfm3/cBPQLV1AUWuwU9AXRZKinbCT0BDVeFVmMNPQIXxgUe4w09AxVc7+9DET0ARhGfptcVPQNxGvZ0DyU9AAc3VcQfNT0AA9f2mP81PQNtyT2sJ0E9AukGW+OLRT0Auz4IB0NJPQBd8FnPA009Am6GUte/TT0D9uoieq9VPQLeKt8C11U9A/ifHVvfVT0CO3sRIC9hPQBT96TWe2k9AsZTm3I3bT0BYY6neeNxPQCMny3383k9AZrs6SBDfT0DqFEt/feBPQPhgSSIA4U9An5+LrtPhT0CEOlveleNPQLPn6dPq5E9ABTN+i/3kT0DLOsfIEudPQEm9l7VP6U9AwyyO1H3pT0AKU3+KLupPQFRFgI5m609A6veDp2brT0CXouy6cutPQJ++1MW+609AhxfI1GTtT0A4hneyavBPQGwts2879E9AcDfMnZL0T0DwRxrcL/ZPQLd8h58m909ApWQTCXn3T0ACGeCzh/pPQM2wel+Z+k9AoRv6ozn/T0AWuS68JABQQN+HBN0+AFBAcHXNtRUBUEDvkSLgwwJQQCIfUpPnAlBAipim9v8DUEDMxbpbLARQQGajqx1QBFBAABtK4sUEUED1lKH85QVQQNIBk2clBlBApF7En58GUEBzz21W7gZQQA0utItKB1BAS7AzErgHUEDNZp5l5ghQQBeSM65YCVBAwc2XymoJUEAkFngbeQlQQKNMaL7yClBAq/KAs6ULUEBOdjq3VQ5QQHps8sV7DlBA+sEj2J0OUEDuSMbvAA9QQGiaaCOGD1BAJr9VKpQPUECUSpgi0w9QQLmNui3iEFBAfAjD3OsQUEDjoiW/chFQQLCC34jlEVBAp3jbThASUECTlZnOrBJQQP8V7SNQE1BAd9/51hEUUED9KOg8YBRQQMzIeb0nFlBAH0t8JSkXUEB3gxO0NRdQQDRYWcTkF1BA45Z1hBAYUECWra6HPBlQQP8iqREZGlBAQhPzIEoaUECRi8KW5RpQQF3dMy7LG1BA3qe0uVwcUECpL9htcBxQQGiI+liKHVBAGKroU+gdUECMYVh0ZSBQQNoXpX9nIFBAC5iQg+8gUEAq19m/hiRQQBmeMpOiJFBAaJMURtgkUEBN42iNSCVQQEePacClJVBA9nwuIlMmUECecCvIdCZQQJIDBGq5JlBAZM1hcpQnUECv4haE/ShQQLc6fcwPKVBAZ/xH0TIpUEBqzQLIYylQQFYEypmeKlBAymOhpiQrUECoOWaHUCxQQHwlu6xMLVBAsdzDtmkvUEAWosOXhi9QQPbkNJCbL1BAl49ezkMwUEA5dMVfsjBQQETGme23MFBAwR5LguwwUEBQV0HWQjRQQF6+UNDfNlBAEvPKZuI4UECvmXTSMjpQQIxW/cyjOlBAqsgyoMc6UEBUNwmWuTtQQHBLcpXDO1BAUpe+nOs7UEBzk3BEMT5QQFixPX85PlBAzHNx3Eo+UECNAiGQlD5QQM/1A/74P1BASjKdOxlBUEDW2VJRokFQQMilqTrNQVBASW71ERlCUECiVYT4SUNQQEJHC4QjRFBAycPk6ydEUEBigUHIrkRQQFRh8eXCRFBAbsd6IMdEUECBzyxcQUVQQCqhQgSMRVBAOgHNsBVGUEBdYzIL2UZQQDna9fkDSFBAoRiyyxxJUECka7VgA0pQQLiz0gpXSlBAvqX6yoVKUEBCge4V1ktQQIh9gjkITVBAmhfdAzlOUEB38qsrW09QQDU4FuyHT1BA6Xcmqi9QUECIIN3ccFBQQMxdc5/tUFBABgM14jZRUEAO8O+9mFJQQAOn6jLPUlBApIfZUFpUUEDqbaYlglRQQOtB6IMCVVBA2dCRFyhVUEA1ChecelVQQMsd5u4AVlBAswYkBWVWUED1x/MiRFdQQINkA5zYV1BAFhUv7OtXUEABeBcF21hQQI1YV9DvWFBAmNf+iz9ZUEA3IcvNU1lQQEQWaDZ0WVBAqATXVK9aUEAxxQJNFFxQQJnhVUk+XFBAqmvlZ7JfUEBwzrjWnGBQQMlly/LbYFBANq/OEmJhUEB/apW8LGJQQERGBNw8YlBAnRbOBytkUEAq+PEU5WRQQPteC/QaZVBAuH7DIhRmUECUsb96E2dQQEDHExUlaVBApFi03lNpUEBCjHZRxWtQQMPRSVeTbFBAqa2VnZVsUEDY0Jne62xQQCkLC4rubFBAuKYHVUhtUEAQheYD3G1QQE6EluiRblBABdSNadhuUEAArJQWPW9QQLrdnMJFcVBAClDXi3xxUEDUVc2RhnFQQLxjq0SYcVBA1rkXkUdyUEAcIVOx7nJQQKvCMPARdFBA4xRy2rZ0UECt/INMQnVQQG31ANNIdVBAze3r12p2UEDTp3t2AHdQQBFZr/fQeVBAQk5GjWJ6UEDZV3mkrHpQQKthfmdWe1BAIAeODGR7UEA8yqFqVHxQQM/YO0XpfFBAJFAVTix9UEBiLgf0gX5QQNjPx+OPf1BAiqTRz/CBUEAg6SqguYJQQKG/72Uhg1BAzq6yc0WEUEBuRi3MSoRQQCeJgeevhFBA2jGWQeSEUEA80WFW9IVQQJgZAfglhlBAhPGSLUGHUEBgQEzjUIhQQG+80FjiiFBA+XhcqPSJUEB9+CkEropQQB+SXzTsi1BAM+/vOlWMUECalQuLs4xQQO/3k/HBjVBAhZdukNeNUED/9Fz98I1QQEg8P599jlBAm0FMqOCOUEB/Wsimx49QQFduu5MfkVBAui4jhCGRUEAy8GxNwpFQQCeqhs28klBAkMg2wuySUEAE/GEgv5VQQCuZPol9llBAPLFUw6yWUEDCTe1rmJhQQOytDNFXmVBAjfyfNceZUECoeaHl0ppQQDHXt16Vm1BAR1QlNkadUEBieuncPaJQQCzB+F+zolBAU2T7SIijUEDIurT6bKRQQLyn42yAplBATtJ2MLamUECpOlx9madQQGxGXDGop1BAJyCK/sWnUEB636HWQKlQQEx0BlneqVBAOplFd3uqUECswbp4OqtQQO+4pOWnq1BAeIjJpCCsUEDc5w8rRaxQQPuAd9cjsVBA4808XfCxUEAFTEgQL7JQQF+o8aZeslBAA7rty3WyUEA1VzoRD7VQQL7YbxKdtVBAwPFgvci1UEAJPqlmX7ZQQFUv6HC1tlBAe1OWpE23UEAl7dnfc7lQQN75dJmeuVBAfLYrSC66UECpqP5zFrxQQIjtSz9KvFBABVZOj7q8UEBU+lLXvr1QQKkyJUlLvlBA/pfZvZi+UEDWNJsO+L9QQOtmpStnwFBAGicQKrfAUEAOUr8rVcFQQIPmJeufwVBA3OiC+LnBUECY3zayAsJQQHeq9E43wlBA/z04LpLCUEAnpZAaycJQQMeQEGbawlBABNEQJ0nDUECo1sA648NQQFX7GcgmxFBA2dgKS8TFUEBBnXX9fMZQQObYXd4jyFBATqadFGfIUEDA7aP4c8hQQGiIcBOJyVBAXt49GjDKUEAU3lx+XspQQONsA7dgy1BANUGwc/7LUEBA8S3ZXs1QQM0PkDy5zVBAx32zns/OUEBjt5Q80M9QQDyftx+u0VBAtkoFoM3RUEBmpP4z0tFQQM24to1v0lBAz6z3fXHSUEBbmx7kydJQQGEQzAD40lBA7vbNi1bTUEBuJrfNXdNQQNhwnhJj01BASQuj3xrUUEBX/Xq2U9RQQH8z1m8N1lBARwbscV3WUEAkbQEvfdZQQDVRoCzS11BAX1+xZN3XUECKP/L6/tdQQM+N3mqu2FBAmhjEH8jZUEDp0+IWRNpQQIJXDwt32lBAk+5yqqTaUED79oHt5dpQQIsgHMn+2lBABDpUzbPbUEAJVF3dAdxQQGU4xAWC3FBA1F/Ru4rcUECYJEab99xQQGgDFBf73FBAhOWpYyreUECs8u4xbN5QQEdjs1aB3lBAuKyoaBrfUEC/GtdKi99QQMJ4Oliw31BAROoxBBrgUEBdDKQnHOFQQMkfyGu34lBAPXWLsmLjUEBH/Vkiq+NQQGlL1bPj41BAr0dHYPHjUECxA1pcbeRQQKOz2hOa5FBAiKFMoKPkUEAVacsPv+RQQFBEtzxk5VBAI6IrbCfmUECHspEsvOdQQK4KfNIL6FBArvJ+Bz3oUEAGbDxcRuhQQO9AqGJs6FBA1bNlB8/pUECpv+LCiOpQQOP6WGbk6lBAG4lerRfrUECRy95twOtQQK+KD3Cf71BAZozdJinwUED8fDT2ivBQQGm7TrgB8VBA9WCZD1HxUEDK1QpZ5PFQQHeXtMFH8lBASO/92F3yUEDXd1Doq/JQQKfn2f6v8lBANT41F9HyUEB9iJxdrPNQQEN1HXHL9FBAckWFMF/1UEA4M9an3vVQQEWS/kIl91BAEeiv6kD3UECxexYAlfdQQMeRYDas91BAyvsNWjD5UEA/U0YZt/pQQLuqtu8l+1BAQj41tx78UEDSlV45bfxQQO9Cto25/FBAbHug92T9UEAtTmFMxv5QQOtAYhaW/1BAh+rIM+sAUUCJrPjf1QFRQCZzEbWVBlFAdosUUH8HUUBJgkGcuAdRQN2TaiO6B1FA04vraMYHUUBYHiSvhghRQPWRzDjICVFAxb8I8UcKUUDXchfjTQpRQFD6V7S+ClFAqQd/HvUKUUDtY4qqcgtRQNOgEycgDFFASfbSDq8MUUBI/rzK7Q5RQNx0yEYREFFAQNABA1kQUUAaogmKXBBRQJG3IfybEFFA9DFCbLQQUUB47jEuCRJRQA97xysUElFAXFJd37ASUUDSvbEjuhJRQHSY46K9ElFADpaKKoETUUBPmStKpRRRQHBuAIbHFFFACxFLhO0UUUCwVRcg/BRRQL/GyFAsFVFABugs55wVUUAtTl+vqBZRQLAADFitF1FAX5caZQQYUUDyuxitAhlRQPf21Vb/GVFAorRXm20aUUAbgx8TDRtRQJpqI7/QG1FAtLw0+N8bUUBBcFVBKx1RQC+Lv2c/HVFArSyR+0QdUUCmAH3vpx1RQBKRJpcPHlFAovvFjysgUUCBimGdKyBRQO/xDplqIFFAVaRSMm8hUUBmRqun5yJRQHTClV3CI1FAuIxYZPAjUUDD/OM+SiRRQJrn191LJFFAFHjomLUkUUAI09WaHiVRQCoGwiRDJlFAMyToo0wmUUA2BNP3biZRQFTIJ1RBJ1FA+RI2lZwnUUDAOGc/2SdRQCfbGOx2KFFAjPr8fOMoUUA8o3KiSSlRQJLdUitjKVFA3nLwGqYpUUD15CcSoSpRQLV+HhWzK1FAn1gcI9UrUUBZNmpTCCxRQEgHHXAcLFFAa+9KR0MsUUCRssKTWCxRQHmB9gSZLFFAQdu+V6UsUUBEBrqncS1RQP1NGuEmLlFA4CDzWDEvUUCZZVYBSi9RQObmrSSHMFFAk2GwtRMxUUBaknfkqjFRQPsfOvD2MVFAHlBc0dQzUUA+wuX6mDRRQEmjFfndNFFAUqeod7Y1UUCNtptXNzZRQO7NM3AxN1FAhy9YaEQ4UUDarQcrcDhRQILHVnt4OFFAt+xzQmw5UUBdeoV0dDlRQMz5mtSmOVFACWxMCvE5UUAXqjyY9zlRQKr0H+xTOlFASqcFvag6UUCJwwLoIzxRQEdyuS4aPVFAtemaH7I/UUD4XTM2PEFRQE0oJXm7QVFA5JCbXY9CUUCbkrEFNENRQFmbJGE4Q1FAouIuk15DUUCWJCbPjURRQMzQlL4ZR1FAMdKbYS9IUUBqCRuaYkhRQB7PiDzUSVFAkyz6R0NKUUBDSfR+4UtRQN2auOs6TFFAwpFNSKxMUUAFbONQF01RQMLXh5k2TlFATsekzHNOUUAbaI1Btk5RQPVnoDq8TlFAeLlUd9JOUUCjeH4thE9RQGvSwK+aT1FAeNuc6pxPUUDy3ygNzk9RQBzWn4N8UFFArNgmyIZQUUDp1+RaRlFRQPsGMMiEUVFA0EYXu+BSUUAdlt6Dm1NRQFzVXpGcU1FApssLT09WUUBnU/fnuFdRQMLoFnrmV1FAjWxGUyVYUUBC6Zh9i1hRQDDmd+HQWVFA/Kj2n7FcUUCuRTM5GF9RQPiLNAdtX1FAfjKTrNVfUUBgQ1wEM2BRQKzHGO5tYFFAk+hjiJBgUUDe8qGOqGBRQJknmLERYVFASTuanJNhUUDSx4sv42FRQMAJqn4bYlFAAGSEBlBjUUBPr1tRXmNRQB6HSop5Y1FA7E/bbpBjUUCoTzZ6RWRRQFGlN83OZFFA6SeAvfVkUUDJ1ZS3hWVRQECF2WP7ZVFATzslr95mUUATLxI/EGdRQB+imp+UZ1FA467f9zloUUD5O/3Lk2hRQG4XHKSlaFFAQyEu9jBpUUB2Vkv1YWlRQAsN8WHCaVFAafAbQOdpUUCqbgkxuG1RQFbhp8MiblFAsWTPTnlvUUDnEAuT/29RQJNaCB8bcFFAbkIZMqxwUUBX6JpQ5XBRQNYG1FZ0cVFA7D74C+VxUUBlaivmI3JRQBamEAk/clFANwWd63JyUUD2DXwOy3JRQGXTrZNCc1FAbVYAt1l0UUDhJMH3qHRRQJftOTXRdFFAldTQtWp1UUDHku/Zr3ZRQByzHq0Xd1FAw4Z+W+R3UUAX9AlKdHhRQB90/FemeFFAg3IlEUd5UUCJFGg8XXlRQGkV0Uh8eVFAp/o6F4V5UUDQbmySwXpRQGyfHwTTelFAk1SA6gh7UUCVkD/WWntRQP8EtrwnfFFACMyAVnp9UUDy06SFnn5RQASpSs/nflFAgeoFyfJ/UUBaWSvGIIBRQGMIaBg2gFFAQkYklN+AUUBkc2ESIoFRQCv4ASRDgVFA6zYxG26BUUCfRAdz+IFRQPc+NDOoglFAPAS/XYuFUUBm+Hbx5YVRQJEf8775hVFATqek9lWGUUCM6N0qg4ZRQAEYo3WyhlFA9BkGf+yGUUBFE15LAIdRQOfDbKXHiFFAJO9RgpiJUUDbASixn4lRQJKzG6rEiVFA1aU+cVOKUUATnDLuoIpRQNp0fPHfilFAJJJfdieLUUA66IUr4ItRQP0hD+xBjFFAveH7U3WMUUCmx9hMrIxRQNt7AzMwjVFAPfvqSJKOUUCko1sRVJBRQL/e3em5kFFA49IVGLyQUUAklPYc+5FRQMruvHxiklFA6ezocJ6SUUDv40yGbZNRQCrlnrH7lFFAbUcAvRyVUUC0d3uTj5VRQJJ1Y7pWllFAUUSNaOCXUUD9vtT0/ZlRQLRv3OAAm1FADYK2U0ibUUB2qkzGzZtRQAtIlxHdm1FAMqj64CCcUUB8claGUZxRQN3XQu66nFFApLAiJkKdUUC6SzLsUJ5RQPu8YHa4n1FAlY5T/LyfUUAY2r782J9RQDn/2o5KoFFA4OnHg4qgUUDcAYwAiKFRQPxQKurGoVFAasHSyw2iUUCSwSTKDqJRQMJrGggjo1FAyF+7WSSkUUDJTNoiV6VRQLX+hlhsplFAr8bNCHumUUDYuLwvCadRQBCtAIKVp1FA2gnwav6nUUB5VxHK0ahRQJ2tvPX2qFFAeQqlWp6pUUCMzZWNt6lRQDjnGyMqqlFAKI6vCpuqUUCjdMO7jatRQGWi5QVBrFFAWvLBIoSsUUDhUAoC2qxRQJlzT0FKrlFA/quWD6KvUUBNB7uUEbBRQO4KllWosFFAmgtZlz6xUUByHfPzQLFRQGNs+k/wsVFACScE3jyyUUDXYPzitbJRQGCiqPf2slFAmNFRlDS0UUCfHoNcqrRRQBjYamMYtVFAAMaN7SG1UUDnYF/+obZRQDJmEGujt1FA5j+U7RK4UUDsHis8PrhRQI7nCRl/uFFAhz/w2Y64UUAjN7xcOblRQHreYTNFuVFA6uQdz+K5UUCEuFzD47tRQAiVS0bou1FABxGeDsy8UUA0h1L/4LxRQOrLcJ3kvVFAqVpAwfe9UUBZRht6tL5RQA7zBLHPvlFAxFBTGP6+UUA1Mrbe3b9RQHmA869XwFFALTG18V/AUUDtD8QgKMFRQIyCrEgxwVFAogutzZnCUUBcUeWXH8RRQPK17k9FxVFApcq02s3FUUC37TbyhMZRQLZuivMsyFFAicQEIk3IUUCLww4JO8pRQB59UIJJylFAEFmlzTDLUUCeBpZU0sxRQM59UwJfzVFAcSRcdJjNUUCGCpf/Bs5RQCMi+EmazlFA6TCDgLfOUUCUo5HI785RQJL4J+NI0FFATRx54I7RUUA1p1dZYtJRQB6WxwmZ0lFAtmgCwbLSUUBaAV1P8NNRQEHYgKhH1FFAczvoOgrVUUC8lIkQF9VRQG4nMwKO1VFAntHH5CHXUUB0cK7mN9hRQJLa4Kup2FFAk5pAbsLZUUDTRi6tQ9tRQE/mlsgS3FFApsbokNTcUUA8WPwKU95RQIyz8y7a3lFAmu4Rdf/eUUBpKsX+OOBRQEO0bHCE4FFANvIDSOfgUUAYUn7GCOFRQIo1y+qT4VFA2+yGV7XkUUCo7H2LEeVRQDvjrWR05VFAT50nC8zmUUDALg1W8uZRQPw5/oA851FAAU5ONs/nUUALfOnN2+dRQA1CjFyP7FFATow+H9fuUUBmPKTg1+5RQE2F2CBO8FFAh6e4bv7wUUDBj9FSAPFRQLbmHhQk81FAfA/TozjzUUCmf5Dp9fNRQMYYGhUG9VFAUuobTSr1UUCqNfphVvVRQBeH1zdx9VFA7qZ8Tej1UUC7YSHgAvZRQJTrumYt91FA2ikIhzT3UUDAsMY5evhRQILICUl3+VFA/FJ7Qoz6UUA4zokU8/pRQEhFbvj3+lFAEB9fE9P7UUBO3/1h2/tRQM/ZmV7p+1FAgh54Hp39UUC9ecDCyv1RQOnSmA7V/VFAye8GIIUAUkBV4jFapQBSQPaweydGAlJAYrC053gCUkBXW45aiAJSQD25wksWA1JA4mfaryUEUkC0qrtJAwVSQF9Gj9ZFBVJAhKtWhkYHUkByXVwq2wdSQMKjBlT1B1JAGywSo/cIUkBANAUyMgpSQIaNKgIDC1JApjzSjdUOUkDGd2YxEg9SQOHN1t95D1JAQ8KESgAQUkDsNrHT9xBSQFs2BREREVJAiu6g4VQSUkB/9+T1BhRSQB5MgndgFFJAfzQyja0UUkAuBGuW9RVSQKNfXSwAFlJAK5UuolQWUkD8znsTkBZSQJcFdcjNFlJACgDfjRcXUkAlEPWagxdSQNgcp/IYGFJAgA5euQ4ZUkDkPvZ9HRlSQHctNKgzGlJAqwKvQjAbUkB4hZmTixtSQIdRtGSLHFJA9n1J5ZwcUkAz0yfRLB1SQIWCUSKcHVJAIztORBUeUkDoUyyD0R5SQPhFclhPIVJA1l6lqIIhUkAj2RPHQSJSQCxemM1sJFJAC+YsPrIkUkArqdRaGCVSQCReTJNGJlJAFb1BW98nUkBnvFO/NSlSQHLvmj4MKlJAYoVobv4rUkBkPe8NqCxSQO1+AhlDLlJAar7LQkcvUkCV8O1t7y9SQOreUOYuMFJAinSwPbAwUkB9+MbO3zBSQKMFnTAKMVJA7CFakkwxUkBzCt80qDFSQLYH5ZToMVJAUoMWE1QyUkDTP5MukTJSQPuNOKPQMlJAvpfwXCkzUkCErqbePTNSQAcYJAxgM1JACUlqXVY0UkA+PvndYDRSQKWworFmN1JAEq9+pIo3UkAVE6swDzhSQLWvjPbvOFJAlnfqShg5UkBLSQgL/zlSQCz4cedBOlJAF7WgPIM6UkBhno6D9zpSQOb1Wu4kO1JAZ/bwGBg8UkA3xBz4UTxSQGul3wzePFJApp3fCzg9UkA3hrL+xz1SQEBB/dgQPlJAfSDKgj4+UkCWiSzq1D9SQJryHoFwQFJAoWWiMNBAUkDvghAbcUJSQNVAAs9xQlJApI6Y2YhCUkAzb36Uy0JSQKxGI7RAQ1JAVypDB15DUkAWl3m1DURSQND/DM1bRVJA1x0MQlxFUkCltdYECkdSQG9EPa5/R1JAObfLrPBHUkDfIT8QX0pSQF1w7lyfSlJAH6uKTa1LUkDg6O5VI01SQOCSVWyLTlJAg6dmG2NQUkCQ7/npkFBSQH1Kt+G5UVJAYReuYXxSUkBKiDHE7VNSQPmR4Ta7VlJAd/oIzjBXUkC2zPWmVFdSQOlKo7Y/WFJAEiCdUHhYUkAGyXPyjlhSQFCuEbhAWlJAk1jsWlhaUkD+RlqC2FpSQJaFfhn9W1JAeRSVhwtcUkBDVfaILVxSQIoeDb0sXVJA/68sVFteUkB6tc/NnV5SQI4lTuKnXlJAzZ2ZouNeUkBGYaH3jl9SQKhP7fjkX1JARfbspCBhUkBedlIsQGJSQFdwrBriYlJA2QbwvvxiUkAT5p1fKmNSQGKXqTOAZVJA2gaihC9mUkBqjdK4uGZSQHiX/t0rZ1JA46Gs4UtnUkAL4XCNoWhSQHkTWnSyaFJAfLjMBdJoUkDZwsrP+2hSQAAqGexMaVJAhTLagk5pUkCu8cvc4WpSQBM/CwV3a1JArCJX9ChtUkCMTePIjm5SQE93RFbTblJACiOLoO5uUkCVRWqZ+25SQPMuIwW2cFJAPjF5BdhwUkDhcpyDPHFSQCxGCo5QclJA44LN2+ByUkA3hIfxNnNSQLAukDiyc1JA2+1AMIF0UkBjNg9ip3RSQE5w6BwKdVJA3HJedEx2UkDcldDcYnZSQOso72/KdlJAZaSonk13UkAtm0cLj3dSQOtyr4Wxd1JAf7Kj5kl4UkBhGskbenhSQDzB8ls7eVJAaNlnMaV6UkCKqdpUwHtSQJetAHRpfFJAKebBkhd9UkA2t9liP31SQAGyE7gpflJApgEy4Oh/UkACCL4IJIBSQOVAL/MNgVJAZRGj49uBUkBtlhlt3YFSQMccgkvsgVJAGfG1LvWBUkBP60bdSIJSQMFFs6eXg1JApjB9XAeEUkAxFkE7h4RSQP3uy1E9hVJAzWeYOeqFUkC6ovIfFIZSQNp+l9ugiFJAwiMIieKIUkByYXlo74hSQLBJN7sQiVJAWWrgYDOJUkBKCdSwWYlSQNyxzAZ+iVJAP50agKqKUkCleH5S/opSQE49Wko1jFJAENmQ21KMUkBH2Un3x41SQKIdut1rkFJAiEaiFoiQUkBzgxIcxJBSQM1ppoVQkVJAilTlxoyRUkDtDf1Ok5FSQCypxBkkklJARMLRhMySUkCRmglAbpNSQNRjgxJ7k1JA7sDeV/2UUkBHl0cS3pVSQM8EFQLhlVJAKkmUP+eWUkCrEwzs/ZZSQKLfw85TmFJAW+DAsheZUkC4RfScY5lSQHc9/6FcmlJAVinky0abUkBaBBTSUJtSQKScPKhjnFJAIbWxfWqdUkB/Ig/FhZ5SQAIESP6cnlJAK4yr69WeUkA+aiw6855SQHY0gQFkoFJAYScWAn2gUkDM/AhUH6FSQCfDlv1PoVJARC+LarWhUkBJCCifvKFSQNJoqCq8olJAXFUgJsWkUkDpXGn6YaVSQLnxmVNGplJAbX+SM3SmUkAOajnbvqZSQCnNyd0ap1JArTBl1zanUkBAkXrl9KdSQOkMkK0BqFJAX7dN8r2oUkD4Xyz/yqhSQJYxzX+VqVJAKfiNR1WqUkBYwXqehKpSQECFFHySqlJAm71b3nSrUkD9ksTHJaxSQLma0WegrFJATTLNRmytUkCLB9Pvq61SQDTXmkHfrVJAlLP+ZSWuUkBrxRsjYq5SQMJ6kMpwrlJAmGvoM8OuUkBgE+cQJa9SQKkRlD8AsFJAbqMOGxywUkCyYbRSgrBSQK2JBKjksFJAePo/QjuyUkBj6fS8B7RSQFpI98UutFJAaIar9GO0UkAl6bO10LRSQBtXkMF8tVJACf0DnLG1UkChZZYBCrZSQEpTBVWqtlJA/H7ECQW3UkC9jaJuF7dSQK2ahmUjt1JAC0G8PHK3UkC6QsxYQbhSQN6NkkHQuFJAJI29aEq5UkACWUKvUblSQKF6EUNpuVJAkzmL75a5UkDOmv8SG7tSQP3ZSgslu1JAFulGRZG+UkAhfbr+eMFSQCno8J4BxFJAY379IIvFUkBvD2LkQMZSQJENMihRx1JArpCPQ9nHUkCyh1l6UMlSQBCZ3X1hyVJAVV6zGnjJUkBbmhCBKctSQO+muI9ZzVJAD92wWjTOUkAjsOmMQs5SQL4x+GbbzlJA9iMUlfbOUkB+qW2f/M5SQKfNYD4Qz1JApXa/zkXPUkAo8/uueM9SQGuNPsp9z1JAr8RmisLQUkB+qxt6ztFSQFalLKEt0lJAUzTRmznSUkAxFi6rydJSQM0fOWQI1VJAC8UkV0PVUkAJCUfgQ9ZSQPcwdbWV1lJAFK512JXWUkAXRb5uldhSQBBbUS7a2VJAP8RAJ77aUkBe59cpL9tSQLl1Zvxo21JAzR94D8HbUkCH0ZOj9NtSQKxDuhqv3FJASxM3HS3fUkCEZcL72ONSQIqdYfK35VJAhFUfoCvmUkDjmTu2eOZSQIuIItBu51JANX1kuJHnUkDSXyhp9ehSQPnZN2xw6VJAE0SGquDpUkDPUotprOpSQLUaEqYP7FJAMYwRlHnsUkDkyz9MW+1SQNonUB3V7VJAm8YvHjnuUkBBRz3y9e5SQOw/R08h71JA1HCDlvTwUkAi7mQJGPFSQKZxjLWg8VJAp38eiFbyUkDs240defJSQI+acUdl81JAS0v9mUb5UkCQWx5MfflSQLggmtsX+lJAwyz6P438UkA1mPzxo/1SQBIxrOEx/1JAb4/CAdP/UkAkfTYn1v9SQMFpNaSCAFNARicstuoAU0AGdsN/YwFTQHn2XfGNAVNAudAtAi8CU0COAtw0XwJTQEb+kdF6AlNADvCksqsCU0BeAHq/ygNTQLaUPrsJCFNAuQ+tABYIU0AU+3UQiQhTQCZwqn36CFNAjWWcQy0KU0AbHv3lLwtTQG224OlaC1NAe4Xw/KkLU0DzcRCM1gtTQCKNPnNiDFNAkWK4d3kMU0AZZzpnjQxTQNFK+DKZDVNAmRABLM0OU0ANKgJ4MRFTQGUAI4rTEVNAwpOD7gUSU0CQI2OBUxJTQHk1udyrElNAirCtFV0TU0D6KNBt/xNTQCUjE1A3F1NA5Usww7EXU0DnQBU6vBdTQH6dFVztF1NAlDOvdAUYU0AXV6YOWBhTQBKiUMXWGFNAkct+SYwZU0Ast4atjhlTQPwh9V4JG1NAzHv/hccbU0A9tc8IKxxTQCpj+3BLHVNAqhPmleYdU0AmNKX1kR5TQBdXK1/gHlNAxmUSlXIfU0CR1WZUiB9TQLRQCC8KIVNAkZYPGvkhU0AjqXv8eCJTQIxx5JEjI1NA2wXXDFIkU0AvbVvPoCRTQNQ+6n7RJVNA/lTXQ3MmU0B8jolSGShTQOLnCn0ZKFNATXnGcmYpU0DHk5tM4ClTQNF6a4qVKlNAjUI9vPIqU0ACs46aAStTQC7n7NlvK1NAjnOKoIUrU0DElBHkRi5TQNsVLKIGMVNAaRm/8y0xU0BGfNPZqjFTQMBqm9RfMlNATNFfJQo0U0CQsmhJWjVTQMicL1KpNVNAvEKFAUY2U0D8ga5qXzZTQH5zOKSiNlNAFL3n+lE3U0B4UtcAXThTQDB1+MfcOFNADg8c0h85U0DB8dv6sTlTQB/NEvc/OlNAsdWmU2A6U0AeZPjTNTtTQHcvgMhqPFNArA7Kwcg8U0BsQcsADT1TQJD0nXM0PVNAig4x+zU+U0A1seUdG0BTQBiU0KwQQVNATHvbij5CU0DQ8tnbnUJTQKVbbpNVQ1NAq/hn2YZDU0DZ/9Vt1kNTQMcrYGfXQ1NAHZSciNtDU0BPgm+p0kVTQDdf/DbpRVNAHt5nljFGU0Be42NQq0ZTQOWlmifYSFNAbQMlJv1IU0ADbM3AKElTQCTGakypSVNAmUfeO7JJU0A9YfetSkpTQLj0B1RpSlNA9UCUZehMU0CoAeQ6bU5TQAOwzkl4T1NANvihD4FQU0AXAhyfilBTQEeHJSe5UFNA/RJmLxxRU0C2k/KJ/lFTQBNUepClUlNAF+elOn9TU0BKhAEqbFRTQNOiMmZwVlNA4vJuJc9WU0DT8Oom7FdTQCRtqzjhWFNAFQ2XpnhZU0DNLDLrtFpTQGtvXlk4W1NA4+ypiphdU0DcAB3v+l1TQNANavf6XVNAhAc6wQ5eU0C5DTdHtF5TQJ30hYbKXlNAZ6vOmN1fU0BQVRmgt2BTQMuTY/gnYlNA7oWFh1xiU0D7B3kfpmRTQCUJuht/ZlNAqVXYsCNnU0CzwRZdxmdTQFMWZcoXaFNArUuHdIxoU0BOWkQ5zmhTQMJSoUV+aVNA4KDupLZpU0DMpV9QAGpTQMTtuU0qa1NA4KLSGqVrU0A3M+uDSG1TQJ9NLpUWblNAcUReHc9uU0BN8ISU525TQA9eDg11b1NAV5SAwTVxU0Aiz5pkF3JTQBa8BWNoclNAiNeJ1FRzU0B5jU56pXNTQImm8kWwdFNAyaKabzR1U0CL+owRaXVTQEuQ/qH6dVNAagA53x54U0AigZwOE3lTQFLzkwkYeVNAffYVztV5U0DX3d2KJnpTQPsDR29uelNAB4wvufh6U0ByauzL/XpTQL+NQaUWe1NA+jZxphZ7U0DWq6PIQXtTQPQ7ofBhe1NATaI+TDl8U0CC5amRxHxTQOK2BttEfVNAad2l60x9U0B6tz2PdX1TQP6VZWLKfVNAMDkmynN+U0DfJE/KwH9TQPLBJYfdgFNARBgorPKAU0DJutenMIRTQGRPs729hFNAMQo3bqSFU0DrT7zpxIZTQIxnTBRzh1NAFGSwf9GIU0CYMFITtYlTQMvLoI34iVNAqs2/KKiLU0CDCiaMzotTQHEA020NjlNABz3GuzOPU0Bgn1PL7JBTQAYsKtwnkVNARLbQgaORU0CI2NsZw5FTQKwpIvX7kVNAL3xvQ9GUU0BI3AcKEZZTQIsBIykKmFNArKqiST2YU0DHj8Mm/5hTQD4MhOFjmVNAaGjAcmWaU0B/xzXXtZtTQFfTeA7Vm1NAUNDzWOibU0C70FBhI51TQPxD8uOznVNA+6Jn7kGeU0BsQ7XdU55TQAm4W2N+nlNA94Lb8PieU0D122Vxk6BTQKvndVlColNAbEQohJWiU0DTQNvOn6JTQP48QVBno1NAePi/RzakU0A+oWHBj6RTQHpCGyGYpFNAgrE748ymU0A6AxdFuKlTQJaKUBM1qlNAVv0msn2qU0Du2In+iqtTQPb8Wrk3rFNAyYVpeT+tU0BWU0RWTq1TQHIZYb8ZrlNAXPLR5xquU0DUD2WB6q5TQIp9+/IFr1NAxHVw05ivU0AC4gG6orBTQB0ZPuyosFNAARwc612xU0CnLrpqSrJTQKZw3D1ys1NA/P5ii3OzU0A0x6443bNTQFcwSbVStFNAgq7aYje1U0BWGgqvsLVTQGwGNpmctlNA5d7UBnK3U0DeIFCEILhTQHYqtFfQuFNAceUV2Jq5U0ArveO6srpTQPkxcbHqulNAfRblu2a7U0BavKsSar5TQLAEvAi4vlNAatC/9Q2/U0B+4lyOPMFTQMtY3xv/wVNAoL2X6B/EU0CnHxlfTsRTQA3j5wFgxFNA+9Z1s7PEU0BfCmFqNMVTQK5Ju8c0xVNA9iaFanjFU0AabSLc2cZTQIMytW9vx1NA6/YK8+PHU0BNMAJdGchTQAcIEMjryVNAecxUkBTKU0D0h+JFsMpTQGl0siPRylNAUDq/cQzLU0BhUe6XLctTQHDtfWh8y1NAwKJkRY3LU0BZd6r3Js1TQDFstIBAzVNAIFl2BaXNU0A4sNYV6c1TQDGjNO5Oz1NA6dPRKxPQU0CnwzdyYNBTQK+lwy2A0FNAaAfTWWrRU0CapHQHrtFTQKxNefKy0lNAp9kbxj/TU0Csutvq49RTQIo5w7fb1lNAUcD/ZQ3XU0A+7l2LM9dTQPDGLG+T11NAvR6YG6jXU0COF0bl+tdTQEybnRYa2VNA88CBTQbcU0DT5cbkDtxTQHGCF8ww3FNA//lyo7vcU0AheMPYQd1TQL6H7Qlq3lNA+O7VmFXfU0A54KXEYeBTQEPKyPzt4lNA28Qw4VjkU0C1M/hZx+VTQHHYNR5u5lNAUT1HcrjmU0DzEG+eZ+dTQLdPD1p16FNA4IPAO6PoU0AIzbJD+OhTQMsERH356VNABKGaNkHqU0CvCFa8gupTQMoAl1jc6lNA1B1CVLLrU0AgZXaIG+xTQF3RIK/S7lNATPAozwTvU0DWxLR0ae9TQPPgtrwv8FNAxXCeZXjxU0AOkI/STvJTQH6PD3SK81NArnJjmyf2U0B4iyQPM/ZTQFFqWgVl9lNAPluCY8r2U0CH/S+cBPdTQKUeYvss+FNA6wsiKd34U0AyxtvKD/lTQC1RMsdc+lNAmgzgWV36U0CIIRxElvtTQJi+h/zY+1NAbt4bI8n8U0D/aQ4EfP5TQGIdX4i0/lNA9O/NDxkAVEC/SU4cuwBUQJ7T++41AVRA9/gvOooCVEB5TJQhmQJUQBXWcU0oA1RApKYXaWAEVEBms1L2jgRUQBiMomoXBVRATvHmYCkFVEBlRnkRTAVUQMC8PWFfBVRAJFDJ7qgFVECan6l8NQZUQGYsnL2WBlRAD42v+dkGVEBH5SZGFgdUQGyDyH+5CFRAXqUC6OcIVEBHBMsWOQlUQGuVLw6TCVRA8zLhEaUJVEB1BUyExAtUQCZU+w1LDFRAVYjToFgMVEAZL2wO4QxUQGk1VPr9DFRAmBHQ9jsOVEBj6WscGBBUQBGNunhoEFRAshDCoWkRVECZK765jxFUQCRSV4sDElRAyNKhRDoUVEB4xPt/OxVUQKmD4LEgFlRAGzwQFDQZVEAkElhpUxlUQG5MGJn4GlRAF4Fe5okbVEDEv+z8qhtUQBdWeoeZHFRAAiqA+8sdVEAUaICTwh5UQBUYsK3WHlRAA/xXM+weVEBfJZXFFB9UQA1yAzROH1RA+J1V+BAhVECLF/hEoiJUQBljQRW0I1RAqOBO5DckVEAoVURkTCRUQDDm5SosJVRAhTYszT8lVED11ckObyVUQL2cNdHAJVRAKN4MFMclVEAvMZJsTSdUQLCgZKN4KFRAACVAU4EoVEDBMzq3oShUQC+f8yfHKFRAC5cbt34pVEBehzk9bypUQFusfwuhKlRAY/6y4kMrVEBuw9zbsStUQAf6Y6XAK1RA8rKEWIgsVECPhR6QTS1UQAAETbBOLlRAQrrsUiwvVECJFfLAgS9UQBRqQSrEL1RAaHUjltEvVECXSYEodjFUQAzTsFSTMVRAYrtNeMsxVECmOflG+TFUQPnZ4oaOMlRAS1Jb7XMzVED0etCMkjRUQDNHxjzoN1RA4qssRnY4VEBh1PkxtDhUQAJF3QUjOVRAE6i42WM5VEDV0St+zjlUQHemGyJAOlRAfWvkBoRBVEADUWH0P0JUQLJojchfQlRAyccChORDVEDJZgeXjERUQJK/o6yJRVRAvwLZbdRFVEAa4XDJTUZUQOCUBgdzRlRAhvT9a19HVEAr69g2ZUdUQKdTCd64R1RAXBpK2AhIVED8YnrQDUlUQMHHYAVwSVRATnBvdhFKVEAjupTxV0tUQFJIJtfFS1RAPxB1Uf9LVEAebgAIiUxUQMC8dv+WTFRAik4SM+dMVEDzQkw0Fk1UQFPrZic9TlRAEgPwNklPVEBNP+AlvU9UQLpNjgUEUFRAuUbt7ClWVEAEnkNHfFZUQMCvdGgQV1RAGuHd/5RXVECbuse+KFhUQNTvKJdhWVRAtnQryx9aVECWmiVCIFtUQOfgUtEUXFRAt2Do4+dcVEDbiN4wHV5UQLNgUW6XXlRA3wKisR9fVECYFpJtCWBUQERfsAxjYFRAH/By9QVhVED+AYB3F2FUQDo4mW0gY1RAj9vSnztjVEC97gJbmGNUQCtESR06ZFRAD1+1KOdkVEA2IhoE9WRUQJmDyA8JZVRAjQzVAXpmVEDwz1390mdUQKQmLTQdaFRAPUVuCyppVECewQ1kE2pUQImnfVAva1RAeZPTKJtrVEDHj20wZWxUQGjNRy4NbVRAKv0xXVxtVEBNSWnZqG5UQNXJ82+Qb1RAj7kU7blvVEBtgatxXXBUQCf9o9l/cVRAApQV5n9zVEAi5TSWL3VUQOK2X2m7dVRA3jzPqGx2VEDW/TdAbXZUQPLoN+PRdlRAnqaumCZ5VEDnME+AH3pUQDElnj1eelRAl8qWVRJ8VEDrAKy9E3xUQLm9rvbofFRAV4jiwXh9VEDY9bzin31UQPvhMkF5gFRAnEfLqCiBVECq4R4jN4FUQGL8sAzbgVRAlrtYHOOBVEDorIO8x4JUQPr9LwvrglRAAuEpuoWDVEAgDXKkVIRUQKSHILuzhVRAJ3WsrtaFVEDocxCSioZUQPIZVfefh1RARqdrDWSIVECOw/LTo4lUQNX4eOM7i1RAGCW65pyMVECGkWB0nYxUQBO88+rwjFRA3mbQn5KPVECGlIXd8o9UQOBF2tokkFRApBHthpWQVEAv7BcmBZJUQO80rVevk1RAXtN/JbqTVECE2RztI5RUQDMDmNNslVRA7OfamnyWVEBMn3LNy5ZUQHOO2YJDl1RAlPpdA8WXVEAo+YkAiZpUQMuejIG2nFRAFe9/TzudVEDEk0AY5J1UQKmiZs8snlRASCedtjyeVEDsB5Qwk55UQFMkH6DfnlRAg8EuSgqfVEDZ34VbPZ9UQJ3kTGC0n1RANqPrbdqgVEBcpUiJr6FUQOwhZ4M8olRAkCDm3PWiVEA9PwwOPqRUQGgymuNqpFRAHKj29TKlVEB+R4Rca6VUQPj66S7SpVRAloCnrfKlVEBnneHMGKlUQGcnq14vqVRA71d9gFWpVEApz1RxV6tUQC9SXjjSq1RA69JiPGesVEBdwe3JraxUQC149CxErlRAc+BH39GwVECJx7Q4+rFUQFzjko0vslRASnfjmYayVEAsjtyz0LJUQOQjSAErtVRAVQ4NFQa2VEC8RNHKJ7ZUQEnH1NRftlRAc+dUkr63VEA288/R4rlUQEzHyq/puVRAZ2NUrqW6VEBC7W16wrpUQBvkuDCDu1RAv8lRCE28VECxiLk01LxUQAXu52ZtvVRAwn3onE+/VED730nm0r9UQAQQKXTPwFRAnXdSNynCVEDJx5TG3cJUQJfQe/OYw1RAKoGmeCHEVECl5Xs2mMRUQKhktqIFxlRARhTTnD3GVEB6VmArXMZUQJ7heim9xlRAHR+d+N3GVEDc7MRgWMpUQPwxiMCYy1RA2JHFEabLVEC6hT9S7stUQKooAWwVzFRA8BSY/zvOVEDTTH/Rdc5UQOiMaOqnzlRAkPuoz8bOVEDjREB+bM9UQOcN16bk0FRAdQR5D0/SVEBruhDiT9NUQFD/X4Mx1FRADwkL7CXWVEDDyLkiL9dUQKPxcDZr11RAhN6R4G7XVEBFuZDFCthUQP4PWM8+2FRA2rizWWbbVEB4jd+3dttUQL7ccFc93FRAnTrXzKzcVECxxGjp6t1UQAiCjvFQ3lRAgVsyX7PeVEAqR3zS7eBUQDgHiEli4VRAhLxe8DviVEBmhxsO1+NUQPC0t2kI5FRAnowAEznkVEDmyQvqU+VUQE2jJHZ/5lRAqk52vVbnVEArg1+A1+dUQMNBURBZ6FRAM097oHDoVECP/fQ2D+lUQJc5KagW6VRAM2opZv/pVECnjLeI0OpUQM/llymD61RA2YWuNozrVEDz8yOOY+xUQPFVuU1A7VRAuPTv16jtVECtLf6YB+5UQIpMsocN8FRAqKzvC9LwVEBnNkTe1/BUQPxihgvh8FRAT2jtRgrxVECtMteqJvFUQOy/YaK/8VRAJGBcdjfyVEBsLFFV//JUQCaPwxht81RAp07zzDD0VECVt+G5aPRUQJVgRlw/9VRAyLZNCHn1VEAxUCaUpvVUQMsFHnMd9lRALjOXzVL2VEAsZ9CFjPZUQMn0v25V91RAqXblugL5VEBRMS/1RftUQIrFe9iw+1RAax2K2Gr9VEBiBoETs/5UQLaKLb0L/1RAUlVwl57/VEBWzFDoAwFVQBTLM0IpAVVASuisO4oCVUB93Uy5RwRVQNiAK1c9BVVAeJw8nxsGVUBSUqqJJgdVQDBkMRhtCFVAOvECq3YIVUCKYFWnMApVQNmYW+CQClVAUwYyOv4KVUAG9RgZFQtVQGIePN4VDFVAUquvLaEMVUDVPhWQvQxVQKGRqFSFDVVAoJ6aKFsOVUClqp9mDQ9VQE9YxUM6EVVAYZYeMDsRVUDBuyoPiBFVQPXZoGSQEVVAbkw/YmQSVUDuUGaGAxRVQJYnOBCmFFVARdgOTAUVVUDqQF+qIhVVQFmkWHZIF1VAxuksdY4XVUBhieMvCRhVQBw2DoNgGlVAUeY2vz4bVUDDmsCPfBxVQEGlhq99HFVAkJidR34cVUDanF8K2h1VQFB1CFUsHlVA5L5T+qQeVUC/udZyrx5VQCzznFVTIFVAUb5LOZwgVUAWqXosGSFVQFH4H3mPIVVApxJ4ic8hVUBdi6ex8SFVQF9/H+eQIlVAarYqo9kiVUAtK6OhWyRVQKMP3EprJVVAOycITaElVUA3i7z8cydVQPsnJklyKVVAq/a0OKEpVUDaV2VrXStVQAbyj+6XK1VAROtRd7ArVUC8OLLz/CxVQCbpHhpLLVVAkeH7flItVUDu0G9b+S1VQJCVx/wZLlVAhMgfrEsuVUBVhBW5jzBVQENwWoHMMFVA4IfndFcxVUBXUOqCaTNVQKOpdsCgM1VAXleIhkI0VUDFnJ7oQzRVQMA/1e9GNFVA4EpevI40VUDDqUKe8jRVQOpvgpWoNlVAUSnCHkA5VUAK9EVGADpVQCaPIcOpOlVAzkPEoeE7VUCSxQss5T5VQGgVKWkjP1VAfaN5AoI/VUAYA8yhS0BVQDu6Hs9TQlVArDxaSsJCVUD9T3eXUkNVQPmFblpXRFVACKjLOohHVUDVIe1k5EdVQDyFDrCaSlVAmk3/X1pLVUDQMPlqy0tVQNa1hbz/S1VAn09PA9FMVUC7nYPJ1kxVQARifMVUTVVAq2e3qzNQVUA13gK6jFBVQEtQKDtkUVVAc/PWBAdTVUB8yjcP9VNVQDatCdrSVFVAgmIQd+NUVUBJhqdULlVVQHsDVP4BVlVAoQa5qxdWVUCdKlH+n1hVQGZH/56EWVVAN3Qz6ZxZVUCPyZDkt1lVQCa1EJdBW1VAdHyvFXNbVUDGV2z921tVQNPx9eLjXFVANsnt0JVdVUACm8Ie811VQHIaGHbKXlVACktMy5FfVUAHXy584F9VQNztkgrqX1VAUwdQCzZgVUD4/pCEKGFVQPGDwDWpYlVAdFf8kNRiVUBM/APNPWRVQJ98othjZFVAh2do0eFkVUDn46TKHWVVQO/GUqYbZlVAWVgLyjFmVUDI6O2q3WZVQLQh6jmFZ1VAAGazCMZnVUDRV6r5aGhVQAsloCWTaFVAtA6jLoRpVUDaYFe9b2pVQN8DhxD1a1VAcjy0t5JsVUCPLq/r5W1VQNk1s3/eb1VANEABbvdwVUCYCqt94nRVQK4wJyT1dFVAzR0HA3N1VUBZjKTKpnVVQLix8SjPdVVA7oY51Ht2VUCyof1jBXdVQHBbsAiUd1VAWRVX/fV3VUDeuvOU3XlVQDzQKYH5eVVA2A3SUT56VUBBbU5t03pVQKMwg3xSe1VAkFsrGXx9VUCoUbJeXIBVQBUeXcRmgFVAHSvNebqAVUD+RuPEuoBVQCryzYKNg1VALdy0CcODVUBrTg4d8oZVQIfg7ZxJiVVAeUCASeCJVUC0KvCXZIxVQMcuNfacjFVAlgrztkGNVUCsAAZIEo5VQG0u73qrjlVAbwFp3+WQVUBiJj4ZEpFVQCD0abihkVVA5Ljo1UuTVUBWDOaTf5RVQPzRb5iUlFVAQQErgcqUVUDLWEdIRpZVQMfwXQnSl1VAz8KCUBmZVUCWRQVWIJlVQCKQP8qBmVVA95OMeuGaVUD7n9Og8ppVQDLdJBkhm1VAFAZ7KM+bVUB9g22O4ZtVQLOyUQUtnFVAAqCQg3CdVUAZ6Xvv1p5VQFBqXLDnnlVA7xAywOueVUBlHhnIT59VQHMSkW2en1VA6noty8afVUCgfCvs4J9VQJTgoTxfoFVANJMteHegVUAsfuzo1aRVQBZsbJoRqFVAZfQ5DjOqVUCndW8wrapVQPnYrKuEq1VA1sSmcxSsVUBTT7Jtwq5VQOogXPHmrlVAbOo0xeiuVUCf3lxsPa9VQNYvGYVwr1VAjeATvZqwVUD7OtTn47RVQMV/0fTdt1VABK+B5wa4VUDK8OI2qLhVQNWJyVywuFVAMvPIhGq6VUAZfut6vLpVQJcwOAO9vFVApuQdPH6+VUCyqPACzr5VQIUdrkltv1VA+yHqhezAVUDFFFd7McFVQCTVxq6KwlVAUn3fJbHEVUBB1genucZVQN9u+mS+xlVAC28wgULHVUAaJbG74MhVQM6WKbchyVVAk0So9ybJVUDpmyvXbMlVQMqm8RBjylVAmmr3jJvKVUAAOWSCHctVQJCIvO1UzFVACyYM0tfNVUCzvkuCds5VQKY5PRS7z1VA705ewuDTVUAHT5KFlNRVQJkRjVfP1FVAFMthDC3XVUDv5+vdW9hVQFDTLt9+21VAyagBs8rbVUBzOwWg1ttVQF681ZTu3FVAJQjIpALfVUD3vKzrVN9VQIRmd31631VA5hJJQYbfVUC0Xral1d9VQONC8WZI4VVAMqKIP2zhVUAp8KoQcuFVQFgy7Z6X4VVAzdg6fFHjVUAkeIoXvuRVQB7zc7km5VVAu43vYb3lVUBa5abr/eZVQAWxMPFb51VAXpxHoT7oVUDKg5W3HupVQNbweW/x6lVAny8DoW/rVUAf50ddeetVQKht+4H461VAxZyODAbtVUBvEljKYe1VQIeLZJQr7lVAB7LuHofuVUBH0vK3/O5VQAdix3fi8VVAMLsp7fnxVUAMn8cYnPJVQE/mcf+58lVAs/eM/rb0VUC1T+uiLPZVQO5RbmDd9lVAX7Vm6ub2VUDgaM5FSvhVQJyAClBs+FVAmJZzGrb7VUBsJtsErfxVQLRO/+2+/FVATGY+Cgr9VUDJN0swG/9VQMshvnp9AFZAkanR81IBVkBAr2xfMgNWQOxbzrFOA1ZAu4y0Y+MGVkC7b2ykAQlWQGJos1DPDFZAPyOLwKINVkDXrK+I+g1WQFFYtjaMDlZATIgorrwPVkA0Evp05w9WQP3smQrlEVZATAqIdukRVkB33GA0XhNWQJqdxNP2E1ZAE6vYIV4XVkA2sBBY/xdWQALnIbMcGVZA0F5YMHUZVkAPChu8KRpWQFOXJjTrGlZALoJugWQbVkDRme1qbxtWQGUvbNwxHFZAkpdyyGYcVkBcrYK8KB1WQLly0WrZHVZAH+WVv4oeVkASs/t2Qh9WQKuieRjlIVZA+VlTNhEiVkA9sSNOSSNWQDBK0J8JJVZAT71ebkElVkCHcinbgCVWQPd+voexJVZAbfJEStAlVkAa5gDM7iVWQNuyQ7klKlZAguJZxaYrVkBUC8aVxytWQE1NKDXTLVZAFCNHr08uVkAbLP3z/y9WQDKdv6UXMVZASZCAt4QyVkAw2vFkkjNWQGMEn++uNFZAIW9EMTI2VkCAfpmXADdWQLGJ0OpoOFZAEb/17qo4VkDvVdWj7jtWQA3M9SQYPFZA9fGiVdc8VkCIiw2Qpj9WQKL62x0uQFZAmjlRG25AVkCWhHlijUBWQJp5f6eIQ1ZAh0DDKl9EVkDe2hW66EhWQFM4PKTQSlZAcv4YD6pMVkCocvyd6kxWQBh0A2ZPTVZAc9vwRcFNVkD4drPQ4k5WQG7QC4dbT1ZAnmtA3zdQVkBVcuI3mFFWQFIsCeG+UlZAGutgBNVSVkDRFtsJVlNWQCYBIkNiU1ZAy7jvlxVUVkCKuhg+JlVWQMDuODG9VVZAEdY6lvdVVkD7gqXffFhWQH7lCBbFWVZA3rt4pCFaVkAYxcOYlVtWQKocO4fWW1ZAvNnWkH1eVkAq1dQYqF5WQFf6fS7qXlZA/wHIVKRhVkAoHE7ErWFWQFM9iJ/6YVZADbTDgAJiVkBkkzC/7WJWQI32Ql+dY1ZA105m80llVkAeJr/BbGVWQPKsdByZZVZAf+Y6x7hmVkBwvtrE3GdWQNo5MyAAaFZAxyQ1ZBtsVkAQrcTiJmxWQL9F7rWObVZAYwqagQFwVkCSaHjGK3JWQMP+jV6OdFZAGRhjiqt0VkCmupVRtXVWQJ/I6N8AdlZAzU6sOIZ2VkAx9SiCnXhWQPHkKJ3TeFZAcXt099F6VkAUo0gRQHtWQCD85GK6e1ZAMADVgtV7VkD0bQ++tnxWQNNuZfbofVZAq5Sa7Ol9VkBZpJPQCX5WQDRanrrJflZAEj8uJ9d+VkBumfvPpYFWQJnIA18Ag1ZAb4LpaSODVkBVP5nfKoVWQMkDMrwzhlZAtjEpWoGHVkDlwVa4jYlWQL86Iy0ji1ZAkBGjFHaLVkCngjncG41WQLxof8s4jVZAu1KPS8mPVkCKkl4DfJBWQHSNMzW4kFZAy0odAQKSVkBweoCBHJhWQDRlVX08mFZAtxOOGbCYVkCBqGcLQZlWQP/jFwUwmlZAPScDuNmaVkDHru4mOZtWQASQG7v1m1ZAC9QrtTWcVkA2HnkwsJxWQHwM9Yh+nVZAkB+tgnSeVkATfkRPm6BWQE/S6bwkoVZAfbOaHnOhVkBKpx7doqFWQPY0nZV0olZAxxn2dAikVkCbgbyAa6RWQL4/cgeyplZAmaYzY3epVkDyRJyr16lWQBvv/vjuqVZAn55L4zeqVkCjCjkgCK9WQOQP9NJusFZAi+s5eICxVkDXEJQiK7JWQDHBucZ/s1ZAVJzH+zu1VkDTGnFOpbVWQHtMRgD/tVZAw+mTiLK2VkCPbtfTxLZWQAx0hz4luFZA+G8V8Qq5VkDQ9UM0+7pWQDVAu41Eu1ZAoPeckVm7VkDJHS7ID71WQBGLvYWyvlZAAlnAsui/VkBKoVJazsBWQJ3J0toEwVZA+8NsKOHBVkDMckzxA8NWQDWocQIfxFZAZBK3SHDFVkDU8Uwc8cZWQJ1vMsyQx1ZAdq7WRd/HVkC2HcEvfchWQDRns7/AyFZAS0pFtHfJVkAy8fONacpWQH0b/m7HzFZAQELF8l/NVkDyQXLm7M1WQGYRFSb5zVZAnkKFGFHOVkDVdKhU29JWQFgchKIa01ZA9bpkfzzUVkDQNw3EXtRWQPYveXrZ1VZAYVaz4OrWVkCCODdxuNdWQAopTYS32FZAmKVaFevYVkDQpvWFt9lWQApzob9w21ZAWWrwlOzbVkA16XJMGuNWQKFWW8nz41ZAtdNjXFjlVkDOAGD7kuZWQIRScp316FZAgtot94PpVkAiDokjbepWQOV7pzX161ZAprnHq/brVkCNfzWSeu1WQGptCrmi7VZAwri5ex7zVkCalsdGH/NWQO+PkS8L9FZAO7Wt0RP2VkDxdopJc/lWQGQDAuWJ+VZAeCgrSt36VkDfFiwFsftWQAJGhaLf/FZAjhXSCoP+VkA3YLJp2P9WQPHG7grXA1dAhcBJXzkEV0CCUGTWdgRXQByea2HXBldAiLJ2DNkGV0Aq6seYSwdXQPYGlb3IB1dAP981zM8IV0AatFXDJwpXQBTQb8++CldAjqw1xxUMV0BqYh2tiAxXQB9qlYWTDFdA1yLUMbkMV0CDBqT0pg1XQGepECZZD1dAOVBp7EIQV0A/N2gAeBJXQPgFzqY7E1dA4VPhZZkTV0Cd5TKVDBRXQLmYMNxpFFdASwqNOYMUV0Dagdc3FxdXQI3fEyQdGFdAYjFFBT8ZV0CCLfzkTxlXQCvu2+nsGVdAWH+c1XAaV0CqDVaHzhpXQGlOI2S5HFdAQdVoY74eV0BAFfpyDh9XQJUcrwqiIFdA3PYpuFsiV0BvDlq1iiJXQJ7YYmk7JVdAMDo/3VklV0B9H8kS0CVXQKf47byNJ1dAg6GIGRspV0BjOyz5rSxXQKdZontNLVdAXXWZ6r8uV0Ch+LkbGTBXQNY49H/CM1dAm2SbQgo0V0B7hqzXdjZXQLnCIaPkNldAxZ3hRZ45V0DT0n1G7TpXQLlQpVmyPldApiq6qitAV0A75JvF40NXQDARDjIKRVdAIxAnO3hGV0DifeLlCkdXQI2NXVwgSVdAeZ4bIa9JV0AcWnEPBEpXQLFp3+4eSldA77ubhG5LV0A2eleb705XQInKofpoUFdA7PeAgnhRV0BBSIFa91FXQNTicz59UldAVUsSFOVUV0BuMopjvlZXQODWoxREXVdAf3eegFZeV0B7Saj0aV5XQDF6br3tYFdAOY3gqf9gV0AvlqgCSGFXQBsiitwRYldAV0afc4ZiV0CClbwnk2NXQHC/3NbjY1dA5EmEUftkV0CwcpXCC2VXQCThckVDZldAL20vhjJoV0DsGimhYGhXQJVkoj+JaldA59D0AslqV0DuEDKGeWtXQPKpwtFsbVdA0fXf+P1tV0CKRMdeAnFXQKkwZ38Cc1dA3Gch4b5zV0Ay5/mRt3VXQBlOTlZ6dldAth/asrp2V0BPDN8vKndXQCuoTTBkd1dA/11a85Z3V0DDTio3w3dXQCxx9A70eFdAbtZJOVt6V0DVeEdf6HpXQAfFuej4eldAw49HQuB8V0DXsggBAn5XQLLHDgSIfldAXnEfaC1/V0AZmJFeWH9XQLhL2/qFgFdA6kzoAPiBV0Ac0jq79IVXQPsk2aRRhldA3pwtLaKHV0C1/BjdCIhXQH8Wc1HhildAI+cH51iMV0BTWxYxX41XQHtyTMQzj1dAU06TMiSQV0A4kvqQ75RXQIWwcvCRlVdADA9AGNKVV0DdZVnkwZZXQHQaV7CVmldAu6XpRDahV0Db06V1c6JXQCibA4FCpldAUeE/NDmnV0A879g6+qdXQPV1DJCHqldAW4iGuR2rV0AtmP+vHqxXQCK/YY2srFdAPN+Oq8CuV0DoSk433a9XQHrYsIxYtFdAZ3Bx+Ze0V0CJRSJl3LRXQJL6cOOTtldAqLntIaq2V0BtjcYI+LZXQLgQA/C8uFdAOAC4Kb26V0BL6iUmLLxXQNRZvLMmvldAYukvOXq/V0BtU0WybsBXQDQ72bmlwldAWQ6yHWbEV0DvjM4NfcpXQPeuJ2dVzFdAXQMlVe7MV0BrN5eYr81XQL3lFNnMzVdALJ2BymrOV0AXmXtjfc5XQKLkJHwm0VdAFTg3E8LSV0CUPQKAC9dXQB8vY3cv11dAzH/TUfjbV0D1Pp/r49xXQFMSBudB3VdAEauMMA/jV0BLowcOpeVXQNGfYdJN5ldAg618hWrmV0Ccx5sU6+ZXQFTX7NrC51dAaL2jHWfqV0CmdgRPx+pXQFS2Mhnu6ldAFWUN3K/tV0Ak7kceMfFXQOibdM+a8VdAvMrkt3X1V0A4ho/0xvpXQFI/ikEW+1dAElj46LX7V0AHmcEk1AJYQDhnh8vhAlhA4y+hyV8DWECZq1nSYwRYQJSiNj+zBFhAQF4xv3MIWEB/rsEhswhYQPnSZtLCCFhAEGugQrcKWEDqXBgnQg1YQLMIAzCWDlhAoo6W66cQWEApIOtl7hBYQMGn7AQMElhAUs3jeT0dWECCfYOQmB5YQE6Ocoe+HlhAZhl4S/geWEAVdJakJiBYQNzJSfZTIFhA0lpjo3IgWECDJxhcAyFYQMAGFjZLIVhA+3+oGfMhWEBORdNUtyRYQARHMXMQJVhATUjVTGYlWEDp9ZchtiZYQK8S9i3QJlhA+Pu8LVEoWEDQb20k7yhYQFvTPipLKVhA5JXT5nosWEBUaDetjS1YQDKcLl7OL1hArUTXS5k1WECNJ8rgSjZYQGZiuFh3NlhAJvlkdiY7WEDgwCG9WjxYQPj/jAvJP1hAJ4Tw+5BBWEC86D3jSERYQBkVr7MNRlhAEtR9kUtHWED9soVSl0dYQOS6PEs3SFhANrB3uaJKWEAwuq+p3kpYQDsOJcklS1hAXQmtFi5LWECthb7jo0tYQJOn5wMDTFhAZ3IOEjhMWEBIwXMCwE5YQItFBu3UTlhApnHgo6ZVWECXOvbRTlZYQMQ0xGdRWFhA4eg98UxaWEC1W9yAL1xYQOWYlmvmY1hAq7R+6PRoWEDmUG7MMGlYQNbiJgiFcVhA97DADLNzWEBKmGwhu3NYQFWk2cYmd1hAu4s69zJ5WECMG+f1s3pYQK9fLoG2fFhA/uJAW+F8WECwVB9DSX1YQLHAhgwef1hAjKDdg61/WEDuB/XvkYRYQM+v0AQZhlhAqVg1ET+GWEB9wxZnIYlYQMbgcmZpilhAlSsbcFiNWEBMfCiZG45YQEmdaGlNkVhAvk8HDXCTWEDhAt35ipRYQBKgCY+alVhA45RGtaqXWEDgk5NT2ZhYQPIuwENzmVhAR0A/GFKbWEC+LORD3ptYQHbZNS8xnVhAqBxXrtOdWEBD/+iwsZ5YQDNA8q38n1hAa3NXtyOhWEDEDuZQQKFYQCvGuKuYoVhASWcI3tahWEBhMorWL6NYQB1EI8FDo1hA6EFGsdKkWECae8FgG6lYQN5NmwOKqVhAUforNFGtWEAjxxi4s65YQASO8IW7rlhACeFFsLqwWEDBYibqh7FYQJ/jLi1ws1hAPKErJdW1WECHxaSvALhYQBXvMK5sulhAyrcLf+G6WED/+uDMq7xYQCY1z7kUv1hAlSeR3R3BWEAEF3oJKcJYQI5Rtcjqw1hA//fso+vEWEALhdZFNMhYQNu1yQB+yFhAbM6BKSXLWEBLzH84f85YQKmcxqvMz1hA/6zxEi3QWECyJkHP49JYQJZrXhLM2lhAzyDn9wTbWEDvViN9xNtYQLkMrInu21hAqrfppkndWECm3Qi+4N1YQHnl8Y+t3lhAtFdJESTgWEDmHYuteuBYQBoXMRYY4VhAaXcbkEnhWECzsaSufuFYQOTNbGOn5lhATYLJCJ/nWEBgBjpJcepYQDO0/9mo6lhAD55lEcbsWECucIQbVu1YQOqsgMaw7VhAj5yNNITwWECLTQ3EzvlYQDpreScX+lhAKnN1jc36WEDvy6VeD/5YQJ4Fb0Lm/1hAxdVqYnABWUAwkUyqzgRZQBDGFctYBVlAbRRDLq8FWUDc2uhApAlZQEreCuVnDllAQMyONFQPWUAI90EE6xJZQK2mCgbgFFlAPdbER3MVWUCZFqSYDxpZQLqVigpNGllAOd76lb4bWUC4LmQMNRxZQMWdNVZyH1lAFnlR9nUgWUDfwFfpyiBZQPKXkYvXIFlAJ4gknIchWUBnNufRiSFZQLwxEcciJllA/I4D7iAqWUBNbCb8LypZQGylT3RwLFlAjWUbiOIsWUAAz28nMjBZQJjac66zMVlAPSLheVkyWUBCh5EZIjhZQN+HBCKAOllAP/PjCJlEWUDsNuZ8lUhZQHtDm74WSllAejijlqNLWUAqKUuXY0xZQE5d8Le/UFlAFwC8ZMFQWUDeGLxzn1RZQGDar0J0VVlA19zRxKVYWUDeE2pSj15ZQDCh3wuVYllA8R2KvfNiWUDFMW4HBWpZQKpF+iT2bFlA3ZMxgKdtWUAFmm+3Zm9ZQOibwBF+cFlAkeDjRshxWUDyCHNzB3NZQNdp6uhleVlAYqlzVDV8WUAgbah1BIBZQK4CgSrqg1lABjgZU06GWUAVtk7qZ4ZZQAht2VqJiFlAzcIZtACJWUC4k9yqLIlZQOff0apgiVlA+4eo8cuLWUDtYQD8/o1ZQFl6BXOYj1lAEpa61y+SWUBdHDQ94ZRZQEalv54flllA8RbSf6aXWUDiasURMZhZQA9FlWHCmFlAdArzREeaWUBR9Lrdd5xZQMAcsqUInVlAKg2ATROgWUDcb64W86FZQPKX+cjIpFlAA6Ki53GmWUAq8i7k8aZZQJSyd+ndqllAuWmgLXGsWUBcADbYyaxZQEqgR9XWrVlAuZoN9o+yWUCAf82AjbRZQOfzBdZjtllAfCbG/ce3WUCL4Tnl4rdZQLWZ3ZM3u1lAmXMWhH++WUA/En01k8RZQG3JC7pgxllA+O5SHK/JWUB5y7swfspZQB1LPZ+x0FlAii4NrbXWWUD+2DImcddZQFUIpqhh2llAUpqJRRbbWUAphfIupeBZQOs/QGbJ4llAwXRsW2PjWUBx+Hn9NORZQEHAqRXj5FlAltOq6+TqWUDxxxlqgexZQPA+u7SJ7VlA5oKJ1srtWUCtiesHTe9ZQD+yvmYV8FlAC8KXADPyWUC3FtIrGflZQEnMzW85+1lARpxTkfP7WUD84jD15f5ZQPF+OJKA/1lAXXgnEM//WUDsior8dwBaQHyalacPD1pAzHrRWYITWkCvbEa2ABhaQM7HBuNFHlpAr08hMMQlWkAiIJAJGyZaQMamWSGZKlpARRhCWVYsWkA/bXC5ljFaQOtUPlk6MlpAneDTn0w1WkB9ob2RyjVaQJ7wILy3PVpAs0AoqiRCWkCmCYnlmEJaQMMCRWTfR1pAnJVWpQ9SWkBQFXdJAVVaQB0+j61gVVpAW6OrripXWkDN6S8mSVtaQNftoiKlY1pAM3U60V5yWkBBItpGh3NaQF91Al/yd1pA5+Ajq2t9WkBrWJJ+r4BaQHM45O9BhFpAluTJJdaNWkDy6SCFtI5aQMQlBHRaklpA/pt8BpSqWkCMSxePdLRaQAs4h+5JuVpA5uloYia6WkAPmH1dxMBaQAIQ/5LewVpAEMmGEw3DWkDmzv4N3MdaQPkKuIvWzVpAvHUDUmbOWkAQgm0r6NBaQEyk3gb10FpALV6Oa13aWkAmGSuZKdtaQKSrg19A3FpA7Kg2/fPmWkBFD3Fnh+haQIjV4Q0E6VpARwBSGe7pWkBbfPYZGO1aQP66ZXTI9FpAOp8C+6b1WkDhG6Ajbv1aQNPPSJz2/lpAa+G67IMBW0C5d8LWtAVbQOaIW3TdDFtAy+XhvjQUW0BT3pEVfBRbQNHOzZGaFltA8NDs288nW0AfYRV9AShbQLiFGGURMVtArkZpZ6o2W0CRTvCWBUNbQMn4ygJrS1tALIOfAEVPW0Dntu9Ewk9bQBSY3NpYU1tAEMA2G91UW0DSwk2hdlxbQI46oPRja1tAsqh2ROpzW0CNQp/dOIRbQN+jb5yxjVtAePF2BDKSW0CJagqqcpRbQL2mxMkVmltAYh5e4EKiW0BoBomEbKRbQDNbNd3or1tA8s0swpOzW0AMsA6warRbQA0piE7EtFtAk9C88N26W0DPFWiz78pbQP0ciw86zltA/nGuj+reW0DrAih2HeNbQCX4rdyd7FtAxEyzhsn0W0CJi7WDsPVbQGaDZsh/+1tAO2kQ9YUNXEAtNV8jsg5cQJ4pC3C1D1xAF/pCgOAQXECcBh9U4BFcQJ4HaUifElxA9UwwpQwaXECjr0IQWxtcQLLWnEXGHVxAyoJjJ34lXEAcC04pwyVcQJtb51SXK1xADKAWVcQxXEAErP8Q/jJcQGVpRURvRVxAJc+jFvFQXEBKegPAhmJcQPruzlrMbFxAEXLR8+BsXEA4ziMNsm5cQEgxwi4cglxA7BaWYSWcXECP9rUeFsJcQJJnB76bzlxAZJ5GObTUXEAUaD0yvdhcQOpPaEJn3lxAa3PbzYHgXECP0U+tROhcQE/23Sjc9lxAFlbReWD5XEAo/2RK5gVdQHm0JfIGEl1Achgh8wMTXUA8A+waRildQCaoS9XlP11A3MmkEKVAXUC8KD3wFUFdQKlSO/HcQ11AZKysxvBSXUA9HlfWM1NdQJYkmE6pYl1A4s/vrbFoXUBvKp+pUGldQGUH37xvbV1AVDo+HFdwXUBSjpIA8nxdQODltnArfV1AlMNB/gmMXUBvVI40l5BdQP+GsfpYqV1Ae6CBGUSrXUBwLP9t0rFdQETm2O0w1F1AxYZW9+QJXkAZkBEKxw5eQEe7sAk8GF5AkCEOIEUZXkBYXV0n3yVeQMgjjrKzJ15AZma6vLArXkDlZPoStVpeQF9+cBdNcl5AWOF9DM6JXkDqpKxTD7ReQBl+7w5G915A7BN2FBv4XkDm58ondRNfQLZWG6eYK19AlEEQNB+tX0Da4jb7UcZfQJsrI0gR1F9Aa6o7mC/yX0BBLCum7zVgQP0wrJE/P2BArdToiShCYEBxnPI6K1xgQHse/W4TcWBATn8R/RK7YEBIcaEq2eRgQA==",
          "dtype": "f8"
         },
         "xaxis": "x4",
         "y": {
          "bdata": "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",
          "dtype": "f8"
         },
         "yaxis": "y4"
        }
       ],
       "layout": {
        "annotations": [
         {
          "font": {
           "size": 16
          },
          "showarrow": false,
          "text": "NPV Distribution",
          "x": 0.225,
          "xanchor": "center",
          "xref": "paper",
          "y": 1,
          "yanchor": "bottom",
          "yref": "paper"
         },
         {
          "font": {
           "size": 16
          },
          "showarrow": false,
          "text": "LCOH Distribution",
          "x": 0.775,
          "xanchor": "center",
          "xref": "paper",
          "y": 1,
          "yanchor": "bottom",
          "yref": "paper"
         },
         {
          "font": {
           "size": 16
          },
          "showarrow": false,
          "text": "Gross Margin Distribution",
          "x": 0.225,
          "xanchor": "center",
          "xref": "paper",
          "y": 0.375,
          "yanchor": "bottom",
          "yref": "paper"
         },
         {
          "font": {
           "size": 16
          },
          "showarrow": false,
          "text": "NPV Probability",
          "x": 0.775,
          "xanchor": "center",
          "xref": "paper",
          "y": 0.375,
          "yanchor": "bottom",
          "yref": "paper"
         },
         {
          "showarrow": false,
          "text": "Base Case",
          "x": 5.2,
          "xanchor": "left",
          "xref": "x",
          "y": 1,
          "yanchor": "top",
          "yref": "y domain"
         },
         {
          "showarrow": false,
          "text": "Base Case",
          "x": 2.945777477569248,
          "xanchor": "left",
          "xref": "x2",
          "y": 1,
          "yanchor": "top",
          "yref": "y2 domain"
         },
         {
          "showarrow": false,
          "text": "Market Price",
          "x": 4,
          "xanchor": "left",
          "xref": "x2",
          "y": 1,
          "yanchor": "top",
          "yref": "y2 domain"
         },
         {
          "showarrow": false,
          "text": "Base Case",
          "x": 61.86691734878282,
          "xanchor": "left",
          "xref": "x3",
          "y": 1,
          "yanchor": "top",
          "yref": "y3 domain"
         },
         {
          "showarrow": false,
          "text": "Break Even",
          "x": 0,
          "xanchor": "left",
          "xref": "x4",
          "y": 1,
          "yanchor": "top",
          "yref": "y4 domain"
         }
        ],
        "height": 700,
        "shapes": [
         {
          "line": {
           "color": "red",
           "dash": "dash"
          },
          "type": "line",
          "x0": 5.2,
          "x1": 5.2,
          "xref": "x",
          "y0": 0,
          "y1": 1,
          "yref": "y domain"
         },
         {
          "line": {
           "color": "red",
           "dash": "dash"
          },
          "type": "line",
          "x0": 2.945777477569248,
          "x1": 2.945777477569248,
          "xref": "x2",
          "y0": 0,
          "y1": 1,
          "yref": "y2 domain"
         },
         {
          "line": {
           "color": "green",
           "dash": "dot"
          },
          "type": "line",
          "x0": 4,
          "x1": 4,
          "xref": "x2",
          "y0": 0,
          "y1": 1,
          "yref": "y2 domain"
         },
         {
          "line": {
           "color": "red",
           "dash": "dash"
          },
          "type": "line",
          "x0": 61.86691734878282,
          "x1": 61.86691734878282,
          "xref": "x3",
          "y0": 0,
          "y1": 1,
          "yref": "y3 domain"
         },
         {
          "line": {
           "color": "red",
           "dash": "dash"
          },
          "type": "line",
          "x0": 0,
          "x1": 0,
          "xref": "x4",
          "y0": 0,
          "y1": 1,
          "yref": "y4 domain"
         }
        ],
        "template": {
         "data": {
          "bar": [
           {
            "error_x": {
             "color": "#2a3f5f"
            },
            "error_y": {
             "color": "#2a3f5f"
            },
            "marker": {
             "line": {
              "color": "#E5ECF6",
              "width": 0.5
             },
             "pattern": {
              "fillmode": "overlay",
              "size": 10,
              "solidity": 0.2
             }
            },
            "type": "bar"
           }
          ],
          "barpolar": [
           {
            "marker": {
             "line": {
              "color": "#E5ECF6",
              "width": 0.5
             },
             "pattern": {
              "fillmode": "overlay",
              "size": 10,
              "solidity": 0.2
             }
            },
            "type": "barpolar"
           }
          ],
          "carpet": [
           {
            "aaxis": {
             "endlinecolor": "#2a3f5f",
             "gridcolor": "white",
             "linecolor": "white",
             "minorgridcolor": "white",
             "startlinecolor": "#2a3f5f"
            },
            "baxis": {
             "endlinecolor": "#2a3f5f",
             "gridcolor": "white",
             "linecolor": "white",
             "minorgridcolor": "white",
             "startlinecolor": "#2a3f5f"
            },
            "type": "carpet"
           }
          ],
          "choropleth": [
           {
            "colorbar": {
             "outlinewidth": 0,
             "ticks": ""
            },
            "type": "choropleth"
           }
          ],
          "contour": [
           {
            "colorbar": {
             "outlinewidth": 0,
             "ticks": ""
            },
            "colorscale": [
             [
              0,
              "#0d0887"
             ],
             [
              0.1111111111111111,
              "#46039f"
             ],
             [
              0.2222222222222222,
              "#7201a8"
             ],
             [
              0.3333333333333333,
              "#9c179e"
             ],
             [
              0.4444444444444444,
              "#bd3786"
             ],
             [
              0.5555555555555556,
              "#d8576b"
             ],
             [
              0.6666666666666666,
              "#ed7953"
             ],
             [
              0.7777777777777778,
              "#fb9f3a"
             ],
             [
              0.8888888888888888,
              "#fdca26"
             ],
             [
              1,
              "#f0f921"
             ]
            ],
            "type": "contour"
           }
          ],
          "contourcarpet": [
           {
            "colorbar": {
             "outlinewidth": 0,
             "ticks": ""
            },
            "type": "contourcarpet"
           }
          ],
          "heatmap": [
           {
            "colorbar": {
             "outlinewidth": 0,
             "ticks": ""
            },
            "colorscale": [
             [
              0,
              "#0d0887"
             ],
             [
              0.1111111111111111,
              "#46039f"
             ],
             [
              0.2222222222222222,
              "#7201a8"
             ],
             [
              0.3333333333333333,
              "#9c179e"
             ],
             [
              0.4444444444444444,
              "#bd3786"
             ],
             [
              0.5555555555555556,
              "#d8576b"
             ],
             [
              0.6666666666666666,
              "#ed7953"
             ],
             [
              0.7777777777777778,
              "#fb9f3a"
             ],
             [
              0.8888888888888888,
              "#fdca26"
             ],
             [
              1,
              "#f0f921"
             ]
            ],
            "type": "heatmap"
           }
          ],
          "histogram": [
           {
            "marker": {
             "pattern": {
              "fillmode": "overlay",
              "size": 10,
              "solidity": 0.2
             }
            },
            "type": "histogram"
           }
          ],
          "histogram2d": [
           {
            "colorbar": {
             "outlinewidth": 0,
             "ticks": ""
            },
            "colorscale": [
             [
              0,
              "#0d0887"
             ],
             [
              0.1111111111111111,
              "#46039f"
             ],
             [
              0.2222222222222222,
              "#7201a8"
             ],
             [
              0.3333333333333333,
              "#9c179e"
             ],
             [
              0.4444444444444444,
              "#bd3786"
             ],
             [
              0.5555555555555556,
              "#d8576b"
             ],
             [
              0.6666666666666666,
              "#ed7953"
             ],
             [
              0.7777777777777778,
              "#fb9f3a"
             ],
             [
              0.8888888888888888,
              "#fdca26"
             ],
             [
              1,
              "#f0f921"
             ]
            ],
            "type": "histogram2d"
           }
          ],
          "histogram2dcontour": [
           {
            "colorbar": {
             "outlinewidth": 0,
             "ticks": ""
            },
            "colorscale": [
             [
              0,
              "#0d0887"
             ],
             [
              0.1111111111111111,
              "#46039f"
             ],
             [
              0.2222222222222222,
              "#7201a8"
             ],
             [
              0.3333333333333333,
              "#9c179e"
             ],
             [
              0.4444444444444444,
              "#bd3786"
             ],
             [
              0.5555555555555556,
              "#d8576b"
             ],
             [
              0.6666666666666666,
              "#ed7953"
             ],
             [
              0.7777777777777778,
              "#fb9f3a"
             ],
             [
              0.8888888888888888,
              "#fdca26"
             ],
             [
              1,
              "#f0f921"
             ]
            ],
            "type": "histogram2dcontour"
           }
          ],
          "mesh3d": [
           {
            "colorbar": {
             "outlinewidth": 0,
             "ticks": ""
            },
            "type": "mesh3d"
           }
          ],
          "parcoords": [
           {
            "line": {
             "colorbar": {
              "outlinewidth": 0,
              "ticks": ""
             }
            },
            "type": "parcoords"
           }
          ],
          "pie": [
           {
            "automargin": true,
            "type": "pie"
           }
          ],
          "scatter": [
           {
            "fillpattern": {
             "fillmode": "overlay",
             "size": 10,
             "solidity": 0.2
            },
            "type": "scatter"
           }
          ],
          "scatter3d": [
           {
            "line": {
             "colorbar": {
              "outlinewidth": 0,
              "ticks": ""
             }
            },
            "marker": {
             "colorbar": {
              "outlinewidth": 0,
              "ticks": ""
             }
            },
            "type": "scatter3d"
           }
          ],
          "scattercarpet": [
           {
            "marker": {
             "colorbar": {
              "outlinewidth": 0,
              "ticks": ""
             }
            },
            "type": "scattercarpet"
           }
          ],
          "scattergeo": [
           {
            "marker": {
             "colorbar": {
              "outlinewidth": 0,
              "ticks": ""
             }
            },
            "type": "scattergeo"
           }
          ],
          "scattergl": [
           {
            "marker": {
             "colorbar": {
              "outlinewidth": 0,
              "ticks": ""
             }
            },
            "type": "scattergl"
           }
          ],
          "scattermap": [
           {
            "marker": {
             "colorbar": {
              "outlinewidth": 0,
              "ticks": ""
             }
            },
            "type": "scattermap"
           }
          ],
          "scattermapbox": [
           {
            "marker": {
             "colorbar": {
              "outlinewidth": 0,
              "ticks": ""
             }
            },
            "type": "scattermapbox"
           }
          ],
          "scatterpolar": [
           {
            "marker": {
             "colorbar": {
              "outlinewidth": 0,
              "ticks": ""
             }
            },
            "type": "scatterpolar"
           }
          ],
          "scatterpolargl": [
           {
            "marker": {
             "colorbar": {
              "outlinewidth": 0,
              "ticks": ""
             }
            },
            "type": "scatterpolargl"
           }
          ],
          "scatterternary": [
           {
            "marker": {
             "colorbar": {
              "outlinewidth": 0,
              "ticks": ""
             }
            },
            "type": "scatterternary"
           }
          ],
          "surface": [
           {
            "colorbar": {
             "outlinewidth": 0,
             "ticks": ""
            },
            "colorscale": [
             [
              0,
              "#0d0887"
             ],
             [
              0.1111111111111111,
              "#46039f"
             ],
             [
              0.2222222222222222,
              "#7201a8"
             ],
             [
              0.3333333333333333,
              "#9c179e"
             ],
             [
              0.4444444444444444,
              "#bd3786"
             ],
             [
              0.5555555555555556,
              "#d8576b"
             ],
             [
              0.6666666666666666,
              "#ed7953"
             ],
             [
              0.7777777777777778,
              "#fb9f3a"
             ],
             [
              0.8888888888888888,
              "#fdca26"
             ],
             [
              1,
              "#f0f921"
             ]
            ],
            "type": "surface"
           }
          ],
          "table": [
           {
            "cells": {
             "fill": {
              "color": "#EBF0F8"
             },
             "line": {
              "color": "white"
             }
            },
            "header": {
             "fill": {
              "color": "#C8D4E3"
             },
             "line": {
              "color": "white"
             }
            },
            "type": "table"
           }
          ]
         },
         "layout": {
          "annotationdefaults": {
           "arrowcolor": "#2a3f5f",
           "arrowhead": 0,
           "arrowwidth": 1
          },
          "autotypenumbers": "strict",
          "coloraxis": {
           "colorbar": {
            "outlinewidth": 0,
            "ticks": ""
           }
          },
          "colorscale": {
           "diverging": [
            [
             0,
             "#8e0152"
            ],
            [
             0.1,
             "#c51b7d"
            ],
            [
             0.2,
             "#de77ae"
            ],
            [
             0.3,
             "#f1b6da"
            ],
            [
             0.4,
             "#fde0ef"
            ],
            [
             0.5,
             "#f7f7f7"
            ],
            [
             0.6,
             "#e6f5d0"
            ],
            [
             0.7,
             "#b8e186"
            ],
            [
             0.8,
             "#7fbc41"
            ],
            [
             0.9,
             "#4d9221"
            ],
            [
             1,
             "#276419"
            ]
           ],
           "sequential": [
            [
             0,
             "#0d0887"
            ],
            [
             0.1111111111111111,
             "#46039f"
            ],
            [
             0.2222222222222222,
             "#7201a8"
            ],
            [
             0.3333333333333333,
             "#9c179e"
            ],
            [
             0.4444444444444444,
             "#bd3786"
            ],
            [
             0.5555555555555556,
             "#d8576b"
            ],
            [
             0.6666666666666666,
             "#ed7953"
            ],
            [
             0.7777777777777778,
             "#fb9f3a"
            ],
            [
             0.8888888888888888,
             "#fdca26"
            ],
            [
             1,
             "#f0f921"
            ]
           ],
           "sequentialminus": [
            [
             0,
             "#0d0887"
            ],
            [
             0.1111111111111111,
             "#46039f"
            ],
            [
             0.2222222222222222,
             "#7201a8"
            ],
            [
             0.3333333333333333,
             "#9c179e"
            ],
            [
             0.4444444444444444,
             "#bd3786"
            ],
            [
             0.5555555555555556,
             "#d8576b"
            ],
            [
             0.6666666666666666,
             "#ed7953"
            ],
            [
             0.7777777777777778,
             "#fb9f3a"
            ],
            [
             0.8888888888888888,
             "#fdca26"
            ],
            [
             1,
             "#f0f921"
            ]
           ]
          },
          "colorway": [
           "#636efa",
           "#EF553B",
           "#00cc96",
           "#ab63fa",
           "#FFA15A",
           "#19d3f3",
           "#FF6692",
           "#B6E880",
           "#FF97FF",
           "#FECB52"
          ],
          "font": {
           "color": "#2a3f5f"
          },
          "geo": {
           "bgcolor": "white",
           "lakecolor": "white",
           "landcolor": "#E5ECF6",
           "showlakes": true,
           "showland": true,
           "subunitcolor": "white"
          },
          "hoverlabel": {
           "align": "left"
          },
          "hovermode": "closest",
          "mapbox": {
           "style": "light"
          },
          "paper_bgcolor": "white",
          "plot_bgcolor": "#E5ECF6",
          "polar": {
           "angularaxis": {
            "gridcolor": "white",
            "linecolor": "white",
            "ticks": ""
           },
           "bgcolor": "#E5ECF6",
           "radialaxis": {
            "gridcolor": "white",
            "linecolor": "white",
            "ticks": ""
           }
          },
          "scene": {
           "xaxis": {
            "backgroundcolor": "#E5ECF6",
            "gridcolor": "white",
            "gridwidth": 2,
            "linecolor": "white",
            "showbackground": true,
            "ticks": "",
            "zerolinecolor": "white"
           },
           "yaxis": {
            "backgroundcolor": "#E5ECF6",
            "gridcolor": "white",
            "gridwidth": 2,
            "linecolor": "white",
            "showbackground": true,
            "ticks": "",
            "zerolinecolor": "white"
           },
           "zaxis": {
            "backgroundcolor": "#E5ECF6",
            "gridcolor": "white",
            "gridwidth": 2,
            "linecolor": "white",
            "showbackground": true,
            "ticks": "",
            "zerolinecolor": "white"
           }
          },
          "shapedefaults": {
           "line": {
            "color": "#2a3f5f"
           }
          },
          "ternary": {
           "aaxis": {
            "gridcolor": "white",
            "linecolor": "white",
            "ticks": ""
           },
           "baxis": {
            "gridcolor": "white",
            "linecolor": "white",
            "ticks": ""
           },
           "bgcolor": "#E5ECF6",
           "caxis": {
            "gridcolor": "white",
            "linecolor": "white",
            "ticks": ""
           }
          },
          "title": {
           "x": 0.05
          },
          "xaxis": {
           "automargin": true,
           "gridcolor": "white",
           "linecolor": "white",
           "ticks": "",
           "title": {
            "standoff": 15
           },
           "zerolinecolor": "white",
           "zerolinewidth": 2
          },
          "yaxis": {
           "automargin": true,
           "gridcolor": "white",
           "linecolor": "white",
           "ticks": "",
           "title": {
            "standoff": 15
           },
           "zerolinecolor": "white",
           "zerolinewidth": 2
          }
         }
        },
        "title": {
         "text": "Monte Carlo Uncertainty Analysis"
        },
        "xaxis": {
         "anchor": "y",
         "domain": [
          0,
          0.45
         ],
         "title": {
          "text": "NPV ($ millions)"
         }
        },
        "xaxis2": {
         "anchor": "y2",
         "domain": [
          0.55,
          1
         ],
         "title": {
          "text": "LCOH ($/kg H₂)"
         }
        },
        "xaxis3": {
         "anchor": "y3",
         "domain": [
          0,
          0.45
         ],
         "title": {
          "text": "Gross Margin (%)"
         }
        },
        "xaxis4": {
         "anchor": "y4",
         "domain": [
          0.55,
          1
         ],
         "title": {
          "text": "NPV ($ millions)"
         }
        },
        "yaxis": {
         "anchor": "x",
         "domain": [
          0.625,
          1
         ],
         "title": {
          "text": "Frequency"
         }
        },
        "yaxis2": {
         "anchor": "x2",
         "domain": [
          0.625,
          1
         ],
         "title": {
          "text": "Frequency"
         }
        },
        "yaxis3": {
         "anchor": "x3",
         "domain": [
          0,
          0.375
         ],
         "title": {
          "text": "Frequency"
         }
        },
        "yaxis4": {
         "anchor": "x4",
         "domain": [
          0,
          0.375
         ],
         "title": {
          "text": "Cumulative Probability (%)"
         }
        }
       }
      }
     },
     "metadata": {},
     "output_type": "display_data"
    },
    {
     "name": "stdout",
     "output_type": "stream",
     "text": [
      "\n",
      "📈 Percentile Analysis:\n",
      "\n",
      "NPV ($ millions):\n",
      "    5th percentile: $  36.1M\n",
      "\n",
      "LCOH ($/kg H₂):\n",
      "   10th percentile: $  42.7M\n",
      "\n",
      "LCOH ($/kg H₂):\n",
      "   25th percentile: $  55.4M\n",
      "\n",
      "LCOH ($/kg H₂):\n",
      "   50th percentile: $  68.9M\n",
      "\n",
      "LCOH ($/kg H₂):\n",
      "   75th percentile: $  82.7M\n",
      "\n",
      "LCOH ($/kg H₂):\n",
      "   90th percentile: $  94.3M\n",
      "\n",
      "LCOH ($/kg H₂):\n",
      "   95th percentile: $ 101.4M\n",
      "\n",
      "LCOH ($/kg H₂):\n",
      "    5th percentile: $-0.60\n",
      "\n",
      "🎯 Risk Assessment:\n",
      "   • 99.9% probability of positive NPV\n",
      "   • 100.0% probability LCOH below market price\n",
      "   • 100.0% probability of healthy margin (>20%)\n",
      "   10th percentile: $-0.33\n",
      "\n",
      "🎯 Risk Assessment:\n",
      "   • 99.9% probability of positive NPV\n",
      "   • 100.0% probability LCOH below market price\n",
      "   • 100.0% probability of healthy margin (>20%)\n",
      "   25th percentile: $ 0.18\n",
      "\n",
      "🎯 Risk Assessment:\n",
      "   • 99.9% probability of positive NPV\n",
      "   • 100.0% probability LCOH below market price\n",
      "   • 100.0% probability of healthy margin (>20%)\n",
      "   50th percentile: $ 0.75\n",
      "\n",
      "🎯 Risk Assessment:\n",
      "   • 99.9% probability of positive NPV\n",
      "   • 100.0% probability LCOH below market price\n",
      "   • 100.0% probability of healthy margin (>20%)\n",
      "   75th percentile: $ 1.28\n",
      "\n",
      "🎯 Risk Assessment:\n",
      "   • 99.9% probability of positive NPV\n",
      "   • 100.0% probability LCOH below market price\n",
      "   • 100.0% probability of healthy margin (>20%)\n",
      "   90th percentile: $ 1.79\n",
      "\n",
      "🎯 Risk Assessment:\n",
      "   • 99.9% probability of positive NPV\n",
      "   • 100.0% probability LCOH below market price\n",
      "   • 100.0% probability of healthy margin (>20%)\n",
      "   95th percentile: $ 2.07\n",
      "\n",
      "🎯 Risk Assessment:\n",
      "   • 99.9% probability of positive NPV\n",
      "   • 100.0% probability LCOH below market price\n",
      "   • 100.0% probability of healthy margin (>20%)\n",
      "\n",
      "   ✅ Project shows STRONG robustness to uncertainty\n"
     ]
    }
   ],
   "source": [
    "# Monte Carlo simulation for uncertainty analysis\n",
    "np.random.seed(42)\n",
    "n_simulations = 5000\n",
    "\n",
    "print(\"Running Monte Carlo simulation with 5,000 iterations...\")\n",
    "print(\"This quantifies project risk by sampling from parameter distributions\\n\")\n",
    "\n",
    "# Storage for results\n",
    "npv_results = []\n",
    "irr_results = []\n",
    "lcoh_results = []\n",
    "margin_results = []\n",
    "\n",
    "for i in range(n_simulations):\n",
    "    # Sample parameters from distributions\n",
    "    # Using normal distribution with std = (high - low) / 6 (capturing 99.7% within range)\n",
    "    \n",
    "    elec_price_sim = np.random.normal(\n",
    "        electricity_price, \n",
    "        (sensitivity_ranges[sensitivity_ranges['parameter'] == 'electricity_price']['high_value'].values[0] - \n",
    "         sensitivity_ranges[sensitivity_ranges['parameter'] == 'electricity_price']['low_value'].values[0]) / 6)\n",
    "    \n",
    "    elec_price_sim = max(0.03, min(0.15, elec_price_sim))  # Bound to reasonable range\n",
    "\n",
    "    h2_price_sim = np.random.normal(\n",
    "        h2_price,\n",
    "        (5.0 - 2.0) / 6\n",
    "    )\n",
    "    h2_price_sim = max(1.5, min(6.0, h2_price_sim))\n",
    "\n",
    "    cb_price_sim = np.random.normal(\n",
    "        cb_price,\n",
    "        (3.0 - 1.0) / 6\n",
    "    )\n",
    "    cb_price_sim = max(0.5, min(3.5, cb_price_sim))\n",
    "\n",
    "    rng_price_sim = np.random.normal(\n",
    "        rng_price,\n",
    "        (0.25 - 0.10) / 6\n",
    "    )\n",
    "    rng_price_sim = max(0, min(0.30, rng_price_sim))\n",
    "\n",
    "    capex_sim = np.random.normal(\n",
    "        capex,\n",
    "        (capex * 0.2) / 3  # ±20% range\n",
    "    )\n",
    "    capex_sim = max(capex * 0.7, min(capex * 1.3, capex_sim))\n",
    "\n",
    "    capacity_factor_sim = np.random.normal(\n",
    "        capacity_factor,\n",
    "        (0.95 - 0.85) / 6\n",
    "    )\n",
    "    capacity_factor_sim = max(0.80, min(0.98, capacity_factor_sim))\n",
    "\n",
    "    # Recalculate metrics with sampled parameters\n",
    "    h2_annual_sim = h2_rate * 365 * 24 * capacity_factor_sim\n",
    "    cb_annual_sim = cb_rate * 365 * 24 * capacity_factor_sim\n",
    "\n",
    "    # Revenue\n",
    "    h2_revenue_sim = h2_annual_sim * h2_price_sim\n",
    "    cb_revenue_sim = cb_annual_sim * cb_price_sim\n",
    "    total_revenue_sim = h2_revenue_sim + cb_revenue_sim\n",
    "\n",
    "    # Costs\n",
    "    rng_annual_consumption = 1923 * annual_operating_days * 24\n",
    "    rng_cost_sim = rng_annual_consumption * rng_price_sim\n",
    "    elec_cost_sim = h2_annual_sim * energy_per_h2 * elec_price_sim\n",
    "    variable_costs_sim = rng_cost_sim + elec_cost_sim + cooling_water_cost + process_water_cost\n",
    "\n",
    "    # Margin\n",
    "    margin_sim = total_revenue_sim - variable_costs_sim\n",
    "    margin_pct_sim = margin_sim / total_revenue_sim * 100\n",
    "\n",
    "    # LCOH (simplified)\n",
    "    total_annual_cost_sim = (capex_sim * ((discount_rate * (1+discount_rate)**plant_lifetime) / \n",
    "                                          ((1+discount_rate)**plant_lifetime - 1))) + variable_costs_sim\n",
    "    lcoh_sim = (total_annual_cost_sim - cb_revenue_sim) / h2_annual_sim\n",
    "\n",
    "    # NPV (simplified)\n",
    "    annual_cf = margin_sim\n",
    "    annuity_factor = (1 - (1 + discount_rate)**(-plant_lifetime)) / discount_rate\n",
    "    npv_sim = -capex_sim + annual_cf * annuity_factor\n",
    "\n",
    "    # IRR (approximation)\n",
    "    if annual_cf > 0:\n",
    "        irr_sim = (annual_cf / capex_sim) * 100\n",
    "    else:\n",
    "        irr_sim = -100\n",
    "\n",
    "    npv_results.append(npv_sim)\n",
    "    irr_results.append(irr_sim)\n",
    "    lcoh_results.append(lcoh_sim)\n",
    "    margin_results.append(margin_pct_sim)\n",
    "\n",
    "# convert to arrays\n",
    "\n",
    "npv_results = np.array(npv_results)\n",
    "irr_results = np.array(irr_results)\n",
    "lcoh_results = np.array(lcoh_results)\n",
    "margin_results = np.array(margin_results)\n",
    "\n",
    "print(\"=\"*80)\n",
    "print(\"MONTE CARLO UNCERTAINTY ANALYSIS RESULTS (5,000 iterations)\")\n",
    "print(\"=\"*80)\n",
    "print(f\"\\n💰 NET PRESENT VALUE:\")\n",
    "print(f\"   Mean:              ${np.mean(npv_results)/1e6:>8.2f} million\")\n",
    "print(f\"   Median:            ${np.median(npv_results)/1e6:>8.2f} million\")\n",
    "print(f\"   Std Deviation:     ${np.std(npv_results)/1e6:>8.2f} million\")\n",
    "print(f\"   5th Percentile:    ${np.percentile(npv_results, 5)/1e6:>8.2f} million\")\n",
    "print(f\"   95th Percentile:   ${np.percentile(npv_results, 95)/1e6:>8.2f} million\")\n",
    "print(f\"   Probability NPV>0: {(npv_results > 0).sum() / len(npv_results) * 100:>7.1f}%\")\n",
    "print(f\"\\n💵 LEVELIZED COST OF HYDROGEN:\")\n",
    "print(f\"   Mean:              ${np.mean(lcoh_results):>8.2f}/kg\")\n",
    "print(f\"   Median:            ${np.median(lcoh_results):>8.2f}/kg\")\n",
    "print(f\"   Std Deviation:     ${np.std(lcoh_results):>8.2f}/kg\")\n",
    "print(f\"   5th Percentile:    ${np.percentile(lcoh_results, 5):>8.2f}/kg\")\n",
    "print(f\"   95th Percentile:   ${np.percentile(lcoh_results, 95):>8.2f}/kg\")\n",
    "print(f\"   Probability LCOH<$3.18: {(lcoh_results < h2_price).sum() / len(lcoh_results) * 100:>4.1f}%\")\n",
    "print(f\"\\n📊 GROSS MARGIN:\")\n",
    "print(f\"   Mean:              {np.mean(margin_results):>8.1f}%\")\n",
    "print(f\"   Median:            {np.median(margin_results):>8.1f}%\")\n",
    "print(f\"   5th Percentile:    {np.percentile(margin_results, 5):>8.1f}%\")\n",
    "print(f\"   95th Percentile:   {np.percentile(margin_results, 95):>8.1f}%\")\n",
    "print(f\"   Probability Margin>20%: {(margin_results > 20).sum() / len(margin_results) * 100:>4.1f}%\")\n",
    "\n",
    "#visualize distributions\n",
    "fig = make_subplots(\n",
    "rows=2, cols=2,\n",
    "subplot_titles=('NPV Distribution', 'LCOH Distribution',\n",
    "'Gross Margin Distribution', 'NPV Probability'),\n",
    "specs=[[{'type': 'histogram'}, {'type': 'histogram'}],\n",
    "[{'type': 'histogram'}, {'type': 'scatter'}]]\n",
    ")\n",
    "\n",
    "#npv histogram\n",
    "fig.add_trace(\n",
    "go.Histogram(x=npv_results/1e6, name='NPV', marker_color='#3498db',\n",
    "nbinsx=50, showlegend=False),\n",
    "row=1, col=1\n",
    ")\n",
    "fig.add_vline(x=npv/1e6, line_dash=\"dash\", line_color=\"red\",\n",
    "annotation_text=\"Base Case\", row=1, col=1)\n",
    "\n",
    "#lcoh histogram\n",
    "fig.add_trace(\n",
    "go.Histogram(x=lcoh_results, name='LCOH', marker_color='#2ecc71',\n",
    "nbinsx=50, showlegend=False),\n",
    "row=1, col=2\n",
    ")\n",
    "fig.add_vline(x=lcoh, line_dash=\"dash\", line_color=\"red\",\n",
    "annotation_text=\"Base Case\", row=1, col=2)\n",
    "fig.add_vline(x=h2_price, line_dash=\"dot\", line_color=\"green\",\n",
    "annotation_text=\"Market Price\", row=1, col=2)\n",
    "\n",
    "#margin histogram\n",
    "fig.add_trace(\n",
    "go.Histogram(x=margin_results, name='Margin', marker_color='#e74c3c',\n",
    "nbinsx=50, showlegend=False),\n",
    "row=2, col=1\n",
    ")\n",
    "fig.add_vline(x=gross_margin/total_revenue*100, line_dash=\"dash\", line_color=\"red\",\n",
    "annotation_text=\"Base Case\", row=2, col=1)\n",
    "\n",
    "#npv cumulative probability\n",
    "sorted_npv = np.sort(npv_results)\n",
    "cumulative_prob = np.arange(1, len(sorted_npv) + 1) / len(sorted_npv) * 100\n",
    "fig.add_trace(\n",
    "go.Scatter(x=sorted_npv/1e6, y=cumulative_prob,\n",
    "mode='lines', line=dict(width=3, color='#9b59b6'),\n",
    "showlegend=False),\n",
    "row=2, col=2\n",
    ")\n",
    "fig.add_vline(x=0, line_dash=\"dash\", line_color=\"red\",\n",
    "annotation_text=\"Break Even\", row=2, col=2)\n",
    "fig.update_xaxes(title_text=\"NPV ($ millions)\", row=1, col=1)\n",
    "fig.update_xaxes(title_text=\"LCOH ($/kg H₂)\", row=1, col=2)\n",
    "fig.update_xaxes(title_text=\"Gross Margin (%)\", row=2, col=1)\n",
    "fig.update_xaxes(title_text=\"NPV ($ millions)\", row=2, col=2)\n",
    "fig.update_yaxes(title_text=\"Frequency\", row=1, col=1)\n",
    "fig.update_yaxes(title_text=\"Frequency\", row=1, col=2)\n",
    "fig.update_yaxes(title_text=\"Frequency\", row=2, col=1)\n",
    "fig.update_yaxes(title_text=\"Cumulative Probability (%)\", row=2, col=2)\n",
    "fig.update_layout(height=700, title_text=\"Monte Carlo Uncertainty Analysis\")\n",
    "fig.show()\n",
    "\n",
    "#percentile analysis\n",
    "percentiles = [5, 10, 25, 50, 75, 90, 95]\n",
    "print(\"\\n📈 Percentile Analysis:\")\n",
    "print(\"\\nNPV ($ millions):\")\n",
    "for p in percentiles:\n",
    "    print(f\"   {p:>2}th percentile: ${np.percentile(npv_results, p)/1e6:>6.1f}M\")\n",
    "    print(\"\\nLCOH ($/kg H₂):\")\n",
    "for p in percentiles:\n",
    "    print(f\"   {p:>2}th percentile: ${np.percentile(lcoh_results, p):>5.2f}\")\n",
    "    print(f\"\\n🎯 Risk Assessment:\")\n",
    "    print(f\"   • {(npv_results > 0).sum() / len(npv_results) * 100:.1f}% probability of positive NPV\")\n",
    "    print(f\"   • {(lcoh_results < h2_price).sum() / len(lcoh_results) * 100:.1f}% probability LCOH below market price\")\n",
    "    print(f\"   • {(margin_results > 20).sum() / len(margin_results) * 100:.1f}% probability of healthy margin (>20%)\")\n",
    "if (npv_results > 0).sum() / len(npv_results) > 0.7:\n",
    "    print(f\"\\n   ✅ Project shows STRONG robustness to uncertainty\")\n",
    "elif (npv_results > 0).sum() / len(npv_results) > 0.5:\n",
    "    print(f\"\\n   ⚠️ Project shows MODERATE robustness to uncertainty\")\n",
    "else:\n",
    "    print(f\"\\n   ❌ Project shows HIGH risk under uncertainty\")"
   ]
  },
  {
   "cell_type": "markdown",
   "id": "100f290d",
   "metadata": {},
   "source": [
    "## Geographic Deployment Strategy\n",
    "\n",
    "The economics of this process vary significantly by region based on electricity costs and hydrogen demand. Let's analyze optimal deployment locations."
   ]
  },
  {
   "cell_type": "code",
   "execution_count": 1595,
   "id": "0670c8fd",
   "metadata": {},
   "outputs": [
    {
     "data": {
      "text/html": [
       "<style type=\"text/css\">\n",
       "#T_b4c21_row0_col6 {\n",
       "  background-color: #006837;\n",
       "  color: #f1f1f1;\n",
       "}\n",
       "#T_b4c21_row1_col6 {\n",
       "  background-color: #128a49;\n",
       "  color: #f1f1f1;\n",
       "}\n",
       "#T_b4c21_row2_col6 {\n",
       "  background-color: #219c52;\n",
       "  color: #f1f1f1;\n",
       "}\n",
       "#T_b4c21_row3_col6 {\n",
       "  background-color: #a50026;\n",
       "  color: #f1f1f1;\n",
       "}\n",
       "#T_b4c21_row4_col6 {\n",
       "  background-color: #fcaa5f;\n",
       "  color: #000000;\n",
       "}\n",
       "#T_b4c21_row5_col6 {\n",
       "  background-color: #a2d76a;\n",
       "  color: #000000;\n",
       "}\n",
       "</style>\n",
       "<table id=\"T_b4c21\">\n",
       "  <thead>\n",
       "    <tr>\n",
       "      <th class=\"blank level0\" >&nbsp;</th>\n",
       "      <th id=\"T_b4c21_level0_col0\" class=\"col_heading level0 col0\" >Region</th>\n",
       "      <th id=\"T_b4c21_level0_col1\" class=\"col_heading level0 col1\" >Electricity Price ($/kWh)</th>\n",
       "      <th id=\"T_b4c21_level0_col2\" class=\"col_heading level0 col2\" >H₂ Demand Level</th>\n",
       "      <th id=\"T_b4c21_level0_col3\" class=\"col_heading level0 col3\" >Renewable Availability</th>\n",
       "      <th id=\"T_b4c21_level0_col4\" class=\"col_heading level0 col4\" >Key Industries</th>\n",
       "      <th id=\"T_b4c21_level0_col5\" class=\"col_heading level0 col5\" >LCOH ($/kg)</th>\n",
       "      <th id=\"T_b4c21_level0_col6\" class=\"col_heading level0 col6\" >NPV ($M)</th>\n",
       "      <th id=\"T_b4c21_level0_col7\" class=\"col_heading level0 col7\" >NPV_for_size</th>\n",
       "      <th id=\"T_b4c21_level0_col8\" class=\"col_heading level0 col8\" >Economic Rank</th>\n",
       "    </tr>\n",
       "  </thead>\n",
       "  <tbody>\n",
       "    <tr>\n",
       "      <th id=\"T_b4c21_level0_row0\" class=\"row_heading level0 row0\" >0</th>\n",
       "      <td id=\"T_b4c21_row0_col0\" class=\"data row0 col0\" >West Texas</td>\n",
       "      <td id=\"T_b4c21_row0_col1\" class=\"data row0 col1\" >0.045</td>\n",
       "      <td id=\"T_b4c21_row0_col2\" class=\"data row0 col2\" >Medium</td>\n",
       "      <td id=\"T_b4c21_row0_col3\" class=\"data row0 col3\" >Excellent (Wind)</td>\n",
       "      <td id=\"T_b4c21_row0_col4\" class=\"data row0 col4\" >Refining, Chemicals</td>\n",
       "      <td id=\"T_b4c21_row0_col5\" class=\"data row0 col5\" >2.21</td>\n",
       "      <td id=\"T_b4c21_row0_col6\" class=\"data row0 col6\" >19.5</td>\n",
       "      <td id=\"T_b4c21_row0_col7\" class=\"data row0 col7\" >97.395976</td>\n",
       "      <td id=\"T_b4c21_row0_col8\" class=\"data row0 col8\" >1</td>\n",
       "    </tr>\n",
       "    <tr>\n",
       "      <th id=\"T_b4c21_level0_row1\" class=\"row_heading level0 row1\" >1</th>\n",
       "      <td id=\"T_b4c21_row1_col0\" class=\"data row1 col0\" >Midwest (IA/MN)</td>\n",
       "      <td id=\"T_b4c21_row1_col1\" class=\"data row1 col1\" >0.055</td>\n",
       "      <td id=\"T_b4c21_row1_col2\" class=\"data row1 col2\" >Low</td>\n",
       "      <td id=\"T_b4c21_row1_col3\" class=\"data row1 col3\" >Excellent (Wind)</td>\n",
       "      <td id=\"T_b4c21_row1_col4\" class=\"data row1 col4\" >Agriculture, Food</td>\n",
       "      <td id=\"T_b4c21_row1_col5\" class=\"data row1 col5\" >2.58</td>\n",
       "      <td id=\"T_b4c21_row1_col6\" class=\"data row1 col6\" >12.3</td>\n",
       "      <td id=\"T_b4c21_row1_col7\" class=\"data row1 col7\" >90.255533</td>\n",
       "      <td id=\"T_b4c21_row1_col8\" class=\"data row1 col8\" >2</td>\n",
       "    </tr>\n",
       "    <tr>\n",
       "      <th id=\"T_b4c21_level0_row2\" class=\"row_heading level0 row2\" >2</th>\n",
       "      <td id=\"T_b4c21_row2_col0\" class=\"data row2 col0\" >Pacific Northwest</td>\n",
       "      <td id=\"T_b4c21_row2_col1\" class=\"data row2 col1\" >0.060</td>\n",
       "      <td id=\"T_b4c21_row2_col2\" class=\"data row2 col2\" >Medium</td>\n",
       "      <td id=\"T_b4c21_row2_col3\" class=\"data row2 col3\" >Excellent (Hydro)</td>\n",
       "      <td id=\"T_b4c21_row2_col4\" class=\"data row2 col4\" >Aerospace, Tech</td>\n",
       "      <td id=\"T_b4c21_row2_col5\" class=\"data row2 col5\" >2.76</td>\n",
       "      <td id=\"T_b4c21_row2_col6\" class=\"data row2 col6\" >8.8</td>\n",
       "      <td id=\"T_b4c21_row2_col7\" class=\"data row2 col7\" >86.685312</td>\n",
       "      <td id=\"T_b4c21_row2_col8\" class=\"data row2 col8\" >3</td>\n",
       "    </tr>\n",
       "    <tr>\n",
       "      <th id=\"T_b4c21_level0_row3\" class=\"row_heading level0 row3\" >3</th>\n",
       "      <td id=\"T_b4c21_row3_col0\" class=\"data row3 col0\" >California</td>\n",
       "      <td id=\"T_b4c21_row3_col1\" class=\"data row3 col1\" >0.180</td>\n",
       "      <td id=\"T_b4c21_row3_col2\" class=\"data row3 col2\" >High</td>\n",
       "      <td id=\"T_b4c21_row3_col3\" class=\"data row3 col3\" >Good (Solar)</td>\n",
       "      <td id=\"T_b4c21_row3_col4\" class=\"data row3 col4\" >Refining, Transport</td>\n",
       "      <td id=\"T_b4c21_row3_col5\" class=\"data row3 col5\" >7.18</td>\n",
       "      <td id=\"T_b4c21_row3_col6\" class=\"data row3 col6\" >-76.9</td>\n",
       "      <td id=\"T_b4c21_row3_col7\" class=\"data row3 col7\" >1.000000</td>\n",
       "      <td id=\"T_b4c21_row3_col8\" class=\"data row3 col8\" >6</td>\n",
       "    </tr>\n",
       "    <tr>\n",
       "      <th id=\"T_b4c21_level0_row4\" class=\"row_heading level0 row4\" >4</th>\n",
       "      <td id=\"T_b4c21_row4_col0\" class=\"data row4 col0\" >Northeast</td>\n",
       "      <td id=\"T_b4c21_row4_col1\" class=\"data row4 col1\" >0.140</td>\n",
       "      <td id=\"T_b4c21_row4_col2\" class=\"data row4 col2\" >High</td>\n",
       "      <td id=\"T_b4c21_row4_col3\" class=\"data row4 col3\" >Moderate</td>\n",
       "      <td id=\"T_b4c21_row4_col4\" class=\"data row4 col4\" >Manufacturing</td>\n",
       "      <td id=\"T_b4c21_row4_col5\" class=\"data row4 col5\" >5.71</td>\n",
       "      <td id=\"T_b4c21_row4_col6\" class=\"data row4 col6\" >-48.4</td>\n",
       "      <td id=\"T_b4c21_row4_col7\" class=\"data row4 col7\" >29.561771</td>\n",
       "      <td id=\"T_b4c21_row4_col8\" class=\"data row4 col8\" >5</td>\n",
       "    </tr>\n",
       "    <tr>\n",
       "      <th id=\"T_b4c21_level0_row5\" class=\"row_heading level0 row5\" >5</th>\n",
       "      <td id=\"T_b4c21_row5_col0\" class=\"data row5 col0\" >Southeast</td>\n",
       "      <td id=\"T_b4c21_row5_col1\" class=\"data row5 col1\" >0.085</td>\n",
       "      <td id=\"T_b4c21_row5_col2\" class=\"data row5 col2\" >Medium</td>\n",
       "      <td id=\"T_b4c21_row5_col3\" class=\"data row5 col3\" >Moderate</td>\n",
       "      <td id=\"T_b4c21_row5_col4\" class=\"data row5 col4\" >Chemicals, Aerospace</td>\n",
       "      <td id=\"T_b4c21_row5_col5\" class=\"data row5 col5\" >3.68</td>\n",
       "      <td id=\"T_b4c21_row5_col6\" class=\"data row5 col6\" >-9.1</td>\n",
       "      <td id=\"T_b4c21_row5_col7\" class=\"data row5 col7\" >68.834205</td>\n",
       "      <td id=\"T_b4c21_row5_col8\" class=\"data row5 col8\" >4</td>\n",
       "    </tr>\n",
       "  </tbody>\n",
       "</table>\n"
      ],
      "text/plain": [
       "<pandas.io.formats.style.Styler at 0x2574890d750>"
      ]
     },
     "metadata": {},
     "output_type": "display_data"
    },
    {
     "data": {
      "application/vnd.plotly.v1+json": {
       "config": {
        "plotlyServerURL": "https://plot.ly"
       },
       "data": [
        {
         "customdata": {
          "bdata": "F9hQTBt7M0A9BmKqV1lYQEoLhH9OrihAoFE+p1qQVkA=",
          "dtype": "f8",
          "shape": "2, 2"
         },
         "hovertemplate": "Renewable Availability=Excellent (Wind)<br>Electricity Price ($/kWh)=%{x}<br>Levelized Cost of Hydrogen ($/kg)=%{y}<br>Region=%{text}<br>NPV ($M)=%{customdata[0]:.1f}<extra></extra>",
         "legendgroup": "Excellent (Wind)",
         "marker": {
          "color": "#636efa",
          "size": {
           "bdata": "PQZiqldZWECgUT6nWpBWQA==",
           "dtype": "f8"
          },
          "sizemode": "area",
          "sizeref": 0.06087248480065281,
          "symbol": "circle"
         },
         "mode": "markers+text",
         "name": "Excellent (Wind)",
         "orientation": "v",
         "showlegend": true,
         "text": [
          "West Texas",
          "Midwest (IA/MN)"
         ],
         "textposition": "top center",
         "type": "scatter",
         "x": {
          "bdata": "CtejcD0Kpz8pXI/C9SisPw==",
          "dtype": "f8"
         },
         "xaxis": "x",
         "y": {
          "bdata": "Qcds0J+tAUDNM1TMSZ8EQA==",
          "dtype": "f8"
         },
         "yaxis": "y"
        },
        {
         "customdata": {
          "bdata": "2Tj1clqKIUBSd6wl3KtVQA==",
          "dtype": "f8",
          "shape": "1, 2"
         },
         "hovertemplate": "Renewable Availability=Excellent (Hydro)<br>Electricity Price ($/kWh)=%{x}<br>Levelized Cost of Hydrogen ($/kg)=%{y}<br>Region=%{text}<br>NPV ($M)=%{customdata[0]:.1f}<extra></extra>",
         "legendgroup": "Excellent (Hydro)",
         "marker": {
          "color": "#EF553B",
          "size": {
           "bdata": "UnesJdyrVUA=",
           "dtype": "f8"
          },
          "sizemode": "area",
          "sizeref": 0.06087248480065281,
          "symbol": "circle"
         },
         "mode": "markers+text",
         "name": "Excellent (Hydro)",
         "orientation": "v",
         "showlegend": true,
         "text": [
          "Pacific Northwest"
         ],
         "textposition": "top center",
         "type": "scatter",
         "x": {
          "bdata": "uB6F61G4rj8=",
          "dtype": "f8"
         },
         "xaxis": "x",
         "y": {
          "bdata": "EupHyh4YBkA=",
          "dtype": "f8"
         },
         "yaxis": "y"
        },
        {
         "customdata": {
          "bdata": "N9BN15A6U8AAAAAAAADwPw==",
          "dtype": "f8",
          "shape": "1, 2"
         },
         "hovertemplate": "Renewable Availability=Good (Solar)<br>Electricity Price ($/kWh)=%{x}<br>Levelized Cost of Hydrogen ($/kg)=%{y}<br>Region=%{text}<br>NPV ($M)=%{customdata[0]:.1f}<extra></extra>",
         "legendgroup": "Good (Solar)",
         "marker": {
          "color": "#00cc96",
          "size": {
           "bdata": "AAAAAAAA8D8=",
           "dtype": "f8"
          },
          "sizemode": "area",
          "sizeref": 0.06087248480065281,
          "symbol": "circle"
         },
         "mode": "markers+text",
         "name": "Good (Solar)",
         "orientation": "v",
         "showlegend": true,
         "text": [
          "California"
         ],
         "textposition": "top center",
         "type": "scatter",
         "x": {
          "bdata": "CtejcD0Kxz8=",
          "dtype": "f8"
         },
         "xaxis": "x",
         "y": {
          "bdata": "TICQTAu2HEA=",
          "dtype": "f8"
         },
         "yaxis": "y"
        },
        {
         "customdata": {
          "bdata": "kPt9lTktSMC8STsy0I89QGDj1MtpKSLAyzPTnWM1UUA=",
          "dtype": "f8",
          "shape": "2, 2"
         },
         "hovertemplate": "Renewable Availability=Moderate<br>Electricity Price ($/kWh)=%{x}<br>Levelized Cost of Hydrogen ($/kg)=%{y}<br>Region=%{text}<br>NPV ($M)=%{customdata[0]:.1f}<extra></extra>",
         "legendgroup": "Moderate",
         "marker": {
          "color": "#ab63fa",
          "size": {
           "bdata": "vEk7MtCPPUDLM9OdYzVRQA==",
           "dtype": "f8"
          },
          "sizemode": "area",
          "sizeref": 0.06087248480065281,
          "symbol": "circle"
         },
         "mode": "markers+text",
         "name": "Moderate",
         "orientation": "v",
         "showlegend": true,
         "text": [
          "Northeast",
          "Southeast"
         ],
         "textposition": "top center",
         "type": "scatter",
         "x": {
          "bdata": "7FG4HoXrwT/D9Shcj8K1Pw==",
          "dtype": "f8"
         },
         "xaxis": "x",
         "y": {
          "bdata": "NqfBVLfSFkBveQrAR3QNQA==",
          "dtype": "f8"
         },
         "yaxis": "y"
        }
       ],
       "layout": {
        "annotations": [
         {
          "showarrow": false,
          "text": "H₂ Market Price ($4.0/kg)",
          "x": 1,
          "xanchor": "right",
          "xref": "x domain",
          "y": 4,
          "yanchor": "bottom",
          "yref": "y"
         }
        ],
        "height": 500,
        "legend": {
         "itemsizing": "constant",
         "title": {
          "text": "Renewable Availability"
         },
         "tracegroupgap": 0
        },
        "shapes": [
         {
          "line": {
           "color": "green",
           "dash": "dash"
          },
          "type": "line",
          "x0": 0,
          "x1": 1,
          "xref": "x domain",
          "y0": 4,
          "y1": 4,
          "yref": "y"
         }
        ],
        "template": {
         "data": {
          "bar": [
           {
            "error_x": {
             "color": "#2a3f5f"
            },
            "error_y": {
             "color": "#2a3f5f"
            },
            "marker": {
             "line": {
              "color": "#E5ECF6",
              "width": 0.5
             },
             "pattern": {
              "fillmode": "overlay",
              "size": 10,
              "solidity": 0.2
             }
            },
            "type": "bar"
           }
          ],
          "barpolar": [
           {
            "marker": {
             "line": {
              "color": "#E5ECF6",
              "width": 0.5
             },
             "pattern": {
              "fillmode": "overlay",
              "size": 10,
              "solidity": 0.2
             }
            },
            "type": "barpolar"
           }
          ],
          "carpet": [
           {
            "aaxis": {
             "endlinecolor": "#2a3f5f",
             "gridcolor": "white",
             "linecolor": "white",
             "minorgridcolor": "white",
             "startlinecolor": "#2a3f5f"
            },
            "baxis": {
             "endlinecolor": "#2a3f5f",
             "gridcolor": "white",
             "linecolor": "white",
             "minorgridcolor": "white",
             "startlinecolor": "#2a3f5f"
            },
            "type": "carpet"
           }
          ],
          "choropleth": [
           {
            "colorbar": {
             "outlinewidth": 0,
             "ticks": ""
            },
            "type": "choropleth"
           }
          ],
          "contour": [
           {
            "colorbar": {
             "outlinewidth": 0,
             "ticks": ""
            },
            "colorscale": [
             [
              0,
              "#0d0887"
             ],
             [
              0.1111111111111111,
              "#46039f"
             ],
             [
              0.2222222222222222,
              "#7201a8"
             ],
             [
              0.3333333333333333,
              "#9c179e"
             ],
             [
              0.4444444444444444,
              "#bd3786"
             ],
             [
              0.5555555555555556,
              "#d8576b"
             ],
             [
              0.6666666666666666,
              "#ed7953"
             ],
             [
              0.7777777777777778,
              "#fb9f3a"
             ],
             [
              0.8888888888888888,
              "#fdca26"
             ],
             [
              1,
              "#f0f921"
             ]
            ],
            "type": "contour"
           }
          ],
          "contourcarpet": [
           {
            "colorbar": {
             "outlinewidth": 0,
             "ticks": ""
            },
            "type": "contourcarpet"
           }
          ],
          "heatmap": [
           {
            "colorbar": {
             "outlinewidth": 0,
             "ticks": ""
            },
            "colorscale": [
             [
              0,
              "#0d0887"
             ],
             [
              0.1111111111111111,
              "#46039f"
             ],
             [
              0.2222222222222222,
              "#7201a8"
             ],
             [
              0.3333333333333333,
              "#9c179e"
             ],
             [
              0.4444444444444444,
              "#bd3786"
             ],
             [
              0.5555555555555556,
              "#d8576b"
             ],
             [
              0.6666666666666666,
              "#ed7953"
             ],
             [
              0.7777777777777778,
              "#fb9f3a"
             ],
             [
              0.8888888888888888,
              "#fdca26"
             ],
             [
              1,
              "#f0f921"
             ]
            ],
            "type": "heatmap"
           }
          ],
          "histogram": [
           {
            "marker": {
             "pattern": {
              "fillmode": "overlay",
              "size": 10,
              "solidity": 0.2
             }
            },
            "type": "histogram"
           }
          ],
          "histogram2d": [
           {
            "colorbar": {
             "outlinewidth": 0,
             "ticks": ""
            },
            "colorscale": [
             [
              0,
              "#0d0887"
             ],
             [
              0.1111111111111111,
              "#46039f"
             ],
             [
              0.2222222222222222,
              "#7201a8"
             ],
             [
              0.3333333333333333,
              "#9c179e"
             ],
             [
              0.4444444444444444,
              "#bd3786"
             ],
             [
              0.5555555555555556,
              "#d8576b"
             ],
             [
              0.6666666666666666,
              "#ed7953"
             ],
             [
              0.7777777777777778,
              "#fb9f3a"
             ],
             [
              0.8888888888888888,
              "#fdca26"
             ],
             [
              1,
              "#f0f921"
             ]
            ],
            "type": "histogram2d"
           }
          ],
          "histogram2dcontour": [
           {
            "colorbar": {
             "outlinewidth": 0,
             "ticks": ""
            },
            "colorscale": [
             [
              0,
              "#0d0887"
             ],
             [
              0.1111111111111111,
              "#46039f"
             ],
             [
              0.2222222222222222,
              "#7201a8"
             ],
             [
              0.3333333333333333,
              "#9c179e"
             ],
             [
              0.4444444444444444,
              "#bd3786"
             ],
             [
              0.5555555555555556,
              "#d8576b"
             ],
             [
              0.6666666666666666,
              "#ed7953"
             ],
             [
              0.7777777777777778,
              "#fb9f3a"
             ],
             [
              0.8888888888888888,
              "#fdca26"
             ],
             [
              1,
              "#f0f921"
             ]
            ],
            "type": "histogram2dcontour"
           }
          ],
          "mesh3d": [
           {
            "colorbar": {
             "outlinewidth": 0,
             "ticks": ""
            },
            "type": "mesh3d"
           }
          ],
          "parcoords": [
           {
            "line": {
             "colorbar": {
              "outlinewidth": 0,
              "ticks": ""
             }
            },
            "type": "parcoords"
           }
          ],
          "pie": [
           {
            "automargin": true,
            "type": "pie"
           }
          ],
          "scatter": [
           {
            "fillpattern": {
             "fillmode": "overlay",
             "size": 10,
             "solidity": 0.2
            },
            "type": "scatter"
           }
          ],
          "scatter3d": [
           {
            "line": {
             "colorbar": {
              "outlinewidth": 0,
              "ticks": ""
             }
            },
            "marker": {
             "colorbar": {
              "outlinewidth": 0,
              "ticks": ""
             }
            },
            "type": "scatter3d"
           }
          ],
          "scattercarpet": [
           {
            "marker": {
             "colorbar": {
              "outlinewidth": 0,
              "ticks": ""
             }
            },
            "type": "scattercarpet"
           }
          ],
          "scattergeo": [
           {
            "marker": {
             "colorbar": {
              "outlinewidth": 0,
              "ticks": ""
             }
            },
            "type": "scattergeo"
           }
          ],
          "scattergl": [
           {
            "marker": {
             "colorbar": {
              "outlinewidth": 0,
              "ticks": ""
             }
            },
            "type": "scattergl"
           }
          ],
          "scattermap": [
           {
            "marker": {
             "colorbar": {
              "outlinewidth": 0,
              "ticks": ""
             }
            },
            "type": "scattermap"
           }
          ],
          "scattermapbox": [
           {
            "marker": {
             "colorbar": {
              "outlinewidth": 0,
              "ticks": ""
             }
            },
            "type": "scattermapbox"
           }
          ],
          "scatterpolar": [
           {
            "marker": {
             "colorbar": {
              "outlinewidth": 0,
              "ticks": ""
             }
            },
            "type": "scatterpolar"
           }
          ],
          "scatterpolargl": [
           {
            "marker": {
             "colorbar": {
              "outlinewidth": 0,
              "ticks": ""
             }
            },
            "type": "scatterpolargl"
           }
          ],
          "scatterternary": [
           {
            "marker": {
             "colorbar": {
              "outlinewidth": 0,
              "ticks": ""
             }
            },
            "type": "scatterternary"
           }
          ],
          "surface": [
           {
            "colorbar": {
             "outlinewidth": 0,
             "ticks": ""
            },
            "colorscale": [
             [
              0,
              "#0d0887"
             ],
             [
              0.1111111111111111,
              "#46039f"
             ],
             [
              0.2222222222222222,
              "#7201a8"
             ],
             [
              0.3333333333333333,
              "#9c179e"
             ],
             [
              0.4444444444444444,
              "#bd3786"
             ],
             [
              0.5555555555555556,
              "#d8576b"
             ],
             [
              0.6666666666666666,
              "#ed7953"
             ],
             [
              0.7777777777777778,
              "#fb9f3a"
             ],
             [
              0.8888888888888888,
              "#fdca26"
             ],
             [
              1,
              "#f0f921"
             ]
            ],
            "type": "surface"
           }
          ],
          "table": [
           {
            "cells": {
             "fill": {
              "color": "#EBF0F8"
             },
             "line": {
              "color": "white"
             }
            },
            "header": {
             "fill": {
              "color": "#C8D4E3"
             },
             "line": {
              "color": "white"
             }
            },
            "type": "table"
           }
          ]
         },
         "layout": {
          "annotationdefaults": {
           "arrowcolor": "#2a3f5f",
           "arrowhead": 0,
           "arrowwidth": 1
          },
          "autotypenumbers": "strict",
          "coloraxis": {
           "colorbar": {
            "outlinewidth": 0,
            "ticks": ""
           }
          },
          "colorscale": {
           "diverging": [
            [
             0,
             "#8e0152"
            ],
            [
             0.1,
             "#c51b7d"
            ],
            [
             0.2,
             "#de77ae"
            ],
            [
             0.3,
             "#f1b6da"
            ],
            [
             0.4,
             "#fde0ef"
            ],
            [
             0.5,
             "#f7f7f7"
            ],
            [
             0.6,
             "#e6f5d0"
            ],
            [
             0.7,
             "#b8e186"
            ],
            [
             0.8,
             "#7fbc41"
            ],
            [
             0.9,
             "#4d9221"
            ],
            [
             1,
             "#276419"
            ]
           ],
           "sequential": [
            [
             0,
             "#0d0887"
            ],
            [
             0.1111111111111111,
             "#46039f"
            ],
            [
             0.2222222222222222,
             "#7201a8"
            ],
            [
             0.3333333333333333,
             "#9c179e"
            ],
            [
             0.4444444444444444,
             "#bd3786"
            ],
            [
             0.5555555555555556,
             "#d8576b"
            ],
            [
             0.6666666666666666,
             "#ed7953"
            ],
            [
             0.7777777777777778,
             "#fb9f3a"
            ],
            [
             0.8888888888888888,
             "#fdca26"
            ],
            [
             1,
             "#f0f921"
            ]
           ],
           "sequentialminus": [
            [
             0,
             "#0d0887"
            ],
            [
             0.1111111111111111,
             "#46039f"
            ],
            [
             0.2222222222222222,
             "#7201a8"
            ],
            [
             0.3333333333333333,
             "#9c179e"
            ],
            [
             0.4444444444444444,
             "#bd3786"
            ],
            [
             0.5555555555555556,
             "#d8576b"
            ],
            [
             0.6666666666666666,
             "#ed7953"
            ],
            [
             0.7777777777777778,
             "#fb9f3a"
            ],
            [
             0.8888888888888888,
             "#fdca26"
            ],
            [
             1,
             "#f0f921"
            ]
           ]
          },
          "colorway": [
           "#636efa",
           "#EF553B",
           "#00cc96",
           "#ab63fa",
           "#FFA15A",
           "#19d3f3",
           "#FF6692",
           "#B6E880",
           "#FF97FF",
           "#FECB52"
          ],
          "font": {
           "color": "#2a3f5f"
          },
          "geo": {
           "bgcolor": "white",
           "lakecolor": "white",
           "landcolor": "#E5ECF6",
           "showlakes": true,
           "showland": true,
           "subunitcolor": "white"
          },
          "hoverlabel": {
           "align": "left"
          },
          "hovermode": "closest",
          "mapbox": {
           "style": "light"
          },
          "paper_bgcolor": "white",
          "plot_bgcolor": "#E5ECF6",
          "polar": {
           "angularaxis": {
            "gridcolor": "white",
            "linecolor": "white",
            "ticks": ""
           },
           "bgcolor": "#E5ECF6",
           "radialaxis": {
            "gridcolor": "white",
            "linecolor": "white",
            "ticks": ""
           }
          },
          "scene": {
           "xaxis": {
            "backgroundcolor": "#E5ECF6",
            "gridcolor": "white",
            "gridwidth": 2,
            "linecolor": "white",
            "showbackground": true,
            "ticks": "",
            "zerolinecolor": "white"
           },
           "yaxis": {
            "backgroundcolor": "#E5ECF6",
            "gridcolor": "white",
            "gridwidth": 2,
            "linecolor": "white",
            "showbackground": true,
            "ticks": "",
            "zerolinecolor": "white"
           },
           "zaxis": {
            "backgroundcolor": "#E5ECF6",
            "gridcolor": "white",
            "gridwidth": 2,
            "linecolor": "white",
            "showbackground": true,
            "ticks": "",
            "zerolinecolor": "white"
           }
          },
          "shapedefaults": {
           "line": {
            "color": "#2a3f5f"
           }
          },
          "ternary": {
           "aaxis": {
            "gridcolor": "white",
            "linecolor": "white",
            "ticks": ""
           },
           "baxis": {
            "gridcolor": "white",
            "linecolor": "white",
            "ticks": ""
           },
           "bgcolor": "#E5ECF6",
           "caxis": {
            "gridcolor": "white",
            "linecolor": "white",
            "ticks": ""
           }
          },
          "title": {
           "x": 0.05
          },
          "xaxis": {
           "automargin": true,
           "gridcolor": "white",
           "linecolor": "white",
           "ticks": "",
           "title": {
            "standoff": 15
           },
           "zerolinecolor": "white",
           "zerolinewidth": 2
          },
          "yaxis": {
           "automargin": true,
           "gridcolor": "white",
           "linecolor": "white",
           "ticks": "",
           "title": {
            "standoff": 15
           },
           "zerolinecolor": "white",
           "zerolinewidth": 2
          }
         }
        },
        "title": {
         "text": "Regional Economics: Electricity Price vs LCOH"
        },
        "xaxis": {
         "anchor": "y",
         "domain": [
          0,
          1
         ],
         "title": {
          "text": "Electricity Price ($/kWh)"
         }
        },
        "yaxis": {
         "anchor": "x",
         "domain": [
          0,
          1
         ],
         "title": {
          "text": "Levelized Cost of Hydrogen ($/kg)"
         }
        }
       }
      }
     },
     "metadata": {},
     "output_type": "display_data"
    },
    {
     "name": "stdout",
     "output_type": "stream",
     "text": [
      "\n",
      "🌎 Optimal Deployment Strategy:\n",
      "\n",
      "1️⃣ BEST: West Texas\n",
      "   • Electricity: $0.045/kWh\n",
      "   • LCOH: $2.21/kg\n",
      "   • NPV: $19.5M\n",
      "   • Renewable Source: Excellent (Wind)\n",
      "   • Strategy: Co-locate with wind farms, secure long-term PPA\n",
      "\n",
      "❌ AVOID: California\n",
      "   • Electricity: $0.180/kWh\n",
      "   • LCOH: $7.18/kg\n",
      "   • NPV: $-76.9M\n",
      "   • High electricity costs make project marginal\n",
      "\n",
      "💡 Key Insights:\n",
      "   • Midwest and West Texas offer best economics (abundant wind)\n",
      "   • California has high demand but high electricity costs\n",
      "   • Consider pairing with on-site solar in high-cost regions\n",
      "   • RNG availability also matters - prioritize near dairy farms/landfills\n"
     ]
    }
   ],
   "source": [
    "# Regional analysis based on electricity prices and hydrogen markets\n",
    "regions = {\n",
    "    'Region': [\n",
    "        'West Texas',\n",
    "        'Midwest (IA/MN)',\n",
    "        'Pacific Northwest',\n",
    "        'California',\n",
    "        'Northeast',\n",
    "        'Southeast'\n",
    "    ],\n",
    "    'Electricity Price ($/kWh)': [0.045, 0.055, 0.060, 0.180, 0.140, 0.085],\n",
    "    'H₂ Demand Level': ['Medium', 'Low', 'Medium', 'High', 'High', 'Medium'],\n",
    "    'Renewable Availability': ['Excellent (Wind)', 'Excellent (Wind)', 'Excellent (Hydro)',\n",
    "                                'Good (Solar)', 'Moderate', 'Moderate'],\n",
    "    'Key Industries': ['Refining, Chemicals', 'Agriculture, Food', 'Aerospace, Tech',\n",
    "                       'Refining, Transport', 'Manufacturing', 'Chemicals, Aerospace']\n",
    "}\n",
    "\n",
    "regions_df = pd.DataFrame(regions)\n",
    "\n",
    "# Calculate LCOH for each region\n",
    "regions_df['LCOH ($/kg)'] = regions_df['Electricity Price ($/kWh)'].apply(\n",
    "    lambda e: lcoh + (e - electricity_price) * energy_per_kg_h2\n",
    ")\n",
    "\n",
    "# Calculate NPV impact\n",
    "regions_df['NPV ($M)'] = regions_df['Electricity Price ($/kWh)'].apply(\n",
    "    lambda e: (npv - (e - electricity_price) * energy_per_kg_h2 * h2_annual * \n",
    "              ((1 - (1+discount_rate)**(-plant_lifetime)) / discount_rate)) / 1e6\n",
    ")\n",
    "\n",
    "# Create a transformed NPV for sizing (shift all values to be positive)\n",
    "regions_df['NPV_for_size'] = regions_df['NPV ($M)'] - regions_df['NPV ($M)'].min() + 1\n",
    "\n",
    "# Ranking\n",
    "regions_df['Economic Rank'] = regions_df['NPV ($M)'].rank(ascending=False).astype(int)\n",
    "\n",
    "# Display\n",
    "display(regions_df.style.format({\n",
    "    'Electricity Price ($/kWh)': '{:.3f}',\n",
    "    'LCOH ($/kg)': '{:.2f}',\n",
    "    'NPV ($M)': '{:.1f}'\n",
    "}).background_gradient(subset=['NPV ($M)'], cmap='RdYlGn'))\n",
    "\n",
    "# Visualize\n",
    "fig = px.scatter(\n",
    "    regions_df,\n",
    "    x='Electricity Price ($/kWh)',\n",
    "    y='LCOH ($/kg)',\n",
    "    size='NPV_for_size',  # Use the positive-shifted values\n",
    "    color='Renewable Availability',\n",
    "    text='Region',\n",
    "    title='Regional Economics: Electricity Price vs LCOH',\n",
    "    labels={'LCOH ($/kg)': 'Levelized Cost of Hydrogen ($/kg)'},\n",
    "    size_max=40,\n",
    "    hover_data={'NPV ($M)': ':.1f', 'NPV_for_size': False}  # Show actual NPV in hover\n",
    ")\n",
    "\n",
    "fig.add_hline(y=h2_price, line_dash=\"dash\", line_color=\"green\",\n",
    "              annotation_text=f\"H₂ Market Price (${h2_price}/kg)\")\n",
    "\n",
    "fig.update_traces(textposition='top center')\n",
    "fig.update_layout(height=500)\n",
    "\n",
    "fig.show()\n",
    "\n",
    "print(f\"\\n🌎 Optimal Deployment Strategy:\\n\")\n",
    "\n",
    "top_region = regions_df.loc[regions_df['NPV ($M)'].idxmax()]\n",
    "print(f\"1️⃣ BEST: {top_region['Region']}\")\n",
    "print(f\"   • Electricity: ${top_region['Electricity Price ($/kWh)']:.3f}/kWh\")\n",
    "print(f\"   • LCOH: ${top_region['LCOH ($/kg)']:.2f}/kg\")\n",
    "print(f\"   • NPV: ${top_region['NPV ($M)']:.1f}M\")\n",
    "print(f\"   • Renewable Source: {top_region['Renewable Availability']}\")\n",
    "print(f\"   • Strategy: Co-locate with wind farms, secure long-term PPA\\n\")\n",
    "\n",
    "worst_region = regions_df.loc[regions_df['NPV ($M)'].idxmin()]\n",
    "print(f\"❌ AVOID: {worst_region['Region']}\")\n",
    "print(f\"   • Electricity: ${worst_region['Electricity Price ($/kWh)']:.3f}/kWh\")\n",
    "print(f\"   • LCOH: ${worst_region['LCOH ($/kg)']:.2f}/kg\")\n",
    "print(f\"   • NPV: ${worst_region['NPV ($M)']:.1f}M\")\n",
    "print(f\"   • High electricity costs make project marginal\\n\")\n",
    "\n",
    "print(f\"💡 Key Insights:\")\n",
    "print(f\"   • Midwest and West Texas offer best economics (abundant wind)\")\n",
    "print(f\"   • California has high demand but high electricity costs\")\n",
    "print(f\"   • Consider pairing with on-site solar in high-cost regions\")\n",
    "print(f\"   • RNG availability also matters - prioritize near dairy farms/landfills\")"
   ]
  },
  {
   "cell_type": "markdown",
   "id": "6bf24f25",
   "metadata": {},
   "source": [
    "## Key Findings\n",
    "\n",
    "### Strong Financial Performance\n",
    "\n",
    "**Base Case Economics (Conservative Pricing):**\n",
    "- NPV (20 years, 15% discount): **$20.6 million**\n",
    "- IRR: **85.95%** (far exceeds typical hurdle rates)\n",
    "- Payback Period: **3.2 years** (excellent for chemical industry)\n",
    "- Gross Margin: **30.6%** (healthy for process industry)\n",
    "- LCOH: **$2.41/kg** (competitive with market price of $3.18/kg)\n",
    "\n",
    "**Investment Attractiveness:**\n",
    "- Positive NPV in >70% of Monte Carlo scenarios\n",
    "- IRR significantly exceeds discount rate (15%)\n",
    "- Fast payback reduces risk\n",
    "- Robust to reasonable parameter uncertainty\n",
    "\n",
    "### 2. Critical Success Factors\n",
    "\n",
    "**Most Influential Parameters (from sensitivity analysis):**\n",
    "\n",
    "1. **Electricity Price** - Dominant driver of economics\n",
    "   - Represents 89% of variable operating costs\n",
    "   - Optimal deployment in low-cost renewable regions\n",
    "   - Target: <$0.07/kWh for strong economics\n",
    "   \n",
    "2. **Hydrogen Selling Price** - Market risk\n",
    "   - Conservative base case at $3.18/kg\n",
    "   - Market prices range $2-5/kg depending on grade/region\n",
    "   - Premium markets (fuel cell grade, California LCFS) can exceed $5/kg\n",
    "\n",
    "3. **Acetylene Black Price** - Co-product value\n",
    "   - Provides 40% of total revenue\n",
    "   - Premium conductive grade commands $2-3/kg\n",
    "   - Battery market growth supports strong pricing\n",
    "\n",
    "4. **Capital Costs** - Technology maturity\n",
    "   - Current estimate: $45.6M for 3,100 tonne/year plant\n",
    "   - Pentacarbon technology relatively new (scale-up risk)\n",
    "   - Learning curve improvements possible with deployment\n",
    "\n",
    "### 3. Environmental Superiority\n",
    "\n",
    "**Dramatic improvements vs Steam Methane Reforming:**\n",
    "\n",
    "- **CO₂ Emissions:** 99.9% reduction (0.12 vs 9.7 kg CO₂/kg H₂)\n",
    "- **Water Consumption:** 86.7% reduction (0.6 vs 4.5 kg H₂O/kg H₂)\n",
    "- **Renewable Energy:** 100% when using renewable electricity\n",
    "- **Waste Utilization:** Converts waste RNG to valuable products\n",
    "\n",
    "**Climate Impact:**\n",
    "- Annual CO₂ avoidance: ~30,000 tonnes vs SMR\n",
    "- Equivalent to removing ~6,500 cars from roads\n",
    "- Supports corporate net-zero commitments\n",
    "\n",
    "### 4. Market Positioning\n",
    "\n",
    "**Competitive Advantages:**\n",
    "- ✅ Near-zero carbon intensity (critical for CA LCFS, EU hydrogen strategy)\n",
    "- ✅ Premium co-product (acetylene black for batteries)\n",
    "- ✅ Waste feedstock utilization (RNG from landfills/dairy)\n",
    "- ✅ Modular scale (right-sized for distributed production)\n",
    "- ✅ No water stress concerns\n",
    "\n",
    "**Competitive Challenges:**\n",
    "- ⚠️ Higher energy intensity than SMR (but from renewables)\n",
    "- ⚠️ Technology relatively new (limited deployment track record)\n",
    "- ⚠️ Electricity price sensitivity (requires low-cost renewable access)\n",
    "- ⚠️ Smaller scale than large SMR plants (3,100 vs 10,000+ tonnes/year)\n",
    "\n",
    "### 5. Strategic Recommendations\n",
    "\n",
    "**Near-Term (1-2 years):**\n",
    "\n",
    "1. **Pilot Demonstration**\n",
    "   - Validate ASPEN simulation with pilot-scale unit\n",
    "   - Prove acetylene black quality for battery market\n",
    "   - Demonstrate 8,000+ hour reliability\n",
    "   - Engage potential offtakers early\n",
    "\n",
    "2. **Target Markets**\n",
    "   - Industrial customers with clean hydrogen mandates\n",
    "   - California (LCFS credits, strict emissions standards)\n",
    "   - Companies with net-zero commitments\n",
    "   - Battery manufacturers (acetylene black market)\n",
    "\n",
    "3. **Optimize Deployment Locations**\n",
    "   - **Priority:** West Texas, Midwest (low-cost wind)\n",
    "   - Co-locate with wind/solar farms for direct PPAs\n",
    "   - Near RNG sources (landfills, dairy digesters)\n",
    "   - Proximity to industrial hydrogen demand\n",
    "\n",
    "4. **Secure Offtake Agreements**\n",
    "   - Long-term hydrogen purchase agreements\n",
    "   - Acetylene black supply contracts with battery makers\n",
    "   - Lock in pricing to reduce market risk\n",
    "\n",
    "**Medium-Term (3-5 years):**\n",
    "\n",
    "1. **Scale Technology**\n",
    "   - Build first commercial-scale plant (3,100 tonne/year)\n",
    "   - Demonstrate consistent acetylene black quality\n",
    "   - Achieve target capacity factor (>90%)\n",
    "   - Reduce CapEx through learning curve\n",
    "\n",
    "2. **Business Model Innovation**\n",
    "   - \"Hydrogen-as-a-Service\" for lower customer CapEx\n",
    "   - Bundled hydrogen + carbon credit sales\n",
    "   - Partnership with renewable energy developers\n",
    "   - Fleet deployment model (multiple standardized plants)\n",
    "\n",
    "3. **Policy Engagement**\n",
    "   - Qualify for IRA 45V hydrogen PTC ($3/kg for clean H₂)\n",
    "   - California LCFS credit generation\n",
    "   - RNG fuel credits\n",
    "   - State-level clean hydrogen incentives\n",
    "\n",
    "4. **Market Development**\n",
    "   - Educate market on acetylene black value\n",
    "   - Build relationships with battery manufacturers\n",
    "   - Establish brand for premium clean hydrogen\n",
    "   - Demonstrate reliable supply\n",
    "\n",
    "**Long-Term (5+ years):**\n",
    "\n",
    "1. **Portfolio Expansion**\n",
    "   - Deploy 10-20 plants in optimal locations\n",
    "   - Diversify feedstocks (biogas, renewable methane)\n",
    "   - Explore adjacent markets (ammonia, methanol from H₂)\n",
    "   - International markets with strong hydrogen policy\n",
    "\n",
    "2. **Technology Enhancement**\n",
    "   - Improve energy efficiency (reduce kWh/kg H₂)\n",
    "   - Increase scale per unit (economies of scale)\n",
    "   - Develop carbon black grade flexibility\n",
    "   - Integration with renewable energy systems\n",
    "\n",
    "3. **Financial Optimization**\n",
    "   - Green bond financing for lower cost of capital\n",
    "   - Carbon credit monetization strategies\n",
    "   - Strategic partnerships with industrial gas companies\n",
    "   - Consider yieldco structure for cash flow assets\n",
    "\n",
    "---\n",
    "\n",
    "## Conclusions\n",
    "\n",
    "The Pentacarbon microwave plasma process for hydrogen and acetylene black production represents a **technically viable and economically attractive** alternative to conventional hydrogen production.\n",
    "\n",
    "**Key Strengths:**\n",
    "✅ **Strong economics** - Positive NPV, high IRR, fast payback  \n",
    "✅ **Environmental leadership** - 99.9% CO₂ reduction vs SMR  \n",
    "✅ **Revenue diversification** - Premium acetylene black co-product  \n",
    "✅ **Waste valorization** - Utilizes renewable natural gas  \n",
    "✅ **Strategic timing** - Aligns with hydrogen economy growth  \n",
    "\n",
    "**Critical Success Factors:**\n",
    "🎯 **Low-cost renewable electricity** - Must target <$0.07/kWh  \n",
    "🎯 **Acetylene black market** - Must secure premium pricing  \n",
    "🎯 **Policy support** - Leverage hydrogen incentives and LCFS credits  \n",
    "🎯 **Technology validation** - Pilot demonstration crucial  \n",
    "\n",
    "**The business case strengthens as:**\n",
    "- Hydrogen demand grows (transportation, industry, power)\n",
    "- Carbon pricing increases (making SMR more expensive)\n",
    "- Battery market expands (acetylene black demand)\n",
    "- Renewable electricity costs decline (improving economics)\n",
    "\n",
    "**With continued technology development and supportive policy, this process could capture meaningful share of the growing clean hydrogen market, particularly for applications requiring truly low-carbon H₂ with strong environmental credentials.**\n",
    "\n",
    "---\n",
    "\n",
    "## References\n",
    "\n",
    "1. Ritter, A., Levine, S., Cannon, S., (2022). \"Natural Gas Conversion into Clean Hydrogen and Carbon for Li-ion Battery Electrodes Using Renewable Energy\" University of Pennsylvania Senior Design Project.\n",
    "\n",
    "2. U.S. Environmental Protection Agency. (2023). \"Emission Factors for Greenhouse Gas Inventories.\"\n",
    "\n",
    "3. International Energy Agency. (2023). \"Global Hydrogen Review 2023.\"\n",
    "\n",
    "4. National Renewable Energy Laboratory. (2023). \"Hydrogen Production Cost Analysis.\"\n",
    "\n",
    "5. U.S. Department of Energy. (2023). \"Clean Hydrogen Production Tax Credit (45V) Guidance.\"\n",
    "\n",
    "6. Pentacarbon, Inc. (2022). Technical specifications and process data.\n",
    "\n",
    "---\n",
    "\n",
    "## Contact\n",
    "\n",
    "**Adam Ritter**  \n",
    "\n",
    "📧 adam.h.ritter@gmail.com  \n",
    "💼 [LinkedIn](https://linkedin.com/in/adam-ritter-env)  \n",
    "🐙 [GitHub](https://github.com/Adam-Ritter)  \n",
    "🌐 [Portfolio](your-portfolio-link)\n",
    "\n",
    "---\n",
    "\n",
    "*This interactive analysis is based on our 2022 senior design project at Penn. The ASPEN Plus simulation and core technical data remain unchanged. Financial assumptions have been updated where appropriate to reflect 2024 market conditions.*"
   ]
  }
 ],
 "metadata": {
  "kernelspec": {
   "display_name": "climate-portfolio",
   "language": "python",
   "name": "python3"
  },
  "language_info": {
   "codemirror_mode": {
    "name": "ipython",
    "version": 3
   },
   "file_extension": ".py",
   "mimetype": "text/x-python",
   "name": "python",
   "nbconvert_exporter": "python",
   "pygments_lexer": "ipython3",
   "version": "3.10.18"
  }
 },
 "nbformat": 4,
 "nbformat_minor": 5
}
