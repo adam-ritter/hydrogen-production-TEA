{
 "cells": [
  {
   "cell_type": "markdown",
   "id": "9ffdf043",
   "metadata": {},
   "source": [
    "# Techno-Economic Analysis: Hydrogen and Acetylene Black Production from Renewable Natural Gas via Microwave Plasma Reactors\n",
    "\n",
    "## Executive Summary\n",
    "\n",
    "This analysis evaluates the techno-economic viability of producing hydrogen gas and acetylene black from renewable natural gas (RNG) using Pentacarbon's proprietary microwave plasma reactor technology.\n",
    "\n",
    "### Key Results\n",
    "\n",
    "**Financial Performance:**\n",
    "- **NPV (20 years, 15% discount):** $XX million\n",
    "- **IRR:** XX%\n",
    "- **Payback Period:** XX years\n",
    "- **ROI (Year 3):** XX%\n",
    "- **LCOH:** $XX/kg H2\n",
    "\n",
    "**Production Capacity**\n",
    "- **Hydrogen:** 393.1 kg/hr (3,100 tonnes/year)\n",
    "- **Acetylene Black:** 824.6 kg/hr (6,500 tonnes/year)\n",
    "- **Capacity Factor:** 91.7%\n",
    "\n",
    "**Environmental Performance**\n",
    "- **CO2 Intensity:** 0.12 kg CO2eq/kg H2 (99.9% reduction vs. SMR)\n",
    "- **Water Intensity:** 0.6kg H2O/kg H2 (86.7% reduction vs. SMR)\n",
    "- **Energy Source:** Renewable electricity\n",
    "- **Feedstock Source:** Landfill methane that would otherwise be released to atmosphere\n",
    "\n",
    "**Economic Advantages:**\n",
    "- Strong profitability with conservative pricing\n",
    "- Premium co-product (acetylene black) provides 40% of revenue with downstream sustainability applications\n",
    "- Near-zero emissions using renewable energy\n",
    "- Minimal water consumption\n",
    "- Utilizes waste/renewable methane feedstock\n",
    "\n",
    "---\n",
    "\n",
    "## Background\n",
    "\n",
    "### The Hydrogen Challenge\n",
    "\n",
    "Hydrogen is critical for:\n",
    "- **Industrial decarbonization** (ammonia, steel, refining)\n",
    "- **Clean transportation** (fuel cells)\n",
    "- **Energy storage** (power-to-gas)\n",
    "- **Chemical Manufacturing**\n",
    "\n",
    "However, **96% of hydrogen is produced from fossil fuels via steam methane reforming (SMR)**, emitting ~845 million tonnes CO2 annually worldwide (9-10kg CO2 per kg H2).\n",
    "\n",
    "### The Carbon Black Opportunity\n",
    "\n",
    "Acetylene black is a **highly conductive carbon black** used in:\n",
    "- Lithium-ion batteries\n",
    "- Supercapacitors\n",
    "- Advanced electronics\n",
    "- Specialty coatings\n",
    "\n",
    "It commands **2-3x the price** of commodity carbon blacks used in tires.\n",
    "\n",
    "### The Solution: Microwave Plasma Conversion\n",
    "\n",
    "**Core Reaction:** CH4 &rarr; C(s) + 2H2\n",
    "\n",
    "Using **microwave-induced plasma at 2000C** we crack methane into:\n",
    "- **Hydrogen gas** (99.9% purity after separation)\n",
    "- **Acetylene black** (premium conductive solid carbon)\n",
    "\n",
    "This process:\n",
    "- Eliminates CO2 emissions  (when using renewable electricity)\n",
    "- Minimizes water consumption (87% less than industry standard SMR)\n",
    "- Produces valuable co-product with downstream tech applications\n",
    "- Uses renewable natural gas feedstock that would otherwise contribute to global emissions\n",
    "\n",
    "---\n",
    "\n",
    "## Process Description\n",
    "\n",
    "### Simplified Process Flow\n",
    "\n",
    "<pre>\n",
    "                                                                                            ← Methane Recycle\n",
    "                                                                                                    ↑\n",
    "RNG Feed → Pentacarbon Microwave Reactor → Quench and Compression → Acetylene Absorption → Hydrogen Separation →\n",
    "                                                    ↓                       ↓\n",
    "                                             ← Water Recycle          Conversion to\n",
    "                                                                      Acetylene Black → Solids Processing →\n",
    "</pre>\n",
    "\n",
    "### Process Steps\n",
    "\n",
    "**1. Feed**\n",
    "- **Flow rate:** 1923 kg/hr renewable natural gas\n",
    "- **Composition:** 90.5% CH4, 7.8% CO2, 1.3% N2, trace H2S\n",
    "- **Treatment:** Heat to 38C, compress to 2 bar\n",
    "\n",
    "**2. Microwave Reactor (R1):**\n",
    "- **Temperature:** 2000C (plasma conditions)\n",
    "- **Pressure:** 2.07 bar\n",
    "- **Power Requirement:** 13,400.0 kW\n",
    "- **Conversion:** 90%\n",
    "- **Products:** H2, acetylene (C2H2), ethylene (C2H4), unreacted CH4\n",
    "\n",
    "**Quench and Compression**\n",
    "- Rapid water quench to 114C\n",
    "- Compression to 18.8 bar for absorption\n",
    "\n",
    "**4. Acetylene Absorption**\n",
    "- Acetylene absorbed in water solvent\n",
    "- Separates acetylene-rich stream from H2-rich stream\n",
    "\n",
    "**5. Conversion to Acetylene Black**\n",
    "- **Acetylene-rich stream\n",
    "- **Temperature:** 2000C\n",
    "- **Reaction:** C2H2 &rarr; 2C(s) + H2\n",
    "- **Product:** Acetylene Black (premium carbon black)\n",
    "- Additional hydrogen recovered and recycled\n",
    "\n",
    "**6. Hydrogen Purification**\n",
    "- Pressure Swing Absoroption (PSA)\n",
    "- **Final Purity:** 99.9% H2\n",
    "- **Production:** 393.1 kg/hr\n",
    "\n",
    "**7. Solids Processing**\n",
    "- Solid carbon collected via cyclone\n",
    "- **Grade:** Acetylene Black (premium conductive)\n",
    "- **Production:** 824.6 kg/hr\n",
    "\n",
    "---\n",
    "\n",
    "## Key Process Specifications\n",
    "\n",
    "### Feed Composition (ASPEN Stream: Feed (1))\n",
    "\n",
    "\n",
    "| Component | kg/hr | % by mass |\n",
    "|-----------|-------|-----------|\n",
    "| Methane (CH₄) | 1741.4 | 90.5% |\n",
    "| Carbon Dioxide (CO₂) | 149.3 | 7.8% |\n",
    "| Nitrogen (N₂) | 25.3 | 1.3% |\n",
    "| H₂S (trace) | 0.02 | <0.01% |\n",
    "| **Total** | **1923** | **100%** |\n",
    "\n",
    "### Product Streams (ASPEN Stream: HYDPROD(34), CARBON(28))\n",
    "\n",
    "| Product | kg/hr | tonnes/day | tonnes/year |\n",
    "|---------|-------|------------|-------------|\n",
    "| Hydrogen (99.9%) | 393.1 | 9.43 | 3,100 |\n",
    "| Acetylene Black | 824.6 | 19.79 | 6,500 |\n",
    "\n",
    "### Energy Consumption\n",
    "\n",
    "| Utility | Consumption | Annual Cost |\n",
    "|---------|-------------|-------------|\n",
    "| Electricity (total) | 14,480 kW | $8,365,843 |\n",
    "| Cooling Water | 237,847 L/hr | $51,861 |\n",
    "| Process Water | 252 L/hr | $539 |\n",
    "\n",
    "---\n",
    "\n",
    "## Based on an Original Publication at the University of Pennsylvania\n",
    "\n",
    "**Title:** \"Natural Gas Conversion into Clean Hydrogen and Carbon for Li-Ion Battery Electrodes Using Renewable Energy\"\n",
    "\n",
    "**Authors:** Adam Ritter, Sydney Levine, Skylar Cannon\n",
    "\n",
    "**Advisors:** Dr. Matthew Targett, Dr. Warren Seider\n",
    "\n",
    "**Institution:** University of Pennsylvania, Department of Chemical and Biomolecular Engineering\n",
    "\n",
    "**Year:** 2022\n",
    "\n",
    "**Note:** This analysis uses ASPEN Plus simulation results from our original design project. I've taken this opportunity to expand and refine the economic analysis, siting assessment, and uncertainty analysis.\n",
    "\n",
    "[Link to thesis](https://repository.upenn.edu/entities/publication/89c4a34b-5df2-4229-b0c5-94324f8dcfd4)\n"
   ]
  },
  {
   "cell_type": "code",
   "execution_count": 1596,
   "id": "2d2b0f20",
   "metadata": {},
   "outputs": [
    {
     "name": "stdout",
     "output_type": "stream",
     "text": [
      "✓ Libraries imported successfully\n",
      "✓ Analysis Date: November 2025\n",
      "✓ Based on: Penn CBE Senior Design Project 2022\n",
      "✓ Process parameters are sourced from the original project data. Economic assumptions have been updated to reflect 2025 market conditions.\n"
     ]
    }
   ],
   "source": [
    "import pandas as pd\n",
    "import numpy as np\n",
    "import matplotlib.pyplot as plt\n",
    "import seaborn as sns\n",
    "import plotly.graph_objects as go\n",
    "import plotly.express as px\n",
    "from plotly.subplots import make_subplots\n",
    "import numpy_financial as npf\n",
    "import warnings\n",
    "warnings.filterwarnings(\"ignore\")\n",
    "\n",
    "sns.set_style(\"whitegrid\")\n",
    "plt.rcParams['figure.figsize'] = (12, 6)\n",
    "plt.rcParams['font.size'] = 11\n",
    "\n",
    "print(\"✓ Libraries imported successfully\")\n",
    "print(f\"✓ Analysis Date: November 2025\")\n",
    "print(f\"✓ Based on: Penn CBE Senior Design Project 2022\")\n",
    "print(f\"✓ Process parameters are sourced from the original project data. Economic assumptions have been updated to reflect 2025 market conditions.\")"
   ]
  },
  {
   "cell_type": "code",
   "execution_count": 1597,
   "id": "8165cc86",
   "metadata": {},
   "outputs": [
    {
     "name": "stdout",
     "output_type": "stream",
     "text": [
      "================================================================================\n",
      "PROCESS PARAMETERS (from ASPEN Plus Simulation)\n",
      "================================================================================\n"
     ]
    },
    {
     "data": {
      "text/html": [
       "<div>\n",
       "<style scoped>\n",
       "    .dataframe tbody tr th:only-of-type {\n",
       "        vertical-align: middle;\n",
       "    }\n",
       "\n",
       "    .dataframe tbody tr th {\n",
       "        vertical-align: top;\n",
       "    }\n",
       "\n",
       "    .dataframe thead th {\n",
       "        text-align: right;\n",
       "    }\n",
       "</style>\n",
       "<table border=\"1\" class=\"dataframe\">\n",
       "  <thead>\n",
       "    <tr style=\"text-align: right;\">\n",
       "      <th></th>\n",
       "      <th>parameter</th>\n",
       "      <th>value</th>\n",
       "      <th>unit</th>\n",
       "      <th>source</th>\n",
       "      <th>notes</th>\n",
       "    </tr>\n",
       "  </thead>\n",
       "  <tbody>\n",
       "    <tr>\n",
       "      <th>0</th>\n",
       "      <td>rng_feed_rate</td>\n",
       "      <td>1923.00</td>\n",
       "      <td>kg/hr</td>\n",
       "      <td>ASPEN FEED stream</td>\n",
       "      <td>renewable natural gas input rate</td>\n",
       "    </tr>\n",
       "    <tr>\n",
       "      <th>1</th>\n",
       "      <td>hydrogen_production_rate</td>\n",
       "      <td>393.10</td>\n",
       "      <td>kg/hr</td>\n",
       "      <td>ASPEN HYDPROD stream</td>\n",
       "      <td>Purified hydrogen product</td>\n",
       "    </tr>\n",
       "    <tr>\n",
       "      <th>2</th>\n",
       "      <td>acetylene_black_production_rate</td>\n",
       "      <td>824.60</td>\n",
       "      <td>kg/hr</td>\n",
       "      <td>ASPEN CARBON stream</td>\n",
       "      <td>Solid carbon product</td>\n",
       "    </tr>\n",
       "    <tr>\n",
       "      <th>3</th>\n",
       "      <td>process_water_rate</td>\n",
       "      <td>252.00</td>\n",
       "      <td>L/hr</td>\n",
       "      <td>Absorption tower</td>\n",
       "      <td>Process water input</td>\n",
       "    </tr>\n",
       "    <tr>\n",
       "      <th>4</th>\n",
       "      <td>cooling_water_rate</td>\n",
       "      <td>237847.00</td>\n",
       "      <td>L/hr</td>\n",
       "      <td>Cooler 1-3 and Flash 1</td>\n",
       "      <td>Cooling water input</td>\n",
       "    </tr>\n",
       "    <tr>\n",
       "      <th>5</th>\n",
       "      <td>co2_production_rate</td>\n",
       "      <td>4.50</td>\n",
       "      <td>kg/hr</td>\n",
       "      <td>ASPEN net CO2 production</td>\n",
       "      <td>CO2 byproduct from reactor</td>\n",
       "    </tr>\n",
       "    <tr>\n",
       "      <th>6</th>\n",
       "      <td>plant_lifetime</td>\n",
       "      <td>20.00</td>\n",
       "      <td>years</td>\n",
       "      <td>Financial analysis</td>\n",
       "      <td>Economic evaluation basis</td>\n",
       "    </tr>\n",
       "    <tr>\n",
       "      <th>7</th>\n",
       "      <td>capacity_factor</td>\n",
       "      <td>91.00</td>\n",
       "      <td>percent</td>\n",
       "      <td>industry standard</td>\n",
       "      <td>percentage actual operating time</td>\n",
       "    </tr>\n",
       "    <tr>\n",
       "      <th>8</th>\n",
       "      <td>reactor_temperature</td>\n",
       "      <td>2000.00</td>\n",
       "      <td>celsius</td>\n",
       "      <td>ASPEN R1OUT stream</td>\n",
       "      <td>Pentacarbon reactor</td>\n",
       "    </tr>\n",
       "    <tr>\n",
       "      <th>9</th>\n",
       "      <td>reactor_pressure</td>\n",
       "      <td>2.07</td>\n",
       "      <td>bar</td>\n",
       "      <td>ASPEN R1OUT stream</td>\n",
       "      <td>Slightly above atmospheric</td>\n",
       "    </tr>\n",
       "    <tr>\n",
       "      <th>10</th>\n",
       "      <td>power_requirement</td>\n",
       "      <td>14481.00</td>\n",
       "      <td>kW</td>\n",
       "      <td>process simulation</td>\n",
       "      <td>Reactor + compression + pumps</td>\n",
       "    </tr>\n",
       "  </tbody>\n",
       "</table>\n",
       "</div>"
      ],
      "text/plain": [
       "                          parameter      value     unit  \\\n",
       "0                     rng_feed_rate    1923.00    kg/hr   \n",
       "1          hydrogen_production_rate     393.10    kg/hr   \n",
       "2   acetylene_black_production_rate     824.60    kg/hr   \n",
       "3                process_water_rate     252.00     L/hr   \n",
       "4                cooling_water_rate  237847.00     L/hr   \n",
       "5               co2_production_rate       4.50    kg/hr   \n",
       "6                    plant_lifetime      20.00    years   \n",
       "7                   capacity_factor      91.00  percent   \n",
       "8               reactor_temperature    2000.00  celsius   \n",
       "9                  reactor_pressure       2.07      bar   \n",
       "10                power_requirement   14481.00       kW   \n",
       "\n",
       "                       source                             notes  \n",
       "0           ASPEN FEED stream  renewable natural gas input rate  \n",
       "1        ASPEN HYDPROD stream         Purified hydrogen product  \n",
       "2         ASPEN CARBON stream              Solid carbon product  \n",
       "3            Absorption tower               Process water input  \n",
       "4      Cooler 1-3 and Flash 1               Cooling water input  \n",
       "5    ASPEN net CO2 production        CO2 byproduct from reactor  \n",
       "6          Financial analysis         Economic evaluation basis  \n",
       "7           industry standard  percentage actual operating time  \n",
       "8          ASPEN R1OUT stream               Pentacarbon reactor  \n",
       "9          ASPEN R1OUT stream        Slightly above atmospheric  \n",
       "10         process simulation     Reactor + compression + pumps  "
      ]
     },
     "metadata": {},
     "output_type": "display_data"
    },
    {
     "name": "stdout",
     "output_type": "stream",
     "text": [
      "\n",
      "================================================================================\n",
      "ECONOMIC ASSUMPTIONS (from Financial Analysis)\n",
      "================================================================================\n"
     ]
    },
    {
     "data": {
      "text/html": [
       "<div>\n",
       "<style scoped>\n",
       "    .dataframe tbody tr th:only-of-type {\n",
       "        vertical-align: middle;\n",
       "    }\n",
       "\n",
       "    .dataframe tbody tr th {\n",
       "        vertical-align: top;\n",
       "    }\n",
       "\n",
       "    .dataframe thead th {\n",
       "        text-align: right;\n",
       "    }\n",
       "</style>\n",
       "<table border=\"1\" class=\"dataframe\">\n",
       "  <thead>\n",
       "    <tr style=\"text-align: right;\">\n",
       "      <th></th>\n",
       "      <th>parameter</th>\n",
       "      <th>value</th>\n",
       "      <th>unit</th>\n",
       "      <th>notes</th>\n",
       "      <th>calculation_basis</th>\n",
       "    </tr>\n",
       "  </thead>\n",
       "  <tbody>\n",
       "    <tr>\n",
       "      <th>0</th>\n",
       "      <td>rng_price</td>\n",
       "      <td>1.800000e-01</td>\n",
       "      <td>USD/kg</td>\n",
       "      <td>Renewable natural gas 2025</td>\n",
       "      <td>Updated from $0.16</td>\n",
       "    </tr>\n",
       "    <tr>\n",
       "      <th>1</th>\n",
       "      <td>electricity_price</td>\n",
       "      <td>7.000000e-02</td>\n",
       "      <td>USD/kWh</td>\n",
       "      <td>Industrial rate 2025</td>\n",
       "      <td>Updated from $0.07</td>\n",
       "    </tr>\n",
       "    <tr>\n",
       "      <th>2</th>\n",
       "      <td>hydrogen_price</td>\n",
       "      <td>4.000000e+00</td>\n",
       "      <td>USD/kg</td>\n",
       "      <td>Wholesale price 2025</td>\n",
       "      <td>Updated from $3.18</td>\n",
       "    </tr>\n",
       "    <tr>\n",
       "      <th>3</th>\n",
       "      <td>acetylene_black_price</td>\n",
       "      <td>2.200000e+00</td>\n",
       "      <td>USD/kg</td>\n",
       "      <td>Premium carbon black 2025</td>\n",
       "      <td>Updated from $2.00</td>\n",
       "    </tr>\n",
       "    <tr>\n",
       "      <th>4</th>\n",
       "      <td>cooling_water_price</td>\n",
       "      <td>2.700000e-05</td>\n",
       "      <td>USD/L</td>\n",
       "      <td>Utility cost</td>\n",
       "      <td>Industrial water rate</td>\n",
       "    </tr>\n",
       "    <tr>\n",
       "      <th>5</th>\n",
       "      <td>process_water_price</td>\n",
       "      <td>2.700000e-04</td>\n",
       "      <td>USD/L</td>\n",
       "      <td>Utility cost</td>\n",
       "      <td>Treated water rate</td>\n",
       "    </tr>\n",
       "    <tr>\n",
       "      <th>6</th>\n",
       "      <td>discount_rate</td>\n",
       "      <td>1.500000e+01</td>\n",
       "      <td>percent</td>\n",
       "      <td>WACC assumption</td>\n",
       "      <td>For NPV calculation</td>\n",
       "    </tr>\n",
       "    <tr>\n",
       "      <th>7</th>\n",
       "      <td>depreciation_rate</td>\n",
       "      <td>8.000000e+00</td>\n",
       "      <td>percent</td>\n",
       "      <td>straight-line depreciation</td>\n",
       "      <td>Annual depreciation expense</td>\n",
       "    </tr>\n",
       "    <tr>\n",
       "      <th>8</th>\n",
       "      <td>average_salvage_value</td>\n",
       "      <td>1.000000e+01</td>\n",
       "      <td>percent</td>\n",
       "      <td>average end of life asset value</td>\n",
       "      <td>Percent of initial capital cost</td>\n",
       "    </tr>\n",
       "    <tr>\n",
       "      <th>9</th>\n",
       "      <td>general_variable_expense_rate</td>\n",
       "      <td>1.155000e+01</td>\n",
       "      <td>percent</td>\n",
       "      <td>selling/transfer/admin/research/incentive</td>\n",
       "      <td>percent of total revenue</td>\n",
       "    </tr>\n",
       "    <tr>\n",
       "      <th>10</th>\n",
       "      <td>operators_per_shift</td>\n",
       "      <td>1.000000e+00</td>\n",
       "      <td>operators/shift</td>\n",
       "      <td>Plant Operators</td>\n",
       "      <td>number of operators per shift</td>\n",
       "    </tr>\n",
       "    <tr>\n",
       "      <th>11</th>\n",
       "      <td>shifts_per_day</td>\n",
       "      <td>5.000000e+00</td>\n",
       "      <td>shifts/day</td>\n",
       "      <td>Shifts per Day</td>\n",
       "      <td>number of shifts per day</td>\n",
       "    </tr>\n",
       "    <tr>\n",
       "      <th>12</th>\n",
       "      <td>direct_hourly_wages</td>\n",
       "      <td>4.000000e+01</td>\n",
       "      <td>USD/hour</td>\n",
       "      <td>Direct Wages</td>\n",
       "      <td>hourly wage per operator</td>\n",
       "    </tr>\n",
       "    <tr>\n",
       "      <th>13</th>\n",
       "      <td>equipment_purchase_cost</td>\n",
       "      <td>1.400000e+07</td>\n",
       "      <td>USD</td>\n",
       "      <td>Total equipment purchase cost</td>\n",
       "      <td>Sum of major equipment items</td>\n",
       "    </tr>\n",
       "    <tr>\n",
       "      <th>14</th>\n",
       "      <td>bare_module_factor</td>\n",
       "      <td>3.210000e+00</td>\n",
       "      <td>NaN</td>\n",
       "      <td>Bare module cost factor</td>\n",
       "      <td>Includes installation/piping/instrumentation/e...</td>\n",
       "    </tr>\n",
       "    <tr>\n",
       "      <th>15</th>\n",
       "      <td>average_salvage_rate</td>\n",
       "      <td>1.000000e+01</td>\n",
       "      <td>percent</td>\n",
       "      <td>average end of life asset value</td>\n",
       "      <td>Percent of initial capital cost</td>\n",
       "    </tr>\n",
       "  </tbody>\n",
       "</table>\n",
       "</div>"
      ],
      "text/plain": [
       "                        parameter         value             unit  \\\n",
       "0                       rng_price  1.800000e-01           USD/kg   \n",
       "1               electricity_price  7.000000e-02          USD/kWh   \n",
       "2                  hydrogen_price  4.000000e+00           USD/kg   \n",
       "3           acetylene_black_price  2.200000e+00           USD/kg   \n",
       "4             cooling_water_price  2.700000e-05            USD/L   \n",
       "5             process_water_price  2.700000e-04            USD/L   \n",
       "6                   discount_rate  1.500000e+01          percent   \n",
       "7               depreciation_rate  8.000000e+00          percent   \n",
       "8           average_salvage_value  1.000000e+01          percent   \n",
       "9   general_variable_expense_rate  1.155000e+01          percent   \n",
       "10            operators_per_shift  1.000000e+00  operators/shift   \n",
       "11                 shifts_per_day  5.000000e+00       shifts/day   \n",
       "12            direct_hourly_wages  4.000000e+01         USD/hour   \n",
       "13        equipment_purchase_cost  1.400000e+07              USD   \n",
       "14             bare_module_factor  3.210000e+00              NaN   \n",
       "15           average_salvage_rate  1.000000e+01          percent   \n",
       "\n",
       "                                        notes  \\\n",
       "0                  Renewable natural gas 2025   \n",
       "1                        Industrial rate 2025   \n",
       "2                        Wholesale price 2025   \n",
       "3                   Premium carbon black 2025   \n",
       "4                                Utility cost   \n",
       "5                                Utility cost   \n",
       "6                             WACC assumption   \n",
       "7                  straight-line depreciation   \n",
       "8             average end of life asset value   \n",
       "9   selling/transfer/admin/research/incentive   \n",
       "10                            Plant Operators   \n",
       "11                             Shifts per Day   \n",
       "12                               Direct Wages   \n",
       "13              Total equipment purchase cost   \n",
       "14                    Bare module cost factor   \n",
       "15            average end of life asset value   \n",
       "\n",
       "                                    calculation_basis  \n",
       "0                                  Updated from $0.16  \n",
       "1                                  Updated from $0.07  \n",
       "2                                  Updated from $3.18  \n",
       "3                                  Updated from $2.00  \n",
       "4                               Industrial water rate  \n",
       "5                                  Treated water rate  \n",
       "6                                 For NPV calculation  \n",
       "7                         Annual depreciation expense  \n",
       "8                     Percent of initial capital cost  \n",
       "9                            percent of total revenue  \n",
       "10                      number of operators per shift  \n",
       "11                           number of shifts per day  \n",
       "12                           hourly wage per operator  \n",
       "13                       Sum of major equipment items  \n",
       "14  Includes installation/piping/instrumentation/e...  \n",
       "15                    Percent of initial capital cost  "
      ]
     },
     "metadata": {},
     "output_type": "display_data"
    },
    {
     "name": "stdout",
     "output_type": "stream",
     "text": [
      "\n",
      "================================================================================\n",
      "SENSITIVITY ANALYSIS RANGES\n",
      "================================================================================\n"
     ]
    },
    {
     "data": {
      "text/html": [
       "<div>\n",
       "<style scoped>\n",
       "    .dataframe tbody tr th:only-of-type {\n",
       "        vertical-align: middle;\n",
       "    }\n",
       "\n",
       "    .dataframe tbody tr th {\n",
       "        vertical-align: top;\n",
       "    }\n",
       "\n",
       "    .dataframe thead th {\n",
       "        text-align: right;\n",
       "    }\n",
       "</style>\n",
       "<table border=\"1\" class=\"dataframe\">\n",
       "  <thead>\n",
       "    <tr style=\"text-align: right;\">\n",
       "      <th></th>\n",
       "      <th>parameter</th>\n",
       "      <th>base_value</th>\n",
       "      <th>low_value</th>\n",
       "      <th>high_value</th>\n",
       "      <th>unit</th>\n",
       "      <th>notes</th>\n",
       "    </tr>\n",
       "  </thead>\n",
       "  <tbody>\n",
       "    <tr>\n",
       "      <th>0</th>\n",
       "      <td>electricity_price</td>\n",
       "      <td>0.07</td>\n",
       "      <td>0.04</td>\n",
       "      <td>0.10</td>\n",
       "      <td>USD/kWh</td>\n",
       "      <td>Regional variation ±40%</td>\n",
       "    </tr>\n",
       "    <tr>\n",
       "      <th>1</th>\n",
       "      <td>hydrogen_price</td>\n",
       "      <td>4.00</td>\n",
       "      <td>2.00</td>\n",
       "      <td>6.00</td>\n",
       "      <td>USD/kg</td>\n",
       "      <td>Market volatility scenarios</td>\n",
       "    </tr>\n",
       "    <tr>\n",
       "      <th>2</th>\n",
       "      <td>acetylene_black_price</td>\n",
       "      <td>2.00</td>\n",
       "      <td>1.00</td>\n",
       "      <td>3.00</td>\n",
       "      <td>USD/kg</td>\n",
       "      <td>Grade and market dependent</td>\n",
       "    </tr>\n",
       "    <tr>\n",
       "      <th>3</th>\n",
       "      <td>rng_price</td>\n",
       "      <td>0.16</td>\n",
       "      <td>0.10</td>\n",
       "      <td>0.22</td>\n",
       "      <td>USD/kg</td>\n",
       "      <td>Feedstock cost variation</td>\n",
       "    </tr>\n",
       "    <tr>\n",
       "      <th>4</th>\n",
       "      <td>capex_total</td>\n",
       "      <td>45000000.00</td>\n",
       "      <td>30000000.00</td>\n",
       "      <td>60000000.00</td>\n",
       "      <td>USD</td>\n",
       "      <td>±33% contingency</td>\n",
       "    </tr>\n",
       "    <tr>\n",
       "      <th>5</th>\n",
       "      <td>carbon_conversion</td>\n",
       "      <td>90.00</td>\n",
       "      <td>85.00</td>\n",
       "      <td>95.00</td>\n",
       "      <td>percent</td>\n",
       "      <td>Process performance range</td>\n",
       "    </tr>\n",
       "    <tr>\n",
       "      <th>6</th>\n",
       "      <td>capacity_factor</td>\n",
       "      <td>91.70</td>\n",
       "      <td>85.00</td>\n",
       "      <td>95.00</td>\n",
       "      <td>percent</td>\n",
       "      <td>Operational reliability</td>\n",
       "    </tr>\n",
       "    <tr>\n",
       "      <th>7</th>\n",
       "      <td>discount_rate</td>\n",
       "      <td>15.00</td>\n",
       "      <td>10.00</td>\n",
       "      <td>20.00</td>\n",
       "      <td>percent</td>\n",
       "      <td>Financial assumption range</td>\n",
       "    </tr>\n",
       "  </tbody>\n",
       "</table>\n",
       "</div>"
      ],
      "text/plain": [
       "               parameter   base_value    low_value   high_value     unit  \\\n",
       "0      electricity_price         0.07         0.04         0.10  USD/kWh   \n",
       "1         hydrogen_price         4.00         2.00         6.00   USD/kg   \n",
       "2  acetylene_black_price         2.00         1.00         3.00   USD/kg   \n",
       "3              rng_price         0.16         0.10         0.22   USD/kg   \n",
       "4            capex_total  45000000.00  30000000.00  60000000.00      USD   \n",
       "5      carbon_conversion        90.00        85.00        95.00  percent   \n",
       "6        capacity_factor        91.70        85.00        95.00  percent   \n",
       "7          discount_rate        15.00        10.00        20.00  percent   \n",
       "\n",
       "                         notes  \n",
       "0      Regional variation ±40%  \n",
       "1  Market volatility scenarios  \n",
       "2   Grade and market dependent  \n",
       "3     Feedstock cost variation  \n",
       "4             ±33% contingency  \n",
       "5    Process performance range  \n",
       "6      Operational reliability  \n",
       "7   Financial assumption range  "
      ]
     },
     "metadata": {},
     "output_type": "display_data"
    }
   ],
   "source": [
    "# load csv data, define a function to extract values, display dataframes\n",
    "process_params = pd.read_csv('data/process_parameters.csv')\n",
    "econ_assumptions = pd.read_csv('data/economic_assumptions.csv')\n",
    "sensitivity_ranges = pd.read_csv('data/sensitivity_ranges.csv')\n",
    "\n",
    "def get_value(df, param_name):\n",
    "    return df[df['parameter'] == param_name]['value'].values[0]\n",
    "\n",
    "print(\"=\"*80)\n",
    "print(\"PROCESS PARAMETERS (from ASPEN Plus Simulation)\")\n",
    "print(\"=\"*80)\n",
    "display(process_params)\n",
    "\n",
    "print(\"\\n\" + \"=\"*80)\n",
    "print(\"ECONOMIC ASSUMPTIONS (from Financial Analysis)\")\n",
    "print(\"=\"*80)\n",
    "display(econ_assumptions)\n",
    "\n",
    "print(\"\\n\" + \"=\"*80)\n",
    "print(\"SENSITIVITY ANALYSIS RANGES\")\n",
    "print(\"=\"*80)\n",
    "display(sensitivity_ranges)"
   ]
  },
  {
   "cell_type": "code",
   "execution_count": 1598,
   "id": "fde48952",
   "metadata": {},
   "outputs": [],
   "source": [
    "# extract parameters for key metric calculations\n",
    "\n",
    "# process parameters\n",
    "# hydrogen_production_rate = get_value(process_params, 'hydrogen_production_rate')  # kg/hr\n",
    "# acetylene_black_production_rate = get_value(process_params, 'acetylene_black_production_rate')  # kg/hr\n",
    "# annual_operating_days = get_value(process_params, 'annual_operating_days')\n",
    "# plant_lifetime = get_value(process_params, 'plant_lifetime')\n",
    "# capacity_factor = get_value(process_params, 'plant_capacity_factor') / 100\n",
    "# energy_per_kg_h2 = get_value(process_params, 'energy_per_kg_h2')\n",
    "# co2_per_kg_h2 = get_value(process_params, 'co2_per_kg_h2')\n",
    "# water_per_kg_h2 = get_value(process_params, 'water_per_kg_h2')\n",
    "\n",
    "# prices\n",
    "# h2_price = get_value(econ_assumptions, 'hydrogen_price')\n",
    "# cb_price = get_value(econ_assumptions, 'acetylene_black_price')\n",
    "# electricity_price = get_value(econ_assumptions, 'electricity_price')\n",
    "# rng_price = get_value(econ_assumptions, 'rng_price')\n",
    "# discount_rate = get_value(econ_assumptions, 'discount_rate') / 100\n",
    "\n",
    "# calculate economic parameters\n",
    "# capex = get_value(econ_assumptions, 'capex_total')\n",
    "# h2_revenue = get_value(econ_assumptions, 'annual_hydrogen_revenue')\n",
    "# cb_revenue = get_value(econ_assumptions, 'annual_acetylene_black_revenue')\n",
    "# #total_revenue = get_value(econ_assumptions, 'total_annual_revenue')\n",
    "# variable_costs = get_value(econ_assumptions, 'total_annual_variable_costs')\n",
    "# gross_margin = get_value(econ_assumptions, 'annual_gross_margin')\n",
    "# npv = get_value(econ_assumptions, 'npv_20_year')\n",
    "# irr = get_value(econ_assumptions, 'irr')\n",
    "# payback = get_value(econ_assumptions, 'payback_period')\n",
    "# lcoh = get_value(econ_assumptions, 'lcoh')\n"
   ]
  },
  {
   "cell_type": "code",
   "execution_count": 1599,
   "id": "5a07ec0b",
   "metadata": {},
   "outputs": [],
   "source": [
    "# #calculate key metrics and print summary\n",
    "\n",
    "# #process\n",
    "# operating_hours = annual_operating_days * 24\n",
    "# annual_h2_rate = h2_rate * operating_hours\n",
    "\n",
    "# h2_revenue = h2_price * h2_annual\n",
    "# cb_revenue = cb_price * cb_annual\n",
    "\n",
    "# print(\"=\"*80)\n",
    "# print(\"KEY PERFORMANCE METRICS\")\n",
    "# print(\"=\"*80)\n",
    "\n",
    "# print(f\"\\n📊 PRODUCTION CAPACITY:\")\n",
    "# print(f\"   Hydrogen: {h2_rate:,.1f} kg/hr = {h2_annual/1000:,.1f} tonnes/year\")\n",
    "# print(f\"   Acetylene Black: {cb_rate:,.1f} kg/hr = {cb_annual/1000:,.1f} tonnes/year\")\n",
    "# print(f\"   Capacity Factor: {capacity_factor*100:.1f}%\")\n",
    "# print(f\"   Operating Hours: {operating_hours:,.0f} hrs/year\")\n",
    "\n",
    "# print(f\"\\n💰 FINANCIAL PERFORMANCE:\")\n",
    "# print(f\"   Total CapEx: ${capex/1e6:.2f} million\")\n",
    "# print(f\"   Annual Revenue: ${total_revenue/1e6:.2f} million\")\n",
    "# print(f\"   Annual Variable Costs: ${variable_costs/1e6:.2f} million\")\n",
    "# print(f\"   Gross Margin: ${gross_margin/1e6:.2f} million ({gross_margin/total_revenue*100:.1f}%)\")\n",
    "# print(f\"   NPV (20 yr, 15%): ${npv/1e6:.2f} million\")\n",
    "# print(f\"   IRR: {irr:.2f}%\")\n",
    "# print(f\"   Payback: {payback:.1f} years\")\n",
    "# print(f\"   LCOH: ${lcoh:.2f}/kg H₂\")\n",
    "\n",
    "# print(f\"\\n💵 MARKET PRICES:\")\n",
    "# print(f\"   Hydrogen: ${h2_price}/kg (wholesale)\")\n",
    "# print(f\"   Acetylene Black: ${cb_price}/kg (premium grade)\")\n",
    "# print(f\"   Electricity: ${electricity_price}/kWh\")\n",
    "# print(f\"   RNG Feedstock: ${rng_price}/kg\")\n",
    "\n",
    "# print(f\"\\n🌍 ENVIRONMENTAL:\")\n",
    "# print(f\"   CO₂ Intensity: {co2_per_kg_h2} kg CO₂eq/kg H₂\")\n",
    "# print(f\"   Water Intensity: {water_per_kg_h2} kg H₂O/kg H₂\")\n",
    "# print(f\"   Energy Intensity: {energy_per_kg_h2} kWh/kg H₂\")\n",
    "\n",
    "# # revenue breakdown\n",
    "# h2_revenue_pct = h2_revenue / total_revenue * 100\n",
    "# cb_revenue_pct = cb_revenue / total_revenue * 100\n",
    "# print(f\"\\n📈 REVENUE MIX:\")\n",
    "# print(f\"   Hydrogen: {h2_revenue_pct:.1f}% (${h2_revenue/1e6:.2f}M)\")\n",
    "# print(f\"   Acetylene Black: {cb_revenue_pct:.1f}% (${cb_revenue/1e6:.2f}M)\")\n",
    "\n"
   ]
  },
  {
   "cell_type": "code",
   "execution_count": 1600,
   "id": "e82f3548",
   "metadata": {},
   "outputs": [],
   "source": [
    "# Extract process parameters and economic inputs\n",
    "\n",
    "#process\n",
    "rng_feed_rate = get_value(process_params, 'rng_feed_rate')  # kg/hr\n",
    "h2_rate = get_value(process_params, 'hydrogen_production_rate')  # kg/hr\n",
    "cb_rate = get_value(process_params, 'acetylene_black_production_rate')  # kg/hr\n",
    "co2_rate = get_value(process_params, 'co2_production_rate')  # kg/hr\n",
    "process_water_rate = get_value(process_params, 'process_water_rate')  # L/hr\n",
    "cooling_water_rate = get_value(process_params, 'cooling_water_rate')  # L/hr\n",
    "energy_rate = get_value(process_params, 'power_requirement')  # kW\n",
    "capacity_factor = get_value(process_params, 'capacity_factor') # percent\n",
    "plant_lifetime = get_value(process_params, 'plant_lifetime') # years\n",
    "\n",
    "#econ\n",
    "h2_price = get_value(econ_assumptions, 'hydrogen_price') # usd per kg\n",
    "cb_price = get_value(econ_assumptions, 'acetylene_black_price') # usd per kg\n",
    "electricity_price = get_value(econ_assumptions, 'electricity_price') # usd per kWh\n",
    "rng_price = get_value(econ_assumptions, 'rng_price') # usd per kg\n",
    "cooling_water_price = get_value(econ_assumptions, 'cooling_water_price') # usd per L\n",
    "process_water_price = get_value(econ_assumptions, 'process_water_price') # usd per L\n",
    "equipment_purchase_cost = get_value(econ_assumptions, 'equipment_purchase_cost') # usd\n",
    "bare_module_factor = get_value(econ_assumptions, 'bare_module_factor') # to calculate total installed cost\n",
    "discount_rate = get_value(econ_assumptions, 'discount_rate') / 100 # as decimal\n",
    "general_variable_expense_rate = get_value(econ_assumptions, 'general_variable_expense_rate') / 100 # as decimal\n",
    "salvage_rate = get_value(econ_assumptions, 'average_salvage_rate') # percent\n",
    "operators_per_shift = get_value(econ_assumptions, 'operators_per_shift') # number of operators per shift\n",
    "shifts_per_day = get_value(econ_assumptions, 'shifts_per_day') # number of shifts per day\n",
    "direct_hourly_wages = get_value(econ_assumptions, 'direct_hourly_wages') # usd per operator per hour"
   ]
  },
  {
   "cell_type": "code",
   "execution_count": 1601,
   "id": "3c79199f",
   "metadata": {},
   "outputs": [
    {
     "name": "stdout",
     "output_type": "stream",
     "text": [
      "================================================================================\n",
      "INITIAL PERFORMANCE METRICS\n",
      "================================================================================\n",
      "\n",
      "📊 PRODUCTION CAPACITY:\n",
      "   Hydrogen: 393.1 kg/hr = 3,133.6 tonnes/year\n",
      "   Acetylene Black: 824.6 kg/hr = 6,573.4 tonnes/year\n",
      "   Capacity Factor: 91.0%\n",
      "   Operating Hours: 7,972 hrs/year\n",
      "\n",
      "💰 FINANCIAL PERFORMANCE:\n",
      "   Total CapEx: $44.94 million\n",
      "   Annual Revenue: $27.00 million\n",
      "   Annual Variable Costs: $10.87 million\n",
      "   Gross Margin: $16.12 million (59.7%)\n",
      "   LCOH: $3.13/kg H₂\n",
      "\n",
      "💵 MARKET PRICES:\n",
      "   Hydrogen: $4.0/kg (wholesale)\n",
      "   Acetylene Black: $2.2/kg (premium grade)\n",
      "   Electricity: $0.07/kWh\n",
      "   RNG Feedstock: $0.18/kg\n",
      "\n",
      "🌍 ENVIRONMENTAL:\n",
      "   CO₂ Intensity: 0.01 kg CO₂eq/kg H₂\n",
      "   Water Intensity: 0.64 kg H₂O/kg H₂\n",
      "   Energy Intensity: 36.84 kWh/kg H₂\n"
     ]
    }
   ],
   "source": [
    "# calculate initial metrics and display\n",
    "\n",
    "#process\n",
    "annual_operating_days = 365 * capacity_factor / 100\n",
    "annual_operating_hours = annual_operating_days * 24\n",
    "hydrogen_production = h2_rate * annual_operating_hours  # kg/year\n",
    "acetylene_black_production = cb_rate * annual_operating_hours  # kg/year\n",
    "co2_per_h2 = co2_rate / h2_rate  # kg CO2/kg H2\n",
    "h2o_per_h2 = process_water_rate / h2_rate  # kg H2O/kg H2\n",
    "energy_per_h2 = energy_rate / h2_rate  # kWh/kg H2\n",
    "\n",
    "#econ\n",
    "#revenue\n",
    "h2_revenue = h2_price * hydrogen_production # usd/year\n",
    "cb_revenue = cb_price * acetylene_black_production # usd/year\n",
    "total_revenue = h2_revenue + cb_revenue # usd/year\n",
    "\n",
    "#variable costs\n",
    "electricity_cost = electricity_price * (energy_rate * annual_operating_hours) # usd/year\n",
    "rng_cost = rng_price * rng_feed_rate * annual_operating_hours # usd/year\n",
    "cooling_water_cost = cooling_water_price * cooling_water_rate * annual_operating_hours # usd/year\n",
    "process_water_cost = process_water_price * process_water_rate * annual_operating_hours # usd/year\n",
    "general_variable_expenses = general_variable_expense_rate / 100 * total_revenue # usd/year, includes selling/transfer expenses, research, admin expenses, management incentives\n",
    "variable_opex = electricity_cost + rng_cost + process_water_cost + general_variable_expenses # usd/year\n",
    "\n",
    "#fixed costs\n",
    "capex = equipment_purchase_cost * bare_module_factor # usd, total installed cost\n",
    "labor_cost = operators_per_shift * shifts_per_day * direct_hourly_wages * annual_operating_days # usd/year\n",
    "operations_cost = .21 * direct_hourly_wages * operators_per_shift * shifts_per_day * annual_operating_days + 125000 # 21% of direct wages + 125,000 usd/year technical assistance\n",
    "maintenance_cost = .1035 * capex # 10.35% of capex, including salaries and benefits, materials and services, overhead\n",
    "operating_overhead = .0103 * capex # 1.03% of capex, including general plant overhead, mechanical department services, employee relations, business services\n",
    "taxes_insurance = .02 * capex # 2% of capex for taxes and insurance\n",
    "fixed_opex = labor_cost + operations_cost + maintenance_cost + operating_overhead + taxes_insurance # usd/year\n",
    "\n",
    "crf = discount_rate * (1 + discount_rate) ** plant_lifetime / ((1 + discount_rate) ** plant_lifetime - 1)  # capital recovery factor\n",
    "annual_capex = capex * crf # usd/year\n",
    "gross_margin = total_revenue - variable_opex # usd/year\n",
    "lcoh = (variable_opex + fixed_opex + annual_capex - cb_revenue) / hydrogen_production  # usd/kg H2\n",
    "\n",
    "print(\"=\"*80)\n",
    "print(\"INITIAL PERFORMANCE METRICS\")\n",
    "print(\"=\"*80)\n",
    "\n",
    "print(f\"\\n📊 PRODUCTION CAPACITY:\")\n",
    "print(f\"   Hydrogen: {h2_rate:,.1f} kg/hr = {hydrogen_production/1000:,.1f} tonnes/year\")\n",
    "print(f\"   Acetylene Black: {cb_rate:,.1f} kg/hr = {acetylene_black_production/1000:,.1f} tonnes/year\")\n",
    "print(f\"   Capacity Factor: {capacity_factor:.1f}%\")\n",
    "print(f\"   Operating Hours: {annual_operating_hours:,.0f} hrs/year\")\n",
    "\n",
    "print(f\"\\n💰 FINANCIAL PERFORMANCE:\")\n",
    "print(f\"   Total CapEx: ${capex/1e6:.2f} million\")\n",
    "print(f\"   Annual Revenue: ${total_revenue/1e6:.2f} million\")\n",
    "print(f\"   Annual Variable Costs: ${variable_opex/1e6:.2f} million\")\n",
    "print(f\"   Gross Margin: ${gross_margin/1e6:.2f} million ({gross_margin/total_revenue*100:.1f}%)\")\n",
    "print(f\"   LCOH: ${lcoh:.2f}/kg H₂\")\n",
    "\n",
    "print(f\"\\n💵 MARKET PRICES:\")\n",
    "print(f\"   Hydrogen: ${h2_price}/kg (wholesale)\")\n",
    "print(f\"   Acetylene Black: ${cb_price}/kg (premium grade)\")\n",
    "print(f\"   Electricity: ${electricity_price}/kWh\")\n",
    "print(f\"   RNG Feedstock: ${rng_price}/kg\")\n",
    "\n",
    "print(f\"\\n🌍 ENVIRONMENTAL:\")\n",
    "print(f\"   CO₂ Intensity: {co2_per_h2:.2f} kg CO₂eq/kg H₂\")\n",
    "print(f\"   Water Intensity: {h2o_per_h2:.2f} kg H₂O/kg H₂\")\n",
    "print(f\"   Energy Intensity: {energy_per_h2:.2f} kWh/kg H₂\")"
   ]
  },
  {
   "cell_type": "code",
   "execution_count": 1602,
   "id": "5f286800",
   "metadata": {},
   "outputs": [
    {
     "data": {
      "application/vnd.plotly.v1+json": {
       "config": {
        "plotlyServerURL": "https://plot.ly"
       },
       "data": [
        {
         "marker": {
          "color": [
           "#3498db",
           "#95a5a6"
          ]
         },
         "showlegend": false,
         "text": [
          "$12.5M",
          "$14.5M"
         ],
         "textposition": "outside",
         "type": "bar",
         "x": [
          "Hydrogen",
          "Acetylene Black"
         ],
         "xaxis": "x",
         "y": {
          "bdata": "rkfh+mHoZ0HJdr7fP5VrQQ==",
          "dtype": "f8"
         },
         "yaxis": "y"
        },
        {
         "domain": {
          "x": [
           0.55,
           1
          ],
          "y": [
           0,
           1
          ]
         },
         "labels": [
          "Hydrogen",
          "Acetylene Black"
         ],
         "marker": {
          "colors": [
           "#3498db",
           "#95a5a6"
          ]
         },
         "showlegend": false,
         "textinfo": "label+percent",
         "type": "pie",
         "values": {
          "bdata": "rkfh+mHoZ0HJdr7fP5VrQQ==",
          "dtype": "f8"
         }
        }
       ],
       "layout": {
        "annotations": [
         {
          "font": {
           "size": 16
          },
          "showarrow": false,
          "text": "Annual Revenue by Product",
          "x": 0.225,
          "xanchor": "center",
          "xref": "paper",
          "y": 1,
          "yanchor": "bottom",
          "yref": "paper"
         },
         {
          "font": {
           "size": 16
          },
          "showarrow": false,
          "text": "Revenue Mix",
          "x": 0.775,
          "xanchor": "center",
          "xref": "paper",
          "y": 1,
          "yanchor": "bottom",
          "yref": "paper"
         }
        ],
        "height": 400,
        "showlegend": false,
        "template": {
         "data": {
          "bar": [
           {
            "error_x": {
             "color": "#2a3f5f"
            },
            "error_y": {
             "color": "#2a3f5f"
            },
            "marker": {
             "line": {
              "color": "#E5ECF6",
              "width": 0.5
             },
             "pattern": {
              "fillmode": "overlay",
              "size": 10,
              "solidity": 0.2
             }
            },
            "type": "bar"
           }
          ],
          "barpolar": [
           {
            "marker": {
             "line": {
              "color": "#E5ECF6",
              "width": 0.5
             },
             "pattern": {
              "fillmode": "overlay",
              "size": 10,
              "solidity": 0.2
             }
            },
            "type": "barpolar"
           }
          ],
          "carpet": [
           {
            "aaxis": {
             "endlinecolor": "#2a3f5f",
             "gridcolor": "white",
             "linecolor": "white",
             "minorgridcolor": "white",
             "startlinecolor": "#2a3f5f"
            },
            "baxis": {
             "endlinecolor": "#2a3f5f",
             "gridcolor": "white",
             "linecolor": "white",
             "minorgridcolor": "white",
             "startlinecolor": "#2a3f5f"
            },
            "type": "carpet"
           }
          ],
          "choropleth": [
           {
            "colorbar": {
             "outlinewidth": 0,
             "ticks": ""
            },
            "type": "choropleth"
           }
          ],
          "contour": [
           {
            "colorbar": {
             "outlinewidth": 0,
             "ticks": ""
            },
            "colorscale": [
             [
              0,
              "#0d0887"
             ],
             [
              0.1111111111111111,
              "#46039f"
             ],
             [
              0.2222222222222222,
              "#7201a8"
             ],
             [
              0.3333333333333333,
              "#9c179e"
             ],
             [
              0.4444444444444444,
              "#bd3786"
             ],
             [
              0.5555555555555556,
              "#d8576b"
             ],
             [
              0.6666666666666666,
              "#ed7953"
             ],
             [
              0.7777777777777778,
              "#fb9f3a"
             ],
             [
              0.8888888888888888,
              "#fdca26"
             ],
             [
              1,
              "#f0f921"
             ]
            ],
            "type": "contour"
           }
          ],
          "contourcarpet": [
           {
            "colorbar": {
             "outlinewidth": 0,
             "ticks": ""
            },
            "type": "contourcarpet"
           }
          ],
          "heatmap": [
           {
            "colorbar": {
             "outlinewidth": 0,
             "ticks": ""
            },
            "colorscale": [
             [
              0,
              "#0d0887"
             ],
             [
              0.1111111111111111,
              "#46039f"
             ],
             [
              0.2222222222222222,
              "#7201a8"
             ],
             [
              0.3333333333333333,
              "#9c179e"
             ],
             [
              0.4444444444444444,
              "#bd3786"
             ],
             [
              0.5555555555555556,
              "#d8576b"
             ],
             [
              0.6666666666666666,
              "#ed7953"
             ],
             [
              0.7777777777777778,
              "#fb9f3a"
             ],
             [
              0.8888888888888888,
              "#fdca26"
             ],
             [
              1,
              "#f0f921"
             ]
            ],
            "type": "heatmap"
           }
          ],
          "histogram": [
           {
            "marker": {
             "pattern": {
              "fillmode": "overlay",
              "size": 10,
              "solidity": 0.2
             }
            },
            "type": "histogram"
           }
          ],
          "histogram2d": [
           {
            "colorbar": {
             "outlinewidth": 0,
             "ticks": ""
            },
            "colorscale": [
             [
              0,
              "#0d0887"
             ],
             [
              0.1111111111111111,
              "#46039f"
             ],
             [
              0.2222222222222222,
              "#7201a8"
             ],
             [
              0.3333333333333333,
              "#9c179e"
             ],
             [
              0.4444444444444444,
              "#bd3786"
             ],
             [
              0.5555555555555556,
              "#d8576b"
             ],
             [
              0.6666666666666666,
              "#ed7953"
             ],
             [
              0.7777777777777778,
              "#fb9f3a"
             ],
             [
              0.8888888888888888,
              "#fdca26"
             ],
             [
              1,
              "#f0f921"
             ]
            ],
            "type": "histogram2d"
           }
          ],
          "histogram2dcontour": [
           {
            "colorbar": {
             "outlinewidth": 0,
             "ticks": ""
            },
            "colorscale": [
             [
              0,
              "#0d0887"
             ],
             [
              0.1111111111111111,
              "#46039f"
             ],
             [
              0.2222222222222222,
              "#7201a8"
             ],
             [
              0.3333333333333333,
              "#9c179e"
             ],
             [
              0.4444444444444444,
              "#bd3786"
             ],
             [
              0.5555555555555556,
              "#d8576b"
             ],
             [
              0.6666666666666666,
              "#ed7953"
             ],
             [
              0.7777777777777778,
              "#fb9f3a"
             ],
             [
              0.8888888888888888,
              "#fdca26"
             ],
             [
              1,
              "#f0f921"
             ]
            ],
            "type": "histogram2dcontour"
           }
          ],
          "mesh3d": [
           {
            "colorbar": {
             "outlinewidth": 0,
             "ticks": ""
            },
            "type": "mesh3d"
           }
          ],
          "parcoords": [
           {
            "line": {
             "colorbar": {
              "outlinewidth": 0,
              "ticks": ""
             }
            },
            "type": "parcoords"
           }
          ],
          "pie": [
           {
            "automargin": true,
            "type": "pie"
           }
          ],
          "scatter": [
           {
            "fillpattern": {
             "fillmode": "overlay",
             "size": 10,
             "solidity": 0.2
            },
            "type": "scatter"
           }
          ],
          "scatter3d": [
           {
            "line": {
             "colorbar": {
              "outlinewidth": 0,
              "ticks": ""
             }
            },
            "marker": {
             "colorbar": {
              "outlinewidth": 0,
              "ticks": ""
             }
            },
            "type": "scatter3d"
           }
          ],
          "scattercarpet": [
           {
            "marker": {
             "colorbar": {
              "outlinewidth": 0,
              "ticks": ""
             }
            },
            "type": "scattercarpet"
           }
          ],
          "scattergeo": [
           {
            "marker": {
             "colorbar": {
              "outlinewidth": 0,
              "ticks": ""
             }
            },
            "type": "scattergeo"
           }
          ],
          "scattergl": [
           {
            "marker": {
             "colorbar": {
              "outlinewidth": 0,
              "ticks": ""
             }
            },
            "type": "scattergl"
           }
          ],
          "scattermap": [
           {
            "marker": {
             "colorbar": {
              "outlinewidth": 0,
              "ticks": ""
             }
            },
            "type": "scattermap"
           }
          ],
          "scattermapbox": [
           {
            "marker": {
             "colorbar": {
              "outlinewidth": 0,
              "ticks": ""
             }
            },
            "type": "scattermapbox"
           }
          ],
          "scatterpolar": [
           {
            "marker": {
             "colorbar": {
              "outlinewidth": 0,
              "ticks": ""
             }
            },
            "type": "scatterpolar"
           }
          ],
          "scatterpolargl": [
           {
            "marker": {
             "colorbar": {
              "outlinewidth": 0,
              "ticks": ""
             }
            },
            "type": "scatterpolargl"
           }
          ],
          "scatterternary": [
           {
            "marker": {
             "colorbar": {
              "outlinewidth": 0,
              "ticks": ""
             }
            },
            "type": "scatterternary"
           }
          ],
          "surface": [
           {
            "colorbar": {
             "outlinewidth": 0,
             "ticks": ""
            },
            "colorscale": [
             [
              0,
              "#0d0887"
             ],
             [
              0.1111111111111111,
              "#46039f"
             ],
             [
              0.2222222222222222,
              "#7201a8"
             ],
             [
              0.3333333333333333,
              "#9c179e"
             ],
             [
              0.4444444444444444,
              "#bd3786"
             ],
             [
              0.5555555555555556,
              "#d8576b"
             ],
             [
              0.6666666666666666,
              "#ed7953"
             ],
             [
              0.7777777777777778,
              "#fb9f3a"
             ],
             [
              0.8888888888888888,
              "#fdca26"
             ],
             [
              1,
              "#f0f921"
             ]
            ],
            "type": "surface"
           }
          ],
          "table": [
           {
            "cells": {
             "fill": {
              "color": "#EBF0F8"
             },
             "line": {
              "color": "white"
             }
            },
            "header": {
             "fill": {
              "color": "#C8D4E3"
             },
             "line": {
              "color": "white"
             }
            },
            "type": "table"
           }
          ]
         },
         "layout": {
          "annotationdefaults": {
           "arrowcolor": "#2a3f5f",
           "arrowhead": 0,
           "arrowwidth": 1
          },
          "autotypenumbers": "strict",
          "coloraxis": {
           "colorbar": {
            "outlinewidth": 0,
            "ticks": ""
           }
          },
          "colorscale": {
           "diverging": [
            [
             0,
             "#8e0152"
            ],
            [
             0.1,
             "#c51b7d"
            ],
            [
             0.2,
             "#de77ae"
            ],
            [
             0.3,
             "#f1b6da"
            ],
            [
             0.4,
             "#fde0ef"
            ],
            [
             0.5,
             "#f7f7f7"
            ],
            [
             0.6,
             "#e6f5d0"
            ],
            [
             0.7,
             "#b8e186"
            ],
            [
             0.8,
             "#7fbc41"
            ],
            [
             0.9,
             "#4d9221"
            ],
            [
             1,
             "#276419"
            ]
           ],
           "sequential": [
            [
             0,
             "#0d0887"
            ],
            [
             0.1111111111111111,
             "#46039f"
            ],
            [
             0.2222222222222222,
             "#7201a8"
            ],
            [
             0.3333333333333333,
             "#9c179e"
            ],
            [
             0.4444444444444444,
             "#bd3786"
            ],
            [
             0.5555555555555556,
             "#d8576b"
            ],
            [
             0.6666666666666666,
             "#ed7953"
            ],
            [
             0.7777777777777778,
             "#fb9f3a"
            ],
            [
             0.8888888888888888,
             "#fdca26"
            ],
            [
             1,
             "#f0f921"
            ]
           ],
           "sequentialminus": [
            [
             0,
             "#0d0887"
            ],
            [
             0.1111111111111111,
             "#46039f"
            ],
            [
             0.2222222222222222,
             "#7201a8"
            ],
            [
             0.3333333333333333,
             "#9c179e"
            ],
            [
             0.4444444444444444,
             "#bd3786"
            ],
            [
             0.5555555555555556,
             "#d8576b"
            ],
            [
             0.6666666666666666,
             "#ed7953"
            ],
            [
             0.7777777777777778,
             "#fb9f3a"
            ],
            [
             0.8888888888888888,
             "#fdca26"
            ],
            [
             1,
             "#f0f921"
            ]
           ]
          },
          "colorway": [
           "#636efa",
           "#EF553B",
           "#00cc96",
           "#ab63fa",
           "#FFA15A",
           "#19d3f3",
           "#FF6692",
           "#B6E880",
           "#FF97FF",
           "#FECB52"
          ],
          "font": {
           "color": "#2a3f5f"
          },
          "geo": {
           "bgcolor": "white",
           "lakecolor": "white",
           "landcolor": "#E5ECF6",
           "showlakes": true,
           "showland": true,
           "subunitcolor": "white"
          },
          "hoverlabel": {
           "align": "left"
          },
          "hovermode": "closest",
          "mapbox": {
           "style": "light"
          },
          "paper_bgcolor": "white",
          "plot_bgcolor": "#E5ECF6",
          "polar": {
           "angularaxis": {
            "gridcolor": "white",
            "linecolor": "white",
            "ticks": ""
           },
           "bgcolor": "#E5ECF6",
           "radialaxis": {
            "gridcolor": "white",
            "linecolor": "white",
            "ticks": ""
           }
          },
          "scene": {
           "xaxis": {
            "backgroundcolor": "#E5ECF6",
            "gridcolor": "white",
            "gridwidth": 2,
            "linecolor": "white",
            "showbackground": true,
            "ticks": "",
            "zerolinecolor": "white"
           },
           "yaxis": {
            "backgroundcolor": "#E5ECF6",
            "gridcolor": "white",
            "gridwidth": 2,
            "linecolor": "white",
            "showbackground": true,
            "ticks": "",
            "zerolinecolor": "white"
           },
           "zaxis": {
            "backgroundcolor": "#E5ECF6",
            "gridcolor": "white",
            "gridwidth": 2,
            "linecolor": "white",
            "showbackground": true,
            "ticks": "",
            "zerolinecolor": "white"
           }
          },
          "shapedefaults": {
           "line": {
            "color": "#2a3f5f"
           }
          },
          "ternary": {
           "aaxis": {
            "gridcolor": "white",
            "linecolor": "white",
            "ticks": ""
           },
           "baxis": {
            "gridcolor": "white",
            "linecolor": "white",
            "ticks": ""
           },
           "bgcolor": "#E5ECF6",
           "caxis": {
            "gridcolor": "white",
            "linecolor": "white",
            "ticks": ""
           }
          },
          "title": {
           "x": 0.05
          },
          "xaxis": {
           "automargin": true,
           "gridcolor": "white",
           "linecolor": "white",
           "ticks": "",
           "title": {
            "standoff": 15
           },
           "zerolinecolor": "white",
           "zerolinewidth": 2
          },
          "yaxis": {
           "automargin": true,
           "gridcolor": "white",
           "linecolor": "white",
           "ticks": "",
           "title": {
            "standoff": 15
           },
           "zerolinecolor": "white",
           "zerolinewidth": 2
          }
         }
        },
        "title": {
         "text": "Revenue Analysis"
        },
        "xaxis": {
         "anchor": "y",
         "domain": [
          0,
          0.45
         ],
         "title": {
          "text": "Product"
         }
        },
        "yaxis": {
         "anchor": "x",
         "domain": [
          0,
          1
         ],
         "range": [
          0,
          15907582.891200002
         ],
         "title": {
          "text": "Annual Revenue (USD)"
         }
        }
       }
      }
     },
     "metadata": {},
     "output_type": "display_data"
    },
    {
     "name": "stdout",
     "output_type": "stream",
     "text": [
      "\n",
      "💡 Key Insight:\n",
      "   Acetylene black provides 53.6% of revenue despite being\n",
      "   a 'co-product'. This highly-conductive solid carbon by-product is critical to project economics.\n"
     ]
    }
   ],
   "source": [
    "# Revenue breakdown\n",
    "revenue_data = pd.DataFrame({\n",
    "    'Product': ['Hydrogen', 'Acetylene Black'],\n",
    "    'Annual Revenue': [h2_revenue, cb_revenue],\n",
    "    'Revenue %': [h2_revenue / total_revenue * 100, cb_revenue / total_revenue * 100]\n",
    "})\n",
    "\n",
    "fig = make_subplots(\n",
    "    rows=1, cols=2,\n",
    "    subplot_titles=('Annual Revenue by Product', 'Revenue Mix'),\n",
    "    specs=[[{'type': 'bar'}, {'type': 'pie'}]]\n",
    ")\n",
    "\n",
    "# Bar chart\n",
    "fig.add_trace(\n",
    "    go.Bar(\n",
    "        x=revenue_data['Product'],\n",
    "        y=revenue_data['Annual Revenue'],\n",
    "        text=[f'${x/1e6:.1f}M' for x in revenue_data['Annual Revenue']],\n",
    "        textposition='outside',\n",
    "        marker_color=['#3498db', '#95a5a6'],\n",
    "        showlegend=False\n",
    "    ),\n",
    "    row=1, col=1\n",
    ")\n",
    "\n",
    "# Pie chart\n",
    "fig.add_trace(\n",
    "    go.Pie(\n",
    "        labels=revenue_data['Product'],\n",
    "        values=revenue_data['Annual Revenue'],\n",
    "        marker_colors=['#3498db', '#95a5a6'],\n",
    "        textinfo='label+percent',\n",
    "        showlegend=False\n",
    "    ),\n",
    "    row=1, col=2\n",
    ")\n",
    "\n",
    "fig.update_xaxes(title_text=\"Product\", row=1, col=1)\n",
    "fig.update_yaxes(title_text=\"Annual Revenue (USD)\", row=1, col=1)\n",
    "fig.update_layout(height=400, showlegend=False, title_text=\"Revenue Analysis\")\n",
    "\n",
    "#add 10% space to ensure text fits\n",
    "max_value = revenue_data['Annual Revenue'].max()\n",
    "fig.update_yaxes(range=[0, max_value * 1.1])\n",
    "fig.show()\n",
    "\n",
    "print(f\"\\n💡 Key Insight:\")\n",
    "print(f\"   Acetylene black provides {(cb_revenue / total_revenue) * 100:.1f}% of revenue despite being\")\n",
    "print(f\"   a 'co-product'. This highly-conductive solid carbon by-product is critical to project economics.\")"
   ]
  },
  {
   "cell_type": "code",
   "execution_count": 1603,
   "id": "ffca3b86",
   "metadata": {},
   "outputs": [
    {
     "data": {
      "application/vnd.plotly.v1+json": {
       "config": {
        "plotlyServerURL": "https://plot.ly"
       },
       "data": [
        {
         "marker": {
          "color": {
           "bdata": "sU6V7xnzgEDT2/pEEv/oQGQ73888DUVBsXJo8S7TXkE=",
           "dtype": "f8"
          },
          "colorscale": [
           [
            0,
            "rgb(255,245,240)"
           ],
           [
            0.125,
            "rgb(254,224,210)"
           ],
           [
            0.25,
            "rgb(252,187,161)"
           ],
           [
            0.375,
            "rgb(252,146,114)"
           ],
           [
            0.5,
            "rgb(251,106,74)"
           ],
           [
            0.625,
            "rgb(239,59,44)"
           ],
           [
            0.75,
            "rgb(203,24,29)"
           ],
           [
            0.875,
            "rgb(165,15,21)"
           ],
           [
            1,
            "rgb(103,0,13)"
           ]
          ],
          "showscale": false
         },
         "orientation": "h",
         "text": [
          "$0.0M (0%)",
          "$0.1M (0%)",
          "$2.8M (25%)",
          "$8.1M (74%)"
         ],
         "textposition": "outside",
         "type": "bar",
         "x": {
          "bdata": "sU6V7xnzgEDT2/pEEv/oQGQ73888DUVBsXJo8S7TXkE=",
          "dtype": "f8"
         },
         "y": [
          "Process Water",
          "Cooling Water",
          "RNG Feedstock",
          "Electricity"
         ]
        }
       ],
       "layout": {
        "height": 400,
        "template": {
         "data": {
          "bar": [
           {
            "error_x": {
             "color": "#2a3f5f"
            },
            "error_y": {
             "color": "#2a3f5f"
            },
            "marker": {
             "line": {
              "color": "#E5ECF6",
              "width": 0.5
             },
             "pattern": {
              "fillmode": "overlay",
              "size": 10,
              "solidity": 0.2
             }
            },
            "type": "bar"
           }
          ],
          "barpolar": [
           {
            "marker": {
             "line": {
              "color": "#E5ECF6",
              "width": 0.5
             },
             "pattern": {
              "fillmode": "overlay",
              "size": 10,
              "solidity": 0.2
             }
            },
            "type": "barpolar"
           }
          ],
          "carpet": [
           {
            "aaxis": {
             "endlinecolor": "#2a3f5f",
             "gridcolor": "white",
             "linecolor": "white",
             "minorgridcolor": "white",
             "startlinecolor": "#2a3f5f"
            },
            "baxis": {
             "endlinecolor": "#2a3f5f",
             "gridcolor": "white",
             "linecolor": "white",
             "minorgridcolor": "white",
             "startlinecolor": "#2a3f5f"
            },
            "type": "carpet"
           }
          ],
          "choropleth": [
           {
            "colorbar": {
             "outlinewidth": 0,
             "ticks": ""
            },
            "type": "choropleth"
           }
          ],
          "contour": [
           {
            "colorbar": {
             "outlinewidth": 0,
             "ticks": ""
            },
            "colorscale": [
             [
              0,
              "#0d0887"
             ],
             [
              0.1111111111111111,
              "#46039f"
             ],
             [
              0.2222222222222222,
              "#7201a8"
             ],
             [
              0.3333333333333333,
              "#9c179e"
             ],
             [
              0.4444444444444444,
              "#bd3786"
             ],
             [
              0.5555555555555556,
              "#d8576b"
             ],
             [
              0.6666666666666666,
              "#ed7953"
             ],
             [
              0.7777777777777778,
              "#fb9f3a"
             ],
             [
              0.8888888888888888,
              "#fdca26"
             ],
             [
              1,
              "#f0f921"
             ]
            ],
            "type": "contour"
           }
          ],
          "contourcarpet": [
           {
            "colorbar": {
             "outlinewidth": 0,
             "ticks": ""
            },
            "type": "contourcarpet"
           }
          ],
          "heatmap": [
           {
            "colorbar": {
             "outlinewidth": 0,
             "ticks": ""
            },
            "colorscale": [
             [
              0,
              "#0d0887"
             ],
             [
              0.1111111111111111,
              "#46039f"
             ],
             [
              0.2222222222222222,
              "#7201a8"
             ],
             [
              0.3333333333333333,
              "#9c179e"
             ],
             [
              0.4444444444444444,
              "#bd3786"
             ],
             [
              0.5555555555555556,
              "#d8576b"
             ],
             [
              0.6666666666666666,
              "#ed7953"
             ],
             [
              0.7777777777777778,
              "#fb9f3a"
             ],
             [
              0.8888888888888888,
              "#fdca26"
             ],
             [
              1,
              "#f0f921"
             ]
            ],
            "type": "heatmap"
           }
          ],
          "histogram": [
           {
            "marker": {
             "pattern": {
              "fillmode": "overlay",
              "size": 10,
              "solidity": 0.2
             }
            },
            "type": "histogram"
           }
          ],
          "histogram2d": [
           {
            "colorbar": {
             "outlinewidth": 0,
             "ticks": ""
            },
            "colorscale": [
             [
              0,
              "#0d0887"
             ],
             [
              0.1111111111111111,
              "#46039f"
             ],
             [
              0.2222222222222222,
              "#7201a8"
             ],
             [
              0.3333333333333333,
              "#9c179e"
             ],
             [
              0.4444444444444444,
              "#bd3786"
             ],
             [
              0.5555555555555556,
              "#d8576b"
             ],
             [
              0.6666666666666666,
              "#ed7953"
             ],
             [
              0.7777777777777778,
              "#fb9f3a"
             ],
             [
              0.8888888888888888,
              "#fdca26"
             ],
             [
              1,
              "#f0f921"
             ]
            ],
            "type": "histogram2d"
           }
          ],
          "histogram2dcontour": [
           {
            "colorbar": {
             "outlinewidth": 0,
             "ticks": ""
            },
            "colorscale": [
             [
              0,
              "#0d0887"
             ],
             [
              0.1111111111111111,
              "#46039f"
             ],
             [
              0.2222222222222222,
              "#7201a8"
             ],
             [
              0.3333333333333333,
              "#9c179e"
             ],
             [
              0.4444444444444444,
              "#bd3786"
             ],
             [
              0.5555555555555556,
              "#d8576b"
             ],
             [
              0.6666666666666666,
              "#ed7953"
             ],
             [
              0.7777777777777778,
              "#fb9f3a"
             ],
             [
              0.8888888888888888,
              "#fdca26"
             ],
             [
              1,
              "#f0f921"
             ]
            ],
            "type": "histogram2dcontour"
           }
          ],
          "mesh3d": [
           {
            "colorbar": {
             "outlinewidth": 0,
             "ticks": ""
            },
            "type": "mesh3d"
           }
          ],
          "parcoords": [
           {
            "line": {
             "colorbar": {
              "outlinewidth": 0,
              "ticks": ""
             }
            },
            "type": "parcoords"
           }
          ],
          "pie": [
           {
            "automargin": true,
            "type": "pie"
           }
          ],
          "scatter": [
           {
            "fillpattern": {
             "fillmode": "overlay",
             "size": 10,
             "solidity": 0.2
            },
            "type": "scatter"
           }
          ],
          "scatter3d": [
           {
            "line": {
             "colorbar": {
              "outlinewidth": 0,
              "ticks": ""
             }
            },
            "marker": {
             "colorbar": {
              "outlinewidth": 0,
              "ticks": ""
             }
            },
            "type": "scatter3d"
           }
          ],
          "scattercarpet": [
           {
            "marker": {
             "colorbar": {
              "outlinewidth": 0,
              "ticks": ""
             }
            },
            "type": "scattercarpet"
           }
          ],
          "scattergeo": [
           {
            "marker": {
             "colorbar": {
              "outlinewidth": 0,
              "ticks": ""
             }
            },
            "type": "scattergeo"
           }
          ],
          "scattergl": [
           {
            "marker": {
             "colorbar": {
              "outlinewidth": 0,
              "ticks": ""
             }
            },
            "type": "scattergl"
           }
          ],
          "scattermap": [
           {
            "marker": {
             "colorbar": {
              "outlinewidth": 0,
              "ticks": ""
             }
            },
            "type": "scattermap"
           }
          ],
          "scattermapbox": [
           {
            "marker": {
             "colorbar": {
              "outlinewidth": 0,
              "ticks": ""
             }
            },
            "type": "scattermapbox"
           }
          ],
          "scatterpolar": [
           {
            "marker": {
             "colorbar": {
              "outlinewidth": 0,
              "ticks": ""
             }
            },
            "type": "scatterpolar"
           }
          ],
          "scatterpolargl": [
           {
            "marker": {
             "colorbar": {
              "outlinewidth": 0,
              "ticks": ""
             }
            },
            "type": "scatterpolargl"
           }
          ],
          "scatterternary": [
           {
            "marker": {
             "colorbar": {
              "outlinewidth": 0,
              "ticks": ""
             }
            },
            "type": "scatterternary"
           }
          ],
          "surface": [
           {
            "colorbar": {
             "outlinewidth": 0,
             "ticks": ""
            },
            "colorscale": [
             [
              0,
              "#0d0887"
             ],
             [
              0.1111111111111111,
              "#46039f"
             ],
             [
              0.2222222222222222,
              "#7201a8"
             ],
             [
              0.3333333333333333,
              "#9c179e"
             ],
             [
              0.4444444444444444,
              "#bd3786"
             ],
             [
              0.5555555555555556,
              "#d8576b"
             ],
             [
              0.6666666666666666,
              "#ed7953"
             ],
             [
              0.7777777777777778,
              "#fb9f3a"
             ],
             [
              0.8888888888888888,
              "#fdca26"
             ],
             [
              1,
              "#f0f921"
             ]
            ],
            "type": "surface"
           }
          ],
          "table": [
           {
            "cells": {
             "fill": {
              "color": "#EBF0F8"
             },
             "line": {
              "color": "white"
             }
            },
            "header": {
             "fill": {
              "color": "#C8D4E3"
             },
             "line": {
              "color": "white"
             }
            },
            "type": "table"
           }
          ]
         },
         "layout": {
          "annotationdefaults": {
           "arrowcolor": "#2a3f5f",
           "arrowhead": 0,
           "arrowwidth": 1
          },
          "autotypenumbers": "strict",
          "coloraxis": {
           "colorbar": {
            "outlinewidth": 0,
            "ticks": ""
           }
          },
          "colorscale": {
           "diverging": [
            [
             0,
             "#8e0152"
            ],
            [
             0.1,
             "#c51b7d"
            ],
            [
             0.2,
             "#de77ae"
            ],
            [
             0.3,
             "#f1b6da"
            ],
            [
             0.4,
             "#fde0ef"
            ],
            [
             0.5,
             "#f7f7f7"
            ],
            [
             0.6,
             "#e6f5d0"
            ],
            [
             0.7,
             "#b8e186"
            ],
            [
             0.8,
             "#7fbc41"
            ],
            [
             0.9,
             "#4d9221"
            ],
            [
             1,
             "#276419"
            ]
           ],
           "sequential": [
            [
             0,
             "#0d0887"
            ],
            [
             0.1111111111111111,
             "#46039f"
            ],
            [
             0.2222222222222222,
             "#7201a8"
            ],
            [
             0.3333333333333333,
             "#9c179e"
            ],
            [
             0.4444444444444444,
             "#bd3786"
            ],
            [
             0.5555555555555556,
             "#d8576b"
            ],
            [
             0.6666666666666666,
             "#ed7953"
            ],
            [
             0.7777777777777778,
             "#fb9f3a"
            ],
            [
             0.8888888888888888,
             "#fdca26"
            ],
            [
             1,
             "#f0f921"
            ]
           ],
           "sequentialminus": [
            [
             0,
             "#0d0887"
            ],
            [
             0.1111111111111111,
             "#46039f"
            ],
            [
             0.2222222222222222,
             "#7201a8"
            ],
            [
             0.3333333333333333,
             "#9c179e"
            ],
            [
             0.4444444444444444,
             "#bd3786"
            ],
            [
             0.5555555555555556,
             "#d8576b"
            ],
            [
             0.6666666666666666,
             "#ed7953"
            ],
            [
             0.7777777777777778,
             "#fb9f3a"
            ],
            [
             0.8888888888888888,
             "#fdca26"
            ],
            [
             1,
             "#f0f921"
            ]
           ]
          },
          "colorway": [
           "#636efa",
           "#EF553B",
           "#00cc96",
           "#ab63fa",
           "#FFA15A",
           "#19d3f3",
           "#FF6692",
           "#B6E880",
           "#FF97FF",
           "#FECB52"
          ],
          "font": {
           "color": "#2a3f5f"
          },
          "geo": {
           "bgcolor": "white",
           "lakecolor": "white",
           "landcolor": "#E5ECF6",
           "showlakes": true,
           "showland": true,
           "subunitcolor": "white"
          },
          "hoverlabel": {
           "align": "left"
          },
          "hovermode": "closest",
          "mapbox": {
           "style": "light"
          },
          "paper_bgcolor": "white",
          "plot_bgcolor": "#E5ECF6",
          "polar": {
           "angularaxis": {
            "gridcolor": "white",
            "linecolor": "white",
            "ticks": ""
           },
           "bgcolor": "#E5ECF6",
           "radialaxis": {
            "gridcolor": "white",
            "linecolor": "white",
            "ticks": ""
           }
          },
          "scene": {
           "xaxis": {
            "backgroundcolor": "#E5ECF6",
            "gridcolor": "white",
            "gridwidth": 2,
            "linecolor": "white",
            "showbackground": true,
            "ticks": "",
            "zerolinecolor": "white"
           },
           "yaxis": {
            "backgroundcolor": "#E5ECF6",
            "gridcolor": "white",
            "gridwidth": 2,
            "linecolor": "white",
            "showbackground": true,
            "ticks": "",
            "zerolinecolor": "white"
           },
           "zaxis": {
            "backgroundcolor": "#E5ECF6",
            "gridcolor": "white",
            "gridwidth": 2,
            "linecolor": "white",
            "showbackground": true,
            "ticks": "",
            "zerolinecolor": "white"
           }
          },
          "shapedefaults": {
           "line": {
            "color": "#2a3f5f"
           }
          },
          "ternary": {
           "aaxis": {
            "gridcolor": "white",
            "linecolor": "white",
            "ticks": ""
           },
           "baxis": {
            "gridcolor": "white",
            "linecolor": "white",
            "ticks": ""
           },
           "bgcolor": "#E5ECF6",
           "caxis": {
            "gridcolor": "white",
            "linecolor": "white",
            "ticks": ""
           }
          },
          "title": {
           "x": 0.05
          },
          "xaxis": {
           "automargin": true,
           "gridcolor": "white",
           "linecolor": "white",
           "ticks": "",
           "title": {
            "standoff": 15
           },
           "zerolinecolor": "white",
           "zerolinewidth": 2
          },
          "yaxis": {
           "automargin": true,
           "gridcolor": "white",
           "linecolor": "white",
           "ticks": "",
           "title": {
            "standoff": 15
           },
           "zerolinecolor": "white",
           "zerolinewidth": 2
          }
         }
        },
        "title": {
         "text": "Annual Variable Operating Cost Breakdown"
        },
        "xaxis": {
         "range": [
          0,
          8888628.949200002
         ],
         "title": {
          "text": "Annual Cost (USD)"
         }
        },
        "yaxis": {
         "title": {
          "text": "Cost Category"
         }
        }
       }
      }
     },
     "metadata": {},
     "output_type": "display_data"
    },
    {
     "name": "stdout",
     "output_type": "stream",
     "text": [
      "\n",
      "📊 Cost Analysis:\n",
      "   Electricity is 74.3% of variable operating costs\n",
      "   Total variable OpEx: $10.87M\n",
      "   Gross Margin: 59.7%\n",
      "\n",
      "💡 Key Insight:\n",
      "   Electricity is the dominant operating cost. Process economics are\n",
      "   likely sensitive to electricity prices and availability of renewable power.\n"
     ]
    }
   ],
   "source": [
    "\n",
    "# Create cost breakdown\n",
    "cost_data = pd.DataFrame({\n",
    "    'Cost Category': ['RNG Feedstock', 'Electricity', 'Cooling Water', 'Process Water'],\n",
    "    'Annual Cost': [rng_cost, electricity_cost, cooling_water_cost, process_water_cost],\n",
    "    'Percent of Total': [\n",
    "        rng_cost/variable_opex*100,\n",
    "        electricity_cost/variable_opex*100,\n",
    "        cooling_water_cost/variable_opex*100,\n",
    "        process_water_cost/variable_opex*100\n",
    "    ]\n",
    "})\n",
    "\n",
    "# Sort by cost\n",
    "cost_data = cost_data.sort_values('Annual Cost', ascending=True)\n",
    "\n",
    "fig = go.Figure()\n",
    "\n",
    "fig.add_trace(go.Bar(\n",
    "    y=cost_data['Cost Category'],\n",
    "    x=cost_data['Annual Cost'],\n",
    "    orientation='h',\n",
    "    text=[f'${x/1e6:.1f}M ({p:.0f}%)' for x, p in zip(cost_data['Annual Cost'], cost_data['Percent of Total'])],\n",
    "    textposition='outside',\n",
    "    marker=dict(\n",
    "        color=cost_data['Annual Cost'],\n",
    "        colorscale='Reds',\n",
    "        showscale=False\n",
    "    )\n",
    "))\n",
    "\n",
    "fig.update_layout(\n",
    "    title='Annual Variable Operating Cost Breakdown',\n",
    "    xaxis_title='Annual Cost (USD)',\n",
    "    yaxis_title='Cost Category',\n",
    "    height=400\n",
    ")\n",
    "\n",
    "max_value = cost_data['Annual Cost'].max()\n",
    "fig.update_xaxes(range=[0, max_value * 1.1])\n",
    "fig.show()\n",
    "\n",
    "print(f\"\\n📊 Cost Analysis:\")\n",
    "print(f\"   Electricity is {electricity_cost/variable_opex*100:.1f}% of variable operating costs\")\n",
    "print(f\"   Total variable OpEx: ${variable_opex/1e6:.2f}M\")\n",
    "print(f\"   Gross Margin: {gross_margin/total_revenue*100:.1f}%\")\n",
    "print(f\"\\n💡 Key Insight:\")\n",
    "print(f\"   Electricity is the dominant operating cost. Process economics are\")\n",
    "print(f\"   likely sensitive to electricity prices and availability of renewable power.\")"
   ]
  },
  {
   "cell_type": "code",
   "execution_count": 1604,
   "id": "9fd133e0",
   "metadata": {},
   "outputs": [
    {
     "data": {
      "application/vnd.plotly.v1+json": {
       "config": {
        "plotlyServerURL": "https://plot.ly"
       },
       "data": [
        {
         "connector": {
          "line": {
           "color": "rgb(63, 63, 63)"
          }
         },
         "decreasing": {
          "marker": {
           "color": "#e74c3c"
          }
         },
         "increasing": {
          "marker": {
           "color": "#2ecc71"
          }
         },
         "measure": [
          "relative",
          "relative",
          "relative",
          "relative",
          "relative",
          "total"
         ],
         "name": "Annual Economics",
         "orientation": "v",
         "text": [
          "$+12.53M",
          "$+14.46M",
          "$-2.76M",
          "$-8.08M",
          "$-0.05M",
          "$+16.12M"
         ],
         "textposition": "outside",
         "totals": {
          "marker": {
           "color": "#3498db"
          }
         },
         "type": "waterfall",
         "x": [
          "H₂ Revenue",
          "Acetylene Revenue",
          "RNG Cost",
          "Electricity Cost",
          "Water Costs",
          "Gross Margin"
         ],
         "y": [
          12534543.84,
          14461438.992,
          -2759289.624,
          -8080571.772000001,
          -51734.958584399996,
          16124398.68816504
         ]
        }
       ],
       "layout": {
        "height": 500,
        "showlegend": false,
        "template": {
         "data": {
          "bar": [
           {
            "error_x": {
             "color": "#2a3f5f"
            },
            "error_y": {
             "color": "#2a3f5f"
            },
            "marker": {
             "line": {
              "color": "#E5ECF6",
              "width": 0.5
             },
             "pattern": {
              "fillmode": "overlay",
              "size": 10,
              "solidity": 0.2
             }
            },
            "type": "bar"
           }
          ],
          "barpolar": [
           {
            "marker": {
             "line": {
              "color": "#E5ECF6",
              "width": 0.5
             },
             "pattern": {
              "fillmode": "overlay",
              "size": 10,
              "solidity": 0.2
             }
            },
            "type": "barpolar"
           }
          ],
          "carpet": [
           {
            "aaxis": {
             "endlinecolor": "#2a3f5f",
             "gridcolor": "white",
             "linecolor": "white",
             "minorgridcolor": "white",
             "startlinecolor": "#2a3f5f"
            },
            "baxis": {
             "endlinecolor": "#2a3f5f",
             "gridcolor": "white",
             "linecolor": "white",
             "minorgridcolor": "white",
             "startlinecolor": "#2a3f5f"
            },
            "type": "carpet"
           }
          ],
          "choropleth": [
           {
            "colorbar": {
             "outlinewidth": 0,
             "ticks": ""
            },
            "type": "choropleth"
           }
          ],
          "contour": [
           {
            "colorbar": {
             "outlinewidth": 0,
             "ticks": ""
            },
            "colorscale": [
             [
              0,
              "#0d0887"
             ],
             [
              0.1111111111111111,
              "#46039f"
             ],
             [
              0.2222222222222222,
              "#7201a8"
             ],
             [
              0.3333333333333333,
              "#9c179e"
             ],
             [
              0.4444444444444444,
              "#bd3786"
             ],
             [
              0.5555555555555556,
              "#d8576b"
             ],
             [
              0.6666666666666666,
              "#ed7953"
             ],
             [
              0.7777777777777778,
              "#fb9f3a"
             ],
             [
              0.8888888888888888,
              "#fdca26"
             ],
             [
              1,
              "#f0f921"
             ]
            ],
            "type": "contour"
           }
          ],
          "contourcarpet": [
           {
            "colorbar": {
             "outlinewidth": 0,
             "ticks": ""
            },
            "type": "contourcarpet"
           }
          ],
          "heatmap": [
           {
            "colorbar": {
             "outlinewidth": 0,
             "ticks": ""
            },
            "colorscale": [
             [
              0,
              "#0d0887"
             ],
             [
              0.1111111111111111,
              "#46039f"
             ],
             [
              0.2222222222222222,
              "#7201a8"
             ],
             [
              0.3333333333333333,
              "#9c179e"
             ],
             [
              0.4444444444444444,
              "#bd3786"
             ],
             [
              0.5555555555555556,
              "#d8576b"
             ],
             [
              0.6666666666666666,
              "#ed7953"
             ],
             [
              0.7777777777777778,
              "#fb9f3a"
             ],
             [
              0.8888888888888888,
              "#fdca26"
             ],
             [
              1,
              "#f0f921"
             ]
            ],
            "type": "heatmap"
           }
          ],
          "histogram": [
           {
            "marker": {
             "pattern": {
              "fillmode": "overlay",
              "size": 10,
              "solidity": 0.2
             }
            },
            "type": "histogram"
           }
          ],
          "histogram2d": [
           {
            "colorbar": {
             "outlinewidth": 0,
             "ticks": ""
            },
            "colorscale": [
             [
              0,
              "#0d0887"
             ],
             [
              0.1111111111111111,
              "#46039f"
             ],
             [
              0.2222222222222222,
              "#7201a8"
             ],
             [
              0.3333333333333333,
              "#9c179e"
             ],
             [
              0.4444444444444444,
              "#bd3786"
             ],
             [
              0.5555555555555556,
              "#d8576b"
             ],
             [
              0.6666666666666666,
              "#ed7953"
             ],
             [
              0.7777777777777778,
              "#fb9f3a"
             ],
             [
              0.8888888888888888,
              "#fdca26"
             ],
             [
              1,
              "#f0f921"
             ]
            ],
            "type": "histogram2d"
           }
          ],
          "histogram2dcontour": [
           {
            "colorbar": {
             "outlinewidth": 0,
             "ticks": ""
            },
            "colorscale": [
             [
              0,
              "#0d0887"
             ],
             [
              0.1111111111111111,
              "#46039f"
             ],
             [
              0.2222222222222222,
              "#7201a8"
             ],
             [
              0.3333333333333333,
              "#9c179e"
             ],
             [
              0.4444444444444444,
              "#bd3786"
             ],
             [
              0.5555555555555556,
              "#d8576b"
             ],
             [
              0.6666666666666666,
              "#ed7953"
             ],
             [
              0.7777777777777778,
              "#fb9f3a"
             ],
             [
              0.8888888888888888,
              "#fdca26"
             ],
             [
              1,
              "#f0f921"
             ]
            ],
            "type": "histogram2dcontour"
           }
          ],
          "mesh3d": [
           {
            "colorbar": {
             "outlinewidth": 0,
             "ticks": ""
            },
            "type": "mesh3d"
           }
          ],
          "parcoords": [
           {
            "line": {
             "colorbar": {
              "outlinewidth": 0,
              "ticks": ""
             }
            },
            "type": "parcoords"
           }
          ],
          "pie": [
           {
            "automargin": true,
            "type": "pie"
           }
          ],
          "scatter": [
           {
            "fillpattern": {
             "fillmode": "overlay",
             "size": 10,
             "solidity": 0.2
            },
            "type": "scatter"
           }
          ],
          "scatter3d": [
           {
            "line": {
             "colorbar": {
              "outlinewidth": 0,
              "ticks": ""
             }
            },
            "marker": {
             "colorbar": {
              "outlinewidth": 0,
              "ticks": ""
             }
            },
            "type": "scatter3d"
           }
          ],
          "scattercarpet": [
           {
            "marker": {
             "colorbar": {
              "outlinewidth": 0,
              "ticks": ""
             }
            },
            "type": "scattercarpet"
           }
          ],
          "scattergeo": [
           {
            "marker": {
             "colorbar": {
              "outlinewidth": 0,
              "ticks": ""
             }
            },
            "type": "scattergeo"
           }
          ],
          "scattergl": [
           {
            "marker": {
             "colorbar": {
              "outlinewidth": 0,
              "ticks": ""
             }
            },
            "type": "scattergl"
           }
          ],
          "scattermap": [
           {
            "marker": {
             "colorbar": {
              "outlinewidth": 0,
              "ticks": ""
             }
            },
            "type": "scattermap"
           }
          ],
          "scattermapbox": [
           {
            "marker": {
             "colorbar": {
              "outlinewidth": 0,
              "ticks": ""
             }
            },
            "type": "scattermapbox"
           }
          ],
          "scatterpolar": [
           {
            "marker": {
             "colorbar": {
              "outlinewidth": 0,
              "ticks": ""
             }
            },
            "type": "scatterpolar"
           }
          ],
          "scatterpolargl": [
           {
            "marker": {
             "colorbar": {
              "outlinewidth": 0,
              "ticks": ""
             }
            },
            "type": "scatterpolargl"
           }
          ],
          "scatterternary": [
           {
            "marker": {
             "colorbar": {
              "outlinewidth": 0,
              "ticks": ""
             }
            },
            "type": "scatterternary"
           }
          ],
          "surface": [
           {
            "colorbar": {
             "outlinewidth": 0,
             "ticks": ""
            },
            "colorscale": [
             [
              0,
              "#0d0887"
             ],
             [
              0.1111111111111111,
              "#46039f"
             ],
             [
              0.2222222222222222,
              "#7201a8"
             ],
             [
              0.3333333333333333,
              "#9c179e"
             ],
             [
              0.4444444444444444,
              "#bd3786"
             ],
             [
              0.5555555555555556,
              "#d8576b"
             ],
             [
              0.6666666666666666,
              "#ed7953"
             ],
             [
              0.7777777777777778,
              "#fb9f3a"
             ],
             [
              0.8888888888888888,
              "#fdca26"
             ],
             [
              1,
              "#f0f921"
             ]
            ],
            "type": "surface"
           }
          ],
          "table": [
           {
            "cells": {
             "fill": {
              "color": "#EBF0F8"
             },
             "line": {
              "color": "white"
             }
            },
            "header": {
             "fill": {
              "color": "#C8D4E3"
             },
             "line": {
              "color": "white"
             }
            },
            "type": "table"
           }
          ]
         },
         "layout": {
          "annotationdefaults": {
           "arrowcolor": "#2a3f5f",
           "arrowhead": 0,
           "arrowwidth": 1
          },
          "autotypenumbers": "strict",
          "coloraxis": {
           "colorbar": {
            "outlinewidth": 0,
            "ticks": ""
           }
          },
          "colorscale": {
           "diverging": [
            [
             0,
             "#8e0152"
            ],
            [
             0.1,
             "#c51b7d"
            ],
            [
             0.2,
             "#de77ae"
            ],
            [
             0.3,
             "#f1b6da"
            ],
            [
             0.4,
             "#fde0ef"
            ],
            [
             0.5,
             "#f7f7f7"
            ],
            [
             0.6,
             "#e6f5d0"
            ],
            [
             0.7,
             "#b8e186"
            ],
            [
             0.8,
             "#7fbc41"
            ],
            [
             0.9,
             "#4d9221"
            ],
            [
             1,
             "#276419"
            ]
           ],
           "sequential": [
            [
             0,
             "#0d0887"
            ],
            [
             0.1111111111111111,
             "#46039f"
            ],
            [
             0.2222222222222222,
             "#7201a8"
            ],
            [
             0.3333333333333333,
             "#9c179e"
            ],
            [
             0.4444444444444444,
             "#bd3786"
            ],
            [
             0.5555555555555556,
             "#d8576b"
            ],
            [
             0.6666666666666666,
             "#ed7953"
            ],
            [
             0.7777777777777778,
             "#fb9f3a"
            ],
            [
             0.8888888888888888,
             "#fdca26"
            ],
            [
             1,
             "#f0f921"
            ]
           ],
           "sequentialminus": [
            [
             0,
             "#0d0887"
            ],
            [
             0.1111111111111111,
             "#46039f"
            ],
            [
             0.2222222222222222,
             "#7201a8"
            ],
            [
             0.3333333333333333,
             "#9c179e"
            ],
            [
             0.4444444444444444,
             "#bd3786"
            ],
            [
             0.5555555555555556,
             "#d8576b"
            ],
            [
             0.6666666666666666,
             "#ed7953"
            ],
            [
             0.7777777777777778,
             "#fb9f3a"
            ],
            [
             0.8888888888888888,
             "#fdca26"
            ],
            [
             1,
             "#f0f921"
            ]
           ]
          },
          "colorway": [
           "#636efa",
           "#EF553B",
           "#00cc96",
           "#ab63fa",
           "#FFA15A",
           "#19d3f3",
           "#FF6692",
           "#B6E880",
           "#FF97FF",
           "#FECB52"
          ],
          "font": {
           "color": "#2a3f5f"
          },
          "geo": {
           "bgcolor": "white",
           "lakecolor": "white",
           "landcolor": "#E5ECF6",
           "showlakes": true,
           "showland": true,
           "subunitcolor": "white"
          },
          "hoverlabel": {
           "align": "left"
          },
          "hovermode": "closest",
          "mapbox": {
           "style": "light"
          },
          "paper_bgcolor": "white",
          "plot_bgcolor": "#E5ECF6",
          "polar": {
           "angularaxis": {
            "gridcolor": "white",
            "linecolor": "white",
            "ticks": ""
           },
           "bgcolor": "#E5ECF6",
           "radialaxis": {
            "gridcolor": "white",
            "linecolor": "white",
            "ticks": ""
           }
          },
          "scene": {
           "xaxis": {
            "backgroundcolor": "#E5ECF6",
            "gridcolor": "white",
            "gridwidth": 2,
            "linecolor": "white",
            "showbackground": true,
            "ticks": "",
            "zerolinecolor": "white"
           },
           "yaxis": {
            "backgroundcolor": "#E5ECF6",
            "gridcolor": "white",
            "gridwidth": 2,
            "linecolor": "white",
            "showbackground": true,
            "ticks": "",
            "zerolinecolor": "white"
           },
           "zaxis": {
            "backgroundcolor": "#E5ECF6",
            "gridcolor": "white",
            "gridwidth": 2,
            "linecolor": "white",
            "showbackground": true,
            "ticks": "",
            "zerolinecolor": "white"
           }
          },
          "shapedefaults": {
           "line": {
            "color": "#2a3f5f"
           }
          },
          "ternary": {
           "aaxis": {
            "gridcolor": "white",
            "linecolor": "white",
            "ticks": ""
           },
           "baxis": {
            "gridcolor": "white",
            "linecolor": "white",
            "ticks": ""
           },
           "bgcolor": "#E5ECF6",
           "caxis": {
            "gridcolor": "white",
            "linecolor": "white",
            "ticks": ""
           }
          },
          "title": {
           "x": 0.05
          },
          "xaxis": {
           "automargin": true,
           "gridcolor": "white",
           "linecolor": "white",
           "ticks": "",
           "title": {
            "standoff": 15
           },
           "zerolinecolor": "white",
           "zerolinewidth": 2
          },
          "yaxis": {
           "automargin": true,
           "gridcolor": "white",
           "linecolor": "white",
           "ticks": "",
           "title": {
            "standoff": 15
           },
           "zerolinecolor": "white",
           "zerolinewidth": 2
          }
         }
        },
        "title": {
         "text": "Annual Revenue to Gross Margin (Waterfall)"
        },
        "yaxis": {
         "title": {
          "text": "Amount (USD)"
         }
        }
       }
      }
     },
     "metadata": {},
     "output_type": "display_data"
    },
    {
     "name": "stdout",
     "output_type": "stream",
     "text": [
      "\n",
      "📊 Annual Economics Summary:\n",
      "   Total Revenue:        $ 27.00M\n",
      "   Variable Costs:       $ 10.87M\n",
      "   ─────────────────────────────────\n",
      "   Gross Margin:         $ 16.12M\n",
      "   Gross Margin %:         59.7%\n",
      "\n",
      "   Note: This excludes fixed costs (labor, maintenance, overhead)\n"
     ]
    }
   ],
   "source": [
    "# Create waterfall showing revenue to profit flow\n",
    "categories = [\n",
    "    'H₂ Revenue',\n",
    "    'Acetylene Revenue',\n",
    "    'RNG Cost',\n",
    "    'Electricity Cost',\n",
    "    'Water Costs',\n",
    "    'Gross Margin'\n",
    "]\n",
    "\n",
    "values = [\n",
    "    h2_revenue,\n",
    "    cb_revenue,\n",
    "    -rng_cost,\n",
    "    -electricity_cost,\n",
    "    -(cooling_water_cost + process_water_cost),\n",
    "    0  # Will be calculated as total\n",
    "]\n",
    "\n",
    "fig = go.Figure(go.Waterfall(\n",
    "    name=\"Annual Economics\",\n",
    "    orientation=\"v\",\n",
    "    measure=[\"relative\", \"relative\", \"relative\", \"relative\", \"relative\", \"total\"],\n",
    "    x=categories,\n",
    "    y=values[:-1] + [gross_margin],\n",
    "    text=[f'${v/1e6:+.2f}M' if v != 0 else f'${gross_margin/1e6:.2f}M' for v in values[:-1] + [gross_margin]],\n",
    "    textposition=\"outside\",\n",
    "    connector={\"line\": {\"color\": \"rgb(63, 63, 63)\"}},\n",
    "    increasing={\"marker\": {\"color\": \"#2ecc71\"}},\n",
    "    decreasing={\"marker\": {\"color\": \"#e74c3c\"}},\n",
    "    totals={\"marker\": {\"color\": \"#3498db\"}}\n",
    "))\n",
    "\n",
    "fig.update_layout(\n",
    "    title=\"Annual Revenue to Gross Margin (Waterfall)\",\n",
    "    yaxis_title=\"Amount (USD)\",\n",
    "    showlegend=False,\n",
    "    height=500\n",
    ")\n",
    "\n",
    "fig.show()\n",
    "\n",
    "print(f\"\\n📊 Annual Economics Summary:\")\n",
    "print(f\"   Total Revenue:        ${total_revenue/1e6:>6.2f}M\")\n",
    "print(f\"   Variable Costs:       ${variable_opex/1e6:>6.2f}M\")\n",
    "print(f\"   ─────────────────────────────────\")\n",
    "print(f\"   Gross Margin:         ${gross_margin/1e6:>6.2f}M\")\n",
    "print(f\"   Gross Margin %:       {gross_margin/total_revenue*100:>6.1f}%\")\n",
    "print(f\"\\n   Note: This excludes fixed costs (labor, maintenance, overhead)\")"
   ]
  },
  {
   "cell_type": "markdown",
   "id": "31e589cc",
   "metadata": {},
   "source": [
    "## Comparison with Steam Methane Reforming (SMR)\n",
    "\n",
    "Steam methane reforming is the incumbent technology for hydrogen production, accounting for ~96% of global production. Let's compare our process:"
   ]
  },
  {
   "cell_type": "code",
   "execution_count": 1605,
   "id": "cc6e941a",
   "metadata": {},
   "outputs": [
    {
     "data": {
      "text/html": [
       "<style type=\"text/css\">\n",
       "#T_a4a5d th {\n",
       "  text-align: center;\n",
       "}\n",
       "#T_a4a5d_row0_col0, #T_a4a5d_row0_col1, #T_a4a5d_row0_col2, #T_a4a5d_row0_col3, #T_a4a5d_row1_col0, #T_a4a5d_row1_col1, #T_a4a5d_row1_col2, #T_a4a5d_row1_col3, #T_a4a5d_row2_col0, #T_a4a5d_row2_col1, #T_a4a5d_row2_col2, #T_a4a5d_row2_col3, #T_a4a5d_row3_col0, #T_a4a5d_row3_col1, #T_a4a5d_row3_col2, #T_a4a5d_row3_col3 {\n",
       "  text-align: center;\n",
       "}\n",
       "</style>\n",
       "<table id=\"T_a4a5d\">\n",
       "  <thead>\n",
       "    <tr>\n",
       "      <th class=\"blank level0\" >&nbsp;</th>\n",
       "      <th id=\"T_a4a5d_level0_col0\" class=\"col_heading level0 col0\" >Metric</th>\n",
       "      <th id=\"T_a4a5d_level0_col1\" class=\"col_heading level0 col1\" >Steam Methane Reforming</th>\n",
       "      <th id=\"T_a4a5d_level0_col2\" class=\"col_heading level0 col2\" >Microwave Plasma Process</th>\n",
       "      <th id=\"T_a4a5d_level0_col3\" class=\"col_heading level0 col3\" >Improvement (%)</th>\n",
       "    </tr>\n",
       "  </thead>\n",
       "  <tbody>\n",
       "    <tr>\n",
       "      <th id=\"T_a4a5d_level0_row0\" class=\"row_heading level0 row0\" >0</th>\n",
       "      <td id=\"T_a4a5d_row0_col0\" class=\"data row0 col0\" >Water Consumption (kg/kg H₂)</td>\n",
       "      <td id=\"T_a4a5d_row0_col1\" class=\"data row0 col1\" >4.5</td>\n",
       "      <td id=\"T_a4a5d_row0_col2\" class=\"data row0 col2\" >0.64</td>\n",
       "      <td id=\"T_a4a5d_row0_col3\" class=\"data row0 col3\" >+85.8%</td>\n",
       "    </tr>\n",
       "    <tr>\n",
       "      <th id=\"T_a4a5d_level0_row1\" class=\"row_heading level0 row1\" >1</th>\n",
       "      <td id=\"T_a4a5d_row1_col0\" class=\"data row1 col0\" >CO₂ Emissions (kg/kg H₂)</td>\n",
       "      <td id=\"T_a4a5d_row1_col1\" class=\"data row1 col1\" >9.7</td>\n",
       "      <td id=\"T_a4a5d_row1_col2\" class=\"data row1 col2\" >0.01</td>\n",
       "      <td id=\"T_a4a5d_row1_col3\" class=\"data row1 col3\" >+99.9%</td>\n",
       "    </tr>\n",
       "    <tr>\n",
       "      <th id=\"T_a4a5d_level0_row2\" class=\"row_heading level0 row2\" >2</th>\n",
       "      <td id=\"T_a4a5d_row2_col0\" class=\"data row2 col0\" >Energy Consumption (kJ/kg H₂)</td>\n",
       "      <td id=\"T_a4a5d_row2_col1\" class=\"data row2 col1\" >27.0</td>\n",
       "      <td id=\"T_a4a5d_row2_col2\" class=\"data row2 col2\" >36.84</td>\n",
       "      <td id=\"T_a4a5d_row2_col3\" class=\"data row2 col3\" >-36.4%</td>\n",
       "    </tr>\n",
       "    <tr>\n",
       "      <th id=\"T_a4a5d_level0_row3\" class=\"row_heading level0 row3\" >3</th>\n",
       "      <td id=\"T_a4a5d_row3_col0\" class=\"data row3 col0\" >H₂ Production Cost ($/kg)*</td>\n",
       "      <td id=\"T_a4a5d_row3_col1\" class=\"data row3 col1\" >2.5</td>\n",
       "      <td id=\"T_a4a5d_row3_col2\" class=\"data row3 col2\" >3.13</td>\n",
       "      <td id=\"T_a4a5d_row3_col3\" class=\"data row3 col3\" >-25.2%</td>\n",
       "    </tr>\n",
       "  </tbody>\n",
       "</table>\n"
      ],
      "text/plain": [
       "<pandas.io.formats.style.Styler at 0x25748a3d600>"
      ]
     },
     "metadata": {},
     "output_type": "display_data"
    },
    {
     "name": "stdout",
     "output_type": "stream",
     "text": [
      "\n",
      "🌟 Environmental Advantages:\n",
      "   • Water Consumption:  85.8% reduction\n",
      "   • CO₂ Emissions:      99.9% reduction\n",
      "   • Near-zero emissions when using renewable electricity\n",
      "\n",
      "⚡ Energy Trade-off:\n",
      "   • Higher energy intensity, ideally from renewable sources\n",
      "   • Our process: Higher energy input, zero carbon output\n",
      "\n",
      "💰 Cost Competitiveness:\n",
      "   • LCOH: $3.13/kg vs ~$2.50/kg for SMR\n",
      "   • Higher cost, even accounting for high-value co-product\n",
      "   • Clean hydrogen incentives would likely make this competitive\n"
     ]
    },
    {
     "data": {
      "application/vnd.plotly.v1+json": {
       "config": {
        "plotlyServerURL": "https://plot.ly"
       },
       "data": [
        {
         "marker": {
          "color": [
           "#e74c3c",
           "#2ecc71"
          ]
         },
         "name": "Water",
         "showlegend": false,
         "type": "bar",
         "x": [
          "SMR",
          "Microwave Plasma"
         ],
         "xaxis": "x",
         "y": [
          4.5,
          0.6410582548969728
         ],
         "yaxis": "y"
        },
        {
         "marker": {
          "color": [
           "#e74c3c",
           "#2ecc71"
          ]
         },
         "name": "CO2",
         "showlegend": false,
         "type": "bar",
         "x": [
          "SMR",
          "Microwave Plasma"
         ],
         "xaxis": "x2",
         "y": [
          9.7,
          0.011447468837445941
         ],
         "yaxis": "y2"
        },
        {
         "marker": {
          "color": [
           "#e74c3c",
           "#2ecc71"
          ]
         },
         "name": "Energy",
         "showlegend": false,
         "type": "bar",
         "x": [
          "SMR",
          "Microwave Plasma"
         ],
         "xaxis": "x3",
         "y": [
          27,
          36.83795471890104
         ],
         "yaxis": "y3"
        },
        {
         "marker": {
          "color": [
           "#e74c3c",
           "#2ecc71"
          ]
         },
         "name": "Cost",
         "showlegend": false,
         "type": "bar",
         "x": [
          "SMR",
          "Microwave Plasma"
         ],
         "xaxis": "x4",
         "y": [
          2.5,
          3.129967251163753
         ],
         "yaxis": "y4"
        }
       ],
       "layout": {
        "annotations": [
         {
          "font": {
           "size": 16
          },
          "showarrow": false,
          "text": "Water Consumption",
          "x": 0.10625,
          "xanchor": "center",
          "xref": "paper",
          "y": 1,
          "yanchor": "bottom",
          "yref": "paper"
         },
         {
          "font": {
           "size": 16
          },
          "showarrow": false,
          "text": "CO₂ Emissions",
          "x": 0.36875,
          "xanchor": "center",
          "xref": "paper",
          "y": 1,
          "yanchor": "bottom",
          "yref": "paper"
         },
         {
          "font": {
           "size": 16
          },
          "showarrow": false,
          "text": "Energy Consumption",
          "x": 0.6312500000000001,
          "xanchor": "center",
          "xref": "paper",
          "y": 1,
          "yanchor": "bottom",
          "yref": "paper"
         },
         {
          "font": {
           "size": 16
          },
          "showarrow": false,
          "text": "Production Cost",
          "x": 0.89375,
          "xanchor": "center",
          "xref": "paper",
          "y": 1,
          "yanchor": "bottom",
          "yref": "paper"
         }
        ],
        "height": 400,
        "showlegend": false,
        "template": {
         "data": {
          "bar": [
           {
            "error_x": {
             "color": "#2a3f5f"
            },
            "error_y": {
             "color": "#2a3f5f"
            },
            "marker": {
             "line": {
              "color": "#E5ECF6",
              "width": 0.5
             },
             "pattern": {
              "fillmode": "overlay",
              "size": 10,
              "solidity": 0.2
             }
            },
            "type": "bar"
           }
          ],
          "barpolar": [
           {
            "marker": {
             "line": {
              "color": "#E5ECF6",
              "width": 0.5
             },
             "pattern": {
              "fillmode": "overlay",
              "size": 10,
              "solidity": 0.2
             }
            },
            "type": "barpolar"
           }
          ],
          "carpet": [
           {
            "aaxis": {
             "endlinecolor": "#2a3f5f",
             "gridcolor": "white",
             "linecolor": "white",
             "minorgridcolor": "white",
             "startlinecolor": "#2a3f5f"
            },
            "baxis": {
             "endlinecolor": "#2a3f5f",
             "gridcolor": "white",
             "linecolor": "white",
             "minorgridcolor": "white",
             "startlinecolor": "#2a3f5f"
            },
            "type": "carpet"
           }
          ],
          "choropleth": [
           {
            "colorbar": {
             "outlinewidth": 0,
             "ticks": ""
            },
            "type": "choropleth"
           }
          ],
          "contour": [
           {
            "colorbar": {
             "outlinewidth": 0,
             "ticks": ""
            },
            "colorscale": [
             [
              0,
              "#0d0887"
             ],
             [
              0.1111111111111111,
              "#46039f"
             ],
             [
              0.2222222222222222,
              "#7201a8"
             ],
             [
              0.3333333333333333,
              "#9c179e"
             ],
             [
              0.4444444444444444,
              "#bd3786"
             ],
             [
              0.5555555555555556,
              "#d8576b"
             ],
             [
              0.6666666666666666,
              "#ed7953"
             ],
             [
              0.7777777777777778,
              "#fb9f3a"
             ],
             [
              0.8888888888888888,
              "#fdca26"
             ],
             [
              1,
              "#f0f921"
             ]
            ],
            "type": "contour"
           }
          ],
          "contourcarpet": [
           {
            "colorbar": {
             "outlinewidth": 0,
             "ticks": ""
            },
            "type": "contourcarpet"
           }
          ],
          "heatmap": [
           {
            "colorbar": {
             "outlinewidth": 0,
             "ticks": ""
            },
            "colorscale": [
             [
              0,
              "#0d0887"
             ],
             [
              0.1111111111111111,
              "#46039f"
             ],
             [
              0.2222222222222222,
              "#7201a8"
             ],
             [
              0.3333333333333333,
              "#9c179e"
             ],
             [
              0.4444444444444444,
              "#bd3786"
             ],
             [
              0.5555555555555556,
              "#d8576b"
             ],
             [
              0.6666666666666666,
              "#ed7953"
             ],
             [
              0.7777777777777778,
              "#fb9f3a"
             ],
             [
              0.8888888888888888,
              "#fdca26"
             ],
             [
              1,
              "#f0f921"
             ]
            ],
            "type": "heatmap"
           }
          ],
          "histogram": [
           {
            "marker": {
             "pattern": {
              "fillmode": "overlay",
              "size": 10,
              "solidity": 0.2
             }
            },
            "type": "histogram"
           }
          ],
          "histogram2d": [
           {
            "colorbar": {
             "outlinewidth": 0,
             "ticks": ""
            },
            "colorscale": [
             [
              0,
              "#0d0887"
             ],
             [
              0.1111111111111111,
              "#46039f"
             ],
             [
              0.2222222222222222,
              "#7201a8"
             ],
             [
              0.3333333333333333,
              "#9c179e"
             ],
             [
              0.4444444444444444,
              "#bd3786"
             ],
             [
              0.5555555555555556,
              "#d8576b"
             ],
             [
              0.6666666666666666,
              "#ed7953"
             ],
             [
              0.7777777777777778,
              "#fb9f3a"
             ],
             [
              0.8888888888888888,
              "#fdca26"
             ],
             [
              1,
              "#f0f921"
             ]
            ],
            "type": "histogram2d"
           }
          ],
          "histogram2dcontour": [
           {
            "colorbar": {
             "outlinewidth": 0,
             "ticks": ""
            },
            "colorscale": [
             [
              0,
              "#0d0887"
             ],
             [
              0.1111111111111111,
              "#46039f"
             ],
             [
              0.2222222222222222,
              "#7201a8"
             ],
             [
              0.3333333333333333,
              "#9c179e"
             ],
             [
              0.4444444444444444,
              "#bd3786"
             ],
             [
              0.5555555555555556,
              "#d8576b"
             ],
             [
              0.6666666666666666,
              "#ed7953"
             ],
             [
              0.7777777777777778,
              "#fb9f3a"
             ],
             [
              0.8888888888888888,
              "#fdca26"
             ],
             [
              1,
              "#f0f921"
             ]
            ],
            "type": "histogram2dcontour"
           }
          ],
          "mesh3d": [
           {
            "colorbar": {
             "outlinewidth": 0,
             "ticks": ""
            },
            "type": "mesh3d"
           }
          ],
          "parcoords": [
           {
            "line": {
             "colorbar": {
              "outlinewidth": 0,
              "ticks": ""
             }
            },
            "type": "parcoords"
           }
          ],
          "pie": [
           {
            "automargin": true,
            "type": "pie"
           }
          ],
          "scatter": [
           {
            "fillpattern": {
             "fillmode": "overlay",
             "size": 10,
             "solidity": 0.2
            },
            "type": "scatter"
           }
          ],
          "scatter3d": [
           {
            "line": {
             "colorbar": {
              "outlinewidth": 0,
              "ticks": ""
             }
            },
            "marker": {
             "colorbar": {
              "outlinewidth": 0,
              "ticks": ""
             }
            },
            "type": "scatter3d"
           }
          ],
          "scattercarpet": [
           {
            "marker": {
             "colorbar": {
              "outlinewidth": 0,
              "ticks": ""
             }
            },
            "type": "scattercarpet"
           }
          ],
          "scattergeo": [
           {
            "marker": {
             "colorbar": {
              "outlinewidth": 0,
              "ticks": ""
             }
            },
            "type": "scattergeo"
           }
          ],
          "scattergl": [
           {
            "marker": {
             "colorbar": {
              "outlinewidth": 0,
              "ticks": ""
             }
            },
            "type": "scattergl"
           }
          ],
          "scattermap": [
           {
            "marker": {
             "colorbar": {
              "outlinewidth": 0,
              "ticks": ""
             }
            },
            "type": "scattermap"
           }
          ],
          "scattermapbox": [
           {
            "marker": {
             "colorbar": {
              "outlinewidth": 0,
              "ticks": ""
             }
            },
            "type": "scattermapbox"
           }
          ],
          "scatterpolar": [
           {
            "marker": {
             "colorbar": {
              "outlinewidth": 0,
              "ticks": ""
             }
            },
            "type": "scatterpolar"
           }
          ],
          "scatterpolargl": [
           {
            "marker": {
             "colorbar": {
              "outlinewidth": 0,
              "ticks": ""
             }
            },
            "type": "scatterpolargl"
           }
          ],
          "scatterternary": [
           {
            "marker": {
             "colorbar": {
              "outlinewidth": 0,
              "ticks": ""
             }
            },
            "type": "scatterternary"
           }
          ],
          "surface": [
           {
            "colorbar": {
             "outlinewidth": 0,
             "ticks": ""
            },
            "colorscale": [
             [
              0,
              "#0d0887"
             ],
             [
              0.1111111111111111,
              "#46039f"
             ],
             [
              0.2222222222222222,
              "#7201a8"
             ],
             [
              0.3333333333333333,
              "#9c179e"
             ],
             [
              0.4444444444444444,
              "#bd3786"
             ],
             [
              0.5555555555555556,
              "#d8576b"
             ],
             [
              0.6666666666666666,
              "#ed7953"
             ],
             [
              0.7777777777777778,
              "#fb9f3a"
             ],
             [
              0.8888888888888888,
              "#fdca26"
             ],
             [
              1,
              "#f0f921"
             ]
            ],
            "type": "surface"
           }
          ],
          "table": [
           {
            "cells": {
             "fill": {
              "color": "#EBF0F8"
             },
             "line": {
              "color": "white"
             }
            },
            "header": {
             "fill": {
              "color": "#C8D4E3"
             },
             "line": {
              "color": "white"
             }
            },
            "type": "table"
           }
          ]
         },
         "layout": {
          "annotationdefaults": {
           "arrowcolor": "#2a3f5f",
           "arrowhead": 0,
           "arrowwidth": 1
          },
          "autotypenumbers": "strict",
          "coloraxis": {
           "colorbar": {
            "outlinewidth": 0,
            "ticks": ""
           }
          },
          "colorscale": {
           "diverging": [
            [
             0,
             "#8e0152"
            ],
            [
             0.1,
             "#c51b7d"
            ],
            [
             0.2,
             "#de77ae"
            ],
            [
             0.3,
             "#f1b6da"
            ],
            [
             0.4,
             "#fde0ef"
            ],
            [
             0.5,
             "#f7f7f7"
            ],
            [
             0.6,
             "#e6f5d0"
            ],
            [
             0.7,
             "#b8e186"
            ],
            [
             0.8,
             "#7fbc41"
            ],
            [
             0.9,
             "#4d9221"
            ],
            [
             1,
             "#276419"
            ]
           ],
           "sequential": [
            [
             0,
             "#0d0887"
            ],
            [
             0.1111111111111111,
             "#46039f"
            ],
            [
             0.2222222222222222,
             "#7201a8"
            ],
            [
             0.3333333333333333,
             "#9c179e"
            ],
            [
             0.4444444444444444,
             "#bd3786"
            ],
            [
             0.5555555555555556,
             "#d8576b"
            ],
            [
             0.6666666666666666,
             "#ed7953"
            ],
            [
             0.7777777777777778,
             "#fb9f3a"
            ],
            [
             0.8888888888888888,
             "#fdca26"
            ],
            [
             1,
             "#f0f921"
            ]
           ],
           "sequentialminus": [
            [
             0,
             "#0d0887"
            ],
            [
             0.1111111111111111,
             "#46039f"
            ],
            [
             0.2222222222222222,
             "#7201a8"
            ],
            [
             0.3333333333333333,
             "#9c179e"
            ],
            [
             0.4444444444444444,
             "#bd3786"
            ],
            [
             0.5555555555555556,
             "#d8576b"
            ],
            [
             0.6666666666666666,
             "#ed7953"
            ],
            [
             0.7777777777777778,
             "#fb9f3a"
            ],
            [
             0.8888888888888888,
             "#fdca26"
            ],
            [
             1,
             "#f0f921"
            ]
           ]
          },
          "colorway": [
           "#636efa",
           "#EF553B",
           "#00cc96",
           "#ab63fa",
           "#FFA15A",
           "#19d3f3",
           "#FF6692",
           "#B6E880",
           "#FF97FF",
           "#FECB52"
          ],
          "font": {
           "color": "#2a3f5f"
          },
          "geo": {
           "bgcolor": "white",
           "lakecolor": "white",
           "landcolor": "#E5ECF6",
           "showlakes": true,
           "showland": true,
           "subunitcolor": "white"
          },
          "hoverlabel": {
           "align": "left"
          },
          "hovermode": "closest",
          "mapbox": {
           "style": "light"
          },
          "paper_bgcolor": "white",
          "plot_bgcolor": "#E5ECF6",
          "polar": {
           "angularaxis": {
            "gridcolor": "white",
            "linecolor": "white",
            "ticks": ""
           },
           "bgcolor": "#E5ECF6",
           "radialaxis": {
            "gridcolor": "white",
            "linecolor": "white",
            "ticks": ""
           }
          },
          "scene": {
           "xaxis": {
            "backgroundcolor": "#E5ECF6",
            "gridcolor": "white",
            "gridwidth": 2,
            "linecolor": "white",
            "showbackground": true,
            "ticks": "",
            "zerolinecolor": "white"
           },
           "yaxis": {
            "backgroundcolor": "#E5ECF6",
            "gridcolor": "white",
            "gridwidth": 2,
            "linecolor": "white",
            "showbackground": true,
            "ticks": "",
            "zerolinecolor": "white"
           },
           "zaxis": {
            "backgroundcolor": "#E5ECF6",
            "gridcolor": "white",
            "gridwidth": 2,
            "linecolor": "white",
            "showbackground": true,
            "ticks": "",
            "zerolinecolor": "white"
           }
          },
          "shapedefaults": {
           "line": {
            "color": "#2a3f5f"
           }
          },
          "ternary": {
           "aaxis": {
            "gridcolor": "white",
            "linecolor": "white",
            "ticks": ""
           },
           "baxis": {
            "gridcolor": "white",
            "linecolor": "white",
            "ticks": ""
           },
           "bgcolor": "#E5ECF6",
           "caxis": {
            "gridcolor": "white",
            "linecolor": "white",
            "ticks": ""
           }
          },
          "title": {
           "x": 0.05
          },
          "xaxis": {
           "automargin": true,
           "gridcolor": "white",
           "linecolor": "white",
           "ticks": "",
           "title": {
            "standoff": 15
           },
           "zerolinecolor": "white",
           "zerolinewidth": 2
          },
          "yaxis": {
           "automargin": true,
           "gridcolor": "white",
           "linecolor": "white",
           "ticks": "",
           "title": {
            "standoff": 15
           },
           "zerolinecolor": "white",
           "zerolinewidth": 2
          }
         }
        },
        "title": {
         "text": "Process Comparison: SMR vs Microwave Plasma"
        },
        "xaxis": {
         "anchor": "y",
         "domain": [
          0,
          0.2125
         ]
        },
        "xaxis2": {
         "anchor": "y2",
         "domain": [
          0.2625,
          0.475
         ]
        },
        "xaxis3": {
         "anchor": "y3",
         "domain": [
          0.525,
          0.7375
         ]
        },
        "xaxis4": {
         "anchor": "y4",
         "domain": [
          0.7875,
          1
         ]
        },
        "yaxis": {
         "anchor": "x",
         "domain": [
          0,
          1
         ],
         "title": {
          "text": "kg H₂O / kg H₂"
         }
        },
        "yaxis2": {
         "anchor": "x2",
         "domain": [
          0,
          1
         ],
         "title": {
          "text": "kg CO₂ / kg H₂"
         }
        },
        "yaxis3": {
         "anchor": "x3",
         "domain": [
          0,
          1
         ],
         "title": {
          "text": "kWh / kg H₂"
         }
        },
        "yaxis4": {
         "anchor": "x4",
         "domain": [
          0,
          1
         ],
         "title": {
          "text": "$ / kg H₂"
         }
        }
       }
      }
     },
     "metadata": {},
     "output_type": "display_data"
    },
    {
     "name": "stdout",
     "output_type": "stream",
     "text": [
      "\n",
      "* SMR cost varies by region and natural gas prices. $2.50/kg is typical for US Gulf Coast.\n"
     ]
    }
   ],
   "source": [
    "# SMR baseline data (from performance_metrics.txt)\n",
    "comparison_data = {\n",
    "    'Metric': [\n",
    "        'Water Consumption (kg/kg H₂)',\n",
    "        'CO₂ Emissions (kg/kg H₂)',\n",
    "        'Energy Consumption (kJ/kg H₂)',\n",
    "        'H₂ Production Cost ($/kg)*'\n",
    "    ],\n",
    "    'Steam Methane Reforming': [\n",
    "        4.5,      # Water\n",
    "        9.7,      # CO2\n",
    "        27,       # Energy\n",
    "        2.50      # Cost (typical)\n",
    "    ],\n",
    "    'Microwave Plasma Process': [\n",
    "        h2o_per_h2,          # XX\n",
    "        co2_per_h2,          # XX\n",
    "        energy_per_h2,       # Higher but renewable\n",
    "        lcoh                 # XX\n",
    "    ]\n",
    "}\n",
    "\n",
    "comparison_df = pd.DataFrame(comparison_data)\n",
    "\n",
    "# Calculate improvements\n",
    "comparison_df['Improvement (%)'] = (\n",
    "    (comparison_df['Steam Methane Reforming'] - comparison_df['Microwave Plasma Process']) / \n",
    "    comparison_df['Steam Methane Reforming'] * 100\n",
    ").round(1)\n",
    "\n",
    "# Display with styling\n",
    "display(comparison_df.style.set_properties(**{'text-align': 'center'}).set_table_styles(\n",
    "    [dict(selector='th', props=[('text-align', 'center')])]\n",
    ").format({\n",
    "    'Steam Methane Reforming': '{:.1f}',\n",
    "    'Microwave Plasma Process': '{:.2f}',\n",
    "    'Improvement (%)': '{:+.1f}%'\n",
    "}))\n",
    "\n",
    "print(f\"\\n🌟 Environmental Advantages:\")\n",
    "print(f\"   • Water Consumption:  {(1 - h2o_per_h2/4.5)*100:.1f}% reduction\")\n",
    "print(f\"   • CO₂ Emissions:      {(1 - co2_per_h2/9.7)*100:.1f}% reduction\")\n",
    "print(f\"   • Near-zero emissions when using renewable electricity\")\n",
    "print(f\"\\n⚡ Energy Trade-off:\")\n",
    "print(f\"   • Higher energy intensity, ideally from renewable sources\")\n",
    "print(f\"   • Our process: Higher energy input, zero carbon output\")\n",
    "print(f\"\\n💰 Cost Competitiveness:\")\n",
    "print(f\"   • LCOH: ${lcoh:.2f}/kg vs ~$2.50/kg for SMR\")\n",
    "print(f\"   • Higher cost, even accounting for high-value co-product\")\n",
    "print(f\"   • Clean hydrogen incentives would likely make this competitive\")\n",
    "\n",
    "# Visualize key metrics\n",
    "fig = make_subplots(\n",
    "    rows=1, cols=4,\n",
    "    subplot_titles=('Water Consumption', 'CO₂ Emissions', 'Energy Consumption', 'Production Cost'),\n",
    "    specs=[[{'type': 'bar'}, {'type': 'bar'}, {'type': 'bar'}, {'type': 'bar'}]]\n",
    ")\n",
    "\n",
    "processes = ['SMR', 'Microwave Plasma']\n",
    "colors = ['#e74c3c', '#2ecc71']\n",
    "\n",
    "# Water\n",
    "fig.add_trace(\n",
    "    go.Bar(x=processes, y=[4.5, h2o_per_h2], name='Water', marker_color=colors, showlegend=False),\n",
    "    row=1, col=1\n",
    ")\n",
    "\n",
    "# CO2\n",
    "fig.add_trace(\n",
    "    go.Bar(x=processes, y=[9.7, co2_per_h2], name='CO2', marker_color=colors, showlegend=False),\n",
    "    row=1, col=2\n",
    ")\n",
    "\n",
    "# energy\n",
    "fig.add_trace(\n",
    "    go.Bar(x=processes, y=[27, energy_per_h2], name='Energy', marker_color=colors, showlegend=False),\n",
    "    row=1, col=3\n",
    ")\n",
    "\n",
    "# Cost\n",
    "fig.add_trace(\n",
    "    go.Bar(x=processes, y=[2.50, lcoh], name='Cost', marker_color=colors, showlegend=False),\n",
    "    row=1, col=4\n",
    ")\n",
    "\n",
    "fig.update_yaxes(title_text=\"kg H₂O / kg H₂\", row=1, col=1)\n",
    "fig.update_yaxes(title_text=\"kg CO₂ / kg H₂\", row=1, col=2)\n",
    "fig.update_yaxes(title_text=\"kWh / kg H₂\", row=1, col=3)\n",
    "fig.update_yaxes(title_text=\"$ / kg H₂\", row=1, col=4)\n",
    "\n",
    "fig.update_layout(height=400, showlegend=False, title_text=\"Process Comparison: SMR vs Microwave Plasma\")\n",
    "\n",
    "fig.show()\n",
    "\n",
    "print(f\"\\n* SMR cost varies by region and natural gas prices. $2.50/kg is typical for US Gulf Coast.\")"
   ]
  },
  {
   "cell_type": "code",
   "execution_count": 1606,
   "id": "e70b2b1d",
   "metadata": {},
   "outputs": [
    {
     "name": "stdout",
     "output_type": "stream",
     "text": [
      "================================================================================\n",
      "PROJECT FINANCIAL ANALYSIS\n",
      "================================================================================\n",
      "\n",
      "💰 Net Present Value:\n",
      "   NPV (15% discount):    $    9.65 million\n",
      "\n",
      "📈 Internal Rate of Return:\n",
      "   Calculated IRR:           18.99%\n",
      "\n",
      "⏱️ Payback Period:\n",
      "   Calculated:                 4.9 years\n"
     ]
    },
    {
     "data": {
      "application/vnd.plotly.v1+json": {
       "config": {
        "plotlyServerURL": "https://plot.ly"
       },
       "data": [
        {
         "fill": "tozeroy",
         "line": {
          "color": "#2ecc71",
          "width": 3
         },
         "marker": {
          "size": 6
         },
         "mode": "lines+markers",
         "name": "Cumulative Cash Flow",
         "type": "scatter",
         "x": [
          0,
          1,
          2,
          3,
          4,
          5,
          6,
          7,
          8,
          9,
          10,
          11,
          12,
          13,
          14,
          15,
          16,
          17,
          18,
          19,
          20
         ],
         "y": [
          -44940000,
          -35766023.35334962,
          -26592046.706699237,
          -17418070.060048856,
          -8244093.413398473,
          929883.2332519107,
          10103859.879902294,
          19277836.526552677,
          27103613.17320306,
          34929389.81985344,
          42755166.46650382,
          50580943.1131542,
          58406719.759804584,
          66232496.406454965,
          74058273.05310535,
          81884049.69975574,
          89709826.34640613,
          97535602.99305652,
          105361379.63970691,
          113187156.2863573,
          121012932.93300769
         ]
        }
       ],
       "layout": {
        "annotations": [
         {
          "showarrow": false,
          "text": "Break Even",
          "x": 1,
          "xanchor": "right",
          "xref": "x domain",
          "y": 0,
          "yanchor": "bottom",
          "yref": "y"
         },
         {
          "showarrow": false,
          "text": "Payback: 4.9 years",
          "x": 4.898639023286436,
          "xanchor": "left",
          "xref": "x",
          "y": 1,
          "yanchor": "top",
          "yref": "y domain"
         }
        ],
        "height": 500,
        "hovermode": "x unified",
        "shapes": [
         {
          "line": {
           "color": "red",
           "dash": "dash"
          },
          "type": "line",
          "x0": 0,
          "x1": 1,
          "xref": "x domain",
          "y0": 0,
          "y1": 0,
          "yref": "y"
         },
         {
          "line": {
           "color": "orange",
           "dash": "dot"
          },
          "type": "line",
          "x0": 4.898639023286436,
          "x1": 4.898639023286436,
          "xref": "x",
          "y0": 0,
          "y1": 1,
          "yref": "y domain"
         }
        ],
        "template": {
         "data": {
          "bar": [
           {
            "error_x": {
             "color": "#2a3f5f"
            },
            "error_y": {
             "color": "#2a3f5f"
            },
            "marker": {
             "line": {
              "color": "#E5ECF6",
              "width": 0.5
             },
             "pattern": {
              "fillmode": "overlay",
              "size": 10,
              "solidity": 0.2
             }
            },
            "type": "bar"
           }
          ],
          "barpolar": [
           {
            "marker": {
             "line": {
              "color": "#E5ECF6",
              "width": 0.5
             },
             "pattern": {
              "fillmode": "overlay",
              "size": 10,
              "solidity": 0.2
             }
            },
            "type": "barpolar"
           }
          ],
          "carpet": [
           {
            "aaxis": {
             "endlinecolor": "#2a3f5f",
             "gridcolor": "white",
             "linecolor": "white",
             "minorgridcolor": "white",
             "startlinecolor": "#2a3f5f"
            },
            "baxis": {
             "endlinecolor": "#2a3f5f",
             "gridcolor": "white",
             "linecolor": "white",
             "minorgridcolor": "white",
             "startlinecolor": "#2a3f5f"
            },
            "type": "carpet"
           }
          ],
          "choropleth": [
           {
            "colorbar": {
             "outlinewidth": 0,
             "ticks": ""
            },
            "type": "choropleth"
           }
          ],
          "contour": [
           {
            "colorbar": {
             "outlinewidth": 0,
             "ticks": ""
            },
            "colorscale": [
             [
              0,
              "#0d0887"
             ],
             [
              0.1111111111111111,
              "#46039f"
             ],
             [
              0.2222222222222222,
              "#7201a8"
             ],
             [
              0.3333333333333333,
              "#9c179e"
             ],
             [
              0.4444444444444444,
              "#bd3786"
             ],
             [
              0.5555555555555556,
              "#d8576b"
             ],
             [
              0.6666666666666666,
              "#ed7953"
             ],
             [
              0.7777777777777778,
              "#fb9f3a"
             ],
             [
              0.8888888888888888,
              "#fdca26"
             ],
             [
              1,
              "#f0f921"
             ]
            ],
            "type": "contour"
           }
          ],
          "contourcarpet": [
           {
            "colorbar": {
             "outlinewidth": 0,
             "ticks": ""
            },
            "type": "contourcarpet"
           }
          ],
          "heatmap": [
           {
            "colorbar": {
             "outlinewidth": 0,
             "ticks": ""
            },
            "colorscale": [
             [
              0,
              "#0d0887"
             ],
             [
              0.1111111111111111,
              "#46039f"
             ],
             [
              0.2222222222222222,
              "#7201a8"
             ],
             [
              0.3333333333333333,
              "#9c179e"
             ],
             [
              0.4444444444444444,
              "#bd3786"
             ],
             [
              0.5555555555555556,
              "#d8576b"
             ],
             [
              0.6666666666666666,
              "#ed7953"
             ],
             [
              0.7777777777777778,
              "#fb9f3a"
             ],
             [
              0.8888888888888888,
              "#fdca26"
             ],
             [
              1,
              "#f0f921"
             ]
            ],
            "type": "heatmap"
           }
          ],
          "histogram": [
           {
            "marker": {
             "pattern": {
              "fillmode": "overlay",
              "size": 10,
              "solidity": 0.2
             }
            },
            "type": "histogram"
           }
          ],
          "histogram2d": [
           {
            "colorbar": {
             "outlinewidth": 0,
             "ticks": ""
            },
            "colorscale": [
             [
              0,
              "#0d0887"
             ],
             [
              0.1111111111111111,
              "#46039f"
             ],
             [
              0.2222222222222222,
              "#7201a8"
             ],
             [
              0.3333333333333333,
              "#9c179e"
             ],
             [
              0.4444444444444444,
              "#bd3786"
             ],
             [
              0.5555555555555556,
              "#d8576b"
             ],
             [
              0.6666666666666666,
              "#ed7953"
             ],
             [
              0.7777777777777778,
              "#fb9f3a"
             ],
             [
              0.8888888888888888,
              "#fdca26"
             ],
             [
              1,
              "#f0f921"
             ]
            ],
            "type": "histogram2d"
           }
          ],
          "histogram2dcontour": [
           {
            "colorbar": {
             "outlinewidth": 0,
             "ticks": ""
            },
            "colorscale": [
             [
              0,
              "#0d0887"
             ],
             [
              0.1111111111111111,
              "#46039f"
             ],
             [
              0.2222222222222222,
              "#7201a8"
             ],
             [
              0.3333333333333333,
              "#9c179e"
             ],
             [
              0.4444444444444444,
              "#bd3786"
             ],
             [
              0.5555555555555556,
              "#d8576b"
             ],
             [
              0.6666666666666666,
              "#ed7953"
             ],
             [
              0.7777777777777778,
              "#fb9f3a"
             ],
             [
              0.8888888888888888,
              "#fdca26"
             ],
             [
              1,
              "#f0f921"
             ]
            ],
            "type": "histogram2dcontour"
           }
          ],
          "mesh3d": [
           {
            "colorbar": {
             "outlinewidth": 0,
             "ticks": ""
            },
            "type": "mesh3d"
           }
          ],
          "parcoords": [
           {
            "line": {
             "colorbar": {
              "outlinewidth": 0,
              "ticks": ""
             }
            },
            "type": "parcoords"
           }
          ],
          "pie": [
           {
            "automargin": true,
            "type": "pie"
           }
          ],
          "scatter": [
           {
            "fillpattern": {
             "fillmode": "overlay",
             "size": 10,
             "solidity": 0.2
            },
            "type": "scatter"
           }
          ],
          "scatter3d": [
           {
            "line": {
             "colorbar": {
              "outlinewidth": 0,
              "ticks": ""
             }
            },
            "marker": {
             "colorbar": {
              "outlinewidth": 0,
              "ticks": ""
             }
            },
            "type": "scatter3d"
           }
          ],
          "scattercarpet": [
           {
            "marker": {
             "colorbar": {
              "outlinewidth": 0,
              "ticks": ""
             }
            },
            "type": "scattercarpet"
           }
          ],
          "scattergeo": [
           {
            "marker": {
             "colorbar": {
              "outlinewidth": 0,
              "ticks": ""
             }
            },
            "type": "scattergeo"
           }
          ],
          "scattergl": [
           {
            "marker": {
             "colorbar": {
              "outlinewidth": 0,
              "ticks": ""
             }
            },
            "type": "scattergl"
           }
          ],
          "scattermap": [
           {
            "marker": {
             "colorbar": {
              "outlinewidth": 0,
              "ticks": ""
             }
            },
            "type": "scattermap"
           }
          ],
          "scattermapbox": [
           {
            "marker": {
             "colorbar": {
              "outlinewidth": 0,
              "ticks": ""
             }
            },
            "type": "scattermapbox"
           }
          ],
          "scatterpolar": [
           {
            "marker": {
             "colorbar": {
              "outlinewidth": 0,
              "ticks": ""
             }
            },
            "type": "scatterpolar"
           }
          ],
          "scatterpolargl": [
           {
            "marker": {
             "colorbar": {
              "outlinewidth": 0,
              "ticks": ""
             }
            },
            "type": "scatterpolargl"
           }
          ],
          "scatterternary": [
           {
            "marker": {
             "colorbar": {
              "outlinewidth": 0,
              "ticks": ""
             }
            },
            "type": "scatterternary"
           }
          ],
          "surface": [
           {
            "colorbar": {
             "outlinewidth": 0,
             "ticks": ""
            },
            "colorscale": [
             [
              0,
              "#0d0887"
             ],
             [
              0.1111111111111111,
              "#46039f"
             ],
             [
              0.2222222222222222,
              "#7201a8"
             ],
             [
              0.3333333333333333,
              "#9c179e"
             ],
             [
              0.4444444444444444,
              "#bd3786"
             ],
             [
              0.5555555555555556,
              "#d8576b"
             ],
             [
              0.6666666666666666,
              "#ed7953"
             ],
             [
              0.7777777777777778,
              "#fb9f3a"
             ],
             [
              0.8888888888888888,
              "#fdca26"
             ],
             [
              1,
              "#f0f921"
             ]
            ],
            "type": "surface"
           }
          ],
          "table": [
           {
            "cells": {
             "fill": {
              "color": "#EBF0F8"
             },
             "line": {
              "color": "white"
             }
            },
            "header": {
             "fill": {
              "color": "#C8D4E3"
             },
             "line": {
              "color": "white"
             }
            },
            "type": "table"
           }
          ]
         },
         "layout": {
          "annotationdefaults": {
           "arrowcolor": "#2a3f5f",
           "arrowhead": 0,
           "arrowwidth": 1
          },
          "autotypenumbers": "strict",
          "coloraxis": {
           "colorbar": {
            "outlinewidth": 0,
            "ticks": ""
           }
          },
          "colorscale": {
           "diverging": [
            [
             0,
             "#8e0152"
            ],
            [
             0.1,
             "#c51b7d"
            ],
            [
             0.2,
             "#de77ae"
            ],
            [
             0.3,
             "#f1b6da"
            ],
            [
             0.4,
             "#fde0ef"
            ],
            [
             0.5,
             "#f7f7f7"
            ],
            [
             0.6,
             "#e6f5d0"
            ],
            [
             0.7,
             "#b8e186"
            ],
            [
             0.8,
             "#7fbc41"
            ],
            [
             0.9,
             "#4d9221"
            ],
            [
             1,
             "#276419"
            ]
           ],
           "sequential": [
            [
             0,
             "#0d0887"
            ],
            [
             0.1111111111111111,
             "#46039f"
            ],
            [
             0.2222222222222222,
             "#7201a8"
            ],
            [
             0.3333333333333333,
             "#9c179e"
            ],
            [
             0.4444444444444444,
             "#bd3786"
            ],
            [
             0.5555555555555556,
             "#d8576b"
            ],
            [
             0.6666666666666666,
             "#ed7953"
            ],
            [
             0.7777777777777778,
             "#fb9f3a"
            ],
            [
             0.8888888888888888,
             "#fdca26"
            ],
            [
             1,
             "#f0f921"
            ]
           ],
           "sequentialminus": [
            [
             0,
             "#0d0887"
            ],
            [
             0.1111111111111111,
             "#46039f"
            ],
            [
             0.2222222222222222,
             "#7201a8"
            ],
            [
             0.3333333333333333,
             "#9c179e"
            ],
            [
             0.4444444444444444,
             "#bd3786"
            ],
            [
             0.5555555555555556,
             "#d8576b"
            ],
            [
             0.6666666666666666,
             "#ed7953"
            ],
            [
             0.7777777777777778,
             "#fb9f3a"
            ],
            [
             0.8888888888888888,
             "#fdca26"
            ],
            [
             1,
             "#f0f921"
            ]
           ]
          },
          "colorway": [
           "#636efa",
           "#EF553B",
           "#00cc96",
           "#ab63fa",
           "#FFA15A",
           "#19d3f3",
           "#FF6692",
           "#B6E880",
           "#FF97FF",
           "#FECB52"
          ],
          "font": {
           "color": "#2a3f5f"
          },
          "geo": {
           "bgcolor": "white",
           "lakecolor": "white",
           "landcolor": "#E5ECF6",
           "showlakes": true,
           "showland": true,
           "subunitcolor": "white"
          },
          "hoverlabel": {
           "align": "left"
          },
          "hovermode": "closest",
          "mapbox": {
           "style": "light"
          },
          "paper_bgcolor": "white",
          "plot_bgcolor": "#E5ECF6",
          "polar": {
           "angularaxis": {
            "gridcolor": "white",
            "linecolor": "white",
            "ticks": ""
           },
           "bgcolor": "#E5ECF6",
           "radialaxis": {
            "gridcolor": "white",
            "linecolor": "white",
            "ticks": ""
           }
          },
          "scene": {
           "xaxis": {
            "backgroundcolor": "#E5ECF6",
            "gridcolor": "white",
            "gridwidth": 2,
            "linecolor": "white",
            "showbackground": true,
            "ticks": "",
            "zerolinecolor": "white"
           },
           "yaxis": {
            "backgroundcolor": "#E5ECF6",
            "gridcolor": "white",
            "gridwidth": 2,
            "linecolor": "white",
            "showbackground": true,
            "ticks": "",
            "zerolinecolor": "white"
           },
           "zaxis": {
            "backgroundcolor": "#E5ECF6",
            "gridcolor": "white",
            "gridwidth": 2,
            "linecolor": "white",
            "showbackground": true,
            "ticks": "",
            "zerolinecolor": "white"
           }
          },
          "shapedefaults": {
           "line": {
            "color": "#2a3f5f"
           }
          },
          "ternary": {
           "aaxis": {
            "gridcolor": "white",
            "linecolor": "white",
            "ticks": ""
           },
           "baxis": {
            "gridcolor": "white",
            "linecolor": "white",
            "ticks": ""
           },
           "bgcolor": "#E5ECF6",
           "caxis": {
            "gridcolor": "white",
            "linecolor": "white",
            "ticks": ""
           }
          },
          "title": {
           "x": 0.05
          },
          "xaxis": {
           "automargin": true,
           "gridcolor": "white",
           "linecolor": "white",
           "ticks": "",
           "title": {
            "standoff": 15
           },
           "zerolinecolor": "white",
           "zerolinewidth": 2
          },
          "yaxis": {
           "automargin": true,
           "gridcolor": "white",
           "linecolor": "white",
           "ticks": "",
           "title": {
            "standoff": 15
           },
           "zerolinecolor": "white",
           "zerolinewidth": 2
          }
         }
        },
        "title": {
         "text": "Cumulative Cash Flow Over Project Life"
        },
        "xaxis": {
         "title": {
          "text": "Year"
         }
        },
        "yaxis": {
         "title": {
          "text": "Cumulative Cash Flow (USD)"
         }
        }
       }
      }
     },
     "metadata": {},
     "output_type": "display_data"
    },
    {
     "name": "stdout",
     "output_type": "stream",
     "text": [
      "\n",
      "🎯 Investment Attractiveness:\n",
      "   ✅ Positive NPV: Project creates value\n",
      "   ✅ IRR (19.0%) exceeds discount rate (15.0%)\n",
      "   ✅ Fast payback: 4.9 years is excellent for chemical industry\n"
     ]
    }
   ],
   "source": [
    "def calculate_project_npv(capex, annual_revenue, annual_variable_costs, \n",
    "                          discount_rate, project_life, \n",
    "                          annual_fixed_costs=0, tax_rate=0.21):\n",
    "    \"\"\"\n",
    "    Calculate NPV and IRR with more detailed cash flow model\n",
    "    \n",
    "    Parameters match actual thesis financial structure\n",
    "    \"\"\"\n",
    "    \n",
    "    # Year 0: Capital investment\n",
    "    cash_flows = [-capex]\n",
    "    \n",
    "    # Years 1-20: Operating cash flows\n",
    "    for year in range(1, project_life + 1):\n",
    "        # Revenue\n",
    "        revenue = annual_revenue\n",
    "        \n",
    "        # Costs\n",
    "        variable_cost = annual_variable_costs\n",
    "        fixed_cost = annual_fixed_costs\n",
    "        \n",
    "        # EBITDA\n",
    "        ebitda = revenue - variable_cost - fixed_cost\n",
    "        \n",
    "        # Depreciation (simplified - straight line over 7 years)\n",
    "        if year <= 7:\n",
    "            depreciation = capex / 7\n",
    "        else:\n",
    "            depreciation = 0\n",
    "        \n",
    "        # EBIT\n",
    "        ebit = ebitda - depreciation\n",
    "        \n",
    "        # Taxes\n",
    "        taxes = max(0, ebit * tax_rate)\n",
    "        \n",
    "        # Net Income\n",
    "        net_income = ebit - taxes\n",
    "        \n",
    "        # Cash Flow = Net Income + Depreciation (add back non-cash)\n",
    "        cash_flow = net_income + depreciation\n",
    "        \n",
    "        cash_flows.append(cash_flow)\n",
    "    \n",
    "    # Calculate NPV\n",
    "    npv_calc = npf.npv(discount_rate, cash_flows)\n",
    "    \n",
    "    # Calculate IRR\n",
    "    try:\n",
    "        irr_calc = npf.irr(cash_flows) * 100\n",
    "    except:\n",
    "        irr_calc = None\n",
    "    \n",
    "    # Simple payback\n",
    "    cumulative = -capex\n",
    "    payback_year = None\n",
    "    for year in range(1, project_life + 1):\n",
    "        cumulative += cash_flows[year]\n",
    "        if cumulative >= 0 and payback_year is None:\n",
    "            previous_cumulative = cumulative - cash_flows[year]  # Balance before this year\n",
    "            fraction_of_year = abs(previous_cumulative) / cash_flows[year]\n",
    "            payback_year = year - 1 + fraction_of_year\n",
    "            break\n",
    "    \n",
    "    return {\n",
    "        'NPV': npv_calc,\n",
    "        'IRR': irr_calc,\n",
    "        'Payback': payback_year,\n",
    "        'Cash Flows': cash_flows\n",
    "    }\n",
    "\n",
    "# Calculate with actual numbers\n",
    "results = calculate_project_npv(\n",
    "    capex=capex,\n",
    "    annual_revenue=total_revenue,\n",
    "    annual_variable_costs=variable_opex,\n",
    "    discount_rate=discount_rate,\n",
    "    project_life=int(plant_lifetime),\n",
    "    annual_fixed_costs=fixed_opex,\n",
    "    tax_rate=0.21\n",
    ")\n",
    "\n",
    "print(\"=\"*80)\n",
    "print(\"PROJECT FINANCIAL ANALYSIS\")\n",
    "print(\"=\"*80)\n",
    "print(f\"\\n💰 Net Present Value:\")\n",
    "print(f\"   NPV (15% discount):    ${results['NPV']/1e6:>8.2f} million\")\n",
    "\n",
    "print(f\"\\n📈 Internal Rate of Return:\")\n",
    "print(f\"   Calculated IRR:        {results['IRR']:>8.2f}%\")\n",
    "\n",
    "print(f\"\\n⏱️ Payback Period:\")\n",
    "if results['Payback'] is None:\n",
    "    print( f\"   Calculated:         {'Never':>8} (doesn't pay back within {plant_lifetime} years)\")\n",
    "else:\n",
    "    print(f\"   Calculated:            {results['Payback']:>8.1f} years\")\n",
    "\n",
    "# Visualize cumulative cash flow\n",
    "years = list(range(0, int(plant_lifetime) + 1))\n",
    "cumulative_cf = [results['Cash Flows'][0]]  # Start with -CapEx\n",
    "\n",
    "for i in range(1, len(results['Cash Flows'])):\n",
    "    cumulative_cf.append(cumulative_cf[-1] + results['Cash Flows'][i])\n",
    "\n",
    "fig = go.Figure()\n",
    "\n",
    "fig.add_trace(go.Scatter(\n",
    "    x=years,\n",
    "    y=cumulative_cf,\n",
    "    mode='lines+markers',\n",
    "    name='Cumulative Cash Flow',\n",
    "    fill='tozeroy',\n",
    "    line=dict(width=3, color='#2ecc71'),\n",
    "    marker=dict(size=6)\n",
    "))\n",
    "\n",
    "fig.add_hline(y=0, line_dash=\"dash\", line_color=\"red\", annotation_text=\"Break Even\")\n",
    "\n",
    "# Mark payback point\n",
    "if results['Payback']:\n",
    "    fig.add_vline(x=results['Payback'], line_dash=\"dot\", line_color=\"orange\",\n",
    "                  annotation_text=f\"Payback: {results['Payback']:.1f} years\")\n",
    "\n",
    "fig.update_layout(\n",
    "    title='Cumulative Cash Flow Over Project Life',\n",
    "    xaxis_title='Year',\n",
    "    yaxis_title='Cumulative Cash Flow (USD)',\n",
    "    hovermode='x unified',\n",
    "    height=500\n",
    ")\n",
    "\n",
    "fig.show()\n",
    "\n",
    "print(f\"\\n🎯 Investment Attractiveness:\")\n",
    "if results['NPV'] > 0:\n",
    "    print(f\"   ✅ Positive NPV: Project creates value\")\n",
    "if results['IRR'] and results['IRR'] > discount_rate * 100:\n",
    "    print(f\"   ✅ IRR ({results['IRR']:.1f}%) exceeds discount rate ({discount_rate*100}%)\")\n",
    "if results['Payback'] and results['Payback'] < 5:\n",
    "    print(f\"   ✅ Fast payback: {results['Payback']:.1f} years is excellent for chemical industry\")"
   ]
  },
  {
   "cell_type": "code",
   "execution_count": 1607,
   "id": "9855b189",
   "metadata": {},
   "outputs": [
    {
     "data": {
      "application/vnd.plotly.v1+json": {
       "config": {
        "plotlyServerURL": "https://plot.ly"
       },
       "data": [
        {
         "hovertemplate": "Capacity Factor<br>Low Case: $8.7M<extra></extra>",
         "marker": {
          "color": "#3498db"
         },
         "name": "Capacity Factor",
         "orientation": "h",
         "showlegend": false,
         "type": "bar",
         "x": [
          -965320.7955928463
         ],
         "y": [
          "Capacity Factor"
         ]
        },
        {
         "hovertemplate": "Capacity Factor<br>High Case: $10.6M<extra></extra>",
         "marker": {
          "color": "#e74c3c"
         },
         "name": "Capacity Factor",
         "orientation": "h",
         "showlegend": false,
         "type": "bar",
         "x": [
          965320.7955928463
         ],
         "y": [
          "Capacity Factor"
         ]
        },
        {
         "hovertemplate": "Discount Rate<br>Low Case: $8.7M<extra></extra>",
         "marker": {
          "color": "#3498db"
         },
         "name": "Discount Rate",
         "orientation": "h",
         "showlegend": false,
         "type": "bar",
         "x": [
          -965320.7955928463
         ],
         "y": [
          "Discount Rate"
         ]
        },
        {
         "hovertemplate": "Discount Rate<br>High Case: $10.6M<extra></extra>",
         "marker": {
          "color": "#e74c3c"
         },
         "name": "Discount Rate",
         "orientation": "h",
         "showlegend": false,
         "type": "bar",
         "x": [
          965320.7955928463
         ],
         "y": [
          "Discount Rate"
         ]
        },
        {
         "hovertemplate": "Carbon Conversion<br>Low Case: $8.7M<extra></extra>",
         "marker": {
          "color": "#3498db"
         },
         "name": "Carbon Conversion",
         "orientation": "h",
         "showlegend": false,
         "type": "bar",
         "x": [
          -965320.7955928463
         ],
         "y": [
          "Carbon Conversion"
         ]
        },
        {
         "hovertemplate": "Carbon Conversion<br>High Case: $10.6M<extra></extra>",
         "marker": {
          "color": "#e74c3c"
         },
         "name": "Carbon Conversion",
         "orientation": "h",
         "showlegend": false,
         "type": "bar",
         "x": [
          965320.7955928463
         ],
         "y": [
          "Carbon Conversion"
         ]
        },
        {
         "hovertemplate": "Rng Price<br>Low Case: $15.4M<extra></extra>",
         "marker": {
          "color": "#3498db"
         },
         "name": "Rng Price",
         "orientation": "h",
         "showlegend": false,
         "type": "bar",
         "x": [
          5757102.796212947
         ],
         "y": [
          "Rng Price"
         ]
        },
        {
         "hovertemplate": "Rng Price<br>High Case: $3.9M<extra></extra>",
         "marker": {
          "color": "#e74c3c"
         },
         "name": "Rng Price",
         "orientation": "h",
         "showlegend": false,
         "type": "bar",
         "x": [
          -5757102.796212946
         ],
         "y": [
          "Rng Price"
         ]
        },
        {
         "hovertemplate": "Capex Total<br>Low Case: $24.7M<extra></extra>",
         "marker": {
          "color": "#3498db"
         },
         "name": "Capex Total",
         "orientation": "h",
         "showlegend": false,
         "type": "bar",
         "x": [
          15000000.000000002
         ],
         "y": [
          "Capex Total"
         ]
        },
        {
         "hovertemplate": "Capex Total<br>High Case: $-5.3M<extra></extra>",
         "marker": {
          "color": "#e74c3c"
         },
         "name": "Capex Total",
         "orientation": "h",
         "showlegend": false,
         "type": "bar",
         "x": [
          -15000000
         ],
         "y": [
          "Capex Total"
         ]
        },
        {
         "hovertemplate": "Electricity Price<br>Low Case: $31.3M<extra></extra>",
         "marker": {
          "color": "#3498db"
         },
         "name": "Electricity Price",
         "orientation": "h",
         "showlegend": false,
         "type": "bar",
         "x": [
          21676704.522090398
         ],
         "y": [
          "Electricity Price"
         ]
        },
        {
         "hovertemplate": "Electricity Price<br>High Case: $-12.0M<extra></extra>",
         "marker": {
          "color": "#e74c3c"
         },
         "name": "Electricity Price",
         "orientation": "h",
         "showlegend": false,
         "type": "bar",
         "x": [
          -21676704.5220904
         ],
         "y": [
          "Electricity Price"
         ]
        },
        {
         "hovertemplate": "Hydrogen Price<br>Low Case: $-29.6M<extra></extra>",
         "marker": {
          "color": "#3498db"
         },
         "name": "Hydrogen Price",
         "orientation": "h",
         "showlegend": false,
         "type": "bar",
         "x": [
          -39228932.38327803
         ],
         "y": [
          "Hydrogen Price"
         ]
        },
        {
         "hovertemplate": "Hydrogen Price<br>High Case: $48.9M<extra></extra>",
         "marker": {
          "color": "#e74c3c"
         },
         "name": "Hydrogen Price",
         "orientation": "h",
         "showlegend": false,
         "type": "bar",
         "x": [
          39228932.38327803
         ],
         "y": [
          "Hydrogen Price"
         ]
        },
        {
         "hovertemplate": "Acetylene Black Price<br>Low Case: $-31.5M<extra></extra>",
         "marker": {
          "color": "#3498db"
         },
         "name": "Acetylene Black Price",
         "orientation": "h",
         "showlegend": false,
         "type": "bar",
         "x": [
          -41144972.83547578
         ],
         "y": [
          "Acetylene Black Price"
         ]
        },
        {
         "hovertemplate": "Acetylene Black Price<br>High Case: $50.8M<extra></extra>",
         "marker": {
          "color": "#e74c3c"
         },
         "name": "Acetylene Black Price",
         "orientation": "h",
         "showlegend": false,
         "type": "bar",
         "x": [
          41144972.83547578
         ],
         "y": [
          "Acetylene Black Price"
         ]
        }
       ],
       "layout": {
        "barmode": "overlay",
        "height": 500,
        "hovermode": "y unified",
        "shapes": [
         {
          "line": {
           "color": "black",
           "dash": "solid",
           "width": 2
          },
          "type": "line",
          "x0": 0,
          "x1": 0,
          "xref": "x",
          "y0": 0,
          "y1": 1,
          "yref": "y domain"
         }
        ],
        "template": {
         "data": {
          "bar": [
           {
            "error_x": {
             "color": "#2a3f5f"
            },
            "error_y": {
             "color": "#2a3f5f"
            },
            "marker": {
             "line": {
              "color": "#E5ECF6",
              "width": 0.5
             },
             "pattern": {
              "fillmode": "overlay",
              "size": 10,
              "solidity": 0.2
             }
            },
            "type": "bar"
           }
          ],
          "barpolar": [
           {
            "marker": {
             "line": {
              "color": "#E5ECF6",
              "width": 0.5
             },
             "pattern": {
              "fillmode": "overlay",
              "size": 10,
              "solidity": 0.2
             }
            },
            "type": "barpolar"
           }
          ],
          "carpet": [
           {
            "aaxis": {
             "endlinecolor": "#2a3f5f",
             "gridcolor": "white",
             "linecolor": "white",
             "minorgridcolor": "white",
             "startlinecolor": "#2a3f5f"
            },
            "baxis": {
             "endlinecolor": "#2a3f5f",
             "gridcolor": "white",
             "linecolor": "white",
             "minorgridcolor": "white",
             "startlinecolor": "#2a3f5f"
            },
            "type": "carpet"
           }
          ],
          "choropleth": [
           {
            "colorbar": {
             "outlinewidth": 0,
             "ticks": ""
            },
            "type": "choropleth"
           }
          ],
          "contour": [
           {
            "colorbar": {
             "outlinewidth": 0,
             "ticks": ""
            },
            "colorscale": [
             [
              0,
              "#0d0887"
             ],
             [
              0.1111111111111111,
              "#46039f"
             ],
             [
              0.2222222222222222,
              "#7201a8"
             ],
             [
              0.3333333333333333,
              "#9c179e"
             ],
             [
              0.4444444444444444,
              "#bd3786"
             ],
             [
              0.5555555555555556,
              "#d8576b"
             ],
             [
              0.6666666666666666,
              "#ed7953"
             ],
             [
              0.7777777777777778,
              "#fb9f3a"
             ],
             [
              0.8888888888888888,
              "#fdca26"
             ],
             [
              1,
              "#f0f921"
             ]
            ],
            "type": "contour"
           }
          ],
          "contourcarpet": [
           {
            "colorbar": {
             "outlinewidth": 0,
             "ticks": ""
            },
            "type": "contourcarpet"
           }
          ],
          "heatmap": [
           {
            "colorbar": {
             "outlinewidth": 0,
             "ticks": ""
            },
            "colorscale": [
             [
              0,
              "#0d0887"
             ],
             [
              0.1111111111111111,
              "#46039f"
             ],
             [
              0.2222222222222222,
              "#7201a8"
             ],
             [
              0.3333333333333333,
              "#9c179e"
             ],
             [
              0.4444444444444444,
              "#bd3786"
             ],
             [
              0.5555555555555556,
              "#d8576b"
             ],
             [
              0.6666666666666666,
              "#ed7953"
             ],
             [
              0.7777777777777778,
              "#fb9f3a"
             ],
             [
              0.8888888888888888,
              "#fdca26"
             ],
             [
              1,
              "#f0f921"
             ]
            ],
            "type": "heatmap"
           }
          ],
          "histogram": [
           {
            "marker": {
             "pattern": {
              "fillmode": "overlay",
              "size": 10,
              "solidity": 0.2
             }
            },
            "type": "histogram"
           }
          ],
          "histogram2d": [
           {
            "colorbar": {
             "outlinewidth": 0,
             "ticks": ""
            },
            "colorscale": [
             [
              0,
              "#0d0887"
             ],
             [
              0.1111111111111111,
              "#46039f"
             ],
             [
              0.2222222222222222,
              "#7201a8"
             ],
             [
              0.3333333333333333,
              "#9c179e"
             ],
             [
              0.4444444444444444,
              "#bd3786"
             ],
             [
              0.5555555555555556,
              "#d8576b"
             ],
             [
              0.6666666666666666,
              "#ed7953"
             ],
             [
              0.7777777777777778,
              "#fb9f3a"
             ],
             [
              0.8888888888888888,
              "#fdca26"
             ],
             [
              1,
              "#f0f921"
             ]
            ],
            "type": "histogram2d"
           }
          ],
          "histogram2dcontour": [
           {
            "colorbar": {
             "outlinewidth": 0,
             "ticks": ""
            },
            "colorscale": [
             [
              0,
              "#0d0887"
             ],
             [
              0.1111111111111111,
              "#46039f"
             ],
             [
              0.2222222222222222,
              "#7201a8"
             ],
             [
              0.3333333333333333,
              "#9c179e"
             ],
             [
              0.4444444444444444,
              "#bd3786"
             ],
             [
              0.5555555555555556,
              "#d8576b"
             ],
             [
              0.6666666666666666,
              "#ed7953"
             ],
             [
              0.7777777777777778,
              "#fb9f3a"
             ],
             [
              0.8888888888888888,
              "#fdca26"
             ],
             [
              1,
              "#f0f921"
             ]
            ],
            "type": "histogram2dcontour"
           }
          ],
          "mesh3d": [
           {
            "colorbar": {
             "outlinewidth": 0,
             "ticks": ""
            },
            "type": "mesh3d"
           }
          ],
          "parcoords": [
           {
            "line": {
             "colorbar": {
              "outlinewidth": 0,
              "ticks": ""
             }
            },
            "type": "parcoords"
           }
          ],
          "pie": [
           {
            "automargin": true,
            "type": "pie"
           }
          ],
          "scatter": [
           {
            "fillpattern": {
             "fillmode": "overlay",
             "size": 10,
             "solidity": 0.2
            },
            "type": "scatter"
           }
          ],
          "scatter3d": [
           {
            "line": {
             "colorbar": {
              "outlinewidth": 0,
              "ticks": ""
             }
            },
            "marker": {
             "colorbar": {
              "outlinewidth": 0,
              "ticks": ""
             }
            },
            "type": "scatter3d"
           }
          ],
          "scattercarpet": [
           {
            "marker": {
             "colorbar": {
              "outlinewidth": 0,
              "ticks": ""
             }
            },
            "type": "scattercarpet"
           }
          ],
          "scattergeo": [
           {
            "marker": {
             "colorbar": {
              "outlinewidth": 0,
              "ticks": ""
             }
            },
            "type": "scattergeo"
           }
          ],
          "scattergl": [
           {
            "marker": {
             "colorbar": {
              "outlinewidth": 0,
              "ticks": ""
             }
            },
            "type": "scattergl"
           }
          ],
          "scattermap": [
           {
            "marker": {
             "colorbar": {
              "outlinewidth": 0,
              "ticks": ""
             }
            },
            "type": "scattermap"
           }
          ],
          "scattermapbox": [
           {
            "marker": {
             "colorbar": {
              "outlinewidth": 0,
              "ticks": ""
             }
            },
            "type": "scattermapbox"
           }
          ],
          "scatterpolar": [
           {
            "marker": {
             "colorbar": {
              "outlinewidth": 0,
              "ticks": ""
             }
            },
            "type": "scatterpolar"
           }
          ],
          "scatterpolargl": [
           {
            "marker": {
             "colorbar": {
              "outlinewidth": 0,
              "ticks": ""
             }
            },
            "type": "scatterpolargl"
           }
          ],
          "scatterternary": [
           {
            "marker": {
             "colorbar": {
              "outlinewidth": 0,
              "ticks": ""
             }
            },
            "type": "scatterternary"
           }
          ],
          "surface": [
           {
            "colorbar": {
             "outlinewidth": 0,
             "ticks": ""
            },
            "colorscale": [
             [
              0,
              "#0d0887"
             ],
             [
              0.1111111111111111,
              "#46039f"
             ],
             [
              0.2222222222222222,
              "#7201a8"
             ],
             [
              0.3333333333333333,
              "#9c179e"
             ],
             [
              0.4444444444444444,
              "#bd3786"
             ],
             [
              0.5555555555555556,
              "#d8576b"
             ],
             [
              0.6666666666666666,
              "#ed7953"
             ],
             [
              0.7777777777777778,
              "#fb9f3a"
             ],
             [
              0.8888888888888888,
              "#fdca26"
             ],
             [
              1,
              "#f0f921"
             ]
            ],
            "type": "surface"
           }
          ],
          "table": [
           {
            "cells": {
             "fill": {
              "color": "#EBF0F8"
             },
             "line": {
              "color": "white"
             }
            },
            "header": {
             "fill": {
              "color": "#C8D4E3"
             },
             "line": {
              "color": "white"
             }
            },
            "type": "table"
           }
          ]
         },
         "layout": {
          "annotationdefaults": {
           "arrowcolor": "#2a3f5f",
           "arrowhead": 0,
           "arrowwidth": 1
          },
          "autotypenumbers": "strict",
          "coloraxis": {
           "colorbar": {
            "outlinewidth": 0,
            "ticks": ""
           }
          },
          "colorscale": {
           "diverging": [
            [
             0,
             "#8e0152"
            ],
            [
             0.1,
             "#c51b7d"
            ],
            [
             0.2,
             "#de77ae"
            ],
            [
             0.3,
             "#f1b6da"
            ],
            [
             0.4,
             "#fde0ef"
            ],
            [
             0.5,
             "#f7f7f7"
            ],
            [
             0.6,
             "#e6f5d0"
            ],
            [
             0.7,
             "#b8e186"
            ],
            [
             0.8,
             "#7fbc41"
            ],
            [
             0.9,
             "#4d9221"
            ],
            [
             1,
             "#276419"
            ]
           ],
           "sequential": [
            [
             0,
             "#0d0887"
            ],
            [
             0.1111111111111111,
             "#46039f"
            ],
            [
             0.2222222222222222,
             "#7201a8"
            ],
            [
             0.3333333333333333,
             "#9c179e"
            ],
            [
             0.4444444444444444,
             "#bd3786"
            ],
            [
             0.5555555555555556,
             "#d8576b"
            ],
            [
             0.6666666666666666,
             "#ed7953"
            ],
            [
             0.7777777777777778,
             "#fb9f3a"
            ],
            [
             0.8888888888888888,
             "#fdca26"
            ],
            [
             1,
             "#f0f921"
            ]
           ],
           "sequentialminus": [
            [
             0,
             "#0d0887"
            ],
            [
             0.1111111111111111,
             "#46039f"
            ],
            [
             0.2222222222222222,
             "#7201a8"
            ],
            [
             0.3333333333333333,
             "#9c179e"
            ],
            [
             0.4444444444444444,
             "#bd3786"
            ],
            [
             0.5555555555555556,
             "#d8576b"
            ],
            [
             0.6666666666666666,
             "#ed7953"
            ],
            [
             0.7777777777777778,
             "#fb9f3a"
            ],
            [
             0.8888888888888888,
             "#fdca26"
            ],
            [
             1,
             "#f0f921"
            ]
           ]
          },
          "colorway": [
           "#636efa",
           "#EF553B",
           "#00cc96",
           "#ab63fa",
           "#FFA15A",
           "#19d3f3",
           "#FF6692",
           "#B6E880",
           "#FF97FF",
           "#FECB52"
          ],
          "font": {
           "color": "#2a3f5f"
          },
          "geo": {
           "bgcolor": "white",
           "lakecolor": "white",
           "landcolor": "#E5ECF6",
           "showlakes": true,
           "showland": true,
           "subunitcolor": "white"
          },
          "hoverlabel": {
           "align": "left"
          },
          "hovermode": "closest",
          "mapbox": {
           "style": "light"
          },
          "paper_bgcolor": "white",
          "plot_bgcolor": "#E5ECF6",
          "polar": {
           "angularaxis": {
            "gridcolor": "white",
            "linecolor": "white",
            "ticks": ""
           },
           "bgcolor": "#E5ECF6",
           "radialaxis": {
            "gridcolor": "white",
            "linecolor": "white",
            "ticks": ""
           }
          },
          "scene": {
           "xaxis": {
            "backgroundcolor": "#E5ECF6",
            "gridcolor": "white",
            "gridwidth": 2,
            "linecolor": "white",
            "showbackground": true,
            "ticks": "",
            "zerolinecolor": "white"
           },
           "yaxis": {
            "backgroundcolor": "#E5ECF6",
            "gridcolor": "white",
            "gridwidth": 2,
            "linecolor": "white",
            "showbackground": true,
            "ticks": "",
            "zerolinecolor": "white"
           },
           "zaxis": {
            "backgroundcolor": "#E5ECF6",
            "gridcolor": "white",
            "gridwidth": 2,
            "linecolor": "white",
            "showbackground": true,
            "ticks": "",
            "zerolinecolor": "white"
           }
          },
          "shapedefaults": {
           "line": {
            "color": "#2a3f5f"
           }
          },
          "ternary": {
           "aaxis": {
            "gridcolor": "white",
            "linecolor": "white",
            "ticks": ""
           },
           "baxis": {
            "gridcolor": "white",
            "linecolor": "white",
            "ticks": ""
           },
           "bgcolor": "#E5ECF6",
           "caxis": {
            "gridcolor": "white",
            "linecolor": "white",
            "ticks": ""
           }
          },
          "title": {
           "x": 0.05
          },
          "xaxis": {
           "automargin": true,
           "gridcolor": "white",
           "linecolor": "white",
           "ticks": "",
           "title": {
            "standoff": 15
           },
           "zerolinecolor": "white",
           "zerolinewidth": 2
          },
          "yaxis": {
           "automargin": true,
           "gridcolor": "white",
           "linecolor": "white",
           "ticks": "",
           "title": {
            "standoff": 15
           },
           "zerolinecolor": "white",
           "zerolinewidth": 2
          }
         }
        },
        "title": {
         "text": "Sensitivity Analysis: Impact on NPV (Tornado Diagram)"
        },
        "xaxis": {
         "title": {
          "text": "Change in NPV from Base Case ($)"
         }
        },
        "yaxis": {
         "title": {
          "text": "Parameter"
         }
        }
       }
      }
     },
     "metadata": {},
     "output_type": "display_data"
    },
    {
     "name": "stdout",
     "output_type": "stream",
     "text": [
      "\n",
      "📊 Sensitivity Analysis Results:\n",
      "\n",
      "Parameters ranked by impact on NPV (most to least sensitive):\n",
      "\n",
      "================================================================================\n",
      "Acetylene Black Price................... Range: $  82.3M\n",
      "Hydrogen Price.......................... Range: $  78.5M\n",
      "Electricity Price....................... Range: $  43.4M\n",
      "Capex Total............................. Range: $  30.0M\n",
      "Rng Price............................... Range: $  11.5M\n",
      "Carbon Conversion....................... Range: $   1.9M\n",
      "Capacity Factor......................... Range: $   1.9M\n",
      "Discount Rate........................... Range: $   1.9M\n",
      "================================================================================\n",
      "\n",
      "💡 Key Insights:\n",
      "   • Most sensitive parameter: Acetylene Black Price\n",
      "   • NPV range: $-31.5M to $50.8M\n",
      "   • Project remains attractive across most scenarios if NPV > 0\n"
     ]
    }
   ],
   "source": [
    "# Sensitivity analysis on key parameters\n",
    "def sensitivity_analysis_tornado(base_npv, base_params):\n",
    "    \"\"\"\n",
    "    Run sensitivity analysis varying one parameter at a time\n",
    "    Calculate impact on NPV\n",
    "    \"\"\"\n",
    "    \n",
    "    results = []\n",
    "    \n",
    "    # Parameters to test from sensitivity_ranges\n",
    "    params_to_test = sensitivity_ranges['parameter'].tolist()\n",
    "    \n",
    "    for param in params_to_test:\n",
    "        row = sensitivity_ranges[sensitivity_ranges['parameter'] == param].iloc[0]\n",
    "        \n",
    "        low_val = row['low_value']\n",
    "        high_val = row['high_value']\n",
    "        base_val = row['base_value']\n",
    "        \n",
    "        # Calculate NPV at low and high values\n",
    "        # This is simplified - in reality you'd recalculate full model\n",
    "        # For demonstration, we'll estimate impact\n",
    "        \n",
    "        if param == 'electricity_price':\n",
    "            # Electricity affects variable costs\n",
    "            elec_cost_base = hydrogen_production * energy_per_h2 * base_val\n",
    "            elec_cost_low = hydrogen_production * energy_per_h2 * low_val\n",
    "            elec_cost_high = hydrogen_production * energy_per_h2 * high_val\n",
    "            \n",
    "            delta_low = elec_cost_base - elec_cost_low\n",
    "            delta_high = elec_cost_high - elec_cost_base\n",
    "            \n",
    "            # NPV impact (simplified: annual savings * annuity factor)\n",
    "            annuity_factor = (1 - (1 + discount_rate)**(-plant_lifetime)) / discount_rate\n",
    "            npv_low = base_npv + delta_low * annuity_factor\n",
    "            npv_high = base_npv - delta_high * annuity_factor\n",
    "            \n",
    "        elif param == 'hydrogen_price':\n",
    "            # H2 price affects revenue\n",
    "            revenue_change_low = (low_val - base_val) * hydrogen_production\n",
    "            revenue_change_high = (high_val - base_val) * hydrogen_production\n",
    "            \n",
    "            annuity_factor = (1 - (1 + discount_rate)**(-plant_lifetime)) / discount_rate\n",
    "            npv_low = base_npv + revenue_change_low * annuity_factor\n",
    "            npv_high = base_npv + revenue_change_high * annuity_factor\n",
    "            \n",
    "        elif param == 'acetylene_black_price':\n",
    "            # CB price affects revenue\n",
    "            revenue_change_low = (low_val - base_val) * acetylene_black_production\n",
    "            revenue_change_high = (high_val - base_val) * acetylene_black_production\n",
    "            \n",
    "            annuity_factor = (1 - (1 + discount_rate)**(-plant_lifetime)) / discount_rate\n",
    "            npv_low = base_npv + revenue_change_low * annuity_factor\n",
    "            npv_high = base_npv + revenue_change_high * annuity_factor\n",
    "            \n",
    "        elif param == 'capex_total':\n",
    "            # CapEx directly affects NPV\n",
    "            npv_low = base_npv + (base_val - low_val)\n",
    "            npv_high = base_npv + (base_val - high_val)\n",
    "            \n",
    "        elif param == 'rng_price':\n",
    "            # RNG price affects costs\n",
    "            rng_annual_consumption = 1923 * annual_operating_days * 24\n",
    "            cost_change_low = (low_val - base_val) * rng_annual_consumption\n",
    "            cost_change_high = (high_val - base_val) * rng_annual_consumption\n",
    "            \n",
    "            annuity_factor = (1 - (1 + discount_rate)**(-plant_lifetime)) / discount_rate\n",
    "            npv_low = base_npv - cost_change_low * annuity_factor\n",
    "            npv_high = base_npv - cost_change_high * annuity_factor\n",
    "            \n",
    "        else:\n",
    "            # For other parameters, use rough estimate\n",
    "            npv_low = base_npv * 0.9\n",
    "            npv_high = base_npv * 1.1\n",
    "        \n",
    "        results.append({\n",
    "            'Parameter': param.replace('_', ' ').title(),\n",
    "            'NPV_Low': npv_low,\n",
    "            'NPV_High': npv_high,\n",
    "            'Range': abs(npv_high - npv_low),\n",
    "            'Impact_Low': npv_low - base_npv,\n",
    "            'Impact_High': npv_high - base_npv\n",
    "        })\n",
    "    \n",
    "    return pd.DataFrame(results).sort_values('Range', ascending=True)\n",
    "\n",
    "# Run sensitivity analysis\n",
    "sensitivity_results = sensitivity_analysis_tornado(results['NPV'], {\n",
    "    'electricity_price': electricity_price,\n",
    "    'hydrogen_price': h2_price,\n",
    "    'acetylene_black_price': cb_price,\n",
    "    'capex_total': capex,\n",
    "    'rng_price': rng_price\n",
    "})\n",
    "\n",
    "# Create tornado diagram\n",
    "fig = go.Figure()\n",
    "\n",
    "# Add bars for each parameter\n",
    "for idx, row in sensitivity_results.iterrows():\n",
    "    fig.add_trace(go.Bar(\n",
    "        name=row['Parameter'],\n",
    "        y=[row['Parameter']],\n",
    "        x=[row['Impact_Low']],\n",
    "        orientation='h',\n",
    "        marker=dict(color='#3498db'),\n",
    "        showlegend=False,\n",
    "        hovertemplate=f\"{row['Parameter']}<br>Low Case: ${row['NPV_Low']/1e6:.1f}M<extra></extra>\"\n",
    "    ))\n",
    "    \n",
    "    fig.add_trace(go.Bar(\n",
    "        name=row['Parameter'],\n",
    "        y=[row['Parameter']],\n",
    "        x=[row['Impact_High']],\n",
    "        orientation='h',\n",
    "        marker=dict(color='#e74c3c'),\n",
    "        showlegend=False,\n",
    "        hovertemplate=f\"{row['Parameter']}<br>High Case: ${row['NPV_High']/1e6:.1f}M<extra></extra>\"\n",
    "    ))\n",
    "\n",
    "fig.add_vline(x=0, line_width=2, line_dash=\"solid\", line_color=\"black\")\n",
    "\n",
    "fig.update_layout(\n",
    "    title='Sensitivity Analysis: Impact on NPV (Tornado Diagram)',\n",
    "    xaxis_title='Change in NPV from Base Case ($)',\n",
    "    yaxis_title='Parameter',\n",
    "    barmode='overlay',\n",
    "    height=500,\n",
    "    hovermode='y unified'\n",
    ")\n",
    "\n",
    "fig.show()\n",
    "\n",
    "print(\"\\n📊 Sensitivity Analysis Results:\")\n",
    "print(\"\\nParameters ranked by impact on NPV (most to least sensitive):\")\n",
    "print(\"\\n\" + \"=\"*80)\n",
    "for idx, row in sensitivity_results.sort_values('Range', ascending=False).iterrows():\n",
    "    print(f\"{row['Parameter']:.<40} Range: ${row['Range']/1e6:>6.1f}M\")\n",
    "print(\"=\"*80)\n",
    "\n",
    "print(f\"\\n💡 Key Insights:\")\n",
    "most_sensitive = sensitivity_results.sort_values('Range', ascending=False).iloc[0]\n",
    "print(f\"   • Most sensitive parameter: {most_sensitive['Parameter']}\")\n",
    "print(f\"   • NPV range: ${most_sensitive['NPV_Low']/1e6:.1f}M to ${most_sensitive['NPV_High']/1e6:.1f}M\")\n",
    "print(f\"   • Project remains attractive across most scenarios if NPV > 0\")"
   ]
  },
  {
   "cell_type": "code",
   "execution_count": 1608,
   "id": "adc931f8",
   "metadata": {},
   "outputs": [
    {
     "data": {
      "text/html": [
       "<style type=\"text/css\">\n",
       "#T_daf1e_row0_col0, #T_daf1e_row0_col1, #T_daf1e_row0_col2, #T_daf1e_row0_col3, #T_daf1e_row0_col4, #T_daf1e_row1_col0, #T_daf1e_row1_col1, #T_daf1e_row1_col2, #T_daf1e_row1_col3, #T_daf1e_row1_col4, #T_daf1e_row2_col0, #T_daf1e_row2_col1, #T_daf1e_row2_col2, #T_daf1e_row2_col3, #T_daf1e_row2_col4, #T_daf1e_row3_col0, #T_daf1e_row3_col1, #T_daf1e_row3_col2, #T_daf1e_row3_col3, #T_daf1e_row3_col4, #T_daf1e_row4_col0, #T_daf1e_row4_col1, #T_daf1e_row4_col2, #T_daf1e_row4_col3, #T_daf1e_row4_col4 {\n",
       "  text-align: center;\n",
       "}\n",
       "</style>\n",
       "<table id=\"T_daf1e\">\n",
       "  <thead>\n",
       "    <tr>\n",
       "      <th class=\"blank level0\" >&nbsp;</th>\n",
       "      <th id=\"T_daf1e_level0_col0\" class=\"col_heading level0 col0\" >Scenario</th>\n",
       "      <th id=\"T_daf1e_level0_col1\" class=\"col_heading level0 col1\" >Electricity Price ($/kWh)</th>\n",
       "      <th id=\"T_daf1e_level0_col2\" class=\"col_heading level0 col2\" >LCOH ($/kg)</th>\n",
       "      <th id=\"T_daf1e_level0_col3\" class=\"col_heading level0 col3\" >NPV ($M)</th>\n",
       "      <th id=\"T_daf1e_level0_col4\" class=\"col_heading level0 col4\" >Gross Margin (%)</th>\n",
       "    </tr>\n",
       "  </thead>\n",
       "  <tbody>\n",
       "    <tr>\n",
       "      <th id=\"T_daf1e_level0_row0\" class=\"row_heading level0 row0\" >0</th>\n",
       "      <td id=\"T_daf1e_row0_col0\" class=\"data row0 col0\" >Very Low\n",
       "(Abundant Renewables)</td>\n",
       "      <td id=\"T_daf1e_row0_col1\" class=\"data row0 col1\" >0.03</td>\n",
       "      <td id=\"T_daf1e_row0_col2\" class=\"data row0 col2\" >1.66</td>\n",
       "      <td id=\"T_daf1e_row0_col3\" class=\"data row0 col3\" >38.6</td>\n",
       "      <td id=\"T_daf1e_row0_col4\" class=\"data row0 col4\" >76.8%</td>\n",
       "    </tr>\n",
       "    <tr>\n",
       "      <th id=\"T_daf1e_level0_row1\" class=\"row_heading level0 row1\" >1</th>\n",
       "      <td id=\"T_daf1e_row1_col0\" class=\"data row1 col0\" >Low\n",
       "(TX/Midwest Wind)</td>\n",
       "      <td id=\"T_daf1e_row1_col1\" class=\"data row1 col1\" >0.05</td>\n",
       "      <td id=\"T_daf1e_row1_col2\" class=\"data row1 col2\" >2.39</td>\n",
       "      <td id=\"T_daf1e_row1_col3\" class=\"data row1 col3\" >24.1</td>\n",
       "      <td id=\"T_daf1e_row1_col4\" class=\"data row1 col4\" >68.2%</td>\n",
       "    </tr>\n",
       "    <tr>\n",
       "      <th id=\"T_daf1e_level0_row2\" class=\"row_heading level0 row2\" >2</th>\n",
       "      <td id=\"T_daf1e_row2_col0\" class=\"data row2 col0\" >Base Case\n",
       "(Industrial Average)</td>\n",
       "      <td id=\"T_daf1e_row2_col1\" class=\"data row2 col1\" >0.07</td>\n",
       "      <td id=\"T_daf1e_row2_col2\" class=\"data row2 col2\" >3.13</td>\n",
       "      <td id=\"T_daf1e_row2_col3\" class=\"data row2 col3\" >9.7</td>\n",
       "      <td id=\"T_daf1e_row2_col4\" class=\"data row2 col4\" >59.7%</td>\n",
       "    </tr>\n",
       "    <tr>\n",
       "      <th id=\"T_daf1e_level0_row3\" class=\"row_heading level0 row3\" >3</th>\n",
       "      <td id=\"T_daf1e_row3_col0\" class=\"data row3 col0\" >High\n",
       "(CA/Northeast)</td>\n",
       "      <td id=\"T_daf1e_row3_col1\" class=\"data row3 col1\" >0.10</td>\n",
       "      <td id=\"T_daf1e_row3_col2\" class=\"data row3 col2\" >4.24</td>\n",
       "      <td id=\"T_daf1e_row3_col3\" class=\"data row3 col3\" >-12.0</td>\n",
       "      <td id=\"T_daf1e_row3_col4\" class=\"data row3 col4\" >46.8%</td>\n",
       "    </tr>\n",
       "    <tr>\n",
       "      <th id=\"T_daf1e_level0_row4\" class=\"row_heading level0 row4\" >4</th>\n",
       "      <td id=\"T_daf1e_row4_col0\" class=\"data row4 col0\" >Very High\n",
       "(Peak/Premium)</td>\n",
       "      <td id=\"T_daf1e_row4_col1\" class=\"data row4 col1\" >0.12</td>\n",
       "      <td id=\"T_daf1e_row4_col2\" class=\"data row4 col2\" >4.97</td>\n",
       "      <td id=\"T_daf1e_row4_col3\" class=\"data row4 col3\" >-26.5</td>\n",
       "      <td id=\"T_daf1e_row4_col4\" class=\"data row4 col4\" >38.3%</td>\n",
       "    </tr>\n",
       "  </tbody>\n",
       "</table>\n"
      ],
      "text/plain": [
       "<pandas.io.formats.style.Styler at 0x2574833c3a0>"
      ]
     },
     "metadata": {},
     "output_type": "display_data"
    },
    {
     "data": {
      "application/vnd.plotly.v1+json": {
       "config": {
        "plotlyServerURL": "https://plot.ly"
       },
       "data": [
        {
         "line": {
          "color": "#3498db",
          "width": 3
         },
         "marker": {
          "size": 10
         },
         "mode": "lines+markers",
         "name": "LCOH",
         "type": "scatter",
         "x": {
          "bdata": "uB6F61G4nj+amZmZmZmpP+xRuB6F67E/mpmZmZmZuT+4HoXrUbi+Pw==",
          "dtype": "f8"
         },
         "xaxis": "x",
         "y": {
          "bdata": "6H5ou9CA+j9AUm9RSiUDQAtlKkUsCglAnoBhmb/wEEADCj+TMOMTQA==",
          "dtype": "f8"
         },
         "yaxis": "y"
        },
        {
         "line": {
          "color": "#e74c3c",
          "width": 3
         },
         "marker": {
          "size": 10
         },
         "mode": "lines+markers",
         "name": "NPV",
         "type": "scatter",
         "x": {
          "bdata": "uB6F61G4nj+amZmZmZmpP+xRuB6F67E/mpmZmZmZuT+4HoXrUbi+Pw==",
          "dtype": "f8"
         },
         "xaxis": "x2",
         "y": {
          "bdata": "PQ5x/RlHQ0DOJ+1Otho4QEpm8EVxTiNAtXfuvQcMKMB/MOyKgXk6wA==",
          "dtype": "f8"
         },
         "yaxis": "y2"
        }
       ],
       "layout": {
        "annotations": [
         {
          "font": {
           "size": 16
          },
          "showarrow": false,
          "text": "LCOH vs Electricity Price",
          "x": 0.225,
          "xanchor": "center",
          "xref": "paper",
          "y": 1,
          "yanchor": "bottom",
          "yref": "paper"
         },
         {
          "font": {
           "size": 16
          },
          "showarrow": false,
          "text": "NPV vs Electricity Price",
          "x": 0.775,
          "xanchor": "center",
          "xref": "paper",
          "y": 1,
          "yanchor": "bottom",
          "yref": "paper"
         },
         {
          "showarrow": false,
          "text": "H₂ Market Price ($4.0/kg)",
          "x": 1,
          "xanchor": "right",
          "xref": "x domain",
          "y": 4,
          "yanchor": "bottom",
          "yref": "y"
         },
         {
          "showarrow": false,
          "text": "SMR LCOH ($2.50/kg)",
          "x": 1,
          "xanchor": "right",
          "xref": "x domain",
          "y": 2.5,
          "yanchor": "bottom",
          "yref": "y"
         },
         {
          "showarrow": false,
          "text": "Break Even",
          "x": 1,
          "xanchor": "right",
          "xref": "x2 domain",
          "y": 0,
          "yanchor": "bottom",
          "yref": "y2"
         }
        ],
        "height": 400,
        "shapes": [
         {
          "line": {
           "color": "green",
           "dash": "dash"
          },
          "type": "line",
          "x0": 0,
          "x1": 1,
          "xref": "x domain",
          "y0": 4,
          "y1": 4,
          "yref": "y"
         },
         {
          "line": {
           "color": "red",
           "dash": "dash"
          },
          "type": "line",
          "x0": 0,
          "x1": 1,
          "xref": "x domain",
          "y0": 2.5,
          "y1": 2.5,
          "yref": "y"
         },
         {
          "line": {
           "color": "red",
           "dash": "dash"
          },
          "type": "line",
          "x0": 0,
          "x1": 1,
          "xref": "x2 domain",
          "y0": 0,
          "y1": 0,
          "yref": "y2"
         }
        ],
        "showlegend": false,
        "template": {
         "data": {
          "bar": [
           {
            "error_x": {
             "color": "#2a3f5f"
            },
            "error_y": {
             "color": "#2a3f5f"
            },
            "marker": {
             "line": {
              "color": "#E5ECF6",
              "width": 0.5
             },
             "pattern": {
              "fillmode": "overlay",
              "size": 10,
              "solidity": 0.2
             }
            },
            "type": "bar"
           }
          ],
          "barpolar": [
           {
            "marker": {
             "line": {
              "color": "#E5ECF6",
              "width": 0.5
             },
             "pattern": {
              "fillmode": "overlay",
              "size": 10,
              "solidity": 0.2
             }
            },
            "type": "barpolar"
           }
          ],
          "carpet": [
           {
            "aaxis": {
             "endlinecolor": "#2a3f5f",
             "gridcolor": "white",
             "linecolor": "white",
             "minorgridcolor": "white",
             "startlinecolor": "#2a3f5f"
            },
            "baxis": {
             "endlinecolor": "#2a3f5f",
             "gridcolor": "white",
             "linecolor": "white",
             "minorgridcolor": "white",
             "startlinecolor": "#2a3f5f"
            },
            "type": "carpet"
           }
          ],
          "choropleth": [
           {
            "colorbar": {
             "outlinewidth": 0,
             "ticks": ""
            },
            "type": "choropleth"
           }
          ],
          "contour": [
           {
            "colorbar": {
             "outlinewidth": 0,
             "ticks": ""
            },
            "colorscale": [
             [
              0,
              "#0d0887"
             ],
             [
              0.1111111111111111,
              "#46039f"
             ],
             [
              0.2222222222222222,
              "#7201a8"
             ],
             [
              0.3333333333333333,
              "#9c179e"
             ],
             [
              0.4444444444444444,
              "#bd3786"
             ],
             [
              0.5555555555555556,
              "#d8576b"
             ],
             [
              0.6666666666666666,
              "#ed7953"
             ],
             [
              0.7777777777777778,
              "#fb9f3a"
             ],
             [
              0.8888888888888888,
              "#fdca26"
             ],
             [
              1,
              "#f0f921"
             ]
            ],
            "type": "contour"
           }
          ],
          "contourcarpet": [
           {
            "colorbar": {
             "outlinewidth": 0,
             "ticks": ""
            },
            "type": "contourcarpet"
           }
          ],
          "heatmap": [
           {
            "colorbar": {
             "outlinewidth": 0,
             "ticks": ""
            },
            "colorscale": [
             [
              0,
              "#0d0887"
             ],
             [
              0.1111111111111111,
              "#46039f"
             ],
             [
              0.2222222222222222,
              "#7201a8"
             ],
             [
              0.3333333333333333,
              "#9c179e"
             ],
             [
              0.4444444444444444,
              "#bd3786"
             ],
             [
              0.5555555555555556,
              "#d8576b"
             ],
             [
              0.6666666666666666,
              "#ed7953"
             ],
             [
              0.7777777777777778,
              "#fb9f3a"
             ],
             [
              0.8888888888888888,
              "#fdca26"
             ],
             [
              1,
              "#f0f921"
             ]
            ],
            "type": "heatmap"
           }
          ],
          "histogram": [
           {
            "marker": {
             "pattern": {
              "fillmode": "overlay",
              "size": 10,
              "solidity": 0.2
             }
            },
            "type": "histogram"
           }
          ],
          "histogram2d": [
           {
            "colorbar": {
             "outlinewidth": 0,
             "ticks": ""
            },
            "colorscale": [
             [
              0,
              "#0d0887"
             ],
             [
              0.1111111111111111,
              "#46039f"
             ],
             [
              0.2222222222222222,
              "#7201a8"
             ],
             [
              0.3333333333333333,
              "#9c179e"
             ],
             [
              0.4444444444444444,
              "#bd3786"
             ],
             [
              0.5555555555555556,
              "#d8576b"
             ],
             [
              0.6666666666666666,
              "#ed7953"
             ],
             [
              0.7777777777777778,
              "#fb9f3a"
             ],
             [
              0.8888888888888888,
              "#fdca26"
             ],
             [
              1,
              "#f0f921"
             ]
            ],
            "type": "histogram2d"
           }
          ],
          "histogram2dcontour": [
           {
            "colorbar": {
             "outlinewidth": 0,
             "ticks": ""
            },
            "colorscale": [
             [
              0,
              "#0d0887"
             ],
             [
              0.1111111111111111,
              "#46039f"
             ],
             [
              0.2222222222222222,
              "#7201a8"
             ],
             [
              0.3333333333333333,
              "#9c179e"
             ],
             [
              0.4444444444444444,
              "#bd3786"
             ],
             [
              0.5555555555555556,
              "#d8576b"
             ],
             [
              0.6666666666666666,
              "#ed7953"
             ],
             [
              0.7777777777777778,
              "#fb9f3a"
             ],
             [
              0.8888888888888888,
              "#fdca26"
             ],
             [
              1,
              "#f0f921"
             ]
            ],
            "type": "histogram2dcontour"
           }
          ],
          "mesh3d": [
           {
            "colorbar": {
             "outlinewidth": 0,
             "ticks": ""
            },
            "type": "mesh3d"
           }
          ],
          "parcoords": [
           {
            "line": {
             "colorbar": {
              "outlinewidth": 0,
              "ticks": ""
             }
            },
            "type": "parcoords"
           }
          ],
          "pie": [
           {
            "automargin": true,
            "type": "pie"
           }
          ],
          "scatter": [
           {
            "fillpattern": {
             "fillmode": "overlay",
             "size": 10,
             "solidity": 0.2
            },
            "type": "scatter"
           }
          ],
          "scatter3d": [
           {
            "line": {
             "colorbar": {
              "outlinewidth": 0,
              "ticks": ""
             }
            },
            "marker": {
             "colorbar": {
              "outlinewidth": 0,
              "ticks": ""
             }
            },
            "type": "scatter3d"
           }
          ],
          "scattercarpet": [
           {
            "marker": {
             "colorbar": {
              "outlinewidth": 0,
              "ticks": ""
             }
            },
            "type": "scattercarpet"
           }
          ],
          "scattergeo": [
           {
            "marker": {
             "colorbar": {
              "outlinewidth": 0,
              "ticks": ""
             }
            },
            "type": "scattergeo"
           }
          ],
          "scattergl": [
           {
            "marker": {
             "colorbar": {
              "outlinewidth": 0,
              "ticks": ""
             }
            },
            "type": "scattergl"
           }
          ],
          "scattermap": [
           {
            "marker": {
             "colorbar": {
              "outlinewidth": 0,
              "ticks": ""
             }
            },
            "type": "scattermap"
           }
          ],
          "scattermapbox": [
           {
            "marker": {
             "colorbar": {
              "outlinewidth": 0,
              "ticks": ""
             }
            },
            "type": "scattermapbox"
           }
          ],
          "scatterpolar": [
           {
            "marker": {
             "colorbar": {
              "outlinewidth": 0,
              "ticks": ""
             }
            },
            "type": "scatterpolar"
           }
          ],
          "scatterpolargl": [
           {
            "marker": {
             "colorbar": {
              "outlinewidth": 0,
              "ticks": ""
             }
            },
            "type": "scatterpolargl"
           }
          ],
          "scatterternary": [
           {
            "marker": {
             "colorbar": {
              "outlinewidth": 0,
              "ticks": ""
             }
            },
            "type": "scatterternary"
           }
          ],
          "surface": [
           {
            "colorbar": {
             "outlinewidth": 0,
             "ticks": ""
            },
            "colorscale": [
             [
              0,
              "#0d0887"
             ],
             [
              0.1111111111111111,
              "#46039f"
             ],
             [
              0.2222222222222222,
              "#7201a8"
             ],
             [
              0.3333333333333333,
              "#9c179e"
             ],
             [
              0.4444444444444444,
              "#bd3786"
             ],
             [
              0.5555555555555556,
              "#d8576b"
             ],
             [
              0.6666666666666666,
              "#ed7953"
             ],
             [
              0.7777777777777778,
              "#fb9f3a"
             ],
             [
              0.8888888888888888,
              "#fdca26"
             ],
             [
              1,
              "#f0f921"
             ]
            ],
            "type": "surface"
           }
          ],
          "table": [
           {
            "cells": {
             "fill": {
              "color": "#EBF0F8"
             },
             "line": {
              "color": "white"
             }
            },
            "header": {
             "fill": {
              "color": "#C8D4E3"
             },
             "line": {
              "color": "white"
             }
            },
            "type": "table"
           }
          ]
         },
         "layout": {
          "annotationdefaults": {
           "arrowcolor": "#2a3f5f",
           "arrowhead": 0,
           "arrowwidth": 1
          },
          "autotypenumbers": "strict",
          "coloraxis": {
           "colorbar": {
            "outlinewidth": 0,
            "ticks": ""
           }
          },
          "colorscale": {
           "diverging": [
            [
             0,
             "#8e0152"
            ],
            [
             0.1,
             "#c51b7d"
            ],
            [
             0.2,
             "#de77ae"
            ],
            [
             0.3,
             "#f1b6da"
            ],
            [
             0.4,
             "#fde0ef"
            ],
            [
             0.5,
             "#f7f7f7"
            ],
            [
             0.6,
             "#e6f5d0"
            ],
            [
             0.7,
             "#b8e186"
            ],
            [
             0.8,
             "#7fbc41"
            ],
            [
             0.9,
             "#4d9221"
            ],
            [
             1,
             "#276419"
            ]
           ],
           "sequential": [
            [
             0,
             "#0d0887"
            ],
            [
             0.1111111111111111,
             "#46039f"
            ],
            [
             0.2222222222222222,
             "#7201a8"
            ],
            [
             0.3333333333333333,
             "#9c179e"
            ],
            [
             0.4444444444444444,
             "#bd3786"
            ],
            [
             0.5555555555555556,
             "#d8576b"
            ],
            [
             0.6666666666666666,
             "#ed7953"
            ],
            [
             0.7777777777777778,
             "#fb9f3a"
            ],
            [
             0.8888888888888888,
             "#fdca26"
            ],
            [
             1,
             "#f0f921"
            ]
           ],
           "sequentialminus": [
            [
             0,
             "#0d0887"
            ],
            [
             0.1111111111111111,
             "#46039f"
            ],
            [
             0.2222222222222222,
             "#7201a8"
            ],
            [
             0.3333333333333333,
             "#9c179e"
            ],
            [
             0.4444444444444444,
             "#bd3786"
            ],
            [
             0.5555555555555556,
             "#d8576b"
            ],
            [
             0.6666666666666666,
             "#ed7953"
            ],
            [
             0.7777777777777778,
             "#fb9f3a"
            ],
            [
             0.8888888888888888,
             "#fdca26"
            ],
            [
             1,
             "#f0f921"
            ]
           ]
          },
          "colorway": [
           "#636efa",
           "#EF553B",
           "#00cc96",
           "#ab63fa",
           "#FFA15A",
           "#19d3f3",
           "#FF6692",
           "#B6E880",
           "#FF97FF",
           "#FECB52"
          ],
          "font": {
           "color": "#2a3f5f"
          },
          "geo": {
           "bgcolor": "white",
           "lakecolor": "white",
           "landcolor": "#E5ECF6",
           "showlakes": true,
           "showland": true,
           "subunitcolor": "white"
          },
          "hoverlabel": {
           "align": "left"
          },
          "hovermode": "closest",
          "mapbox": {
           "style": "light"
          },
          "paper_bgcolor": "white",
          "plot_bgcolor": "#E5ECF6",
          "polar": {
           "angularaxis": {
            "gridcolor": "white",
            "linecolor": "white",
            "ticks": ""
           },
           "bgcolor": "#E5ECF6",
           "radialaxis": {
            "gridcolor": "white",
            "linecolor": "white",
            "ticks": ""
           }
          },
          "scene": {
           "xaxis": {
            "backgroundcolor": "#E5ECF6",
            "gridcolor": "white",
            "gridwidth": 2,
            "linecolor": "white",
            "showbackground": true,
            "ticks": "",
            "zerolinecolor": "white"
           },
           "yaxis": {
            "backgroundcolor": "#E5ECF6",
            "gridcolor": "white",
            "gridwidth": 2,
            "linecolor": "white",
            "showbackground": true,
            "ticks": "",
            "zerolinecolor": "white"
           },
           "zaxis": {
            "backgroundcolor": "#E5ECF6",
            "gridcolor": "white",
            "gridwidth": 2,
            "linecolor": "white",
            "showbackground": true,
            "ticks": "",
            "zerolinecolor": "white"
           }
          },
          "shapedefaults": {
           "line": {
            "color": "#2a3f5f"
           }
          },
          "ternary": {
           "aaxis": {
            "gridcolor": "white",
            "linecolor": "white",
            "ticks": ""
           },
           "baxis": {
            "gridcolor": "white",
            "linecolor": "white",
            "ticks": ""
           },
           "bgcolor": "#E5ECF6",
           "caxis": {
            "gridcolor": "white",
            "linecolor": "white",
            "ticks": ""
           }
          },
          "title": {
           "x": 0.05
          },
          "xaxis": {
           "automargin": true,
           "gridcolor": "white",
           "linecolor": "white",
           "ticks": "",
           "title": {
            "standoff": 15
           },
           "zerolinecolor": "white",
           "zerolinewidth": 2
          },
          "yaxis": {
           "automargin": true,
           "gridcolor": "white",
           "linecolor": "white",
           "ticks": "",
           "title": {
            "standoff": 15
           },
           "zerolinecolor": "white",
           "zerolinewidth": 2
          }
         }
        },
        "title": {
         "text": "Electricity Price Scenario Analysis"
        },
        "xaxis": {
         "anchor": "y",
         "domain": [
          0,
          0.45
         ],
         "title": {
          "text": "Electricity Price ($/kWh)"
         }
        },
        "xaxis2": {
         "anchor": "y2",
         "domain": [
          0.55,
          1
         ],
         "title": {
          "text": "Electricity Price ($/kWh)"
         }
        },
        "yaxis": {
         "anchor": "x",
         "domain": [
          0,
          1
         ],
         "title": {
          "text": "LCOH ($/kg H₂)"
         }
        },
        "yaxis2": {
         "anchor": "x2",
         "domain": [
          0,
          1
         ],
         "title": {
          "text": "NPV ($ millions)"
         }
        }
       }
      }
     },
     "metadata": {},
     "output_type": "display_data"
    },
    {
     "name": "stdout",
     "output_type": "stream",
     "text": [
      "\n",
      "💡 Strategic Insights:\n",
      "\n",
      "🌟 Best Case (Abundant Renewables at $0.03/kWh):\n",
      "   • LCOH: $1.66/kg\n",
      "   • NPV: $38.6M\n",
      "   • Project is HIGHLY attractive\n",
      "\n",
      "⚠️ Worst Case (Premium Electricity at $0.12/kWh):\n",
      "   • LCOH: $4.97/kg\n",
      "   • NPV: $-26.5M\n",
      "   • Project is NOT viable\n",
      "\n",
      "🎯 Optimal Deployment Strategy:\n",
      "   • Target regions with low-cost renewable electricity\n",
      "   • Co-locate with wind/solar farms for direct PPAs\n",
      "   • Consider regions: West Texas, Midwest, Pacific Northwest\n",
      "   • Avoid: High electricity cost regions unless H₂ prices are premium\n"
     ]
    }
   ],
   "source": [
    "# Detailed scenario analysis for electricity price\n",
    "# This is the most sensitive variable and represents renewable energy availability\n",
    "\n",
    "electricity_scenarios = {\n",
    "    'Scenario': [\n",
    "        'Very Low\\n(Abundant Renewables)',\n",
    "        'Low\\n(TX/Midwest Wind)',\n",
    "        'Base Case\\n(Industrial Average)',\n",
    "        'High\\n(CA/Northeast)',\n",
    "        'Very High\\n(Peak/Premium)'\n",
    "    ],\n",
    "    'Electricity Price ($/kWh)': [0.03, 0.05, 0.07, 0.10, 0.12],\n",
    "    'Context': [\n",
    "        'West Texas wind, overnight rates',\n",
    "        'PPA with wind farm',\n",
    "        'Standard industrial rate',\n",
    "        'High-cost regions',\n",
    "        'Peak demand pricing'\n",
    "    ]\n",
    "}\n",
    "\n",
    "scenario_df = pd.DataFrame(electricity_scenarios)\n",
    "\n",
    "# Calculate metrics for each scenario\n",
    "lcoh_scenarios = []\n",
    "npv_scenarios = []\n",
    "margin_scenarios = []\n",
    "\n",
    "for elec_price in scenario_df['Electricity Price ($/kWh)']:\n",
    "    # Recalculate electricity cost\n",
    "    annual_elec = hydrogen_production * energy_per_h2 * elec_price\n",
    "    \n",
    "    # Recalculate variable costs\n",
    "    new_variable_costs = (rng_cost + annual_elec + cooling_water_cost + process_water_cost)\n",
    "    \n",
    "    # Recalculate margin\n",
    "    new_margin = total_revenue - new_variable_costs\n",
    "    margin_pct = new_margin / total_revenue * 100\n",
    "    \n",
    "    # Estimate NPV impact\n",
    "    cost_delta = annual_elec - electricity_cost\n",
    "    annuity_factor = (1 - (1 + discount_rate)**(-plant_lifetime)) / discount_rate\n",
    "    new_npv = results['NPV'] - cost_delta * annuity_factor\n",
    "    \n",
    "    # LCOH estimate\n",
    "    # Simplified: base LCOH + electricity cost change per kg H2\n",
    "    lcoh_delta = (elec_price - electricity_price) * energy_per_h2\n",
    "    new_lcoh = lcoh + lcoh_delta\n",
    "    \n",
    "    lcoh_scenarios.append(new_lcoh)\n",
    "    npv_scenarios.append(new_npv)\n",
    "    margin_scenarios.append(margin_pct)\n",
    "\n",
    "scenario_df['LCOH ($/kg)'] = lcoh_scenarios\n",
    "scenario_df['NPV ($M)'] = [x/1e6 for x in npv_scenarios]\n",
    "scenario_df['Gross Margin (%)'] = margin_scenarios\n",
    "\n",
    "# Display table\n",
    "display(scenario_df[['Scenario', 'Electricity Price ($/kWh)', 'LCOH ($/kg)', \n",
    "                     'NPV ($M)', 'Gross Margin (%)']].style.format({\n",
    "    'Electricity Price ($/kWh)': '{:.2f}',\n",
    "    'LCOH ($/kg)': '{:.2f}',\n",
    "    'NPV ($M)': '{:.1f}',\n",
    "    'Gross Margin (%)': '{:.1f}%'\n",
    "}).set_properties(**{'text-align': 'center'}))\n",
    "\n",
    "# Visualize\n",
    "fig = make_subplots(\n",
    "    rows=1, cols=2,\n",
    "    subplot_titles=('LCOH vs Electricity Price', 'NPV vs Electricity Price')\n",
    ")\n",
    "\n",
    "fig.add_trace(\n",
    "    go.Scatter(\n",
    "        x=scenario_df['Electricity Price ($/kWh)'],\n",
    "        y=scenario_df['LCOH ($/kg)'],\n",
    "        mode='lines+markers',\n",
    "        name='LCOH',\n",
    "        line=dict(width=3, color='#3498db'),\n",
    "        marker=dict(size=10)\n",
    "    ),\n",
    "    row=1, col=1\n",
    ")\n",
    "\n",
    "# Add H2 market price reference\n",
    "fig.add_hline(y=h2_price, line_dash=\"dash\", line_color=\"green\", \n",
    "              annotation_text=f\"H₂ Market Price (${h2_price}/kg)\",\n",
    "              row=1, col=1)\n",
    "\n",
    "# add SMR LCOH\n",
    "fig.add_hline(y=2.50, line_dash=\"dash\", line_color=\"red\",\n",
    "              annotation_text=\"SMR LCOH ($2.50/kg)\",\n",
    "              row=1, col=1)\n",
    "\n",
    "fig.add_trace(\n",
    "    go.Scatter(\n",
    "        x=scenario_df['Electricity Price ($/kWh)'],\n",
    "        y=scenario_df['NPV ($M)'],\n",
    "        mode='lines+markers',\n",
    "        name='NPV',\n",
    "        line=dict(width=3, color='#e74c3c'),\n",
    "        marker=dict(size=10)\n",
    "    ),\n",
    "    row=1, col=2\n",
    ")\n",
    "\n",
    "fig.add_hline(y=0, line_dash=\"dash\", line_color=\"red\",\n",
    "              annotation_text=\"Break Even\",\n",
    "              row=1, col=2)\n",
    "\n",
    "fig.update_xaxes(title_text=\"Electricity Price ($/kWh)\", row=1, col=1)\n",
    "fig.update_xaxes(title_text=\"Electricity Price ($/kWh)\", row=1, col=2)\n",
    "fig.update_yaxes(title_text=\"LCOH ($/kg H₂)\", row=1, col=1)\n",
    "fig.update_yaxes(title_text=\"NPV ($ millions)\", row=1, col=2)\n",
    "\n",
    "fig.update_layout(height=400, showlegend=False, title_text=\"Electricity Price Scenario Analysis\")\n",
    "\n",
    "fig.show()\n",
    "\n",
    "print(f\"\\n💡 Strategic Insights:\")\n",
    "print(f\"\\n🌟 Best Case (Abundant Renewables at $0.03/kWh):\")\n",
    "print(f\"   • LCOH: ${lcoh_scenarios[0]:.2f}/kg\")\n",
    "print(f\"   • NPV: ${npv_scenarios[0]/1e6:.1f}M\")\n",
    "print(f\"   • Project is HIGHLY attractive\")\n",
    "\n",
    "print(f\"\\n⚠️ Worst Case (Premium Electricity at $0.12/kWh):\")\n",
    "print(f\"   • LCOH: ${lcoh_scenarios[-1]:.2f}/kg\")\n",
    "print(f\"   • NPV: ${npv_scenarios[-1]/1e6:.1f}M\")\n",
    "worst_viable = \"still viable\" if npv_scenarios[-1] > 0 else \"NOT viable\"\n",
    "print(f\"   • Project is {worst_viable}\")\n",
    "\n",
    "print(f\"\\n🎯 Optimal Deployment Strategy:\")\n",
    "print(f\"   • Target regions with low-cost renewable electricity\")\n",
    "print(f\"   • Co-locate with wind/solar farms for direct PPAs\")\n",
    "print(f\"   • Consider regions: West Texas, Midwest, Pacific Northwest\")\n",
    "print(f\"   • Avoid: High electricity cost regions unless H₂ prices are premium\")"
   ]
  },
  {
   "cell_type": "code",
   "execution_count": 1609,
   "id": "9b13c149",
   "metadata": {},
   "outputs": [
    {
     "name": "stdout",
     "output_type": "stream",
     "text": [
      "Running Monte Carlo simulation with 5,000 iterations...\n",
      "This quantifies project risk by sampling from parameter distributions\n",
      "\n",
      "================================================================================\n",
      "MONTE CARLO UNCERTAINTY ANALYSIS RESULTS (5,000 iterations)\n",
      "================================================================================\n",
      "\n",
      "💰 NET PRESENT VALUE:\n",
      "   Mean:              $   64.96 million\n",
      "   Median:            $   64.99 million\n",
      "   Std Deviation:     $   20.08 million\n",
      "   5th Percentile:    $   32.22 million\n",
      "   95th Percentile:   $   97.50 million\n",
      "   Probability NPV>0:    99.9%\n",
      "\n",
      "💵 LEVELIZED COST OF HYDROGEN:\n",
      "   Mean:              $    0.92/kg\n",
      "   Median:            $    0.94/kg\n",
      "   Std Deviation:     $    0.82/kg\n",
      "   5th Percentile:    $   -0.42/kg\n",
      "   95th Percentile:   $    2.26/kg\n",
      "   Probability LCOH<$3.18: 100.0%\n",
      "\n",
      "📊 GROSS MARGIN:\n",
      "   Mean:                  60.0%\n",
      "   Median:                60.4%\n",
      "   5th Percentile:        49.4%\n",
      "   95th Percentile:       69.3%\n",
      "   Probability Margin>20%: 100.0%\n"
     ]
    },
    {
     "data": {
      "application/vnd.plotly.v1+json": {
       "config": {
        "plotlyServerURL": "https://plot.ly"
       },
       "data": [
        {
         "marker": {
          "color": "#3498db"
         },
         "name": "NPV",
         "nbinsx": 50,
         "showlegend": false,
         "type": "histogram",
         "x": {
          "bdata": "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",
          "dtype": "f8"
         },
         "xaxis": "x",
         "yaxis": "y"
        },
        {
         "marker": {
          "color": "#2ecc71"
         },
         "name": "LCOH",
         "nbinsx": 50,
         "showlegend": false,
         "type": "histogram",
         "x": {
          "bdata": "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",
          "dtype": "f8"
         },
         "xaxis": "x2",
         "yaxis": "y2"
        },
        {
         "marker": {
          "color": "#e74c3c"
         },
         "name": "Margin",
         "nbinsx": 50,
         "showlegend": false,
         "type": "histogram",
         "x": {
          "bdata": "ytU0t+EQTUCPV2HuoZ1KQGnRmUC+XUdAKGkPS+p1UEBILWosAlFNQASEySK+8lBAoWLQeezSR0B/PlUlQeFLQBk3Hq66DExAAaD4i0PjS0AJtqiaNgBOQGUD4DXMKVBAyvPdUkDsSkAUaVeJtKhKQFJI02k3QFBAKPl+NksxTkD+wce1FghOQJal8vhrcE1AgaduMpLKSUAap/Fed6ZPQPmuUNWrnU5AXTEG0qAaUECVlETt/YdOQCpUVYhiWEpAhikATB5hTUAgzNOd/MNMQK4TxF8T+kdAApqdvWgeTECIbnpB2M1MQAWAsrvwpU1AzwnVWp8lSUDPLY4AZqBMQC3/f9IKOExAkB0KST/rTEA4PAjLCUtQQKvg5nMTPU9A8d4rOK3GTkCIOfgvcqxIQEFEInKYNk9APE+n5J/oRUBqbeGtZPFPQD/0+FrLYVBAqd96W/taSEAtOTO7m6RMQPYPmYInXFBAN40P6pZcS0DyLMyPcW1NQMrZqx0LHE5Ai9/tQ5DMTEA7un2mluRNQFwJvzB0CVBA9jW4Y/zSS0ApNeu1eElPQEL10lHeHk1AMI7zwX8fUEDiFl0Xzr1NQL+ySsoWTFBAEKfTPWIJTECTFxK7xAFPQAO0WHAcME1A6AdfhCNlTkCsprK8O2ZOQBYjbKcMzE9A2npBNMLHRkAICmFp0ERPQLCWZbPdSE1Alg2gNIMSUUDAnqzo7RFNQGUMsEqlHlBAlh4uvxX7TkAtFMcVbQdLQP8UmZTyolFAfHVRwc+3UEBd7hgVliZRQISwgBKHVFFAnfnL3E1/TUCx5gYPewNNQDoZVIWU5k9AYPrP2ZjWT0ABdSslzTZLQDxoG/u/2UlALFWfqvsnUEAngR4niRJPQM29WbL/tk5Ahwm92V6vTkBGFUIbj8RNQB1M3GExiktAX2zjV8UlUEB1O8hY+blOQFt+uhR9ik5AUJWzhyvxSkBpC1mFNbxNQNyG5EJ83UxAmpbPscb3S0DzlC4Q1TtHQFQ9dnu9PFBA4r36A0Q6S0AGjbBrUGhPQGHlaD9aw0tAnKWtlSV3S0CN7hF4wg9MQOYOdo/Wk0lAmaxuSVHsT0APRx0pXLhLQDQ8whihBEhAB8ZTZlycUUDjZzGhEPtKQAXeFwsjpUxAIaI5W0eUUECjhPLdBNRIQOZdUXmRIk9AKehMlp0YS0BTXJBBYodMQHTxI2uLZ09A4mTYQQG2UED+cAHqvShOQAEi+PUdrE1AV0fGqbtkSkCZGSycJSZSQDpG8ALIiE9A0ZMHP92GR0ByeRlXdzROQHEYdidusExAEOlcCW89SUCuzlhUWgZNQIOPx/EdA0xA7DuRbgpZS0AeHcnEkzBLQDK/N8JwOFFA3WthDRZUSUC0ZV917GhMQCJ2hD187k1ApuGHotjaSECQ1Mg1rONPQEjEJeQCck9AcgQys4QOUECSgesjUhZOQJk8Lx6fxEZAOqI40O8TTUD/WBBN6qFQQFgu9iKw9UxA5ihKx76ZT0BueSjO319RQHUf+qFyolBAMuItJ1VNT0B6cMTOXn9LQGBrz4o/v05ASNfrMEINUEAyZNAiXhRPQP28lmxYr0tAVs5vtbQeTEBIV9Cy9aNQQOEv4ZimEU9A3qpDe6S6UECQyWtspedHQAF5vPtzWFBAdnbN8knfUEDFFm5LKAxQQF0fj+2O9E1AuMPHC4LDT0Ay7GtlcTNOQGkUeytBGFFAcRggzcgETEBaSuiHN3dRQIQsCKDZr05AdI4XltcES0BBcwUyksFJQBqiNA71ME5AhKjExn5jTUCPKLqEKc5JQCK4tClc2kpAc3ZRJ+jST0C+Z7ZNt0VMQCILnB50qFBAHCfIf/erUEA3Fa2jOTxQQBwBU/qOO1BAHdM/dC5BSUD5Mn+AATFPQKyeiSNjYUhA2oD65yiVTEDvyBNmz/dLQKQwdPgS801ABXhnjc/4T0AtwCWlMUtMQF5XQ2ipy09AHNkGxFKySEDHrTIwcNtOQI1uZgWH605AkH/bL7X8UEBN2ZCY9/hPQMIdeqLH61BAZfQiGcXrT0B0GRG/2etDQBrQHqGwFVBAeogvyociTUDGa4pw7ItQQHPIOqmu+0ZAk9fMWZ7lTEA4jFZpENFQQMmWpHcwQ01ACIUnFDQNS0BSJOPoyG5PQOUHM/u8I1BA2H/8CHydTkCJ8JeMhcNLQPc70uXB4ElAg8LKJhwFTkAEXXvV0LxLQFoEmTjesUxA5Te+NXmMTkC2/JNdTAxLQGIJcJYm31BASghRxcu+TUDUzx2uoiVKQCtf/wdOfE9AUsdYld8gTEChNamc1yhPQHbner8K50tAL1UFeZORSkAsmShVaUBOQFZh0sKppE1Ag9scsQFMUEA2qet3znNPQDe3cN/FOkJA9Nt6PDoNT0DVIwnUlzlNQJsAVtTL005APVhwYO+eTEDtq81qra9IQB9exIhd0U9A6qBwE9PLTUDV3MX1GTxJQKleXjXpFkhARFmBKIO8RkBvJLfO9n1LQLEH7B7JHFBA6AdsVGqLTUAz1s7iQU9OQK+78VpWa01AIlB+GqIxT0Bvnfuh+8NQQA+sxXKC/1BALd+2WnHWTEDo0/EGkPRQQJ87g3TDi0pA4+anTzjITUDQ7Gg+rMVJQK1Jp4LSI1BA5yI6sh5jT0A4gEgV5jFKQDjlqjFrDE1APrBC5ZxyTUA+Q/85QItRQA68+ZWsxFBAeva6yiBXTEA8lsDT6EFMQCCP3LieaEhAlJGEPbL1TUDSQRwJ02xQQJX3vNo3PEdA1BtiY35NTEA2Zf8EublMQFgHxa8TaU5ASdsxm16VTkAqMVaVbhdNQE1oJ9/alU9AlLnXvj2LTkBCI95zWsNNQBn1k/HnLVFAKXWFsdo4TkC+MoG1rANQQEsf/FUSNVBAT8hllBBBR0CQcQQnvv5PQBW2i4Xp401APR67WFz6TEA20YEFzd9RQBJWiW1w50xAaqO7wJiKS0Dk30Ukfm9LQDKPwnzb/E9AIhdurGRjSUB9rV4bhZJNQLdxq0IZ7UxA+fGfTQgsRkBiEteeURNPQGoFqqZq+kpAO68UntFMT0Bvv7scX6VIQKdz2Xqhkk1AkJPFCRVqTED6xWgn/1pNQFc8MWGRX05AmADxI4qAUEAUuqypVeROQKDC/exPRU9AqpI21PKQUUD1bmqG28lLQDbAuWUcy0xAeNaVmmalSUD2+S+RZr1KQPMxGAdRAUxAJLCTCIsvTUAR2gKbgn5LQN/jiqChSU5AdxUKePprUEAQCeYJzi9QQJkM65MMTUpAORF/Jxq6TUAz2ps8d71QQDznMAJEv0tAonSn5xxKUEBXfeiQfKFQQFbe9bA770xAs+mohjZYTEBSsPbnk6FQQAN69jcxrktAZFEJoo7aUEDedlWz5mhQQG05mygXx1BAJ/LOQOSwUUBSEngsCaFRQKH607h2yUxA03C/x8QUTUBwc0inVjVRQMFe2rkO71JALvSU/xKgTkA0PqqtZCtRQOSQg3jM7E5ADOc1CszzTEDjaaaiC+BLQOF2h/7Sc0xAe/TYoA2KTEDY/zDLqHxRQFces9QJMFBAYE2gl5BOTkAd3yoCml9AQBaKcxiBF09AKremCcnET0AQ6gee00ZOQEmCDwl/ik1ASDVbKVyNTUBs16m6NzxPQD1PG/sqmkdAox+UdkidTUD0YRLwxFROQEz5WJ6cpU5AxL/+iTNvUECv5kHaFLNNQFbxpG4PqUlAdJ0wWTvqT0DLgql/A31OQIcbanm4vFJAMkJ5l+EBTEDibC4hyfxNQBIjU1FIvk5Aqw6WGjzDTECFf1q3aMdKQNdYKyWR509Ayu8EAD5iUEDNOZFTocNNQIDEg1KyOExAC06u32W+SUCnWjsJQ1lRQG7Fwafqf1JABwR7xH7WS0BbBv1uinJIQH0KbJ9hQ0xA9RpnDWXdTkAXLhhLwYFPQJF7fW82HkVAJBg9aLKSUED7ZOpsmJNPQIdRDn6PA0pAfx0JxuTfTUBwyCiA4W9FQOkR5efFm0pAWX+dTaQCUEDcOi4c+ZJQQL5F2SlgsFFA6LZdX9MTSkBORel6fwxLQN+pi5GfbU1Aa2P0a+aGTkBMqtJCl1dQQP/RE82vSUtALKo21MCmTkBYQQ1+M0lNQLdVGivKwk1Ae+omZ5VRTkC+9mmEgZhPQDMRLaqR90xAXMXctqD2UEA/I71vWbZQQKUxvUVi0k1ArnYtPy1pTEBFdIhI/vVNQFVONQIp1EpA9BH+x6x0S0CA12tOckhPQAffnpIcs1FA5Ble8PV1UEAsqCuyasNMQNUp8fBSV1FA9Di28mG/S0Ce4zYeXMRPQEm+K14tY1BAbqwRUtsmTkCIt+XdT2RNQELZnaxjJ1BAsbb0quF5UEDupbGzwE9OQGkCitS/w09AF8DuJMq9T0A0bLeZWXlLQMgw/R67dU9AyMhpMuPVTEAX4PCWmQZQQFRD5RSvMVBAFctD2nizUEAamA4cabNQQK1qQG4/OEtALAkhYH5gUEASL72E7wtHQH50XlAgAlFA1WeRhzfOUUB33x+Eel5PQA+8nVFQGU1ATPK6GPtHSUCkcEdfOftMQFyIZKCBp09A5yxWjvV/UEBBhYLPSjJGQIq+LIHp509ARN1OnX7oSkA9385MqZRPQDGFPHm6S1BAqNwAJ9rETkD88mvaiq1LQBkMfJgts0hAXVZin1avTEA4e1EyS65MQO7YTao9GU1AwR/bwCTPTUDH2SMLTX1QQH/53Wh6x0tAAF2rq+DzT0De5+EDwbFLQGCl0xbnm1BAuoisAxhRUEBZl9259URMQMb3H6ebdU1Aixc8QJQxUUB0zf0B3wJLQLHRcDC3405A9n3VaZZtUEAidDSt8y5KQM2KAZHW1k5AH3rYKgGoTkC25Gf6cctNQFXp5DNxF05AjNm2wrLlS0D4wGSWrj5QQBc9+PDqeU5AXLG+50oYTEDUfs2YKYZJQJhvEGGVQE1AZlpG7XW9S0BlWBougvFLQFPiUqBNQVBAQrySWY5MTUBEB8Cs/TRKQJUdGkgvzEpA3ubtAnjQS0BMuX8LympOQIeXdMjHgFBAjNnChrj2UEC8FXq8gSlNQHStGeNj2ktAVDPoZ19+T0BSG6keNfZPQAyDGrLlMUtAGx9QxfNVT0AzUWxApytRQICl6aGmE05Aql+edmagTkADZPCvkoVOQDJNRbBot01AVoAuiwQ8TUAxkigRXrlMQLl1+UMZsUpAmRxLdFBLTEBnYrVxz+BIQO+xsSNxQUxA2/3yStzDTkAo6NO6dUBLQAegHSjwgEpAfd18wgT2UUDN0yeii7xQQFo1loj6fE9A2GIIKlRuTUAa/wJmOadNQI9ZqLDjy1BAseCHBZPkUECGm8ws4RJSQNeonj9erk1Ay7AgoOf4UEC4znyWgt9MQASrTR7g4EdAc7DPYR5QTUAhMOi8RXJKQHeB6vojTE1ANWAr/GwrT0C3uQNMcw9OQFpw7M52MFFA2KqXsu4ZTEDd8F3Pw4BKQF+U3FXpL0hAS9yNz5TXTUBFBsOQloxPQGpvFD1L3VFAkEXQiVp7UUArSw5/xZFPQMJb945cHU1AKZPvNtU+RUB+oLf+ejVRQNqsCxwZmk1AP1i8cc3CS0DFrW6eEk5NQO72jyWt9UpANw0BVNLLUEDdNHVarxRGQLWx5MvEdk9ACLNZ6aubTUDt3pv4DyFMQK27YMSym09AwLviEHI8TUDq0T6cxRxNQGSuWNs3klFATmIGTsEXTkBgPRgMQQBOQKQuDM6lg05ATDT10lT6TED6dpOG7dtNQBBv0oUYl05AR7mJDZemS0DbLRSokz1QQG1otyoSWFFA13ozelVFUUCRlHHWWmRNQP4iV8xqAVBAFF691SQXR0B1/AeORjlPQK+fF8TNzkxAXFj/YWa0TEAJRp0cyj9QQGSyjZq5ME9A2sQf6fbcS0DhP2ORfGhQQFdct0HyQ0xAAk2ytvsAUEBGLcHXcgtLQECXCT5N4k5AbesDVr5XSUA5IsiSEFtQQClyrDqK41BANKHleAX8T0A/OBiZLAtQQE39Kz7TJVBArs6FGULFT0CvXvnDSSFPQK87/Kv3wU9Ag0Q714PpUECnNNlpqo1LQIqQyIpJ601AVolEPWwzTEBhEu1HbAhQQLr6nmrP1k5AMK+WPbaZUEBt+2RCPK5KQD17uwjMJUtAk9Boo34XTEAqLe+LcypQQAe1kubXQU5Ap2h8/jJ2TkA5g36FuqBRQHKvZHPw5lBAcKrH2AfvUECuQ0M7CE9NQCCOuSIPb1BABM5vQhelTEAGpkpvzmdNQOUadxldzE1AG/SqMTvrS0Bk+5C7fD9QQL/A5h7sr05AFPoK/ZZWSUBYUqxw/oRMQIsfs+AEjUpAu75YH9X6UECPw8SoukNPQK8keI8Fj09AjFHgWe/7SUCeoqvm2jpGQNqwDUavJ0tAP55Vt3bXTkAC3LWG8tBPQJ8T7th7VkxAROnkc06nT0C0etrayIdOQAcQ6qhg5ExASjbZtq6mUEC3uDLthJJJQCfNjK7ui09A+Id1VRslT0C4Z5Ewh5VQQDisUPz1zU5ASlokMb+ZS0A3PWoXZUVPQOxYygr0g0xAZdH+9Mz0TUAHdbExANJRQKG1d8twmEtAlEhxiWEcTECJ6GcFddtQQOUE4YWbO1BA60xL5PeFUEB3pNxNFBZOQNSvMiZHWVBAZxI3frYhTUCn1a/x9dlLQC5WbO+Kl01AtR0ROOHuTUDSHdHXBPdQQGUTXwTda09Abq7XOOcMT0CprnIOxZVMQOypck0VRUxAQyC+uzmoUEDkOmMJSIhQQJENqWVm80tAZSS3x88ySUDx4RfJdl9PQMfXPXwLkk1ADIVbIk5iUEA0aTXfYZtJQDLpb9e1Z1BAJJgZZDZ3T0C+ZdF1tLRQQCrZgPBhBlFASLLcDrgRS0Cq6F4GAphHQKoA+OQv105AAiy+/OSIT0Aq/ofcoEVPQBhVf2zQcElA7s9RmSjlSkDdIcIGF7lOQOZEZmhsxU5AiGdiMteVUECvj5pgCMZNQGYL19zzAU5Agfel7e3yTEClIlZFomZMQG1bxPvudU1AufWE5kYBUkCvvo3+Re1LQKJ6BliFalBA5BBmiPdVTEBqxmtmAXdBQAc3fK5OoVBAeYym29+lSkCVGx9k7kFNQPor65jmGUtA1+57vF8+UEDnke29Y2BNQOJFDwqngE9AdwDcMT1rUUC5jhD6UQhQQOjKS3Oz109AlZenhXyCTkBzFesSGoVQQM2i4JiLdkxAEScIdHU8TUDhtST7UVtOQONF30lvNUxANM08brOgTUBq/1+YIYhQQGZdGKCxqU1AAxxaLtwOT0AkFqNqKy1MQKnvuqTT3U5AcBNA+/dhT0Dk7HXwSLBPQPtIVbB0qVBA/lBIynubUEBYwteTLldOQDU3XDTGcU9AC4EagkSOUkA3XhMprgZLQApO2MjBskdAUMXPhpSUSUAh/m2oB/pDQFG2Z4WPv1FAtc82ZY3ZUEBbWu0zGzdNQNo2wRjDmFBAyNgCL9WhTkCdYD5lH5hMQFZCdpHgMU1AbEADc816R0AQldFJNDxMQODLKIS9KlFAiXPdv4xET0AIoS9Yy7dJQOR4s0wgpU9AlHMp++cVUEC90ztMtVVPQGvcizExqE1AQzVUT95IUECBe4sr8lNRQDiOgw+OAk5AgG3DC9SqUUCy6VJ850xQQO853chCs1FACDxBe4zaTUAek1FIEaxMQMZuec/6V01A2vd7Z0d1RkAGhUJsZM1MQCtiHE3k101AKiGakaUaT0DnK+MfMCZNQMnV0aVjdU9A4u0cLa6hT0BcEU8Wm/tLQD8J6Fnc20tAx3CLq7eUS0CGPT1avOFQQHzmS46xzFBAY1q6fNLmT0DqbUuNP/VNQLmyle1qM1FANBtJugszT0B85QdihylQQFXwoNzeCU1A+z6mIDTFUECCLr0SSZpNQJQ+29jEWUxAPMjm0X5FS0Dp4JL5tCJOQAOYXkB4vE5Ap5yoDNGZSkDv/Kvx7BBKQGrzP8MlEFBA48yNHyt4TECxSZXd3NBQQKHPZ7NMsU5ApNeNTXTyS0BSRW4tWGdQQAjqU1E2VE1Ax7U+frNgSkBdcIXyRJRQQOtSUK+mUVBA6larqs3rUEAV/cWPm+dPQEIFJ8XXk0pAyyd7pNIpTUDnO5VP4ppQQCaws1W3ME9A7a4UwCMWUEDRgp7s4itPQMRjoKZkXVBAtofoBeFxTEDz/YM3+xNPQB7a2TUZvE5Aeq+S6KUIUEBEq0stMv5QQJthJ1cfuEtA4MgX6LdSUEAM33JepoRMQL69LQpbnkxAXaJZmUmSTECSpH7yGkhPQIRRfsfNOVBA+J4/YJPXS0BBRr+G4MpPQPtTPuk4YkhA6wyCwZ9gTUBIgrVpY2lNQOFRMj9Zu0pASpL8T/IbTUBOmNa1afRNQEpia+sJ8E5ALYQNwh0STkAf0xNlHQBQQDl1qhKEJlJAKWLNcK84UUBgDBFIpSpPQHr40DAT40pAVFzRFyY5UUAelZ33RXxMQLIopcNjWUxAo/jk9Ug4TkBtP46T7XRLQFoNn+ycYVBAElVMj30aTkA/8IPMPxxJQKHtXnWt+k5AL8myhkkJTkCxWSq/DVROQA6Nyu9TdVBAQfrh76GIUEAObfHOvJVJQHsRro+2qE1ANcemXgOeUECEPeCVsilQQAHxZR3Ep0pA5QEnGYZWUUBZ/EVdbzNLQJJ1Qp/KYE1A8sFAiOMxS0AVdJLtJnpLQOoeysk8WUtALeNu65+RT0DS9xVD8lpPQJPDpMHU6E1AXGcDL/EWUUAHM8ruR+VQQLKBrPJmBlFADzFZHo1/TUDB96sJthFOQLDHxK5a1UpAm19KmM2MTEAW1Q7tPuVLQIjaxbzcHlJAvRCwG/18UEDOh6wTDwlIQEgnKH3EEVFA1UA5kC8aS0CWR/sPtAFSQCcUtN8kpktA/d5+X6zBTEBLDNEriVZLQFHN9gIPKVFAW4SN4QfQTkA2Odyz6tBMQKCPCen/7UlAle4R5+IOUEATfzEs1/tMQLR6dqIhuE5Aek4kMYPmS0BR3XyaqWBQQHpGI4cKVUtAZ8yGso2KTkAp5KZgPVJNQCo767TZ9UxAl5cJ4DxYUEDgAKc5WldOQGHgxqxXnUpAZ33ZzZWlTkBiO3cvdaFNQP9+JKnjHE9A+lwj+WgfSEAMyiRF+ldQQOL5u24NM0lAN45z2GqnUECAkK3djadQQHWFb6WEx05AxjL8PSSWSkA4N4RmWM9PQJ5xz+9OSE9ATN+sYJQhT0CFFVuEPhBMQDmKQAMt/09AlkkWAk50SUB1VPuu+yVQQOqUu1pV3lBA9n3iiNt2TkDJIkGBm5tQQKJwlEQbXFBAW1NpO38tUUCrfM1TkOZMQCwmzeq7HlBA58pNVxvHTkCmpaPxjklQQDZciOL5fkxAp/dM6F/YSUCm4t7deQpPQEpy5q2aoE5AtBRDIlzoRkBDcklUEbtNQPTufQ411VBAgKBzMktAT0AmRz1Jq8dNQGV13JSW3UZA7gwikCxWUUAx0CfFjRxNQOJlQX7J5lBAgwkFwQKDUECwi5LLscdQQKxs1hVGSE9AQyqdgrzzTkASLEj2nk5QQPAKCql4Y09ATc7stFULUEAX28UoXVdQQBNhasFRtEpATNcb7n7uTEBSqC3UjXdQQJlgIARRPU1ARBvjLj4FTUCGRXbCPjRRQO2VRhlj5FFAOEPagstETkCXtrNJkcBHQDvixjcte0pASntw+mpCTkBCDLOGJBpKQMkZ7BQwTFBAhVKSfRySS0APXIShA7hJQKHkJfwiV1FAuD66ROznT0A7kAOb5ANQQIpGq9CJqE5ACUQFYwDpT0BBwOTZxLpMQApSaicCkkxA0SIw1+/GTUBCbEFq4kJNQK4oRpsxWVFAhGIKwOE/TkABGiP3w4VLQE73zZPFCVBAd1PeJ4jnTkBvtPJmkWdRQOAphXREnE5Ag5vTUgXJUUCXMxk7D6lDQIsmkTPhFlFApMIWODrnTkBvs0kP5dpKQAgoqawzPE5A2VMwJpOYRUC1G0QQowhQQCRF3hM9S1BA2NZrtUH/UEDrkOzwKvxKQPoe3iSVf05AufAaHsrDSUAI0B/yg8NNQNNWRZeWGUhADyHa+lYWSUDZMEW0fxRQQJwkYXuDh01AG7ImqrL1R0Be6XLAVtVNQHXFN550j05ARl+RkpQSTkDKk1AWAytOQIHwkkP+Ek1AoLx18/hbTUCjP+E91LtNQPyfP3jTUE9A4WEvmRGsSEBkrgfrzhVRQF5+b9zeWElAewPxjgNyUUC8yIw4YKpLQLdFFBxt1k1AgnuNHUHsUEDBRxi+ZcNQQAG4ajxJbFBAEgWNGXTBTkCseWHxW0NRQOrgbI1iAkxACflg2h36TUDDCJjG0fNFQA1W6EiV+lJA9BGYIq+PSkBIyv+cYJNPQJnp0JArY1BAchxwmIq0UEAJ7IM/obhOQPH6hmVO+ktAJqmEaboaSkAnPJyGwO1KQPUSJlcrJk5A811nC/1cUUCpsKtJzDJPQEigciNtXFBAltgDnZ3JTkBrk4r8PCNMQNOnrxTenE5ADuhQUC+XS0DX5lyIjXBNQMg5GltZfk1AjHFgmE4cT0CI+vh+f8ROQGAPpnpvck9ADqOPykEVUEAfTGfUOaZPQDmJ52hutlBAWdYSvr5DUUBGUQ2xehZLQKT2VQceeklAjVs4sKW2UECDJCmNq5lOQK5DZy7Px0xALRhFk8ozUUDw57grkIxQQG5WOEEz31FAaV3rKaCOTkC45QQsQwRNQPsMysycwVBAXUK+pVHsTkB48DbMEbVOQA2DRvqLUk9AHytSV4wyTUBdDDPi/xVNQBzWnGCjaElAzwVgf69zTkDrTfo5igVNQDdGq3Fwu0dAgOYGKmevTkA5fbJ2XvRQQNom3gBngk1AW/HOUeG0TUDYIi0AF4FGQA00tiDTy01A7VSUyu8jTEDd6mi1NEROQEG1qrSEyVBAR2R6dyRGTEBeldyb0zFLQGLqVy9wk1BAyvQsclxiTEBnnWoDQ7xOQC2HfkXOEE9Azsrxi6L6SUBDzjqdJa1JQGOCwW4FtlBADhpCGiUcT0AYqkNpgChQQH7IokVxjklA88va8X/eTEDLTADG+DFJQGwwGwokcFBA5ZJcCP/PTUB2ENpV2lZQQClGVg5ZKlFAaqWtfJEITkAnetRlvyFMQA7dqgWHqUhAIBPxKUBwTEBJdNkpllFOQJ0F7xFW+1FA2RUUIC/SUkA2x/BxTldMQAgafgPJQEpAyhlSX4BhTEChE2u+zB9QQNtq6Fw6hU9AKLpjlelDUEDncqJPXtVOQB52ccvrbU9Aye8HEO8DUEBp0lBwV9RIQDGudvSiv1BASGDeP4+VUUAWdFzMIjRQQPvSDIWORUpAofa0FywYSkCyN6lASo1OQL/Pu4cCVVBAIP2cLk+tTEAzkwZSl4JMQNwEoRKdLFJA0u7DwiECSEB06oEZocZMQIkvE4sj3UpAkBUEiDBCUECoaFAkx2hNQJENhEGy1kpAcSEaOXYIREDEWFtQ+49QQPC0arXO3E1ALa7p1UGiTkD+9SVRaCJFQILO8hFQdlBAMToOCoLgTEDElFDgiwlNQN+u5HLCi1BAwwFKyHo/UEA07jcH9f9PQHL0h/thck9A7sfNToppUEBq4BbreolRQP97iy859lBAiUQjkyDHTkB8ezhL8sdRQCoQ1VvlxUxAcrMNiKrBTEBNF0R06ftQQDl7Yx3i50pAOTEDZtBETEDrciJTlsBMQALqJdlOZk5AesxFnG/YTkBkbERh4F5QQMgrmUTRhE5ASmuiP/lITkBsKyJ8cBtOQKv51piih0tAJcbBpIkITEBmnw9YjwxRQD5TyMxgsktAEV8FJdgBUkDJInHMRB1QQKaTh9P9qUxA9SLpxF3CTUCU+TAXzslBQFK2vh7mSE1A8fuoWgp/SkAUjXI5sF5QQDYM89HLmEtA5KrHKo2ySUB0wkjJ9RlRQDBm55Rk60tAJ3jtdz6QR0Aa5eZ0TCVKQEwO5R6rS09AjGRNH+L1TUCUEqtUNTJLQIm8MTgPqVBAwPhoOt/4UEDGtFwyLUNPQP0gzklMrU5AgwXzvOkCUUCOKmeh+CdRQBSfqwSsuUpAvazpcaYBTkAdteByfp9QQOeQJZUFEkxAowyEXh6qTEBl//w9BC5QQE/cyyC/s05AgyJINHO5TkA4xJr/cUJNQKb7yWgdnE9AyhjRcAJtUUCGwsWK2U1LQN1uOLF5DFFAshKa216HUEC5M4VluoRKQP72szC8Z0hAFOz0u8fITECgdpjD2i5NQIrMzThoKU1APM8Dx4+2TkC9yWF99LBNQL1ZySrQOkNASd1SiNZWTEDmSW4TcshOQJPVfknimEtAETguuZ4TTUCkpZU6WoBNQJVQom52zE9A4LAGPHXfRUBof4wHcWdJQJu11w9EzU1AELfb0ObMUUD3kbmq79xLQOvqjuhZE05AKY+GfSl/UEDO36Arn2RQQB/0Yf+a2kpAdwCZp2AHTkC58bB6xBJOQOxaRpeu50pATgsmjmkVUkAy2mUOATBOQFnHz2r8VUhAaD+lwA5ZUUBJIkxQIKRHQGKp8dvRFlFAZnVkbLk4T0BBLi+U6v9OQJYRbxy6PlNAUFyuXg2ATEBWb0YTAsdQQPNIGMkzBVBANj4dzF8YUUC86kHJm0hOQG5U8Ilc/ElAUfiZlmsGS0Dh/2W6BolMQPvXiylqwk1AKigEXlC7T0D4Xzz3fnpMQKjpsuH3F1BAZRiMFoPzUECIl+S1fcdMQJW61HE57FBAiIYijBc6TkDifeJOBGNQQNQyNNRK7FBAStDqjUIxTkBDfDDVS9ZJQHGCnCpUSE1AfyefFCK5TkCtHcWE6BdNQD7bqcZJbEtAZULxVtj1UUDvIBnHk6xMQHA15mjeClFAZI0x4cQxT0A401kGwAJQQIqXt1Dxs0tAeQAvv6HeSUCcix+58jlLQFjXReB1UE5AwDLRnZdsTUAcbY1jE7xOQHbf6wC7kklA5peFMdeLTECA3i0vD1lQQKGRZfS1l09Aof2coxyuTEBGXNp19lRPQNZeBeF0+FBAMX+eE12UTUCl9QN1tkVQQHIi6H6+ZUtAonsx1TJ2S0Bu2KjvM5pOQD4CWMfI3ExAGSVgUntNTkCupsVuxGVNQPhc/wzBJE5AGo+I96FaUEAmwvjJBthMQItHlpRN8UdAOkxhNstLSEC5MC15baxSQD4SQfKO8E5ADGgtdYmqTkC/VfNPNZ5NQIiywbDD8ktA0HwL4+qgS0CX5joroo1KQFxBTvE75FJAK/+SFhNOT0A0y6QoMrVMQIgHbkNfJktA3q1TgPtDT0CjDInx299NQIyyAJwzu05AHnIZAFGQUEBbZTcvXstPQCNR7rWLeFBAnPV/GFk3T0A/ab9vle5IQOwKbezhmE9AmcxBGGHbUEA/ToHUAiJNQNSSSrRf2VBA7ZCdzCu/SECbcig6do9OQK9xkhrSCklADwejnULgT0B56b8M4GpCQFyHOeBZmkVADhCfYfXiSkD1E3cdJwJKQHISlBSsi1BAIB2S1CJHUEC36zGb5a1QQE9lGp17iUpAsCxRSqSgT0CmchEUJP1KQHRdO+LNE1BAvY7QQRTVUEBIVTf6ogdLQLUUsF6Io1BAufEvXtyGUEBNMt1DiLVPQLbX4VyM1k9ADvhdSJvqSkC7QuPBUO5LQCxxMHPIiUtAx7Ox35ShUEB/qzsZDfhPQNNIIatQMUtAsm98IDrLSkAtkl2LjWZQQDEiWD+zFlBAyLuWF4BwTUAyi2dDWr9NQA/3gMgcHVFAr7Uxg0d9TUClZRxVjbtPQA2E3JBKkk1Ao/+Rw0E7UEAWxZZV1VlMQJ1jRS859U1AzppgvRgKUUD6fgNsrPdNQNsmldTSZkdAAWpJ9iLMSkCLBoimFitMQMKmlm0J6k1A/QFgZiyIUEDNmb9OhctNQBRRFLB7wEhA5fC/r4bcTUCqYblVH6dNQJBRph0lzE5A317+9rK4SUDskb8ZOdVQQNLNpnX5NE9AtJEPmuDWRUC55jepQohNQMt/265rVlFAt5g8+cdoUEBf0vNAow9QQGw8oTP35lBAoh/2y+s1TEA85cxgyz5OQBavTN1ud01AkdZVrQYfSUD8Lo+nZmxNQBmN+goEaktAojbNblcmT0BPwmJ1C6RQQAr1nls2DUtAOtdoxKgVUEDFCvDYr59PQGCZNnUkFUtAvV5tkktTTEA9meZDf05NQDeeDKDEqUxAV01b2riTUEBrC5QlsnVMQKTsTQvoRk9Af3SBmtGvTUD5ERShOOtJQArw/94Wt1BA5xvLNAS1UUCLWCFDCTZQQOQnze8eV09AM3yVK7uGUEA/A/zS9cZQQNpvMlonrE5A2fPgegb9TUDb6YVWYiJRQEiYhS52Gk5AEI8Bo1e9TEDTpr2ZnkNQQB7V2SwaFUpA5Z8jJJb4SkD8FBX1cxJEQOvBoNA/AE1AJlKhfyU0TEAUsb2zKdVQQMPfGn33E05AwcjAoFShUEAwFaQ0blhRQIi4klQTeVFAgV4ifxlBUEAt2KHvq2tRQJU7aQuN0ElAhO7T8vF4TkBbAqGhuMhKQHDsmI2nVEtABvdOvPNcSkBxtrsMy5lNQOtAzx4Rq1FA12+MIm1/UUAPaiszfMdMQCCzQYhJe09A9/sbXDvmUEDH1l3hM3ZJQI1hLzVVpFFAtFrWSm2STkAju1hvfIBLQA6OB50EzUxAPqt52sSgS0DiWNNcShhRQLk6RSSwYU9Aq+ZoxE9FUEC9ykOZD5VPQBye+BRzcE1AXYPsQnUFUEAk3ABb+JRQQDO/d9MrNFBAAGYhSzfBTkCwbk8d//VQQGKlNDmZ8k9ATiDAEP6TRUDVctwNHq9PQD0zhR2ZoU5Aek+esQa/TkCEpQIeyjxOQLKSdjUqt01AiE8/41INTkDwzCENdf5MQOYen0bwO1FA3K6ZaSnXTkABizSXku1MQHzmviFDCFBASfb+1nuhRkBFZ7ysq0tMQC1B3hPPTUpA6xVQdaCdSkDunTauJOtGQF7uGFg5u09AuHT4Anr5TEBYrMYUodJOQMB4PMJKZ1BADmH2NQEAUEBjHO3M+ZtOQNIDJL8HfE9AMaoH/OWDUEA2Vo9DnyFQQCeaI1Rlc0dAIhPV+0cESUBB7ARZ7Z1PQCSuiMOoRklA9CdSMYYfRUCE4fJybTFKQJqc1YKzZVBAfzXTCOiTSkASwTddhhpQQL+odycH+FBA22UAuOybUECLGw2Hx19JQI/GrwZC81BAOrLrqVqxS0Djaj4IgOBRQIQ815KX1E5AhclIB10JUUDvvzAV8sVOQIUCHIYo1ExA3TrOeUjnT0BxG05s/apRQCqThXzh3UpAcBrayIpvUUDxefrDLipGQBNzvQeKXVBA0bX7FwS/UEC4fEErvlRLQCRJzHd321BAkKY7eHxXUEBBZkeyZ0pQQPGgaGx38VBAK71i1alqUUAI5d6N8QBQQGyHiMWNIUdAfY/VImHZS0AS374uI4xRQDvjW1bJYUlANsi21J//UEAbyyWqIE1RQFNzy93sjlBADjEnp0y7T0D1kQc7mw9OQPAnmXjtGU1Ag8iyqYujT0CdcL8e7CVRQLEb8qc2klBAbUON9dYjSkCyreEjhplLQFBVCdrIn0ZAYsfH1SRLTEAfDN+S9w5NQAFq7YY1Lk5AW8E6TkYlTUCqxrHcP/FRQB9k51hzYU1AZob2Dm9gS0DmzgplvGNQQOJ7EqJgMVBAWmPk5N+eTkD2zFx5HP5EQKELjWU2KE5ARoy8/snST0CbhFYUQlVJQAeevK9a8kxAiVT72U35TkDX9TKO73FOQBQ9PK3orUxAFTY1Y/StSUASS5BHJchOQDrFJnnUnU5AAShYYHXoTUCUQ0zIB5VMQAQmNoOVGE9Ab2qIi7+4T0DDKNrcD2VPQNG2I8JJDlJAsI9+uxSaTkCGtxUJ9n1NQE6ZGdP5ek9Aez67TVZLUEAztIMS3VxLQHY5r1VFa1BAvRPDNI+JUEBDJVh+hJNPQGHlCB39C1FAWOlW4KgOUkC1ff+XyDRNQEdHvnSM7kxAWaGkIcQDSUBlaB/nyA1QQNA1p5hb2UxAyhpQOQoMTkDKk/jMuGtQQPxPLekFOlFAHUeSCV9NTECWuzA/v51LQNJAJsJMN1BACtbYyl7sTEDuBBQNgkVOQGTYbRcld09AUDyQeENhT0BZL9yIFhFMQOIRFg2bzk1ABVhdcOtaTUArp/MfBYdQQDFLMuEEkExAqrMGB+SbUkBOrIL1WctQQPnIzGhT11BAjwos+nOLSkBmSEsIxj1GQPHDqWSWv1BAdMiWBIURTEBcpLrYpydNQOUTb7Wfa09A1AO4ughKTkAS0DPhuMpBQHXDUpvq4lBAGk+ogBInSkCsUFfn6ghPQCQtWWBjRVFAYo7uma/gTUBxnYP5wE1HQItPC0EtD1BAB2cvcv+WTEDHl8Gg/pJMQFICvkUBZU1AGb4uEgjJT0C3ZcBLOv5IQNYUy1zv/EpAdeSGRtvxS0BSY7RvOrtMQEn/uyRFwVFA3zc/Hn7BTEAkfGtGTaJQQB3zg1QPRE9A7iV1hU3rT0CygR/pQrdNQJ3BmmabwU9A3M0Y7C/FSkCMALvZN4dQQJQ2w3VndlBAa5vQcW7+UEDKnQAce0lOQB/xz/ZjTkpAd8D4KfabUEBubKMwcNtIQLRzsX12BUdAu6+SSunhTUBTXsIBrWJOQECzztBBIlBAjzYPy/kmT0AhyXaRBgpRQEYn+PQWU0lAdg0Nf5PyTkAVY52i/utOQD/0L6AWo05AgTJiCRvfSkB+JHQi6OFRQHEAvSJ0sUtAHxyuAMG8TUBHtliUDyROQDxdlWI5hklAnVnq7nd2TkDpNqof6/ZNQF4XzXxej0pAiEbO2kgaT0C0TayRiSlLQNRM8VgpeU9AXry0inWPUEAakPssdgRSQL1yH5vMM1JAXz1c31CnS0DdNaoQaC5SQMuN/1bpOVFASua4JdbES0B79zWfJClMQINGVfcFxU5A5dsEe5OkSUDPescZkjhPQFPj3JrXik1AJ7oVL2gLT0Bh7KGYAldQQC8jetsp7U1A40rjhmojTECl6qoFZZlOQED9otCh2E1AdEEY2i8RT0AZB3Kk2EpQQCueKBy2lFBAkiTMo5FZTkAczlleEaBNQCwYkX61RE5AbBYO+slKT0A+UeyAnUVLQFMjyT8MZkxACkUdXqMPTECYxZ+oL0tOQG52/8+pYk1AiTiv6S4NTEBmM1V/QpNOQJOZXpNiuTlANxG2WmFvUEBwKQ4oMGtOQPNy4otdk01A38USYb+RSkCzbAEaLUFOQD3PIc2WS0pAojc2s9V6TkDVGvEkOjZLQJo0OONhGlBA13L33PXSSkC6hK7xh/pLQO8AKCr99VBADqHwsBIETECeksgHXl5KQI001GbTxE9AByYJZqpaTkAbqjRJm+lKQIGIbbc370NAgCMPiaVIUUAbqD+dBspNQFiKZEom9kxAkIR5QvabSkCx0thurudPQKl2ACHqmlBAHSWwV4jLTEDcucwRJRxMQC1KN0oZIVBArbC6lyS5TUD8SEx6CvVMQOgJO5bPelBAiIbUULWpT0CAsdFHFGlQQIn/lx14zU9Adxm6rC+mT0BcR9HFJ+tNQHU2ka3BglBA72xkjVJ0TUCCrQz1mQRRQK/Gp4l31lBA6480e3W8UEAwpjrfEx1KQBBcxEpMy01AGcUMTRMQSkDC037GV5FIQM0AOBf0Wk9A+sqJy5NLUEAGpq08AjhRQLrAafG9eU5AcFFthw8uTED73nuBbU9NQIDy7kqxVEtAl+W4E9jOR0AnUqi1n/BOQJRnDnrjpVBAMgxpYXYrUEDorMGtBi1QQA3Mbo9vSFBA+N9tDx4+TUDmbbglMwFKQHfYXkAJtU1AWcMa95NVT0BvKhgt0gFPQHLA1VOE901AkWq3CBLjTEDG0df9qx9MQCbTukxSrFJATjkkF2BwTED3PjcxLC1QQAYMJTlKWEpAdNJoZonsTkBIoase00NPQHTU8q+JjU5ALFTjS45ESUDH0OiQoG1JQCJCzQ39d05AE0ByAAdqS0AQokMOXmNJQCj+lSIhqUdAjxtuNosQUUBQjORC2MpKQJq42LGezk1Au1Wo/7QBUEBjSI0okmZOQLA0elbfb0lAylm88Kq4T0DWCUEo/CROQBcs2w5rTE1A5qdqGACeUkDBUYjc2CBKQLxBbB+exk9Ac7W9KQt+UUA+CUNlGPxPQCTEeKpwk05Af952KEZeSkC67aAU76xOQKcRpv07qUxAdY27tzBPTECSnt/fE4BJQCkGS2UZn0lAy4l3K6z0UEA21h6GJHBPQFOy6+BpnEhAcZupunIvUUC0T+/gdDZNQO08vyzHX0xA5Gk+jjdnUEBGTjbiV+1MQF4xq9QQLk1AGvhTVQAgTEAHl/R+XGxIQEbHZA7YVktA4p/bYZODTkAOcD2tWZ9KQLM/aRNeUUxAo0dMe8arT0AnnaKS2ZhLQAtuIADY+ExADUQDDR+oUUB7PcBE1yVRQKwoTTvJrE1Aune8UyHETECuR6zN8bRNQDHoZoTTbE5AksfnggBHTEAakXY4V2ZRQB2iF9XGSE1ArCGFgqOzSECnRi9cbDFEQBRu54qIKklAiNgnGKuwT0Df2QCrYq9KQNjBc6Tn7k9Ap9lhY4VZSkA7jZ8ilkBPQJnzbMMO6khAW63RuyirT0CDxMlWp6xNQC489fesXE5Aacs9nb4lUEA8PXeHJ69JQFtBF/nI405AEzYwBQhiT0CqD8YP0QJLQBF36IISZk5ACdyqlm/zT0ATxUf4Ii5RQANyaJVlb09A+Y/zRbf6S0DWNJSbDShLQPC89G7ppU5AqCCTQfYXUUB9c4jA4UtPQOtvrg+MoVFArM8WlJmmTUDWkRyN0m1IQOe5lni9tkxA511OSBsYTUD9sLYriWZQQME9psZxo09AwGDcjYlJT0BixOsmbsZPQL4HLO/EB0tAQeUctTacSUAh/pNgEI5QQJDtxeonhU1Am4aD6kghREC0yCTGDe9NQLJlo3cy3lBAb9JFgw7+UEDZMVxL1rtQQHWZ6XEzT0hA5Fme3sApUEB796KOJAtOQFZlRR7IJE5ADj+0kEqcTkACKLe2BYtPQFI6Zhm0nUpAIw1m+sBpTkBsrXVFrhVQQAKuZxkT/0tAYLR8Xzs9UED5uJbdmxdNQDmRwvj4CktAqMwZ3VBQUEBLmqNtr0lPQB7e8olBy0xAsb+pvU0sTkCzLJcN8/ZPQHzUWqlKeFFA4MTHvbE2TkBkJWwsDxhQQMQtcBM0K0xA77cH2ayqTUCZ8VRm5uhQQEutwvGFulFAgTY5bBwbTECk9wEwqclQQErJ9rBjqVFAH216vIdOUEA+HORfLitOQE0WjvPu71BAuR1KhZlOUUA7j+O36AhLQMVD7yY2fkxAGlE+aLF4SUCrKe3lPDlLQCNJxdSE5k1AuwHubXsWSkC7EMPZDdxMQCelSZgtSUxAkrA3Hgh/TkClLlnrkcpMQG6H3o0aZUhA/r26GgYhT0A8oRkxxedOQNKascVXJ0pARUKTvXd9S0AJJIa9n7FKQA9+67dBqU5Abz3tKEHyUkAyNg8RjfFNQNiEEy52/ElA8oHnA2D5TEA49RmhZiVNQDeb2Giup01AQD950wb6S0BrW6uMR9RQQLeNIiY9JE5AB5aAWQyGUUAhctBX4PlQQPAiAqobiVBAS0aDpKs4Q0BTOH/yvuBQQDD68BTHflBAN6IMc1OQSEBbxYvkiDpPQASDI/uuLE5A/Zeyf9MiUkCKrMy0N7BQQFeOn5x9LVBARPZzuIH6T0BxEkCMf3JQQEaoxVtW+UlAIwQL2UdWTUCUz1pfTONMQCdRkbQLxktAwML3P2cfSUCczNkG7BxSQEhy6FCVO0xASO3ezC4WUEBjjnVFfRpQQBp2PNOpvEhAi0axEOGzSkCJYk0UuKhLQOM5BWpCqU5A+5Ee/MwRUECcwbhZEINMQDhxyrOtKE1AZZwngTquT0D5DNt4mLVPQOo2hVR2ilBAb1Ydno7kTEBo6RwH0NtQQNB72VCG4ExAm7WB67EEUUA6EDVfwpFNQOEaWS36VE5Ao/j/Kj0GUEAM1Zb334hPQPck5M0DfUlA3Uikt2D2T0AqFtAnrlFNQKBmHVwg+E9ADJg7TewaTkDQs2zm1J1PQJcXLa4kGUpABAH/PY4+S0B4dF04rTVQQB1x6xjEJE1AS/2uvRceSUBgEcLxhIhMQO4wHRsJf01AHlR340ePTkDYopOxT9hOQNNVzxtvaU9AMWs2CL7iS0Cntjt1SZ1PQOdbXkBsXE5A3hsbQ/FcUEBp6G+G2mlOQJ63wJQ0+05ApSVxKE/tQ0AeWbxGmoVPQB6yPG3BYk5A8pmZQ5K2TEB70k8g4TVQQK2FGR6+sUxAWVBfsbWhS0AC/OBLKK9RQHXceEUc+k1ALXugISauTkBEoDLzGABOQNeqiK30lU5AtYLv+JZvSkBtKI2fjpxLQO4TafPodUxAZDU1Ok9WUEBzkhTkfKJPQFZhhv/d21BA+Rm/PKSnTUC3iw3JC2pMQMON+/0fsFBA5UU7dcBkS0BA1Ov/DnhMQHsvmAxgQEtAsRIv8ojPTkBPWwqjHyJOQHQP/dLPZkxAUA3GsZDpS0ABKlXyEUVOQCFB0OcH4E1AuyjYSmJ5SUDOXFert/dQQKse14SlJE5ATc9p5G8BUUB3DXHoDU1KQDH5QhHZ01FA0AKk/X0ZT0CmsePjxztPQLfyFvwGnEtAa6+FkbPJT0BcJG2Ste5LQIhuSdzLIE5AR1WEbMfQT0Bptt2qf0BOQDrY7NxPJU9AOqoTumg2UkDFxvYrpTxSQMjlCxtzS09AYCeLiUpmTEAurU78vrhOQGlpOJ6+FU5AglpmRgjaSEBIFmjm+LxHQIC8ublfCExA4T4fJkckUEDfMiKXx/pOQMLpgVoJNk9ADE/PS3YjT0BaINr5EzpQQJyPrZHi90xASB7e9R//TEA6oaPpozxOQIue94fZbU9AfgwwSzkbUkCQYZiGZ2xRQGMoEkvsOkxARw1XP462TkAJOi2ARDZMQOHvSLZ/JExAPm2Zt/5fUEAyck6iAv1NQM6nUdDAJkpAmaAl/OZ2SUArfvtW3oNQQNAOOfetHU9AhacosQRTSkCpAUAdkBNLQNI5vyotz1FAdrGEF28FS0BQqMUPfPdKQCr+ipSdN0hABNo/dLt5TEBt7Y08B2ZQQHQTNF2ErktAQ/0OUtnwSECPb1FCGpNLQH2rEzCjj09AfodHAa2lUEAnOZv86ZVMQFHInscpTEtA+Eiq2AmXTEDvhoM72upMQKSWqXy89khAnaTqUHqCTUCZdyHzkgVRQG5dYxiAaktAOgy2TW64S0CGXeUKFINQQF8UWUcO4U1AJDIUtiWbT0Djab4W4cVMQKYAtlSfmVBANPXyXvv3T0AO25Lgyx1QQJnLqhdUUVBAtXH25ARdUkDim4hIMptNQBkhYOtOpE9AxGUTGe3HUEAY3xFK8ZRPQETxx3GOSU9Ahg2EBSyjSkBWERitLkFPQO5DwuCcbE9A4rmWpZr9TEC5lMWIYpZMQC87wlCa6E5AIVU/S2HCSkBHBrvuomRLQC4xWNwTylBAZXfahHd1UEAMZXJv4c1NQHAAFhA8R0dAh1fjuN26TkB9twLCvyRQQCFJlMXQoFFAIc/5j3MQUEC5S2w60BdNQKEDJV82VU5AJr2BFaR3TUAAfEMAglNPQDRhwzxYok1AzZeP0n9ETUC2q/IUSfVLQOKxuC6m+0tAuhjWKGxBUEAW28zlstxPQDGlDEqznE5AWJgMpxYTTUDy5MjwywdMQIkgfCbHRU1A6hpPAWL9T0DY6YmfbQpKQJlpRseofUxAbEdTy3RkT0Cq0FcduSJQQAVMWmJInkdADjxHYiVES0CgFpkWtGhQQElEmd1vkElActTiZYFpS0AvQewb1qRPQOch97OPh1BAmxRaPUtPT0DEOIjm1M9QQPK53u8IjVBAzadpTzciSECI1TRJzVNQQAG7U7OSyU5AM4DVATbmTkBxcGX5LTZMQH/D5SUAeU5AePb5rKWBT0AV7KTDGsVOQPa1vBNRAFBAArUZoXvlTkCi+JuD+ExQQPy4rK4M5U1A7AAnTvX7TEDXFlGv5OBOQKpov7hC6E5ACUy6o3yZTUA9L81y7A9OQEQ6p7xpBE9AjP1AsuOLUEDILu5Q1R1RQP5bztVIBUlAtLxIkm0QT0BWxQZ/6oBPQDz/sbySeElASeC4DPLlSkANDN9e/IxKQDEQe4txUFFA85kwKTfUTEDGyyryw9BRQGxKoVPhSUpAoTaVu0oXTkC7DLGzuEBPQBc5xn3irFJATuT8grRyUEDkrfyCbrlNQJCxWV6MYk9Ara4UbnmCS0BhS1gbqvBMQBKd781kDk5AOgdDIKOiTkA0q+ri72xIQID7o25WrU9AAnLCotQ9R0C0UfNjpbxOQAiIejU9d09AdDJDtJ7iS0AQNPuvEF9RQM1pamZXYUZAk2QyFjNnUEBhCPg7sdBQQGj68ssweE1AjAwDTrxnT0DrCoTNvCNQQPY8qpRbLExAGJVD/xQkS0A4kyi80ABIQN9VG2R5Nk5ATGAjr1EmU0D+XEDYzxhOQGa8NhZok0pAlYE9GbjVS0DA7kvRplJNQPXKC2ae6E1A+AiP/aoPSkAXHykyDUhPQFe3W0m9ekVAsVjp3Jq4TkCrCS9GKnhPQJ3Q6U4OUU9Ag0dDgVg7TkCFLXpB9f1RQB3OvwABc1BAXQNyUoEIT0DRnZk2TQVQQAnAzkcll1BAbph+dwD0TUAp50MrQjRNQG3r7I1QWkxAMVJkq4AIT0DMQB9SnTlQQOEVo4MFG0hAfWBPhkwUT0D3DZHT2mZMQGyZNzhgw0hA1Pj0iRdzSkDBSCKrsGhMQLvip0ygCVBAyNlzg6NLSUC18MtwT/lIQND1YoWWtVBA+C1AUP5mUEDErU+X4Y9QQB2u75DSxE5AaQyLHqOWSUC1+ifTWOJNQLi6/I7THktAbpbKkMqkUEDEeZsZKB9NQFYN9ANuvVFAYCO5W7FZTkBslFCCSiZNQMb1lDrFkk1Ah8DfeqbbT0DchXNLlN5MQIV8d7TCDEtARTc5B6bqR0DCch2RXoRNQLRyBbYhY09ALHqRH0rvREC8GhqmKXBNQEkqmJSIVkZAgu2+QcAcUUCCL8X2IpFQQNqja7ly+05AG79uhswiT0BQetx2+9tNQCew/PWLZ05AUKj5bWNVUUA8mk1ig6xQQGUEXkS5IlBA4zexTp+1T0BFLk3NLqdMQKLbHfZbQktA1FrZiFwsUEDtc7ZLuXVOQFahKO7SGkdAcHs/HlR2SkDjuxVDEJ5NQEphUdmTPVBAS9zgSjGmUEBnX2v0kRdSQIjJyqkN/k5A3lFRP1/dR0C9CwUuR2NQQHF7PsaoGkxADd/fGx47T0Dzl9lSb6JMQBFId0yESk9AWIDSwqhQUECjJzMZ8DJMQKyBpKuyck1Aalgs7d+bTUB+pXvW0/tGQIjqHKujE1BAE+nHJaJuUEDNZHw2xgZSQGx8CY8QHVBABGCdP0cSTEBkUYDXCa9OQAG8NIyEq1BAtoZ6n/jRSkC1u6qjnldOQMPgNP3te05AIaTX0bNbTkA8ZfAxIxZOQB4dPsKu5lBA0cLKMg6+TEAKH+xt5cdPQEgyha/ffU5A5VmyFYcwUECrZHPUecZQQPBuJC0CEVBAGXVgGJxATUAB3zlc2PdMQNNEDYQuSUtAVHkIplNXTEAFOUghiE1PQAItX6Qcr0tAezkNYZzWT0BM2c0SitFEQAnrAqvYPE5A1SWqAi3KSUD2oMWDZ8RKQAgbMXpYYEpARUWsu3VpTkBk2LD3dapIQNLU+OUCsFFAYPRkPOMwR0CZpTA8I+lNQF2hEGN6iE9AEBEbbjyqT0BfAuWcE0JQQHxxU+SM+UtAcM5siv2gTkDVuRfm0QxLQIycfaWEIExA/fv7ebwmTUC7bol2185QQNIXxEEc9UtA8tGt0vSWTkCx6TF3PixQQLyaqPn++0xASf0zvwBGTkBdVWnblJBKQE/aP6nwH0xATeJzcQ5GUUAcU1alvHBGQErXd1b/dUpAsEGh7G49TEAnjwm/Zo1QQFppNSxGfEtAPk6V6Z70SECsG7Wxf+1QQC8qKZ27Ak9A9uk3Zi5SUEAWHA3ET+1LQOppZIfxeUdApHy+Cf9aUEBJ59rF9KxLQF2XVLnO/E9AVU1oMDEjTkAiuh0A7wdQQC0XtPnLfE5AWtlTPF5tTUDBj/OZA65MQNWn1DcQz1JApzI7QcGxT0DqH7nqoDlPQAKIVe+uh0xArspAkGIvSkD047aK2T1NQGNuZYaF6kxAU7NVRBAqSkCrj2bTW05PQJoakTPYAlBAWyx2TCRMUEAHepd7SnlNQE9+rbxR2kxA/PTqE359TUAqLTmTONVMQJ5WpWGVl0tAyWV49o5UUEAkYyM7F9xNQJKgtD2wc01AXMERItjUS0DIgMSEo6lNQBAbr+ZbNEtALiIulRtWS0DWGZ7TV3xLQCjmtsUStk1AwwWFPUWwSkCt/iRt2ABMQE56HHtB2E5AIZfXoTlHSEAs+yZ4DotLQGziBVioI1FACYIjAZ0IUEBiDgYTWYRNQFnvDtdP2VFAGG610GuPUEACUsnsXdtRQMIDgn8qz01AEs4xj9E/TkCEV3+oWHFOQMa4QxDvbEtAvRBqYpWcTkCyolcDYfpJQI/cg7zGr01AGhU49yfgSEA3M+sxHhlQQEL7g0aXJUxAs1HSS1cvTUD8sPD//oxPQHOSYfaHMVBAQ1KnNtnaUEDKiGZXGzFOQEltMPudGU5AloLhHBnESkD7qoVe9DxQQHnP+bfTUkxAU0HnFe1uTkCF+v+YPPRLQGH5SRwNK09ACc9uGjEwTkArpJAnsvNRQKIfPvuQJk5AlKgYyhFuSECfTNzjDYRJQGIVV4f1cUpAwNK6zY4OUECyu5q/5j1GQCQdk1XzWktA0WExWHq8TECV2GjD+RJPQITw8KfmpEpASu+wV8G+S0D4gnHfwsJLQHq6PBICLlBAy2EjY6nbTkCKidFCFA9KQI97scqJrE1A3Zxq1MKEUUCVrffiukVPQJaPLOm9eUxAre/J0BqeTkAIEKgI09ZIQMx5iEnutlBACqmDcndtS0CEXVPL8YpPQAY7tjfHiEZAbQSNkp01T0B7le+DmvxOQCFQ/3EwVEtAZLFzVS1RTUDFqzZZz6BRQCvHerBsE0xA2SZpXhiJT0CmuiD62RtOQHpNZy57KUxAzyGnYNHlTEAU78OuoDFNQN1SBG24BUNATEOa9L8oS0BJwln18LFQQAzAO1MvJU1An0gf/o/AT0Bd0jM953VLQINekfO9J09AcGZ2ijm7UED9jTRzEQBQQM/19UQCk1BA3JmHRTiHTUCMKidiFi5KQM8R1PSI0k9AfCLbIG67TUDZq9jg6hBJQIKP3cvGXE9AqXpLSLRKS0D1z5dk0oFQQDYRIDVuWFFAVTFBDA4VTUChQhSH/S5NQEg2qT72v05Ao3cOAoMcTUDdiBY8PLBQQEbw+/rHeEZALkZXe+6RT0CoNMcZxfRPQNrmb5lep0tAnvYixIZYS0B5/AgVWgZRQF8rRUBHYk5AjmlztwVfS0BrauQrEE1QQFELtXJkEU1AsmWbTWh3UEDy7lLHi/VNQNBWdfhvoE9A9E/rSRCRSkBo2KCgFdlQQEQk49b4/lBABnsJ38xoSEBk7/S1N+NNQLMJBNhy805A1CHA6Wl1SkAdyKQ29/hIQLWIOZYJDklAvRGcnhA/UUCC7/9j5jJSQAWKWQ8JcUtAHbM/32MZUUC4LP10yuxHQNOwwgEJj1BABf4NgW4STkAA2WxJSAhGQPYz/h9IxE5A50r6F6NzSUBuThggfq5NQKnhS5sxMExA0Py7ah3gTUDzz/Dzf01QQJzR5hchBkxAO2bcchhQS0BW5YaFcWpLQDWLZOVp8U5A4Hq55m/PT0B74sO7QkhNQOG8Jd/A609Ai7YsrFe0UEAxmt0MMxdRQMezFOC5ZUpAKZZGPTqPTkBlxATcqLVOQA2t8k/FLU5A9cuKv4PTTEDSiXUwsc1MQATrZiE0O01AkBijvNPYT0CdH/IiPqNOQF+rpDKZh05AO0KFaVe6SEAJqFG9nNhRQFMycscKp01AVAMVp+J9SECJu4DZN4lRQGneGbrab1BAN4FFiGJHS0BCl6WKwkBOQLXc74Vmh01A8UVUqAPqUECQVJrjxPhMQNVCYuSDClBAvnbyTkwCTUDw5LtJit5NQDszeBfs9E9AYSktxcaeT0A4k3wcrqlIQHTQ0yJ0PUxAuk9mF288UUDdtDGB/7pQQL0Vwf00uE5AZXNNndlNT0DrfAbtPpxSQFlaLPDni0tAZY7PYUyWTkDGWOCzmO1OQHpMauvXdExA3xrMDEBnUECK1CoSgfxLQHGGf4CqJU9AcUteLouRTkD4UkAQQt5QQNw+v76jok1A9GoAbdvkTkA9qRVxzvJNQPAOzJNrlkhAMi2WuAs7TkDkk+y2fntQQNftkQxmKUtAtzIJsy0UTkDxU50zqglKQH12hpwVolBAqUQnOrOnS0BRSGadd91NQGrrAx3OLUxAHemxTslnTUCCiqz+Ra5OQBTAil2KulBAXMIH5DSPT0B/zgAa33JQQMBv/QAReVBAWN+jBk8SSkBHMtdHPS9PQHB5aApJTU9A13VZL8V5UEC4PsMYMydOQL9bX5ZvCk9ANbtuBkUuUEBfpl3l/aZLQAREAbEXxklA7qb3Ko/9TUDUbHUoLg9UQGZ5CJKsZEhAscDnOZJESkBNzbSVw5JMQPffzWXd8ExAV1XVGLQET0C4ojOLBTRNQDBV1lzRjk5A2ZdL3/RfTEDR5REWjE1PQAxTAkqQ4E5A0aJ99toWT0BR1Knb4cxPQApLc4376k5AwYeYkajgS0AnKv0PnaVMQF0LPywl1UxAqi8FI1M8T0AeFl3UbDVOQKhFaxQrq05A37ywXktsTEAjw0xXVFNJQJI9iDKO/1BABd4Qgnl6UkDjVz7d10RJQPsTOVLcg0lAeq8BY9zKT0AfQvrbz/ROQFqlusG42FBAFA0HsSPDUED7bRHKpR1NQCB+UOpG1U9A+LDR5lbKSkCczIHqxyFQQLZl9M67TUlA3weBj+2MSkCJjqgxlWxLQG8/oq56+klAHao3WBjEUEAw743NUBpJQAv8zE66YVFAEIKx/jsdT0Bo/y1hnxdQQJpLSw6y/k5Az56DlLw4TEC9FWjjS4ROQBbxSsFAIVBAb9vf/fp4UEAOBp8V2NJJQPIYR+Lse0xAvRcCAMviTEAyNp78lQBQQKkJ4HXtUU9AUyZG6mRpTEDosOx5GAdSQGC6dR9+JElABsYeoYy/SkAvSZza4HtQQJ4ylJr1WU5A4Sg6fopgUEBtKAOsJ1hQQDY+SfEr51BAFe7c8byCUUCS8gojms1NQFpAJnYEH01AX7a83nLbUkCfmoPbOadQQNLvmwOfvkdAfPqSOA47UkDsjwggjOZOQOnpXl6HOUhA7sfY7m2HTUDW5nh0cthQQHCEjoETL09A2vy+fNxUT0DvbhoSETtKQOlusR+nVUpAuMfVPEUoUEAr820XePtEQFtuO7ZKUUhACdMi/DFiUECr+hqX679RQFiyAA7ga0xAtJtWHzbTS0B6PRhXRSFLQHGE9awnykxAvm4sN+cnTkCU0T5St8FKQJlXGxsstElAPMb7kNgAUEC3+a0JrelNQI8mKudgplBAQHRkmNMtTUAtMzxTuYJLQHbqi77H6UVAnfB7YxViTkAKnKt1c7FGQPqqkoEIH1FATpdgZrW4TEBvCvOn1zVOQJ7N4+5iE01AvHLkqAoHTECI+qOhc+tMQO+pZHNJ+k5ASl8ZBNZzUECu5DZoLrtRQGS6Awml3E5AwGcRX7M0UEDOIwNjGpZRQO9tlm0Ax0hAcVyw/DJwTkDmF+fUs55IQOKEckq5Z09AunNUfJ99SEBiq9d9uaZQQM1FGrzTm01AH8hf3BmLTEASPcb3jzJOQDSKLuLxOVBAJZ21MTQyTUBJeSRHzdZPQB8Nx9laOE9AOZY4S85TUUBYSI9MUHJOQKlLmOWiJE1Ar76yP9ygT0A0yreqdVBPQJruDBfj8EhAbaAJuKmcT0Cbe+qarotQQMVhosDJvlBAKPFlvaQbUUC4s4isW3FMQOIb5UgJYU9ABObo8fbPTkBziZwxRzdQQJXGt8H1NVBA4Q5baEIVUEDiZTf2jCJRQBOrbuciFkxA1i9GLFT4TkCdTV9wT1JQQK3sNFSdA0pAba+UiEXfUEBT0+dayZlOQJfjQ/v9Zk9AlHDD4zY1T0Dcw1T4gEZOQP/NvPMlT0hAxNM62GpFT0DxDU8AWbxJQHFuL3nUHFFACKM2ydP5T0DwCxzIDHBNQKtb6QoFe0xAOEq4SMBRUUDwORMW8DtQQBzoIMx8+k1AymR9D/GKUED9si3t5BlLQJVo/N7Z00xAS7eQzNLWTUCnED1wZuJPQEX0aWD4W09AlUXS2uDwS0A0jGmG6hJRQPx4Zx5gckxAkOw4XgcjTEDOGKuRDFJQQAykoczLzVFAwt8dMYskTEA7UfWHVFFQQP02S9Hf+0hAhb/KQsFlSECOFLe98upNQL70SUuhBUtAHE1EJJ1KUEB2fBcdAD5QQAjUra6stVBAbnL8untfUEDdzH2Jj15JQO7gQ18F1k9AUoVtNwL2T0AYrUSvlVBLQIcoTYhY7k5AckVEsiMnUECo0NDFJapKQKJmfj2G80tASrVrZbuXTUD5CJYgEvRJQPvbsApDGE9AmLXVD3PZR0AzwvlZ5tdPQE593MiAfUpAjxcObm6kSkBn+vCF3UNSQGDyRdmJWkxAmDHO5Jw7UECWfCHQ5C9SQIGijLTJ9U5A33h98oJaTECAuU2fePBQQE19xqZQ7FBAetQhSHEKT0AGknSTrfNOQIYVllom8EtAQIO/5UZvTEBw+Pt6IHhJQF+VIg6sg09AOotLbW0GUEBJGmx+p91QQHUtinOBJU9AzI8mReetUUDQ4PcG/atSQIKExeAIS0xAK08rN0NmTECCqV0DSvlOQJHphOg+EVBAW0IkO3tMS0A5OY1EbGhKQBS7N0NZxU1A2tiKxeE1T0C8lJKN0HtNQNt1OeNOW1BAjvJi8KCaTUCsi6kTeAhOQI0iSbcxF09AZWLVl6pNTUCeasbD+slNQIBuwQsJuE1Ai7DtQd0OSEBR3VshKMhOQNe+m5bIglBAxJMdpyOUSkAfSCFxvjlQQIwtzOkFzEZAG2JTpw1qTUBS27+XuWRNQMN4s6dxKFJAC0mlojA/S0B0/HUiJwdRQFZFmV+TPFBAvC69xdwaR0CFIPFUw9lQQNOnZK+QTVFAd6nMQAbPTEDwgU9dLkVQQAp9IqArS05AKBXT9fFpTkC0iMn8srFMQPAQIiSJmE5A4WwkJqskS0DxmSihjv1MQHfW3sh/O0xAueCdXuEDUECwG37q3WhNQL3k8RdOKlBAW9Gag7EbUUD9j9BrX6RQQOpG1pwpUUtAwjFZpc9/UEDviQBAlyJMQMeqNyb5ak1ADsxBqovSTECb9Xh0SIFNQNSToHQKc1BAfx/Wni6VSkB5PjkTCj1NQASMdNkuEEtAJkizigLlTUAnduwJzTZLQO8USmKQvE5A2aPo+K/aSUDf6zsB8ixKQJ3jiGCNqk1AyEbf/TWjSkBbOGQMSu5QQDjzDABKL0hAwyV8eQKWTECquTNRsAJNQAIyJ0JT3lBAkdnEQ5ckUEBxzlv2jWJNQIaRmbl9KE5AOY6532+/SUCeXRv88otQQDvG5BklDEpAvv0950fkTEByv/e5YTlPQMgoaILSd01AQZ/zyycwTEC3f8Rcim5PQNITjAM4BkxAujwj2qhiTUBKOp1jgxFOQHXcfnX/FVFAZioAoNpzTkDVMbI+S25KQGK2atwBzUlAxjvRAM20RUDxVdaKZrdQQJhpk/709U5ApH07yANvUUBQcqMT5D5KQJujIQtst09AUDf95lAkUEDOr40tzT5MQJpuCVev7k5Ar67Kx90oT0AwY+zP8Z9QQDq0xlb4/ExAyB9EBqNDT0DYem6X6/dOQPCrMBF8iU5AN2mK2MByTEDR85kRhT9IQCi4m6WobE5AnIS/z5T6UEAvSGlQQ+xNQMWJafI2tExAYXtn+llYT0CPTGE2hsRAQJ01r/pZuUtAS3Ch5NWkR0AIt7qXbslQQPqkNsokzk5A9Ms/zSb1TUBk7WON9MBRQL20b46MjlBAh6XlEiEmTEBMUjjpq/dPQKQb1wEdz0xAmYJXoqeKS0DAGYbiYZpOQIVHisVZ7FBA/Lyo+IbpTECv8oT6i1hHQKVOS0h3tElAcP0O00OmTkBUTengEb1OQD58a0xoYE5Aw8z4mPHVTkDmNk/97nVKQM4a7ePlFExAvNX8STNNUEAKOewdANtQQAUdOX66sVBA4+5mIUp/S0A3MFQozj1RQAJx1GNUV1BAlHvMtYcfUEASAMTuV0RKQDqCIj2ygU9AWnZAn9wFUEDVlXwAuxNPQN5oHZF7GUxAkER8CiEjUEDBlwaaewxLQIMNgrcWA1FAA263DvQBUUDgb5yEzUBRQKNaH0pCkktA2rgPckDTUUB4SXIsrN9PQIjhgS+vsFBAj2XpgDNdUEDBfVbEP3RIQGqV/MsKtEpAvuTFUbfpT0BYnbga97FMQEnDWP6LikdAx30RP5TfSUDps5BlWGJOQGXmzvJz705AqEM3oZOZSUCT4nARWWxPQKiJNQSYeFFAfA6jWl/DSEDQ+oXYeqpQQBf6Rf6YuURAila8c0tBTEDuaVN1YjBOQBUBd4tx9U5AoSb6Ps1zTkAzNYM0GR5KQHYb1v8CBlBA9CWmRACJTkCFXW0kFEtJQJ8Em7kOH1FAKinH7RAnUEAA6t4QqE1KQPIaP0WUZE5Aus80h6HZT0AmMHmZoDdMQIcN8YncrE9AEZE5u0ZbTkArw/NxhJ9OQCTEeYtlHVBA3HZIl0miSkBnEhR58+ZOQBPuCE/kzU9Aig4G9jhRUUDE59WzB+xJQEY7qitX2EtASJACrZmqT0B+LhBIa8lKQAHAepxlz1BAi3EnDfTLUUCWA1CEYU5PQJGoVanqE05A6EmKwJ8YSUA3gg8dQJxIQDomqlaWKVBA3A5Vuf1xS0ChHNasW4RPQN2cOMwcV0xAH/zDfKpnUED4xTOSBylRQFjvVBr151BAIsn1ZpdrTUD93gu8MAtLQEtOperYoFFA+wtmZG3cSUD4eH51MPFPQEIWX0e7x0tA0GiIjEsdSUBI5WInajFMQOAfSQkNI1BAbFqTImdgTkBid+VDuY5LQMqo0eKuulBABQi6HVgaTED5VsvcjnZOQNU34bJIik9AiEoX4Dy3SkAA3qQGujhPQK+PYjaCMk9AkN0v79trT0D2o20PfQFPQPJZzSPw/VBA7mbBsLPNTkDjqPTiuiBPQCphgv8Vak1AAgmhgPHoSECqydnx1bFQQC4Dt4bdXE1ApFnobrQGTUCA+cBLF4lRQKmnD4vVNU9A0Gv8j3jPUUCGPKILlldNQJVoA+tu5U9AMxUQPE4SUUBkWuCI9lNOQDTj8xxIkElA7FGYGz3BSUDw9A/amaROQDS5NhOdE05A2ufqgDVhUECngilzLtVJQMlJzk6ZxkhAP5bvh5duRkCVeo2gcS5OQPtl5ukDUElAzAsjFo2nS0BEJOjupp9OQA75ALmKIU1APS3vrSWoSUAEkRzMWYJMQI87Z0xf2UlAs4P+s5H0TUDYiYL3XEpQQAFz8w31LlBAec0JGEUdTkDZx8GX2kBPQD1VZXRs0ElARdt1QqYPS0C6yP0PplNNQKBT5kZA2ExAfJagu+9jUUCNkPRseIxRQG+jkGGVdk5AbtFLLDW/TkB1V1BRE2FLQCUnxEbDg01AJW1IF+xJS0Du7Lws40NRQORhw58WNU5A6Xv/25XVSkBefXRNV/tJQLYhFmjycEtAy6u4kJnZTUDZ+lyHkNxIQM2+JBbdWEpAApqtxn2JTUCLTeh81ntMQLf42Qj+1FFANRASzfwcSUDkle0+B6lNQMMiOY0HW1BAEufNACcdTUCUqv3ShLdJQJqpGSmJgFBAbFJRd65AUED/WMf/jXJLQAZDHf8RbE9ACckjXNF9T0Ab+jtVZ39NQMEsaQnwc1JAQN0iMehQT0BVwQtS0iJOQIdVw/eZ0EtAQ01ESz4OTUA91QJvck9NQOHios9zN01AoGnufaPqTUDrevXV18FNQOQ1LjFxaUpApnlpn9DfTkC4gvATYuFMQKLpYBp5YlFAd1rfiqA+UUDldmPwu7tLQDEiDOWnoUlAsy7hjfBAUEABOhJSyhtNQE8CUDeSPU5ArE0HqogQTkAurfI/p3hOQPD3zr2DClJAG0AO+HPdSUBvwvFOvPZLQA59+5nhOFJA3jQAMXWsSkBO0mmsxfFMQLSdJ/lOUE1AqY6xG7RGT0DY7OFZp6RMQAipJXmLlExABYG+TdZgS0AG+cJi2dJRQPHN/DkyTlFA8LTOwlIYUEAL2yCmF9dQQGW0yfECN01Atu5l4fH1SECYZeD04/lJQMvIJ71HBFFAjMSZ4b8zTkBqCSg+XhlIQAodDMKmnVBA9zTmGS63S0BEqV/0mrFOQPeaYHailE5A6V1iOrq2UUB3F16Ur+hIQPsyyx0YI0xAGpdC8Lw5SkDrAk3lwPxOQBSO+twaAk1AnB1WQ0jVUEBD8axT9d1QQCdFK4KrJkxA6Iy9U9fDTkBxgopnEHFPQLJNvN8y51BA0Uut2KSJSEB2KIM+RxBNQGrjac1ctU9AXOXjqsA5T0DkXe/I/OtQQM8I4IhvQFJANgkFjfjKTUA9mcST08tMQLRQAlsjMUpAEBgfyGr1TkCUOSVJHrpRQJltT8LkkkdAU5MKr4HRTUAIYIYU5uFLQHFTlRGVlk1ALxAUe7kJUUAsSpQkFO9MQEJFemd3lUhA5966Ky3LUEAvJPAYphFHQP2p3MLNN05AiAJmpjz2TkBR8DydKmVQQOPeNwgEpk9AzoT4yJULT0DLYTqENrhQQC6KO1DRzkxA+jo09rzDTEA5V8v8OmlQQE9aG+Lkv09AAj1AmVzGSECtaEnByJZKQPXpcfvNrk5AkEZbdTS0SEAY1B467q9QQA38+u4wY1BAh++YW81gT0DnF8E/Bv9PQH76wdMDiFBAhxIPJ7vbTUB4+qHJGuZQQEB1M8Evlk9AqHdyrahiTED4t527XGRLQG40vQw7m01AJajkXJxEUUDe07mYtGhJQB3KQcp0VVBAIge59z6fSkDhsPt4ugJPQHun8yqwD1BA082DRrRQUEAp3Un2JUxMQFLj54b/D1BAnUt7eCtCSkD90q+EgkxQQH7eGGsGiFBAxq1LGrMwUEDIHSB2M01PQDBnwow1801AmttCBoihUEBe1c/Am+9IQAC+L4//iE5AQHGIlD+5TkCpprQ+lIhNQF8BDSIyiU9AdjOjoMubTkDhDSaVyHNNQACvkFjJektASrSZ0tvdT0DSQQ5pjMBQQHC6sbqmnEtAU43hXgafTkAq6EZxrihOQLOP3uDgEVBAGkcpdpH7SUAOf0f4YXxRQBrnjAQqpE9AMW/UKL4BTkCbCuNgPbFNQKtQAY5e3VBAQydOhZjHTUA0YtwS4GhPQGEOfHgaaFFApC/a7lmxTkDDNKUUuMRMQNBxkRKc3VBAbnBXWOVbT0D4F9E/RBlNQM5aigN9tkxAiXobqdOnTkAi4mIv2xNMQJeGncQnSk9Ays77KvloTEBM0uvk7kdQQGQfRDCya05A1njPIez6TEDSv0UvGdVFQLF/8BatmEtA8w/EpA5uT0Bdp4gcnKNOQD58QTcoRVJAjjpb5T6QTEBgmKjK871PQJ5o33zLKEtAhoUhwoiQUED/hNCjL2VQQBEETt3/I09AcQAwbHI1TEDJmXm9FU9RQBV1fJSTGk5AqBVHSf9BUEAbxZ3C7eJOQLwI4CO8vFFA3/HRcagqUUAoliwIKYlRQFD8KUjRzUdA0nwMoOcyUECcdX1p0KNMQHbr3sgS0E9AbphkPaSaUEDtE7yEzH9OQDxBRkH9u1FA6C/qLY8qTkDs2O05FGtOQBR9DR1UeUdATmJ04qsnS0CRSJKU+A5PQGrkO5OJdE5AznYyfuC/TkCg1sgr0dhPQIOxUU3rv05Azq3dmtyQTUCONQQjGUtKQDEWhV624EpABuCd54uhSEBPUZ8HsF1IQJAvVculL0tAWlUxfpSySUCsI4kZ5tJNQBC4LfcSDVFA5Sb4M0Z3TECifNsNUzpKQO7p6HU7Q1BAKzRpQtTpTkCpflFqZKZRQIQuVF0qjFBASN6WhUebSkDS0GJmTiBQQAOkj5oSs0lAn3rBBpyNTEBK5jOmJSVRQP40r51ZKU1A1WCzGreBSkBWmqVhytxRQJQdFvUicFFA9ME+ux0rUEBi9GJPqNdJQKOnX+824UxAaOLH6c2NTkAihmIMEn9QQOBZdw9ACFBAY1pWbwLFT0AnDiFYJZJNQBKoEePEC05A/DwKPBiTUUB9racfTvlLQBqwXvGw30tAwFTunflET0Cor3s1xG1MQD3v5vGqPEtANL9zbzDAR0DYCNB9QB1PQMbnUcK2i05AJ1aZtmSqTUB458kQNTlNQHVRdjcC4E5AGxn7H4R1TUABL7R79AhQQKea5sQwBEtALR1lcFADT0Dc3KbZBepKQBJMgiZvB05A1OeE/uWVSUABPYwNk4lOQE68mZ1K1UxA7bylE2KMUkD1SMfovOlIQPxYSjOHhk5A9+C5QPpBTECFkDuWxTtOQDd6XbvwqExAWCR9hgbnUEDKBHgO5lhQQPDbHEwBsk9AZ8yKryrmTUBcPQWB9FdNQF6kYviUWU1ARa0aUe4TTkAkYkaP465OQNesIvtj6UpAHvKUa1EjT0DdXoB4mdFNQLKjfV3zqUtAc2V879SDSkBFYqHby1BSQEjzVxAowE5AT5kpb3AlTEDfMchj4AZOQLY1zTyrPUpAIOf7JwRjR0ABYussW69PQGINfzvybU9AwZ7WutsDUUBb3r6n51JIQGGpqhmPrE5AyJrSrmGaUEAztxiMaFBPQJQJxbL9CU5ARAznuaepSUA4Ev2q4vFMQPHMzM+Y8E1AlUPmzT5NSED8dPUy5c1OQIiEYxYlAFJAnPOn3cFwTEAvsiEW7XZPQIQnPURKSVBA2rMIqB20TUDHYIDJ6R1RQNowCPujZk1AwzYwT51USUAUHZUGmY9QQCHDMRNxClBAyotY5Yz5UUCz21LrWxtNQPk9XaxmY1BAeEFgs6FhS0Bv1kPbJmBRQFO5VpxlkE5AnKM7jTevSEDTHXfQ6/BLQFjjRFCCtkxA/fABDptBTEBkCEzyBcJKQO0gKfKHSUxAdOd0/QXXTUDVf1cZx3RKQKM9IJVFjFBASwa8CekKUEBVpUQH7MlJQNSxFsjBWlBArnO3WpZMTkDSLhuiboxKQGI9tmxJkFNAY420ITYdUEBkzU6izVFLQBoTzZWqeVFAz7tmxpZJUEBIFOKBk05OQCSx4sqo2UlATTxgyknzUEAWyo13pcpNQIWHSH83uE5AvBD3hivaUEAbcymWoc1LQATd0+HepEtA0JmJTcmZTUAA6epyuqtNQEyYjN/lAlBAp8H5jmHDSEAgt2e5g0RPQADQ5L2l5E9AQpHUJ+2CS0BcPhX91jBQQJ98NZxS01BAIcZ11QKLSkD+f9b1t/RLQFHdpNNNw01AK+BoGrhjSkAVG38MdtVKQNBWei2LakpAhFLcCJcjT0C6eaV6Z3VQQC7vTBC0MkZAEG3YK6sqT0DdYLN3rI1PQN3zChqW4U9ARMvQQ7MJSUC2bZfqhG9MQCZq3NvI+k5AKt5lgSrFTkDajIC6gllQQLpfFxWUWk1A0wekSqNSTEC10l1eHXZHQCFEaCSdVktAEheoeNh5UkCWmZXq0KJOQLIcKqGXI1BAMbxMymYdSkC1ejInWOFNQP23+Ytxm1BA3ob2S/rPTkCWG2gwjbJRQA0VcJ2bCk5Abm3Vp0qNUUA7feRJDjVRQBdV3X7I7E9AqrQgBp1PTUCr3ndzU5VPQCxyy1e36k9AaSzcf9ukT0AKsljIbhxPQCJCcpyE8EdAn5iDqPn9TUArwoalerJOQHNFsqnDVUtAOE6cRdPFTkDtUrDrbB9QQKS8d4gtOFBA3fyvcEpAS0BBrSt8sRJJQOGXXFR6b0xAgeCKslLsSUBmFW2OkoJOQC13GboG+VBAcuJssMCmUED88QzzDK5MQOgsYcDGQlBA3g/ULRrGSUCSS4myI/xMQAvh+2KuF09AjLLeYa9ET0BRAJUb5AVQQBt7xP7WDVFAJJr2CY8SUUBwzigPjaJMQOE+/0eCXlJAM+ByC41YUEBPzxsof3RMQKE1ITiAck5ACZEe248oTkBgItNjZNBJQM2RLZ1VOE9AWmjpPKpWTkCIkxqV2mNMQES0ulW8elBAxDl68TxITkAf3x3u7e5PQBRkMnaRa1FAwbxel9+3TkDb6QwE3BVIQH5Q9TqHH09AHa7a0EJ4UEAAqKXM6V9OQN8uGiZVvkhAiTniYtsNRUA94nChNKtLQDcxWmVNpE9AMGvXHsAnT0A4JYzvtspQQLS/XVozJU5AQShnyM7NS0Dju1UDNFVNQIhb23IKElFAZ0lclSjvUUAo2b+ST3pQQCMOiv42o01AEdw9hTdARkBa9n6UdSlRQMzSTQYdcktA7k30DdgZTkCU7N/mwE5RQFQ91YnuPkdAT42S/OejS0ABhz5L4+xNQJtdAvge301ADERKVoeWSUBqcms5UDlQQK6vtqyDmk9AgfEbqStKTkAfOX1YVXVQQAacipdu00tAZLefYM4bT0DFtvfH6BBKQDvRed9dM0pA+gBeEenOUECaJ4+xIxxNQPMDDZLX90tA4GKdbS0TSkAMhhRxZdBMQGbSVIDYS01AXHXnifMMTkBrkyJlQZRQQOIHVmt8oExAvvnDWeo+TUDA+rljHWZOQPKGtjC2QElAaXAJZWfkT0A2iSsAF6pPQF5F16a9pUxAKkv+UgGAUUBGebbIbWhRQHdRImRq0kxAAchXFmgMTkBHNvjI/lNQQPLEbD2Jf0hAe91ExHzWSEAYGWsyJsBQQCoX1J9TRUxA8hqq2H0IUEC4DU/ZbihPQGbfgAoj/ElAAb/h2M5tTEBIrsHsszFRQEbg0yQVPVNAr/tHZ3VVSEDD/4XWMH9KQHaj+jXnXE1A+9P+lv/TTECy97uzebFMQIIHUHl2Jk1AMwVYGEUTTUAQxYSzxyFQQCasiuKCik9ASj3HxmlsTUCiN67OHKZJQHJIjoSBckxArsvGepCATUBTxH2gTDRKQIQMT4zZjkxAFF/hBGmKUEBKMF8+UGZOQNj03YFppUhAzqJ1Dvv2SUD7CThrJ3ZQQGW1PVXhlkxAT5tabvD5TED0pZPLgEdOQKcf0wpPx09Ap6Hn3htUUEDp6u9ZZuNOQOjR4sMRgElATxAzRzb/TkDfmZShOxVRQMBd3mMM+01A2MAoythET0D+VGUHiVRNQL0A1HI63UZA0qjBug3sS0BpDoWcUAJRQPu2VaoPhUxAP5lJrufgTEA15YeNmfZQQJtdNKkwkk1AmTQHuk4DTkDyWdjdMNpQQIXArWX07klAGB/z/SLzUECcU0JW2DJOQJ7cNkc8309A0bnQEWyzTECM69HW5E1QQF03kc0BZ0lAr24h0zRRSUBA+Qrq6AtOQOc8MHNlS1BAxuXEMPMdTUCJcmfLLJNOQIBPNEkxmUtACUa/BRYcTkCch/+mfodJQA6spgWZe1FARhLD4yblTUDZPOZmR5tMQLFDisJZsk5AujZm93oASkCr5yGJAfxNQEGmz49UN0lA6oHoPuVTSEAh9MvKbAlOQPGSzqzIVlFAYYFyLGoBUEBuqEly5bhNQG1bHYnv9E5AHJJjgLvqUEAfBm5v485QQF8/5LdYkk5AqefFrQ0gUEAi+40XO+5LQBLnw5nG8E5AS9aW7HCeT0Dmk1C3metLQPPPKD2fDUhAf94wu+R6SkBH11IWJXhMQNcPEbmngUtAzzWCYRcbTkDa+0NtYFtMQLbftYWq+FBAbkDPJ/IOS0DQJ6bF59ZMQIU4fl9ABFFA5JJJpMXuTkA5zNNPQUlOQI3jY54q5ExAfPjXX2BKTEDi4flhPdRLQKXtXIoUaE9AwKGKXWFwUECNQLR7W7BQQEPq6V8PRklA72Q4CwecUEDVcRRC+2JQQA6iAuFdKEtAXwcO/wf2T0AuKH9TOflQQPAXA2VR8UxAIR3dHJg4T0BNtpnvs/9IQBBVRCFWUU5AKdbLebXiUEBcGO/k07BIQMBzXSw+DVFAHlFnTbWYUUCS8KlfJfpPQJ0HXM2JMU9AQMwzx/wPUEAENZe24lVQQDJl9CmVDUxATJzfgwaQT0C/PqWOURdKQNi9Fym/jVBA247B2s2DTUClkejRMM1QQJBPG8RQdUdAh0VTwG/ISEDSkKxt9OhPQL56k1OohkxA/U9JwDS6S0DwTkUuWYFPQMBrd2WdRk9AffzrAmEzTkBaLmaAnRtQQIt4k7+zjlFAh2C4GT2uTUDtqfIz2ABIQGvC6y9ItE5Aj9eizmBuTUASuwHEETdQQJaojpnr0lBAmuYRIDE+S0B+9Vho7l9MQPhDUyTBvU1AdyVi4DZ9TkDvjKW/p5VPQPiJQIeLSlBARiJ7KpdcTUChsYWi3kZKQMR3aWdybExALZvc25puS0DdKtom4/1QQFwD7t1dplBAIMJjpSnzTkCae8B4RcRLQKDcd0VlKk5ANUH2XH/GTkCdwmfdpzhNQJ/gaddiW09AJtCdapGLTkDBrr6qhh1MQA6JvCOVqlBAMfTBUioqUED1hDsUQ79NQPCbBybVCUlAPzQS1DeBUEAigcLaROtNQLa83EreSlBA/n/DetSXT0C9i0PWD2xLQN+7wYZrjVBAQV9VuPoXTkCSSZhnhr1MQKpPoM1b81BAtrDCgNFbS0DuuqA5kmtMQMAtH2uYW1BA4ExyY+XUT0C2cBQ4Ag1RQILwjfzGT0hAGTAUv496TkA1sZs2KvRMQE+bkxzNK1FAny3vYDKsS0Cb0m828d5PQGvCwZ9GQkxAhJN4SHDUSkByAO6IdSpLQAuOPBx8PFBAnRyPsDONTkBrIbKnMf5NQNhI5FAisE9AH8ZRZVHtUEBHhUMwoSpPQMV1IVbFa0hA3DbwNM12UEDcIiHbC6FPQEeIKGiWs0lALrHqJ9uCTUCMnL6ETA5JQFfYDS5BRE5Ai3FNy2NHT0CdHg0munlMQC+vpbOeRFFA0ynbYXWsT0CspPyHPrNMQG9QUy6i8khANEPZFzhlSkAaN2XQZbNOQFJlP7s1VlFAmNUjSr24T0D78S0/W69JQFXmFypNlU5ATnSmDkVYSkBpz8dKDipPQBd+e0W69E9AcnbZuN/MUEDGhm1xsMtJQHR1V6o1DFFARJtd8dFaTkDp9T+gIHVRQG53j+QwOFBAa23rqBUAREC4VeV3GQBPQJvjBHMTfU5A1S2CWEHCT0CqLe9SrMhQQLrUxv65S1FA4zAGBo+2UEAp+FwC90pOQB/UGNh/TElAy1G9r+m5TUCY2xfc26NOQMn82jIAXUhAM9Q74gCXR0B+VJzt9YZPQBRVFc0kuEpAGjVhCgmmT0A3ulcloc1HQKa+AuYWNVFAC/tPCk+iSUBDQxg7C21RQGsITmxoyU1ACP2x34TPUECk7xmsGLdQQOD4S4lcVVJA1yVXQT9jT0DNRH6tdxNKQIyrVoRdU1BA9nqa7n6QTkCwhnoj0ftQQKtMAmG2v09AN/iWsFEUUUBHbl9iYcdQQKKypQ9aUFBAQe5vE9SBUEAo6mSaHPZOQFReB5z3fFFAtzm3eCJYS0AglXi9Qr5LQLgx+dP2fE5AmCDX+u/3TkAib+Gvxm1NQHK6JfI4flFAl9s9zXZWUEAHyHpXhxJTQDyvbqNIp0hApkmbQhlBTEA/XTpcGZRNQPnpcILS+E9A0ZlNQLMBSkDYGJTyyBdKQLerrGdeAk5A44UvVaL5SEBwzllq9HlMQKOBhYLsG1BAKsJfGh24TUA/hCRs7eRIQGkVkOTu60tAAi6rIAR0TUACDKtWVjFKQPDNxM0111BAcWslkHS7SkB0Ivp0jM5KQJyD+44JnE5AFYGyMx1JTEDob1uWa2ZQQFt37d25yEtAEYl8y4WPUECTskppCXtQQOk8kCOZ6U9AvEGRqnZqTEAjtAmrOEhQQGPV8lYGmEtAACimj4iSUEDuVZDUpINQQAle3MEssUtAlHfTcBH0T0AMjs4EsdVLQGLR9vU+qUpADivDwgevUUCqfDu8ittQQNdW0ENcElFAPDbVM0hjTkDHYxfANCVQQA+n055BKEpAailKE4YfTkCuHIXNqWBLQFFi4V//Gk5AbIEj5fMiUUBRT+eCBwpPQDZOexvIR05AViYqXuOvSEClUyw6CZpLQCCxILFweEdAZgKr+5XKTkBhYces0EFPQApZL2XwvktAQ3rO9NTySEA7xJxEMM1MQGdvoWpRzk1AKkq6wT76T0Du8S3KUAdPQGtopi4OEE5A5X58KGQ1TUCtVSX7/qVKQITDKzHMhkxAkNOdMrOLS0CAkMY2dEVRQDymowKcElFANUNyGZn/SECSGS6RXHxNQJGGe7XKS1BAyf/U4U+dS0B+Ju601ahRQFCa8cmk91FATIaPmOGlUEDermlHUPZOQPMJUzXZ/UtAZMKnHy6gTkBGLsa7UZdLQO9Wm+nR1kpA3se3Y91KT0DiMvc5GGhRQMHNArqpW0lAeWhGgCoYUkCyqJz0gRlMQPWbuWCa+klAQKA5oP5ITUBV25s5BMhOQOxqEmrf+ktAosGHz39KRECoHORCqzdKQNGh3FMIG1JAkpbYsfhIUEDIWTJSNzFOQDwkWRmayU5A+ql5SAaRTEBoN/i/FflKQBabAAeIi05AdkNBCuLITEDw1v/u055LQEZaSAbKuEtAQqvHT89WSkBRnzfFHjlNQM+D/o5Zn0xAnWwguWVITED009fy/ldRQG0DYvMi6VFAGR71BLZvS0B/dKyIt2xQQO39IEORHFFA+bbBBKUKSkBeAm8ZLNtJQNYs7VNzi1FADiTW46wcUEB5/H/VahlSQLCYcDkx9FBAv+8yWy23TkAVeOjmpfRRQBo6XIXzrk9AWgPJxZseT0CMN5tdfthOQBWDH3YzHEtA+M80uBW7TkAkS38IWXhLQLT5VQTK+k5AQosuittVTkA326SXJfFMQKdetksjvFBAoC5r4G4LTEDXbV3X0FJMQFXf/EhgPk9ACbcEbi+1TEBxGwTkWOhPQHigpmEs9k9AAyWWezsjTUART0C9h1BMQL0M10p9qk9AX7zksAwkUEBaiehsdSFQQF/Kj10Hlk5AG4+gXoHbUEC2uRDWNUxPQFdNovVK7k1AKq6ikAK9T0D5G2gSrjdQQKxyJS0csFBAdAcvGRQIT0DTgxqevBJQQAYKTY26NFBAXrMyazsITECFU5tW3QBRQOkoHCHle09AQ43xWf8STkAbM8ZIluhPQH5ufP9YMklApXpm2sCnSUBMJYQAGkhNQMeh1VbN+lBAkigb8bUPUED4oXhHr5FOQB96tdPimk9A2j69EvIaTkBS9H42lFZQQJYNvG7lcU1AK4wArrpPSUBBnt1TaH5NQDziXa6WFVBAO4DMpfiYTECM0wzsNaBJQIir7DCXGk1AtcM1umtzS0APAExaPgRPQHc7tv3hflBAPuX8vyToTEBvmdWmUyhPQCEtWcF7ClBALN68wKyKS0C9y2g3g9BLQKIL3ebVHlBALPc/g6oWTkCopffclWlNQJTLbyHkQ05AUl4pi5bFTUBYQx5YwL1HQJUyp45O30dA4/0mydtMTkAM7cXrSytMQMNpaVMdqk1AK+UfvGVrSkCsEjmeqZxOQJg8BbbfS09AAAREUoYDT0CWxOBBAsVPQKMcrNhTu01Ap8b2GIffT0AMQy0p3O9LQKYmzbAa9ktATR0HY5FgTkAmF3zceBRLQKALmHa7kU9AFgH2I3/QSkAK/DMBVKJOQCZcX9P7h1BAnSmYnOxRUECn7AxT1/9MQAN6IprgEU9ABjbnXVRET0D+z9mCERpKQG9HmVnvmE5ARJC+Gtg6UUA3KSeHRo9OQOcSyhcQ+k1APCYY0tLpT0A/8yWldABSQIu/BYZlkVBApW92TplTT0CEry6OjBBLQFQcLXdddUtALnUls9rYSUDK64XWnR5NQDvd3mA3BU9AA4dRnbtyTUCkkHdVRuNMQIUaIQYOe0xA07iIhWhUUUAc9yWEBztNQBUsvWIy5E1AdeKRT7NfTkA3xR6YvjZOQKScHc96xUxA86QvNtDPUEBUf+oGCatOQJqMXlLkcU9AdylmrjKiT0AavA/7qcJPQMz7mvKi+ExAo+x2xIdRTECARldhGfBOQACAdLyENlFADc2bFtelUUBcCziew+NQQO8fiIY80E9AVwZMyVDMUECdURdxWM1LQAdCGtjaLUhAs/DXt2N5REBp0lnNnx9PQDDjmfTXZ01A3jC2qZlITUBL/2VpR1JRQOevFvCdA1BAfUpSfmicUECq+JNlNWhQQDccohLKQ0tAo0NCVGPKS0BKOyQ0InpPQAeLXiYrT1BAdtKVNL8WTEC0UecLBl9NQKL5nyG0iVBARXgOgbVsSkCsyqqPhsRMQONKMcAdOEhA85qY2sYtT0A/NTDu8gpQQEVQ8/4gRExA5u0/HpboUEBIuS3XIaJPQEMbzoQsYVBAqcyQTTyoUEDAPUI+88tKQFQUzz5A4U5AnvPhn9EBSkASZtHZSLBQQLKNd8OWgVFAbFQgqB3HUUD4CK/9miNQQOcI7u8w8EtArzAlcLcXSUACQql9uwtRQEsN0NxUHU5AwH++zCSWSUAZn2RrbTpLQE2SMeRMRVFAgH8jq5pAUEBva+Z66AFLQO5JXons605AMzHz73fnSkB3t1oHXeVFQGZx/Rp7pUhAmdc68wvOTUA6EqUITNROQPqVYpkDVUxAcXqsqqi2TkD2V+HjNKJLQI8nGBJ5wk9A1KnrZpenSECJFX/TAORRQP+xrqFjnktAekbzVybAT0AEuVnP7rRKQAnWjl43+E1AnBfxd/xHT0ASiAS+FWBKQNw7DLJZOk1ANrp81raST0A7RblA1fNMQJJljtCH4k1A8Cg3AjEFT0ABacuxI+tMQA17UoCq6U5ABmEOYI78TUCMfjpzK99LQMu3t/Uz+FFAgb2FODnjTEAWpDd4AvFOQI9T5seNNEtACaXwCtqTUECACQOb/zJKQMGsr/GU8UtAE529WoapS0CpnNV7dBxJQIMwa8PjD1BAmoUr/mLQS0DaGlWUnAVKQIMEglTOPE1A5GO2wfBTTUAKENJICfRMQNOw8JBOwE9APT7JbHRaTUCMqdgkVCZOQIGAFuiyqEtAVys7GeFGT0AeISR4nzVPQFadkq9gpE9AEzsoc69fR0BmWYVzEQ1PQAwlu2k8FU9AK0n9Loe9TECyKgW224ZRQMHlmPc/EElAflTqVughS0CImIkDnxJNQOqmFZDCRk9A8veuEtABTkAMYP2fFzFLQEisa1amZUxAd6pQm/YFTkAkkos8UCpOQJK77c20zkpANR7t1pcsTkASCV+LSQdOQCxjAmRmr0lAt8pzv1csT0B2xMXCCExRQHXX6PlUAlBAysjLxPeNUEBydVjk47NQQFYMDRi8rkxAzrEuuaweS0CnT2bdU/5LQFsx1pgMZVBA0yxuCpAEUEC6iXp7SvdLQD5Yi8yPvE1AidDksGxbUED9L8LB5mlPQOE4Oq6cAFBAGQlVG0CaT0CPsPV0xuxIQOTOMjsBdklASXIT2+1RTUARkUGc4GBJQF8z5KxIoU1AvYZHVQmhTkDXikb1qfRNQHGEaqiCAFFAgeqNAmBAS0CYcog0ukpKQL4D2aPjIU5A5s4eSq86TEAo0ka02OtHQM7hQDD8ZERAOTCFKnNRTEDdmnSjub5MQG7XbQZzelFAtP7iLdHPT0DEay2Y/wJQQIm2AEUCyU1Az6UL08VkUEA9ZLlWs3ZMQEIzxjC9UU5AcFrp//EpSkCrrhTYY7hNQE0gP1A7P0tAcGoX2y7YSUAXrSlV695HQG2i7zOLQlBAcLsAeP0vT0D2VKVxhFROQCc0hXvyU1BAejxegPvrT0BLJtj2RcNMQF5/3b8IkkxAVq5aOamvTkBDMmXNo9ZNQBpOoGG3A0xAmSlcl6WzTEDUR9opwOdQQHsDMw2HkU1AGlKVVl60UECR1Tzll2BPQIcDHNkhQVFAyAuI9CunT0DYkQLbksxNQGw27dYxGU9Ac+R6LDEQTEAIaMk91AhQQAzobLT1HlFARiEoyy1xTkCf5WfcsiBQQKAdG9pvOE5AfTy8u9txUUALHLRGARBPQIC7cQbGzVFAbHOWDR96S0Afhb4qFYFKQPQVB22KbkZAqEHvHRqRT0AwEgsGKnVOQEK/pcobQk1Aj4s5kl2EUEAENGUesjZLQFCbSDtTP1BAOoBVMobPTUD53WjQYK1LQGgqZwrG4k5Ah8MDb4rMSkCKUPTFUzFRQORCVv32JkpA6Ih5lU8qT0D9tn3IoRxQQKTqF7bEp1BAKmSyw4nISUBOJJI0S6BSQMTk4vj2xU9AcO+Ryui5S0Cs0lthPbBPQE9h4uRUi1BAXOqksnVlTUA6m5C/n65MQME4u5nW6k9ARrhBLCh7SkCrXtKgJzhJQG7KFRvU1E1AzJSLLXXLT0AVM4WPd1BQQJNCIt32T09AH+Yu15WASkA4S0cMo/BKQH9aXX5lkVBACYvLONY/TEClMT1wtIVNQHP4t9vqoE9A1j2PbsejUEAV/3yz/dBKQFGiJDJnaUpAhiFinUKJTUAa2kIYo71QQIiDd8S8+UlA6l3G3CxXT0AMbWSvKHBEQOO7N3ePAE9ACX4MDpxGUEA9YCjQi0dNQNc+Sq2cUU5Ar+EP+57zTkCMWKMsPgZQQFSjdCU6BExAmbc0xWtfT0A+4bGPBRZHQAsGN5FzW05AXY9WkM2MS0Dq7j6A9ipOQAUTPmfuAlBASqExsinNUUBND74bS4tQQEIFL8lhnUlAbi/f6wvuUEDuUKageeZPQJmNxUnZnFBAXM0B2DXXTkDFggXlRX9QQIfVueE7NUtABiREtZRLUUAtM5iTfRdQQKWXEeh0f09AGhnWguiLTEAw9SLa4TVQQLneMpLBIFBA40N9ebD4UEDxuj68HAJNQIXdFxF2IVBAvWcNmG/lSkB9dsCzDcZMQKRSUEB/9k1AJNRDsBQOUEBqIt8uDgBQQMZdwQkgrU5AoEFjh5nQUUDzbmB0VQ1QQCBynN5La0lAvR7FM1EZUUAbvJXNUqxQQLo5V2IOiElAw6iTldgiUEBukiPbR0pOQGcXXi5PZVBAT3QQWZ/+S0CSSi5Kz1VNQEu13lTmGEVAEtqCMb5ETkCDeZZ8GKVMQJl8aM4U50xAt1v9TPK1SkCHGUCnFxlPQEKmjvZLWVBAqLpXeZSyUEAM2y9fOIxMQC3HzXR/2UhA3Ex0FH8dUEBs4Gm3a/lQQKWPz+Ymak5AmE+Z2a2VUUAwWKw8BcxPQJZTPNv1dU1AbmyGNmw9SUAWKwJAJMdNQBAbKY4PFk1A24NByB8WUkBznjcneDpTQEAiUYrqUE5As8gdoiFpS0AtZX+riBhQQGRHxLVp70tA6Riwfy6iTkAlIdyRE/1KQIAtRBYHsk1AqtOsYB1CUECMnEAYTbRKQP6umBXa4ElAAUDvImb5S0DCue/+KLpOQKVj6ON8JVBAiXEmKk9dTEAoEZmqbWRRQJJpzJp9vkpAaA7Z/AhTSkCk/l1zMJFOQPadLeWlik5A195rwOF6TEAcdxfhoPpQQHUN3BEXS1FADNC/Eov2T0CtVpw65mpPQNPGMo9RPEhAtkRn0qZSTEB/23UYLfhQQISI0q2aKkpAva2uiDNYTkBX/fmYC01NQIFiWiU5JE1A0KOeZDsWTECvZ8wsKYJNQGs9TRMI6E1AasTPLXYwUECeSSSTWEpQQKBtQEWACUtACrF6GmiPUUCkc6Et5B5QQClCR88eQlBAz6WVi36qTUCjZdq07qJQQIm7tnGRNk1A7NTDvEreT0ASyXvDel5PQHJiMOAlF01A+OoNY68VUUAYoq3gaN1LQBDhq9MnIEtA5yBMj4A8TkCF1gTM6f1NQPOyyZddok9AengC9dcGTEC+Gh6Q1kZQQNwLNWsFnE1Atnf2DmMLUEBdOek/JfdKQPNMTQ/O+E1AC3t3a0fnSkB/PIlsjaZNQJOcASeXvlBA+AYDiK2hT0BR7qb6xT5NQKSvO21HlEtADJV+lGsqTUBBhrVndMtQQI0YxE7yHE1ATtdWCr1mTkAvx4wStV1QQLFMHGvmSE9A5EbNneVEUEDGGF4dAKFMQLrSziPQiFBAZLONERQnTUAKYdmGo6tOQFE4qFpIr01A5s8zE03fT0A0aRVPJrZNQDUn8BvvxExAaTAaEJRQTEA1+7UxPWZOQOX48vc3rktAIDDCXQQaUEAoN6HP+btPQPab1EtB7k5ACYk5NwY3S0Aceng+QNdPQHRxsRu6dUtA4IhHx7umTUBpMvrdB8lKQDhCZ96YrVBA5LsmG8VvTkBRL7YJhihQQApT+6I7RFFAMVLBpKljSkDr0jvMO2xPQEtMt8jOqEtANLRr/8OiTUC6QjhZeSxKQGpiliQnsUtAUtdyOWmaTkCkniKGNDlMQP5GSH1W7E9ARdRKdWdFUEBEl6UOoVhLQDHiI/jCTFFASOvhAPwsTkD8c7k5OHFIQDiz5DKfelBAmijrahnrSEBwlzXqNt1RQFRI1cHyeVBA6yIT9v+LTkDTgjF3GP1QQNp0ynLy9VBAbfwxdqtVS0BBJ7RTiUJQQCx8acl0ZElAVZddlK3WS0DNjAUOHAhQQD4jzp3HkktAkt6a+R1fS0Arr6+6HPdOQOOAnjlLYU9AMQRKMLgkSkDgYVUJ1AJRQHHGYeenOEtA+ZBLs+JqTUBAYLY21GNNQAQYh8pk8FBAGCvpJqlPTUDOI9p7xXBGQEVri1UqYU5AO3UBVVn/TkCqe+H45NVMQB1fRAm7GFBAqfO0Ngc0UUBVFiYpmBhNQJcbPR8EK1BAvfky18+5SEAazoTQ8tJGQIeZCQZ9p01Aass1r9oKUUAx7pqaR35LQGeUjbVmt0tA4JVlQ6PDSkDM896L7e5HQIm9bkRtLk1A2+/gWR04T0AzKGGpYsJRQG+EvXNuIU1AJJC+UklwT0CultY6nFBHQMxUfyxoAlBAv/EdZr6bSkB38L6UPmVPQGBjrjqfX0tAAknfpnvISkA8s9/faaNPQGcwLa9Bz0tA+b7unmaxTUDY/bSjqj1QQAOFCFQJMUpA1Y8Uep9nS0C7RTkZwmFQQHBPr7QOo01ANBwOQ0H0TECrPCCNW5ROQJ1DEmWYXU9AUg+esj16SUAWoEgsXvRLQNCT2BHGQk1AjE6ImhM3UECFHjqcQCVNQFAwwLaFBFBAfWySY/lRUkDiKkXDfRhPQE6lyTjI1k5AmzUWxkJIR0BKhloTUjBQQDKni4Ga41BAVgLXSQjzTUBh+DXHAeNIQKrlsEgalk5AYxekVCcVT0AmYAjY5eNFQCRFxoOuWFBA4RMRIvvyUECfAoZ97vhPQPUm62ChGk5AZFZ3XClOT0B/qH2YZpxOQFLIOCAe41BAbb4tJnz+UEDt9dyVM2lNQL0YhQ3CKEtAjCaCMgirT0AKGYB6g7lPQPxKbH9NEVBAwCpTI6cKT0ApX5R/ZBZQQH/s8eUaGFFA6wYHPYV+TkA2HZivkAxOQHCfN9jqPUJAQzfdBA6MTkAiZaDGxtZNQNFHxoHXgE5A87R8TSs+UECr1RPaYwBCQNHn7lUvzlBAH4GlzCAqTUDUTQRyQ7NNQI6xfvFY3E1Ayg2XzIPeSEAeHJ9z74tHQBbbXsnjr01AAmDJceFRSkABQBrFGb9PQPjcD9DTg09Aqu3/3GQcUEBDcGFtpO1PQEG5Bn3MJ09AJY8MYeXpTUDp1fHGkMJOQPTQuA8VJkxAxHm9u05nT0BF2fJHg9JKQE9bLKZuFE9A44AQ1DXyTECeNGB02BxKQP7fNwsFOVFAB7IX0k0ET0C8ZbSsi0hQQBrkiJ3bi05AV58AG+x8SkCZjX7uQdZIQDPK3wh0i0tAZ+Te2EArTkDaA3TRbVlQQKYQIi7Ix01A5XVee6CoUUBuA6oPnIZOQCZTi4t0qE5Aiz24Pz5eSkAa4bddLPxJQLiszZku1ElApJIpXXOYTUA3OgzzcZVJQNrKWbx/kVBAq3ubMurZT0AtyzCY2cVRQA/DELSIWFFAQTj91LghT0CmspaBnqBPQGKyVIIegUtAEwQjrAPBS0DJH83AXEhQQNvAZvBZ1UtAXkelVpXSS0CVblxD+NBNQEGPZlTBMkpAnrU+AbnKTUCTExuDh7VQQNlsKgc5bkxAhRvg1EAqUUBsdWWydSFOQOPHB9SZ1FBAtgPiFw3DSkBOZ40rpOJQQD7O4z8orU9AJDcXx7NuTkAu9/Ws5EhRQGckMF0cKU9ArIbgP8CURUDwNRN2VDpPQOgUJX+F709AL9aY3vkVT0AjKALPsZRNQOx/WpQ+Dk9AqBjd0phTT0DFndoB/xxOQMZE12Q+QkdAxPtxoQXPTkDhc1I6dqlQQOpPQozuDE9AoaLog66cS0BJoiTC+0VRQIZN3CeAB1FA/WScQnCdTUCMBAuO/tJQQOjoEO3pVElAL2X6HbYPTkAZxl/d/udGQIhqP7DHhVBAQ7mDqGk9T0BzEHIjTQJJQNkuaPu1KkxAaGF1E+THTUALnmV3bllPQJ530on/GU1A/pTjErhdTECSmZMv25RPQCoM5d+v4U1AcW5rYbSzSkCExGEMXatLQJ05YTOqy0tAwFYa50gfSUAZKKHLS4BMQPr5c0mnHE1A8qbsHq1WUEB9EyIKrgZKQFBxAy47c1BALThFbi/xT0CYSo/hufJQQC9rah1Upk1AOpTPGA2+SUCGrcneQopPQAIrDK0XzElAOt1zvs/3TkBO8gZEFoVLQLQ/rM3m/05AYRnZbRRKS0DAhiwYiFNQQAH0qHEGoEtAqWi6ZQc0TUA88ujJ3ipOQKKw0JcSoEpAb8zpw/SYUUDwfHGa9x5PQClvsctk/k1ATWt3QLpjTUBFNjZNvytRQHKdCtLo701AGNm/maa0SUDlXprbG2VMQLzcUkm0aU1AOpHaBtHkSEDVtB7JwEhOQJffLqqeQlBAQbofa0ESTUCJ06M70slOQLO3NnIuJ09AoY81TCNATkAmzbp/lR1OQB7etLLnOk1AF8oNEptYT0CN1XVqzU5MQDZFIKZt8k1An88UBVqBTkDCodmcBExPQG2xhYC2ulJAvvKJQsaiT0DhRBSeN9dNQF3wliuR5VFAidEZ4MiqUEAmCdut7d9JQChqVvHzQ1BA2uf1V73VTUBGxR80UqdOQBpn5g3+tE1A/ZvQkI82TEBMFjOXPxJNQGyZDPc6o09APWSrdvIEUEAK7gCNNClMQBrH6RlAjE5AhLJh19TOTUAJqoR/L8RNQGr31xPJfUlAGZ9y5GI8TED/Q1DURRJLQHWEEudLgElAxB0UFOp5TUAYfFRk1T5LQAGCc7Io+E1AaZsdlM//TEAKY0x4vCFRQE9xwwqoUE5As5VbL6IAUEBzQVAfqkhNQPGXPR+VAlBAulRlFQu3TkBEQnV4I4ZMQGsTGo3E0UpAxnoIdacBTUC8y2t8MdpKQHxOvDy5e1BA/r4o1WZ7TkAQaEkqvCdMQGCXnCk12lBA1/WedgnKTECrPjukqqpGQJ8NMW3fu1BA7wvPHvjpT0CxfEDlr/dQQHgqDQy0qU1Ao1MAMrlHT0BO1BBS0chKQF8yH/PYw0lAn3mKmyCWSkAh3o9cBf5LQJsY323SqEpA0LD2v1LmUEB1ENntgxZOQOnzjGPG5k5ALBuxk9/uTEBidO1l+aFLQP3qffU211BAegwk0EfYSkBb83EIoepNQMbby5szqFFA1WnqHhbJTUD2845Ic8ROQHru74WNllBANMekd/MrUEDLGGBEF8BPQOVyj7gqRUlAT8xoHP2xUEDERWFJnAhOQJgqqmyqg01AK6gcVIkFTEC9HcgX+j9QQKBU0deo8U9AKn89AOllT0COrC1mukFPQMDZpyH1fE9ACtcjZpSTT0BkaP3bZ8NKQJSrFQxfKklA3l0jFh7gUECT34GqWYZKQOur/Q/Wv0lAZiubG0N4TUCx1tPtO3tPQCaTYBsUHEZAG6bjxhSXTkBJmrtahnZQQLaOL8gNpVFAUfyOFOAITkAOY5+8lgdLQHCVaJxpJlFAcMymYDBGS0C/CXvd54ZPQMV+ucPftU9Ayj4nVI6eTED/yIU+YrdNQJ2w0SCyUE5AeRGuPpZjSkAQWlFxm6lLQL4F+nVyhVBA4Dhu2iCjUECF5Udg/9JIQF7SyX7IMEZAgaWAtq13TEBCoDV8RFRRQLyLS/IAzU1AIMl3VTegT0B9upSXLZBLQNeBKnPoRFBAKIZGqj8kSEDLuCVCU6ZMQGDEpJKgCkxAAnBUMtuzT0DY+d2koLpQQG9skHS7AE5AiRTV6Wm5UEC+l+JmNepOQIh9OaL2X0tASTgXqhMSUUAIiyOoIAxHQGQYGWG1M0lAfCcc2yEsTUApKaBX9mFQQLt3bbFZc0xA+XrA4NtMSUCUSsD6qdJLQNSGbvGuLFBA1NJY9Aw5SkDUwTULgR1RQEGpKTExE09AtE5xMxUUTEB8P34kchhLQE0JPk/k6FBAt0SxaQXqUUArOomolq1OQHbN+xx4lktAA8mBpQlWUECmlApbvT9KQJ9i20gYh0tAGPX0GU8LTUBgn814abVBQDrXld1+H05An4cej8yBT0AxTjaUT75IQDRucb9/ckpAlD/3lj/sTEAYngRFDaxOQHl8o4HsaEtADX/4y983T0DCZZbr4lZQQJvzbVX7nFBA50qJp+ArTEBr5muGj2FPQHZhrfMH+lBA5ZzowzDBUEC+z0/2BlZLQPlUYOYi4ktAClyWWpGdS0DU1Sr2bYBPQCHWM0wdi05AvjsA4JY9SkC0V+IBly9RQNwtTGTr6E5A5bCin038TECTTzMw1dtPQNvRm62KaE1AXSBU4eOJUEC4b4LNRBpPQJAdcuzJVEdACmg4jgVpUECc6ayivJ1OQO3trwRtD0tAZ3g69P1vUEBr8+Fq1KhQQCBCOuVGXk9AKREWnYhCSUCo2soM/DFQQDM4png7wVBADrv77IyhS0BcNmcbCJJQQGxO9vIltlBAx5HlkjubS0D6bnCxH29OQJ1Kot0B9k5AONZ3aFqPUEB1Emz4PPVOQKAzEblrWE9A1bHl/CTdT0Br+4+c32xMQOo/CyCzFFBAYB+DnsfUUEDenIGF3PpOQGSTWBn2wVBAr+cnNy5lUkCY22/ckNtOQG5fwsUBqUlA9D8fB2YDTUCW6s52mERLQLDzcdGjo1BABIpx7AVyRUChj75/Y7hLQAiW8UfRZFBAjZLekrnTTEAAR6sh8UdQQJf693pOok1AckcjXKp7TUC8C2hrxPxPQLotz/xWbE1Ay0l+ebB3TkDAqh7pGBFPQJ2njrwILk1AvAGAemcdUEBcwYgczLtIQHTGer0pNUZADEkJKqFtS0AjjGCEoO1MQNzJVv1d9E1AHBnCfK4lTkAYP2KU155LQE5RUdjL4U1AQpjcOKIDS0AbaphjjPRKQHHebIManE9A3akuHvblT0Bhx2CoDuJLQC8i4j5moE9ATNn5X4f3TEAWeG0TUjlNQIgAMnmmzE1AYvJkx9v0SEDYI6H62SxPQOyAyjoZ/k9AqJhJ09KYTECCuCH+ZNNHQMipUlOMzk5Atn5Gal8kTUC7GU7A/ypPQIohcogxPk1AGRSkpExVTUCTA/qJ97dQQDlRwCYL3U1AhiBhafHlTEAUwyugSfFLQOQ+L3lqpFBAlVtF39ADTEAEU+SQ9rZPQO90wCIK4U1Ak+TNmF/qUEBOUiNmWmtNQOIc9zdKClBAWMQ1wC3RTkD6ljP2g4VPQIfPiCSzS0tAsOXCMn8ZUUDFke+9sARQQA1ORiYXlEtAOY2NSCj7T0AL6ylvLxFMQOo3THZrkUlA+8Kxu5kvUUAFuXT0zGZNQFFH/vZLy0tAlhXIWSyMUEBtA1YzTkpNQAkkJDI7LUpAPHHVk1JqT0Ctk9oh9llFQKbL9XYWO1BAEXbd5vT/S0De/pclkohQQJoR6LxFWVFALRadVK53SkD5SI4v67FQQL27clBgAE9A8+5jtEgeQUD4DUkHxNNMQBCxjagXcUlAaGnNuLE/SUBuAEmPun1MQLMQnHrpJktAMho2X8LzR0B5RCDg0atQQFa8pPJJGk1AhO94L23KTkCLWK/xrl1PQI6p6JKjD1FANkbW5fEIUEDc+KQ/z5VJQEOZzd5lKE1AM6xpRcAdTUCaI6a/mxJTQAl4LRF7dE1ABkqN9rWdTUCfm55xrJNKQAXdlsN8Tk9A3Sk6KLDWS0AL8BEy0ClPQO4dv+z49EpAEyXqQCY1TEAkkxXeKa9OQMNEjNiIv1BAWIPmlz/QTkBlUaRjLVFOQNGMUC3GGVBA5X2Oqj+lTEAHKx6s56NLQDhpl52tvEtAcIgd1CWMT0Do9Aka9yFPQAXdrdRoC1FAEtmh0GnZUEDmOxoeHlBMQLuteMQwB1FAeVjR35YaTkA53dLdm41RQAmMCoOXkUxA2n+1nNkuTkBg2CT4HzVNQCeTwQlvlE1AcLSsKf6VTECZej3v+l9OQORz+UrDblFAX9/+W/a/TUBNYIB9zxJOQH/9FKXmqFFAkbx8HQGsT0AhI90gVZ1OQJFhmEsZok5AUjO8wjJRTEA5GhzXDZ9MQCuaqqJ7fkpAjUPHq43YT0AL6cykRNpMQMDHJTD14FBA4qxQKK4xTkDQGbVLuEBRQDbb3dGpuUxAjhFP+5rlTUAVYx4m1BRGQOoGx0tdTlBA+i5RMA5kTEC1gHMv3kJRQA==",
          "dtype": "f8"
         },
         "xaxis": "x3",
         "yaxis": "y3"
        },
        {
         "line": {
          "color": "#9b59b6",
          "width": 3
         },
         "mode": "lines",
         "showlegend": false,
         "type": "scatter",
         "x": {
          "bdata": "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",
          "dtype": "f8"
         },
         "xaxis": "x4",
         "y": {
          "bdata": "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",
          "dtype": "f8"
         },
         "yaxis": "y4"
        }
       ],
       "layout": {
        "annotations": [
         {
          "font": {
           "size": 16
          },
          "showarrow": false,
          "text": "NPV Distribution",
          "x": 0.225,
          "xanchor": "center",
          "xref": "paper",
          "y": 1,
          "yanchor": "bottom",
          "yref": "paper"
         },
         {
          "font": {
           "size": 16
          },
          "showarrow": false,
          "text": "LCOH Distribution",
          "x": 0.775,
          "xanchor": "center",
          "xref": "paper",
          "y": 1,
          "yanchor": "bottom",
          "yref": "paper"
         },
         {
          "font": {
           "size": 16
          },
          "showarrow": false,
          "text": "Gross Margin Distribution",
          "x": 0.225,
          "xanchor": "center",
          "xref": "paper",
          "y": 0.375,
          "yanchor": "bottom",
          "yref": "paper"
         },
         {
          "font": {
           "size": 16
          },
          "showarrow": false,
          "text": "NPV Probability",
          "x": 0.775,
          "xanchor": "center",
          "xref": "paper",
          "y": 0.375,
          "yanchor": "bottom",
          "yref": "paper"
         },
         {
          "showarrow": false,
          "text": "Base Case",
          "x": 5.2,
          "xanchor": "left",
          "xref": "x",
          "y": 1,
          "yanchor": "top",
          "yref": "y domain"
         },
         {
          "showarrow": false,
          "text": "Base Case",
          "x": 3.129967251163753,
          "xanchor": "left",
          "xref": "x2",
          "y": 1,
          "yanchor": "top",
          "yref": "y2 domain"
         },
         {
          "showarrow": false,
          "text": "Market Price",
          "x": 4,
          "xanchor": "left",
          "xref": "x2",
          "y": 1,
          "yanchor": "top",
          "yref": "y2 domain"
         },
         {
          "showarrow": false,
          "text": "Base Case",
          "x": 59.728881843308166,
          "xanchor": "left",
          "xref": "x3",
          "y": 1,
          "yanchor": "top",
          "yref": "y3 domain"
         },
         {
          "showarrow": false,
          "text": "Break Even",
          "x": 0,
          "xanchor": "left",
          "xref": "x4",
          "y": 1,
          "yanchor": "top",
          "yref": "y4 domain"
         }
        ],
        "height": 700,
        "shapes": [
         {
          "line": {
           "color": "red",
           "dash": "dash"
          },
          "type": "line",
          "x0": 5.2,
          "x1": 5.2,
          "xref": "x",
          "y0": 0,
          "y1": 1,
          "yref": "y domain"
         },
         {
          "line": {
           "color": "red",
           "dash": "dash"
          },
          "type": "line",
          "x0": 3.129967251163753,
          "x1": 3.129967251163753,
          "xref": "x2",
          "y0": 0,
          "y1": 1,
          "yref": "y2 domain"
         },
         {
          "line": {
           "color": "green",
           "dash": "dot"
          },
          "type": "line",
          "x0": 4,
          "x1": 4,
          "xref": "x2",
          "y0": 0,
          "y1": 1,
          "yref": "y2 domain"
         },
         {
          "line": {
           "color": "red",
           "dash": "dash"
          },
          "type": "line",
          "x0": 59.728881843308166,
          "x1": 59.728881843308166,
          "xref": "x3",
          "y0": 0,
          "y1": 1,
          "yref": "y3 domain"
         },
         {
          "line": {
           "color": "red",
           "dash": "dash"
          },
          "type": "line",
          "x0": 0,
          "x1": 0,
          "xref": "x4",
          "y0": 0,
          "y1": 1,
          "yref": "y4 domain"
         }
        ],
        "template": {
         "data": {
          "bar": [
           {
            "error_x": {
             "color": "#2a3f5f"
            },
            "error_y": {
             "color": "#2a3f5f"
            },
            "marker": {
             "line": {
              "color": "#E5ECF6",
              "width": 0.5
             },
             "pattern": {
              "fillmode": "overlay",
              "size": 10,
              "solidity": 0.2
             }
            },
            "type": "bar"
           }
          ],
          "barpolar": [
           {
            "marker": {
             "line": {
              "color": "#E5ECF6",
              "width": 0.5
             },
             "pattern": {
              "fillmode": "overlay",
              "size": 10,
              "solidity": 0.2
             }
            },
            "type": "barpolar"
           }
          ],
          "carpet": [
           {
            "aaxis": {
             "endlinecolor": "#2a3f5f",
             "gridcolor": "white",
             "linecolor": "white",
             "minorgridcolor": "white",
             "startlinecolor": "#2a3f5f"
            },
            "baxis": {
             "endlinecolor": "#2a3f5f",
             "gridcolor": "white",
             "linecolor": "white",
             "minorgridcolor": "white",
             "startlinecolor": "#2a3f5f"
            },
            "type": "carpet"
           }
          ],
          "choropleth": [
           {
            "colorbar": {
             "outlinewidth": 0,
             "ticks": ""
            },
            "type": "choropleth"
           }
          ],
          "contour": [
           {
            "colorbar": {
             "outlinewidth": 0,
             "ticks": ""
            },
            "colorscale": [
             [
              0,
              "#0d0887"
             ],
             [
              0.1111111111111111,
              "#46039f"
             ],
             [
              0.2222222222222222,
              "#7201a8"
             ],
             [
              0.3333333333333333,
              "#9c179e"
             ],
             [
              0.4444444444444444,
              "#bd3786"
             ],
             [
              0.5555555555555556,
              "#d8576b"
             ],
             [
              0.6666666666666666,
              "#ed7953"
             ],
             [
              0.7777777777777778,
              "#fb9f3a"
             ],
             [
              0.8888888888888888,
              "#fdca26"
             ],
             [
              1,
              "#f0f921"
             ]
            ],
            "type": "contour"
           }
          ],
          "contourcarpet": [
           {
            "colorbar": {
             "outlinewidth": 0,
             "ticks": ""
            },
            "type": "contourcarpet"
           }
          ],
          "heatmap": [
           {
            "colorbar": {
             "outlinewidth": 0,
             "ticks": ""
            },
            "colorscale": [
             [
              0,
              "#0d0887"
             ],
             [
              0.1111111111111111,
              "#46039f"
             ],
             [
              0.2222222222222222,
              "#7201a8"
             ],
             [
              0.3333333333333333,
              "#9c179e"
             ],
             [
              0.4444444444444444,
              "#bd3786"
             ],
             [
              0.5555555555555556,
              "#d8576b"
             ],
             [
              0.6666666666666666,
              "#ed7953"
             ],
             [
              0.7777777777777778,
              "#fb9f3a"
             ],
             [
              0.8888888888888888,
              "#fdca26"
             ],
             [
              1,
              "#f0f921"
             ]
            ],
            "type": "heatmap"
           }
          ],
          "histogram": [
           {
            "marker": {
             "pattern": {
              "fillmode": "overlay",
              "size": 10,
              "solidity": 0.2
             }
            },
            "type": "histogram"
           }
          ],
          "histogram2d": [
           {
            "colorbar": {
             "outlinewidth": 0,
             "ticks": ""
            },
            "colorscale": [
             [
              0,
              "#0d0887"
             ],
             [
              0.1111111111111111,
              "#46039f"
             ],
             [
              0.2222222222222222,
              "#7201a8"
             ],
             [
              0.3333333333333333,
              "#9c179e"
             ],
             [
              0.4444444444444444,
              "#bd3786"
             ],
             [
              0.5555555555555556,
              "#d8576b"
             ],
             [
              0.6666666666666666,
              "#ed7953"
             ],
             [
              0.7777777777777778,
              "#fb9f3a"
             ],
             [
              0.8888888888888888,
              "#fdca26"
             ],
             [
              1,
              "#f0f921"
             ]
            ],
            "type": "histogram2d"
           }
          ],
          "histogram2dcontour": [
           {
            "colorbar": {
             "outlinewidth": 0,
             "ticks": ""
            },
            "colorscale": [
             [
              0,
              "#0d0887"
             ],
             [
              0.1111111111111111,
              "#46039f"
             ],
             [
              0.2222222222222222,
              "#7201a8"
             ],
             [
              0.3333333333333333,
              "#9c179e"
             ],
             [
              0.4444444444444444,
              "#bd3786"
             ],
             [
              0.5555555555555556,
              "#d8576b"
             ],
             [
              0.6666666666666666,
              "#ed7953"
             ],
             [
              0.7777777777777778,
              "#fb9f3a"
             ],
             [
              0.8888888888888888,
              "#fdca26"
             ],
             [
              1,
              "#f0f921"
             ]
            ],
            "type": "histogram2dcontour"
           }
          ],
          "mesh3d": [
           {
            "colorbar": {
             "outlinewidth": 0,
             "ticks": ""
            },
            "type": "mesh3d"
           }
          ],
          "parcoords": [
           {
            "line": {
             "colorbar": {
              "outlinewidth": 0,
              "ticks": ""
             }
            },
            "type": "parcoords"
           }
          ],
          "pie": [
           {
            "automargin": true,
            "type": "pie"
           }
          ],
          "scatter": [
           {
            "fillpattern": {
             "fillmode": "overlay",
             "size": 10,
             "solidity": 0.2
            },
            "type": "scatter"
           }
          ],
          "scatter3d": [
           {
            "line": {
             "colorbar": {
              "outlinewidth": 0,
              "ticks": ""
             }
            },
            "marker": {
             "colorbar": {
              "outlinewidth": 0,
              "ticks": ""
             }
            },
            "type": "scatter3d"
           }
          ],
          "scattercarpet": [
           {
            "marker": {
             "colorbar": {
              "outlinewidth": 0,
              "ticks": ""
             }
            },
            "type": "scattercarpet"
           }
          ],
          "scattergeo": [
           {
            "marker": {
             "colorbar": {
              "outlinewidth": 0,
              "ticks": ""
             }
            },
            "type": "scattergeo"
           }
          ],
          "scattergl": [
           {
            "marker": {
             "colorbar": {
              "outlinewidth": 0,
              "ticks": ""
             }
            },
            "type": "scattergl"
           }
          ],
          "scattermap": [
           {
            "marker": {
             "colorbar": {
              "outlinewidth": 0,
              "ticks": ""
             }
            },
            "type": "scattermap"
           }
          ],
          "scattermapbox": [
           {
            "marker": {
             "colorbar": {
              "outlinewidth": 0,
              "ticks": ""
             }
            },
            "type": "scattermapbox"
           }
          ],
          "scatterpolar": [
           {
            "marker": {
             "colorbar": {
              "outlinewidth": 0,
              "ticks": ""
             }
            },
            "type": "scatterpolar"
           }
          ],
          "scatterpolargl": [
           {
            "marker": {
             "colorbar": {
              "outlinewidth": 0,
              "ticks": ""
             }
            },
            "type": "scatterpolargl"
           }
          ],
          "scatterternary": [
           {
            "marker": {
             "colorbar": {
              "outlinewidth": 0,
              "ticks": ""
             }
            },
            "type": "scatterternary"
           }
          ],
          "surface": [
           {
            "colorbar": {
             "outlinewidth": 0,
             "ticks": ""
            },
            "colorscale": [
             [
              0,
              "#0d0887"
             ],
             [
              0.1111111111111111,
              "#46039f"
             ],
             [
              0.2222222222222222,
              "#7201a8"
             ],
             [
              0.3333333333333333,
              "#9c179e"
             ],
             [
              0.4444444444444444,
              "#bd3786"
             ],
             [
              0.5555555555555556,
              "#d8576b"
             ],
             [
              0.6666666666666666,
              "#ed7953"
             ],
             [
              0.7777777777777778,
              "#fb9f3a"
             ],
             [
              0.8888888888888888,
              "#fdca26"
             ],
             [
              1,
              "#f0f921"
             ]
            ],
            "type": "surface"
           }
          ],
          "table": [
           {
            "cells": {
             "fill": {
              "color": "#EBF0F8"
             },
             "line": {
              "color": "white"
             }
            },
            "header": {
             "fill": {
              "color": "#C8D4E3"
             },
             "line": {
              "color": "white"
             }
            },
            "type": "table"
           }
          ]
         },
         "layout": {
          "annotationdefaults": {
           "arrowcolor": "#2a3f5f",
           "arrowhead": 0,
           "arrowwidth": 1
          },
          "autotypenumbers": "strict",
          "coloraxis": {
           "colorbar": {
            "outlinewidth": 0,
            "ticks": ""
           }
          },
          "colorscale": {
           "diverging": [
            [
             0,
             "#8e0152"
            ],
            [
             0.1,
             "#c51b7d"
            ],
            [
             0.2,
             "#de77ae"
            ],
            [
             0.3,
             "#f1b6da"
            ],
            [
             0.4,
             "#fde0ef"
            ],
            [
             0.5,
             "#f7f7f7"
            ],
            [
             0.6,
             "#e6f5d0"
            ],
            [
             0.7,
             "#b8e186"
            ],
            [
             0.8,
             "#7fbc41"
            ],
            [
             0.9,
             "#4d9221"
            ],
            [
             1,
             "#276419"
            ]
           ],
           "sequential": [
            [
             0,
             "#0d0887"
            ],
            [
             0.1111111111111111,
             "#46039f"
            ],
            [
             0.2222222222222222,
             "#7201a8"
            ],
            [
             0.3333333333333333,
             "#9c179e"
            ],
            [
             0.4444444444444444,
             "#bd3786"
            ],
            [
             0.5555555555555556,
             "#d8576b"
            ],
            [
             0.6666666666666666,
             "#ed7953"
            ],
            [
             0.7777777777777778,
             "#fb9f3a"
            ],
            [
             0.8888888888888888,
             "#fdca26"
            ],
            [
             1,
             "#f0f921"
            ]
           ],
           "sequentialminus": [
            [
             0,
             "#0d0887"
            ],
            [
             0.1111111111111111,
             "#46039f"
            ],
            [
             0.2222222222222222,
             "#7201a8"
            ],
            [
             0.3333333333333333,
             "#9c179e"
            ],
            [
             0.4444444444444444,
             "#bd3786"
            ],
            [
             0.5555555555555556,
             "#d8576b"
            ],
            [
             0.6666666666666666,
             "#ed7953"
            ],
            [
             0.7777777777777778,
             "#fb9f3a"
            ],
            [
             0.8888888888888888,
             "#fdca26"
            ],
            [
             1,
             "#f0f921"
            ]
           ]
          },
          "colorway": [
           "#636efa",
           "#EF553B",
           "#00cc96",
           "#ab63fa",
           "#FFA15A",
           "#19d3f3",
           "#FF6692",
           "#B6E880",
           "#FF97FF",
           "#FECB52"
          ],
          "font": {
           "color": "#2a3f5f"
          },
          "geo": {
           "bgcolor": "white",
           "lakecolor": "white",
           "landcolor": "#E5ECF6",
           "showlakes": true,
           "showland": true,
           "subunitcolor": "white"
          },
          "hoverlabel": {
           "align": "left"
          },
          "hovermode": "closest",
          "mapbox": {
           "style": "light"
          },
          "paper_bgcolor": "white",
          "plot_bgcolor": "#E5ECF6",
          "polar": {
           "angularaxis": {
            "gridcolor": "white",
            "linecolor": "white",
            "ticks": ""
           },
           "bgcolor": "#E5ECF6",
           "radialaxis": {
            "gridcolor": "white",
            "linecolor": "white",
            "ticks": ""
           }
          },
          "scene": {
           "xaxis": {
            "backgroundcolor": "#E5ECF6",
            "gridcolor": "white",
            "gridwidth": 2,
            "linecolor": "white",
            "showbackground": true,
            "ticks": "",
            "zerolinecolor": "white"
           },
           "yaxis": {
            "backgroundcolor": "#E5ECF6",
            "gridcolor": "white",
            "gridwidth": 2,
            "linecolor": "white",
            "showbackground": true,
            "ticks": "",
            "zerolinecolor": "white"
           },
           "zaxis": {
            "backgroundcolor": "#E5ECF6",
            "gridcolor": "white",
            "gridwidth": 2,
            "linecolor": "white",
            "showbackground": true,
            "ticks": "",
            "zerolinecolor": "white"
           }
          },
          "shapedefaults": {
           "line": {
            "color": "#2a3f5f"
           }
          },
          "ternary": {
           "aaxis": {
            "gridcolor": "white",
            "linecolor": "white",
            "ticks": ""
           },
           "baxis": {
            "gridcolor": "white",
            "linecolor": "white",
            "ticks": ""
           },
           "bgcolor": "#E5ECF6",
           "caxis": {
            "gridcolor": "white",
            "linecolor": "white",
            "ticks": ""
           }
          },
          "title": {
           "x": 0.05
          },
          "xaxis": {
           "automargin": true,
           "gridcolor": "white",
           "linecolor": "white",
           "ticks": "",
           "title": {
            "standoff": 15
           },
           "zerolinecolor": "white",
           "zerolinewidth": 2
          },
          "yaxis": {
           "automargin": true,
           "gridcolor": "white",
           "linecolor": "white",
           "ticks": "",
           "title": {
            "standoff": 15
           },
           "zerolinecolor": "white",
           "zerolinewidth": 2
          }
         }
        },
        "title": {
         "text": "Monte Carlo Uncertainty Analysis"
        },
        "xaxis": {
         "anchor": "y",
         "domain": [
          0,
          0.45
         ],
         "title": {
          "text": "NPV ($ millions)"
         }
        },
        "xaxis2": {
         "anchor": "y2",
         "domain": [
          0.55,
          1
         ],
         "title": {
          "text": "LCOH ($/kg H₂)"
         }
        },
        "xaxis3": {
         "anchor": "y3",
         "domain": [
          0,
          0.45
         ],
         "title": {
          "text": "Gross Margin (%)"
         }
        },
        "xaxis4": {
         "anchor": "y4",
         "domain": [
          0.55,
          1
         ],
         "title": {
          "text": "NPV ($ millions)"
         }
        },
        "yaxis": {
         "anchor": "x",
         "domain": [
          0.625,
          1
         ],
         "title": {
          "text": "Frequency"
         }
        },
        "yaxis2": {
         "anchor": "x2",
         "domain": [
          0.625,
          1
         ],
         "title": {
          "text": "Frequency"
         }
        },
        "yaxis3": {
         "anchor": "x3",
         "domain": [
          0,
          0.375
         ],
         "title": {
          "text": "Frequency"
         }
        },
        "yaxis4": {
         "anchor": "x4",
         "domain": [
          0,
          0.375
         ],
         "title": {
          "text": "Cumulative Probability (%)"
         }
        }
       }
      }
     },
     "metadata": {},
     "output_type": "display_data"
    },
    {
     "name": "stdout",
     "output_type": "stream",
     "text": [
      "\n",
      "📈 Percentile Analysis:\n",
      "\n",
      "NPV ($ millions):\n",
      "    5th percentile: $  32.2M\n",
      "\n",
      "LCOH ($/kg H₂):\n",
      "   10th percentile: $  38.8M\n",
      "\n",
      "LCOH ($/kg H₂):\n",
      "   25th percentile: $  51.5M\n",
      "\n",
      "LCOH ($/kg H₂):\n",
      "   50th percentile: $  65.0M\n",
      "\n",
      "LCOH ($/kg H₂):\n",
      "   75th percentile: $  78.8M\n",
      "\n",
      "LCOH ($/kg H₂):\n",
      "   90th percentile: $  90.4M\n",
      "\n",
      "LCOH ($/kg H₂):\n",
      "   95th percentile: $  97.5M\n",
      "\n",
      "LCOH ($/kg H₂):\n",
      "    5th percentile: $-0.42\n",
      "\n",
      "🎯 Risk Assessment:\n",
      "   • 99.9% probability of positive NPV\n",
      "   • 100.0% probability LCOH below market price\n",
      "   • 100.0% probability of healthy margin (>20%)\n",
      "   10th percentile: $-0.15\n",
      "\n",
      "🎯 Risk Assessment:\n",
      "   • 99.9% probability of positive NPV\n",
      "   • 100.0% probability LCOH below market price\n",
      "   • 100.0% probability of healthy margin (>20%)\n",
      "   25th percentile: $ 0.37\n",
      "\n",
      "🎯 Risk Assessment:\n",
      "   • 99.9% probability of positive NPV\n",
      "   • 100.0% probability LCOH below market price\n",
      "   • 100.0% probability of healthy margin (>20%)\n",
      "   50th percentile: $ 0.94\n",
      "\n",
      "🎯 Risk Assessment:\n",
      "   • 99.9% probability of positive NPV\n",
      "   • 100.0% probability LCOH below market price\n",
      "   • 100.0% probability of healthy margin (>20%)\n",
      "   75th percentile: $ 1.47\n",
      "\n",
      "🎯 Risk Assessment:\n",
      "   • 99.9% probability of positive NPV\n",
      "   • 100.0% probability LCOH below market price\n",
      "   • 100.0% probability of healthy margin (>20%)\n",
      "   90th percentile: $ 1.97\n",
      "\n",
      "🎯 Risk Assessment:\n",
      "   • 99.9% probability of positive NPV\n",
      "   • 100.0% probability LCOH below market price\n",
      "   • 100.0% probability of healthy margin (>20%)\n",
      "   95th percentile: $ 2.26\n",
      "\n",
      "🎯 Risk Assessment:\n",
      "   • 99.9% probability of positive NPV\n",
      "   • 100.0% probability LCOH below market price\n",
      "   • 100.0% probability of healthy margin (>20%)\n",
      "\n",
      "   ✅ Project shows STRONG robustness to uncertainty\n"
     ]
    }
   ],
   "source": [
    "# Monte Carlo simulation for uncertainty analysis\n",
    "np.random.seed(42)\n",
    "n_simulations = 5000\n",
    "\n",
    "print(\"Running Monte Carlo simulation with 5,000 iterations...\")\n",
    "print(\"This quantifies project risk by sampling from parameter distributions\\n\")\n",
    "\n",
    "# Storage for results\n",
    "npv_results = []\n",
    "irr_results = []\n",
    "lcoh_results = []\n",
    "margin_results = []\n",
    "\n",
    "for i in range(n_simulations):\n",
    "    # Sample parameters from distributions\n",
    "    # Using normal distribution with std = (high - low) / 6 (capturing 99.7% within range)\n",
    "    \n",
    "    elec_price_sim = np.random.normal(\n",
    "        electricity_price, \n",
    "        (sensitivity_ranges[sensitivity_ranges['parameter'] == 'electricity_price']['high_value'].values[0] - \n",
    "         sensitivity_ranges[sensitivity_ranges['parameter'] == 'electricity_price']['low_value'].values[0]) / 6)\n",
    "    \n",
    "    elec_price_sim = max(0.03, min(0.15, elec_price_sim))  # Bound to reasonable range\n",
    "\n",
    "    h2_price_sim = np.random.normal(\n",
    "        h2_price,\n",
    "        (5.0 - 2.0) / 6\n",
    "    )\n",
    "    h2_price_sim = max(1.5, min(6.0, h2_price_sim))\n",
    "\n",
    "    cb_price_sim = np.random.normal(\n",
    "        cb_price,\n",
    "        (3.0 - 1.0) / 6\n",
    "    )\n",
    "    cb_price_sim = max(0.5, min(3.5, cb_price_sim))\n",
    "\n",
    "    rng_price_sim = np.random.normal(\n",
    "        rng_price,\n",
    "        (0.25 - 0.10) / 6\n",
    "    )\n",
    "    rng_price_sim = max(0, min(0.30, rng_price_sim))\n",
    "\n",
    "    capex_sim = np.random.normal(\n",
    "        capex,\n",
    "        (capex * 0.2) / 3  # ±20% range\n",
    "    )\n",
    "    capex_sim = max(capex * 0.7, min(capex * 1.3, capex_sim))\n",
    "\n",
    "    capacity_factor_sim = np.random.normal(\n",
    "        capacity_factor,\n",
    "        (0.95 - 0.85) / 6\n",
    "    )\n",
    "    capacity_factor_sim = max(0.80, min(0.98, capacity_factor_sim))\n",
    "\n",
    "    # Recalculate metrics with sampled parameters\n",
    "    h2_annual_sim = h2_rate * 365 * 24 * capacity_factor_sim\n",
    "    cb_annual_sim = cb_rate * 365 * 24 * capacity_factor_sim\n",
    "\n",
    "    # Revenue\n",
    "    h2_revenue_sim = h2_annual_sim * h2_price_sim\n",
    "    cb_revenue_sim = cb_annual_sim * cb_price_sim\n",
    "    total_revenue_sim = h2_revenue_sim + cb_revenue_sim\n",
    "\n",
    "    # Costs\n",
    "    rng_annual_consumption = 1923 * annual_operating_days * 24\n",
    "    rng_cost_sim = rng_annual_consumption * rng_price_sim\n",
    "    elec_cost_sim = h2_annual_sim * energy_per_h2 * elec_price_sim\n",
    "    variable_costs_sim = rng_cost_sim + elec_cost_sim + cooling_water_cost + process_water_cost\n",
    "\n",
    "    # Margin\n",
    "    margin_sim = total_revenue_sim - variable_costs_sim\n",
    "    margin_pct_sim = margin_sim / total_revenue_sim * 100\n",
    "\n",
    "    # LCOH (simplified)\n",
    "    total_annual_cost_sim = (capex_sim * ((discount_rate * (1+discount_rate)**plant_lifetime) / \n",
    "                                          ((1+discount_rate)**plant_lifetime - 1))) + variable_costs_sim\n",
    "    lcoh_sim = (total_annual_cost_sim - cb_revenue_sim) / h2_annual_sim\n",
    "\n",
    "    # NPV (simplified)\n",
    "    annual_cf = margin_sim\n",
    "    annuity_factor = (1 - (1 + discount_rate)**(-plant_lifetime)) / discount_rate\n",
    "    npv_sim = -capex_sim + annual_cf * annuity_factor\n",
    "\n",
    "    # IRR (approximation)\n",
    "    if annual_cf > 0:\n",
    "        irr_sim = (annual_cf / capex_sim) * 100\n",
    "    else:\n",
    "        irr_sim = -100\n",
    "\n",
    "    npv_results.append(npv_sim)\n",
    "    irr_results.append(irr_sim)\n",
    "    lcoh_results.append(lcoh_sim)\n",
    "    margin_results.append(margin_pct_sim)\n",
    "\n",
    "# convert to arrays\n",
    "\n",
    "npv_results = np.array(npv_results)\n",
    "irr_results = np.array(irr_results)\n",
    "lcoh_results = np.array(lcoh_results)\n",
    "margin_results = np.array(margin_results)\n",
    "\n",
    "print(\"=\"*80)\n",
    "print(\"MONTE CARLO UNCERTAINTY ANALYSIS RESULTS (5,000 iterations)\")\n",
    "print(\"=\"*80)\n",
    "print(f\"\\n💰 NET PRESENT VALUE:\")\n",
    "print(f\"   Mean:              ${np.mean(npv_results)/1e6:>8.2f} million\")\n",
    "print(f\"   Median:            ${np.median(npv_results)/1e6:>8.2f} million\")\n",
    "print(f\"   Std Deviation:     ${np.std(npv_results)/1e6:>8.2f} million\")\n",
    "print(f\"   5th Percentile:    ${np.percentile(npv_results, 5)/1e6:>8.2f} million\")\n",
    "print(f\"   95th Percentile:   ${np.percentile(npv_results, 95)/1e6:>8.2f} million\")\n",
    "print(f\"   Probability NPV>0: {(npv_results > 0).sum() / len(npv_results) * 100:>7.1f}%\")\n",
    "print(f\"\\n💵 LEVELIZED COST OF HYDROGEN:\")\n",
    "print(f\"   Mean:              ${np.mean(lcoh_results):>8.2f}/kg\")\n",
    "print(f\"   Median:            ${np.median(lcoh_results):>8.2f}/kg\")\n",
    "print(f\"   Std Deviation:     ${np.std(lcoh_results):>8.2f}/kg\")\n",
    "print(f\"   5th Percentile:    ${np.percentile(lcoh_results, 5):>8.2f}/kg\")\n",
    "print(f\"   95th Percentile:   ${np.percentile(lcoh_results, 95):>8.2f}/kg\")\n",
    "print(f\"   Probability LCOH<$3.18: {(lcoh_results < h2_price).sum() / len(lcoh_results) * 100:>4.1f}%\")\n",
    "print(f\"\\n📊 GROSS MARGIN:\")\n",
    "print(f\"   Mean:              {np.mean(margin_results):>8.1f}%\")\n",
    "print(f\"   Median:            {np.median(margin_results):>8.1f}%\")\n",
    "print(f\"   5th Percentile:    {np.percentile(margin_results, 5):>8.1f}%\")\n",
    "print(f\"   95th Percentile:   {np.percentile(margin_results, 95):>8.1f}%\")\n",
    "print(f\"   Probability Margin>20%: {(margin_results > 20).sum() / len(margin_results) * 100:>4.1f}%\")\n",
    "\n",
    "#visualize distributions\n",
    "fig = make_subplots(\n",
    "rows=2, cols=2,\n",
    "subplot_titles=('NPV Distribution', 'LCOH Distribution',\n",
    "'Gross Margin Distribution', 'NPV Probability'),\n",
    "specs=[[{'type': 'histogram'}, {'type': 'histogram'}],\n",
    "[{'type': 'histogram'}, {'type': 'scatter'}]]\n",
    ")\n",
    "\n",
    "#npv histogram\n",
    "fig.add_trace(\n",
    "go.Histogram(x=npv_results/1e6, name='NPV', marker_color='#3498db',\n",
    "nbinsx=50, showlegend=False),\n",
    "row=1, col=1\n",
    ")\n",
    "fig.add_vline(x=npv/1e6, line_dash=\"dash\", line_color=\"red\",\n",
    "annotation_text=\"Base Case\", row=1, col=1)\n",
    "\n",
    "#lcoh histogram\n",
    "fig.add_trace(\n",
    "go.Histogram(x=lcoh_results, name='LCOH', marker_color='#2ecc71',\n",
    "nbinsx=50, showlegend=False),\n",
    "row=1, col=2\n",
    ")\n",
    "fig.add_vline(x=lcoh, line_dash=\"dash\", line_color=\"red\",\n",
    "annotation_text=\"Base Case\", row=1, col=2)\n",
    "fig.add_vline(x=h2_price, line_dash=\"dot\", line_color=\"green\",\n",
    "annotation_text=\"Market Price\", row=1, col=2)\n",
    "\n",
    "#margin histogram\n",
    "fig.add_trace(\n",
    "go.Histogram(x=margin_results, name='Margin', marker_color='#e74c3c',\n",
    "nbinsx=50, showlegend=False),\n",
    "row=2, col=1\n",
    ")\n",
    "fig.add_vline(x=gross_margin/total_revenue*100, line_dash=\"dash\", line_color=\"red\",\n",
    "annotation_text=\"Base Case\", row=2, col=1)\n",
    "\n",
    "#npv cumulative probability\n",
    "sorted_npv = np.sort(npv_results)\n",
    "cumulative_prob = np.arange(1, len(sorted_npv) + 1) / len(sorted_npv) * 100\n",
    "fig.add_trace(\n",
    "go.Scatter(x=sorted_npv/1e6, y=cumulative_prob,\n",
    "mode='lines', line=dict(width=3, color='#9b59b6'),\n",
    "showlegend=False),\n",
    "row=2, col=2\n",
    ")\n",
    "fig.add_vline(x=0, line_dash=\"dash\", line_color=\"red\",\n",
    "annotation_text=\"Break Even\", row=2, col=2)\n",
    "fig.update_xaxes(title_text=\"NPV ($ millions)\", row=1, col=1)\n",
    "fig.update_xaxes(title_text=\"LCOH ($/kg H₂)\", row=1, col=2)\n",
    "fig.update_xaxes(title_text=\"Gross Margin (%)\", row=2, col=1)\n",
    "fig.update_xaxes(title_text=\"NPV ($ millions)\", row=2, col=2)\n",
    "fig.update_yaxes(title_text=\"Frequency\", row=1, col=1)\n",
    "fig.update_yaxes(title_text=\"Frequency\", row=1, col=2)\n",
    "fig.update_yaxes(title_text=\"Frequency\", row=2, col=1)\n",
    "fig.update_yaxes(title_text=\"Cumulative Probability (%)\", row=2, col=2)\n",
    "fig.update_layout(height=700, title_text=\"Monte Carlo Uncertainty Analysis\")\n",
    "fig.show()\n",
    "\n",
    "#percentile analysis\n",
    "percentiles = [5, 10, 25, 50, 75, 90, 95]\n",
    "print(\"\\n📈 Percentile Analysis:\")\n",
    "print(\"\\nNPV ($ millions):\")\n",
    "for p in percentiles:\n",
    "    print(f\"   {p:>2}th percentile: ${np.percentile(npv_results, p)/1e6:>6.1f}M\")\n",
    "    print(\"\\nLCOH ($/kg H₂):\")\n",
    "for p in percentiles:\n",
    "    print(f\"   {p:>2}th percentile: ${np.percentile(lcoh_results, p):>5.2f}\")\n",
    "    print(f\"\\n🎯 Risk Assessment:\")\n",
    "    print(f\"   • {(npv_results > 0).sum() / len(npv_results) * 100:.1f}% probability of positive NPV\")\n",
    "    print(f\"   • {(lcoh_results < h2_price).sum() / len(lcoh_results) * 100:.1f}% probability LCOH below market price\")\n",
    "    print(f\"   • {(margin_results > 20).sum() / len(margin_results) * 100:.1f}% probability of healthy margin (>20%)\")\n",
    "if (npv_results > 0).sum() / len(npv_results) > 0.7:\n",
    "    print(f\"\\n   ✅ Project shows STRONG robustness to uncertainty\")\n",
    "elif (npv_results > 0).sum() / len(npv_results) > 0.5:\n",
    "    print(f\"\\n   ⚠️ Project shows MODERATE robustness to uncertainty\")\n",
    "else:\n",
    "    print(f\"\\n   ❌ Project shows HIGH risk under uncertainty\")"
   ]
  },
  {
   "cell_type": "markdown",
   "id": "100f290d",
   "metadata": {},
   "source": [
    "## Geographic Deployment Strategy\n",
    "\n",
    "The economics of this process vary significantly by region based on electricity costs and hydrogen demand. Let's analyze optimal deployment locations."
   ]
  },
  {
   "cell_type": "code",
   "execution_count": 1610,
   "id": "0670c8fd",
   "metadata": {},
   "outputs": [
    {
     "data": {
      "text/html": [
       "<style type=\"text/css\">\n",
       "#T_63ea6_row0_col6 {\n",
       "  background-color: #006837;\n",
       "  color: #f1f1f1;\n",
       "}\n",
       "#T_63ea6_row1_col6 {\n",
       "  background-color: #128a49;\n",
       "  color: #f1f1f1;\n",
       "}\n",
       "#T_63ea6_row2_col6 {\n",
       "  background-color: #219c52;\n",
       "  color: #f1f1f1;\n",
       "}\n",
       "#T_63ea6_row3_col6 {\n",
       "  background-color: #a50026;\n",
       "  color: #f1f1f1;\n",
       "}\n",
       "#T_63ea6_row4_col6 {\n",
       "  background-color: #fcaa5f;\n",
       "  color: #000000;\n",
       "}\n",
       "#T_63ea6_row5_col6 {\n",
       "  background-color: #a2d76a;\n",
       "  color: #000000;\n",
       "}\n",
       "</style>\n",
       "<table id=\"T_63ea6\">\n",
       "  <thead>\n",
       "    <tr>\n",
       "      <th class=\"blank level0\" >&nbsp;</th>\n",
       "      <th id=\"T_63ea6_level0_col0\" class=\"col_heading level0 col0\" >Region</th>\n",
       "      <th id=\"T_63ea6_level0_col1\" class=\"col_heading level0 col1\" >Electricity Price ($/kWh)</th>\n",
       "      <th id=\"T_63ea6_level0_col2\" class=\"col_heading level0 col2\" >H₂ Demand Level</th>\n",
       "      <th id=\"T_63ea6_level0_col3\" class=\"col_heading level0 col3\" >Renewable Availability</th>\n",
       "      <th id=\"T_63ea6_level0_col4\" class=\"col_heading level0 col4\" >Key Industries</th>\n",
       "      <th id=\"T_63ea6_level0_col5\" class=\"col_heading level0 col5\" >LCOH ($/kg)</th>\n",
       "      <th id=\"T_63ea6_level0_col6\" class=\"col_heading level0 col6\" >NPV ($M)</th>\n",
       "      <th id=\"T_63ea6_level0_col7\" class=\"col_heading level0 col7\" >NPV_for_size</th>\n",
       "      <th id=\"T_63ea6_level0_col8\" class=\"col_heading level0 col8\" >Economic Rank</th>\n",
       "    </tr>\n",
       "  </thead>\n",
       "  <tbody>\n",
       "    <tr>\n",
       "      <th id=\"T_63ea6_level0_row0\" class=\"row_heading level0 row0\" >0</th>\n",
       "      <td id=\"T_63ea6_row0_col0\" class=\"data row0 col0\" >West Texas</td>\n",
       "      <td id=\"T_63ea6_row0_col1\" class=\"data row0 col1\" >0.045</td>\n",
       "      <td id=\"T_63ea6_row0_col2\" class=\"data row0 col2\" >Medium</td>\n",
       "      <td id=\"T_63ea6_row0_col3\" class=\"data row0 col3\" >Excellent (Wind)</td>\n",
       "      <td id=\"T_63ea6_row0_col4\" class=\"data row0 col4\" >Refining, Chemicals</td>\n",
       "      <td id=\"T_63ea6_row0_col5\" class=\"data row0 col5\" >2.21</td>\n",
       "      <td id=\"T_63ea6_row0_col6\" class=\"data row0 col6\" >23.1</td>\n",
       "      <td id=\"T_63ea6_row0_col7\" class=\"data row0 col7\" >97.395976</td>\n",
       "      <td id=\"T_63ea6_row0_col8\" class=\"data row0 col8\" >1</td>\n",
       "    </tr>\n",
       "    <tr>\n",
       "      <th id=\"T_63ea6_level0_row1\" class=\"row_heading level0 row1\" >1</th>\n",
       "      <td id=\"T_63ea6_row1_col0\" class=\"data row1 col0\" >Midwest (IA/MN)</td>\n",
       "      <td id=\"T_63ea6_row1_col1\" class=\"data row1 col1\" >0.055</td>\n",
       "      <td id=\"T_63ea6_row1_col2\" class=\"data row1 col2\" >Low</td>\n",
       "      <td id=\"T_63ea6_row1_col3\" class=\"data row1 col3\" >Excellent (Wind)</td>\n",
       "      <td id=\"T_63ea6_row1_col4\" class=\"data row1 col4\" >Agriculture, Food</td>\n",
       "      <td id=\"T_63ea6_row1_col5\" class=\"data row1 col5\" >2.58</td>\n",
       "      <td id=\"T_63ea6_row1_col6\" class=\"data row1 col6\" >15.9</td>\n",
       "      <td id=\"T_63ea6_row1_col7\" class=\"data row1 col7\" >90.255533</td>\n",
       "      <td id=\"T_63ea6_row1_col8\" class=\"data row1 col8\" >2</td>\n",
       "    </tr>\n",
       "    <tr>\n",
       "      <th id=\"T_63ea6_level0_row2\" class=\"row_heading level0 row2\" >2</th>\n",
       "      <td id=\"T_63ea6_row2_col0\" class=\"data row2 col0\" >Pacific Northwest</td>\n",
       "      <td id=\"T_63ea6_row2_col1\" class=\"data row2 col1\" >0.060</td>\n",
       "      <td id=\"T_63ea6_row2_col2\" class=\"data row2 col2\" >Medium</td>\n",
       "      <td id=\"T_63ea6_row2_col3\" class=\"data row2 col3\" >Excellent (Hydro)</td>\n",
       "      <td id=\"T_63ea6_row2_col4\" class=\"data row2 col4\" >Aerospace, Tech</td>\n",
       "      <td id=\"T_63ea6_row2_col5\" class=\"data row2 col5\" >2.76</td>\n",
       "      <td id=\"T_63ea6_row2_col6\" class=\"data row2 col6\" >12.3</td>\n",
       "      <td id=\"T_63ea6_row2_col7\" class=\"data row2 col7\" >86.685312</td>\n",
       "      <td id=\"T_63ea6_row2_col8\" class=\"data row2 col8\" >3</td>\n",
       "    </tr>\n",
       "    <tr>\n",
       "      <th id=\"T_63ea6_level0_row3\" class=\"row_heading level0 row3\" >3</th>\n",
       "      <td id=\"T_63ea6_row3_col0\" class=\"data row3 col0\" >California</td>\n",
       "      <td id=\"T_63ea6_row3_col1\" class=\"data row3 col1\" >0.180</td>\n",
       "      <td id=\"T_63ea6_row3_col2\" class=\"data row3 col2\" >High</td>\n",
       "      <td id=\"T_63ea6_row3_col3\" class=\"data row3 col3\" >Good (Solar)</td>\n",
       "      <td id=\"T_63ea6_row3_col4\" class=\"data row3 col4\" >Refining, Transport</td>\n",
       "      <td id=\"T_63ea6_row3_col5\" class=\"data row3 col5\" >7.18</td>\n",
       "      <td id=\"T_63ea6_row3_col6\" class=\"data row3 col6\" >-73.3</td>\n",
       "      <td id=\"T_63ea6_row3_col7\" class=\"data row3 col7\" >1.000000</td>\n",
       "      <td id=\"T_63ea6_row3_col8\" class=\"data row3 col8\" >6</td>\n",
       "    </tr>\n",
       "    <tr>\n",
       "      <th id=\"T_63ea6_level0_row4\" class=\"row_heading level0 row4\" >4</th>\n",
       "      <td id=\"T_63ea6_row4_col0\" class=\"data row4 col0\" >Northeast</td>\n",
       "      <td id=\"T_63ea6_row4_col1\" class=\"data row4 col1\" >0.140</td>\n",
       "      <td id=\"T_63ea6_row4_col2\" class=\"data row4 col2\" >High</td>\n",
       "      <td id=\"T_63ea6_row4_col3\" class=\"data row4 col3\" >Moderate</td>\n",
       "      <td id=\"T_63ea6_row4_col4\" class=\"data row4 col4\" >Manufacturing</td>\n",
       "      <td id=\"T_63ea6_row4_col5\" class=\"data row4 col5\" >5.71</td>\n",
       "      <td id=\"T_63ea6_row4_col6\" class=\"data row4 col6\" >-44.8</td>\n",
       "      <td id=\"T_63ea6_row4_col7\" class=\"data row4 col7\" >29.561771</td>\n",
       "      <td id=\"T_63ea6_row4_col8\" class=\"data row4 col8\" >5</td>\n",
       "    </tr>\n",
       "    <tr>\n",
       "      <th id=\"T_63ea6_level0_row5\" class=\"row_heading level0 row5\" >5</th>\n",
       "      <td id=\"T_63ea6_row5_col0\" class=\"data row5 col0\" >Southeast</td>\n",
       "      <td id=\"T_63ea6_row5_col1\" class=\"data row5 col1\" >0.085</td>\n",
       "      <td id=\"T_63ea6_row5_col2\" class=\"data row5 col2\" >Medium</td>\n",
       "      <td id=\"T_63ea6_row5_col3\" class=\"data row5 col3\" >Moderate</td>\n",
       "      <td id=\"T_63ea6_row5_col4\" class=\"data row5 col4\" >Chemicals, Aerospace</td>\n",
       "      <td id=\"T_63ea6_row5_col5\" class=\"data row5 col5\" >3.68</td>\n",
       "      <td id=\"T_63ea6_row5_col6\" class=\"data row5 col6\" >-5.5</td>\n",
       "      <td id=\"T_63ea6_row5_col7\" class=\"data row5 col7\" >68.834205</td>\n",
       "      <td id=\"T_63ea6_row5_col8\" class=\"data row5 col8\" >4</td>\n",
       "    </tr>\n",
       "  </tbody>\n",
       "</table>\n"
      ],
      "text/plain": [
       "<pandas.io.formats.style.Styler at 0x25748a3e470>"
      ]
     },
     "metadata": {},
     "output_type": "display_data"
    },
    {
     "data": {
      "application/vnd.plotly.v1+json": {
       "config": {
        "plotlyServerURL": "https://plot.ly"
       },
       "data": [
        {
         "customdata": {
          "bdata": "UUGYUhUNN0A9BmKqV1lYQL3dEoxC0i9AoVE+p1qQVkA=",
          "dtype": "f8",
          "shape": "2, 2"
         },
         "hovertemplate": "Renewable Availability=Excellent (Wind)<br>Electricity Price ($/kWh)=%{x}<br>Levelized Cost of Hydrogen ($/kg)=%{y}<br>Region=%{text}<br>NPV ($M)=%{customdata[0]:.1f}<extra></extra>",
         "legendgroup": "Excellent (Wind)",
         "marker": {
          "color": "#636efa",
          "size": {
           "bdata": "PQZiqldZWEChUT6nWpBWQA==",
           "dtype": "f8"
          },
          "sizemode": "area",
          "sizeref": 0.06087248480065281,
          "symbol": "circle"
         },
         "mode": "markers+text",
         "name": "Excellent (Wind)",
         "orientation": "v",
         "showlegend": true,
         "text": [
          "West Texas",
          "Midwest (IA/MN)"
         ],
         "textposition": "top center",
         "type": "scatter",
         "x": {
          "bdata": "CtejcD0Kpz8pXI/C9SisPw==",
          "dtype": "f8"
         },
         "xaxis": "x",
         "y": {
          "bdata": "rtVnTwOuAUA6Qk9LrZ8EQA==",
          "dtype": "f8"
         },
         "yaxis": "y"
        },
        {
         "customdata": {
          "bdata": "TAuEf06uKEBSd6wl3KtVQA==",
          "dtype": "f8",
          "shape": "1, 2"
         },
         "hovertemplate": "Renewable Availability=Excellent (Hydro)<br>Electricity Price ($/kWh)=%{x}<br>Levelized Cost of Hydrogen ($/kg)=%{y}<br>Region=%{text}<br>NPV ($M)=%{customdata[0]:.1f}<extra></extra>",
         "legendgroup": "Excellent (Hydro)",
         "marker": {
          "color": "#EF553B",
          "size": {
           "bdata": "UnesJdyrVUA=",
           "dtype": "f8"
          },
          "sizemode": "area",
          "sizeref": 0.06087248480065281,
          "symbol": "circle"
         },
         "mode": "markers+text",
         "name": "Excellent (Hydro)",
         "orientation": "v",
         "showlegend": true,
         "text": [
          "Pacific Northwest"
         ],
         "textposition": "top center",
         "type": "scatter",
         "x": {
          "bdata": "uB6F61G4rj8=",
          "dtype": "f8"
         },
         "xaxis": "x",
         "y": {
          "bdata": "f/hCSYIYBkA=",
          "dtype": "f8"
         },
         "yaxis": "y"
        },
        {
         "customdata": {
          "bdata": "6fW7VRJWUsAAAAAAAADwPw==",
          "dtype": "f8",
          "shape": "1, 2"
         },
         "hovertemplate": "Renewable Availability=Good (Solar)<br>Electricity Price ($/kWh)=%{x}<br>Levelized Cost of Hydrogen ($/kg)=%{y}<br>Region=%{text}<br>NPV ($M)=%{customdata[0]:.1f}<extra></extra>",
         "legendgroup": "Good (Solar)",
         "marker": {
          "color": "#00cc96",
          "size": {
           "bdata": "AAAAAAAA8D8=",
           "dtype": "f8"
          },
          "sizemode": "area",
          "sizeref": 0.06087248480065281,
          "symbol": "circle"
         },
         "mode": "markers+text",
         "name": "Good (Solar)",
         "orientation": "v",
         "showlegend": true,
         "text": [
          "California"
         ],
         "textposition": "top center",
         "type": "scatter",
         "x": {
          "bdata": "CtejcD0Kxz8=",
          "dtype": "f8"
         },
         "xaxis": "x",
         "y": {
          "bdata": "ggcODD22HEA=",
          "dtype": "f8"
         },
         "yaxis": "y"
        },
        {
         "customdata": {
          "bdata": "8kZakjxkRsDASTsy0I89QNkhjH7rChbAyzPTnWM1UUA=",
          "dtype": "f8",
          "shape": "2, 2"
         },
         "hovertemplate": "Renewable Availability=Moderate<br>Electricity Price ($/kWh)=%{x}<br>Levelized Cost of Hydrogen ($/kg)=%{y}<br>Region=%{text}<br>NPV ($M)=%{customdata[0]:.1f}<extra></extra>",
         "legendgroup": "Moderate",
         "marker": {
          "color": "#ab63fa",
          "size": {
           "bdata": "wEk7MtCPPUDLM9OdYzVRQA==",
           "dtype": "f8"
          },
          "sizemode": "area",
          "sizeref": 0.06087248480065281,
          "symbol": "circle"
         },
         "mode": "markers+text",
         "name": "Moderate",
         "orientation": "v",
         "showlegend": true,
         "text": [
          "Northeast",
          "Southeast"
         ],
         "textposition": "top center",
         "type": "scatter",
         "x": {
          "bdata": "7FG4HoXrwT/D9Shcj8K1Pw==",
          "dtype": "f8"
         },
         "xaxis": "x",
         "y": {
          "bdata": "bS4/FOnSFkDchwU/q3QNQA==",
          "dtype": "f8"
         },
         "yaxis": "y"
        }
       ],
       "layout": {
        "annotations": [
         {
          "showarrow": false,
          "text": "H₂ Market Price ($4.0/kg)",
          "x": 1,
          "xanchor": "right",
          "xref": "x domain",
          "y": 4,
          "yanchor": "bottom",
          "yref": "y"
         }
        ],
        "height": 500,
        "legend": {
         "itemsizing": "constant",
         "title": {
          "text": "Renewable Availability"
         },
         "tracegroupgap": 0
        },
        "shapes": [
         {
          "line": {
           "color": "green",
           "dash": "dash"
          },
          "type": "line",
          "x0": 0,
          "x1": 1,
          "xref": "x domain",
          "y0": 4,
          "y1": 4,
          "yref": "y"
         }
        ],
        "template": {
         "data": {
          "bar": [
           {
            "error_x": {
             "color": "#2a3f5f"
            },
            "error_y": {
             "color": "#2a3f5f"
            },
            "marker": {
             "line": {
              "color": "#E5ECF6",
              "width": 0.5
             },
             "pattern": {
              "fillmode": "overlay",
              "size": 10,
              "solidity": 0.2
             }
            },
            "type": "bar"
           }
          ],
          "barpolar": [
           {
            "marker": {
             "line": {
              "color": "#E5ECF6",
              "width": 0.5
             },
             "pattern": {
              "fillmode": "overlay",
              "size": 10,
              "solidity": 0.2
             }
            },
            "type": "barpolar"
           }
          ],
          "carpet": [
           {
            "aaxis": {
             "endlinecolor": "#2a3f5f",
             "gridcolor": "white",
             "linecolor": "white",
             "minorgridcolor": "white",
             "startlinecolor": "#2a3f5f"
            },
            "baxis": {
             "endlinecolor": "#2a3f5f",
             "gridcolor": "white",
             "linecolor": "white",
             "minorgridcolor": "white",
             "startlinecolor": "#2a3f5f"
            },
            "type": "carpet"
           }
          ],
          "choropleth": [
           {
            "colorbar": {
             "outlinewidth": 0,
             "ticks": ""
            },
            "type": "choropleth"
           }
          ],
          "contour": [
           {
            "colorbar": {
             "outlinewidth": 0,
             "ticks": ""
            },
            "colorscale": [
             [
              0,
              "#0d0887"
             ],
             [
              0.1111111111111111,
              "#46039f"
             ],
             [
              0.2222222222222222,
              "#7201a8"
             ],
             [
              0.3333333333333333,
              "#9c179e"
             ],
             [
              0.4444444444444444,
              "#bd3786"
             ],
             [
              0.5555555555555556,
              "#d8576b"
             ],
             [
              0.6666666666666666,
              "#ed7953"
             ],
             [
              0.7777777777777778,
              "#fb9f3a"
             ],
             [
              0.8888888888888888,
              "#fdca26"
             ],
             [
              1,
              "#f0f921"
             ]
            ],
            "type": "contour"
           }
          ],
          "contourcarpet": [
           {
            "colorbar": {
             "outlinewidth": 0,
             "ticks": ""
            },
            "type": "contourcarpet"
           }
          ],
          "heatmap": [
           {
            "colorbar": {
             "outlinewidth": 0,
             "ticks": ""
            },
            "colorscale": [
             [
              0,
              "#0d0887"
             ],
             [
              0.1111111111111111,
              "#46039f"
             ],
             [
              0.2222222222222222,
              "#7201a8"
             ],
             [
              0.3333333333333333,
              "#9c179e"
             ],
             [
              0.4444444444444444,
              "#bd3786"
             ],
             [
              0.5555555555555556,
              "#d8576b"
             ],
             [
              0.6666666666666666,
              "#ed7953"
             ],
             [
              0.7777777777777778,
              "#fb9f3a"
             ],
             [
              0.8888888888888888,
              "#fdca26"
             ],
             [
              1,
              "#f0f921"
             ]
            ],
            "type": "heatmap"
           }
          ],
          "histogram": [
           {
            "marker": {
             "pattern": {
              "fillmode": "overlay",
              "size": 10,
              "solidity": 0.2
             }
            },
            "type": "histogram"
           }
          ],
          "histogram2d": [
           {
            "colorbar": {
             "outlinewidth": 0,
             "ticks": ""
            },
            "colorscale": [
             [
              0,
              "#0d0887"
             ],
             [
              0.1111111111111111,
              "#46039f"
             ],
             [
              0.2222222222222222,
              "#7201a8"
             ],
             [
              0.3333333333333333,
              "#9c179e"
             ],
             [
              0.4444444444444444,
              "#bd3786"
             ],
             [
              0.5555555555555556,
              "#d8576b"
             ],
             [
              0.6666666666666666,
              "#ed7953"
             ],
             [
              0.7777777777777778,
              "#fb9f3a"
             ],
             [
              0.8888888888888888,
              "#fdca26"
             ],
             [
              1,
              "#f0f921"
             ]
            ],
            "type": "histogram2d"
           }
          ],
          "histogram2dcontour": [
           {
            "colorbar": {
             "outlinewidth": 0,
             "ticks": ""
            },
            "colorscale": [
             [
              0,
              "#0d0887"
             ],
             [
              0.1111111111111111,
              "#46039f"
             ],
             [
              0.2222222222222222,
              "#7201a8"
             ],
             [
              0.3333333333333333,
              "#9c179e"
             ],
             [
              0.4444444444444444,
              "#bd3786"
             ],
             [
              0.5555555555555556,
              "#d8576b"
             ],
             [
              0.6666666666666666,
              "#ed7953"
             ],
             [
              0.7777777777777778,
              "#fb9f3a"
             ],
             [
              0.8888888888888888,
              "#fdca26"
             ],
             [
              1,
              "#f0f921"
             ]
            ],
            "type": "histogram2dcontour"
           }
          ],
          "mesh3d": [
           {
            "colorbar": {
             "outlinewidth": 0,
             "ticks": ""
            },
            "type": "mesh3d"
           }
          ],
          "parcoords": [
           {
            "line": {
             "colorbar": {
              "outlinewidth": 0,
              "ticks": ""
             }
            },
            "type": "parcoords"
           }
          ],
          "pie": [
           {
            "automargin": true,
            "type": "pie"
           }
          ],
          "scatter": [
           {
            "fillpattern": {
             "fillmode": "overlay",
             "size": 10,
             "solidity": 0.2
            },
            "type": "scatter"
           }
          ],
          "scatter3d": [
           {
            "line": {
             "colorbar": {
              "outlinewidth": 0,
              "ticks": ""
             }
            },
            "marker": {
             "colorbar": {
              "outlinewidth": 0,
              "ticks": ""
             }
            },
            "type": "scatter3d"
           }
          ],
          "scattercarpet": [
           {
            "marker": {
             "colorbar": {
              "outlinewidth": 0,
              "ticks": ""
             }
            },
            "type": "scattercarpet"
           }
          ],
          "scattergeo": [
           {
            "marker": {
             "colorbar": {
              "outlinewidth": 0,
              "ticks": ""
             }
            },
            "type": "scattergeo"
           }
          ],
          "scattergl": [
           {
            "marker": {
             "colorbar": {
              "outlinewidth": 0,
              "ticks": ""
             }
            },
            "type": "scattergl"
           }
          ],
          "scattermap": [
           {
            "marker": {
             "colorbar": {
              "outlinewidth": 0,
              "ticks": ""
             }
            },
            "type": "scattermap"
           }
          ],
          "scattermapbox": [
           {
            "marker": {
             "colorbar": {
              "outlinewidth": 0,
              "ticks": ""
             }
            },
            "type": "scattermapbox"
           }
          ],
          "scatterpolar": [
           {
            "marker": {
             "colorbar": {
              "outlinewidth": 0,
              "ticks": ""
             }
            },
            "type": "scatterpolar"
           }
          ],
          "scatterpolargl": [
           {
            "marker": {
             "colorbar": {
              "outlinewidth": 0,
              "ticks": ""
             }
            },
            "type": "scatterpolargl"
           }
          ],
          "scatterternary": [
           {
            "marker": {
             "colorbar": {
              "outlinewidth": 0,
              "ticks": ""
             }
            },
            "type": "scatterternary"
           }
          ],
          "surface": [
           {
            "colorbar": {
             "outlinewidth": 0,
             "ticks": ""
            },
            "colorscale": [
             [
              0,
              "#0d0887"
             ],
             [
              0.1111111111111111,
              "#46039f"
             ],
             [
              0.2222222222222222,
              "#7201a8"
             ],
             [
              0.3333333333333333,
              "#9c179e"
             ],
             [
              0.4444444444444444,
              "#bd3786"
             ],
             [
              0.5555555555555556,
              "#d8576b"
             ],
             [
              0.6666666666666666,
              "#ed7953"
             ],
             [
              0.7777777777777778,
              "#fb9f3a"
             ],
             [
              0.8888888888888888,
              "#fdca26"
             ],
             [
              1,
              "#f0f921"
             ]
            ],
            "type": "surface"
           }
          ],
          "table": [
           {
            "cells": {
             "fill": {
              "color": "#EBF0F8"
             },
             "line": {
              "color": "white"
             }
            },
            "header": {
             "fill": {
              "color": "#C8D4E3"
             },
             "line": {
              "color": "white"
             }
            },
            "type": "table"
           }
          ]
         },
         "layout": {
          "annotationdefaults": {
           "arrowcolor": "#2a3f5f",
           "arrowhead": 0,
           "arrowwidth": 1
          },
          "autotypenumbers": "strict",
          "coloraxis": {
           "colorbar": {
            "outlinewidth": 0,
            "ticks": ""
           }
          },
          "colorscale": {
           "diverging": [
            [
             0,
             "#8e0152"
            ],
            [
             0.1,
             "#c51b7d"
            ],
            [
             0.2,
             "#de77ae"
            ],
            [
             0.3,
             "#f1b6da"
            ],
            [
             0.4,
             "#fde0ef"
            ],
            [
             0.5,
             "#f7f7f7"
            ],
            [
             0.6,
             "#e6f5d0"
            ],
            [
             0.7,
             "#b8e186"
            ],
            [
             0.8,
             "#7fbc41"
            ],
            [
             0.9,
             "#4d9221"
            ],
            [
             1,
             "#276419"
            ]
           ],
           "sequential": [
            [
             0,
             "#0d0887"
            ],
            [
             0.1111111111111111,
             "#46039f"
            ],
            [
             0.2222222222222222,
             "#7201a8"
            ],
            [
             0.3333333333333333,
             "#9c179e"
            ],
            [
             0.4444444444444444,
             "#bd3786"
            ],
            [
             0.5555555555555556,
             "#d8576b"
            ],
            [
             0.6666666666666666,
             "#ed7953"
            ],
            [
             0.7777777777777778,
             "#fb9f3a"
            ],
            [
             0.8888888888888888,
             "#fdca26"
            ],
            [
             1,
             "#f0f921"
            ]
           ],
           "sequentialminus": [
            [
             0,
             "#0d0887"
            ],
            [
             0.1111111111111111,
             "#46039f"
            ],
            [
             0.2222222222222222,
             "#7201a8"
            ],
            [
             0.3333333333333333,
             "#9c179e"
            ],
            [
             0.4444444444444444,
             "#bd3786"
            ],
            [
             0.5555555555555556,
             "#d8576b"
            ],
            [
             0.6666666666666666,
             "#ed7953"
            ],
            [
             0.7777777777777778,
             "#fb9f3a"
            ],
            [
             0.8888888888888888,
             "#fdca26"
            ],
            [
             1,
             "#f0f921"
            ]
           ]
          },
          "colorway": [
           "#636efa",
           "#EF553B",
           "#00cc96",
           "#ab63fa",
           "#FFA15A",
           "#19d3f3",
           "#FF6692",
           "#B6E880",
           "#FF97FF",
           "#FECB52"
          ],
          "font": {
           "color": "#2a3f5f"
          },
          "geo": {
           "bgcolor": "white",
           "lakecolor": "white",
           "landcolor": "#E5ECF6",
           "showlakes": true,
           "showland": true,
           "subunitcolor": "white"
          },
          "hoverlabel": {
           "align": "left"
          },
          "hovermode": "closest",
          "mapbox": {
           "style": "light"
          },
          "paper_bgcolor": "white",
          "plot_bgcolor": "#E5ECF6",
          "polar": {
           "angularaxis": {
            "gridcolor": "white",
            "linecolor": "white",
            "ticks": ""
           },
           "bgcolor": "#E5ECF6",
           "radialaxis": {
            "gridcolor": "white",
            "linecolor": "white",
            "ticks": ""
           }
          },
          "scene": {
           "xaxis": {
            "backgroundcolor": "#E5ECF6",
            "gridcolor": "white",
            "gridwidth": 2,
            "linecolor": "white",
            "showbackground": true,
            "ticks": "",
            "zerolinecolor": "white"
           },
           "yaxis": {
            "backgroundcolor": "#E5ECF6",
            "gridcolor": "white",
            "gridwidth": 2,
            "linecolor": "white",
            "showbackground": true,
            "ticks": "",
            "zerolinecolor": "white"
           },
           "zaxis": {
            "backgroundcolor": "#E5ECF6",
            "gridcolor": "white",
            "gridwidth": 2,
            "linecolor": "white",
            "showbackground": true,
            "ticks": "",
            "zerolinecolor": "white"
           }
          },
          "shapedefaults": {
           "line": {
            "color": "#2a3f5f"
           }
          },
          "ternary": {
           "aaxis": {
            "gridcolor": "white",
            "linecolor": "white",
            "ticks": ""
           },
           "baxis": {
            "gridcolor": "white",
            "linecolor": "white",
            "ticks": ""
           },
           "bgcolor": "#E5ECF6",
           "caxis": {
            "gridcolor": "white",
            "linecolor": "white",
            "ticks": ""
           }
          },
          "title": {
           "x": 0.05
          },
          "xaxis": {
           "automargin": true,
           "gridcolor": "white",
           "linecolor": "white",
           "ticks": "",
           "title": {
            "standoff": 15
           },
           "zerolinecolor": "white",
           "zerolinewidth": 2
          },
          "yaxis": {
           "automargin": true,
           "gridcolor": "white",
           "linecolor": "white",
           "ticks": "",
           "title": {
            "standoff": 15
           },
           "zerolinecolor": "white",
           "zerolinewidth": 2
          }
         }
        },
        "title": {
         "text": "Regional Economics: Electricity Price vs LCOH"
        },
        "xaxis": {
         "anchor": "y",
         "domain": [
          0,
          1
         ],
         "title": {
          "text": "Electricity Price ($/kWh)"
         }
        },
        "yaxis": {
         "anchor": "x",
         "domain": [
          0,
          1
         ],
         "title": {
          "text": "Levelized Cost of Hydrogen ($/kg)"
         }
        }
       }
      }
     },
     "metadata": {},
     "output_type": "display_data"
    },
    {
     "name": "stdout",
     "output_type": "stream",
     "text": [
      "\n",
      "🌎 Optimal Deployment Strategy:\n",
      "\n",
      "1️⃣ BEST: West Texas\n",
      "   • Electricity: $0.045/kWh\n",
      "   • LCOH: $2.21/kg\n",
      "   • NPV: $23.1M\n",
      "   • Renewable Source: Excellent (Wind)\n",
      "   • Strategy: Co-locate with wind farms, secure long-term PPA\n",
      "\n",
      "❌ AVOID: California\n",
      "   • Electricity: $0.180/kWh\n",
      "   • LCOH: $7.18/kg\n",
      "   • NPV: $-73.3M\n",
      "   • High electricity costs make project marginal\n",
      "\n",
      "💡 Key Insights:\n",
      "   • Midwest and West Texas offer best economics (abundant wind)\n",
      "   • California has high demand but high electricity costs\n",
      "   • Consider pairing with on-site solar in high-cost regions\n",
      "   • RNG availability also matters - prioritize near dairy farms/landfills\n"
     ]
    }
   ],
   "source": [
    "# Regional analysis based on electricity prices and hydrogen markets\n",
    "regions = {\n",
    "    'Region': [\n",
    "        'West Texas',\n",
    "        'Midwest (IA/MN)',\n",
    "        'Pacific Northwest',\n",
    "        'California',\n",
    "        'Northeast',\n",
    "        'Southeast'\n",
    "    ],\n",
    "    'Electricity Price ($/kWh)': [0.045, 0.055, 0.060, 0.180, 0.140, 0.085],\n",
    "    'H₂ Demand Level': ['Medium', 'Low', 'Medium', 'High', 'High', 'Medium'],\n",
    "    'Renewable Availability': ['Excellent (Wind)', 'Excellent (Wind)', 'Excellent (Hydro)',\n",
    "                                'Good (Solar)', 'Moderate', 'Moderate'],\n",
    "    'Key Industries': ['Refining, Chemicals', 'Agriculture, Food', 'Aerospace, Tech',\n",
    "                       'Refining, Transport', 'Manufacturing', 'Chemicals, Aerospace']\n",
    "}\n",
    "\n",
    "regions_df = pd.DataFrame(regions)\n",
    "\n",
    "# Calculate LCOH for each region\n",
    "regions_df['LCOH ($/kg)'] = regions_df['Electricity Price ($/kWh)'].apply(\n",
    "    lambda e: lcoh + (e - electricity_price) * energy_per_kg_h2\n",
    ")\n",
    "\n",
    "# Calculate NPV impact\n",
    "regions_df['NPV ($M)'] = regions_df['Electricity Price ($/kWh)'].apply(\n",
    "    lambda e: (npv - (e - electricity_price) * energy_per_kg_h2 * h2_annual * \n",
    "              ((1 - (1+discount_rate)**(-plant_lifetime)) / discount_rate)) / 1e6\n",
    ")\n",
    "\n",
    "# Create a transformed NPV for sizing (shift all values to be positive)\n",
    "regions_df['NPV_for_size'] = regions_df['NPV ($M)'] - regions_df['NPV ($M)'].min() + 1\n",
    "\n",
    "# Ranking\n",
    "regions_df['Economic Rank'] = regions_df['NPV ($M)'].rank(ascending=False).astype(int)\n",
    "\n",
    "# Display\n",
    "display(regions_df.style.format({\n",
    "    'Electricity Price ($/kWh)': '{:.3f}',\n",
    "    'LCOH ($/kg)': '{:.2f}',\n",
    "    'NPV ($M)': '{:.1f}'\n",
    "}).background_gradient(subset=['NPV ($M)'], cmap='RdYlGn'))\n",
    "\n",
    "# Visualize\n",
    "fig = px.scatter(\n",
    "    regions_df,\n",
    "    x='Electricity Price ($/kWh)',\n",
    "    y='LCOH ($/kg)',\n",
    "    size='NPV_for_size',  # Use the positive-shifted values\n",
    "    color='Renewable Availability',\n",
    "    text='Region',\n",
    "    title='Regional Economics: Electricity Price vs LCOH',\n",
    "    labels={'LCOH ($/kg)': 'Levelized Cost of Hydrogen ($/kg)'},\n",
    "    size_max=40,\n",
    "    hover_data={'NPV ($M)': ':.1f', 'NPV_for_size': False}  # Show actual NPV in hover\n",
    ")\n",
    "\n",
    "fig.add_hline(y=h2_price, line_dash=\"dash\", line_color=\"green\",\n",
    "              annotation_text=f\"H₂ Market Price (${h2_price}/kg)\")\n",
    "\n",
    "fig.update_traces(textposition='top center')\n",
    "fig.update_layout(height=500)\n",
    "\n",
    "fig.show()\n",
    "\n",
    "print(f\"\\n🌎 Optimal Deployment Strategy:\\n\")\n",
    "\n",
    "top_region = regions_df.loc[regions_df['NPV ($M)'].idxmax()]\n",
    "print(f\"1️⃣ BEST: {top_region['Region']}\")\n",
    "print(f\"   • Electricity: ${top_region['Electricity Price ($/kWh)']:.3f}/kWh\")\n",
    "print(f\"   • LCOH: ${top_region['LCOH ($/kg)']:.2f}/kg\")\n",
    "print(f\"   • NPV: ${top_region['NPV ($M)']:.1f}M\")\n",
    "print(f\"   • Renewable Source: {top_region['Renewable Availability']}\")\n",
    "print(f\"   • Strategy: Co-locate with wind farms, secure long-term PPA\\n\")\n",
    "\n",
    "worst_region = regions_df.loc[regions_df['NPV ($M)'].idxmin()]\n",
    "print(f\"❌ AVOID: {worst_region['Region']}\")\n",
    "print(f\"   • Electricity: ${worst_region['Electricity Price ($/kWh)']:.3f}/kWh\")\n",
    "print(f\"   • LCOH: ${worst_region['LCOH ($/kg)']:.2f}/kg\")\n",
    "print(f\"   • NPV: ${worst_region['NPV ($M)']:.1f}M\")\n",
    "print(f\"   • High electricity costs make project marginal\\n\")\n",
    "\n",
    "print(f\"💡 Key Insights:\")\n",
    "print(f\"   • Midwest and West Texas offer best economics (abundant wind)\")\n",
    "print(f\"   • California has high demand but high electricity costs\")\n",
    "print(f\"   • Consider pairing with on-site solar in high-cost regions\")\n",
    "print(f\"   • RNG availability also matters - prioritize near dairy farms/landfills\")"
   ]
  },
  {
   "cell_type": "markdown",
   "id": "6bf24f25",
   "metadata": {},
   "source": [
    "## Key Findings\n",
    "\n",
    "### Strong Financial Performance\n",
    "\n",
    "**Base Case Economics (Conservative Pricing):**\n",
    "- NPV (20 years, 15% discount): **$20.6 million**\n",
    "- IRR: **85.95%** (far exceeds typical hurdle rates)\n",
    "- Payback Period: **3.2 years** (excellent for chemical industry)\n",
    "- Gross Margin: **30.6%** (healthy for process industry)\n",
    "- LCOH: **$2.41/kg** (competitive with market price of $3.18/kg)\n",
    "\n",
    "**Investment Attractiveness:**\n",
    "- Positive NPV in >70% of Monte Carlo scenarios\n",
    "- IRR significantly exceeds discount rate (15%)\n",
    "- Fast payback reduces risk\n",
    "- Robust to reasonable parameter uncertainty\n",
    "\n",
    "### 2. Critical Success Factors\n",
    "\n",
    "**Most Influential Parameters (from sensitivity analysis):**\n",
    "\n",
    "1. **Electricity Price** - Dominant driver of economics\n",
    "   - Represents 89% of variable operating costs\n",
    "   - Optimal deployment in low-cost renewable regions\n",
    "   - Target: <$0.07/kWh for strong economics\n",
    "   \n",
    "2. **Hydrogen Selling Price** - Market risk\n",
    "   - Conservative base case at $3.18/kg\n",
    "   - Market prices range $2-5/kg depending on grade/region\n",
    "   - Premium markets (fuel cell grade, California LCFS) can exceed $5/kg\n",
    "\n",
    "3. **Acetylene Black Price** - Co-product value\n",
    "   - Provides 40% of total revenue\n",
    "   - Premium conductive grade commands $2-3/kg\n",
    "   - Battery market growth supports strong pricing\n",
    "\n",
    "4. **Capital Costs** - Technology maturity\n",
    "   - Current estimate: $45.6M for 3,100 tonne/year plant\n",
    "   - Pentacarbon technology relatively new (scale-up risk)\n",
    "   - Learning curve improvements possible with deployment\n",
    "\n",
    "### 3. Environmental Superiority\n",
    "\n",
    "**Dramatic improvements vs Steam Methane Reforming:**\n",
    "\n",
    "- **CO₂ Emissions:** 99.9% reduction (0.12 vs 9.7 kg CO₂/kg H₂)\n",
    "- **Water Consumption:** 86.7% reduction (0.6 vs 4.5 kg H₂O/kg H₂)\n",
    "- **Renewable Energy:** 100% when using renewable electricity\n",
    "- **Waste Utilization:** Converts waste RNG to valuable products\n",
    "\n",
    "**Climate Impact:**\n",
    "- Annual CO₂ avoidance: ~30,000 tonnes vs SMR\n",
    "- Equivalent to removing ~6,500 cars from roads\n",
    "- Supports corporate net-zero commitments\n",
    "\n",
    "### 4. Market Positioning\n",
    "\n",
    "**Competitive Advantages:**\n",
    "- ✅ Near-zero carbon intensity (critical for CA LCFS, EU hydrogen strategy)\n",
    "- ✅ Premium co-product (acetylene black for batteries)\n",
    "- ✅ Waste feedstock utilization (RNG from landfills/dairy)\n",
    "- ✅ Modular scale (right-sized for distributed production)\n",
    "- ✅ No water stress concerns\n",
    "\n",
    "**Competitive Challenges:**\n",
    "- ⚠️ Higher energy intensity than SMR (but from renewables)\n",
    "- ⚠️ Technology relatively new (limited deployment track record)\n",
    "- ⚠️ Electricity price sensitivity (requires low-cost renewable access)\n",
    "- ⚠️ Smaller scale than large SMR plants (3,100 vs 10,000+ tonnes/year)\n",
    "\n",
    "### 5. Strategic Recommendations\n",
    "\n",
    "**Near-Term (1-2 years):**\n",
    "\n",
    "1. **Pilot Demonstration**\n",
    "   - Validate ASPEN simulation with pilot-scale unit\n",
    "   - Prove acetylene black quality for battery market\n",
    "   - Demonstrate 8,000+ hour reliability\n",
    "   - Engage potential offtakers early\n",
    "\n",
    "2. **Target Markets**\n",
    "   - Industrial customers with clean hydrogen mandates\n",
    "   - California (LCFS credits, strict emissions standards)\n",
    "   - Companies with net-zero commitments\n",
    "   - Battery manufacturers (acetylene black market)\n",
    "\n",
    "3. **Optimize Deployment Locations**\n",
    "   - **Priority:** West Texas, Midwest (low-cost wind)\n",
    "   - Co-locate with wind/solar farms for direct PPAs\n",
    "   - Near RNG sources (landfills, dairy digesters)\n",
    "   - Proximity to industrial hydrogen demand\n",
    "\n",
    "4. **Secure Offtake Agreements**\n",
    "   - Long-term hydrogen purchase agreements\n",
    "   - Acetylene black supply contracts with battery makers\n",
    "   - Lock in pricing to reduce market risk\n",
    "\n",
    "**Medium-Term (3-5 years):**\n",
    "\n",
    "1. **Scale Technology**\n",
    "   - Build first commercial-scale plant (3,100 tonne/year)\n",
    "   - Demonstrate consistent acetylene black quality\n",
    "   - Achieve target capacity factor (>90%)\n",
    "   - Reduce CapEx through learning curve\n",
    "\n",
    "2. **Business Model Innovation**\n",
    "   - \"Hydrogen-as-a-Service\" for lower customer CapEx\n",
    "   - Bundled hydrogen + carbon credit sales\n",
    "   - Partnership with renewable energy developers\n",
    "   - Fleet deployment model (multiple standardized plants)\n",
    "\n",
    "3. **Policy Engagement**\n",
    "   - Qualify for IRA 45V hydrogen PTC ($3/kg for clean H₂)\n",
    "   - California LCFS credit generation\n",
    "   - RNG fuel credits\n",
    "   - State-level clean hydrogen incentives\n",
    "\n",
    "4. **Market Development**\n",
    "   - Educate market on acetylene black value\n",
    "   - Build relationships with battery manufacturers\n",
    "   - Establish brand for premium clean hydrogen\n",
    "   - Demonstrate reliable supply\n",
    "\n",
    "**Long-Term (5+ years):**\n",
    "\n",
    "1. **Portfolio Expansion**\n",
    "   - Deploy 10-20 plants in optimal locations\n",
    "   - Diversify feedstocks (biogas, renewable methane)\n",
    "   - Explore adjacent markets (ammonia, methanol from H₂)\n",
    "   - International markets with strong hydrogen policy\n",
    "\n",
    "2. **Technology Enhancement**\n",
    "   - Improve energy efficiency (reduce kWh/kg H₂)\n",
    "   - Increase scale per unit (economies of scale)\n",
    "   - Develop carbon black grade flexibility\n",
    "   - Integration with renewable energy systems\n",
    "\n",
    "3. **Financial Optimization**\n",
    "   - Green bond financing for lower cost of capital\n",
    "   - Carbon credit monetization strategies\n",
    "   - Strategic partnerships with industrial gas companies\n",
    "   - Consider yieldco structure for cash flow assets\n",
    "\n",
    "---\n",
    "\n",
    "## Conclusions\n",
    "\n",
    "The Pentacarbon microwave plasma process for hydrogen and acetylene black production represents a **technically viable and economically attractive** alternative to conventional hydrogen production.\n",
    "\n",
    "**Key Strengths:**\n",
    "✅ **Strong economics** - Positive NPV, high IRR, fast payback  \n",
    "✅ **Environmental leadership** - 99.9% CO₂ reduction vs SMR  \n",
    "✅ **Revenue diversification** - Premium acetylene black co-product  \n",
    "✅ **Waste valorization** - Utilizes renewable natural gas  \n",
    "✅ **Strategic timing** - Aligns with hydrogen economy growth  \n",
    "\n",
    "**Critical Success Factors:**\n",
    "🎯 **Low-cost renewable electricity** - Must target <$0.07/kWh  \n",
    "🎯 **Acetylene black market** - Must secure premium pricing  \n",
    "🎯 **Policy support** - Leverage hydrogen incentives and LCFS credits  \n",
    "🎯 **Technology validation** - Pilot demonstration crucial  \n",
    "\n",
    "**The business case strengthens as:**\n",
    "- Hydrogen demand grows (transportation, industry, power)\n",
    "- Carbon pricing increases (making SMR more expensive)\n",
    "- Battery market expands (acetylene black demand)\n",
    "- Renewable electricity costs decline (improving economics)\n",
    "\n",
    "**With continued technology development and supportive policy, this process could capture meaningful share of the growing clean hydrogen market, particularly for applications requiring truly low-carbon H₂ with strong environmental credentials.**\n",
    "\n",
    "---\n",
    "\n",
    "## References\n",
    "\n",
    "1. Ritter, A., Levine, S., Cannon, S., (2022). \"Natural Gas Conversion into Clean Hydrogen and Carbon for Li-ion Battery Electrodes Using Renewable Energy\" University of Pennsylvania Senior Design Project.\n",
    "\n",
    "2. U.S. Environmental Protection Agency. (2023). \"Emission Factors for Greenhouse Gas Inventories.\"\n",
    "\n",
    "3. International Energy Agency. (2023). \"Global Hydrogen Review 2023.\"\n",
    "\n",
    "4. National Renewable Energy Laboratory. (2023). \"Hydrogen Production Cost Analysis.\"\n",
    "\n",
    "5. U.S. Department of Energy. (2023). \"Clean Hydrogen Production Tax Credit (45V) Guidance.\"\n",
    "\n",
    "6. Pentacarbon, Inc. (2022). Technical specifications and process data.\n",
    "\n",
    "---\n",
    "\n",
    "## Contact\n",
    "\n",
    "**Adam Ritter**  \n",
    "\n",
    "📧 adam.h.ritter@gmail.com  \n",
    "💼 [LinkedIn](https://linkedin.com/in/adam-ritter-env)  \n",
    "🐙 [GitHub](https://github.com/Adam-Ritter)  \n",
    "🌐 [Portfolio](your-portfolio-link)\n",
    "\n",
    "---\n",
    "\n",
    "*This interactive analysis is based on our 2022 senior design project at Penn. The ASPEN Plus simulation and core technical data remain unchanged. Financial assumptions have been updated where appropriate to reflect 2024 market conditions.*"
   ]
  }
 ],
 "metadata": {
  "kernelspec": {
   "display_name": "climate-portfolio",
   "language": "python",
   "name": "python3"
  },
  "language_info": {
   "codemirror_mode": {
    "name": "ipython",
    "version": 3
   },
   "file_extension": ".py",
   "mimetype": "text/x-python",
   "name": "python",
   "nbconvert_exporter": "python",
   "pygments_lexer": "ipython3",
   "version": "3.10.18"
  }
 },
 "nbformat": 4,
 "nbformat_minor": 5
}
