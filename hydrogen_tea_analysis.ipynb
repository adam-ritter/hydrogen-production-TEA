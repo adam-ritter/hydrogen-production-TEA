{
 "cells": [
  {
   "cell_type": "markdown",
   "id": "9ffdf043",
   "metadata": {},
   "source": [
    "# Techno-Economic Analysis: Hydrogen and Acetylene Black Production from Renewable Natural Gas via Microwave Plasma Reactors\n",
    "\n",
    "## Executive Summary\n",
    "\n",
    "This analysis evaluates the techno-economic viability of producing hydrogen gas and acetylene black from renewable natural gas (RNG) using Pentacarbon's proprietary microwave plasma reactor technology.\n",
    "\n",
    "### Key Results\n",
    "\n",
    "**Financial Performance:**\n",
    "- **NPV (20 years, 15% discount):** $20.6 million\n",
    "- **IRR:** 85.95%\n",
    "- **Payback Period:** 3.2 years\n",
    "- **ROI (Year 3):** 112.85%\n",
    "- **LCOH:** $2.41/kg H2\n",
    "\n",
    "**Production Capacity**\n",
    "- **Hydrogen:** 393.1 kg/hr (3,100 tonnes/year)\n",
    "- **Acetylene Black:** 824.6 kg/hr (6,500 tonnes/year)\n",
    "- **Capacity Factor:** 91.7%\n",
    "\n",
    "**Environmental Performance**\n",
    "- **CO2 Intensity:** 0.12 kg CO2eq/kg H2 (99.9% reduction vs. SMR)\n",
    "- **Water Intensity:** 0.6kg H2O/kg H2 (86.7% reduction vs. SMR)\n",
    "- **Energy Source:** Renewable electricity\n",
    "- **Feedstock Source:** Landfill methane that would otherwise be released to atmosphere\n",
    "\n",
    "**Economic Advantages:**\n",
    "- Strong profitability with conservative pricing\n",
    "- Premium co-product (acetylene black) provides 40% of revenue with downstream sustainability applications\n",
    "- Near-zero emissions using renewable energy\n",
    "- Minimal water consumption\n",
    "- Utilizes waste/renewable methane feedstock\n",
    "\n",
    "---\n",
    "\n",
    "## Background\n",
    "\n",
    "### The Hydrogen Challenge\n",
    "\n",
    "Hydrogen is critical for:\n",
    "- **Industrial decarbonization** (ammonia, steel, refining)\n",
    "- **Clean transportation** (fuel cells)\n",
    "- **Energy storage** (power-to-gas)\n",
    "- **Chemical Manufacturing**\n",
    "\n",
    "However, **96% of hydrogen is produced from fossil fuels via steam methane reforming (SMR)**, emitting ~830 million tonnes CO2 annually worldwide.\n",
    "\n",
    "### The Carbon Black Opportunity\n",
    "\n",
    "Acetylene black is a **highly conductive carbon black** used in:\n",
    "- Lithium-ion batteries\n",
    "- Supercapacitors\n",
    "- Advanced electronics\n",
    "- Specialty coatings\n",
    "\n",
    "It commands **2-3x the price** of commodity carbon blacks used in tires.\n",
    "\n",
    "### Our Solution: The Pentacarbon Process\n",
    "\n",
    "**Core Reaction:** CH4 &rarr; C(s) + 2H2\n",
    "\n",
    "Using **microwave-induced plasma at 2000C** we crack methane into:\n",
    "- **Hydrogen gas** (99.9% purity after separation)\n",
    "- **Acetylene black** (premium conductive carbon solid)\n",
    "\n",
    "This process:\n",
    "- Eliminates CO2 emissions  (when using renewable electricity)\n",
    "- Minimizes water consumption (87% less than industry standard SMR)\n",
    "- Produces valuable co-product with climate tech applications\n",
    "- Uses renewable natural gas feedstock that would otherwise contribute to global emissions\n",
    "\n",
    "---\n",
    "\n",
    "## Process Description\n",
    "\n",
    "### Simplified Process Flow\n",
    "\n",
    "<pre>\n",
    "                                                                                            ← Methane Recycle\n",
    "                                                                                                    ↑\n",
    "RNG Feed → Pentacarbon Microwave Reactor → Quench and Compression → Acetylene Absorption → Hydrogen Separation →\n",
    "                                                    ↓                       ↓\n",
    "                                             ← Water Recycle          Conversion to\n",
    "                                                                      Acetylene Black → Solids Processing →\n",
    "</pre>\n",
    "\n",
    "### Process Steps\n",
    "\n",
    "**1. Feed**\n",
    "- **Flow rate:** 1923 kg/hr renewable natural gas\n",
    "- **Composition:** 90.5% CH4, 7.8% CO2, 1.3% N2, trace H2S\n",
    "- **Treatment:** Heat to 38C, compress to 2 bar\n",
    "\n",
    "**2. Microwave Reactor (R1):**\n",
    "- **Temperature:** 2000C (plasma conditions)\n",
    "- **Pressure:** 2.07 bar\n",
    "- **Power Requirement:** 13,400.0 kW\n",
    "- **Conversion:** 90%\n",
    "- **Products:** H2, acetylene (C2H2), ethylene (C2H4), unreacted CH4\n",
    "\n",
    "**Quench and Compression**\n",
    "- Rapid water quench to 114C\n",
    "- Compression to 18.8 bar for absorption\n",
    "\n",
    "**4. Acetylene Absorption**\n",
    "- Acetylene absorbed in water solvent\n",
    "- Separates acetylene-rich stream from H2-rich stream\n",
    "\n",
    "**5. Conversion to Acetylene Black**\n",
    "- **Acetylene-rich stream\n",
    "- **Temperature:** 2000C\n",
    "- **Reaction:** C2H2 &rarr; 2C(s) + H2\n",
    "- **Product:** Acetylene Black (premium carbon black)\n",
    "- Additional hydrogen recovered and recycled\n",
    "\n",
    "**6. Hydrogen Purification**\n",
    "- Pressure Swing Absoroption (PSA)\n",
    "- **Final Purity:** 99.9% H2\n",
    "- **Production:** 393.1 kg/hr\n",
    "\n",
    "**7. Solids Processing**\n",
    "- Solid carbon collected via cyclone\n",
    "- **Grade:** Acetylene Black (premium conductive)\n",
    "- **Production:** 824.6 kg/hr\n",
    "\n",
    "---\n",
    "\n",
    "## Key Process Specifications\n",
    "\n",
    "### Feed Composition (ASPEN Stream: Feed (1))\n",
    "\n",
    "\n",
    "| Component | kg/hr | % by mass |\n",
    "|-----------|-------|-----------|\n",
    "| Methane (CH₄) | 1741.4 | 90.5% |\n",
    "| Carbon Dioxide (CO₂) | 149.3 | 7.8% |\n",
    "| Nitrogen (N₂) | 25.3 | 1.3% |\n",
    "| H₂S (trace) | 0.02 | <0.01% |\n",
    "| **Total** | **1923** | **100%** |\n",
    "\n",
    "### Product Streams (ASPEN Stream: HYDPROD(34), CARBON(28))\n",
    "\n",
    "| Product | kg/hr | tonnes/day | tonnes/year |\n",
    "|---------|-------|------------|-------------|\n",
    "| Hydrogen (99.9%) | 393.1 | 9.43 | 3,100 |\n",
    "| Acetylene Black | 824.6 | 19.79 | 6,500 |\n",
    "\n",
    "### Energy Consumption\n",
    "\n",
    "| Utility | Consumption | Annual Cost |\n",
    "|---------|-------------|-------------|\n",
    "| Electricity (total) | 14,480 kW | $8,365,843 |\n",
    "| Cooling Water | 237,847 L/hr | $51,861 |\n",
    "| Process Water | 252 L/hr | $539 |\n",
    "\n",
    "---\n",
    "\n",
    "## Original Publication\n",
    "\n",
    "**Title:** \"Natural Gas Conversion into Clean Hydrogen and Carbon for Li-Ion Battery Electrodes Using Renewable Energy\"\n",
    "\n",
    "**Authors:** Adam Ritter, Sydney Levine, Skylar Cannon\n",
    "\n",
    "**Advisors:** Dr. Matthew Targett, Dr. Warren Seider\n",
    "\n",
    "**Institution:** University of Pennsylvania, Department of Chemical and Biomolecular Engineering\n",
    "\n",
    "**Year:** 2022\n",
    "\n",
    "**Note:** This analysis uses ASPEN Plus simulation results and economic data from our original design project. The process utilizes Pentacarbon's proprietary microwave plasma process.\n",
    "\n",
    "[Link to thesis](https://repository.upenn.edu/entities/publication/89c4a34b-5df2-4229-b0c5-94324f8dcfd4)\n"
   ]
  },
  {
   "cell_type": "code",
   "execution_count": 103,
   "id": "2d2b0f20",
   "metadata": {},
   "outputs": [
    {
     "name": "stdout",
     "output_type": "stream",
     "text": [
      "✓ Libraries imported successfully\n",
      "✓ Analysis Date: October 2024\n",
      "✓ Based on: Penn CBE Senior Design Project 2022\n",
      "✓ Process: Pentacarbon Microwave Plasma Technology\n"
     ]
    }
   ],
   "source": [
    "import pandas as pd\n",
    "import numpy as np\n",
    "import matplotlib.pyplot as plt\n",
    "import seaborn as sns\n",
    "import plotly.graph_objects as go\n",
    "import plotly.express as px\n",
    "from plotly.subplots import make_subplots\n",
    "import numpy_financial as npf\n",
    "import warnings\n",
    "warnings.filterwarnings(\"ignore\")\n",
    "\n",
    "sns.set_style(\"whitegrid\")\n",
    "plt.rcParams['figure.figsize'] = (12, 6)\n",
    "plt.rcParams['font.size'] = 11\n",
    "\n",
    "print(\"✓ Libraries imported successfully\")\n",
    "print(f\"✓ Analysis Date: October 2024\")\n",
    "print(f\"✓ Based on: Penn CBE Senior Design Project 2022\")\n",
    "print(f\"✓ Process: Pentacarbon Microwave Plasma Technology\")"
   ]
  },
  {
   "cell_type": "code",
   "execution_count": 104,
   "id": "8165cc86",
   "metadata": {},
   "outputs": [
    {
     "name": "stdout",
     "output_type": "stream",
     "text": [
      "================================================================================\n",
      "PROCESS PARAMETERS (from ASPEN Plus Simulation)\n",
      "================================================================================\n"
     ]
    },
    {
     "data": {
      "text/html": [
       "<div>\n",
       "<style scoped>\n",
       "    .dataframe tbody tr th:only-of-type {\n",
       "        vertical-align: middle;\n",
       "    }\n",
       "\n",
       "    .dataframe tbody tr th {\n",
       "        vertical-align: top;\n",
       "    }\n",
       "\n",
       "    .dataframe thead th {\n",
       "        text-align: right;\n",
       "    }\n",
       "</style>\n",
       "<table border=\"1\" class=\"dataframe\">\n",
       "  <thead>\n",
       "    <tr style=\"text-align: right;\">\n",
       "      <th></th>\n",
       "      <th>parameter</th>\n",
       "      <th>value</th>\n",
       "      <th>unit</th>\n",
       "      <th>source</th>\n",
       "      <th>notes</th>\n",
       "    </tr>\n",
       "  </thead>\n",
       "  <tbody>\n",
       "    <tr>\n",
       "      <th>0</th>\n",
       "      <td>methane_feed_rate</td>\n",
       "      <td>1741.40</td>\n",
       "      <td>kg/hr</td>\n",
       "      <td>ASPEN FEED stream</td>\n",
       "      <td>Pure methane in RNG feed</td>\n",
       "    </tr>\n",
       "    <tr>\n",
       "      <th>1</th>\n",
       "      <td>total_rng_feed_rate</td>\n",
       "      <td>1923.00</td>\n",
       "      <td>kg/hr</td>\n",
       "      <td>ASPEN FEED stream</td>\n",
       "      <td>Includes CH4 + CO2 + impurities</td>\n",
       "    </tr>\n",
       "    <tr>\n",
       "      <th>2</th>\n",
       "      <td>hydrogen_production_rate</td>\n",
       "      <td>393.10</td>\n",
       "      <td>kg/hr</td>\n",
       "      <td>ASPEN HYDPROD stream</td>\n",
       "      <td>Purified hydrogen product</td>\n",
       "    </tr>\n",
       "    <tr>\n",
       "      <th>3</th>\n",
       "      <td>acetylene_black_production_rate</td>\n",
       "      <td>824.60</td>\n",
       "      <td>kg/hr</td>\n",
       "      <td>ASPEN CARBON stream</td>\n",
       "      <td>Solid carbon product</td>\n",
       "    </tr>\n",
       "    <tr>\n",
       "      <th>4</th>\n",
       "      <td>hydrogen_annual_production</td>\n",
       "      <td>3099912.00</td>\n",
       "      <td>kg/year</td>\n",
       "      <td>393.1 kg/hr × 330 days × 24 hr/day</td>\n",
       "      <td>Design basis 330 operating days</td>\n",
       "    </tr>\n",
       "    <tr>\n",
       "      <th>5</th>\n",
       "      <td>acetylene_black_annual_production</td>\n",
       "      <td>6498288.00</td>\n",
       "      <td>kg/year</td>\n",
       "      <td>824.6 kg/hr × 330 days × 24 hr/day</td>\n",
       "      <td>Co-product revenue</td>\n",
       "    </tr>\n",
       "    <tr>\n",
       "      <th>6</th>\n",
       "      <td>carbon_conversion_efficiency</td>\n",
       "      <td>90.00</td>\n",
       "      <td>percent</td>\n",
       "      <td>Performance metrics</td>\n",
       "      <td>High yield in reactor</td>\n",
       "    </tr>\n",
       "    <tr>\n",
       "      <th>7</th>\n",
       "      <td>feedstock_utilization</td>\n",
       "      <td>96.20</td>\n",
       "      <td>percent</td>\n",
       "      <td>Performance metrics</td>\n",
       "      <td>High methane conversion</td>\n",
       "    </tr>\n",
       "    <tr>\n",
       "      <th>8</th>\n",
       "      <td>operating_days_per_year</td>\n",
       "      <td>330.00</td>\n",
       "      <td>days/year</td>\n",
       "      <td>Financial analysis</td>\n",
       "      <td>Industry standard</td>\n",
       "    </tr>\n",
       "    <tr>\n",
       "      <th>9</th>\n",
       "      <td>operating_hours_per_year</td>\n",
       "      <td>7920.00</td>\n",
       "      <td>hours/year</td>\n",
       "      <td>330 days × 24 hours</td>\n",
       "      <td>Actual operating time</td>\n",
       "    </tr>\n",
       "    <tr>\n",
       "      <th>10</th>\n",
       "      <td>plant_lifetime</td>\n",
       "      <td>20.00</td>\n",
       "      <td>years</td>\n",
       "      <td>Financial analysis</td>\n",
       "      <td>Economic evaluation basis</td>\n",
       "    </tr>\n",
       "    <tr>\n",
       "      <th>11</th>\n",
       "      <td>plant_capacity_factor</td>\n",
       "      <td>91.70</td>\n",
       "      <td>percent</td>\n",
       "      <td>Performance metrics</td>\n",
       "      <td>High availability</td>\n",
       "    </tr>\n",
       "    <tr>\n",
       "      <th>12</th>\n",
       "      <td>reactor_temperature</td>\n",
       "      <td>2000.00</td>\n",
       "      <td>celsius</td>\n",
       "      <td>ASPEN R1OUT stream</td>\n",
       "      <td>Pentacarbon reactor</td>\n",
       "    </tr>\n",
       "    <tr>\n",
       "      <th>13</th>\n",
       "      <td>reactor_pressure</td>\n",
       "      <td>2.07</td>\n",
       "      <td>bar</td>\n",
       "      <td>ASPEN R1OUT stream</td>\n",
       "      <td>Slightly above atmospheric</td>\n",
       "    </tr>\n",
       "    <tr>\n",
       "      <th>14</th>\n",
       "      <td>total_microwave_power</td>\n",
       "      <td>14480.00</td>\n",
       "      <td>kW</td>\n",
       "      <td>Financial analysis</td>\n",
       "      <td>Reactor + compression + pumps</td>\n",
       "    </tr>\n",
       "    <tr>\n",
       "      <th>15</th>\n",
       "      <td>energy_per_kg_h2</td>\n",
       "      <td>36.80</td>\n",
       "      <td>kWh/kg_H2</td>\n",
       "      <td>Performance metrics</td>\n",
       "      <td>Total electricity consumption</td>\n",
       "    </tr>\n",
       "    <tr>\n",
       "      <th>16</th>\n",
       "      <td>water_per_kg_h2</td>\n",
       "      <td>0.60</td>\n",
       "      <td>kg/kg_H2</td>\n",
       "      <td>Performance metrics</td>\n",
       "      <td>Very low water usage</td>\n",
       "    </tr>\n",
       "    <tr>\n",
       "      <th>17</th>\n",
       "      <td>co2_per_kg_h2</td>\n",
       "      <td>0.12</td>\n",
       "      <td>kg_CO2eq/kg_H2</td>\n",
       "      <td>Financial analysis</td>\n",
       "      <td>From renewable electricity</td>\n",
       "    </tr>\n",
       "  </tbody>\n",
       "</table>\n",
       "</div>"
      ],
      "text/plain": [
       "                            parameter       value            unit  \\\n",
       "0                   methane_feed_rate     1741.40           kg/hr   \n",
       "1                 total_rng_feed_rate     1923.00           kg/hr   \n",
       "2            hydrogen_production_rate      393.10           kg/hr   \n",
       "3     acetylene_black_production_rate      824.60           kg/hr   \n",
       "4          hydrogen_annual_production  3099912.00         kg/year   \n",
       "5   acetylene_black_annual_production  6498288.00         kg/year   \n",
       "6        carbon_conversion_efficiency       90.00         percent   \n",
       "7               feedstock_utilization       96.20         percent   \n",
       "8             operating_days_per_year      330.00       days/year   \n",
       "9            operating_hours_per_year     7920.00      hours/year   \n",
       "10                     plant_lifetime       20.00           years   \n",
       "11              plant_capacity_factor       91.70         percent   \n",
       "12                reactor_temperature     2000.00         celsius   \n",
       "13                   reactor_pressure        2.07             bar   \n",
       "14              total_microwave_power    14480.00              kW   \n",
       "15                   energy_per_kg_h2       36.80       kWh/kg_H2   \n",
       "16                    water_per_kg_h2        0.60        kg/kg_H2   \n",
       "17                      co2_per_kg_h2        0.12  kg_CO2eq/kg_H2   \n",
       "\n",
       "                                source                            notes  \n",
       "0                    ASPEN FEED stream         Pure methane in RNG feed  \n",
       "1                    ASPEN FEED stream  Includes CH4 + CO2 + impurities  \n",
       "2                 ASPEN HYDPROD stream        Purified hydrogen product  \n",
       "3                  ASPEN CARBON stream             Solid carbon product  \n",
       "4   393.1 kg/hr × 330 days × 24 hr/day  Design basis 330 operating days  \n",
       "5   824.6 kg/hr × 330 days × 24 hr/day               Co-product revenue  \n",
       "6                  Performance metrics            High yield in reactor  \n",
       "7                  Performance metrics          High methane conversion  \n",
       "8                   Financial analysis                Industry standard  \n",
       "9                  330 days × 24 hours            Actual operating time  \n",
       "10                  Financial analysis        Economic evaluation basis  \n",
       "11                 Performance metrics                High availability  \n",
       "12                  ASPEN R1OUT stream              Pentacarbon reactor  \n",
       "13                  ASPEN R1OUT stream       Slightly above atmospheric  \n",
       "14                  Financial analysis    Reactor + compression + pumps  \n",
       "15                 Performance metrics    Total electricity consumption  \n",
       "16                 Performance metrics             Very low water usage  \n",
       "17                  Financial analysis       From renewable electricity  "
      ]
     },
     "metadata": {},
     "output_type": "display_data"
    },
    {
     "name": "stdout",
     "output_type": "stream",
     "text": [
      "\n",
      "================================================================================\n",
      "ECONOMIC ASSUMPTIONS (from Financial Analysis)\n",
      "================================================================================\n"
     ]
    },
    {
     "data": {
      "text/html": [
       "<div>\n",
       "<style scoped>\n",
       "    .dataframe tbody tr th:only-of-type {\n",
       "        vertical-align: middle;\n",
       "    }\n",
       "\n",
       "    .dataframe tbody tr th {\n",
       "        vertical-align: top;\n",
       "    }\n",
       "\n",
       "    .dataframe thead th {\n",
       "        text-align: right;\n",
       "    }\n",
       "</style>\n",
       "<table border=\"1\" class=\"dataframe\">\n",
       "  <thead>\n",
       "    <tr style=\"text-align: right;\">\n",
       "      <th></th>\n",
       "      <th>parameter</th>\n",
       "      <th>value</th>\n",
       "      <th>unit</th>\n",
       "      <th>notes</th>\n",
       "      <th>calculation_basis</th>\n",
       "    </tr>\n",
       "  </thead>\n",
       "  <tbody>\n",
       "    <tr>\n",
       "      <th>0</th>\n",
       "      <td>capex_total</td>\n",
       "      <td>4.563007e+07</td>\n",
       "      <td>USD</td>\n",
       "      <td>Total capital investment</td>\n",
       "      <td>Bare module equipment costs 2022 basis</td>\n",
       "    </tr>\n",
       "    <tr>\n",
       "      <th>1</th>\n",
       "      <td>annual_hydrogen_revenue</td>\n",
       "      <td>8.199756e+06</td>\n",
       "      <td>USD</td>\n",
       "      <td>Primary revenue</td>\n",
       "      <td>393.1 kg/hr × 7920 hr/yr × $3.18/kg</td>\n",
       "    </tr>\n",
       "    <tr>\n",
       "      <th>2</th>\n",
       "      <td>annual_acetylene_black_revenue</td>\n",
       "      <td>5.380944e+06</td>\n",
       "      <td>USD</td>\n",
       "      <td>Secondary revenue</td>\n",
       "      <td>824.6 kg/hr × 7920 hr/yr × $2.00/kg</td>\n",
       "    </tr>\n",
       "    <tr>\n",
       "      <th>3</th>\n",
       "      <td>total_annual_revenue</td>\n",
       "      <td>1.358070e+07</td>\n",
       "      <td>USD</td>\n",
       "      <td>Total sales</td>\n",
       "      <td>Sum of product revenues</td>\n",
       "    </tr>\n",
       "    <tr>\n",
       "      <th>4</th>\n",
       "      <td>annual_rng_cost</td>\n",
       "      <td>1.001376e+06</td>\n",
       "      <td>USD</td>\n",
       "      <td>Feedstock cost</td>\n",
       "      <td>1923 kg/hr × 7920 hr/yr × $0.16/kg</td>\n",
       "    </tr>\n",
       "    <tr>\n",
       "      <th>5</th>\n",
       "      <td>annual_electricity_cost</td>\n",
       "      <td>8.365843e+06</td>\n",
       "      <td>USD</td>\n",
       "      <td>Major operating cost</td>\n",
       "      <td>14480 kW × 7920 hr/yr × $0.07/kWh</td>\n",
       "    </tr>\n",
       "    <tr>\n",
       "      <th>6</th>\n",
       "      <td>annual_cooling_water_cost</td>\n",
       "      <td>5.186100e+04</td>\n",
       "      <td>USD</td>\n",
       "      <td>Cooling utilities</td>\n",
       "      <td>237847 L/hr × 7920 hr/yr × $0.027/m³</td>\n",
       "    </tr>\n",
       "    <tr>\n",
       "      <th>7</th>\n",
       "      <td>annual_process_water_cost</td>\n",
       "      <td>5.390000e+02</td>\n",
       "      <td>USD</td>\n",
       "      <td>Process water</td>\n",
       "      <td>252 L/hr × 7920 hr/yr × $0.27/m³</td>\n",
       "    </tr>\n",
       "    <tr>\n",
       "      <th>8</th>\n",
       "      <td>total_annual_variable_costs</td>\n",
       "      <td>9.419619e+06</td>\n",
       "      <td>USD</td>\n",
       "      <td>All variable OpEx</td>\n",
       "      <td>Sum of feedstock + utilities</td>\n",
       "    </tr>\n",
       "    <tr>\n",
       "      <th>9</th>\n",
       "      <td>annual_gross_margin</td>\n",
       "      <td>4.161081e+06</td>\n",
       "      <td>USD</td>\n",
       "      <td>Before fixed costs</td>\n",
       "      <td>Revenue minus variable costs</td>\n",
       "    </tr>\n",
       "    <tr>\n",
       "      <th>10</th>\n",
       "      <td>gross_margin_percent</td>\n",
       "      <td>3.060000e+01</td>\n",
       "      <td>percent</td>\n",
       "      <td>Profitability metric</td>\n",
       "      <td>Healthy for chemical process</td>\n",
       "    </tr>\n",
       "    <tr>\n",
       "      <th>11</th>\n",
       "      <td>rng_price</td>\n",
       "      <td>1.600000e-01</td>\n",
       "      <td>USD/kg</td>\n",
       "      <td>Renewable natural gas</td>\n",
       "      <td>Feedstock price assumption</td>\n",
       "    </tr>\n",
       "    <tr>\n",
       "      <th>12</th>\n",
       "      <td>electricity_price</td>\n",
       "      <td>7.000000e-02</td>\n",
       "      <td>USD/kWh</td>\n",
       "      <td>Industrial rate</td>\n",
       "      <td>Grid electricity assumption</td>\n",
       "    </tr>\n",
       "    <tr>\n",
       "      <th>13</th>\n",
       "      <td>hydrogen_price</td>\n",
       "      <td>3.180000e+00</td>\n",
       "      <td>USD/kg</td>\n",
       "      <td>Wholesale price</td>\n",
       "      <td>Conservative market price</td>\n",
       "    </tr>\n",
       "    <tr>\n",
       "      <th>14</th>\n",
       "      <td>acetylene_black_price</td>\n",
       "      <td>2.000000e+00</td>\n",
       "      <td>USD/kg</td>\n",
       "      <td>Premium carbon black</td>\n",
       "      <td>Conductive grade premium</td>\n",
       "    </tr>\n",
       "    <tr>\n",
       "      <th>15</th>\n",
       "      <td>cooling_water_price</td>\n",
       "      <td>2.700000e-02</td>\n",
       "      <td>USD/m3</td>\n",
       "      <td>Utility cost</td>\n",
       "      <td>Industrial water rate</td>\n",
       "    </tr>\n",
       "    <tr>\n",
       "      <th>16</th>\n",
       "      <td>process_water_price</td>\n",
       "      <td>2.700000e-01</td>\n",
       "      <td>USD/m3</td>\n",
       "      <td>Utility cost</td>\n",
       "      <td>Treated water rate</td>\n",
       "    </tr>\n",
       "    <tr>\n",
       "      <th>17</th>\n",
       "      <td>discount_rate</td>\n",
       "      <td>1.500000e+01</td>\n",
       "      <td>percent</td>\n",
       "      <td>WACC assumption</td>\n",
       "      <td>For NPV calculation</td>\n",
       "    </tr>\n",
       "    <tr>\n",
       "      <th>18</th>\n",
       "      <td>npv_20_year</td>\n",
       "      <td>2.062580e+07</td>\n",
       "      <td>USD</td>\n",
       "      <td>Net present value</td>\n",
       "      <td>At 15% discount rate</td>\n",
       "    </tr>\n",
       "    <tr>\n",
       "      <th>19</th>\n",
       "      <td>irr</td>\n",
       "      <td>8.595000e+01</td>\n",
       "      <td>percent</td>\n",
       "      <td>Internal rate of return</td>\n",
       "      <td>20-year project life</td>\n",
       "    </tr>\n",
       "    <tr>\n",
       "      <th>20</th>\n",
       "      <td>roi_year_3</td>\n",
       "      <td>1.128500e+02</td>\n",
       "      <td>percent</td>\n",
       "      <td>Return on investment</td>\n",
       "      <td>Third production year</td>\n",
       "    </tr>\n",
       "    <tr>\n",
       "      <th>21</th>\n",
       "      <td>payback_period</td>\n",
       "      <td>3.200000e+00</td>\n",
       "      <td>years</td>\n",
       "      <td>Simple payback</td>\n",
       "      <td>Very attractive</td>\n",
       "    </tr>\n",
       "    <tr>\n",
       "      <th>22</th>\n",
       "      <td>lcoh</td>\n",
       "      <td>2.410000e+00</td>\n",
       "      <td>USD/kg_H2</td>\n",
       "      <td>Levelized cost</td>\n",
       "      <td>Total costs per kg hydrogen</td>\n",
       "    </tr>\n",
       "  </tbody>\n",
       "</table>\n",
       "</div>"
      ],
      "text/plain": [
       "                         parameter         value       unit  \\\n",
       "0                      capex_total  4.563007e+07        USD   \n",
       "1          annual_hydrogen_revenue  8.199756e+06        USD   \n",
       "2   annual_acetylene_black_revenue  5.380944e+06        USD   \n",
       "3             total_annual_revenue  1.358070e+07        USD   \n",
       "4                  annual_rng_cost  1.001376e+06        USD   \n",
       "5          annual_electricity_cost  8.365843e+06        USD   \n",
       "6        annual_cooling_water_cost  5.186100e+04        USD   \n",
       "7        annual_process_water_cost  5.390000e+02        USD   \n",
       "8      total_annual_variable_costs  9.419619e+06        USD   \n",
       "9              annual_gross_margin  4.161081e+06        USD   \n",
       "10            gross_margin_percent  3.060000e+01    percent   \n",
       "11                       rng_price  1.600000e-01     USD/kg   \n",
       "12               electricity_price  7.000000e-02    USD/kWh   \n",
       "13                  hydrogen_price  3.180000e+00     USD/kg   \n",
       "14           acetylene_black_price  2.000000e+00     USD/kg   \n",
       "15             cooling_water_price  2.700000e-02     USD/m3   \n",
       "16             process_water_price  2.700000e-01     USD/m3   \n",
       "17                   discount_rate  1.500000e+01    percent   \n",
       "18                     npv_20_year  2.062580e+07        USD   \n",
       "19                             irr  8.595000e+01    percent   \n",
       "20                      roi_year_3  1.128500e+02    percent   \n",
       "21                  payback_period  3.200000e+00      years   \n",
       "22                            lcoh  2.410000e+00  USD/kg_H2   \n",
       "\n",
       "                       notes                       calculation_basis  \n",
       "0   Total capital investment  Bare module equipment costs 2022 basis  \n",
       "1            Primary revenue     393.1 kg/hr × 7920 hr/yr × $3.18/kg  \n",
       "2          Secondary revenue     824.6 kg/hr × 7920 hr/yr × $2.00/kg  \n",
       "3                Total sales                 Sum of product revenues  \n",
       "4             Feedstock cost      1923 kg/hr × 7920 hr/yr × $0.16/kg  \n",
       "5       Major operating cost       14480 kW × 7920 hr/yr × $0.07/kWh  \n",
       "6          Cooling utilities    237847 L/hr × 7920 hr/yr × $0.027/m³  \n",
       "7              Process water        252 L/hr × 7920 hr/yr × $0.27/m³  \n",
       "8          All variable OpEx            Sum of feedstock + utilities  \n",
       "9         Before fixed costs            Revenue minus variable costs  \n",
       "10      Profitability metric            Healthy for chemical process  \n",
       "11     Renewable natural gas              Feedstock price assumption  \n",
       "12           Industrial rate             Grid electricity assumption  \n",
       "13           Wholesale price               Conservative market price  \n",
       "14      Premium carbon black                Conductive grade premium  \n",
       "15              Utility cost                   Industrial water rate  \n",
       "16              Utility cost                      Treated water rate  \n",
       "17           WACC assumption                     For NPV calculation  \n",
       "18         Net present value                    At 15% discount rate  \n",
       "19   Internal rate of return                    20-year project life  \n",
       "20      Return on investment                   Third production year  \n",
       "21            Simple payback                         Very attractive  \n",
       "22            Levelized cost             Total costs per kg hydrogen  "
      ]
     },
     "metadata": {},
     "output_type": "display_data"
    },
    {
     "name": "stdout",
     "output_type": "stream",
     "text": [
      "\n",
      "================================================================================\n",
      "SENSITIVITY ANALYSIS RANGES\n",
      "================================================================================\n"
     ]
    },
    {
     "data": {
      "text/html": [
       "<div>\n",
       "<style scoped>\n",
       "    .dataframe tbody tr th:only-of-type {\n",
       "        vertical-align: middle;\n",
       "    }\n",
       "\n",
       "    .dataframe tbody tr th {\n",
       "        vertical-align: top;\n",
       "    }\n",
       "\n",
       "    .dataframe thead th {\n",
       "        text-align: right;\n",
       "    }\n",
       "</style>\n",
       "<table border=\"1\" class=\"dataframe\">\n",
       "  <thead>\n",
       "    <tr style=\"text-align: right;\">\n",
       "      <th></th>\n",
       "      <th>parameter</th>\n",
       "      <th>base_value</th>\n",
       "      <th>low_value</th>\n",
       "      <th>high_value</th>\n",
       "      <th>unit</th>\n",
       "      <th>notes</th>\n",
       "    </tr>\n",
       "  </thead>\n",
       "  <tbody>\n",
       "    <tr>\n",
       "      <th>0</th>\n",
       "      <td>electricity_price</td>\n",
       "      <td>0.07</td>\n",
       "      <td>0.05</td>\n",
       "      <td>0.12</td>\n",
       "      <td>USD/kWh</td>\n",
       "      <td>Regional variation ±40%</td>\n",
       "    </tr>\n",
       "    <tr>\n",
       "      <th>1</th>\n",
       "      <td>hydrogen_price</td>\n",
       "      <td>3.18</td>\n",
       "      <td>2.00</td>\n",
       "      <td>5.00</td>\n",
       "      <td>USD/kg</td>\n",
       "      <td>Market volatility scenarios</td>\n",
       "    </tr>\n",
       "    <tr>\n",
       "      <th>2</th>\n",
       "      <td>acetylene_black_price</td>\n",
       "      <td>2.00</td>\n",
       "      <td>1.00</td>\n",
       "      <td>3.00</td>\n",
       "      <td>USD/kg</td>\n",
       "      <td>Grade and market dependent</td>\n",
       "    </tr>\n",
       "    <tr>\n",
       "      <th>3</th>\n",
       "      <td>rng_price</td>\n",
       "      <td>0.16</td>\n",
       "      <td>0.10</td>\n",
       "      <td>0.25</td>\n",
       "      <td>USD/kg</td>\n",
       "      <td>Feedstock cost variation</td>\n",
       "    </tr>\n",
       "    <tr>\n",
       "      <th>4</th>\n",
       "      <td>capex_total</td>\n",
       "      <td>45630071.00</td>\n",
       "      <td>36504057.00</td>\n",
       "      <td>54756085.00</td>\n",
       "      <td>USD</td>\n",
       "      <td>±20% contingency</td>\n",
       "    </tr>\n",
       "    <tr>\n",
       "      <th>5</th>\n",
       "      <td>carbon_conversion</td>\n",
       "      <td>90.00</td>\n",
       "      <td>85.00</td>\n",
       "      <td>95.00</td>\n",
       "      <td>percent</td>\n",
       "      <td>Process performance range</td>\n",
       "    </tr>\n",
       "    <tr>\n",
       "      <th>6</th>\n",
       "      <td>capacity_factor</td>\n",
       "      <td>91.70</td>\n",
       "      <td>85.00</td>\n",
       "      <td>95.00</td>\n",
       "      <td>percent</td>\n",
       "      <td>Operational reliability</td>\n",
       "    </tr>\n",
       "    <tr>\n",
       "      <th>7</th>\n",
       "      <td>discount_rate</td>\n",
       "      <td>15.00</td>\n",
       "      <td>10.00</td>\n",
       "      <td>20.00</td>\n",
       "      <td>percent</td>\n",
       "      <td>Financial assumption range</td>\n",
       "    </tr>\n",
       "  </tbody>\n",
       "</table>\n",
       "</div>"
      ],
      "text/plain": [
       "               parameter   base_value    low_value   high_value     unit  \\\n",
       "0      electricity_price         0.07         0.05         0.12  USD/kWh   \n",
       "1         hydrogen_price         3.18         2.00         5.00   USD/kg   \n",
       "2  acetylene_black_price         2.00         1.00         3.00   USD/kg   \n",
       "3              rng_price         0.16         0.10         0.25   USD/kg   \n",
       "4            capex_total  45630071.00  36504057.00  54756085.00      USD   \n",
       "5      carbon_conversion        90.00        85.00        95.00  percent   \n",
       "6        capacity_factor        91.70        85.00        95.00  percent   \n",
       "7          discount_rate        15.00        10.00        20.00  percent   \n",
       "\n",
       "                         notes  \n",
       "0      Regional variation ±40%  \n",
       "1  Market volatility scenarios  \n",
       "2   Grade and market dependent  \n",
       "3     Feedstock cost variation  \n",
       "4             ±20% contingency  \n",
       "5    Process performance range  \n",
       "6      Operational reliability  \n",
       "7   Financial assumption range  "
      ]
     },
     "metadata": {},
     "output_type": "display_data"
    }
   ],
   "source": [
    "# load process and economic data\n",
    "process_params = pd.read_csv('data/process_parameters.csv')\n",
    "econ_assumptions = pd.read_csv('data/economic_assumptions.csv')\n",
    "sensitivity_ranges = pd.read_csv('data/sensitivity_ranges.csv')\n",
    "\n",
    "print(\"=\"*80)\n",
    "print(\"PROCESS PARAMETERS (from ASPEN Plus Simulation)\")\n",
    "print(\"=\"*80)\n",
    "display(process_params)\n",
    "\n",
    "print(\"\\n\" + \"=\"*80)\n",
    "print(\"ECONOMIC ASSUMPTIONS (from Financial Analysis)\")\n",
    "print(\"=\"*80)\n",
    "display(econ_assumptions)\n",
    "\n",
    "print(\"\\n\" + \"=\"*80)\n",
    "print(\"SENSITIVITY ANALYSIS RANGES\")\n",
    "print(\"=\"*80)\n",
    "display(sensitivity_ranges)"
   ]
  },
  {
   "cell_type": "code",
   "execution_count": null,
   "id": "fde48952",
   "metadata": {},
   "outputs": [
    {
     "name": "stdout",
     "output_type": "stream",
     "text": [
      "================================================================================\n",
      "KEY PERFORMANCE METRICS\n",
      "================================================================================\n",
      "\n",
      "📊 PRODUCTION CAPACITY:\n",
      "   Hydrogen: 393.1 kg/hr = 3,099.9 tonnes/year\n",
      "   Acetylene Black: 824.6 kg/hr = 6,498.3 tonnes/year\n",
      "   Capacity Factor: 91.7%\n",
      "   Operating Hours: 7,920 hrs/year\n",
      "\n",
      "💰 FINANCIAL PERFORMANCE:\n",
      "   Total CapEx: $45.63 million\n",
      "   Annual Revenue: $13.58 million\n",
      "   Annual Variable Costs: $9.42 million\n",
      "   Gross Margin: $4.16 million (30.6%)\n",
      "   NPV (20 yr, 15%): $20.63 million\n",
      "   IRR: 85.95%\n",
      "   Payback: 3.2 years\n",
      "   LCOH: $2.41/kg H₂\n",
      "\n",
      "💵 MARKET PRICES:\n",
      "   Hydrogen: $3.18/kg (wholesale)\n",
      "   Acetylene Black: $2.0/kg (premium grade)\n",
      "   Electricity: $0.07/kWh\n",
      "   RNG Feedstock: $0.16/kg\n",
      "\n",
      "🌍 ENVIRONMENTAL:\n",
      "   CO₂ Intensity: 0.12 kg CO₂eq/kg H₂\n",
      "   Water Intensity: 0.6 kg H₂O/kg H₂\n",
      "   Energy Intensity: 36.8 kWh/kg H₂\n",
      "\n",
      "📈 REVENUE MIX:\n",
      "   Hydrogen: 60.4% ($8.20M)\n",
      "   Acetylene Black: 39.6% ($5.38M)\n"
     ]
    }
   ],
   "source": [
    "# function to extract specific values\n",
    "def get_param(df, param_name):\n",
    "    return df[df['parameter'] == param_name]['value'].values[0]\n",
    "\n",
    "# process parameters\n",
    "h2_rate = get_param(process_params, 'hydrogen_production_rate')  # kg/hr\n",
    "cb_rate = get_param(process_params, 'acetylene_black_production_rate')  # kg/hr\n",
    "h2_annual = get_param(process_params, 'hydrogen_annual_production')  # kg/year\n",
    "cb_annual = get_param(process_params, 'acetylene_black_annual_production')  # kg/year\n",
    "operating_hours = get_param(process_params, 'operating_hours_per_year')\n",
    "plant_lifetime = get_param(process_params, 'plant_lifetime')\n",
    "capacity_factor = get_param(process_params, 'plant_capacity_factor') / 100\n",
    "energy_per_kg_h2 = get_param(process_params, 'energy_per_kg_h2')\n",
    "co2_per_kg_h2 = get_param(process_params, 'co2_per_kg_h2')\n",
    "water_per_kg_h2 = get_param(process_params, 'water_per_kg_h2')\n",
    "\n",
    "# economic parameters\n",
    "capex = get_param(econ_assumptions, 'capex_total')\n",
    "h2_revenue = get_param(econ_assumptions, 'annual_hydrogen_revenue')\n",
    "cb_revenue = get_param(econ_assumptions, 'annual_acetylene_black_revenue')\n",
    "total_revenue = get_param(econ_assumptions, 'total_annual_revenue')\n",
    "variable_costs = get_param(econ_assumptions, 'total_annual_variable_costs')\n",
    "gross_margin = get_param(econ_assumptions, 'annual_gross_margin')\n",
    "npv = get_param(econ_assumptions, 'npv_20_year')\n",
    "irr = get_param(econ_assumptions, 'irr')\n",
    "payback = get_param(econ_assumptions, 'payback_period')\n",
    "lcoh = get_param(econ_assumptions, 'lcoh')\n",
    "\n",
    "# prices\n",
    "h2_price = get_param(econ_assumptions, 'hydrogen_price')\n",
    "cb_price = get_param(econ_assumptions, 'acetylene_black_price')\n",
    "electricity_price = get_param(econ_assumptions, 'electricity_price')\n",
    "rng_price = get_param(econ_assumptions, 'rng_price')\n",
    "discount_rate = get_param(econ_assumptions, 'discount_rate') / 100\n",
    "\n",
    "print(\"=\"*80)\n",
    "print(\"KEY PERFORMANCE METRICS\")\n",
    "print(\"=\"*80)\n",
    "\n",
    "print(f\"\\n📊 PRODUCTION CAPACITY:\")\n",
    "print(f\"   Hydrogen: {h2_rate:,.1f} kg/hr = {h2_annual/1000:,.1f} tonnes/year\")\n",
    "print(f\"   Acetylene Black: {cb_rate:,.1f} kg/hr = {cb_annual/1000:,.1f} tonnes/year\")\n",
    "print(f\"   Capacity Factor: {capacity_factor*100:.1f}%\")\n",
    "print(f\"   Operating Hours: {operating_hours:,.0f} hrs/year\")\n",
    "\n",
    "print(f\"\\n💰 FINANCIAL PERFORMANCE:\")\n",
    "print(f\"   Total CapEx: ${capex/1e6:.2f} million\")\n",
    "print(f\"   Annual Revenue: ${total_revenue/1e6:.2f} million\")\n",
    "print(f\"   Annual Variable Costs: ${variable_costs/1e6:.2f} million\")\n",
    "print(f\"   Gross Margin: ${gross_margin/1e6:.2f} million ({gross_margin/total_revenue*100:.1f}%)\")\n",
    "print(f\"   NPV (20 yr, 15%): ${npv/1e6:.2f} million\")\n",
    "print(f\"   IRR: {irr:.2f}%\")\n",
    "print(f\"   Payback: {payback:.1f} years\")\n",
    "print(f\"   LCOH: ${lcoh:.2f}/kg H₂\")\n",
    "\n",
    "print(f\"\\n💵 MARKET PRICES:\")\n",
    "print(f\"   Hydrogen: ${h2_price}/kg (wholesale)\")\n",
    "print(f\"   Acetylene Black: ${cb_price}/kg (premium grade)\")\n",
    "print(f\"   Electricity: ${electricity_price}/kWh\")\n",
    "print(f\"   RNG Feedstock: ${rng_price}/kg\")\n",
    "\n",
    "print(f\"\\n🌍 ENVIRONMENTAL:\")\n",
    "print(f\"   CO₂ Intensity: {co2_per_kg_h2} kg CO₂eq/kg H₂\")\n",
    "print(f\"   Water Intensity: {water_per_kg_h2} kg H₂O/kg H₂\")\n",
    "print(f\"   Energy Intensity: {energy_per_kg_h2} kWh/kg H₂\")\n",
    "\n",
    "# revenue breakdown\n",
    "h2_revenue_pct = h2_revenue / total_revenue * 100\n",
    "cb_revenue_pct = cb_revenue / total_revenue * 100\n",
    "print(f\"\\n📈 REVENUE MIX:\")\n",
    "print(f\"   Hydrogen: {h2_revenue_pct:.1f}% (${h2_revenue/1e6:.2f}M)\")\n",
    "print(f\"   Acetylene Black: {cb_revenue_pct:.1f}% (${cb_revenue/1e6:.2f}M)\")"
   ]
  },
  {
   "cell_type": "code",
   "execution_count": 106,
   "id": "5f286800",
   "metadata": {},
   "outputs": [
    {
     "data": {
      "application/vnd.plotly.v1+json": {
       "config": {
        "plotlyServerURL": "https://plot.ly"
       },
       "data": [
        {
         "marker": {
          "color": [
           "#3498db",
           "#95a5a6"
          ]
         },
         "showlegend": false,
         "text": [
          "$8.20M",
          "$5.38M"
         ],
         "textposition": "outside",
         "type": "bar",
         "x": [
          "Hydrogen",
          "Acetylene Black"
         ],
         "xaxis": "x",
         "y": {
          "bdata": "AAAAAJNHX0EAAAAA1IZUQQ==",
          "dtype": "f8"
         },
         "yaxis": "y"
        },
        {
         "domain": {
          "x": [
           0.55,
           1
          ],
          "y": [
           0,
           1
          ]
         },
         "labels": [
          "Hydrogen",
          "Acetylene Black"
         ],
         "marker": {
          "colors": [
           "#3498db",
           "#95a5a6"
          ]
         },
         "showlegend": false,
         "textinfo": "label+percent",
         "type": "pie",
         "values": {
          "bdata": "AAAAAJNHX0EAAAAA1IZUQQ==",
          "dtype": "f8"
         }
        }
       ],
       "layout": {
        "annotations": [
         {
          "font": {
           "size": 16
          },
          "showarrow": false,
          "text": "Annual Revenue by Product",
          "x": 0.225,
          "xanchor": "center",
          "xref": "paper",
          "y": 1,
          "yanchor": "bottom",
          "yref": "paper"
         },
         {
          "font": {
           "size": 16
          },
          "showarrow": false,
          "text": "Revenue Mix",
          "x": 0.775,
          "xanchor": "center",
          "xref": "paper",
          "y": 1,
          "yanchor": "bottom",
          "yref": "paper"
         }
        ],
        "height": 400,
        "showlegend": false,
        "template": {
         "data": {
          "bar": [
           {
            "error_x": {
             "color": "#2a3f5f"
            },
            "error_y": {
             "color": "#2a3f5f"
            },
            "marker": {
             "line": {
              "color": "#E5ECF6",
              "width": 0.5
             },
             "pattern": {
              "fillmode": "overlay",
              "size": 10,
              "solidity": 0.2
             }
            },
            "type": "bar"
           }
          ],
          "barpolar": [
           {
            "marker": {
             "line": {
              "color": "#E5ECF6",
              "width": 0.5
             },
             "pattern": {
              "fillmode": "overlay",
              "size": 10,
              "solidity": 0.2
             }
            },
            "type": "barpolar"
           }
          ],
          "carpet": [
           {
            "aaxis": {
             "endlinecolor": "#2a3f5f",
             "gridcolor": "white",
             "linecolor": "white",
             "minorgridcolor": "white",
             "startlinecolor": "#2a3f5f"
            },
            "baxis": {
             "endlinecolor": "#2a3f5f",
             "gridcolor": "white",
             "linecolor": "white",
             "minorgridcolor": "white",
             "startlinecolor": "#2a3f5f"
            },
            "type": "carpet"
           }
          ],
          "choropleth": [
           {
            "colorbar": {
             "outlinewidth": 0,
             "ticks": ""
            },
            "type": "choropleth"
           }
          ],
          "contour": [
           {
            "colorbar": {
             "outlinewidth": 0,
             "ticks": ""
            },
            "colorscale": [
             [
              0,
              "#0d0887"
             ],
             [
              0.1111111111111111,
              "#46039f"
             ],
             [
              0.2222222222222222,
              "#7201a8"
             ],
             [
              0.3333333333333333,
              "#9c179e"
             ],
             [
              0.4444444444444444,
              "#bd3786"
             ],
             [
              0.5555555555555556,
              "#d8576b"
             ],
             [
              0.6666666666666666,
              "#ed7953"
             ],
             [
              0.7777777777777778,
              "#fb9f3a"
             ],
             [
              0.8888888888888888,
              "#fdca26"
             ],
             [
              1,
              "#f0f921"
             ]
            ],
            "type": "contour"
           }
          ],
          "contourcarpet": [
           {
            "colorbar": {
             "outlinewidth": 0,
             "ticks": ""
            },
            "type": "contourcarpet"
           }
          ],
          "heatmap": [
           {
            "colorbar": {
             "outlinewidth": 0,
             "ticks": ""
            },
            "colorscale": [
             [
              0,
              "#0d0887"
             ],
             [
              0.1111111111111111,
              "#46039f"
             ],
             [
              0.2222222222222222,
              "#7201a8"
             ],
             [
              0.3333333333333333,
              "#9c179e"
             ],
             [
              0.4444444444444444,
              "#bd3786"
             ],
             [
              0.5555555555555556,
              "#d8576b"
             ],
             [
              0.6666666666666666,
              "#ed7953"
             ],
             [
              0.7777777777777778,
              "#fb9f3a"
             ],
             [
              0.8888888888888888,
              "#fdca26"
             ],
             [
              1,
              "#f0f921"
             ]
            ],
            "type": "heatmap"
           }
          ],
          "histogram": [
           {
            "marker": {
             "pattern": {
              "fillmode": "overlay",
              "size": 10,
              "solidity": 0.2
             }
            },
            "type": "histogram"
           }
          ],
          "histogram2d": [
           {
            "colorbar": {
             "outlinewidth": 0,
             "ticks": ""
            },
            "colorscale": [
             [
              0,
              "#0d0887"
             ],
             [
              0.1111111111111111,
              "#46039f"
             ],
             [
              0.2222222222222222,
              "#7201a8"
             ],
             [
              0.3333333333333333,
              "#9c179e"
             ],
             [
              0.4444444444444444,
              "#bd3786"
             ],
             [
              0.5555555555555556,
              "#d8576b"
             ],
             [
              0.6666666666666666,
              "#ed7953"
             ],
             [
              0.7777777777777778,
              "#fb9f3a"
             ],
             [
              0.8888888888888888,
              "#fdca26"
             ],
             [
              1,
              "#f0f921"
             ]
            ],
            "type": "histogram2d"
           }
          ],
          "histogram2dcontour": [
           {
            "colorbar": {
             "outlinewidth": 0,
             "ticks": ""
            },
            "colorscale": [
             [
              0,
              "#0d0887"
             ],
             [
              0.1111111111111111,
              "#46039f"
             ],
             [
              0.2222222222222222,
              "#7201a8"
             ],
             [
              0.3333333333333333,
              "#9c179e"
             ],
             [
              0.4444444444444444,
              "#bd3786"
             ],
             [
              0.5555555555555556,
              "#d8576b"
             ],
             [
              0.6666666666666666,
              "#ed7953"
             ],
             [
              0.7777777777777778,
              "#fb9f3a"
             ],
             [
              0.8888888888888888,
              "#fdca26"
             ],
             [
              1,
              "#f0f921"
             ]
            ],
            "type": "histogram2dcontour"
           }
          ],
          "mesh3d": [
           {
            "colorbar": {
             "outlinewidth": 0,
             "ticks": ""
            },
            "type": "mesh3d"
           }
          ],
          "parcoords": [
           {
            "line": {
             "colorbar": {
              "outlinewidth": 0,
              "ticks": ""
             }
            },
            "type": "parcoords"
           }
          ],
          "pie": [
           {
            "automargin": true,
            "type": "pie"
           }
          ],
          "scatter": [
           {
            "fillpattern": {
             "fillmode": "overlay",
             "size": 10,
             "solidity": 0.2
            },
            "type": "scatter"
           }
          ],
          "scatter3d": [
           {
            "line": {
             "colorbar": {
              "outlinewidth": 0,
              "ticks": ""
             }
            },
            "marker": {
             "colorbar": {
              "outlinewidth": 0,
              "ticks": ""
             }
            },
            "type": "scatter3d"
           }
          ],
          "scattercarpet": [
           {
            "marker": {
             "colorbar": {
              "outlinewidth": 0,
              "ticks": ""
             }
            },
            "type": "scattercarpet"
           }
          ],
          "scattergeo": [
           {
            "marker": {
             "colorbar": {
              "outlinewidth": 0,
              "ticks": ""
             }
            },
            "type": "scattergeo"
           }
          ],
          "scattergl": [
           {
            "marker": {
             "colorbar": {
              "outlinewidth": 0,
              "ticks": ""
             }
            },
            "type": "scattergl"
           }
          ],
          "scattermap": [
           {
            "marker": {
             "colorbar": {
              "outlinewidth": 0,
              "ticks": ""
             }
            },
            "type": "scattermap"
           }
          ],
          "scattermapbox": [
           {
            "marker": {
             "colorbar": {
              "outlinewidth": 0,
              "ticks": ""
             }
            },
            "type": "scattermapbox"
           }
          ],
          "scatterpolar": [
           {
            "marker": {
             "colorbar": {
              "outlinewidth": 0,
              "ticks": ""
             }
            },
            "type": "scatterpolar"
           }
          ],
          "scatterpolargl": [
           {
            "marker": {
             "colorbar": {
              "outlinewidth": 0,
              "ticks": ""
             }
            },
            "type": "scatterpolargl"
           }
          ],
          "scatterternary": [
           {
            "marker": {
             "colorbar": {
              "outlinewidth": 0,
              "ticks": ""
             }
            },
            "type": "scatterternary"
           }
          ],
          "surface": [
           {
            "colorbar": {
             "outlinewidth": 0,
             "ticks": ""
            },
            "colorscale": [
             [
              0,
              "#0d0887"
             ],
             [
              0.1111111111111111,
              "#46039f"
             ],
             [
              0.2222222222222222,
              "#7201a8"
             ],
             [
              0.3333333333333333,
              "#9c179e"
             ],
             [
              0.4444444444444444,
              "#bd3786"
             ],
             [
              0.5555555555555556,
              "#d8576b"
             ],
             [
              0.6666666666666666,
              "#ed7953"
             ],
             [
              0.7777777777777778,
              "#fb9f3a"
             ],
             [
              0.8888888888888888,
              "#fdca26"
             ],
             [
              1,
              "#f0f921"
             ]
            ],
            "type": "surface"
           }
          ],
          "table": [
           {
            "cells": {
             "fill": {
              "color": "#EBF0F8"
             },
             "line": {
              "color": "white"
             }
            },
            "header": {
             "fill": {
              "color": "#C8D4E3"
             },
             "line": {
              "color": "white"
             }
            },
            "type": "table"
           }
          ]
         },
         "layout": {
          "annotationdefaults": {
           "arrowcolor": "#2a3f5f",
           "arrowhead": 0,
           "arrowwidth": 1
          },
          "autotypenumbers": "strict",
          "coloraxis": {
           "colorbar": {
            "outlinewidth": 0,
            "ticks": ""
           }
          },
          "colorscale": {
           "diverging": [
            [
             0,
             "#8e0152"
            ],
            [
             0.1,
             "#c51b7d"
            ],
            [
             0.2,
             "#de77ae"
            ],
            [
             0.3,
             "#f1b6da"
            ],
            [
             0.4,
             "#fde0ef"
            ],
            [
             0.5,
             "#f7f7f7"
            ],
            [
             0.6,
             "#e6f5d0"
            ],
            [
             0.7,
             "#b8e186"
            ],
            [
             0.8,
             "#7fbc41"
            ],
            [
             0.9,
             "#4d9221"
            ],
            [
             1,
             "#276419"
            ]
           ],
           "sequential": [
            [
             0,
             "#0d0887"
            ],
            [
             0.1111111111111111,
             "#46039f"
            ],
            [
             0.2222222222222222,
             "#7201a8"
            ],
            [
             0.3333333333333333,
             "#9c179e"
            ],
            [
             0.4444444444444444,
             "#bd3786"
            ],
            [
             0.5555555555555556,
             "#d8576b"
            ],
            [
             0.6666666666666666,
             "#ed7953"
            ],
            [
             0.7777777777777778,
             "#fb9f3a"
            ],
            [
             0.8888888888888888,
             "#fdca26"
            ],
            [
             1,
             "#f0f921"
            ]
           ],
           "sequentialminus": [
            [
             0,
             "#0d0887"
            ],
            [
             0.1111111111111111,
             "#46039f"
            ],
            [
             0.2222222222222222,
             "#7201a8"
            ],
            [
             0.3333333333333333,
             "#9c179e"
            ],
            [
             0.4444444444444444,
             "#bd3786"
            ],
            [
             0.5555555555555556,
             "#d8576b"
            ],
            [
             0.6666666666666666,
             "#ed7953"
            ],
            [
             0.7777777777777778,
             "#fb9f3a"
            ],
            [
             0.8888888888888888,
             "#fdca26"
            ],
            [
             1,
             "#f0f921"
            ]
           ]
          },
          "colorway": [
           "#636efa",
           "#EF553B",
           "#00cc96",
           "#ab63fa",
           "#FFA15A",
           "#19d3f3",
           "#FF6692",
           "#B6E880",
           "#FF97FF",
           "#FECB52"
          ],
          "font": {
           "color": "#2a3f5f"
          },
          "geo": {
           "bgcolor": "white",
           "lakecolor": "white",
           "landcolor": "#E5ECF6",
           "showlakes": true,
           "showland": true,
           "subunitcolor": "white"
          },
          "hoverlabel": {
           "align": "left"
          },
          "hovermode": "closest",
          "mapbox": {
           "style": "light"
          },
          "paper_bgcolor": "white",
          "plot_bgcolor": "#E5ECF6",
          "polar": {
           "angularaxis": {
            "gridcolor": "white",
            "linecolor": "white",
            "ticks": ""
           },
           "bgcolor": "#E5ECF6",
           "radialaxis": {
            "gridcolor": "white",
            "linecolor": "white",
            "ticks": ""
           }
          },
          "scene": {
           "xaxis": {
            "backgroundcolor": "#E5ECF6",
            "gridcolor": "white",
            "gridwidth": 2,
            "linecolor": "white",
            "showbackground": true,
            "ticks": "",
            "zerolinecolor": "white"
           },
           "yaxis": {
            "backgroundcolor": "#E5ECF6",
            "gridcolor": "white",
            "gridwidth": 2,
            "linecolor": "white",
            "showbackground": true,
            "ticks": "",
            "zerolinecolor": "white"
           },
           "zaxis": {
            "backgroundcolor": "#E5ECF6",
            "gridcolor": "white",
            "gridwidth": 2,
            "linecolor": "white",
            "showbackground": true,
            "ticks": "",
            "zerolinecolor": "white"
           }
          },
          "shapedefaults": {
           "line": {
            "color": "#2a3f5f"
           }
          },
          "ternary": {
           "aaxis": {
            "gridcolor": "white",
            "linecolor": "white",
            "ticks": ""
           },
           "baxis": {
            "gridcolor": "white",
            "linecolor": "white",
            "ticks": ""
           },
           "bgcolor": "#E5ECF6",
           "caxis": {
            "gridcolor": "white",
            "linecolor": "white",
            "ticks": ""
           }
          },
          "title": {
           "x": 0.05
          },
          "xaxis": {
           "automargin": true,
           "gridcolor": "white",
           "linecolor": "white",
           "ticks": "",
           "title": {
            "standoff": 15
           },
           "zerolinecolor": "white",
           "zerolinewidth": 2
          },
          "yaxis": {
           "automargin": true,
           "gridcolor": "white",
           "linecolor": "white",
           "ticks": "",
           "title": {
            "standoff": 15
           },
           "zerolinecolor": "white",
           "zerolinewidth": 2
          }
         }
        },
        "title": {
         "text": "Revenue Analysis"
        },
        "xaxis": {
         "anchor": "y",
         "domain": [
          0,
          0.45
         ],
         "title": {
          "text": "Product"
         }
        },
        "yaxis": {
         "anchor": "x",
         "domain": [
          0,
          1
         ],
         "title": {
          "text": "Annual Revenue (USD)"
         }
        }
       }
      }
     },
     "metadata": {},
     "output_type": "display_data"
    },
    {
     "name": "stdout",
     "output_type": "stream",
     "text": [
      "\n",
      "💡 Key Insight:\n",
      "   Acetylene black provides 39.6% of revenue despite being\n",
      "   a 'co-product'. This premium carbon black is critical to project economics.\n"
     ]
    }
   ],
   "source": [
    "# Revenue breakdown\n",
    "revenue_data = pd.DataFrame({\n",
    "    'Product': ['Hydrogen', 'Acetylene Black'],\n",
    "    'Annual Revenue': [h2_revenue, cb_revenue],\n",
    "    'Revenue %': [h2_revenue_pct, cb_revenue_pct]\n",
    "})\n",
    "\n",
    "fig = make_subplots(\n",
    "    rows=1, cols=2,\n",
    "    subplot_titles=('Annual Revenue by Product', 'Revenue Mix'),\n",
    "    specs=[[{'type': 'bar'}, {'type': 'pie'}]]\n",
    ")\n",
    "\n",
    "# Bar chart\n",
    "fig.add_trace(\n",
    "    go.Bar(\n",
    "        x=revenue_data['Product'],\n",
    "        y=revenue_data['Annual Revenue'],\n",
    "        text=[f'${x/1e6:.2f}M' for x in revenue_data['Annual Revenue']],\n",
    "        textposition='outside',\n",
    "        marker_color=['#3498db', '#95a5a6'],\n",
    "        showlegend=False\n",
    "    ),\n",
    "    row=1, col=1\n",
    ")\n",
    "\n",
    "# Pie chart\n",
    "fig.add_trace(\n",
    "    go.Pie(\n",
    "        labels=revenue_data['Product'],\n",
    "        values=revenue_data['Annual Revenue'],\n",
    "        marker_colors=['#3498db', '#95a5a6'],\n",
    "        textinfo='label+percent',\n",
    "        showlegend=False\n",
    "    ),\n",
    "    row=1, col=2\n",
    ")\n",
    "\n",
    "fig.update_xaxes(title_text=\"Product\", row=1, col=1)\n",
    "fig.update_yaxes(title_text=\"Annual Revenue (USD)\", row=1, col=1)\n",
    "fig.update_layout(height=400, showlegend=False, title_text=\"Revenue Analysis\")\n",
    "\n",
    "fig.show()\n",
    "\n",
    "print(f\"\\n💡 Key Insight:\")\n",
    "print(f\"   Acetylene black provides {cb_revenue_pct:.1f}% of revenue despite being\")\n",
    "print(f\"   a 'co-product'. This premium carbon black is critical to project economics.\")"
   ]
  },
  {
   "cell_type": "code",
   "execution_count": 107,
   "id": "ffca3b86",
   "metadata": {},
   "outputs": [
    {
     "data": {
      "application/vnd.plotly.v1+json": {
       "config": {
        "plotlyServerURL": "https://plot.ly"
       },
       "data": [
        {
         "marker": {
          "color": {
           "bdata": "AAAAAADYgEAAAAAAoFLpQAAAAABAjy5BAAAAwMTpX0E=",
           "dtype": "f8"
          },
          "colorscale": [
           [
            0,
            "rgb(255,245,240)"
           ],
           [
            0.125,
            "rgb(254,224,210)"
           ],
           [
            0.25,
            "rgb(252,187,161)"
           ],
           [
            0.375,
            "rgb(252,146,114)"
           ],
           [
            0.5,
            "rgb(251,106,74)"
           ],
           [
            0.625,
            "rgb(239,59,44)"
           ],
           [
            0.75,
            "rgb(203,24,29)"
           ],
           [
            0.875,
            "rgb(165,15,21)"
           ],
           [
            1,
            "rgb(103,0,13)"
           ]
          ],
          "showscale": false
         },
         "orientation": "h",
         "text": [
          "$0.00M (0.0%)",
          "$0.05M (0.6%)",
          "$1.00M (10.6%)",
          "$8.37M (88.8%)"
         ],
         "textposition": "outside",
         "type": "bar",
         "x": {
          "bdata": "AAAAAADYgEAAAAAAoFLpQAAAAABAjy5BAAAAwMTpX0E=",
          "dtype": "f8"
         },
         "y": [
          "Process Water",
          "Cooling Water",
          "RNG Feedstock",
          "Electricity"
         ]
        }
       ],
       "layout": {
        "height": 400,
        "template": {
         "data": {
          "bar": [
           {
            "error_x": {
             "color": "#2a3f5f"
            },
            "error_y": {
             "color": "#2a3f5f"
            },
            "marker": {
             "line": {
              "color": "#E5ECF6",
              "width": 0.5
             },
             "pattern": {
              "fillmode": "overlay",
              "size": 10,
              "solidity": 0.2
             }
            },
            "type": "bar"
           }
          ],
          "barpolar": [
           {
            "marker": {
             "line": {
              "color": "#E5ECF6",
              "width": 0.5
             },
             "pattern": {
              "fillmode": "overlay",
              "size": 10,
              "solidity": 0.2
             }
            },
            "type": "barpolar"
           }
          ],
          "carpet": [
           {
            "aaxis": {
             "endlinecolor": "#2a3f5f",
             "gridcolor": "white",
             "linecolor": "white",
             "minorgridcolor": "white",
             "startlinecolor": "#2a3f5f"
            },
            "baxis": {
             "endlinecolor": "#2a3f5f",
             "gridcolor": "white",
             "linecolor": "white",
             "minorgridcolor": "white",
             "startlinecolor": "#2a3f5f"
            },
            "type": "carpet"
           }
          ],
          "choropleth": [
           {
            "colorbar": {
             "outlinewidth": 0,
             "ticks": ""
            },
            "type": "choropleth"
           }
          ],
          "contour": [
           {
            "colorbar": {
             "outlinewidth": 0,
             "ticks": ""
            },
            "colorscale": [
             [
              0,
              "#0d0887"
             ],
             [
              0.1111111111111111,
              "#46039f"
             ],
             [
              0.2222222222222222,
              "#7201a8"
             ],
             [
              0.3333333333333333,
              "#9c179e"
             ],
             [
              0.4444444444444444,
              "#bd3786"
             ],
             [
              0.5555555555555556,
              "#d8576b"
             ],
             [
              0.6666666666666666,
              "#ed7953"
             ],
             [
              0.7777777777777778,
              "#fb9f3a"
             ],
             [
              0.8888888888888888,
              "#fdca26"
             ],
             [
              1,
              "#f0f921"
             ]
            ],
            "type": "contour"
           }
          ],
          "contourcarpet": [
           {
            "colorbar": {
             "outlinewidth": 0,
             "ticks": ""
            },
            "type": "contourcarpet"
           }
          ],
          "heatmap": [
           {
            "colorbar": {
             "outlinewidth": 0,
             "ticks": ""
            },
            "colorscale": [
             [
              0,
              "#0d0887"
             ],
             [
              0.1111111111111111,
              "#46039f"
             ],
             [
              0.2222222222222222,
              "#7201a8"
             ],
             [
              0.3333333333333333,
              "#9c179e"
             ],
             [
              0.4444444444444444,
              "#bd3786"
             ],
             [
              0.5555555555555556,
              "#d8576b"
             ],
             [
              0.6666666666666666,
              "#ed7953"
             ],
             [
              0.7777777777777778,
              "#fb9f3a"
             ],
             [
              0.8888888888888888,
              "#fdca26"
             ],
             [
              1,
              "#f0f921"
             ]
            ],
            "type": "heatmap"
           }
          ],
          "histogram": [
           {
            "marker": {
             "pattern": {
              "fillmode": "overlay",
              "size": 10,
              "solidity": 0.2
             }
            },
            "type": "histogram"
           }
          ],
          "histogram2d": [
           {
            "colorbar": {
             "outlinewidth": 0,
             "ticks": ""
            },
            "colorscale": [
             [
              0,
              "#0d0887"
             ],
             [
              0.1111111111111111,
              "#46039f"
             ],
             [
              0.2222222222222222,
              "#7201a8"
             ],
             [
              0.3333333333333333,
              "#9c179e"
             ],
             [
              0.4444444444444444,
              "#bd3786"
             ],
             [
              0.5555555555555556,
              "#d8576b"
             ],
             [
              0.6666666666666666,
              "#ed7953"
             ],
             [
              0.7777777777777778,
              "#fb9f3a"
             ],
             [
              0.8888888888888888,
              "#fdca26"
             ],
             [
              1,
              "#f0f921"
             ]
            ],
            "type": "histogram2d"
           }
          ],
          "histogram2dcontour": [
           {
            "colorbar": {
             "outlinewidth": 0,
             "ticks": ""
            },
            "colorscale": [
             [
              0,
              "#0d0887"
             ],
             [
              0.1111111111111111,
              "#46039f"
             ],
             [
              0.2222222222222222,
              "#7201a8"
             ],
             [
              0.3333333333333333,
              "#9c179e"
             ],
             [
              0.4444444444444444,
              "#bd3786"
             ],
             [
              0.5555555555555556,
              "#d8576b"
             ],
             [
              0.6666666666666666,
              "#ed7953"
             ],
             [
              0.7777777777777778,
              "#fb9f3a"
             ],
             [
              0.8888888888888888,
              "#fdca26"
             ],
             [
              1,
              "#f0f921"
             ]
            ],
            "type": "histogram2dcontour"
           }
          ],
          "mesh3d": [
           {
            "colorbar": {
             "outlinewidth": 0,
             "ticks": ""
            },
            "type": "mesh3d"
           }
          ],
          "parcoords": [
           {
            "line": {
             "colorbar": {
              "outlinewidth": 0,
              "ticks": ""
             }
            },
            "type": "parcoords"
           }
          ],
          "pie": [
           {
            "automargin": true,
            "type": "pie"
           }
          ],
          "scatter": [
           {
            "fillpattern": {
             "fillmode": "overlay",
             "size": 10,
             "solidity": 0.2
            },
            "type": "scatter"
           }
          ],
          "scatter3d": [
           {
            "line": {
             "colorbar": {
              "outlinewidth": 0,
              "ticks": ""
             }
            },
            "marker": {
             "colorbar": {
              "outlinewidth": 0,
              "ticks": ""
             }
            },
            "type": "scatter3d"
           }
          ],
          "scattercarpet": [
           {
            "marker": {
             "colorbar": {
              "outlinewidth": 0,
              "ticks": ""
             }
            },
            "type": "scattercarpet"
           }
          ],
          "scattergeo": [
           {
            "marker": {
             "colorbar": {
              "outlinewidth": 0,
              "ticks": ""
             }
            },
            "type": "scattergeo"
           }
          ],
          "scattergl": [
           {
            "marker": {
             "colorbar": {
              "outlinewidth": 0,
              "ticks": ""
             }
            },
            "type": "scattergl"
           }
          ],
          "scattermap": [
           {
            "marker": {
             "colorbar": {
              "outlinewidth": 0,
              "ticks": ""
             }
            },
            "type": "scattermap"
           }
          ],
          "scattermapbox": [
           {
            "marker": {
             "colorbar": {
              "outlinewidth": 0,
              "ticks": ""
             }
            },
            "type": "scattermapbox"
           }
          ],
          "scatterpolar": [
           {
            "marker": {
             "colorbar": {
              "outlinewidth": 0,
              "ticks": ""
             }
            },
            "type": "scatterpolar"
           }
          ],
          "scatterpolargl": [
           {
            "marker": {
             "colorbar": {
              "outlinewidth": 0,
              "ticks": ""
             }
            },
            "type": "scatterpolargl"
           }
          ],
          "scatterternary": [
           {
            "marker": {
             "colorbar": {
              "outlinewidth": 0,
              "ticks": ""
             }
            },
            "type": "scatterternary"
           }
          ],
          "surface": [
           {
            "colorbar": {
             "outlinewidth": 0,
             "ticks": ""
            },
            "colorscale": [
             [
              0,
              "#0d0887"
             ],
             [
              0.1111111111111111,
              "#46039f"
             ],
             [
              0.2222222222222222,
              "#7201a8"
             ],
             [
              0.3333333333333333,
              "#9c179e"
             ],
             [
              0.4444444444444444,
              "#bd3786"
             ],
             [
              0.5555555555555556,
              "#d8576b"
             ],
             [
              0.6666666666666666,
              "#ed7953"
             ],
             [
              0.7777777777777778,
              "#fb9f3a"
             ],
             [
              0.8888888888888888,
              "#fdca26"
             ],
             [
              1,
              "#f0f921"
             ]
            ],
            "type": "surface"
           }
          ],
          "table": [
           {
            "cells": {
             "fill": {
              "color": "#EBF0F8"
             },
             "line": {
              "color": "white"
             }
            },
            "header": {
             "fill": {
              "color": "#C8D4E3"
             },
             "line": {
              "color": "white"
             }
            },
            "type": "table"
           }
          ]
         },
         "layout": {
          "annotationdefaults": {
           "arrowcolor": "#2a3f5f",
           "arrowhead": 0,
           "arrowwidth": 1
          },
          "autotypenumbers": "strict",
          "coloraxis": {
           "colorbar": {
            "outlinewidth": 0,
            "ticks": ""
           }
          },
          "colorscale": {
           "diverging": [
            [
             0,
             "#8e0152"
            ],
            [
             0.1,
             "#c51b7d"
            ],
            [
             0.2,
             "#de77ae"
            ],
            [
             0.3,
             "#f1b6da"
            ],
            [
             0.4,
             "#fde0ef"
            ],
            [
             0.5,
             "#f7f7f7"
            ],
            [
             0.6,
             "#e6f5d0"
            ],
            [
             0.7,
             "#b8e186"
            ],
            [
             0.8,
             "#7fbc41"
            ],
            [
             0.9,
             "#4d9221"
            ],
            [
             1,
             "#276419"
            ]
           ],
           "sequential": [
            [
             0,
             "#0d0887"
            ],
            [
             0.1111111111111111,
             "#46039f"
            ],
            [
             0.2222222222222222,
             "#7201a8"
            ],
            [
             0.3333333333333333,
             "#9c179e"
            ],
            [
             0.4444444444444444,
             "#bd3786"
            ],
            [
             0.5555555555555556,
             "#d8576b"
            ],
            [
             0.6666666666666666,
             "#ed7953"
            ],
            [
             0.7777777777777778,
             "#fb9f3a"
            ],
            [
             0.8888888888888888,
             "#fdca26"
            ],
            [
             1,
             "#f0f921"
            ]
           ],
           "sequentialminus": [
            [
             0,
             "#0d0887"
            ],
            [
             0.1111111111111111,
             "#46039f"
            ],
            [
             0.2222222222222222,
             "#7201a8"
            ],
            [
             0.3333333333333333,
             "#9c179e"
            ],
            [
             0.4444444444444444,
             "#bd3786"
            ],
            [
             0.5555555555555556,
             "#d8576b"
            ],
            [
             0.6666666666666666,
             "#ed7953"
            ],
            [
             0.7777777777777778,
             "#fb9f3a"
            ],
            [
             0.8888888888888888,
             "#fdca26"
            ],
            [
             1,
             "#f0f921"
            ]
           ]
          },
          "colorway": [
           "#636efa",
           "#EF553B",
           "#00cc96",
           "#ab63fa",
           "#FFA15A",
           "#19d3f3",
           "#FF6692",
           "#B6E880",
           "#FF97FF",
           "#FECB52"
          ],
          "font": {
           "color": "#2a3f5f"
          },
          "geo": {
           "bgcolor": "white",
           "lakecolor": "white",
           "landcolor": "#E5ECF6",
           "showlakes": true,
           "showland": true,
           "subunitcolor": "white"
          },
          "hoverlabel": {
           "align": "left"
          },
          "hovermode": "closest",
          "mapbox": {
           "style": "light"
          },
          "paper_bgcolor": "white",
          "plot_bgcolor": "#E5ECF6",
          "polar": {
           "angularaxis": {
            "gridcolor": "white",
            "linecolor": "white",
            "ticks": ""
           },
           "bgcolor": "#E5ECF6",
           "radialaxis": {
            "gridcolor": "white",
            "linecolor": "white",
            "ticks": ""
           }
          },
          "scene": {
           "xaxis": {
            "backgroundcolor": "#E5ECF6",
            "gridcolor": "white",
            "gridwidth": 2,
            "linecolor": "white",
            "showbackground": true,
            "ticks": "",
            "zerolinecolor": "white"
           },
           "yaxis": {
            "backgroundcolor": "#E5ECF6",
            "gridcolor": "white",
            "gridwidth": 2,
            "linecolor": "white",
            "showbackground": true,
            "ticks": "",
            "zerolinecolor": "white"
           },
           "zaxis": {
            "backgroundcolor": "#E5ECF6",
            "gridcolor": "white",
            "gridwidth": 2,
            "linecolor": "white",
            "showbackground": true,
            "ticks": "",
            "zerolinecolor": "white"
           }
          },
          "shapedefaults": {
           "line": {
            "color": "#2a3f5f"
           }
          },
          "ternary": {
           "aaxis": {
            "gridcolor": "white",
            "linecolor": "white",
            "ticks": ""
           },
           "baxis": {
            "gridcolor": "white",
            "linecolor": "white",
            "ticks": ""
           },
           "bgcolor": "#E5ECF6",
           "caxis": {
            "gridcolor": "white",
            "linecolor": "white",
            "ticks": ""
           }
          },
          "title": {
           "x": 0.05
          },
          "xaxis": {
           "automargin": true,
           "gridcolor": "white",
           "linecolor": "white",
           "ticks": "",
           "title": {
            "standoff": 15
           },
           "zerolinecolor": "white",
           "zerolinewidth": 2
          },
          "yaxis": {
           "automargin": true,
           "gridcolor": "white",
           "linecolor": "white",
           "ticks": "",
           "title": {
            "standoff": 15
           },
           "zerolinecolor": "white",
           "zerolinewidth": 2
          }
         }
        },
        "title": {
         "text": "Annual Operating Cost Breakdown"
        },
        "xaxis": {
         "title": {
          "text": "Annual Cost (USD)"
         }
        },
        "yaxis": {
         "title": {
          "text": "Cost Category"
         }
        }
       }
      }
     },
     "metadata": {},
     "output_type": "display_data"
    },
    {
     "name": "stdout",
     "output_type": "stream",
     "text": [
      "\n",
      "📊 Cost Analysis:\n",
      "   Electricity is 88.8% of variable operating costs\n",
      "   Total variable OpEx: $9.42M\n",
      "   Gross Margin: 30.6%\n",
      "\n",
      "💡 Key Insight:\n",
      "   Electricity is the dominant operating cost. Process economics are\n",
      "   highly sensitive to electricity prices and availability of renewable power.\n"
     ]
    }
   ],
   "source": [
    "# Extract individual costs\n",
    "rng_cost = get_param(econ_assumptions, 'annual_rng_cost')\n",
    "elec_cost = get_param(econ_assumptions, 'annual_electricity_cost')\n",
    "cooling_cost = get_param(econ_assumptions, 'annual_cooling_water_cost')\n",
    "process_water_cost = get_param(econ_assumptions, 'annual_process_water_cost')\n",
    "\n",
    "# Create cost breakdown\n",
    "cost_data = pd.DataFrame({\n",
    "    'Cost Category': ['RNG Feedstock', 'Electricity', 'Cooling Water', 'Process Water'],\n",
    "    'Annual Cost': [rng_cost, elec_cost, cooling_cost, process_water_cost],\n",
    "    'Percent of Total': [\n",
    "        rng_cost/variable_costs*100,\n",
    "        elec_cost/variable_costs*100,\n",
    "        cooling_cost/variable_costs*100,\n",
    "        process_water_cost/variable_costs*100\n",
    "    ]\n",
    "})\n",
    "\n",
    "# Sort by cost\n",
    "cost_data = cost_data.sort_values('Annual Cost', ascending=True)\n",
    "\n",
    "fig = go.Figure()\n",
    "\n",
    "fig.add_trace(go.Bar(\n",
    "    y=cost_data['Cost Category'],\n",
    "    x=cost_data['Annual Cost'],\n",
    "    orientation='h',\n",
    "    text=[f'${x/1e6:.2f}M ({p:.1f}%)' for x, p in zip(cost_data['Annual Cost'], cost_data['Percent of Total'])],\n",
    "    textposition='outside',\n",
    "    marker=dict(\n",
    "        color=cost_data['Annual Cost'],\n",
    "        colorscale='Reds',\n",
    "        showscale=False\n",
    "    )\n",
    "))\n",
    "\n",
    "fig.update_layout(\n",
    "    title='Annual Operating Cost Breakdown',\n",
    "    xaxis_title='Annual Cost (USD)',\n",
    "    yaxis_title='Cost Category',\n",
    "    height=400\n",
    ")\n",
    "\n",
    "fig.show()\n",
    "\n",
    "print(f\"\\n📊 Cost Analysis:\")\n",
    "print(f\"   Electricity is {elec_cost/variable_costs*100:.1f}% of variable operating costs\")\n",
    "print(f\"   Total variable OpEx: ${variable_costs/1e6:.2f}M\")\n",
    "print(f\"   Gross Margin: {gross_margin/total_revenue*100:.1f}%\")\n",
    "print(f\"\\n💡 Key Insight:\")\n",
    "print(f\"   Electricity is the dominant operating cost. Process economics are\")\n",
    "print(f\"   highly sensitive to electricity prices and availability of renewable power.\")"
   ]
  },
  {
   "cell_type": "code",
   "execution_count": 108,
   "id": "9fd133e0",
   "metadata": {},
   "outputs": [
    {
     "data": {
      "application/vnd.plotly.v1+json": {
       "config": {
        "plotlyServerURL": "https://plot.ly"
       },
       "data": [
        {
         "connector": {
          "line": {
           "color": "rgb(63, 63, 63)"
          }
         },
         "decreasing": {
          "marker": {
           "color": "#e74c3c"
          }
         },
         "increasing": {
          "marker": {
           "color": "#2ecc71"
          }
         },
         "measure": [
          "relative",
          "relative",
          "relative",
          "relative",
          "relative",
          "total"
         ],
         "name": "Annual Economics",
         "orientation": "v",
         "text": [
          "$+8.20M",
          "$+5.38M",
          "$-1.00M",
          "$-8.37M",
          "$-0.05M",
          "$+4.16M"
         ],
         "textposition": "outside",
         "totals": {
          "marker": {
           "color": "#3498db"
          }
         },
         "type": "waterfall",
         "x": [
          "H₂ Revenue",
          "Acetylene Revenue",
          "RNG Cost",
          "Electricity Cost",
          "Water Costs",
          "Gross Margin"
         ],
         "y": [
          8199756,
          5380944,
          -1001376,
          -8365843,
          -52400,
          4161081
         ]
        }
       ],
       "layout": {
        "height": 500,
        "showlegend": false,
        "template": {
         "data": {
          "bar": [
           {
            "error_x": {
             "color": "#2a3f5f"
            },
            "error_y": {
             "color": "#2a3f5f"
            },
            "marker": {
             "line": {
              "color": "#E5ECF6",
              "width": 0.5
             },
             "pattern": {
              "fillmode": "overlay",
              "size": 10,
              "solidity": 0.2
             }
            },
            "type": "bar"
           }
          ],
          "barpolar": [
           {
            "marker": {
             "line": {
              "color": "#E5ECF6",
              "width": 0.5
             },
             "pattern": {
              "fillmode": "overlay",
              "size": 10,
              "solidity": 0.2
             }
            },
            "type": "barpolar"
           }
          ],
          "carpet": [
           {
            "aaxis": {
             "endlinecolor": "#2a3f5f",
             "gridcolor": "white",
             "linecolor": "white",
             "minorgridcolor": "white",
             "startlinecolor": "#2a3f5f"
            },
            "baxis": {
             "endlinecolor": "#2a3f5f",
             "gridcolor": "white",
             "linecolor": "white",
             "minorgridcolor": "white",
             "startlinecolor": "#2a3f5f"
            },
            "type": "carpet"
           }
          ],
          "choropleth": [
           {
            "colorbar": {
             "outlinewidth": 0,
             "ticks": ""
            },
            "type": "choropleth"
           }
          ],
          "contour": [
           {
            "colorbar": {
             "outlinewidth": 0,
             "ticks": ""
            },
            "colorscale": [
             [
              0,
              "#0d0887"
             ],
             [
              0.1111111111111111,
              "#46039f"
             ],
             [
              0.2222222222222222,
              "#7201a8"
             ],
             [
              0.3333333333333333,
              "#9c179e"
             ],
             [
              0.4444444444444444,
              "#bd3786"
             ],
             [
              0.5555555555555556,
              "#d8576b"
             ],
             [
              0.6666666666666666,
              "#ed7953"
             ],
             [
              0.7777777777777778,
              "#fb9f3a"
             ],
             [
              0.8888888888888888,
              "#fdca26"
             ],
             [
              1,
              "#f0f921"
             ]
            ],
            "type": "contour"
           }
          ],
          "contourcarpet": [
           {
            "colorbar": {
             "outlinewidth": 0,
             "ticks": ""
            },
            "type": "contourcarpet"
           }
          ],
          "heatmap": [
           {
            "colorbar": {
             "outlinewidth": 0,
             "ticks": ""
            },
            "colorscale": [
             [
              0,
              "#0d0887"
             ],
             [
              0.1111111111111111,
              "#46039f"
             ],
             [
              0.2222222222222222,
              "#7201a8"
             ],
             [
              0.3333333333333333,
              "#9c179e"
             ],
             [
              0.4444444444444444,
              "#bd3786"
             ],
             [
              0.5555555555555556,
              "#d8576b"
             ],
             [
              0.6666666666666666,
              "#ed7953"
             ],
             [
              0.7777777777777778,
              "#fb9f3a"
             ],
             [
              0.8888888888888888,
              "#fdca26"
             ],
             [
              1,
              "#f0f921"
             ]
            ],
            "type": "heatmap"
           }
          ],
          "histogram": [
           {
            "marker": {
             "pattern": {
              "fillmode": "overlay",
              "size": 10,
              "solidity": 0.2
             }
            },
            "type": "histogram"
           }
          ],
          "histogram2d": [
           {
            "colorbar": {
             "outlinewidth": 0,
             "ticks": ""
            },
            "colorscale": [
             [
              0,
              "#0d0887"
             ],
             [
              0.1111111111111111,
              "#46039f"
             ],
             [
              0.2222222222222222,
              "#7201a8"
             ],
             [
              0.3333333333333333,
              "#9c179e"
             ],
             [
              0.4444444444444444,
              "#bd3786"
             ],
             [
              0.5555555555555556,
              "#d8576b"
             ],
             [
              0.6666666666666666,
              "#ed7953"
             ],
             [
              0.7777777777777778,
              "#fb9f3a"
             ],
             [
              0.8888888888888888,
              "#fdca26"
             ],
             [
              1,
              "#f0f921"
             ]
            ],
            "type": "histogram2d"
           }
          ],
          "histogram2dcontour": [
           {
            "colorbar": {
             "outlinewidth": 0,
             "ticks": ""
            },
            "colorscale": [
             [
              0,
              "#0d0887"
             ],
             [
              0.1111111111111111,
              "#46039f"
             ],
             [
              0.2222222222222222,
              "#7201a8"
             ],
             [
              0.3333333333333333,
              "#9c179e"
             ],
             [
              0.4444444444444444,
              "#bd3786"
             ],
             [
              0.5555555555555556,
              "#d8576b"
             ],
             [
              0.6666666666666666,
              "#ed7953"
             ],
             [
              0.7777777777777778,
              "#fb9f3a"
             ],
             [
              0.8888888888888888,
              "#fdca26"
             ],
             [
              1,
              "#f0f921"
             ]
            ],
            "type": "histogram2dcontour"
           }
          ],
          "mesh3d": [
           {
            "colorbar": {
             "outlinewidth": 0,
             "ticks": ""
            },
            "type": "mesh3d"
           }
          ],
          "parcoords": [
           {
            "line": {
             "colorbar": {
              "outlinewidth": 0,
              "ticks": ""
             }
            },
            "type": "parcoords"
           }
          ],
          "pie": [
           {
            "automargin": true,
            "type": "pie"
           }
          ],
          "scatter": [
           {
            "fillpattern": {
             "fillmode": "overlay",
             "size": 10,
             "solidity": 0.2
            },
            "type": "scatter"
           }
          ],
          "scatter3d": [
           {
            "line": {
             "colorbar": {
              "outlinewidth": 0,
              "ticks": ""
             }
            },
            "marker": {
             "colorbar": {
              "outlinewidth": 0,
              "ticks": ""
             }
            },
            "type": "scatter3d"
           }
          ],
          "scattercarpet": [
           {
            "marker": {
             "colorbar": {
              "outlinewidth": 0,
              "ticks": ""
             }
            },
            "type": "scattercarpet"
           }
          ],
          "scattergeo": [
           {
            "marker": {
             "colorbar": {
              "outlinewidth": 0,
              "ticks": ""
             }
            },
            "type": "scattergeo"
           }
          ],
          "scattergl": [
           {
            "marker": {
             "colorbar": {
              "outlinewidth": 0,
              "ticks": ""
             }
            },
            "type": "scattergl"
           }
          ],
          "scattermap": [
           {
            "marker": {
             "colorbar": {
              "outlinewidth": 0,
              "ticks": ""
             }
            },
            "type": "scattermap"
           }
          ],
          "scattermapbox": [
           {
            "marker": {
             "colorbar": {
              "outlinewidth": 0,
              "ticks": ""
             }
            },
            "type": "scattermapbox"
           }
          ],
          "scatterpolar": [
           {
            "marker": {
             "colorbar": {
              "outlinewidth": 0,
              "ticks": ""
             }
            },
            "type": "scatterpolar"
           }
          ],
          "scatterpolargl": [
           {
            "marker": {
             "colorbar": {
              "outlinewidth": 0,
              "ticks": ""
             }
            },
            "type": "scatterpolargl"
           }
          ],
          "scatterternary": [
           {
            "marker": {
             "colorbar": {
              "outlinewidth": 0,
              "ticks": ""
             }
            },
            "type": "scatterternary"
           }
          ],
          "surface": [
           {
            "colorbar": {
             "outlinewidth": 0,
             "ticks": ""
            },
            "colorscale": [
             [
              0,
              "#0d0887"
             ],
             [
              0.1111111111111111,
              "#46039f"
             ],
             [
              0.2222222222222222,
              "#7201a8"
             ],
             [
              0.3333333333333333,
              "#9c179e"
             ],
             [
              0.4444444444444444,
              "#bd3786"
             ],
             [
              0.5555555555555556,
              "#d8576b"
             ],
             [
              0.6666666666666666,
              "#ed7953"
             ],
             [
              0.7777777777777778,
              "#fb9f3a"
             ],
             [
              0.8888888888888888,
              "#fdca26"
             ],
             [
              1,
              "#f0f921"
             ]
            ],
            "type": "surface"
           }
          ],
          "table": [
           {
            "cells": {
             "fill": {
              "color": "#EBF0F8"
             },
             "line": {
              "color": "white"
             }
            },
            "header": {
             "fill": {
              "color": "#C8D4E3"
             },
             "line": {
              "color": "white"
             }
            },
            "type": "table"
           }
          ]
         },
         "layout": {
          "annotationdefaults": {
           "arrowcolor": "#2a3f5f",
           "arrowhead": 0,
           "arrowwidth": 1
          },
          "autotypenumbers": "strict",
          "coloraxis": {
           "colorbar": {
            "outlinewidth": 0,
            "ticks": ""
           }
          },
          "colorscale": {
           "diverging": [
            [
             0,
             "#8e0152"
            ],
            [
             0.1,
             "#c51b7d"
            ],
            [
             0.2,
             "#de77ae"
            ],
            [
             0.3,
             "#f1b6da"
            ],
            [
             0.4,
             "#fde0ef"
            ],
            [
             0.5,
             "#f7f7f7"
            ],
            [
             0.6,
             "#e6f5d0"
            ],
            [
             0.7,
             "#b8e186"
            ],
            [
             0.8,
             "#7fbc41"
            ],
            [
             0.9,
             "#4d9221"
            ],
            [
             1,
             "#276419"
            ]
           ],
           "sequential": [
            [
             0,
             "#0d0887"
            ],
            [
             0.1111111111111111,
             "#46039f"
            ],
            [
             0.2222222222222222,
             "#7201a8"
            ],
            [
             0.3333333333333333,
             "#9c179e"
            ],
            [
             0.4444444444444444,
             "#bd3786"
            ],
            [
             0.5555555555555556,
             "#d8576b"
            ],
            [
             0.6666666666666666,
             "#ed7953"
            ],
            [
             0.7777777777777778,
             "#fb9f3a"
            ],
            [
             0.8888888888888888,
             "#fdca26"
            ],
            [
             1,
             "#f0f921"
            ]
           ],
           "sequentialminus": [
            [
             0,
             "#0d0887"
            ],
            [
             0.1111111111111111,
             "#46039f"
            ],
            [
             0.2222222222222222,
             "#7201a8"
            ],
            [
             0.3333333333333333,
             "#9c179e"
            ],
            [
             0.4444444444444444,
             "#bd3786"
            ],
            [
             0.5555555555555556,
             "#d8576b"
            ],
            [
             0.6666666666666666,
             "#ed7953"
            ],
            [
             0.7777777777777778,
             "#fb9f3a"
            ],
            [
             0.8888888888888888,
             "#fdca26"
            ],
            [
             1,
             "#f0f921"
            ]
           ]
          },
          "colorway": [
           "#636efa",
           "#EF553B",
           "#00cc96",
           "#ab63fa",
           "#FFA15A",
           "#19d3f3",
           "#FF6692",
           "#B6E880",
           "#FF97FF",
           "#FECB52"
          ],
          "font": {
           "color": "#2a3f5f"
          },
          "geo": {
           "bgcolor": "white",
           "lakecolor": "white",
           "landcolor": "#E5ECF6",
           "showlakes": true,
           "showland": true,
           "subunitcolor": "white"
          },
          "hoverlabel": {
           "align": "left"
          },
          "hovermode": "closest",
          "mapbox": {
           "style": "light"
          },
          "paper_bgcolor": "white",
          "plot_bgcolor": "#E5ECF6",
          "polar": {
           "angularaxis": {
            "gridcolor": "white",
            "linecolor": "white",
            "ticks": ""
           },
           "bgcolor": "#E5ECF6",
           "radialaxis": {
            "gridcolor": "white",
            "linecolor": "white",
            "ticks": ""
           }
          },
          "scene": {
           "xaxis": {
            "backgroundcolor": "#E5ECF6",
            "gridcolor": "white",
            "gridwidth": 2,
            "linecolor": "white",
            "showbackground": true,
            "ticks": "",
            "zerolinecolor": "white"
           },
           "yaxis": {
            "backgroundcolor": "#E5ECF6",
            "gridcolor": "white",
            "gridwidth": 2,
            "linecolor": "white",
            "showbackground": true,
            "ticks": "",
            "zerolinecolor": "white"
           },
           "zaxis": {
            "backgroundcolor": "#E5ECF6",
            "gridcolor": "white",
            "gridwidth": 2,
            "linecolor": "white",
            "showbackground": true,
            "ticks": "",
            "zerolinecolor": "white"
           }
          },
          "shapedefaults": {
           "line": {
            "color": "#2a3f5f"
           }
          },
          "ternary": {
           "aaxis": {
            "gridcolor": "white",
            "linecolor": "white",
            "ticks": ""
           },
           "baxis": {
            "gridcolor": "white",
            "linecolor": "white",
            "ticks": ""
           },
           "bgcolor": "#E5ECF6",
           "caxis": {
            "gridcolor": "white",
            "linecolor": "white",
            "ticks": ""
           }
          },
          "title": {
           "x": 0.05
          },
          "xaxis": {
           "automargin": true,
           "gridcolor": "white",
           "linecolor": "white",
           "ticks": "",
           "title": {
            "standoff": 15
           },
           "zerolinecolor": "white",
           "zerolinewidth": 2
          },
          "yaxis": {
           "automargin": true,
           "gridcolor": "white",
           "linecolor": "white",
           "ticks": "",
           "title": {
            "standoff": 15
           },
           "zerolinecolor": "white",
           "zerolinewidth": 2
          }
         }
        },
        "title": {
         "text": "Annual Revenue to Gross Margin (Waterfall)"
        },
        "yaxis": {
         "title": {
          "text": "Amount (USD)"
         }
        }
       }
      }
     },
     "metadata": {},
     "output_type": "display_data"
    },
    {
     "name": "stdout",
     "output_type": "stream",
     "text": [
      "\n",
      "📊 Annual Economics Summary:\n",
      "   Total Revenue:        $ 13.58M\n",
      "   Variable Costs:       $  9.42M\n",
      "   ─────────────────────────────────\n",
      "   Gross Margin:         $  4.16M\n",
      "   Gross Margin %:         30.6%\n",
      "\n",
      "   Note: This excludes fixed costs (labor, maintenance, overhead)\n"
     ]
    }
   ],
   "source": [
    "# Create waterfall showing revenue to profit flow\n",
    "categories = [\n",
    "    'H₂ Revenue',\n",
    "    'Acetylene Revenue',\n",
    "    'RNG Cost',\n",
    "    'Electricity Cost',\n",
    "    'Water Costs',\n",
    "    'Gross Margin'\n",
    "]\n",
    "\n",
    "values = [\n",
    "    h2_revenue,\n",
    "    cb_revenue,\n",
    "    -rng_cost,\n",
    "    -elec_cost,\n",
    "    -(cooling_cost + process_water_cost),\n",
    "    0  # Will be calculated as total\n",
    "]\n",
    "\n",
    "fig = go.Figure(go.Waterfall(\n",
    "    name=\"Annual Economics\",\n",
    "    orientation=\"v\",\n",
    "    measure=[\"relative\", \"relative\", \"relative\", \"relative\", \"relative\", \"total\"],\n",
    "    x=categories,\n",
    "    y=values[:-1] + [gross_margin],\n",
    "    text=[f'${v/1e6:+.2f}M' if v != 0 else f'${gross_margin/1e6:.2f}M' for v in values[:-1] + [gross_margin]],\n",
    "    textposition=\"outside\",\n",
    "    connector={\"line\": {\"color\": \"rgb(63, 63, 63)\"}},\n",
    "    increasing={\"marker\": {\"color\": \"#2ecc71\"}},\n",
    "    decreasing={\"marker\": {\"color\": \"#e74c3c\"}},\n",
    "    totals={\"marker\": {\"color\": \"#3498db\"}}\n",
    "))\n",
    "\n",
    "fig.update_layout(\n",
    "    title=\"Annual Revenue to Gross Margin (Waterfall)\",\n",
    "    yaxis_title=\"Amount (USD)\",\n",
    "    showlegend=False,\n",
    "    height=500\n",
    ")\n",
    "\n",
    "fig.show()\n",
    "\n",
    "print(f\"\\n📊 Annual Economics Summary:\")\n",
    "print(f\"   Total Revenue:        ${total_revenue/1e6:>6.2f}M\")\n",
    "print(f\"   Variable Costs:       ${variable_costs/1e6:>6.2f}M\")\n",
    "print(f\"   ─────────────────────────────────\")\n",
    "print(f\"   Gross Margin:         ${gross_margin/1e6:>6.2f}M\")\n",
    "print(f\"   Gross Margin %:       {gross_margin/total_revenue*100:>6.1f}%\")\n",
    "print(f\"\\n   Note: This excludes fixed costs (labor, maintenance, overhead)\")"
   ]
  },
  {
   "cell_type": "markdown",
   "id": "31e589cc",
   "metadata": {},
   "source": [
    "## Comparison with Steam Methane Reforming (SMR)\n",
    "\n",
    "Steam methane reforming is the incumbent technology for hydrogen production, accounting for ~96% of global production. Let's compare our process:"
   ]
  },
  {
   "cell_type": "code",
   "execution_count": 109,
   "id": "cc6e941a",
   "metadata": {},
   "outputs": [
    {
     "data": {
      "text/html": [
       "<style type=\"text/css\">\n",
       "#T_b29f2 th {\n",
       "  text-align: center;\n",
       "}\n",
       "#T_b29f2_row0_col0, #T_b29f2_row0_col1, #T_b29f2_row0_col2, #T_b29f2_row0_col3, #T_b29f2_row1_col0, #T_b29f2_row1_col1, #T_b29f2_row1_col2, #T_b29f2_row1_col3, #T_b29f2_row2_col0, #T_b29f2_row2_col1, #T_b29f2_row2_col2, #T_b29f2_row2_col3, #T_b29f2_row3_col0, #T_b29f2_row3_col1, #T_b29f2_row3_col2, #T_b29f2_row3_col3, #T_b29f2_row4_col0, #T_b29f2_row4_col1, #T_b29f2_row4_col2, #T_b29f2_row4_col3 {\n",
       "  text-align: center;\n",
       "}\n",
       "</style>\n",
       "<table id=\"T_b29f2\">\n",
       "  <thead>\n",
       "    <tr>\n",
       "      <th class=\"blank level0\" >&nbsp;</th>\n",
       "      <th id=\"T_b29f2_level0_col0\" class=\"col_heading level0 col0\" >Metric</th>\n",
       "      <th id=\"T_b29f2_level0_col1\" class=\"col_heading level0 col1\" >Steam Methane Reforming</th>\n",
       "      <th id=\"T_b29f2_level0_col2\" class=\"col_heading level0 col2\" >Pentacarbon Plasma Process</th>\n",
       "      <th id=\"T_b29f2_level0_col3\" class=\"col_heading level0 col3\" >Improvement (%)</th>\n",
       "    </tr>\n",
       "  </thead>\n",
       "  <tbody>\n",
       "    <tr>\n",
       "      <th id=\"T_b29f2_level0_row0\" class=\"row_heading level0 row0\" >0</th>\n",
       "      <td id=\"T_b29f2_row0_col0\" class=\"data row0 col0\" >Water Consumption (kg/kg H₂)</td>\n",
       "      <td id=\"T_b29f2_row0_col1\" class=\"data row0 col1\" >4.5</td>\n",
       "      <td id=\"T_b29f2_row0_col2\" class=\"data row0 col2\" >0.60</td>\n",
       "      <td id=\"T_b29f2_row0_col3\" class=\"data row0 col3\" >+86.7%</td>\n",
       "    </tr>\n",
       "    <tr>\n",
       "      <th id=\"T_b29f2_level0_row1\" class=\"row_heading level0 row1\" >1</th>\n",
       "      <td id=\"T_b29f2_row1_col0\" class=\"data row1 col0\" >CO₂ Emissions (kg/kg H₂)</td>\n",
       "      <td id=\"T_b29f2_row1_col1\" class=\"data row1 col1\" >9.7</td>\n",
       "      <td id=\"T_b29f2_row1_col2\" class=\"data row1 col2\" >0.12</td>\n",
       "      <td id=\"T_b29f2_row1_col3\" class=\"data row1 col3\" >+98.8%</td>\n",
       "    </tr>\n",
       "    <tr>\n",
       "      <th id=\"T_b29f2_level0_row2\" class=\"row_heading level0 row2\" >2</th>\n",
       "      <td id=\"T_b29f2_row2_col0\" class=\"data row2 col0\" >Energy Consumption (kJ/kg H₂)</td>\n",
       "      <td id=\"T_b29f2_row2_col1\" class=\"data row2 col1\" >96000.0</td>\n",
       "      <td id=\"T_b29f2_row2_col2\" class=\"data row2 col2\" >132641.00</td>\n",
       "      <td id=\"T_b29f2_row2_col3\" class=\"data row2 col3\" >-38.2%</td>\n",
       "    </tr>\n",
       "    <tr>\n",
       "      <th id=\"T_b29f2_level0_row3\" class=\"row_heading level0 row3\" >3</th>\n",
       "      <td id=\"T_b29f2_row3_col0\" class=\"data row3 col0\" >Thermal Efficiency (%)</td>\n",
       "      <td id=\"T_b29f2_row3_col1\" class=\"data row3 col1\" >75.0</td>\n",
       "      <td id=\"T_b29f2_row3_col2\" class=\"data row3 col2\" >45.20</td>\n",
       "      <td id=\"T_b29f2_row3_col3\" class=\"data row3 col3\" >+39.7%</td>\n",
       "    </tr>\n",
       "    <tr>\n",
       "      <th id=\"T_b29f2_level0_row4\" class=\"row_heading level0 row4\" >4</th>\n",
       "      <td id=\"T_b29f2_row4_col0\" class=\"data row4 col0\" >H₂ Production Cost ($/kg)*</td>\n",
       "      <td id=\"T_b29f2_row4_col1\" class=\"data row4 col1\" >2.5</td>\n",
       "      <td id=\"T_b29f2_row4_col2\" class=\"data row4 col2\" >2.41</td>\n",
       "      <td id=\"T_b29f2_row4_col3\" class=\"data row4 col3\" >+3.6%</td>\n",
       "    </tr>\n",
       "  </tbody>\n",
       "</table>\n"
      ],
      "text/plain": [
       "<pandas.io.formats.style.Styler at 0x257440ae200>"
      ]
     },
     "metadata": {},
     "output_type": "display_data"
    },
    {
     "name": "stdout",
     "output_type": "stream",
     "text": [
      "\n",
      "🌟 Environmental Advantages:\n",
      "   • Water Consumption:  86.7% reduction\n",
      "   • CO₂ Emissions:      98.8% reduction\n",
      "   • Near-zero emissions when using renewable electricity\n",
      "\n",
      "⚡ Energy Trade-off:\n",
      "   • Higher energy intensity BUT from renewable sources\n",
      "   • SMR efficiency is higher but produces CO₂\n",
      "   • Our process: Higher energy input, zero carbon output\n",
      "\n",
      "💰 Cost Competitiveness:\n",
      "   • LCOH: $2.41/kg vs ~$2.50/kg for SMR\n",
      "   • Competitive despite higher energy use\n",
      "   • Acetylene black co-product revenue is key differentiator\n"
     ]
    },
    {
     "data": {
      "application/vnd.plotly.v1+json": {
       "config": {
        "plotlyServerURL": "https://plot.ly"
       },
       "data": [
        {
         "marker": {
          "color": [
           "#e74c3c",
           "#2ecc71"
          ]
         },
         "name": "Water",
         "showlegend": false,
         "type": "bar",
         "x": [
          "SMR",
          "Pentacarbon"
         ],
         "xaxis": "x",
         "y": [
          4.5,
          0.6
         ],
         "yaxis": "y"
        },
        {
         "marker": {
          "color": [
           "#e74c3c",
           "#2ecc71"
          ]
         },
         "name": "CO2",
         "showlegend": false,
         "type": "bar",
         "x": [
          "SMR",
          "Pentacarbon"
         ],
         "xaxis": "x2",
         "y": [
          9.7,
          0.12
         ],
         "yaxis": "y2"
        },
        {
         "marker": {
          "color": [
           "#e74c3c",
           "#2ecc71"
          ]
         },
         "name": "Cost",
         "showlegend": false,
         "type": "bar",
         "x": [
          "SMR",
          "Pentacarbon"
         ],
         "xaxis": "x3",
         "y": [
          2.5,
          2.41
         ],
         "yaxis": "y3"
        }
       ],
       "layout": {
        "annotations": [
         {
          "font": {
           "size": 16
          },
          "showarrow": false,
          "text": "Water Consumption",
          "x": 0.14444444444444446,
          "xanchor": "center",
          "xref": "paper",
          "y": 1,
          "yanchor": "bottom",
          "yref": "paper"
         },
         {
          "font": {
           "size": 16
          },
          "showarrow": false,
          "text": "CO₂ Emissions",
          "x": 0.5,
          "xanchor": "center",
          "xref": "paper",
          "y": 1,
          "yanchor": "bottom",
          "yref": "paper"
         },
         {
          "font": {
           "size": 16
          },
          "showarrow": false,
          "text": "Production Cost",
          "x": 0.8555555555555556,
          "xanchor": "center",
          "xref": "paper",
          "y": 1,
          "yanchor": "bottom",
          "yref": "paper"
         }
        ],
        "height": 400,
        "showlegend": false,
        "template": {
         "data": {
          "bar": [
           {
            "error_x": {
             "color": "#2a3f5f"
            },
            "error_y": {
             "color": "#2a3f5f"
            },
            "marker": {
             "line": {
              "color": "#E5ECF6",
              "width": 0.5
             },
             "pattern": {
              "fillmode": "overlay",
              "size": 10,
              "solidity": 0.2
             }
            },
            "type": "bar"
           }
          ],
          "barpolar": [
           {
            "marker": {
             "line": {
              "color": "#E5ECF6",
              "width": 0.5
             },
             "pattern": {
              "fillmode": "overlay",
              "size": 10,
              "solidity": 0.2
             }
            },
            "type": "barpolar"
           }
          ],
          "carpet": [
           {
            "aaxis": {
             "endlinecolor": "#2a3f5f",
             "gridcolor": "white",
             "linecolor": "white",
             "minorgridcolor": "white",
             "startlinecolor": "#2a3f5f"
            },
            "baxis": {
             "endlinecolor": "#2a3f5f",
             "gridcolor": "white",
             "linecolor": "white",
             "minorgridcolor": "white",
             "startlinecolor": "#2a3f5f"
            },
            "type": "carpet"
           }
          ],
          "choropleth": [
           {
            "colorbar": {
             "outlinewidth": 0,
             "ticks": ""
            },
            "type": "choropleth"
           }
          ],
          "contour": [
           {
            "colorbar": {
             "outlinewidth": 0,
             "ticks": ""
            },
            "colorscale": [
             [
              0,
              "#0d0887"
             ],
             [
              0.1111111111111111,
              "#46039f"
             ],
             [
              0.2222222222222222,
              "#7201a8"
             ],
             [
              0.3333333333333333,
              "#9c179e"
             ],
             [
              0.4444444444444444,
              "#bd3786"
             ],
             [
              0.5555555555555556,
              "#d8576b"
             ],
             [
              0.6666666666666666,
              "#ed7953"
             ],
             [
              0.7777777777777778,
              "#fb9f3a"
             ],
             [
              0.8888888888888888,
              "#fdca26"
             ],
             [
              1,
              "#f0f921"
             ]
            ],
            "type": "contour"
           }
          ],
          "contourcarpet": [
           {
            "colorbar": {
             "outlinewidth": 0,
             "ticks": ""
            },
            "type": "contourcarpet"
           }
          ],
          "heatmap": [
           {
            "colorbar": {
             "outlinewidth": 0,
             "ticks": ""
            },
            "colorscale": [
             [
              0,
              "#0d0887"
             ],
             [
              0.1111111111111111,
              "#46039f"
             ],
             [
              0.2222222222222222,
              "#7201a8"
             ],
             [
              0.3333333333333333,
              "#9c179e"
             ],
             [
              0.4444444444444444,
              "#bd3786"
             ],
             [
              0.5555555555555556,
              "#d8576b"
             ],
             [
              0.6666666666666666,
              "#ed7953"
             ],
             [
              0.7777777777777778,
              "#fb9f3a"
             ],
             [
              0.8888888888888888,
              "#fdca26"
             ],
             [
              1,
              "#f0f921"
             ]
            ],
            "type": "heatmap"
           }
          ],
          "histogram": [
           {
            "marker": {
             "pattern": {
              "fillmode": "overlay",
              "size": 10,
              "solidity": 0.2
             }
            },
            "type": "histogram"
           }
          ],
          "histogram2d": [
           {
            "colorbar": {
             "outlinewidth": 0,
             "ticks": ""
            },
            "colorscale": [
             [
              0,
              "#0d0887"
             ],
             [
              0.1111111111111111,
              "#46039f"
             ],
             [
              0.2222222222222222,
              "#7201a8"
             ],
             [
              0.3333333333333333,
              "#9c179e"
             ],
             [
              0.4444444444444444,
              "#bd3786"
             ],
             [
              0.5555555555555556,
              "#d8576b"
             ],
             [
              0.6666666666666666,
              "#ed7953"
             ],
             [
              0.7777777777777778,
              "#fb9f3a"
             ],
             [
              0.8888888888888888,
              "#fdca26"
             ],
             [
              1,
              "#f0f921"
             ]
            ],
            "type": "histogram2d"
           }
          ],
          "histogram2dcontour": [
           {
            "colorbar": {
             "outlinewidth": 0,
             "ticks": ""
            },
            "colorscale": [
             [
              0,
              "#0d0887"
             ],
             [
              0.1111111111111111,
              "#46039f"
             ],
             [
              0.2222222222222222,
              "#7201a8"
             ],
             [
              0.3333333333333333,
              "#9c179e"
             ],
             [
              0.4444444444444444,
              "#bd3786"
             ],
             [
              0.5555555555555556,
              "#d8576b"
             ],
             [
              0.6666666666666666,
              "#ed7953"
             ],
             [
              0.7777777777777778,
              "#fb9f3a"
             ],
             [
              0.8888888888888888,
              "#fdca26"
             ],
             [
              1,
              "#f0f921"
             ]
            ],
            "type": "histogram2dcontour"
           }
          ],
          "mesh3d": [
           {
            "colorbar": {
             "outlinewidth": 0,
             "ticks": ""
            },
            "type": "mesh3d"
           }
          ],
          "parcoords": [
           {
            "line": {
             "colorbar": {
              "outlinewidth": 0,
              "ticks": ""
             }
            },
            "type": "parcoords"
           }
          ],
          "pie": [
           {
            "automargin": true,
            "type": "pie"
           }
          ],
          "scatter": [
           {
            "fillpattern": {
             "fillmode": "overlay",
             "size": 10,
             "solidity": 0.2
            },
            "type": "scatter"
           }
          ],
          "scatter3d": [
           {
            "line": {
             "colorbar": {
              "outlinewidth": 0,
              "ticks": ""
             }
            },
            "marker": {
             "colorbar": {
              "outlinewidth": 0,
              "ticks": ""
             }
            },
            "type": "scatter3d"
           }
          ],
          "scattercarpet": [
           {
            "marker": {
             "colorbar": {
              "outlinewidth": 0,
              "ticks": ""
             }
            },
            "type": "scattercarpet"
           }
          ],
          "scattergeo": [
           {
            "marker": {
             "colorbar": {
              "outlinewidth": 0,
              "ticks": ""
             }
            },
            "type": "scattergeo"
           }
          ],
          "scattergl": [
           {
            "marker": {
             "colorbar": {
              "outlinewidth": 0,
              "ticks": ""
             }
            },
            "type": "scattergl"
           }
          ],
          "scattermap": [
           {
            "marker": {
             "colorbar": {
              "outlinewidth": 0,
              "ticks": ""
             }
            },
            "type": "scattermap"
           }
          ],
          "scattermapbox": [
           {
            "marker": {
             "colorbar": {
              "outlinewidth": 0,
              "ticks": ""
             }
            },
            "type": "scattermapbox"
           }
          ],
          "scatterpolar": [
           {
            "marker": {
             "colorbar": {
              "outlinewidth": 0,
              "ticks": ""
             }
            },
            "type": "scatterpolar"
           }
          ],
          "scatterpolargl": [
           {
            "marker": {
             "colorbar": {
              "outlinewidth": 0,
              "ticks": ""
             }
            },
            "type": "scatterpolargl"
           }
          ],
          "scatterternary": [
           {
            "marker": {
             "colorbar": {
              "outlinewidth": 0,
              "ticks": ""
             }
            },
            "type": "scatterternary"
           }
          ],
          "surface": [
           {
            "colorbar": {
             "outlinewidth": 0,
             "ticks": ""
            },
            "colorscale": [
             [
              0,
              "#0d0887"
             ],
             [
              0.1111111111111111,
              "#46039f"
             ],
             [
              0.2222222222222222,
              "#7201a8"
             ],
             [
              0.3333333333333333,
              "#9c179e"
             ],
             [
              0.4444444444444444,
              "#bd3786"
             ],
             [
              0.5555555555555556,
              "#d8576b"
             ],
             [
              0.6666666666666666,
              "#ed7953"
             ],
             [
              0.7777777777777778,
              "#fb9f3a"
             ],
             [
              0.8888888888888888,
              "#fdca26"
             ],
             [
              1,
              "#f0f921"
             ]
            ],
            "type": "surface"
           }
          ],
          "table": [
           {
            "cells": {
             "fill": {
              "color": "#EBF0F8"
             },
             "line": {
              "color": "white"
             }
            },
            "header": {
             "fill": {
              "color": "#C8D4E3"
             },
             "line": {
              "color": "white"
             }
            },
            "type": "table"
           }
          ]
         },
         "layout": {
          "annotationdefaults": {
           "arrowcolor": "#2a3f5f",
           "arrowhead": 0,
           "arrowwidth": 1
          },
          "autotypenumbers": "strict",
          "coloraxis": {
           "colorbar": {
            "outlinewidth": 0,
            "ticks": ""
           }
          },
          "colorscale": {
           "diverging": [
            [
             0,
             "#8e0152"
            ],
            [
             0.1,
             "#c51b7d"
            ],
            [
             0.2,
             "#de77ae"
            ],
            [
             0.3,
             "#f1b6da"
            ],
            [
             0.4,
             "#fde0ef"
            ],
            [
             0.5,
             "#f7f7f7"
            ],
            [
             0.6,
             "#e6f5d0"
            ],
            [
             0.7,
             "#b8e186"
            ],
            [
             0.8,
             "#7fbc41"
            ],
            [
             0.9,
             "#4d9221"
            ],
            [
             1,
             "#276419"
            ]
           ],
           "sequential": [
            [
             0,
             "#0d0887"
            ],
            [
             0.1111111111111111,
             "#46039f"
            ],
            [
             0.2222222222222222,
             "#7201a8"
            ],
            [
             0.3333333333333333,
             "#9c179e"
            ],
            [
             0.4444444444444444,
             "#bd3786"
            ],
            [
             0.5555555555555556,
             "#d8576b"
            ],
            [
             0.6666666666666666,
             "#ed7953"
            ],
            [
             0.7777777777777778,
             "#fb9f3a"
            ],
            [
             0.8888888888888888,
             "#fdca26"
            ],
            [
             1,
             "#f0f921"
            ]
           ],
           "sequentialminus": [
            [
             0,
             "#0d0887"
            ],
            [
             0.1111111111111111,
             "#46039f"
            ],
            [
             0.2222222222222222,
             "#7201a8"
            ],
            [
             0.3333333333333333,
             "#9c179e"
            ],
            [
             0.4444444444444444,
             "#bd3786"
            ],
            [
             0.5555555555555556,
             "#d8576b"
            ],
            [
             0.6666666666666666,
             "#ed7953"
            ],
            [
             0.7777777777777778,
             "#fb9f3a"
            ],
            [
             0.8888888888888888,
             "#fdca26"
            ],
            [
             1,
             "#f0f921"
            ]
           ]
          },
          "colorway": [
           "#636efa",
           "#EF553B",
           "#00cc96",
           "#ab63fa",
           "#FFA15A",
           "#19d3f3",
           "#FF6692",
           "#B6E880",
           "#FF97FF",
           "#FECB52"
          ],
          "font": {
           "color": "#2a3f5f"
          },
          "geo": {
           "bgcolor": "white",
           "lakecolor": "white",
           "landcolor": "#E5ECF6",
           "showlakes": true,
           "showland": true,
           "subunitcolor": "white"
          },
          "hoverlabel": {
           "align": "left"
          },
          "hovermode": "closest",
          "mapbox": {
           "style": "light"
          },
          "paper_bgcolor": "white",
          "plot_bgcolor": "#E5ECF6",
          "polar": {
           "angularaxis": {
            "gridcolor": "white",
            "linecolor": "white",
            "ticks": ""
           },
           "bgcolor": "#E5ECF6",
           "radialaxis": {
            "gridcolor": "white",
            "linecolor": "white",
            "ticks": ""
           }
          },
          "scene": {
           "xaxis": {
            "backgroundcolor": "#E5ECF6",
            "gridcolor": "white",
            "gridwidth": 2,
            "linecolor": "white",
            "showbackground": true,
            "ticks": "",
            "zerolinecolor": "white"
           },
           "yaxis": {
            "backgroundcolor": "#E5ECF6",
            "gridcolor": "white",
            "gridwidth": 2,
            "linecolor": "white",
            "showbackground": true,
            "ticks": "",
            "zerolinecolor": "white"
           },
           "zaxis": {
            "backgroundcolor": "#E5ECF6",
            "gridcolor": "white",
            "gridwidth": 2,
            "linecolor": "white",
            "showbackground": true,
            "ticks": "",
            "zerolinecolor": "white"
           }
          },
          "shapedefaults": {
           "line": {
            "color": "#2a3f5f"
           }
          },
          "ternary": {
           "aaxis": {
            "gridcolor": "white",
            "linecolor": "white",
            "ticks": ""
           },
           "baxis": {
            "gridcolor": "white",
            "linecolor": "white",
            "ticks": ""
           },
           "bgcolor": "#E5ECF6",
           "caxis": {
            "gridcolor": "white",
            "linecolor": "white",
            "ticks": ""
           }
          },
          "title": {
           "x": 0.05
          },
          "xaxis": {
           "automargin": true,
           "gridcolor": "white",
           "linecolor": "white",
           "ticks": "",
           "title": {
            "standoff": 15
           },
           "zerolinecolor": "white",
           "zerolinewidth": 2
          },
          "yaxis": {
           "automargin": true,
           "gridcolor": "white",
           "linecolor": "white",
           "ticks": "",
           "title": {
            "standoff": 15
           },
           "zerolinecolor": "white",
           "zerolinewidth": 2
          }
         }
        },
        "title": {
         "text": "Process Comparison: SMR vs Pentacarbon"
        },
        "xaxis": {
         "anchor": "y",
         "domain": [
          0,
          0.2888888888888889
         ]
        },
        "xaxis2": {
         "anchor": "y2",
         "domain": [
          0.35555555555555557,
          0.6444444444444445
         ]
        },
        "xaxis3": {
         "anchor": "y3",
         "domain": [
          0.7111111111111111,
          1
         ]
        },
        "yaxis": {
         "anchor": "x",
         "domain": [
          0,
          1
         ],
         "title": {
          "text": "kg H₂O / kg H₂"
         }
        },
        "yaxis2": {
         "anchor": "x2",
         "domain": [
          0,
          1
         ],
         "title": {
          "text": "kg CO₂ / kg H₂"
         }
        },
        "yaxis3": {
         "anchor": "x3",
         "domain": [
          0,
          1
         ],
         "title": {
          "text": "$ / kg H₂"
         }
        }
       }
      }
     },
     "metadata": {},
     "output_type": "display_data"
    },
    {
     "name": "stdout",
     "output_type": "stream",
     "text": [
      "\n",
      "* SMR cost varies by region and natural gas prices. $2.50/kg is typical for US Gulf Coast.\n"
     ]
    }
   ],
   "source": [
    "# SMR baseline data (from performance_metrics.txt)\n",
    "comparison_data = {\n",
    "    'Metric': [\n",
    "        'Water Consumption (kg/kg H₂)',\n",
    "        'CO₂ Emissions (kg/kg H₂)',\n",
    "        'Energy Consumption (kJ/kg H₂)',\n",
    "        'Thermal Efficiency (%)',\n",
    "        'H₂ Production Cost ($/kg)*'\n",
    "    ],\n",
    "    'Steam Methane Reforming': [\n",
    "        4.5,      # Water\n",
    "        9.7,      # CO2\n",
    "        96000,    # Energy\n",
    "        75,       # Efficiency\n",
    "        2.50      # Cost (typical)\n",
    "    ],\n",
    "    'Pentacarbon Plasma Process': [\n",
    "        water_per_kg_h2,     # 0.6\n",
    "        co2_per_kg_h2,       # 0.12\n",
    "        132641,              # Higher but renewable\n",
    "        45.2,                # Lower but renewable\n",
    "        lcoh                 # 2.41\n",
    "    ]\n",
    "}\n",
    "\n",
    "comparison_df = pd.DataFrame(comparison_data)\n",
    "\n",
    "# Calculate improvements\n",
    "comparison_df['Improvement (%)'] = (\n",
    "    (comparison_df['Steam Methane Reforming'] - comparison_df['Pentacarbon Plasma Process']) / \n",
    "    comparison_df['Steam Methane Reforming'] * 100\n",
    ").round(1)\n",
    "\n",
    "# Display with styling\n",
    "display(comparison_df.style.set_properties(**{'text-align': 'center'}).set_table_styles(\n",
    "    [dict(selector='th', props=[('text-align', 'center')])]\n",
    ").format({\n",
    "    'Steam Methane Reforming': '{:.1f}',\n",
    "    'Pentacarbon Plasma Process': '{:.2f}',\n",
    "    'Improvement (%)': '{:+.1f}%'\n",
    "}))\n",
    "\n",
    "print(f\"\\n🌟 Environmental Advantages:\")\n",
    "print(f\"   • Water Consumption:  {(1 - water_per_kg_h2/4.5)*100:.1f}% reduction\")\n",
    "print(f\"   • CO₂ Emissions:      {(1 - co2_per_kg_h2/9.7)*100:.1f}% reduction\")\n",
    "print(f\"   • Near-zero emissions when using renewable electricity\")\n",
    "print(f\"\\n⚡ Energy Trade-off:\")\n",
    "print(f\"   • Higher energy intensity BUT from renewable sources\")\n",
    "print(f\"   • SMR efficiency is higher but produces CO₂\")\n",
    "print(f\"   • Our process: Higher energy input, zero carbon output\")\n",
    "print(f\"\\n💰 Cost Competitiveness:\")\n",
    "print(f\"   • LCOH: ${lcoh:.2f}/kg vs ~$2.50/kg for SMR\")\n",
    "print(f\"   • Competitive despite higher energy use\")\n",
    "print(f\"   • Acetylene black co-product revenue is key differentiator\")\n",
    "\n",
    "# Visualize key metrics\n",
    "fig = make_subplots(\n",
    "    rows=1, cols=3,\n",
    "    subplot_titles=('Water Consumption', 'CO₂ Emissions', 'Production Cost'),\n",
    "    specs=[[{'type': 'bar'}, {'type': 'bar'}, {'type': 'bar'}]]\n",
    ")\n",
    "\n",
    "processes = ['SMR', 'Pentacarbon']\n",
    "colors = ['#e74c3c', '#2ecc71']\n",
    "\n",
    "# Water\n",
    "fig.add_trace(\n",
    "    go.Bar(x=processes, y=[4.5, water_per_kg_h2], name='Water', marker_color=colors, showlegend=False),\n",
    "    row=1, col=1\n",
    ")\n",
    "\n",
    "# CO2\n",
    "fig.add_trace(\n",
    "    go.Bar(x=processes, y=[9.7, co2_per_kg_h2], name='CO2', marker_color=colors, showlegend=False),\n",
    "    row=1, col=2\n",
    ")\n",
    "\n",
    "# Cost\n",
    "fig.add_trace(\n",
    "    go.Bar(x=processes, y=[2.50, lcoh], name='Cost', marker_color=colors, showlegend=False),\n",
    "    row=1, col=3\n",
    ")\n",
    "\n",
    "fig.update_yaxes(title_text=\"kg H₂O / kg H₂\", row=1, col=1)\n",
    "fig.update_yaxes(title_text=\"kg CO₂ / kg H₂\", row=1, col=2)\n",
    "fig.update_yaxes(title_text=\"$ / kg H₂\", row=1, col=3)\n",
    "\n",
    "fig.update_layout(height=400, showlegend=False, title_text=\"Process Comparison: SMR vs Pentacarbon\")\n",
    "\n",
    "fig.show()\n",
    "\n",
    "print(f\"\\n* SMR cost varies by region and natural gas prices. $2.50/kg is typical for US Gulf Coast.\")"
   ]
  },
  {
   "cell_type": "code",
   "execution_count": 110,
   "id": "e70b2b1d",
   "metadata": {},
   "outputs": [
    {
     "name": "stdout",
     "output_type": "stream",
     "text": [
      "================================================================================\n",
      "PROJECT FINANCIAL ANALYSIS\n",
      "================================================================================\n",
      "\n",
      "💰 Net Present Value:\n",
      "   NPV (15% discount):    $  -21.42 million\n",
      "   From thesis:           $   20.63 million\n",
      "   Match: ✗\n",
      "\n",
      "📈 Internal Rate of Return:\n",
      "   Calculated IRR:            5.11%\n",
      "   From thesis:              85.95%\n",
      "\n",
      "⏱️ Payback Period:\n",
      "   Calculated:                13.0 years\n",
      "   From thesis:                3.2 years\n",
      "\n",
      "💵 Total Cash Generation:\n",
      "   20-year total:         $   71.86 million\n",
      "   Initial Investment:    $   45.63 million\n",
      "   Net Cash Return:       $   26.23 million\n"
     ]
    },
    {
     "data": {
      "application/vnd.plotly.v1+json": {
       "config": {
        "plotlyServerURL": "https://plot.ly"
       },
       "data": [
        {
         "fill": "tozeroy",
         "line": {
          "color": "#2ecc71",
          "width": 3
         },
         "marker": {
          "size": 6
         },
         "mode": "lines+markers",
         "name": "Cumulative Cash Flow",
         "type": "scatter",
         "x": [
          0,
          1,
          2,
          3,
          4,
          5,
          6,
          7,
          8,
          9,
          10,
          11,
          12,
          13,
          14,
          15,
          16,
          17,
          18,
          19,
          20
         ],
         "y": [
          -45630071,
          -41468990,
          -37307909,
          -33146828,
          -28985747,
          -24824666,
          -20663585,
          -16502504,
          -13215250.01,
          -9927996.02,
          -6640742.029999999,
          -3353488.039999999,
          -66234.04999999888,
          3221019.9400000013,
          6508273.930000002,
          9795527.920000002,
          13082781.910000002,
          16370035.900000002,
          19657289.89,
          22944543.880000003,
          26231797.870000005
         ]
        }
       ],
       "layout": {
        "annotations": [
         {
          "showarrow": false,
          "text": "Break Even",
          "x": 1,
          "xanchor": "right",
          "xref": "x domain",
          "y": 0,
          "yanchor": "bottom",
          "yref": "y"
         },
         {
          "showarrow": false,
          "text": "Payback: 13.0 years",
          "x": 13.02014874731356,
          "xanchor": "left",
          "xref": "x",
          "y": 1,
          "yanchor": "top",
          "yref": "y domain"
         }
        ],
        "height": 500,
        "hovermode": "x unified",
        "shapes": [
         {
          "line": {
           "color": "red",
           "dash": "dash"
          },
          "type": "line",
          "x0": 0,
          "x1": 1,
          "xref": "x domain",
          "y0": 0,
          "y1": 0,
          "yref": "y"
         },
         {
          "line": {
           "color": "orange",
           "dash": "dot"
          },
          "type": "line",
          "x0": 13.02014874731356,
          "x1": 13.02014874731356,
          "xref": "x",
          "y0": 0,
          "y1": 1,
          "yref": "y domain"
         }
        ],
        "template": {
         "data": {
          "bar": [
           {
            "error_x": {
             "color": "#2a3f5f"
            },
            "error_y": {
             "color": "#2a3f5f"
            },
            "marker": {
             "line": {
              "color": "#E5ECF6",
              "width": 0.5
             },
             "pattern": {
              "fillmode": "overlay",
              "size": 10,
              "solidity": 0.2
             }
            },
            "type": "bar"
           }
          ],
          "barpolar": [
           {
            "marker": {
             "line": {
              "color": "#E5ECF6",
              "width": 0.5
             },
             "pattern": {
              "fillmode": "overlay",
              "size": 10,
              "solidity": 0.2
             }
            },
            "type": "barpolar"
           }
          ],
          "carpet": [
           {
            "aaxis": {
             "endlinecolor": "#2a3f5f",
             "gridcolor": "white",
             "linecolor": "white",
             "minorgridcolor": "white",
             "startlinecolor": "#2a3f5f"
            },
            "baxis": {
             "endlinecolor": "#2a3f5f",
             "gridcolor": "white",
             "linecolor": "white",
             "minorgridcolor": "white",
             "startlinecolor": "#2a3f5f"
            },
            "type": "carpet"
           }
          ],
          "choropleth": [
           {
            "colorbar": {
             "outlinewidth": 0,
             "ticks": ""
            },
            "type": "choropleth"
           }
          ],
          "contour": [
           {
            "colorbar": {
             "outlinewidth": 0,
             "ticks": ""
            },
            "colorscale": [
             [
              0,
              "#0d0887"
             ],
             [
              0.1111111111111111,
              "#46039f"
             ],
             [
              0.2222222222222222,
              "#7201a8"
             ],
             [
              0.3333333333333333,
              "#9c179e"
             ],
             [
              0.4444444444444444,
              "#bd3786"
             ],
             [
              0.5555555555555556,
              "#d8576b"
             ],
             [
              0.6666666666666666,
              "#ed7953"
             ],
             [
              0.7777777777777778,
              "#fb9f3a"
             ],
             [
              0.8888888888888888,
              "#fdca26"
             ],
             [
              1,
              "#f0f921"
             ]
            ],
            "type": "contour"
           }
          ],
          "contourcarpet": [
           {
            "colorbar": {
             "outlinewidth": 0,
             "ticks": ""
            },
            "type": "contourcarpet"
           }
          ],
          "heatmap": [
           {
            "colorbar": {
             "outlinewidth": 0,
             "ticks": ""
            },
            "colorscale": [
             [
              0,
              "#0d0887"
             ],
             [
              0.1111111111111111,
              "#46039f"
             ],
             [
              0.2222222222222222,
              "#7201a8"
             ],
             [
              0.3333333333333333,
              "#9c179e"
             ],
             [
              0.4444444444444444,
              "#bd3786"
             ],
             [
              0.5555555555555556,
              "#d8576b"
             ],
             [
              0.6666666666666666,
              "#ed7953"
             ],
             [
              0.7777777777777778,
              "#fb9f3a"
             ],
             [
              0.8888888888888888,
              "#fdca26"
             ],
             [
              1,
              "#f0f921"
             ]
            ],
            "type": "heatmap"
           }
          ],
          "histogram": [
           {
            "marker": {
             "pattern": {
              "fillmode": "overlay",
              "size": 10,
              "solidity": 0.2
             }
            },
            "type": "histogram"
           }
          ],
          "histogram2d": [
           {
            "colorbar": {
             "outlinewidth": 0,
             "ticks": ""
            },
            "colorscale": [
             [
              0,
              "#0d0887"
             ],
             [
              0.1111111111111111,
              "#46039f"
             ],
             [
              0.2222222222222222,
              "#7201a8"
             ],
             [
              0.3333333333333333,
              "#9c179e"
             ],
             [
              0.4444444444444444,
              "#bd3786"
             ],
             [
              0.5555555555555556,
              "#d8576b"
             ],
             [
              0.6666666666666666,
              "#ed7953"
             ],
             [
              0.7777777777777778,
              "#fb9f3a"
             ],
             [
              0.8888888888888888,
              "#fdca26"
             ],
             [
              1,
              "#f0f921"
             ]
            ],
            "type": "histogram2d"
           }
          ],
          "histogram2dcontour": [
           {
            "colorbar": {
             "outlinewidth": 0,
             "ticks": ""
            },
            "colorscale": [
             [
              0,
              "#0d0887"
             ],
             [
              0.1111111111111111,
              "#46039f"
             ],
             [
              0.2222222222222222,
              "#7201a8"
             ],
             [
              0.3333333333333333,
              "#9c179e"
             ],
             [
              0.4444444444444444,
              "#bd3786"
             ],
             [
              0.5555555555555556,
              "#d8576b"
             ],
             [
              0.6666666666666666,
              "#ed7953"
             ],
             [
              0.7777777777777778,
              "#fb9f3a"
             ],
             [
              0.8888888888888888,
              "#fdca26"
             ],
             [
              1,
              "#f0f921"
             ]
            ],
            "type": "histogram2dcontour"
           }
          ],
          "mesh3d": [
           {
            "colorbar": {
             "outlinewidth": 0,
             "ticks": ""
            },
            "type": "mesh3d"
           }
          ],
          "parcoords": [
           {
            "line": {
             "colorbar": {
              "outlinewidth": 0,
              "ticks": ""
             }
            },
            "type": "parcoords"
           }
          ],
          "pie": [
           {
            "automargin": true,
            "type": "pie"
           }
          ],
          "scatter": [
           {
            "fillpattern": {
             "fillmode": "overlay",
             "size": 10,
             "solidity": 0.2
            },
            "type": "scatter"
           }
          ],
          "scatter3d": [
           {
            "line": {
             "colorbar": {
              "outlinewidth": 0,
              "ticks": ""
             }
            },
            "marker": {
             "colorbar": {
              "outlinewidth": 0,
              "ticks": ""
             }
            },
            "type": "scatter3d"
           }
          ],
          "scattercarpet": [
           {
            "marker": {
             "colorbar": {
              "outlinewidth": 0,
              "ticks": ""
             }
            },
            "type": "scattercarpet"
           }
          ],
          "scattergeo": [
           {
            "marker": {
             "colorbar": {
              "outlinewidth": 0,
              "ticks": ""
             }
            },
            "type": "scattergeo"
           }
          ],
          "scattergl": [
           {
            "marker": {
             "colorbar": {
              "outlinewidth": 0,
              "ticks": ""
             }
            },
            "type": "scattergl"
           }
          ],
          "scattermap": [
           {
            "marker": {
             "colorbar": {
              "outlinewidth": 0,
              "ticks": ""
             }
            },
            "type": "scattermap"
           }
          ],
          "scattermapbox": [
           {
            "marker": {
             "colorbar": {
              "outlinewidth": 0,
              "ticks": ""
             }
            },
            "type": "scattermapbox"
           }
          ],
          "scatterpolar": [
           {
            "marker": {
             "colorbar": {
              "outlinewidth": 0,
              "ticks": ""
             }
            },
            "type": "scatterpolar"
           }
          ],
          "scatterpolargl": [
           {
            "marker": {
             "colorbar": {
              "outlinewidth": 0,
              "ticks": ""
             }
            },
            "type": "scatterpolargl"
           }
          ],
          "scatterternary": [
           {
            "marker": {
             "colorbar": {
              "outlinewidth": 0,
              "ticks": ""
             }
            },
            "type": "scatterternary"
           }
          ],
          "surface": [
           {
            "colorbar": {
             "outlinewidth": 0,
             "ticks": ""
            },
            "colorscale": [
             [
              0,
              "#0d0887"
             ],
             [
              0.1111111111111111,
              "#46039f"
             ],
             [
              0.2222222222222222,
              "#7201a8"
             ],
             [
              0.3333333333333333,
              "#9c179e"
             ],
             [
              0.4444444444444444,
              "#bd3786"
             ],
             [
              0.5555555555555556,
              "#d8576b"
             ],
             [
              0.6666666666666666,
              "#ed7953"
             ],
             [
              0.7777777777777778,
              "#fb9f3a"
             ],
             [
              0.8888888888888888,
              "#fdca26"
             ],
             [
              1,
              "#f0f921"
             ]
            ],
            "type": "surface"
           }
          ],
          "table": [
           {
            "cells": {
             "fill": {
              "color": "#EBF0F8"
             },
             "line": {
              "color": "white"
             }
            },
            "header": {
             "fill": {
              "color": "#C8D4E3"
             },
             "line": {
              "color": "white"
             }
            },
            "type": "table"
           }
          ]
         },
         "layout": {
          "annotationdefaults": {
           "arrowcolor": "#2a3f5f",
           "arrowhead": 0,
           "arrowwidth": 1
          },
          "autotypenumbers": "strict",
          "coloraxis": {
           "colorbar": {
            "outlinewidth": 0,
            "ticks": ""
           }
          },
          "colorscale": {
           "diverging": [
            [
             0,
             "#8e0152"
            ],
            [
             0.1,
             "#c51b7d"
            ],
            [
             0.2,
             "#de77ae"
            ],
            [
             0.3,
             "#f1b6da"
            ],
            [
             0.4,
             "#fde0ef"
            ],
            [
             0.5,
             "#f7f7f7"
            ],
            [
             0.6,
             "#e6f5d0"
            ],
            [
             0.7,
             "#b8e186"
            ],
            [
             0.8,
             "#7fbc41"
            ],
            [
             0.9,
             "#4d9221"
            ],
            [
             1,
             "#276419"
            ]
           ],
           "sequential": [
            [
             0,
             "#0d0887"
            ],
            [
             0.1111111111111111,
             "#46039f"
            ],
            [
             0.2222222222222222,
             "#7201a8"
            ],
            [
             0.3333333333333333,
             "#9c179e"
            ],
            [
             0.4444444444444444,
             "#bd3786"
            ],
            [
             0.5555555555555556,
             "#d8576b"
            ],
            [
             0.6666666666666666,
             "#ed7953"
            ],
            [
             0.7777777777777778,
             "#fb9f3a"
            ],
            [
             0.8888888888888888,
             "#fdca26"
            ],
            [
             1,
             "#f0f921"
            ]
           ],
           "sequentialminus": [
            [
             0,
             "#0d0887"
            ],
            [
             0.1111111111111111,
             "#46039f"
            ],
            [
             0.2222222222222222,
             "#7201a8"
            ],
            [
             0.3333333333333333,
             "#9c179e"
            ],
            [
             0.4444444444444444,
             "#bd3786"
            ],
            [
             0.5555555555555556,
             "#d8576b"
            ],
            [
             0.6666666666666666,
             "#ed7953"
            ],
            [
             0.7777777777777778,
             "#fb9f3a"
            ],
            [
             0.8888888888888888,
             "#fdca26"
            ],
            [
             1,
             "#f0f921"
            ]
           ]
          },
          "colorway": [
           "#636efa",
           "#EF553B",
           "#00cc96",
           "#ab63fa",
           "#FFA15A",
           "#19d3f3",
           "#FF6692",
           "#B6E880",
           "#FF97FF",
           "#FECB52"
          ],
          "font": {
           "color": "#2a3f5f"
          },
          "geo": {
           "bgcolor": "white",
           "lakecolor": "white",
           "landcolor": "#E5ECF6",
           "showlakes": true,
           "showland": true,
           "subunitcolor": "white"
          },
          "hoverlabel": {
           "align": "left"
          },
          "hovermode": "closest",
          "mapbox": {
           "style": "light"
          },
          "paper_bgcolor": "white",
          "plot_bgcolor": "#E5ECF6",
          "polar": {
           "angularaxis": {
            "gridcolor": "white",
            "linecolor": "white",
            "ticks": ""
           },
           "bgcolor": "#E5ECF6",
           "radialaxis": {
            "gridcolor": "white",
            "linecolor": "white",
            "ticks": ""
           }
          },
          "scene": {
           "xaxis": {
            "backgroundcolor": "#E5ECF6",
            "gridcolor": "white",
            "gridwidth": 2,
            "linecolor": "white",
            "showbackground": true,
            "ticks": "",
            "zerolinecolor": "white"
           },
           "yaxis": {
            "backgroundcolor": "#E5ECF6",
            "gridcolor": "white",
            "gridwidth": 2,
            "linecolor": "white",
            "showbackground": true,
            "ticks": "",
            "zerolinecolor": "white"
           },
           "zaxis": {
            "backgroundcolor": "#E5ECF6",
            "gridcolor": "white",
            "gridwidth": 2,
            "linecolor": "white",
            "showbackground": true,
            "ticks": "",
            "zerolinecolor": "white"
           }
          },
          "shapedefaults": {
           "line": {
            "color": "#2a3f5f"
           }
          },
          "ternary": {
           "aaxis": {
            "gridcolor": "white",
            "linecolor": "white",
            "ticks": ""
           },
           "baxis": {
            "gridcolor": "white",
            "linecolor": "white",
            "ticks": ""
           },
           "bgcolor": "#E5ECF6",
           "caxis": {
            "gridcolor": "white",
            "linecolor": "white",
            "ticks": ""
           }
          },
          "title": {
           "x": 0.05
          },
          "xaxis": {
           "automargin": true,
           "gridcolor": "white",
           "linecolor": "white",
           "ticks": "",
           "title": {
            "standoff": 15
           },
           "zerolinecolor": "white",
           "zerolinewidth": 2
          },
          "yaxis": {
           "automargin": true,
           "gridcolor": "white",
           "linecolor": "white",
           "ticks": "",
           "title": {
            "standoff": 15
           },
           "zerolinecolor": "white",
           "zerolinewidth": 2
          }
         }
        },
        "title": {
         "text": "Cumulative Cash Flow Over Project Life"
        },
        "xaxis": {
         "title": {
          "text": "Year"
         }
        },
        "yaxis": {
         "title": {
          "text": "Cumulative Cash Flow (USD)"
         }
        }
       }
      }
     },
     "metadata": {},
     "output_type": "display_data"
    },
    {
     "name": "stdout",
     "output_type": "stream",
     "text": [
      "\n",
      "🎯 Investment Attractiveness:\n"
     ]
    }
   ],
   "source": [
    "def calculate_project_npv(capex, annual_revenue, annual_variable_costs, \n",
    "                          discount_rate, project_life, \n",
    "                          annual_fixed_costs=0, tax_rate=0.21):\n",
    "    \"\"\"\n",
    "    Calculate NPV and IRR with more detailed cash flow model\n",
    "    \n",
    "    Parameters match actual thesis financial structure\n",
    "    \"\"\"\n",
    "    \n",
    "    # Year 0: Capital investment\n",
    "    cash_flows = [-capex]\n",
    "    \n",
    "    # Years 1-20: Operating cash flows\n",
    "    for year in range(1, project_life + 1):\n",
    "        # Revenue\n",
    "        revenue = annual_revenue\n",
    "        \n",
    "        # Costs\n",
    "        variable_cost = annual_variable_costs\n",
    "        fixed_cost = annual_fixed_costs\n",
    "        \n",
    "        # EBITDA\n",
    "        ebitda = revenue - variable_cost - fixed_cost\n",
    "        \n",
    "        # Depreciation (simplified - straight line over 7 years)\n",
    "        if year <= 7:\n",
    "            depreciation = capex / 7\n",
    "        else:\n",
    "            depreciation = 0\n",
    "        \n",
    "        # EBIT\n",
    "        ebit = ebitda - depreciation\n",
    "        \n",
    "        # Taxes\n",
    "        taxes = max(0, ebit * tax_rate)\n",
    "        \n",
    "        # Net Income\n",
    "        net_income = ebit - taxes\n",
    "        \n",
    "        # Cash Flow = Net Income + Depreciation (add back non-cash)\n",
    "        cash_flow = net_income + depreciation\n",
    "        \n",
    "        cash_flows.append(cash_flow)\n",
    "    \n",
    "    # Calculate NPV\n",
    "    npv_calc = npf.npv(discount_rate, cash_flows)\n",
    "    \n",
    "    # Calculate IRR\n",
    "    try:\n",
    "        irr_calc = npf.irr(cash_flows) * 100\n",
    "    except:\n",
    "        irr_calc = None\n",
    "    \n",
    "    # Simple payback\n",
    "    cumulative = -capex\n",
    "    payback_year = None\n",
    "    for year in range(1, project_life + 1):\n",
    "        cumulative += cash_flows[year]\n",
    "        if cumulative >= 0 and payback_year is None:\n",
    "            payback_year = year + abs(cumulative - cash_flows[year]) / cash_flows[year]\n",
    "            break\n",
    "    \n",
    "    return {\n",
    "        'NPV': npv_calc,\n",
    "        'IRR': irr_calc,\n",
    "        'Payback': payback_year,\n",
    "        'Cash Flows': cash_flows,\n",
    "        'Total Cash Generated': sum(cash_flows[1:])\n",
    "    }\n",
    "\n",
    "# Calculate with your actual numbers\n",
    "results = calculate_project_npv(\n",
    "    capex=capex,\n",
    "    annual_revenue=total_revenue,\n",
    "    annual_variable_costs=variable_costs,\n",
    "    discount_rate=discount_rate,\n",
    "    project_life=int(plant_lifetime),\n",
    "    annual_fixed_costs=0,  # Not separated in your data\n",
    "    tax_rate=0.21\n",
    ")\n",
    "\n",
    "print(\"=\"*80)\n",
    "print(\"PROJECT FINANCIAL ANALYSIS\")\n",
    "print(\"=\"*80)\n",
    "print(f\"\\n💰 Net Present Value:\")\n",
    "print(f\"   NPV (15% discount):    ${results['NPV']/1e6:>8.2f} million\")\n",
    "print(f\"   From thesis:           ${npv/1e6:>8.2f} million\")\n",
    "print(f\"   Match: {'✓' if abs(results['NPV'] - npv) < 1e6 else '✗'}\")\n",
    "\n",
    "print(f\"\\n📈 Internal Rate of Return:\")\n",
    "print(f\"   Calculated IRR:        {results['IRR']:>8.2f}%\")\n",
    "print(f\"   From thesis:           {irr:>8.2f}%\")\n",
    "\n",
    "print(f\"\\n⏱️ Payback Period:\")\n",
    "print(f\"   Calculated:            {results['Payback']:>8.1f} years\")\n",
    "print(f\"   From thesis:           {payback:>8.1f} years\")\n",
    "\n",
    "print(f\"\\n💵 Total Cash Generation:\")\n",
    "print(f\"   20-year total:         ${results['Total Cash Generated']/1e6:>8.2f} million\")\n",
    "print(f\"   Initial Investment:    ${capex/1e6:>8.2f} million\")\n",
    "print(f\"   Net Cash Return:       ${(results['Total Cash Generated'] - capex)/1e6:>8.2f} million\")\n",
    "\n",
    "# Visualize cumulative cash flow\n",
    "years = list(range(0, int(plant_lifetime) + 1))\n",
    "cumulative_cf = [results['Cash Flows'][0]]  # Start with -CapEx\n",
    "\n",
    "for i in range(1, len(results['Cash Flows'])):\n",
    "    cumulative_cf.append(cumulative_cf[-1] + results['Cash Flows'][i])\n",
    "\n",
    "fig = go.Figure()\n",
    "\n",
    "fig.add_trace(go.Scatter(\n",
    "    x=years,\n",
    "    y=cumulative_cf,\n",
    "    mode='lines+markers',\n",
    "    name='Cumulative Cash Flow',\n",
    "    fill='tozeroy',\n",
    "    line=dict(width=3, color='#2ecc71'),\n",
    "    marker=dict(size=6)\n",
    "))\n",
    "\n",
    "fig.add_hline(y=0, line_dash=\"dash\", line_color=\"red\", annotation_text=\"Break Even\")\n",
    "\n",
    "# Mark payback point\n",
    "if results['Payback']:\n",
    "    fig.add_vline(x=results['Payback'], line_dash=\"dot\", line_color=\"orange\",\n",
    "                  annotation_text=f\"Payback: {results['Payback']:.1f} years\")\n",
    "\n",
    "fig.update_layout(\n",
    "    title='Cumulative Cash Flow Over Project Life',\n",
    "    xaxis_title='Year',\n",
    "    yaxis_title='Cumulative Cash Flow (USD)',\n",
    "    hovermode='x unified',\n",
    "    height=500\n",
    ")\n",
    "\n",
    "fig.show()\n",
    "\n",
    "print(f\"\\n🎯 Investment Attractiveness:\")\n",
    "if results['NPV'] > 0:\n",
    "    print(f\"   ✅ Positive NPV: Project creates value\")\n",
    "if results['IRR'] and results['IRR'] > discount_rate * 100:\n",
    "    print(f\"   ✅ IRR ({results['IRR']:.1f}%) exceeds discount rate ({discount_rate*100}%)\")\n",
    "if results['Payback'] and results['Payback'] < 5:\n",
    "    print(f\"   ✅ Fast payback: {results['Payback']:.1f} years is excellent for chemical industry\")"
   ]
  },
  {
   "cell_type": "code",
   "execution_count": 111,
   "id": "9855b189",
   "metadata": {},
   "outputs": [
    {
     "data": {
      "application/vnd.plotly.v1+json": {
       "config": {
        "plotlyServerURL": "https://plot.ly"
       },
       "data": [
        {
         "hovertemplate": "Capacity Factor<br>Low Case: $18.6M<extra></extra>",
         "marker": {
          "color": "#3498db"
         },
         "name": "Capacity Factor",
         "orientation": "h",
         "showlegend": false,
         "type": "bar",
         "x": [
          -2062580
         ],
         "y": [
          "Capacity Factor"
         ]
        },
        {
         "hovertemplate": "Capacity Factor<br>High Case: $22.7M<extra></extra>",
         "marker": {
          "color": "#e74c3c"
         },
         "name": "Capacity Factor",
         "orientation": "h",
         "showlegend": false,
         "type": "bar",
         "x": [
          2062580
         ],
         "y": [
          "Capacity Factor"
         ]
        },
        {
         "hovertemplate": "Discount Rate<br>Low Case: $18.6M<extra></extra>",
         "marker": {
          "color": "#3498db"
         },
         "name": "Discount Rate",
         "orientation": "h",
         "showlegend": false,
         "type": "bar",
         "x": [
          -2062580
         ],
         "y": [
          "Discount Rate"
         ]
        },
        {
         "hovertemplate": "Discount Rate<br>High Case: $22.7M<extra></extra>",
         "marker": {
          "color": "#e74c3c"
         },
         "name": "Discount Rate",
         "orientation": "h",
         "showlegend": false,
         "type": "bar",
         "x": [
          2062580
         ],
         "y": [
          "Discount Rate"
         ]
        },
        {
         "hovertemplate": "Carbon Conversion<br>Low Case: $18.6M<extra></extra>",
         "marker": {
          "color": "#3498db"
         },
         "name": "Carbon Conversion",
         "orientation": "h",
         "showlegend": false,
         "type": "bar",
         "x": [
          -2062580
         ],
         "y": [
          "Carbon Conversion"
         ]
        },
        {
         "hovertemplate": "Carbon Conversion<br>High Case: $22.7M<extra></extra>",
         "marker": {
          "color": "#e74c3c"
         },
         "name": "Carbon Conversion",
         "orientation": "h",
         "showlegend": false,
         "type": "bar",
         "x": [
          2062580
         ],
         "y": [
          "Carbon Conversion"
         ]
        },
        {
         "hovertemplate": "Rng Price<br>Low Case: $26.3M<extra></extra>",
         "marker": {
          "color": "#3498db"
         },
         "name": "Rng Price",
         "orientation": "h",
         "showlegend": false,
         "type": "bar",
         "x": [
          5719837.190276299
         ],
         "y": [
          "Rng Price"
         ]
        },
        {
         "hovertemplate": "Rng Price<br>High Case: $12.0M<extra></extra>",
         "marker": {
          "color": "#e74c3c"
         },
         "name": "Rng Price",
         "orientation": "h",
         "showlegend": false,
         "type": "bar",
         "x": [
          -8579755.785414448
         ],
         "y": [
          "Rng Price"
         ]
        },
        {
         "hovertemplate": "Capex Total<br>Low Case: $29.8M<extra></extra>",
         "marker": {
          "color": "#3498db"
         },
         "name": "Capex Total",
         "orientation": "h",
         "showlegend": false,
         "type": "bar",
         "x": [
          9126014
         ],
         "y": [
          "Capex Total"
         ]
        },
        {
         "hovertemplate": "Capex Total<br>High Case: $11.5M<extra></extra>",
         "marker": {
          "color": "#e74c3c"
         },
         "name": "Capex Total",
         "orientation": "h",
         "showlegend": false,
         "type": "bar",
         "x": [
          -9126014
         ],
         "y": [
          "Capex Total"
         ]
        },
        {
         "hovertemplate": "Electricity Price<br>Low Case: $34.9M<extra></extra>",
         "marker": {
          "color": "#3498db"
         },
         "name": "Electricity Price",
         "orientation": "h",
         "showlegend": false,
         "type": "bar",
         "x": [
          14280885.286080673
         ],
         "y": [
          "Electricity Price"
         ]
        },
        {
         "hovertemplate": "Electricity Price<br>High Case: $-15.1M<extra></extra>",
         "marker": {
          "color": "#e74c3c"
         },
         "name": "Electricity Price",
         "orientation": "h",
         "showlegend": false,
         "type": "bar",
         "x": [
          -35702213.21520167
         ],
         "y": [
          "Electricity Price"
         ]
        },
        {
         "hovertemplate": "Hydrogen Price<br>Low Case: $-2.3M<extra></extra>",
         "marker": {
          "color": "#3498db"
         },
         "name": "Hydrogen Price",
         "orientation": "h",
         "showlegend": false,
         "type": "bar",
         "x": [
          -22895984.56192282
         ],
         "y": [
          "Hydrogen Price"
         ]
        },
        {
         "hovertemplate": "Hydrogen Price<br>High Case: $55.9M<extra></extra>",
         "marker": {
          "color": "#e74c3c"
         },
         "name": "Hydrogen Price",
         "orientation": "h",
         "showlegend": false,
         "type": "bar",
         "x": [
          35314145.68025383
         ],
         "y": [
          "Hydrogen Price"
         ]
        },
        {
         "hovertemplate": "Acetylene Black Price<br>Low Case: $-20.0M<extra></extra>",
         "marker": {
          "color": "#3498db"
         },
         "name": "Acetylene Black Price",
         "orientation": "h",
         "showlegend": false,
         "type": "bar",
         "x": [
          -40674938.603759676
         ],
         "y": [
          "Acetylene Black Price"
         ]
        },
        {
         "hovertemplate": "Acetylene Black Price<br>High Case: $61.3M<extra></extra>",
         "marker": {
          "color": "#e74c3c"
         },
         "name": "Acetylene Black Price",
         "orientation": "h",
         "showlegend": false,
         "type": "bar",
         "x": [
          40674938.603759676
         ],
         "y": [
          "Acetylene Black Price"
         ]
        }
       ],
       "layout": {
        "barmode": "overlay",
        "height": 500,
        "hovermode": "y unified",
        "shapes": [
         {
          "line": {
           "color": "black",
           "dash": "solid",
           "width": 2
          },
          "type": "line",
          "x0": 0,
          "x1": 0,
          "xref": "x",
          "y0": 0,
          "y1": 1,
          "yref": "y domain"
         }
        ],
        "template": {
         "data": {
          "bar": [
           {
            "error_x": {
             "color": "#2a3f5f"
            },
            "error_y": {
             "color": "#2a3f5f"
            },
            "marker": {
             "line": {
              "color": "#E5ECF6",
              "width": 0.5
             },
             "pattern": {
              "fillmode": "overlay",
              "size": 10,
              "solidity": 0.2
             }
            },
            "type": "bar"
           }
          ],
          "barpolar": [
           {
            "marker": {
             "line": {
              "color": "#E5ECF6",
              "width": 0.5
             },
             "pattern": {
              "fillmode": "overlay",
              "size": 10,
              "solidity": 0.2
             }
            },
            "type": "barpolar"
           }
          ],
          "carpet": [
           {
            "aaxis": {
             "endlinecolor": "#2a3f5f",
             "gridcolor": "white",
             "linecolor": "white",
             "minorgridcolor": "white",
             "startlinecolor": "#2a3f5f"
            },
            "baxis": {
             "endlinecolor": "#2a3f5f",
             "gridcolor": "white",
             "linecolor": "white",
             "minorgridcolor": "white",
             "startlinecolor": "#2a3f5f"
            },
            "type": "carpet"
           }
          ],
          "choropleth": [
           {
            "colorbar": {
             "outlinewidth": 0,
             "ticks": ""
            },
            "type": "choropleth"
           }
          ],
          "contour": [
           {
            "colorbar": {
             "outlinewidth": 0,
             "ticks": ""
            },
            "colorscale": [
             [
              0,
              "#0d0887"
             ],
             [
              0.1111111111111111,
              "#46039f"
             ],
             [
              0.2222222222222222,
              "#7201a8"
             ],
             [
              0.3333333333333333,
              "#9c179e"
             ],
             [
              0.4444444444444444,
              "#bd3786"
             ],
             [
              0.5555555555555556,
              "#d8576b"
             ],
             [
              0.6666666666666666,
              "#ed7953"
             ],
             [
              0.7777777777777778,
              "#fb9f3a"
             ],
             [
              0.8888888888888888,
              "#fdca26"
             ],
             [
              1,
              "#f0f921"
             ]
            ],
            "type": "contour"
           }
          ],
          "contourcarpet": [
           {
            "colorbar": {
             "outlinewidth": 0,
             "ticks": ""
            },
            "type": "contourcarpet"
           }
          ],
          "heatmap": [
           {
            "colorbar": {
             "outlinewidth": 0,
             "ticks": ""
            },
            "colorscale": [
             [
              0,
              "#0d0887"
             ],
             [
              0.1111111111111111,
              "#46039f"
             ],
             [
              0.2222222222222222,
              "#7201a8"
             ],
             [
              0.3333333333333333,
              "#9c179e"
             ],
             [
              0.4444444444444444,
              "#bd3786"
             ],
             [
              0.5555555555555556,
              "#d8576b"
             ],
             [
              0.6666666666666666,
              "#ed7953"
             ],
             [
              0.7777777777777778,
              "#fb9f3a"
             ],
             [
              0.8888888888888888,
              "#fdca26"
             ],
             [
              1,
              "#f0f921"
             ]
            ],
            "type": "heatmap"
           }
          ],
          "histogram": [
           {
            "marker": {
             "pattern": {
              "fillmode": "overlay",
              "size": 10,
              "solidity": 0.2
             }
            },
            "type": "histogram"
           }
          ],
          "histogram2d": [
           {
            "colorbar": {
             "outlinewidth": 0,
             "ticks": ""
            },
            "colorscale": [
             [
              0,
              "#0d0887"
             ],
             [
              0.1111111111111111,
              "#46039f"
             ],
             [
              0.2222222222222222,
              "#7201a8"
             ],
             [
              0.3333333333333333,
              "#9c179e"
             ],
             [
              0.4444444444444444,
              "#bd3786"
             ],
             [
              0.5555555555555556,
              "#d8576b"
             ],
             [
              0.6666666666666666,
              "#ed7953"
             ],
             [
              0.7777777777777778,
              "#fb9f3a"
             ],
             [
              0.8888888888888888,
              "#fdca26"
             ],
             [
              1,
              "#f0f921"
             ]
            ],
            "type": "histogram2d"
           }
          ],
          "histogram2dcontour": [
           {
            "colorbar": {
             "outlinewidth": 0,
             "ticks": ""
            },
            "colorscale": [
             [
              0,
              "#0d0887"
             ],
             [
              0.1111111111111111,
              "#46039f"
             ],
             [
              0.2222222222222222,
              "#7201a8"
             ],
             [
              0.3333333333333333,
              "#9c179e"
             ],
             [
              0.4444444444444444,
              "#bd3786"
             ],
             [
              0.5555555555555556,
              "#d8576b"
             ],
             [
              0.6666666666666666,
              "#ed7953"
             ],
             [
              0.7777777777777778,
              "#fb9f3a"
             ],
             [
              0.8888888888888888,
              "#fdca26"
             ],
             [
              1,
              "#f0f921"
             ]
            ],
            "type": "histogram2dcontour"
           }
          ],
          "mesh3d": [
           {
            "colorbar": {
             "outlinewidth": 0,
             "ticks": ""
            },
            "type": "mesh3d"
           }
          ],
          "parcoords": [
           {
            "line": {
             "colorbar": {
              "outlinewidth": 0,
              "ticks": ""
             }
            },
            "type": "parcoords"
           }
          ],
          "pie": [
           {
            "automargin": true,
            "type": "pie"
           }
          ],
          "scatter": [
           {
            "fillpattern": {
             "fillmode": "overlay",
             "size": 10,
             "solidity": 0.2
            },
            "type": "scatter"
           }
          ],
          "scatter3d": [
           {
            "line": {
             "colorbar": {
              "outlinewidth": 0,
              "ticks": ""
             }
            },
            "marker": {
             "colorbar": {
              "outlinewidth": 0,
              "ticks": ""
             }
            },
            "type": "scatter3d"
           }
          ],
          "scattercarpet": [
           {
            "marker": {
             "colorbar": {
              "outlinewidth": 0,
              "ticks": ""
             }
            },
            "type": "scattercarpet"
           }
          ],
          "scattergeo": [
           {
            "marker": {
             "colorbar": {
              "outlinewidth": 0,
              "ticks": ""
             }
            },
            "type": "scattergeo"
           }
          ],
          "scattergl": [
           {
            "marker": {
             "colorbar": {
              "outlinewidth": 0,
              "ticks": ""
             }
            },
            "type": "scattergl"
           }
          ],
          "scattermap": [
           {
            "marker": {
             "colorbar": {
              "outlinewidth": 0,
              "ticks": ""
             }
            },
            "type": "scattermap"
           }
          ],
          "scattermapbox": [
           {
            "marker": {
             "colorbar": {
              "outlinewidth": 0,
              "ticks": ""
             }
            },
            "type": "scattermapbox"
           }
          ],
          "scatterpolar": [
           {
            "marker": {
             "colorbar": {
              "outlinewidth": 0,
              "ticks": ""
             }
            },
            "type": "scatterpolar"
           }
          ],
          "scatterpolargl": [
           {
            "marker": {
             "colorbar": {
              "outlinewidth": 0,
              "ticks": ""
             }
            },
            "type": "scatterpolargl"
           }
          ],
          "scatterternary": [
           {
            "marker": {
             "colorbar": {
              "outlinewidth": 0,
              "ticks": ""
             }
            },
            "type": "scatterternary"
           }
          ],
          "surface": [
           {
            "colorbar": {
             "outlinewidth": 0,
             "ticks": ""
            },
            "colorscale": [
             [
              0,
              "#0d0887"
             ],
             [
              0.1111111111111111,
              "#46039f"
             ],
             [
              0.2222222222222222,
              "#7201a8"
             ],
             [
              0.3333333333333333,
              "#9c179e"
             ],
             [
              0.4444444444444444,
              "#bd3786"
             ],
             [
              0.5555555555555556,
              "#d8576b"
             ],
             [
              0.6666666666666666,
              "#ed7953"
             ],
             [
              0.7777777777777778,
              "#fb9f3a"
             ],
             [
              0.8888888888888888,
              "#fdca26"
             ],
             [
              1,
              "#f0f921"
             ]
            ],
            "type": "surface"
           }
          ],
          "table": [
           {
            "cells": {
             "fill": {
              "color": "#EBF0F8"
             },
             "line": {
              "color": "white"
             }
            },
            "header": {
             "fill": {
              "color": "#C8D4E3"
             },
             "line": {
              "color": "white"
             }
            },
            "type": "table"
           }
          ]
         },
         "layout": {
          "annotationdefaults": {
           "arrowcolor": "#2a3f5f",
           "arrowhead": 0,
           "arrowwidth": 1
          },
          "autotypenumbers": "strict",
          "coloraxis": {
           "colorbar": {
            "outlinewidth": 0,
            "ticks": ""
           }
          },
          "colorscale": {
           "diverging": [
            [
             0,
             "#8e0152"
            ],
            [
             0.1,
             "#c51b7d"
            ],
            [
             0.2,
             "#de77ae"
            ],
            [
             0.3,
             "#f1b6da"
            ],
            [
             0.4,
             "#fde0ef"
            ],
            [
             0.5,
             "#f7f7f7"
            ],
            [
             0.6,
             "#e6f5d0"
            ],
            [
             0.7,
             "#b8e186"
            ],
            [
             0.8,
             "#7fbc41"
            ],
            [
             0.9,
             "#4d9221"
            ],
            [
             1,
             "#276419"
            ]
           ],
           "sequential": [
            [
             0,
             "#0d0887"
            ],
            [
             0.1111111111111111,
             "#46039f"
            ],
            [
             0.2222222222222222,
             "#7201a8"
            ],
            [
             0.3333333333333333,
             "#9c179e"
            ],
            [
             0.4444444444444444,
             "#bd3786"
            ],
            [
             0.5555555555555556,
             "#d8576b"
            ],
            [
             0.6666666666666666,
             "#ed7953"
            ],
            [
             0.7777777777777778,
             "#fb9f3a"
            ],
            [
             0.8888888888888888,
             "#fdca26"
            ],
            [
             1,
             "#f0f921"
            ]
           ],
           "sequentialminus": [
            [
             0,
             "#0d0887"
            ],
            [
             0.1111111111111111,
             "#46039f"
            ],
            [
             0.2222222222222222,
             "#7201a8"
            ],
            [
             0.3333333333333333,
             "#9c179e"
            ],
            [
             0.4444444444444444,
             "#bd3786"
            ],
            [
             0.5555555555555556,
             "#d8576b"
            ],
            [
             0.6666666666666666,
             "#ed7953"
            ],
            [
             0.7777777777777778,
             "#fb9f3a"
            ],
            [
             0.8888888888888888,
             "#fdca26"
            ],
            [
             1,
             "#f0f921"
            ]
           ]
          },
          "colorway": [
           "#636efa",
           "#EF553B",
           "#00cc96",
           "#ab63fa",
           "#FFA15A",
           "#19d3f3",
           "#FF6692",
           "#B6E880",
           "#FF97FF",
           "#FECB52"
          ],
          "font": {
           "color": "#2a3f5f"
          },
          "geo": {
           "bgcolor": "white",
           "lakecolor": "white",
           "landcolor": "#E5ECF6",
           "showlakes": true,
           "showland": true,
           "subunitcolor": "white"
          },
          "hoverlabel": {
           "align": "left"
          },
          "hovermode": "closest",
          "mapbox": {
           "style": "light"
          },
          "paper_bgcolor": "white",
          "plot_bgcolor": "#E5ECF6",
          "polar": {
           "angularaxis": {
            "gridcolor": "white",
            "linecolor": "white",
            "ticks": ""
           },
           "bgcolor": "#E5ECF6",
           "radialaxis": {
            "gridcolor": "white",
            "linecolor": "white",
            "ticks": ""
           }
          },
          "scene": {
           "xaxis": {
            "backgroundcolor": "#E5ECF6",
            "gridcolor": "white",
            "gridwidth": 2,
            "linecolor": "white",
            "showbackground": true,
            "ticks": "",
            "zerolinecolor": "white"
           },
           "yaxis": {
            "backgroundcolor": "#E5ECF6",
            "gridcolor": "white",
            "gridwidth": 2,
            "linecolor": "white",
            "showbackground": true,
            "ticks": "",
            "zerolinecolor": "white"
           },
           "zaxis": {
            "backgroundcolor": "#E5ECF6",
            "gridcolor": "white",
            "gridwidth": 2,
            "linecolor": "white",
            "showbackground": true,
            "ticks": "",
            "zerolinecolor": "white"
           }
          },
          "shapedefaults": {
           "line": {
            "color": "#2a3f5f"
           }
          },
          "ternary": {
           "aaxis": {
            "gridcolor": "white",
            "linecolor": "white",
            "ticks": ""
           },
           "baxis": {
            "gridcolor": "white",
            "linecolor": "white",
            "ticks": ""
           },
           "bgcolor": "#E5ECF6",
           "caxis": {
            "gridcolor": "white",
            "linecolor": "white",
            "ticks": ""
           }
          },
          "title": {
           "x": 0.05
          },
          "xaxis": {
           "automargin": true,
           "gridcolor": "white",
           "linecolor": "white",
           "ticks": "",
           "title": {
            "standoff": 15
           },
           "zerolinecolor": "white",
           "zerolinewidth": 2
          },
          "yaxis": {
           "automargin": true,
           "gridcolor": "white",
           "linecolor": "white",
           "ticks": "",
           "title": {
            "standoff": 15
           },
           "zerolinecolor": "white",
           "zerolinewidth": 2
          }
         }
        },
        "title": {
         "text": "Sensitivity Analysis: Impact on NPV (Tornado Diagram)"
        },
        "xaxis": {
         "title": {
          "text": "Change in NPV from Base Case ($)"
         }
        },
        "yaxis": {
         "title": {
          "text": "Parameter"
         }
        }
       }
      }
     },
     "metadata": {},
     "output_type": "display_data"
    },
    {
     "name": "stdout",
     "output_type": "stream",
     "text": [
      "\n",
      "📊 Sensitivity Analysis Results:\n",
      "\n",
      "Parameters ranked by impact on NPV (most to least sensitive):\n",
      "\n",
      "================================================================================\n",
      "Acetylene Black Price................... Range: $  81.3M\n",
      "Hydrogen Price.......................... Range: $  58.2M\n",
      "Electricity Price....................... Range: $  50.0M\n",
      "Capex Total............................. Range: $  18.3M\n",
      "Rng Price............................... Range: $  14.3M\n",
      "Carbon Conversion....................... Range: $   4.1M\n",
      "Capacity Factor......................... Range: $   4.1M\n",
      "Discount Rate........................... Range: $   4.1M\n",
      "================================================================================\n",
      "\n",
      "💡 Key Insights:\n",
      "   • Most sensitive parameter: Acetylene Black Price\n",
      "   • NPV range: $-20.0M to $61.3M\n",
      "   • Project remains attractive across most scenarios if NPV > 0\n"
     ]
    }
   ],
   "source": [
    "# Sensitivity analysis on key parameters\n",
    "def sensitivity_analysis_tornado(base_npv, base_params):\n",
    "    \"\"\"\n",
    "    Run sensitivity analysis varying one parameter at a time\n",
    "    Calculate impact on NPV\n",
    "    \"\"\"\n",
    "    \n",
    "    results = []\n",
    "    \n",
    "    # Parameters to test from sensitivity_ranges\n",
    "    params_to_test = sensitivity_ranges['parameter'].tolist()\n",
    "    \n",
    "    for param in params_to_test:\n",
    "        row = sensitivity_ranges[sensitivity_ranges['parameter'] == param].iloc[0]\n",
    "        \n",
    "        low_val = row['low_value']\n",
    "        high_val = row['high_value']\n",
    "        base_val = row['base_value']\n",
    "        \n",
    "        # Calculate NPV at low and high values\n",
    "        # This is simplified - in reality you'd recalculate full model\n",
    "        # For demonstration, we'll estimate impact\n",
    "        \n",
    "        if param == 'electricity_price':\n",
    "            # Electricity affects variable costs\n",
    "            elec_cost_base = h2_annual * energy_per_kg_h2 * base_val\n",
    "            elec_cost_low = h2_annual * energy_per_kg_h2 * low_val\n",
    "            elec_cost_high = h2_annual * energy_per_kg_h2 * high_val\n",
    "            \n",
    "            delta_low = elec_cost_base - elec_cost_low\n",
    "            delta_high = elec_cost_high - elec_cost_base\n",
    "            \n",
    "            # NPV impact (simplified: annual savings * annuity factor)\n",
    "            annuity_factor = (1 - (1 + discount_rate)**(-plant_lifetime)) / discount_rate\n",
    "            npv_low = base_npv + delta_low * annuity_factor\n",
    "            npv_high = base_npv - delta_high * annuity_factor\n",
    "            \n",
    "        elif param == 'hydrogen_price':\n",
    "            # H2 price affects revenue\n",
    "            revenue_change_low = (low_val - base_val) * h2_annual\n",
    "            revenue_change_high = (high_val - base_val) * h2_annual\n",
    "            \n",
    "            annuity_factor = (1 - (1 + discount_rate)**(-plant_lifetime)) / discount_rate\n",
    "            npv_low = base_npv + revenue_change_low * annuity_factor\n",
    "            npv_high = base_npv + revenue_change_high * annuity_factor\n",
    "            \n",
    "        elif param == 'acetylene_black_price':\n",
    "            # CB price affects revenue\n",
    "            revenue_change_low = (low_val - base_val) * cb_annual\n",
    "            revenue_change_high = (high_val - base_val) * cb_annual\n",
    "            \n",
    "            annuity_factor = (1 - (1 + discount_rate)**(-plant_lifetime)) / discount_rate\n",
    "            npv_low = base_npv + revenue_change_low * annuity_factor\n",
    "            npv_high = base_npv + revenue_change_high * annuity_factor\n",
    "            \n",
    "        elif param == 'capex_total':\n",
    "            # CapEx directly affects NPV\n",
    "            npv_low = base_npv + (base_val - low_val)\n",
    "            npv_high = base_npv + (base_val - high_val)\n",
    "            \n",
    "        elif param == 'rng_price':\n",
    "            # RNG price affects costs\n",
    "            rng_annual_consumption = 1923 * operating_hours\n",
    "            cost_change_low = (low_val - base_val) * rng_annual_consumption\n",
    "            cost_change_high = (high_val - base_val) * rng_annual_consumption\n",
    "            \n",
    "            annuity_factor = (1 - (1 + discount_rate)**(-plant_lifetime)) / discount_rate\n",
    "            npv_low = base_npv - cost_change_low * annuity_factor\n",
    "            npv_high = base_npv - cost_change_high * annuity_factor\n",
    "            \n",
    "        else:\n",
    "            # For other parameters, use rough estimate\n",
    "            npv_low = base_npv * 0.9\n",
    "            npv_high = base_npv * 1.1\n",
    "        \n",
    "        results.append({\n",
    "            'Parameter': param.replace('_', ' ').title(),\n",
    "            'NPV_Low': npv_low,\n",
    "            'NPV_High': npv_high,\n",
    "            'Range': abs(npv_high - npv_low),\n",
    "            'Impact_Low': npv_low - base_npv,\n",
    "            'Impact_High': npv_high - base_npv\n",
    "        })\n",
    "    \n",
    "    return pd.DataFrame(results).sort_values('Range', ascending=True)\n",
    "\n",
    "# Run sensitivity analysis\n",
    "sensitivity_results = sensitivity_analysis_tornado(npv, {\n",
    "    'electricity_price': electricity_price,\n",
    "    'hydrogen_price': h2_price,\n",
    "    'acetylene_black_price': cb_price,\n",
    "    'capex_total': capex,\n",
    "    'rng_price': rng_price\n",
    "})\n",
    "\n",
    "# Create tornado diagram\n",
    "fig = go.Figure()\n",
    "\n",
    "# Add bars for each parameter\n",
    "for idx, row in sensitivity_results.iterrows():\n",
    "    fig.add_trace(go.Bar(\n",
    "        name=row['Parameter'],\n",
    "        y=[row['Parameter']],\n",
    "        x=[row['Impact_Low']],\n",
    "        orientation='h',\n",
    "        marker=dict(color='#3498db'),\n",
    "        showlegend=False,\n",
    "        hovertemplate=f\"{row['Parameter']}<br>Low Case: ${row['NPV_Low']/1e6:.1f}M<extra></extra>\"\n",
    "    ))\n",
    "    \n",
    "    fig.add_trace(go.Bar(\n",
    "        name=row['Parameter'],\n",
    "        y=[row['Parameter']],\n",
    "        x=[row['Impact_High']],\n",
    "        orientation='h',\n",
    "        marker=dict(color='#e74c3c'),\n",
    "        showlegend=False,\n",
    "        hovertemplate=f\"{row['Parameter']}<br>High Case: ${row['NPV_High']/1e6:.1f}M<extra></extra>\"\n",
    "    ))\n",
    "\n",
    "fig.add_vline(x=0, line_width=2, line_dash=\"solid\", line_color=\"black\")\n",
    "\n",
    "fig.update_layout(\n",
    "    title='Sensitivity Analysis: Impact on NPV (Tornado Diagram)',\n",
    "    xaxis_title='Change in NPV from Base Case ($)',\n",
    "    yaxis_title='Parameter',\n",
    "    barmode='overlay',\n",
    "    height=500,\n",
    "    hovermode='y unified'\n",
    ")\n",
    "\n",
    "fig.show()\n",
    "\n",
    "print(\"\\n📊 Sensitivity Analysis Results:\")\n",
    "print(\"\\nParameters ranked by impact on NPV (most to least sensitive):\")\n",
    "print(\"\\n\" + \"=\"*80)\n",
    "for idx, row in sensitivity_results.sort_values('Range', ascending=False).iterrows():\n",
    "    print(f\"{row['Parameter']:.<40} Range: ${row['Range']/1e6:>6.1f}M\")\n",
    "print(\"=\"*80)\n",
    "\n",
    "print(f\"\\n💡 Key Insights:\")\n",
    "most_sensitive = sensitivity_results.sort_values('Range', ascending=False).iloc[0]\n",
    "print(f\"   • Most sensitive parameter: {most_sensitive['Parameter']}\")\n",
    "print(f\"   • NPV range: ${most_sensitive['NPV_Low']/1e6:.1f}M to ${most_sensitive['NPV_High']/1e6:.1f}M\")\n",
    "print(f\"   • Project remains attractive across most scenarios if NPV > 0\")"
   ]
  },
  {
   "cell_type": "code",
   "execution_count": 112,
   "id": "adc931f8",
   "metadata": {},
   "outputs": [
    {
     "data": {
      "text/html": [
       "<style type=\"text/css\">\n",
       "#T_12013_row0_col0, #T_12013_row0_col1, #T_12013_row0_col2, #T_12013_row0_col3, #T_12013_row0_col4, #T_12013_row1_col0, #T_12013_row1_col1, #T_12013_row1_col2, #T_12013_row1_col3, #T_12013_row1_col4, #T_12013_row2_col0, #T_12013_row2_col1, #T_12013_row2_col2, #T_12013_row2_col3, #T_12013_row2_col4, #T_12013_row3_col0, #T_12013_row3_col1, #T_12013_row3_col2, #T_12013_row3_col3, #T_12013_row3_col4, #T_12013_row4_col0, #T_12013_row4_col1, #T_12013_row4_col2, #T_12013_row4_col3, #T_12013_row4_col4 {\n",
       "  text-align: center;\n",
       "}\n",
       "</style>\n",
       "<table id=\"T_12013\">\n",
       "  <thead>\n",
       "    <tr>\n",
       "      <th class=\"blank level0\" >&nbsp;</th>\n",
       "      <th id=\"T_12013_level0_col0\" class=\"col_heading level0 col0\" >Scenario</th>\n",
       "      <th id=\"T_12013_level0_col1\" class=\"col_heading level0 col1\" >Electricity Price ($/kWh)</th>\n",
       "      <th id=\"T_12013_level0_col2\" class=\"col_heading level0 col2\" >LCOH ($/kg)</th>\n",
       "      <th id=\"T_12013_level0_col3\" class=\"col_heading level0 col3\" >NPV ($M)</th>\n",
       "      <th id=\"T_12013_level0_col4\" class=\"col_heading level0 col4\" >Gross Margin (%)</th>\n",
       "    </tr>\n",
       "  </thead>\n",
       "  <tbody>\n",
       "    <tr>\n",
       "      <th id=\"T_12013_level0_row0\" class=\"row_heading level0 row0\" >0</th>\n",
       "      <td id=\"T_12013_row0_col0\" class=\"data row0 col0\" >Very Low\n",
       "(Abundant Renewables)</td>\n",
       "      <td id=\"T_12013_row0_col1\" class=\"data row0 col1\" >0.03</td>\n",
       "      <td id=\"T_12013_row0_col2\" class=\"data row0 col2\" >0.94</td>\n",
       "      <td id=\"T_12013_row0_col3\" class=\"data row0 col3\" >51.6</td>\n",
       "      <td id=\"T_12013_row0_col4\" class=\"data row0 col4\" >67.0%</td>\n",
       "    </tr>\n",
       "    <tr>\n",
       "      <th id=\"T_12013_level0_row1\" class=\"row_heading level0 row1\" >1</th>\n",
       "      <td id=\"T_12013_row1_col0\" class=\"data row1 col0\" >Low\n",
       "(TX/Midwest Wind)</td>\n",
       "      <td id=\"T_12013_row1_col1\" class=\"data row1 col1\" >0.05</td>\n",
       "      <td id=\"T_12013_row1_col2\" class=\"data row1 col2\" >1.67</td>\n",
       "      <td id=\"T_12013_row1_col3\" class=\"data row1 col3\" >37.3</td>\n",
       "      <td id=\"T_12013_row1_col4\" class=\"data row1 col4\" >50.2%</td>\n",
       "    </tr>\n",
       "    <tr>\n",
       "      <th id=\"T_12013_level0_row2\" class=\"row_heading level0 row2\" >2</th>\n",
       "      <td id=\"T_12013_row2_col0\" class=\"data row2 col0\" >Base Case\n",
       "(Industrial Average)</td>\n",
       "      <td id=\"T_12013_row2_col1\" class=\"data row2 col1\" >0.07</td>\n",
       "      <td id=\"T_12013_row2_col2\" class=\"data row2 col2\" >2.41</td>\n",
       "      <td id=\"T_12013_row2_col3\" class=\"data row2 col3\" >23.0</td>\n",
       "      <td id=\"T_12013_row2_col4\" class=\"data row2 col4\" >33.4%</td>\n",
       "    </tr>\n",
       "    <tr>\n",
       "      <th id=\"T_12013_level0_row3\" class=\"row_heading level0 row3\" >3</th>\n",
       "      <td id=\"T_12013_row3_col0\" class=\"data row3 col0\" >High\n",
       "(CA/Northeast)</td>\n",
       "      <td id=\"T_12013_row3_col1\" class=\"data row3 col1\" >0.10</td>\n",
       "      <td id=\"T_12013_row3_col2\" class=\"data row3 col2\" >3.51</td>\n",
       "      <td id=\"T_12013_row3_col3\" class=\"data row3 col3\" >1.6</td>\n",
       "      <td id=\"T_12013_row3_col4\" class=\"data row3 col4\" >8.2%</td>\n",
       "    </tr>\n",
       "    <tr>\n",
       "      <th id=\"T_12013_level0_row4\" class=\"row_heading level0 row4\" >4</th>\n",
       "      <td id=\"T_12013_row4_col0\" class=\"data row4 col0\" >Very High\n",
       "(Peak/Premium)</td>\n",
       "      <td id=\"T_12013_row4_col1\" class=\"data row4 col1\" >0.12</td>\n",
       "      <td id=\"T_12013_row4_col2\" class=\"data row4 col2\" >4.25</td>\n",
       "      <td id=\"T_12013_row4_col3\" class=\"data row4 col3\" >-12.7</td>\n",
       "      <td id=\"T_12013_row4_col4\" class=\"data row4 col4\" >-8.6%</td>\n",
       "    </tr>\n",
       "  </tbody>\n",
       "</table>\n"
      ],
      "text/plain": [
       "<pandas.io.formats.style.Styler at 0x257419d1990>"
      ]
     },
     "metadata": {},
     "output_type": "display_data"
    },
    {
     "data": {
      "application/vnd.plotly.v1+json": {
       "config": {
        "plotlyServerURL": "https://plot.ly"
       },
       "data": [
        {
         "line": {
          "color": "#3498db",
          "width": 3
         },
         "marker": {
          "size": 10
         },
         "mode": "lines+markers",
         "name": "LCOH",
         "type": "scatter",
         "x": {
          "bdata": "uB6F61G4nj+amZmZmZmpP+xRuB6F67E/mpmZmZmZuT+4HoXrUbi+Pw==",
          "dtype": "f8"
         },
         "xaxis": "x",
         "y": {
          "bdata": "arx0kxgE7j9iEFg5tMj6P0jhehSuRwNA6iYxCKwcDEAAAAAAAAARQA==",
          "dtype": "f8"
         },
         "yaxis": "y"
        },
        {
         "line": {
          "color": "#e74c3c",
          "width": 3
         },
         "marker": {
          "size": 10
         },
         "mode": "lines+markers",
         "name": "NPV",
         "type": "scatter",
         "x": {
          "bdata": "uB6F61G4nj+amZmZmZmpP+xRuB6F67E/mpmZmZmZuT+4HoXrUbi+Pw==",
          "dtype": "f8"
         },
         "xaxis": "x2",
         "y": {
          "bdata": "NIGd19bISUDBrg7L4qRCQKK4/3zdATdA1xQ0dRVg+T8ox5SDzWMpwA==",
          "dtype": "f8"
         },
         "yaxis": "y2"
        }
       ],
       "layout": {
        "annotations": [
         {
          "font": {
           "size": 16
          },
          "showarrow": false,
          "text": "LCOH vs Electricity Price",
          "x": 0.225,
          "xanchor": "center",
          "xref": "paper",
          "y": 1,
          "yanchor": "bottom",
          "yref": "paper"
         },
         {
          "font": {
           "size": 16
          },
          "showarrow": false,
          "text": "NPV vs Electricity Price",
          "x": 0.775,
          "xanchor": "center",
          "xref": "paper",
          "y": 1,
          "yanchor": "bottom",
          "yref": "paper"
         },
         {
          "showarrow": false,
          "text": "H₂ Market Price ($3.18/kg)",
          "x": 1,
          "xanchor": "right",
          "xref": "x domain",
          "y": 3.18,
          "yanchor": "bottom",
          "yref": "y"
         },
         {
          "showarrow": false,
          "text": "Break Even",
          "x": 1,
          "xanchor": "right",
          "xref": "x2 domain",
          "y": 0,
          "yanchor": "bottom",
          "yref": "y2"
         }
        ],
        "height": 400,
        "shapes": [
         {
          "line": {
           "color": "green",
           "dash": "dash"
          },
          "type": "line",
          "x0": 0,
          "x1": 1,
          "xref": "x domain",
          "y0": 3.18,
          "y1": 3.18,
          "yref": "y"
         },
         {
          "line": {
           "color": "red",
           "dash": "dash"
          },
          "type": "line",
          "x0": 0,
          "x1": 1,
          "xref": "x2 domain",
          "y0": 0,
          "y1": 0,
          "yref": "y2"
         }
        ],
        "showlegend": false,
        "template": {
         "data": {
          "bar": [
           {
            "error_x": {
             "color": "#2a3f5f"
            },
            "error_y": {
             "color": "#2a3f5f"
            },
            "marker": {
             "line": {
              "color": "#E5ECF6",
              "width": 0.5
             },
             "pattern": {
              "fillmode": "overlay",
              "size": 10,
              "solidity": 0.2
             }
            },
            "type": "bar"
           }
          ],
          "barpolar": [
           {
            "marker": {
             "line": {
              "color": "#E5ECF6",
              "width": 0.5
             },
             "pattern": {
              "fillmode": "overlay",
              "size": 10,
              "solidity": 0.2
             }
            },
            "type": "barpolar"
           }
          ],
          "carpet": [
           {
            "aaxis": {
             "endlinecolor": "#2a3f5f",
             "gridcolor": "white",
             "linecolor": "white",
             "minorgridcolor": "white",
             "startlinecolor": "#2a3f5f"
            },
            "baxis": {
             "endlinecolor": "#2a3f5f",
             "gridcolor": "white",
             "linecolor": "white",
             "minorgridcolor": "white",
             "startlinecolor": "#2a3f5f"
            },
            "type": "carpet"
           }
          ],
          "choropleth": [
           {
            "colorbar": {
             "outlinewidth": 0,
             "ticks": ""
            },
            "type": "choropleth"
           }
          ],
          "contour": [
           {
            "colorbar": {
             "outlinewidth": 0,
             "ticks": ""
            },
            "colorscale": [
             [
              0,
              "#0d0887"
             ],
             [
              0.1111111111111111,
              "#46039f"
             ],
             [
              0.2222222222222222,
              "#7201a8"
             ],
             [
              0.3333333333333333,
              "#9c179e"
             ],
             [
              0.4444444444444444,
              "#bd3786"
             ],
             [
              0.5555555555555556,
              "#d8576b"
             ],
             [
              0.6666666666666666,
              "#ed7953"
             ],
             [
              0.7777777777777778,
              "#fb9f3a"
             ],
             [
              0.8888888888888888,
              "#fdca26"
             ],
             [
              1,
              "#f0f921"
             ]
            ],
            "type": "contour"
           }
          ],
          "contourcarpet": [
           {
            "colorbar": {
             "outlinewidth": 0,
             "ticks": ""
            },
            "type": "contourcarpet"
           }
          ],
          "heatmap": [
           {
            "colorbar": {
             "outlinewidth": 0,
             "ticks": ""
            },
            "colorscale": [
             [
              0,
              "#0d0887"
             ],
             [
              0.1111111111111111,
              "#46039f"
             ],
             [
              0.2222222222222222,
              "#7201a8"
             ],
             [
              0.3333333333333333,
              "#9c179e"
             ],
             [
              0.4444444444444444,
              "#bd3786"
             ],
             [
              0.5555555555555556,
              "#d8576b"
             ],
             [
              0.6666666666666666,
              "#ed7953"
             ],
             [
              0.7777777777777778,
              "#fb9f3a"
             ],
             [
              0.8888888888888888,
              "#fdca26"
             ],
             [
              1,
              "#f0f921"
             ]
            ],
            "type": "heatmap"
           }
          ],
          "histogram": [
           {
            "marker": {
             "pattern": {
              "fillmode": "overlay",
              "size": 10,
              "solidity": 0.2
             }
            },
            "type": "histogram"
           }
          ],
          "histogram2d": [
           {
            "colorbar": {
             "outlinewidth": 0,
             "ticks": ""
            },
            "colorscale": [
             [
              0,
              "#0d0887"
             ],
             [
              0.1111111111111111,
              "#46039f"
             ],
             [
              0.2222222222222222,
              "#7201a8"
             ],
             [
              0.3333333333333333,
              "#9c179e"
             ],
             [
              0.4444444444444444,
              "#bd3786"
             ],
             [
              0.5555555555555556,
              "#d8576b"
             ],
             [
              0.6666666666666666,
              "#ed7953"
             ],
             [
              0.7777777777777778,
              "#fb9f3a"
             ],
             [
              0.8888888888888888,
              "#fdca26"
             ],
             [
              1,
              "#f0f921"
             ]
            ],
            "type": "histogram2d"
           }
          ],
          "histogram2dcontour": [
           {
            "colorbar": {
             "outlinewidth": 0,
             "ticks": ""
            },
            "colorscale": [
             [
              0,
              "#0d0887"
             ],
             [
              0.1111111111111111,
              "#46039f"
             ],
             [
              0.2222222222222222,
              "#7201a8"
             ],
             [
              0.3333333333333333,
              "#9c179e"
             ],
             [
              0.4444444444444444,
              "#bd3786"
             ],
             [
              0.5555555555555556,
              "#d8576b"
             ],
             [
              0.6666666666666666,
              "#ed7953"
             ],
             [
              0.7777777777777778,
              "#fb9f3a"
             ],
             [
              0.8888888888888888,
              "#fdca26"
             ],
             [
              1,
              "#f0f921"
             ]
            ],
            "type": "histogram2dcontour"
           }
          ],
          "mesh3d": [
           {
            "colorbar": {
             "outlinewidth": 0,
             "ticks": ""
            },
            "type": "mesh3d"
           }
          ],
          "parcoords": [
           {
            "line": {
             "colorbar": {
              "outlinewidth": 0,
              "ticks": ""
             }
            },
            "type": "parcoords"
           }
          ],
          "pie": [
           {
            "automargin": true,
            "type": "pie"
           }
          ],
          "scatter": [
           {
            "fillpattern": {
             "fillmode": "overlay",
             "size": 10,
             "solidity": 0.2
            },
            "type": "scatter"
           }
          ],
          "scatter3d": [
           {
            "line": {
             "colorbar": {
              "outlinewidth": 0,
              "ticks": ""
             }
            },
            "marker": {
             "colorbar": {
              "outlinewidth": 0,
              "ticks": ""
             }
            },
            "type": "scatter3d"
           }
          ],
          "scattercarpet": [
           {
            "marker": {
             "colorbar": {
              "outlinewidth": 0,
              "ticks": ""
             }
            },
            "type": "scattercarpet"
           }
          ],
          "scattergeo": [
           {
            "marker": {
             "colorbar": {
              "outlinewidth": 0,
              "ticks": ""
             }
            },
            "type": "scattergeo"
           }
          ],
          "scattergl": [
           {
            "marker": {
             "colorbar": {
              "outlinewidth": 0,
              "ticks": ""
             }
            },
            "type": "scattergl"
           }
          ],
          "scattermap": [
           {
            "marker": {
             "colorbar": {
              "outlinewidth": 0,
              "ticks": ""
             }
            },
            "type": "scattermap"
           }
          ],
          "scattermapbox": [
           {
            "marker": {
             "colorbar": {
              "outlinewidth": 0,
              "ticks": ""
             }
            },
            "type": "scattermapbox"
           }
          ],
          "scatterpolar": [
           {
            "marker": {
             "colorbar": {
              "outlinewidth": 0,
              "ticks": ""
             }
            },
            "type": "scatterpolar"
           }
          ],
          "scatterpolargl": [
           {
            "marker": {
             "colorbar": {
              "outlinewidth": 0,
              "ticks": ""
             }
            },
            "type": "scatterpolargl"
           }
          ],
          "scatterternary": [
           {
            "marker": {
             "colorbar": {
              "outlinewidth": 0,
              "ticks": ""
             }
            },
            "type": "scatterternary"
           }
          ],
          "surface": [
           {
            "colorbar": {
             "outlinewidth": 0,
             "ticks": ""
            },
            "colorscale": [
             [
              0,
              "#0d0887"
             ],
             [
              0.1111111111111111,
              "#46039f"
             ],
             [
              0.2222222222222222,
              "#7201a8"
             ],
             [
              0.3333333333333333,
              "#9c179e"
             ],
             [
              0.4444444444444444,
              "#bd3786"
             ],
             [
              0.5555555555555556,
              "#d8576b"
             ],
             [
              0.6666666666666666,
              "#ed7953"
             ],
             [
              0.7777777777777778,
              "#fb9f3a"
             ],
             [
              0.8888888888888888,
              "#fdca26"
             ],
             [
              1,
              "#f0f921"
             ]
            ],
            "type": "surface"
           }
          ],
          "table": [
           {
            "cells": {
             "fill": {
              "color": "#EBF0F8"
             },
             "line": {
              "color": "white"
             }
            },
            "header": {
             "fill": {
              "color": "#C8D4E3"
             },
             "line": {
              "color": "white"
             }
            },
            "type": "table"
           }
          ]
         },
         "layout": {
          "annotationdefaults": {
           "arrowcolor": "#2a3f5f",
           "arrowhead": 0,
           "arrowwidth": 1
          },
          "autotypenumbers": "strict",
          "coloraxis": {
           "colorbar": {
            "outlinewidth": 0,
            "ticks": ""
           }
          },
          "colorscale": {
           "diverging": [
            [
             0,
             "#8e0152"
            ],
            [
             0.1,
             "#c51b7d"
            ],
            [
             0.2,
             "#de77ae"
            ],
            [
             0.3,
             "#f1b6da"
            ],
            [
             0.4,
             "#fde0ef"
            ],
            [
             0.5,
             "#f7f7f7"
            ],
            [
             0.6,
             "#e6f5d0"
            ],
            [
             0.7,
             "#b8e186"
            ],
            [
             0.8,
             "#7fbc41"
            ],
            [
             0.9,
             "#4d9221"
            ],
            [
             1,
             "#276419"
            ]
           ],
           "sequential": [
            [
             0,
             "#0d0887"
            ],
            [
             0.1111111111111111,
             "#46039f"
            ],
            [
             0.2222222222222222,
             "#7201a8"
            ],
            [
             0.3333333333333333,
             "#9c179e"
            ],
            [
             0.4444444444444444,
             "#bd3786"
            ],
            [
             0.5555555555555556,
             "#d8576b"
            ],
            [
             0.6666666666666666,
             "#ed7953"
            ],
            [
             0.7777777777777778,
             "#fb9f3a"
            ],
            [
             0.8888888888888888,
             "#fdca26"
            ],
            [
             1,
             "#f0f921"
            ]
           ],
           "sequentialminus": [
            [
             0,
             "#0d0887"
            ],
            [
             0.1111111111111111,
             "#46039f"
            ],
            [
             0.2222222222222222,
             "#7201a8"
            ],
            [
             0.3333333333333333,
             "#9c179e"
            ],
            [
             0.4444444444444444,
             "#bd3786"
            ],
            [
             0.5555555555555556,
             "#d8576b"
            ],
            [
             0.6666666666666666,
             "#ed7953"
            ],
            [
             0.7777777777777778,
             "#fb9f3a"
            ],
            [
             0.8888888888888888,
             "#fdca26"
            ],
            [
             1,
             "#f0f921"
            ]
           ]
          },
          "colorway": [
           "#636efa",
           "#EF553B",
           "#00cc96",
           "#ab63fa",
           "#FFA15A",
           "#19d3f3",
           "#FF6692",
           "#B6E880",
           "#FF97FF",
           "#FECB52"
          ],
          "font": {
           "color": "#2a3f5f"
          },
          "geo": {
           "bgcolor": "white",
           "lakecolor": "white",
           "landcolor": "#E5ECF6",
           "showlakes": true,
           "showland": true,
           "subunitcolor": "white"
          },
          "hoverlabel": {
           "align": "left"
          },
          "hovermode": "closest",
          "mapbox": {
           "style": "light"
          },
          "paper_bgcolor": "white",
          "plot_bgcolor": "#E5ECF6",
          "polar": {
           "angularaxis": {
            "gridcolor": "white",
            "linecolor": "white",
            "ticks": ""
           },
           "bgcolor": "#E5ECF6",
           "radialaxis": {
            "gridcolor": "white",
            "linecolor": "white",
            "ticks": ""
           }
          },
          "scene": {
           "xaxis": {
            "backgroundcolor": "#E5ECF6",
            "gridcolor": "white",
            "gridwidth": 2,
            "linecolor": "white",
            "showbackground": true,
            "ticks": "",
            "zerolinecolor": "white"
           },
           "yaxis": {
            "backgroundcolor": "#E5ECF6",
            "gridcolor": "white",
            "gridwidth": 2,
            "linecolor": "white",
            "showbackground": true,
            "ticks": "",
            "zerolinecolor": "white"
           },
           "zaxis": {
            "backgroundcolor": "#E5ECF6",
            "gridcolor": "white",
            "gridwidth": 2,
            "linecolor": "white",
            "showbackground": true,
            "ticks": "",
            "zerolinecolor": "white"
           }
          },
          "shapedefaults": {
           "line": {
            "color": "#2a3f5f"
           }
          },
          "ternary": {
           "aaxis": {
            "gridcolor": "white",
            "linecolor": "white",
            "ticks": ""
           },
           "baxis": {
            "gridcolor": "white",
            "linecolor": "white",
            "ticks": ""
           },
           "bgcolor": "#E5ECF6",
           "caxis": {
            "gridcolor": "white",
            "linecolor": "white",
            "ticks": ""
           }
          },
          "title": {
           "x": 0.05
          },
          "xaxis": {
           "automargin": true,
           "gridcolor": "white",
           "linecolor": "white",
           "ticks": "",
           "title": {
            "standoff": 15
           },
           "zerolinecolor": "white",
           "zerolinewidth": 2
          },
          "yaxis": {
           "automargin": true,
           "gridcolor": "white",
           "linecolor": "white",
           "ticks": "",
           "title": {
            "standoff": 15
           },
           "zerolinecolor": "white",
           "zerolinewidth": 2
          }
         }
        },
        "title": {
         "text": "Electricity Price Scenario Analysis"
        },
        "xaxis": {
         "anchor": "y",
         "domain": [
          0,
          0.45
         ],
         "title": {
          "text": "Electricity Price ($/kWh)"
         }
        },
        "xaxis2": {
         "anchor": "y2",
         "domain": [
          0.55,
          1
         ],
         "title": {
          "text": "Electricity Price ($/kWh)"
         }
        },
        "yaxis": {
         "anchor": "x",
         "domain": [
          0,
          1
         ],
         "title": {
          "text": "LCOH ($/kg H₂)"
         }
        },
        "yaxis2": {
         "anchor": "x2",
         "domain": [
          0,
          1
         ],
         "title": {
          "text": "NPV ($ millions)"
         }
        }
       }
      }
     },
     "metadata": {},
     "output_type": "display_data"
    },
    {
     "name": "stdout",
     "output_type": "stream",
     "text": [
      "\n",
      "💡 Strategic Insights:\n",
      "\n",
      "🌟 Best Case (Abundant Renewables at $0.03/kWh):\n",
      "   • LCOH: $0.94/kg\n",
      "   • NPV: $51.6M\n",
      "   • Project is HIGHLY attractive\n",
      "\n",
      "⚠️ Worst Case (Premium Electricity at $0.12/kWh):\n",
      "   • LCOH: $4.25/kg\n",
      "   • NPV: $-12.7M\n",
      "   • Project is NOT viable\n",
      "\n",
      "🎯 Optimal Deployment Strategy:\n",
      "   • Target regions with low-cost renewable electricity\n",
      "   • Co-locate with wind/solar farms for direct PPAs\n",
      "   • Consider regions: West Texas, Midwest, Pacific Northwest\n",
      "   • Avoid: High electricity cost regions unless H₂ prices are premium\n"
     ]
    }
   ],
   "source": [
    "# Detailed scenario analysis for electricity price\n",
    "# This is the most sensitive variable and represents renewable energy availability\n",
    "\n",
    "electricity_scenarios = {\n",
    "    'Scenario': [\n",
    "        'Very Low\\n(Abundant Renewables)',\n",
    "        'Low\\n(TX/Midwest Wind)',\n",
    "        'Base Case\\n(Industrial Average)',\n",
    "        'High\\n(CA/Northeast)',\n",
    "        'Very High\\n(Peak/Premium)'\n",
    "    ],\n",
    "    'Electricity Price ($/kWh)': [0.03, 0.05, 0.07, 0.10, 0.12],\n",
    "    'Context': [\n",
    "        'West Texas wind, overnight rates',\n",
    "        'PPA with wind farm',\n",
    "        'Standard industrial rate',\n",
    "        'High-cost regions',\n",
    "        'Peak demand pricing'\n",
    "    ]\n",
    "}\n",
    "\n",
    "scenario_df = pd.DataFrame(electricity_scenarios)\n",
    "\n",
    "# Calculate metrics for each scenario\n",
    "lcoh_scenarios = []\n",
    "npv_scenarios = []\n",
    "margin_scenarios = []\n",
    "\n",
    "for elec_price in scenario_df['Electricity Price ($/kWh)']:\n",
    "    # Recalculate electricity cost\n",
    "    annual_elec = h2_annual * energy_per_kg_h2 * elec_price\n",
    "    \n",
    "    # Recalculate variable costs\n",
    "    new_variable_costs = (rng_cost + annual_elec + cooling_cost + process_water_cost)\n",
    "    \n",
    "    # Recalculate margin\n",
    "    new_margin = total_revenue - new_variable_costs\n",
    "    margin_pct = new_margin / total_revenue * 100\n",
    "    \n",
    "    # Estimate NPV impact\n",
    "    cost_delta = annual_elec - elec_cost\n",
    "    annuity_factor = (1 - (1 + discount_rate)**(-plant_lifetime)) / discount_rate\n",
    "    new_npv = npv - cost_delta * annuity_factor\n",
    "    \n",
    "    # LCOH estimate\n",
    "    # Simplified: base LCOH + electricity cost change per kg H2\n",
    "    lcoh_delta = (elec_price - electricity_price) * energy_per_kg_h2\n",
    "    new_lcoh = lcoh + lcoh_delta\n",
    "    \n",
    "    lcoh_scenarios.append(new_lcoh)\n",
    "    npv_scenarios.append(new_npv)\n",
    "    margin_scenarios.append(margin_pct)\n",
    "\n",
    "scenario_df['LCOH ($/kg)'] = lcoh_scenarios\n",
    "scenario_df['NPV ($M)'] = [x/1e6 for x in npv_scenarios]\n",
    "scenario_df['Gross Margin (%)'] = margin_scenarios\n",
    "\n",
    "# Display table\n",
    "display(scenario_df[['Scenario', 'Electricity Price ($/kWh)', 'LCOH ($/kg)', \n",
    "                     'NPV ($M)', 'Gross Margin (%)']].style.format({\n",
    "    'Electricity Price ($/kWh)': '{:.2f}',\n",
    "    'LCOH ($/kg)': '{:.2f}',\n",
    "    'NPV ($M)': '{:.1f}',\n",
    "    'Gross Margin (%)': '{:.1f}%'\n",
    "}).set_properties(**{'text-align': 'center'}))\n",
    "\n",
    "# Visualize\n",
    "fig = make_subplots(\n",
    "    rows=1, cols=2,\n",
    "    subplot_titles=('LCOH vs Electricity Price', 'NPV vs Electricity Price')\n",
    ")\n",
    "\n",
    "fig.add_trace(\n",
    "    go.Scatter(\n",
    "        x=scenario_df['Electricity Price ($/kWh)'],\n",
    "        y=scenario_df['LCOH ($/kg)'],\n",
    "        mode='lines+markers',\n",
    "        name='LCOH',\n",
    "        line=dict(width=3, color='#3498db'),\n",
    "        marker=dict(size=10)\n",
    "    ),\n",
    "    row=1, col=1\n",
    ")\n",
    "\n",
    "# Add H2 market price reference\n",
    "fig.add_hline(y=h2_price, line_dash=\"dash\", line_color=\"green\", \n",
    "              annotation_text=f\"H₂ Market Price (${h2_price}/kg)\",\n",
    "              row=1, col=1)\n",
    "\n",
    "fig.add_trace(\n",
    "    go.Scatter(\n",
    "        x=scenario_df['Electricity Price ($/kWh)'],\n",
    "        y=scenario_df['NPV ($M)'],\n",
    "        mode='lines+markers',\n",
    "        name='NPV',\n",
    "        line=dict(width=3, color='#e74c3c'),\n",
    "        marker=dict(size=10)\n",
    "    ),\n",
    "    row=1, col=2\n",
    ")\n",
    "\n",
    "fig.add_hline(y=0, line_dash=\"dash\", line_color=\"red\",\n",
    "              annotation_text=\"Break Even\",\n",
    "              row=1, col=2)\n",
    "\n",
    "fig.update_xaxes(title_text=\"Electricity Price ($/kWh)\", row=1, col=1)\n",
    "fig.update_xaxes(title_text=\"Electricity Price ($/kWh)\", row=1, col=2)\n",
    "fig.update_yaxes(title_text=\"LCOH ($/kg H₂)\", row=1, col=1)\n",
    "fig.update_yaxes(title_text=\"NPV ($ millions)\", row=1, col=2)\n",
    "\n",
    "fig.update_layout(height=400, showlegend=False, title_text=\"Electricity Price Scenario Analysis\")\n",
    "\n",
    "fig.show()\n",
    "\n",
    "print(f\"\\n💡 Strategic Insights:\")\n",
    "print(f\"\\n🌟 Best Case (Abundant Renewables at $0.03/kWh):\")\n",
    "print(f\"   • LCOH: ${lcoh_scenarios[0]:.2f}/kg\")\n",
    "print(f\"   • NPV: ${npv_scenarios[0]/1e6:.1f}M\")\n",
    "print(f\"   • Project is HIGHLY attractive\")\n",
    "\n",
    "print(f\"\\n⚠️ Worst Case (Premium Electricity at $0.12/kWh):\")\n",
    "print(f\"   • LCOH: ${lcoh_scenarios[-1]:.2f}/kg\")\n",
    "print(f\"   • NPV: ${npv_scenarios[-1]/1e6:.1f}M\")\n",
    "worst_viable = \"still viable\" if npv_scenarios[-1] > 0 else \"NOT viable\"\n",
    "print(f\"   • Project is {worst_viable}\")\n",
    "\n",
    "print(f\"\\n🎯 Optimal Deployment Strategy:\")\n",
    "print(f\"   • Target regions with low-cost renewable electricity\")\n",
    "print(f\"   • Co-locate with wind/solar farms for direct PPAs\")\n",
    "print(f\"   • Consider regions: West Texas, Midwest, Pacific Northwest\")\n",
    "print(f\"   • Avoid: High electricity cost regions unless H₂ prices are premium\")"
   ]
  },
  {
   "cell_type": "code",
   "execution_count": 113,
   "id": "9b13c149",
   "metadata": {},
   "outputs": [
    {
     "name": "stdout",
     "output_type": "stream",
     "text": [
      "Running Monte Carlo simulation with 5,000 iterations...\n",
      "This quantifies project risk by sampling from parameter distributions\n",
      "\n",
      "================================================================================\n",
      "MONTE CARLO UNCERTAINTY ANALYSIS RESULTS (5,000 iterations)\n",
      "================================================================================\n",
      "\n",
      "💰 NET PRESENT VALUE:\n",
      "   Mean:              $   24.54 million\n",
      "   Median:            $   24.60 million\n",
      "   Std Deviation:     $   17.63 million\n",
      "   5th Percentile:    $   -4.48 million\n",
      "   95th Percentile:   $   53.07 million\n",
      "   Probability NPV>0:    91.6%\n",
      "\n",
      "💵 LEVELIZED COST OF HYDROGEN:\n",
      "   Mean:              $    1.81/kg\n",
      "   Median:            $    1.81/kg\n",
      "   Std Deviation:     $    0.86/kg\n",
      "   5th Percentile:    $    0.41/kg\n",
      "   95th Percentile:   $    3.21/kg\n",
      "   Probability LCOH<$3.18: 94.5%\n",
      "\n",
      "📊 GROSS MARGIN:\n",
      "   Mean:                  52.6%\n",
      "   Median:                53.3%\n",
      "   5th Percentile:        37.9%\n",
      "   95th Percentile:       65.3%\n",
      "   Probability Margin>20%: 99.8%\n"
     ]
    },
    {
     "data": {
      "application/vnd.plotly.v1+json": {
       "config": {
        "plotlyServerURL": "https://plot.ly"
       },
       "data": [
        {
         "marker": {
          "color": "#3498db"
         },
         "name": "NPV",
         "nbinsx": 50,
         "showlegend": false,
         "type": "histogram",
         "x": {
          "bdata": "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",
          "dtype": "f8"
         },
         "xaxis": "x",
         "yaxis": "y"
        },
        {
         "marker": {
          "color": "#2ecc71"
         },
         "name": "LCOH",
         "nbinsx": 50,
         "showlegend": false,
         "type": "histogram",
         "x": {
          "bdata": "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",
          "dtype": "f8"
         },
         "xaxis": "x2",
         "yaxis": "y2"
        },
        {
         "marker": {
          "color": "#e74c3c"
         },
         "name": "Margin",
         "nbinsx": 50,
         "showlegend": false,
         "type": "histogram",
         "x": {
          "bdata": "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",
          "dtype": "f8"
         },
         "xaxis": "x3",
         "yaxis": "y3"
        },
        {
         "line": {
          "color": "#9b59b6",
          "width": 3
         },
         "mode": "lines",
         "showlegend": false,
         "type": "scatter",
         "x": {
          "bdata": "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",
          "dtype": "f8"
         },
         "xaxis": "x4",
         "y": {
          "bdata": "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",
          "dtype": "f8"
         },
         "yaxis": "y4"
        }
       ],
       "layout": {
        "annotations": [
         {
          "font": {
           "size": 16
          },
          "showarrow": false,
          "text": "NPV Distribution",
          "x": 0.225,
          "xanchor": "center",
          "xref": "paper",
          "y": 1,
          "yanchor": "bottom",
          "yref": "paper"
         },
         {
          "font": {
           "size": 16
          },
          "showarrow": false,
          "text": "LCOH Distribution",
          "x": 0.775,
          "xanchor": "center",
          "xref": "paper",
          "y": 1,
          "yanchor": "bottom",
          "yref": "paper"
         },
         {
          "font": {
           "size": 16
          },
          "showarrow": false,
          "text": "Gross Margin Distribution",
          "x": 0.225,
          "xanchor": "center",
          "xref": "paper",
          "y": 0.375,
          "yanchor": "bottom",
          "yref": "paper"
         },
         {
          "font": {
           "size": 16
          },
          "showarrow": false,
          "text": "NPV Probability",
          "x": 0.775,
          "xanchor": "center",
          "xref": "paper",
          "y": 0.375,
          "yanchor": "bottom",
          "yref": "paper"
         },
         {
          "showarrow": false,
          "text": "Base Case",
          "x": 20.6258,
          "xanchor": "left",
          "xref": "x",
          "y": 1,
          "yanchor": "top",
          "yref": "y domain"
         },
         {
          "showarrow": false,
          "text": "Base Case",
          "x": 2.41,
          "xanchor": "left",
          "xref": "x2",
          "y": 1,
          "yanchor": "top",
          "yref": "y2 domain"
         },
         {
          "showarrow": false,
          "text": "Market Price",
          "x": 3.18,
          "xanchor": "left",
          "xref": "x2",
          "y": 1,
          "yanchor": "top",
          "yref": "y2 domain"
         },
         {
          "showarrow": false,
          "text": "Base Case",
          "x": 30.63966511299123,
          "xanchor": "left",
          "xref": "x3",
          "y": 1,
          "yanchor": "top",
          "yref": "y3 domain"
         },
         {
          "showarrow": false,
          "text": "Break Even",
          "x": 0,
          "xanchor": "left",
          "xref": "x4",
          "y": 1,
          "yanchor": "top",
          "yref": "y4 domain"
         }
        ],
        "height": 700,
        "shapes": [
         {
          "line": {
           "color": "red",
           "dash": "dash"
          },
          "type": "line",
          "x0": 20.6258,
          "x1": 20.6258,
          "xref": "x",
          "y0": 0,
          "y1": 1,
          "yref": "y domain"
         },
         {
          "line": {
           "color": "red",
           "dash": "dash"
          },
          "type": "line",
          "x0": 2.41,
          "x1": 2.41,
          "xref": "x2",
          "y0": 0,
          "y1": 1,
          "yref": "y2 domain"
         },
         {
          "line": {
           "color": "green",
           "dash": "dot"
          },
          "type": "line",
          "x0": 3.18,
          "x1": 3.18,
          "xref": "x2",
          "y0": 0,
          "y1": 1,
          "yref": "y2 domain"
         },
         {
          "line": {
           "color": "red",
           "dash": "dash"
          },
          "type": "line",
          "x0": 30.63966511299123,
          "x1": 30.63966511299123,
          "xref": "x3",
          "y0": 0,
          "y1": 1,
          "yref": "y3 domain"
         },
         {
          "line": {
           "color": "red",
           "dash": "dash"
          },
          "type": "line",
          "x0": 0,
          "x1": 0,
          "xref": "x4",
          "y0": 0,
          "y1": 1,
          "yref": "y4 domain"
         }
        ],
        "template": {
         "data": {
          "bar": [
           {
            "error_x": {
             "color": "#2a3f5f"
            },
            "error_y": {
             "color": "#2a3f5f"
            },
            "marker": {
             "line": {
              "color": "#E5ECF6",
              "width": 0.5
             },
             "pattern": {
              "fillmode": "overlay",
              "size": 10,
              "solidity": 0.2
             }
            },
            "type": "bar"
           }
          ],
          "barpolar": [
           {
            "marker": {
             "line": {
              "color": "#E5ECF6",
              "width": 0.5
             },
             "pattern": {
              "fillmode": "overlay",
              "size": 10,
              "solidity": 0.2
             }
            },
            "type": "barpolar"
           }
          ],
          "carpet": [
           {
            "aaxis": {
             "endlinecolor": "#2a3f5f",
             "gridcolor": "white",
             "linecolor": "white",
             "minorgridcolor": "white",
             "startlinecolor": "#2a3f5f"
            },
            "baxis": {
             "endlinecolor": "#2a3f5f",
             "gridcolor": "white",
             "linecolor": "white",
             "minorgridcolor": "white",
             "startlinecolor": "#2a3f5f"
            },
            "type": "carpet"
           }
          ],
          "choropleth": [
           {
            "colorbar": {
             "outlinewidth": 0,
             "ticks": ""
            },
            "type": "choropleth"
           }
          ],
          "contour": [
           {
            "colorbar": {
             "outlinewidth": 0,
             "ticks": ""
            },
            "colorscale": [
             [
              0,
              "#0d0887"
             ],
             [
              0.1111111111111111,
              "#46039f"
             ],
             [
              0.2222222222222222,
              "#7201a8"
             ],
             [
              0.3333333333333333,
              "#9c179e"
             ],
             [
              0.4444444444444444,
              "#bd3786"
             ],
             [
              0.5555555555555556,
              "#d8576b"
             ],
             [
              0.6666666666666666,
              "#ed7953"
             ],
             [
              0.7777777777777778,
              "#fb9f3a"
             ],
             [
              0.8888888888888888,
              "#fdca26"
             ],
             [
              1,
              "#f0f921"
             ]
            ],
            "type": "contour"
           }
          ],
          "contourcarpet": [
           {
            "colorbar": {
             "outlinewidth": 0,
             "ticks": ""
            },
            "type": "contourcarpet"
           }
          ],
          "heatmap": [
           {
            "colorbar": {
             "outlinewidth": 0,
             "ticks": ""
            },
            "colorscale": [
             [
              0,
              "#0d0887"
             ],
             [
              0.1111111111111111,
              "#46039f"
             ],
             [
              0.2222222222222222,
              "#7201a8"
             ],
             [
              0.3333333333333333,
              "#9c179e"
             ],
             [
              0.4444444444444444,
              "#bd3786"
             ],
             [
              0.5555555555555556,
              "#d8576b"
             ],
             [
              0.6666666666666666,
              "#ed7953"
             ],
             [
              0.7777777777777778,
              "#fb9f3a"
             ],
             [
              0.8888888888888888,
              "#fdca26"
             ],
             [
              1,
              "#f0f921"
             ]
            ],
            "type": "heatmap"
           }
          ],
          "histogram": [
           {
            "marker": {
             "pattern": {
              "fillmode": "overlay",
              "size": 10,
              "solidity": 0.2
             }
            },
            "type": "histogram"
           }
          ],
          "histogram2d": [
           {
            "colorbar": {
             "outlinewidth": 0,
             "ticks": ""
            },
            "colorscale": [
             [
              0,
              "#0d0887"
             ],
             [
              0.1111111111111111,
              "#46039f"
             ],
             [
              0.2222222222222222,
              "#7201a8"
             ],
             [
              0.3333333333333333,
              "#9c179e"
             ],
             [
              0.4444444444444444,
              "#bd3786"
             ],
             [
              0.5555555555555556,
              "#d8576b"
             ],
             [
              0.6666666666666666,
              "#ed7953"
             ],
             [
              0.7777777777777778,
              "#fb9f3a"
             ],
             [
              0.8888888888888888,
              "#fdca26"
             ],
             [
              1,
              "#f0f921"
             ]
            ],
            "type": "histogram2d"
           }
          ],
          "histogram2dcontour": [
           {
            "colorbar": {
             "outlinewidth": 0,
             "ticks": ""
            },
            "colorscale": [
             [
              0,
              "#0d0887"
             ],
             [
              0.1111111111111111,
              "#46039f"
             ],
             [
              0.2222222222222222,
              "#7201a8"
             ],
             [
              0.3333333333333333,
              "#9c179e"
             ],
             [
              0.4444444444444444,
              "#bd3786"
             ],
             [
              0.5555555555555556,
              "#d8576b"
             ],
             [
              0.6666666666666666,
              "#ed7953"
             ],
             [
              0.7777777777777778,
              "#fb9f3a"
             ],
             [
              0.8888888888888888,
              "#fdca26"
             ],
             [
              1,
              "#f0f921"
             ]
            ],
            "type": "histogram2dcontour"
           }
          ],
          "mesh3d": [
           {
            "colorbar": {
             "outlinewidth": 0,
             "ticks": ""
            },
            "type": "mesh3d"
           }
          ],
          "parcoords": [
           {
            "line": {
             "colorbar": {
              "outlinewidth": 0,
              "ticks": ""
             }
            },
            "type": "parcoords"
           }
          ],
          "pie": [
           {
            "automargin": true,
            "type": "pie"
           }
          ],
          "scatter": [
           {
            "fillpattern": {
             "fillmode": "overlay",
             "size": 10,
             "solidity": 0.2
            },
            "type": "scatter"
           }
          ],
          "scatter3d": [
           {
            "line": {
             "colorbar": {
              "outlinewidth": 0,
              "ticks": ""
             }
            },
            "marker": {
             "colorbar": {
              "outlinewidth": 0,
              "ticks": ""
             }
            },
            "type": "scatter3d"
           }
          ],
          "scattercarpet": [
           {
            "marker": {
             "colorbar": {
              "outlinewidth": 0,
              "ticks": ""
             }
            },
            "type": "scattercarpet"
           }
          ],
          "scattergeo": [
           {
            "marker": {
             "colorbar": {
              "outlinewidth": 0,
              "ticks": ""
             }
            },
            "type": "scattergeo"
           }
          ],
          "scattergl": [
           {
            "marker": {
             "colorbar": {
              "outlinewidth": 0,
              "ticks": ""
             }
            },
            "type": "scattergl"
           }
          ],
          "scattermap": [
           {
            "marker": {
             "colorbar": {
              "outlinewidth": 0,
              "ticks": ""
             }
            },
            "type": "scattermap"
           }
          ],
          "scattermapbox": [
           {
            "marker": {
             "colorbar": {
              "outlinewidth": 0,
              "ticks": ""
             }
            },
            "type": "scattermapbox"
           }
          ],
          "scatterpolar": [
           {
            "marker": {
             "colorbar": {
              "outlinewidth": 0,
              "ticks": ""
             }
            },
            "type": "scatterpolar"
           }
          ],
          "scatterpolargl": [
           {
            "marker": {
             "colorbar": {
              "outlinewidth": 0,
              "ticks": ""
             }
            },
            "type": "scatterpolargl"
           }
          ],
          "scatterternary": [
           {
            "marker": {
             "colorbar": {
              "outlinewidth": 0,
              "ticks": ""
             }
            },
            "type": "scatterternary"
           }
          ],
          "surface": [
           {
            "colorbar": {
             "outlinewidth": 0,
             "ticks": ""
            },
            "colorscale": [
             [
              0,
              "#0d0887"
             ],
             [
              0.1111111111111111,
              "#46039f"
             ],
             [
              0.2222222222222222,
              "#7201a8"
             ],
             [
              0.3333333333333333,
              "#9c179e"
             ],
             [
              0.4444444444444444,
              "#bd3786"
             ],
             [
              0.5555555555555556,
              "#d8576b"
             ],
             [
              0.6666666666666666,
              "#ed7953"
             ],
             [
              0.7777777777777778,
              "#fb9f3a"
             ],
             [
              0.8888888888888888,
              "#fdca26"
             ],
             [
              1,
              "#f0f921"
             ]
            ],
            "type": "surface"
           }
          ],
          "table": [
           {
            "cells": {
             "fill": {
              "color": "#EBF0F8"
             },
             "line": {
              "color": "white"
             }
            },
            "header": {
             "fill": {
              "color": "#C8D4E3"
             },
             "line": {
              "color": "white"
             }
            },
            "type": "table"
           }
          ]
         },
         "layout": {
          "annotationdefaults": {
           "arrowcolor": "#2a3f5f",
           "arrowhead": 0,
           "arrowwidth": 1
          },
          "autotypenumbers": "strict",
          "coloraxis": {
           "colorbar": {
            "outlinewidth": 0,
            "ticks": ""
           }
          },
          "colorscale": {
           "diverging": [
            [
             0,
             "#8e0152"
            ],
            [
             0.1,
             "#c51b7d"
            ],
            [
             0.2,
             "#de77ae"
            ],
            [
             0.3,
             "#f1b6da"
            ],
            [
             0.4,
             "#fde0ef"
            ],
            [
             0.5,
             "#f7f7f7"
            ],
            [
             0.6,
             "#e6f5d0"
            ],
            [
             0.7,
             "#b8e186"
            ],
            [
             0.8,
             "#7fbc41"
            ],
            [
             0.9,
             "#4d9221"
            ],
            [
             1,
             "#276419"
            ]
           ],
           "sequential": [
            [
             0,
             "#0d0887"
            ],
            [
             0.1111111111111111,
             "#46039f"
            ],
            [
             0.2222222222222222,
             "#7201a8"
            ],
            [
             0.3333333333333333,
             "#9c179e"
            ],
            [
             0.4444444444444444,
             "#bd3786"
            ],
            [
             0.5555555555555556,
             "#d8576b"
            ],
            [
             0.6666666666666666,
             "#ed7953"
            ],
            [
             0.7777777777777778,
             "#fb9f3a"
            ],
            [
             0.8888888888888888,
             "#fdca26"
            ],
            [
             1,
             "#f0f921"
            ]
           ],
           "sequentialminus": [
            [
             0,
             "#0d0887"
            ],
            [
             0.1111111111111111,
             "#46039f"
            ],
            [
             0.2222222222222222,
             "#7201a8"
            ],
            [
             0.3333333333333333,
             "#9c179e"
            ],
            [
             0.4444444444444444,
             "#bd3786"
            ],
            [
             0.5555555555555556,
             "#d8576b"
            ],
            [
             0.6666666666666666,
             "#ed7953"
            ],
            [
             0.7777777777777778,
             "#fb9f3a"
            ],
            [
             0.8888888888888888,
             "#fdca26"
            ],
            [
             1,
             "#f0f921"
            ]
           ]
          },
          "colorway": [
           "#636efa",
           "#EF553B",
           "#00cc96",
           "#ab63fa",
           "#FFA15A",
           "#19d3f3",
           "#FF6692",
           "#B6E880",
           "#FF97FF",
           "#FECB52"
          ],
          "font": {
           "color": "#2a3f5f"
          },
          "geo": {
           "bgcolor": "white",
           "lakecolor": "white",
           "landcolor": "#E5ECF6",
           "showlakes": true,
           "showland": true,
           "subunitcolor": "white"
          },
          "hoverlabel": {
           "align": "left"
          },
          "hovermode": "closest",
          "mapbox": {
           "style": "light"
          },
          "paper_bgcolor": "white",
          "plot_bgcolor": "#E5ECF6",
          "polar": {
           "angularaxis": {
            "gridcolor": "white",
            "linecolor": "white",
            "ticks": ""
           },
           "bgcolor": "#E5ECF6",
           "radialaxis": {
            "gridcolor": "white",
            "linecolor": "white",
            "ticks": ""
           }
          },
          "scene": {
           "xaxis": {
            "backgroundcolor": "#E5ECF6",
            "gridcolor": "white",
            "gridwidth": 2,
            "linecolor": "white",
            "showbackground": true,
            "ticks": "",
            "zerolinecolor": "white"
           },
           "yaxis": {
            "backgroundcolor": "#E5ECF6",
            "gridcolor": "white",
            "gridwidth": 2,
            "linecolor": "white",
            "showbackground": true,
            "ticks": "",
            "zerolinecolor": "white"
           },
           "zaxis": {
            "backgroundcolor": "#E5ECF6",
            "gridcolor": "white",
            "gridwidth": 2,
            "linecolor": "white",
            "showbackground": true,
            "ticks": "",
            "zerolinecolor": "white"
           }
          },
          "shapedefaults": {
           "line": {
            "color": "#2a3f5f"
           }
          },
          "ternary": {
           "aaxis": {
            "gridcolor": "white",
            "linecolor": "white",
            "ticks": ""
           },
           "baxis": {
            "gridcolor": "white",
            "linecolor": "white",
            "ticks": ""
           },
           "bgcolor": "#E5ECF6",
           "caxis": {
            "gridcolor": "white",
            "linecolor": "white",
            "ticks": ""
           }
          },
          "title": {
           "x": 0.05
          },
          "xaxis": {
           "automargin": true,
           "gridcolor": "white",
           "linecolor": "white",
           "ticks": "",
           "title": {
            "standoff": 15
           },
           "zerolinecolor": "white",
           "zerolinewidth": 2
          },
          "yaxis": {
           "automargin": true,
           "gridcolor": "white",
           "linecolor": "white",
           "ticks": "",
           "title": {
            "standoff": 15
           },
           "zerolinecolor": "white",
           "zerolinewidth": 2
          }
         }
        },
        "title": {
         "text": "Monte Carlo Uncertainty Analysis"
        },
        "xaxis": {
         "anchor": "y",
         "domain": [
          0,
          0.45
         ],
         "title": {
          "text": "NPV ($ millions)"
         }
        },
        "xaxis2": {
         "anchor": "y2",
         "domain": [
          0.55,
          1
         ],
         "title": {
          "text": "LCOH ($/kg H₂)"
         }
        },
        "xaxis3": {
         "anchor": "y3",
         "domain": [
          0,
          0.45
         ],
         "title": {
          "text": "Gross Margin (%)"
         }
        },
        "xaxis4": {
         "anchor": "y4",
         "domain": [
          0.55,
          1
         ],
         "title": {
          "text": "NPV ($ millions)"
         }
        },
        "yaxis": {
         "anchor": "x",
         "domain": [
          0.625,
          1
         ],
         "title": {
          "text": "Frequency"
         }
        },
        "yaxis2": {
         "anchor": "x2",
         "domain": [
          0.625,
          1
         ],
         "title": {
          "text": "Frequency"
         }
        },
        "yaxis3": {
         "anchor": "x3",
         "domain": [
          0,
          0.375
         ],
         "title": {
          "text": "Frequency"
         }
        },
        "yaxis4": {
         "anchor": "x4",
         "domain": [
          0,
          0.375
         ],
         "title": {
          "text": "Cumulative Probability (%)"
         }
        }
       }
      }
     },
     "metadata": {},
     "output_type": "display_data"
    },
    {
     "name": "stdout",
     "output_type": "stream",
     "text": [
      "\n",
      "📈 Percentile Analysis:\n",
      "\n",
      "NPV ($ millions):\n",
      "    5th percentile: $  -4.5M\n",
      "\n",
      "LCOH ($/kg H₂):\n",
      "   10th percentile: $   1.8M\n",
      "\n",
      "LCOH ($/kg H₂):\n",
      "   25th percentile: $  12.9M\n",
      "\n",
      "LCOH ($/kg H₂):\n",
      "   50th percentile: $  24.6M\n",
      "\n",
      "LCOH ($/kg H₂):\n",
      "   75th percentile: $  36.6M\n",
      "\n",
      "LCOH ($/kg H₂):\n",
      "   90th percentile: $  47.0M\n",
      "\n",
      "LCOH ($/kg H₂):\n",
      "   95th percentile: $  53.1M\n",
      "\n",
      "LCOH ($/kg H₂):\n",
      "    5th percentile: $ 0.41\n",
      "\n",
      "🎯 Risk Assessment:\n",
      "   • 91.6% probability of positive NPV\n",
      "   • 94.5% probability LCOH below market price\n",
      "   • 99.8% probability of healthy margin (>20%)\n",
      "   10th percentile: $ 0.70\n",
      "\n",
      "🎯 Risk Assessment:\n",
      "   • 91.6% probability of positive NPV\n",
      "   • 94.5% probability LCOH below market price\n",
      "   • 99.8% probability of healthy margin (>20%)\n",
      "   25th percentile: $ 1.22\n",
      "\n",
      "🎯 Risk Assessment:\n",
      "   • 91.6% probability of positive NPV\n",
      "   • 94.5% probability LCOH below market price\n",
      "   • 99.8% probability of healthy margin (>20%)\n",
      "   50th percentile: $ 1.81\n",
      "\n",
      "🎯 Risk Assessment:\n",
      "   • 91.6% probability of positive NPV\n",
      "   • 94.5% probability LCOH below market price\n",
      "   • 99.8% probability of healthy margin (>20%)\n",
      "   75th percentile: $ 2.38\n",
      "\n",
      "🎯 Risk Assessment:\n",
      "   • 91.6% probability of positive NPV\n",
      "   • 94.5% probability LCOH below market price\n",
      "   • 99.8% probability of healthy margin (>20%)\n",
      "   90th percentile: $ 2.90\n",
      "\n",
      "🎯 Risk Assessment:\n",
      "   • 91.6% probability of positive NPV\n",
      "   • 94.5% probability LCOH below market price\n",
      "   • 99.8% probability of healthy margin (>20%)\n",
      "   95th percentile: $ 3.21\n",
      "\n",
      "🎯 Risk Assessment:\n",
      "   • 91.6% probability of positive NPV\n",
      "   • 94.5% probability LCOH below market price\n",
      "   • 99.8% probability of healthy margin (>20%)\n",
      "\n",
      "   ✅ Project shows STRONG robustness to uncertainty\n"
     ]
    }
   ],
   "source": [
    "# Monte Carlo simulation for uncertainty analysis\n",
    "np.random.seed(42)\n",
    "n_simulations = 5000\n",
    "\n",
    "print(\"Running Monte Carlo simulation with 5,000 iterations...\")\n",
    "print(\"This quantifies project risk by sampling from parameter distributions\\n\")\n",
    "\n",
    "# Storage for results\n",
    "npv_results = []\n",
    "irr_results = []\n",
    "lcoh_results = []\n",
    "margin_results = []\n",
    "\n",
    "for i in range(n_simulations):\n",
    "    # Sample parameters from distributions\n",
    "    # Using normal distribution with std = (high - low) / 6 (capturing 99.7% within range)\n",
    "    \n",
    "    elec_price_sim = np.random.normal(\n",
    "        electricity_price, \n",
    "        (sensitivity_ranges[sensitivity_ranges['parameter'] == 'electricity_price']['high_value'].values[0] - \n",
    "         sensitivity_ranges[sensitivity_ranges['parameter'] == 'electricity_price']['low_value'].values[0]) / 6)\n",
    "    \n",
    "    elec_price_sim = max(0.03, min(0.15, elec_price_sim))  # Bound to reasonable range\n",
    "\n",
    "    h2_price_sim = np.random.normal(\n",
    "        h2_price,\n",
    "        (5.0 - 2.0) / 6\n",
    "    )\n",
    "    h2_price_sim = max(1.5, min(6.0, h2_price_sim))\n",
    "\n",
    "    cb_price_sim = np.random.normal(\n",
    "        cb_price,\n",
    "        (3.0 - 1.0) / 6\n",
    "    )\n",
    "    cb_price_sim = max(0.5, min(3.5, cb_price_sim))\n",
    "\n",
    "    rng_price_sim = np.random.normal(\n",
    "        rng_price,\n",
    "        (0.25 - 0.10) / 6\n",
    "    )\n",
    "    rng_price_sim = max(0, min(0.30, rng_price_sim))\n",
    "\n",
    "    capex_sim = np.random.normal(\n",
    "        capex,\n",
    "        (capex * 0.2) / 3  # ±20% range\n",
    "    )\n",
    "    capex_sim = max(capex * 0.7, min(capex * 1.3, capex_sim))\n",
    "\n",
    "    capacity_factor_sim = np.random.normal(\n",
    "        capacity_factor,\n",
    "        (0.95 - 0.85) / 6\n",
    "    )\n",
    "    capacity_factor_sim = max(0.80, min(0.98, capacity_factor_sim))\n",
    "\n",
    "    # Recalculate metrics with sampled parameters\n",
    "    h2_annual_sim = h2_rate * operating_hours * capacity_factor_sim\n",
    "    cb_annual_sim = cb_rate * operating_hours * capacity_factor_sim\n",
    "\n",
    "    # Revenue\n",
    "    h2_revenue_sim = h2_annual_sim * h2_price_sim\n",
    "    cb_revenue_sim = cb_annual_sim * cb_price_sim\n",
    "    total_revenue_sim = h2_revenue_sim + cb_revenue_sim\n",
    "\n",
    "    # Costs\n",
    "    rng_annual_consumption = 1923 * operating_hours\n",
    "    rng_cost_sim = rng_annual_consumption * rng_price_sim\n",
    "    elec_cost_sim = h2_annual_sim * energy_per_kg_h2 * elec_price_sim\n",
    "    variable_costs_sim = rng_cost_sim + elec_cost_sim + cooling_cost + process_water_cost\n",
    "\n",
    "    # Margin\n",
    "    margin_sim = total_revenue_sim - variable_costs_sim\n",
    "    margin_pct_sim = margin_sim / total_revenue_sim * 100\n",
    "\n",
    "    # LCOH (simplified)\n",
    "    total_annual_cost_sim = (capex_sim * ((discount_rate * (1+discount_rate)**plant_lifetime) / \n",
    "                                          ((1+discount_rate)**plant_lifetime - 1))) + variable_costs_sim\n",
    "    lcoh_sim = (total_annual_cost_sim - cb_revenue_sim) / h2_annual_sim\n",
    "\n",
    "    # NPV (simplified)\n",
    "    annual_cf = margin_sim\n",
    "    annuity_factor = (1 - (1 + discount_rate)**(-plant_lifetime)) / discount_rate\n",
    "    npv_sim = -capex_sim + annual_cf * annuity_factor\n",
    "\n",
    "    # IRR (approximation)\n",
    "    if annual_cf > 0:\n",
    "        irr_sim = (annual_cf / capex_sim) * 100\n",
    "    else:\n",
    "        irr_sim = -100\n",
    "\n",
    "    npv_results.append(npv_sim)\n",
    "    irr_results.append(irr_sim)\n",
    "    lcoh_results.append(lcoh_sim)\n",
    "    margin_results.append(margin_pct_sim)\n",
    "\n",
    "# convert to arrays\n",
    "\n",
    "npv_results = np.array(npv_results)\n",
    "irr_results = np.array(irr_results)\n",
    "lcoh_results = np.array(lcoh_results)\n",
    "margin_results = np.array(margin_results)\n",
    "\n",
    "print(\"=\"*80)\n",
    "print(\"MONTE CARLO UNCERTAINTY ANALYSIS RESULTS (5,000 iterations)\")\n",
    "print(\"=\"*80)\n",
    "print(f\"\\n💰 NET PRESENT VALUE:\")\n",
    "print(f\"   Mean:              ${np.mean(npv_results)/1e6:>8.2f} million\")\n",
    "print(f\"   Median:            ${np.median(npv_results)/1e6:>8.2f} million\")\n",
    "print(f\"   Std Deviation:     ${np.std(npv_results)/1e6:>8.2f} million\")\n",
    "print(f\"   5th Percentile:    ${np.percentile(npv_results, 5)/1e6:>8.2f} million\")\n",
    "print(f\"   95th Percentile:   ${np.percentile(npv_results, 95)/1e6:>8.2f} million\")\n",
    "print(f\"   Probability NPV>0: {(npv_results > 0).sum() / len(npv_results) * 100:>7.1f}%\")\n",
    "print(f\"\\n💵 LEVELIZED COST OF HYDROGEN:\")\n",
    "print(f\"   Mean:              ${np.mean(lcoh_results):>8.2f}/kg\")\n",
    "print(f\"   Median:            ${np.median(lcoh_results):>8.2f}/kg\")\n",
    "print(f\"   Std Deviation:     ${np.std(lcoh_results):>8.2f}/kg\")\n",
    "print(f\"   5th Percentile:    ${np.percentile(lcoh_results, 5):>8.2f}/kg\")\n",
    "print(f\"   95th Percentile:   ${np.percentile(lcoh_results, 95):>8.2f}/kg\")\n",
    "print(f\"   Probability LCOH<$3.18: {(lcoh_results < h2_price).sum() / len(lcoh_results) * 100:>4.1f}%\")\n",
    "print(f\"\\n📊 GROSS MARGIN:\")\n",
    "print(f\"   Mean:              {np.mean(margin_results):>8.1f}%\")\n",
    "print(f\"   Median:            {np.median(margin_results):>8.1f}%\")\n",
    "print(f\"   5th Percentile:    {np.percentile(margin_results, 5):>8.1f}%\")\n",
    "print(f\"   95th Percentile:   {np.percentile(margin_results, 95):>8.1f}%\")\n",
    "print(f\"   Probability Margin>20%: {(margin_results > 20).sum() / len(margin_results) * 100:>4.1f}%\")\n",
    "\n",
    "#visualize distributions\n",
    "fig = make_subplots(\n",
    "rows=2, cols=2,\n",
    "subplot_titles=('NPV Distribution', 'LCOH Distribution',\n",
    "'Gross Margin Distribution', 'NPV Probability'),\n",
    "specs=[[{'type': 'histogram'}, {'type': 'histogram'}],\n",
    "[{'type': 'histogram'}, {'type': 'scatter'}]]\n",
    ")\n",
    "\n",
    "#npv histogram\n",
    "fig.add_trace(\n",
    "go.Histogram(x=npv_results/1e6, name='NPV', marker_color='#3498db',\n",
    "nbinsx=50, showlegend=False),\n",
    "row=1, col=1\n",
    ")\n",
    "fig.add_vline(x=npv/1e6, line_dash=\"dash\", line_color=\"red\",\n",
    "annotation_text=\"Base Case\", row=1, col=1)\n",
    "\n",
    "#lcoh histogram\n",
    "fig.add_trace(\n",
    "go.Histogram(x=lcoh_results, name='LCOH', marker_color='#2ecc71',\n",
    "nbinsx=50, showlegend=False),\n",
    "row=1, col=2\n",
    ")\n",
    "fig.add_vline(x=lcoh, line_dash=\"dash\", line_color=\"red\",\n",
    "annotation_text=\"Base Case\", row=1, col=2)\n",
    "fig.add_vline(x=h2_price, line_dash=\"dot\", line_color=\"green\",\n",
    "annotation_text=\"Market Price\", row=1, col=2)\n",
    "\n",
    "#margin histogram\n",
    "fig.add_trace(\n",
    "go.Histogram(x=margin_results, name='Margin', marker_color='#e74c3c',\n",
    "nbinsx=50, showlegend=False),\n",
    "row=2, col=1\n",
    ")\n",
    "fig.add_vline(x=gross_margin/total_revenue*100, line_dash=\"dash\", line_color=\"red\",\n",
    "annotation_text=\"Base Case\", row=2, col=1)\n",
    "\n",
    "#npv cumulative probability\n",
    "sorted_npv = np.sort(npv_results)\n",
    "cumulative_prob = np.arange(1, len(sorted_npv) + 1) / len(sorted_npv) * 100\n",
    "fig.add_trace(\n",
    "go.Scatter(x=sorted_npv/1e6, y=cumulative_prob,\n",
    "mode='lines', line=dict(width=3, color='#9b59b6'),\n",
    "showlegend=False),\n",
    "row=2, col=2\n",
    ")\n",
    "fig.add_vline(x=0, line_dash=\"dash\", line_color=\"red\",\n",
    "annotation_text=\"Break Even\", row=2, col=2)\n",
    "fig.update_xaxes(title_text=\"NPV ($ millions)\", row=1, col=1)\n",
    "fig.update_xaxes(title_text=\"LCOH ($/kg H₂)\", row=1, col=2)\n",
    "fig.update_xaxes(title_text=\"Gross Margin (%)\", row=2, col=1)\n",
    "fig.update_xaxes(title_text=\"NPV ($ millions)\", row=2, col=2)\n",
    "fig.update_yaxes(title_text=\"Frequency\", row=1, col=1)\n",
    "fig.update_yaxes(title_text=\"Frequency\", row=1, col=2)\n",
    "fig.update_yaxes(title_text=\"Frequency\", row=2, col=1)\n",
    "fig.update_yaxes(title_text=\"Cumulative Probability (%)\", row=2, col=2)\n",
    "fig.update_layout(height=700, title_text=\"Monte Carlo Uncertainty Analysis\")\n",
    "fig.show()\n",
    "\n",
    "#percentile analysis\n",
    "percentiles = [5, 10, 25, 50, 75, 90, 95]\n",
    "print(\"\\n📈 Percentile Analysis:\")\n",
    "print(\"\\nNPV ($ millions):\")\n",
    "for p in percentiles:\n",
    "    print(f\"   {p:>2}th percentile: ${np.percentile(npv_results, p)/1e6:>6.1f}M\")\n",
    "    print(\"\\nLCOH ($/kg H₂):\")\n",
    "for p in percentiles:\n",
    "    print(f\"   {p:>2}th percentile: ${np.percentile(lcoh_results, p):>5.2f}\")\n",
    "    print(f\"\\n🎯 Risk Assessment:\")\n",
    "    print(f\"   • {(npv_results > 0).sum() / len(npv_results) * 100:.1f}% probability of positive NPV\")\n",
    "    print(f\"   • {(lcoh_results < h2_price).sum() / len(lcoh_results) * 100:.1f}% probability LCOH below market price\")\n",
    "    print(f\"   • {(margin_results > 20).sum() / len(margin_results) * 100:.1f}% probability of healthy margin (>20%)\")\n",
    "if (npv_results > 0).sum() / len(npv_results) > 0.7:\n",
    "    print(f\"\\n   ✅ Project shows STRONG robustness to uncertainty\")\n",
    "elif (npv_results > 0).sum() / len(npv_results) > 0.5:\n",
    "    print(f\"\\n   ⚠️ Project shows MODERATE robustness to uncertainty\")\n",
    "else:\n",
    "    print(f\"\\n   ❌ Project shows HIGH risk under uncertainty\")"
   ]
  },
  {
   "cell_type": "markdown",
   "id": "100f290d",
   "metadata": {},
   "source": [
    "## Geographic Deployment Strategy\n",
    "\n",
    "The economics of this process vary significantly by region based on electricity costs and hydrogen demand. Let's analyze optimal deployment locations."
   ]
  },
  {
   "cell_type": "code",
   "execution_count": 114,
   "id": "0670c8fd",
   "metadata": {},
   "outputs": [
    {
     "data": {
      "text/html": [
       "<style type=\"text/css\">\n",
       "#T_853e6_row0_col6 {\n",
       "  background-color: #006837;\n",
       "  color: #f1f1f1;\n",
       "}\n",
       "#T_853e6_row1_col6 {\n",
       "  background-color: #128a49;\n",
       "  color: #f1f1f1;\n",
       "}\n",
       "#T_853e6_row2_col6 {\n",
       "  background-color: #219c52;\n",
       "  color: #f1f1f1;\n",
       "}\n",
       "#T_853e6_row3_col6 {\n",
       "  background-color: #a50026;\n",
       "  color: #f1f1f1;\n",
       "}\n",
       "#T_853e6_row4_col6 {\n",
       "  background-color: #fcaa5f;\n",
       "  color: #000000;\n",
       "}\n",
       "#T_853e6_row5_col6 {\n",
       "  background-color: #a2d76a;\n",
       "  color: #000000;\n",
       "}\n",
       "</style>\n",
       "<table id=\"T_853e6\">\n",
       "  <thead>\n",
       "    <tr>\n",
       "      <th class=\"blank level0\" >&nbsp;</th>\n",
       "      <th id=\"T_853e6_level0_col0\" class=\"col_heading level0 col0\" >Region</th>\n",
       "      <th id=\"T_853e6_level0_col1\" class=\"col_heading level0 col1\" >Electricity Price ($/kWh)</th>\n",
       "      <th id=\"T_853e6_level0_col2\" class=\"col_heading level0 col2\" >H₂ Demand Level</th>\n",
       "      <th id=\"T_853e6_level0_col3\" class=\"col_heading level0 col3\" >Renewable Availability</th>\n",
       "      <th id=\"T_853e6_level0_col4\" class=\"col_heading level0 col4\" >Key Industries</th>\n",
       "      <th id=\"T_853e6_level0_col5\" class=\"col_heading level0 col5\" >LCOH ($/kg)</th>\n",
       "      <th id=\"T_853e6_level0_col6\" class=\"col_heading level0 col6\" >NPV ($M)</th>\n",
       "      <th id=\"T_853e6_level0_col7\" class=\"col_heading level0 col7\" >NPV_for_size</th>\n",
       "      <th id=\"T_853e6_level0_col8\" class=\"col_heading level0 col8\" >Economic Rank</th>\n",
       "    </tr>\n",
       "  </thead>\n",
       "  <tbody>\n",
       "    <tr>\n",
       "      <th id=\"T_853e6_level0_row0\" class=\"row_heading level0 row0\" >0</th>\n",
       "      <td id=\"T_853e6_row0_col0\" class=\"data row0 col0\" >West Texas</td>\n",
       "      <td id=\"T_853e6_row0_col1\" class=\"data row0 col1\" >0.045</td>\n",
       "      <td id=\"T_853e6_row0_col2\" class=\"data row0 col2\" >Medium</td>\n",
       "      <td id=\"T_853e6_row0_col3\" class=\"data row0 col3\" >Excellent (Wind)</td>\n",
       "      <td id=\"T_853e6_row0_col4\" class=\"data row0 col4\" >Refining, Chemicals</td>\n",
       "      <td id=\"T_853e6_row0_col5\" class=\"data row0 col5\" >1.49</td>\n",
       "      <td id=\"T_853e6_row0_col6\" class=\"data row0 col6\" >38.5</td>\n",
       "      <td id=\"T_853e6_row0_col7\" class=\"data row0 col7\" >97.395976</td>\n",
       "      <td id=\"T_853e6_row0_col8\" class=\"data row0 col8\" >1</td>\n",
       "    </tr>\n",
       "    <tr>\n",
       "      <th id=\"T_853e6_level0_row1\" class=\"row_heading level0 row1\" >1</th>\n",
       "      <td id=\"T_853e6_row1_col0\" class=\"data row1 col0\" >Midwest (IA/MN)</td>\n",
       "      <td id=\"T_853e6_row1_col1\" class=\"data row1 col1\" >0.055</td>\n",
       "      <td id=\"T_853e6_row1_col2\" class=\"data row1 col2\" >Low</td>\n",
       "      <td id=\"T_853e6_row1_col3\" class=\"data row1 col3\" >Excellent (Wind)</td>\n",
       "      <td id=\"T_853e6_row1_col4\" class=\"data row1 col4\" >Agriculture, Food</td>\n",
       "      <td id=\"T_853e6_row1_col5\" class=\"data row1 col5\" >1.86</td>\n",
       "      <td id=\"T_853e6_row1_col6\" class=\"data row1 col6\" >31.3</td>\n",
       "      <td id=\"T_853e6_row1_col7\" class=\"data row1 col7\" >90.255533</td>\n",
       "      <td id=\"T_853e6_row1_col8\" class=\"data row1 col8\" >2</td>\n",
       "    </tr>\n",
       "    <tr>\n",
       "      <th id=\"T_853e6_level0_row2\" class=\"row_heading level0 row2\" >2</th>\n",
       "      <td id=\"T_853e6_row2_col0\" class=\"data row2 col0\" >Pacific Northwest</td>\n",
       "      <td id=\"T_853e6_row2_col1\" class=\"data row2 col1\" >0.060</td>\n",
       "      <td id=\"T_853e6_row2_col2\" class=\"data row2 col2\" >Medium</td>\n",
       "      <td id=\"T_853e6_row2_col3\" class=\"data row2 col3\" >Excellent (Hydro)</td>\n",
       "      <td id=\"T_853e6_row2_col4\" class=\"data row2 col4\" >Aerospace, Tech</td>\n",
       "      <td id=\"T_853e6_row2_col5\" class=\"data row2 col5\" >2.04</td>\n",
       "      <td id=\"T_853e6_row2_col6\" class=\"data row2 col6\" >27.8</td>\n",
       "      <td id=\"T_853e6_row2_col7\" class=\"data row2 col7\" >86.685312</td>\n",
       "      <td id=\"T_853e6_row2_col8\" class=\"data row2 col8\" >3</td>\n",
       "    </tr>\n",
       "    <tr>\n",
       "      <th id=\"T_853e6_level0_row3\" class=\"row_heading level0 row3\" >3</th>\n",
       "      <td id=\"T_853e6_row3_col0\" class=\"data row3 col0\" >California</td>\n",
       "      <td id=\"T_853e6_row3_col1\" class=\"data row3 col1\" >0.180</td>\n",
       "      <td id=\"T_853e6_row3_col2\" class=\"data row3 col2\" >High</td>\n",
       "      <td id=\"T_853e6_row3_col3\" class=\"data row3 col3\" >Good (Solar)</td>\n",
       "      <td id=\"T_853e6_row3_col4\" class=\"data row3 col4\" >Refining, Transport</td>\n",
       "      <td id=\"T_853e6_row3_col5\" class=\"data row3 col5\" >6.46</td>\n",
       "      <td id=\"T_853e6_row3_col6\" class=\"data row3 col6\" >-57.9</td>\n",
       "      <td id=\"T_853e6_row3_col7\" class=\"data row3 col7\" >1.000000</td>\n",
       "      <td id=\"T_853e6_row3_col8\" class=\"data row3 col8\" >6</td>\n",
       "    </tr>\n",
       "    <tr>\n",
       "      <th id=\"T_853e6_level0_row4\" class=\"row_heading level0 row4\" >4</th>\n",
       "      <td id=\"T_853e6_row4_col0\" class=\"data row4 col0\" >Northeast</td>\n",
       "      <td id=\"T_853e6_row4_col1\" class=\"data row4 col1\" >0.140</td>\n",
       "      <td id=\"T_853e6_row4_col2\" class=\"data row4 col2\" >High</td>\n",
       "      <td id=\"T_853e6_row4_col3\" class=\"data row4 col3\" >Moderate</td>\n",
       "      <td id=\"T_853e6_row4_col4\" class=\"data row4 col4\" >Manufacturing</td>\n",
       "      <td id=\"T_853e6_row4_col5\" class=\"data row4 col5\" >4.99</td>\n",
       "      <td id=\"T_853e6_row4_col6\" class=\"data row4 col6\" >-29.4</td>\n",
       "      <td id=\"T_853e6_row4_col7\" class=\"data row4 col7\" >29.561771</td>\n",
       "      <td id=\"T_853e6_row4_col8\" class=\"data row4 col8\" >5</td>\n",
       "    </tr>\n",
       "    <tr>\n",
       "      <th id=\"T_853e6_level0_row5\" class=\"row_heading level0 row5\" >5</th>\n",
       "      <td id=\"T_853e6_row5_col0\" class=\"data row5 col0\" >Southeast</td>\n",
       "      <td id=\"T_853e6_row5_col1\" class=\"data row5 col1\" >0.085</td>\n",
       "      <td id=\"T_853e6_row5_col2\" class=\"data row5 col2\" >Medium</td>\n",
       "      <td id=\"T_853e6_row5_col3\" class=\"data row5 col3\" >Moderate</td>\n",
       "      <td id=\"T_853e6_row5_col4\" class=\"data row5 col4\" >Chemicals, Aerospace</td>\n",
       "      <td id=\"T_853e6_row5_col5\" class=\"data row5 col5\" >2.96</td>\n",
       "      <td id=\"T_853e6_row5_col6\" class=\"data row5 col6\" >9.9</td>\n",
       "      <td id=\"T_853e6_row5_col7\" class=\"data row5 col7\" >68.834205</td>\n",
       "      <td id=\"T_853e6_row5_col8\" class=\"data row5 col8\" >4</td>\n",
       "    </tr>\n",
       "  </tbody>\n",
       "</table>\n"
      ],
      "text/plain": [
       "<pandas.io.formats.style.Styler at 0x257440ae260>"
      ]
     },
     "metadata": {},
     "output_type": "display_data"
    },
    {
     "data": {
      "application/vnd.plotly.v1+json": {
       "config": {
        "plotlyServerURL": "https://plot.ly"
       },
       "data": [
        {
         "customdata": {
          "bdata": "K3KVRgs9Q0A+BmKqV1lYQOQRnIAiVj9AoVE+p1qQVkA=",
          "dtype": "f8",
          "shape": "2, 2"
         },
         "hovertemplate": "Renewable Availability=Excellent (Wind)<br>Electricity Price ($/kWh)=%{x}<br>Levelized Cost of Hydrogen ($/kg)=%{y}<br>Region=%{text}<br>NPV ($M)=%{customdata[0]:.1f}<extra></extra>",
         "legendgroup": "Excellent (Wind)",
         "marker": {
          "color": "#636efa",
          "size": {
           "bdata": "PgZiqldZWEChUT6nWpBWQA==",
           "dtype": "f8"
          },
          "sizemode": "area",
          "sizeref": 0.060872484800652826,
          "symbol": "circle"
         },
         "mode": "markers+text",
         "name": "Excellent (Wind)",
         "orientation": "v",
         "showlegend": true,
         "text": [
          "West Texas",
          "Midwest (IA/MN)"
         ],
         "textposition": "top center",
         "type": "scatter",
         "x": {
          "bdata": "CtejcD0Kpz8pXI/C9SisPw==",
          "dtype": "f8"
         },
         "xaxis": "x",
         "y": {
          "bdata": "1qNwPQrX9z/ufD81Xrr9Pw==",
          "dtype": "f8"
         },
         "yaxis": "y"
        },
        {
         "customdata": {
          "bdata": "q6hUeijEO0BTd6wl3KtVQA==",
          "dtype": "f8",
          "shape": "1, 2"
         },
         "hovertemplate": "Renewable Availability=Excellent (Hydro)<br>Electricity Price ($/kWh)=%{x}<br>Levelized Cost of Hydrogen ($/kg)=%{y}<br>Region=%{text}<br>NPV ($M)=%{customdata[0]:.1f}<extra></extra>",
         "legendgroup": "Excellent (Hydro)",
         "marker": {
          "color": "#EF553B",
          "size": {
           "bdata": "U3esJdyrVUA=",
           "dtype": "f8"
          },
          "sizemode": "area",
          "sizeref": 0.060872484800652826,
          "symbol": "circle"
         },
         "mode": "markers+text",
         "name": "Excellent (Hydro)",
         "orientation": "v",
         "showlegend": true,
         "text": [
          "Pacific Northwest"
         ],
         "textposition": "top center",
         "type": "scatter",
         "x": {
          "bdata": "uB6F61G4rj8=",
          "dtype": "f8"
         },
         "xaxis": "x",
         "y": {
          "bdata": "vHSTGARWAEA=",
          "dtype": "f8"
         },
         "yaxis": "y"
        },
        {
         "customdata": {
          "bdata": "UJouDqT1TMAAAAAAAADwPw==",
          "dtype": "f8",
          "shape": "1, 2"
         },
         "hovertemplate": "Renewable Availability=Good (Solar)<br>Electricity Price ($/kWh)=%{x}<br>Levelized Cost of Hydrogen ($/kg)=%{y}<br>Region=%{text}<br>NPV ($M)=%{customdata[0]:.1f}<extra></extra>",
         "legendgroup": "Good (Solar)",
         "marker": {
          "color": "#00cc96",
          "size": {
           "bdata": "AAAAAAAA8D8=",
           "dtype": "f8"
          },
          "sizemode": "area",
          "sizeref": 0.060872484800652826,
          "symbol": "circle"
         },
         "mode": "markers+text",
         "name": "Good (Solar)",
         "orientation": "v",
         "showlegend": true,
         "text": [
          "California"
         ],
         "textposition": "top center",
         "type": "scatter",
         "x": {
          "bdata": "CtejcD0Kxz8=",
          "dtype": "f8"
         },
         "xaxis": "x",
         "y": {
          "bdata": "oUW28/3UGUA=",
          "dtype": "f8"
         },
         "yaxis": "y"
        },
        {
         "customdata": {
          "bdata": "3+oh6ndbPcDBSTsy0I89QB4137WM1CNAzDPTnWM1UUA=",
          "dtype": "f8",
          "shape": "2, 2"
         },
         "hovertemplate": "Renewable Availability=Moderate<br>Electricity Price ($/kWh)=%{x}<br>Levelized Cost of Hydrogen ($/kg)=%{y}<br>Region=%{text}<br>NPV ($M)=%{customdata[0]:.1f}<extra></extra>",
         "legendgroup": "Moderate",
         "marker": {
          "color": "#ab63fa",
          "size": {
           "bdata": "wUk7MtCPPUDMM9OdYzVRQA==",
           "dtype": "f8"
          },
          "sizemode": "area",
          "sizeref": 0.060872484800652826,
          "symbol": "circle"
         },
         "mode": "markers+text",
         "name": "Moderate",
         "orientation": "v",
         "showlegend": true,
         "text": [
          "Northeast",
          "Southeast"
         ],
         "textposition": "top center",
         "type": "scatter",
         "x": {
          "bdata": "7FG4HoXrwT/D9Shcj8K1Pw==",
          "dtype": "f8"
         },
         "xaxis": "x",
         "y": {
          "bdata": "jGzn+6nxE0AZBFYOLbIHQA==",
          "dtype": "f8"
         },
         "yaxis": "y"
        }
       ],
       "layout": {
        "annotations": [
         {
          "showarrow": false,
          "text": "H₂ Market Price ($3.18/kg)",
          "x": 1,
          "xanchor": "right",
          "xref": "x domain",
          "y": 3.18,
          "yanchor": "bottom",
          "yref": "y"
         }
        ],
        "height": 500,
        "legend": {
         "itemsizing": "constant",
         "title": {
          "text": "Renewable Availability"
         },
         "tracegroupgap": 0
        },
        "shapes": [
         {
          "line": {
           "color": "green",
           "dash": "dash"
          },
          "type": "line",
          "x0": 0,
          "x1": 1,
          "xref": "x domain",
          "y0": 3.18,
          "y1": 3.18,
          "yref": "y"
         }
        ],
        "template": {
         "data": {
          "bar": [
           {
            "error_x": {
             "color": "#2a3f5f"
            },
            "error_y": {
             "color": "#2a3f5f"
            },
            "marker": {
             "line": {
              "color": "#E5ECF6",
              "width": 0.5
             },
             "pattern": {
              "fillmode": "overlay",
              "size": 10,
              "solidity": 0.2
             }
            },
            "type": "bar"
           }
          ],
          "barpolar": [
           {
            "marker": {
             "line": {
              "color": "#E5ECF6",
              "width": 0.5
             },
             "pattern": {
              "fillmode": "overlay",
              "size": 10,
              "solidity": 0.2
             }
            },
            "type": "barpolar"
           }
          ],
          "carpet": [
           {
            "aaxis": {
             "endlinecolor": "#2a3f5f",
             "gridcolor": "white",
             "linecolor": "white",
             "minorgridcolor": "white",
             "startlinecolor": "#2a3f5f"
            },
            "baxis": {
             "endlinecolor": "#2a3f5f",
             "gridcolor": "white",
             "linecolor": "white",
             "minorgridcolor": "white",
             "startlinecolor": "#2a3f5f"
            },
            "type": "carpet"
           }
          ],
          "choropleth": [
           {
            "colorbar": {
             "outlinewidth": 0,
             "ticks": ""
            },
            "type": "choropleth"
           }
          ],
          "contour": [
           {
            "colorbar": {
             "outlinewidth": 0,
             "ticks": ""
            },
            "colorscale": [
             [
              0,
              "#0d0887"
             ],
             [
              0.1111111111111111,
              "#46039f"
             ],
             [
              0.2222222222222222,
              "#7201a8"
             ],
             [
              0.3333333333333333,
              "#9c179e"
             ],
             [
              0.4444444444444444,
              "#bd3786"
             ],
             [
              0.5555555555555556,
              "#d8576b"
             ],
             [
              0.6666666666666666,
              "#ed7953"
             ],
             [
              0.7777777777777778,
              "#fb9f3a"
             ],
             [
              0.8888888888888888,
              "#fdca26"
             ],
             [
              1,
              "#f0f921"
             ]
            ],
            "type": "contour"
           }
          ],
          "contourcarpet": [
           {
            "colorbar": {
             "outlinewidth": 0,
             "ticks": ""
            },
            "type": "contourcarpet"
           }
          ],
          "heatmap": [
           {
            "colorbar": {
             "outlinewidth": 0,
             "ticks": ""
            },
            "colorscale": [
             [
              0,
              "#0d0887"
             ],
             [
              0.1111111111111111,
              "#46039f"
             ],
             [
              0.2222222222222222,
              "#7201a8"
             ],
             [
              0.3333333333333333,
              "#9c179e"
             ],
             [
              0.4444444444444444,
              "#bd3786"
             ],
             [
              0.5555555555555556,
              "#d8576b"
             ],
             [
              0.6666666666666666,
              "#ed7953"
             ],
             [
              0.7777777777777778,
              "#fb9f3a"
             ],
             [
              0.8888888888888888,
              "#fdca26"
             ],
             [
              1,
              "#f0f921"
             ]
            ],
            "type": "heatmap"
           }
          ],
          "histogram": [
           {
            "marker": {
             "pattern": {
              "fillmode": "overlay",
              "size": 10,
              "solidity": 0.2
             }
            },
            "type": "histogram"
           }
          ],
          "histogram2d": [
           {
            "colorbar": {
             "outlinewidth": 0,
             "ticks": ""
            },
            "colorscale": [
             [
              0,
              "#0d0887"
             ],
             [
              0.1111111111111111,
              "#46039f"
             ],
             [
              0.2222222222222222,
              "#7201a8"
             ],
             [
              0.3333333333333333,
              "#9c179e"
             ],
             [
              0.4444444444444444,
              "#bd3786"
             ],
             [
              0.5555555555555556,
              "#d8576b"
             ],
             [
              0.6666666666666666,
              "#ed7953"
             ],
             [
              0.7777777777777778,
              "#fb9f3a"
             ],
             [
              0.8888888888888888,
              "#fdca26"
             ],
             [
              1,
              "#f0f921"
             ]
            ],
            "type": "histogram2d"
           }
          ],
          "histogram2dcontour": [
           {
            "colorbar": {
             "outlinewidth": 0,
             "ticks": ""
            },
            "colorscale": [
             [
              0,
              "#0d0887"
             ],
             [
              0.1111111111111111,
              "#46039f"
             ],
             [
              0.2222222222222222,
              "#7201a8"
             ],
             [
              0.3333333333333333,
              "#9c179e"
             ],
             [
              0.4444444444444444,
              "#bd3786"
             ],
             [
              0.5555555555555556,
              "#d8576b"
             ],
             [
              0.6666666666666666,
              "#ed7953"
             ],
             [
              0.7777777777777778,
              "#fb9f3a"
             ],
             [
              0.8888888888888888,
              "#fdca26"
             ],
             [
              1,
              "#f0f921"
             ]
            ],
            "type": "histogram2dcontour"
           }
          ],
          "mesh3d": [
           {
            "colorbar": {
             "outlinewidth": 0,
             "ticks": ""
            },
            "type": "mesh3d"
           }
          ],
          "parcoords": [
           {
            "line": {
             "colorbar": {
              "outlinewidth": 0,
              "ticks": ""
             }
            },
            "type": "parcoords"
           }
          ],
          "pie": [
           {
            "automargin": true,
            "type": "pie"
           }
          ],
          "scatter": [
           {
            "fillpattern": {
             "fillmode": "overlay",
             "size": 10,
             "solidity": 0.2
            },
            "type": "scatter"
           }
          ],
          "scatter3d": [
           {
            "line": {
             "colorbar": {
              "outlinewidth": 0,
              "ticks": ""
             }
            },
            "marker": {
             "colorbar": {
              "outlinewidth": 0,
              "ticks": ""
             }
            },
            "type": "scatter3d"
           }
          ],
          "scattercarpet": [
           {
            "marker": {
             "colorbar": {
              "outlinewidth": 0,
              "ticks": ""
             }
            },
            "type": "scattercarpet"
           }
          ],
          "scattergeo": [
           {
            "marker": {
             "colorbar": {
              "outlinewidth": 0,
              "ticks": ""
             }
            },
            "type": "scattergeo"
           }
          ],
          "scattergl": [
           {
            "marker": {
             "colorbar": {
              "outlinewidth": 0,
              "ticks": ""
             }
            },
            "type": "scattergl"
           }
          ],
          "scattermap": [
           {
            "marker": {
             "colorbar": {
              "outlinewidth": 0,
              "ticks": ""
             }
            },
            "type": "scattermap"
           }
          ],
          "scattermapbox": [
           {
            "marker": {
             "colorbar": {
              "outlinewidth": 0,
              "ticks": ""
             }
            },
            "type": "scattermapbox"
           }
          ],
          "scatterpolar": [
           {
            "marker": {
             "colorbar": {
              "outlinewidth": 0,
              "ticks": ""
             }
            },
            "type": "scatterpolar"
           }
          ],
          "scatterpolargl": [
           {
            "marker": {
             "colorbar": {
              "outlinewidth": 0,
              "ticks": ""
             }
            },
            "type": "scatterpolargl"
           }
          ],
          "scatterternary": [
           {
            "marker": {
             "colorbar": {
              "outlinewidth": 0,
              "ticks": ""
             }
            },
            "type": "scatterternary"
           }
          ],
          "surface": [
           {
            "colorbar": {
             "outlinewidth": 0,
             "ticks": ""
            },
            "colorscale": [
             [
              0,
              "#0d0887"
             ],
             [
              0.1111111111111111,
              "#46039f"
             ],
             [
              0.2222222222222222,
              "#7201a8"
             ],
             [
              0.3333333333333333,
              "#9c179e"
             ],
             [
              0.4444444444444444,
              "#bd3786"
             ],
             [
              0.5555555555555556,
              "#d8576b"
             ],
             [
              0.6666666666666666,
              "#ed7953"
             ],
             [
              0.7777777777777778,
              "#fb9f3a"
             ],
             [
              0.8888888888888888,
              "#fdca26"
             ],
             [
              1,
              "#f0f921"
             ]
            ],
            "type": "surface"
           }
          ],
          "table": [
           {
            "cells": {
             "fill": {
              "color": "#EBF0F8"
             },
             "line": {
              "color": "white"
             }
            },
            "header": {
             "fill": {
              "color": "#C8D4E3"
             },
             "line": {
              "color": "white"
             }
            },
            "type": "table"
           }
          ]
         },
         "layout": {
          "annotationdefaults": {
           "arrowcolor": "#2a3f5f",
           "arrowhead": 0,
           "arrowwidth": 1
          },
          "autotypenumbers": "strict",
          "coloraxis": {
           "colorbar": {
            "outlinewidth": 0,
            "ticks": ""
           }
          },
          "colorscale": {
           "diverging": [
            [
             0,
             "#8e0152"
            ],
            [
             0.1,
             "#c51b7d"
            ],
            [
             0.2,
             "#de77ae"
            ],
            [
             0.3,
             "#f1b6da"
            ],
            [
             0.4,
             "#fde0ef"
            ],
            [
             0.5,
             "#f7f7f7"
            ],
            [
             0.6,
             "#e6f5d0"
            ],
            [
             0.7,
             "#b8e186"
            ],
            [
             0.8,
             "#7fbc41"
            ],
            [
             0.9,
             "#4d9221"
            ],
            [
             1,
             "#276419"
            ]
           ],
           "sequential": [
            [
             0,
             "#0d0887"
            ],
            [
             0.1111111111111111,
             "#46039f"
            ],
            [
             0.2222222222222222,
             "#7201a8"
            ],
            [
             0.3333333333333333,
             "#9c179e"
            ],
            [
             0.4444444444444444,
             "#bd3786"
            ],
            [
             0.5555555555555556,
             "#d8576b"
            ],
            [
             0.6666666666666666,
             "#ed7953"
            ],
            [
             0.7777777777777778,
             "#fb9f3a"
            ],
            [
             0.8888888888888888,
             "#fdca26"
            ],
            [
             1,
             "#f0f921"
            ]
           ],
           "sequentialminus": [
            [
             0,
             "#0d0887"
            ],
            [
             0.1111111111111111,
             "#46039f"
            ],
            [
             0.2222222222222222,
             "#7201a8"
            ],
            [
             0.3333333333333333,
             "#9c179e"
            ],
            [
             0.4444444444444444,
             "#bd3786"
            ],
            [
             0.5555555555555556,
             "#d8576b"
            ],
            [
             0.6666666666666666,
             "#ed7953"
            ],
            [
             0.7777777777777778,
             "#fb9f3a"
            ],
            [
             0.8888888888888888,
             "#fdca26"
            ],
            [
             1,
             "#f0f921"
            ]
           ]
          },
          "colorway": [
           "#636efa",
           "#EF553B",
           "#00cc96",
           "#ab63fa",
           "#FFA15A",
           "#19d3f3",
           "#FF6692",
           "#B6E880",
           "#FF97FF",
           "#FECB52"
          ],
          "font": {
           "color": "#2a3f5f"
          },
          "geo": {
           "bgcolor": "white",
           "lakecolor": "white",
           "landcolor": "#E5ECF6",
           "showlakes": true,
           "showland": true,
           "subunitcolor": "white"
          },
          "hoverlabel": {
           "align": "left"
          },
          "hovermode": "closest",
          "mapbox": {
           "style": "light"
          },
          "paper_bgcolor": "white",
          "plot_bgcolor": "#E5ECF6",
          "polar": {
           "angularaxis": {
            "gridcolor": "white",
            "linecolor": "white",
            "ticks": ""
           },
           "bgcolor": "#E5ECF6",
           "radialaxis": {
            "gridcolor": "white",
            "linecolor": "white",
            "ticks": ""
           }
          },
          "scene": {
           "xaxis": {
            "backgroundcolor": "#E5ECF6",
            "gridcolor": "white",
            "gridwidth": 2,
            "linecolor": "white",
            "showbackground": true,
            "ticks": "",
            "zerolinecolor": "white"
           },
           "yaxis": {
            "backgroundcolor": "#E5ECF6",
            "gridcolor": "white",
            "gridwidth": 2,
            "linecolor": "white",
            "showbackground": true,
            "ticks": "",
            "zerolinecolor": "white"
           },
           "zaxis": {
            "backgroundcolor": "#E5ECF6",
            "gridcolor": "white",
            "gridwidth": 2,
            "linecolor": "white",
            "showbackground": true,
            "ticks": "",
            "zerolinecolor": "white"
           }
          },
          "shapedefaults": {
           "line": {
            "color": "#2a3f5f"
           }
          },
          "ternary": {
           "aaxis": {
            "gridcolor": "white",
            "linecolor": "white",
            "ticks": ""
           },
           "baxis": {
            "gridcolor": "white",
            "linecolor": "white",
            "ticks": ""
           },
           "bgcolor": "#E5ECF6",
           "caxis": {
            "gridcolor": "white",
            "linecolor": "white",
            "ticks": ""
           }
          },
          "title": {
           "x": 0.05
          },
          "xaxis": {
           "automargin": true,
           "gridcolor": "white",
           "linecolor": "white",
           "ticks": "",
           "title": {
            "standoff": 15
           },
           "zerolinecolor": "white",
           "zerolinewidth": 2
          },
          "yaxis": {
           "automargin": true,
           "gridcolor": "white",
           "linecolor": "white",
           "ticks": "",
           "title": {
            "standoff": 15
           },
           "zerolinecolor": "white",
           "zerolinewidth": 2
          }
         }
        },
        "title": {
         "text": "Regional Economics: Electricity Price vs LCOH"
        },
        "xaxis": {
         "anchor": "y",
         "domain": [
          0,
          1
         ],
         "title": {
          "text": "Electricity Price ($/kWh)"
         }
        },
        "yaxis": {
         "anchor": "x",
         "domain": [
          0,
          1
         ],
         "title": {
          "text": "Levelized Cost of Hydrogen ($/kg)"
         }
        }
       }
      }
     },
     "metadata": {},
     "output_type": "display_data"
    },
    {
     "name": "stdout",
     "output_type": "stream",
     "text": [
      "\n",
      "🌎 Optimal Deployment Strategy:\n",
      "\n",
      "1️⃣ BEST: West Texas\n",
      "   • Electricity: $0.045/kWh\n",
      "   • LCOH: $1.49/kg\n",
      "   • NPV: $38.5M\n",
      "   • Renewable Source: Excellent (Wind)\n",
      "   • Strategy: Co-locate with wind farms, secure long-term PPA\n",
      "\n",
      "❌ AVOID: California\n",
      "   • Electricity: $0.180/kWh\n",
      "   • LCOH: $6.46/kg\n",
      "   • NPV: $-57.9M\n",
      "   • High electricity costs make project marginal\n",
      "\n",
      "💡 Key Insights:\n",
      "   • Midwest and West Texas offer best economics (abundant wind)\n",
      "   • California has high demand but high electricity costs\n",
      "   • Consider pairing with on-site solar in high-cost regions\n",
      "   • RNG availability also matters - prioritize near dairy farms/landfills\n"
     ]
    }
   ],
   "source": [
    "# Regional analysis based on electricity prices and hydrogen markets\n",
    "regions = {\n",
    "    'Region': [\n",
    "        'West Texas',\n",
    "        'Midwest (IA/MN)',\n",
    "        'Pacific Northwest',\n",
    "        'California',\n",
    "        'Northeast',\n",
    "        'Southeast'\n",
    "    ],\n",
    "    'Electricity Price ($/kWh)': [0.045, 0.055, 0.060, 0.180, 0.140, 0.085],\n",
    "    'H₂ Demand Level': ['Medium', 'Low', 'Medium', 'High', 'High', 'Medium'],\n",
    "    'Renewable Availability': ['Excellent (Wind)', 'Excellent (Wind)', 'Excellent (Hydro)',\n",
    "                                'Good (Solar)', 'Moderate', 'Moderate'],\n",
    "    'Key Industries': ['Refining, Chemicals', 'Agriculture, Food', 'Aerospace, Tech',\n",
    "                       'Refining, Transport', 'Manufacturing', 'Chemicals, Aerospace']\n",
    "}\n",
    "\n",
    "regions_df = pd.DataFrame(regions)\n",
    "\n",
    "# Calculate LCOH for each region\n",
    "regions_df['LCOH ($/kg)'] = regions_df['Electricity Price ($/kWh)'].apply(\n",
    "    lambda e: lcoh + (e - electricity_price) * energy_per_kg_h2\n",
    ")\n",
    "\n",
    "# Calculate NPV impact\n",
    "regions_df['NPV ($M)'] = regions_df['Electricity Price ($/kWh)'].apply(\n",
    "    lambda e: (npv - (e - electricity_price) * energy_per_kg_h2 * h2_annual * \n",
    "              ((1 - (1+discount_rate)**(-plant_lifetime)) / discount_rate)) / 1e6\n",
    ")\n",
    "\n",
    "# Create a transformed NPV for sizing (shift all values to be positive)\n",
    "regions_df['NPV_for_size'] = regions_df['NPV ($M)'] - regions_df['NPV ($M)'].min() + 1\n",
    "\n",
    "# Ranking\n",
    "regions_df['Economic Rank'] = regions_df['NPV ($M)'].rank(ascending=False).astype(int)\n",
    "\n",
    "# Display\n",
    "display(regions_df.style.format({\n",
    "    'Electricity Price ($/kWh)': '{:.3f}',\n",
    "    'LCOH ($/kg)': '{:.2f}',\n",
    "    'NPV ($M)': '{:.1f}'\n",
    "}).background_gradient(subset=['NPV ($M)'], cmap='RdYlGn'))\n",
    "\n",
    "# Visualize\n",
    "fig = px.scatter(\n",
    "    regions_df,\n",
    "    x='Electricity Price ($/kWh)',\n",
    "    y='LCOH ($/kg)',\n",
    "    size='NPV_for_size',  # Use the positive-shifted values\n",
    "    color='Renewable Availability',\n",
    "    text='Region',\n",
    "    title='Regional Economics: Electricity Price vs LCOH',\n",
    "    labels={'LCOH ($/kg)': 'Levelized Cost of Hydrogen ($/kg)'},\n",
    "    size_max=40,\n",
    "    hover_data={'NPV ($M)': ':.1f', 'NPV_for_size': False}  # Show actual NPV in hover\n",
    ")\n",
    "\n",
    "fig.add_hline(y=h2_price, line_dash=\"dash\", line_color=\"green\",\n",
    "              annotation_text=f\"H₂ Market Price (${h2_price}/kg)\")\n",
    "\n",
    "fig.update_traces(textposition='top center')\n",
    "fig.update_layout(height=500)\n",
    "\n",
    "fig.show()\n",
    "\n",
    "print(f\"\\n🌎 Optimal Deployment Strategy:\\n\")\n",
    "\n",
    "top_region = regions_df.loc[regions_df['NPV ($M)'].idxmax()]\n",
    "print(f\"1️⃣ BEST: {top_region['Region']}\")\n",
    "print(f\"   • Electricity: ${top_region['Electricity Price ($/kWh)']:.3f}/kWh\")\n",
    "print(f\"   • LCOH: ${top_region['LCOH ($/kg)']:.2f}/kg\")\n",
    "print(f\"   • NPV: ${top_region['NPV ($M)']:.1f}M\")\n",
    "print(f\"   • Renewable Source: {top_region['Renewable Availability']}\")\n",
    "print(f\"   • Strategy: Co-locate with wind farms, secure long-term PPA\\n\")\n",
    "\n",
    "worst_region = regions_df.loc[regions_df['NPV ($M)'].idxmin()]\n",
    "print(f\"❌ AVOID: {worst_region['Region']}\")\n",
    "print(f\"   • Electricity: ${worst_region['Electricity Price ($/kWh)']:.3f}/kWh\")\n",
    "print(f\"   • LCOH: ${worst_region['LCOH ($/kg)']:.2f}/kg\")\n",
    "print(f\"   • NPV: ${worst_region['NPV ($M)']:.1f}M\")\n",
    "print(f\"   • High electricity costs make project marginal\\n\")\n",
    "\n",
    "print(f\"💡 Key Insights:\")\n",
    "print(f\"   • Midwest and West Texas offer best economics (abundant wind)\")\n",
    "print(f\"   • California has high demand but high electricity costs\")\n",
    "print(f\"   • Consider pairing with on-site solar in high-cost regions\")\n",
    "print(f\"   • RNG availability also matters - prioritize near dairy farms/landfills\")"
   ]
  },
  {
   "cell_type": "markdown",
   "id": "6bf24f25",
   "metadata": {},
   "source": [
    "## Key Findings\n",
    "\n",
    "### Strong Financial Performance\n",
    "\n",
    "**Base Case Economics (Conservative Pricing):**\n",
    "- NPV (20 years, 15% discount): **$20.6 million**\n",
    "- IRR: **85.95%** (far exceeds typical hurdle rates)\n",
    "- Payback Period: **3.2 years** (excellent for chemical industry)\n",
    "- Gross Margin: **30.6%** (healthy for process industry)\n",
    "- LCOH: **$2.41/kg** (competitive with market price of $3.18/kg)\n",
    "\n",
    "**Investment Attractiveness:**\n",
    "- Positive NPV in >70% of Monte Carlo scenarios\n",
    "- IRR significantly exceeds discount rate (15%)\n",
    "- Fast payback reduces risk\n",
    "- Robust to reasonable parameter uncertainty\n",
    "\n",
    "### 2. Critical Success Factors\n",
    "\n",
    "**Most Influential Parameters (from sensitivity analysis):**\n",
    "\n",
    "1. **Electricity Price** - Dominant driver of economics\n",
    "   - Represents 89% of variable operating costs\n",
    "   - Optimal deployment in low-cost renewable regions\n",
    "   - Target: <$0.07/kWh for strong economics\n",
    "   \n",
    "2. **Hydrogen Selling Price** - Market risk\n",
    "   - Conservative base case at $3.18/kg\n",
    "   - Market prices range $2-5/kg depending on grade/region\n",
    "   - Premium markets (fuel cell grade, California LCFS) can exceed $5/kg\n",
    "\n",
    "3. **Acetylene Black Price** - Co-product value\n",
    "   - Provides 40% of total revenue\n",
    "   - Premium conductive grade commands $2-3/kg\n",
    "   - Battery market growth supports strong pricing\n",
    "\n",
    "4. **Capital Costs** - Technology maturity\n",
    "   - Current estimate: $45.6M for 3,100 tonne/year plant\n",
    "   - Pentacarbon technology relatively new (scale-up risk)\n",
    "   - Learning curve improvements possible with deployment\n",
    "\n",
    "### 3. Environmental Superiority\n",
    "\n",
    "**Dramatic improvements vs Steam Methane Reforming:**\n",
    "\n",
    "- **CO₂ Emissions:** 99.9% reduction (0.12 vs 9.7 kg CO₂/kg H₂)\n",
    "- **Water Consumption:** 86.7% reduction (0.6 vs 4.5 kg H₂O/kg H₂)\n",
    "- **Renewable Energy:** 100% when using renewable electricity\n",
    "- **Waste Utilization:** Converts waste RNG to valuable products\n",
    "\n",
    "**Climate Impact:**\n",
    "- Annual CO₂ avoidance: ~30,000 tonnes vs SMR\n",
    "- Equivalent to removing ~6,500 cars from roads\n",
    "- Supports corporate net-zero commitments\n",
    "\n",
    "### 4. Market Positioning\n",
    "\n",
    "**Competitive Advantages:**\n",
    "- ✅ Near-zero carbon intensity (critical for CA LCFS, EU hydrogen strategy)\n",
    "- ✅ Premium co-product (acetylene black for batteries)\n",
    "- ✅ Waste feedstock utilization (RNG from landfills/dairy)\n",
    "- ✅ Modular scale (right-sized for distributed production)\n",
    "- ✅ No water stress concerns\n",
    "\n",
    "**Competitive Challenges:**\n",
    "- ⚠️ Higher energy intensity than SMR (but from renewables)\n",
    "- ⚠️ Technology relatively new (limited deployment track record)\n",
    "- ⚠️ Electricity price sensitivity (requires low-cost renewable access)\n",
    "- ⚠️ Smaller scale than large SMR plants (3,100 vs 10,000+ tonnes/year)\n",
    "\n",
    "### 5. Strategic Recommendations\n",
    "\n",
    "**Near-Term (1-2 years):**\n",
    "\n",
    "1. **Pilot Demonstration**\n",
    "   - Validate ASPEN simulation with pilot-scale unit\n",
    "   - Prove acetylene black quality for battery market\n",
    "   - Demonstrate 8,000+ hour reliability\n",
    "   - Engage potential offtakers early\n",
    "\n",
    "2. **Target Markets**\n",
    "   - Industrial customers with clean hydrogen mandates\n",
    "   - California (LCFS credits, strict emissions standards)\n",
    "   - Companies with net-zero commitments\n",
    "   - Battery manufacturers (acetylene black market)\n",
    "\n",
    "3. **Optimize Deployment Locations**\n",
    "   - **Priority:** West Texas, Midwest (low-cost wind)\n",
    "   - Co-locate with wind/solar farms for direct PPAs\n",
    "   - Near RNG sources (landfills, dairy digesters)\n",
    "   - Proximity to industrial hydrogen demand\n",
    "\n",
    "4. **Secure Offtake Agreements**\n",
    "   - Long-term hydrogen purchase agreements\n",
    "   - Acetylene black supply contracts with battery makers\n",
    "   - Lock in pricing to reduce market risk\n",
    "\n",
    "**Medium-Term (3-5 years):**\n",
    "\n",
    "1. **Scale Technology**\n",
    "   - Build first commercial-scale plant (3,100 tonne/year)\n",
    "   - Demonstrate consistent acetylene black quality\n",
    "   - Achieve target capacity factor (>90%)\n",
    "   - Reduce CapEx through learning curve\n",
    "\n",
    "2. **Business Model Innovation**\n",
    "   - \"Hydrogen-as-a-Service\" for lower customer CapEx\n",
    "   - Bundled hydrogen + carbon credit sales\n",
    "   - Partnership with renewable energy developers\n",
    "   - Fleet deployment model (multiple standardized plants)\n",
    "\n",
    "3. **Policy Engagement**\n",
    "   - Qualify for IRA 45V hydrogen PTC ($3/kg for clean H₂)\n",
    "   - California LCFS credit generation\n",
    "   - RNG fuel credits\n",
    "   - State-level clean hydrogen incentives\n",
    "\n",
    "4. **Market Development**\n",
    "   - Educate market on acetylene black value\n",
    "   - Build relationships with battery manufacturers\n",
    "   - Establish brand for premium clean hydrogen\n",
    "   - Demonstrate reliable supply\n",
    "\n",
    "**Long-Term (5+ years):**\n",
    "\n",
    "1. **Portfolio Expansion**\n",
    "   - Deploy 10-20 plants in optimal locations\n",
    "   - Diversify feedstocks (biogas, renewable methane)\n",
    "   - Explore adjacent markets (ammonia, methanol from H₂)\n",
    "   - International markets with strong hydrogen policy\n",
    "\n",
    "2. **Technology Enhancement**\n",
    "   - Improve energy efficiency (reduce kWh/kg H₂)\n",
    "   - Increase scale per unit (economies of scale)\n",
    "   - Develop carbon black grade flexibility\n",
    "   - Integration with renewable energy systems\n",
    "\n",
    "3. **Financial Optimization**\n",
    "   - Green bond financing for lower cost of capital\n",
    "   - Carbon credit monetization strategies\n",
    "   - Strategic partnerships with industrial gas companies\n",
    "   - Consider yieldco structure for cash flow assets\n",
    "\n",
    "---\n",
    "\n",
    "## Conclusions\n",
    "\n",
    "The Pentacarbon microwave plasma process for hydrogen and acetylene black production represents a **technically viable and economically attractive** alternative to conventional hydrogen production.\n",
    "\n",
    "**Key Strengths:**\n",
    "✅ **Strong economics** - Positive NPV, high IRR, fast payback  \n",
    "✅ **Environmental leadership** - 99.9% CO₂ reduction vs SMR  \n",
    "✅ **Revenue diversification** - Premium acetylene black co-product  \n",
    "✅ **Waste valorization** - Utilizes renewable natural gas  \n",
    "✅ **Strategic timing** - Aligns with hydrogen economy growth  \n",
    "\n",
    "**Critical Success Factors:**\n",
    "🎯 **Low-cost renewable electricity** - Must target <$0.07/kWh  \n",
    "🎯 **Acetylene black market** - Must secure premium pricing  \n",
    "🎯 **Policy support** - Leverage hydrogen incentives and LCFS credits  \n",
    "🎯 **Technology validation** - Pilot demonstration crucial  \n",
    "\n",
    "**The business case strengthens as:**\n",
    "- Hydrogen demand grows (transportation, industry, power)\n",
    "- Carbon pricing increases (making SMR more expensive)\n",
    "- Battery market expands (acetylene black demand)\n",
    "- Renewable electricity costs decline (improving economics)\n",
    "\n",
    "**With continued technology development and supportive policy, this process could capture meaningful share of the growing clean hydrogen market, particularly for applications requiring truly low-carbon H₂ with strong environmental credentials.**\n",
    "\n",
    "---\n",
    "\n",
    "## References\n",
    "\n",
    "1. Ritter, A., Levine, S., Cannon, S., (2022). \"Natural Gas Conversion into Clean Hydrogen and Carbon for Li-ion Battery Electrodes Using Renewable Energy\" University of Pennsylvania Senior Design Project.\n",
    "\n",
    "2. U.S. Environmental Protection Agency. (2023). \"Emission Factors for Greenhouse Gas Inventories.\"\n",
    "\n",
    "3. International Energy Agency. (2023). \"Global Hydrogen Review 2023.\"\n",
    "\n",
    "4. National Renewable Energy Laboratory. (2023). \"Hydrogen Production Cost Analysis.\"\n",
    "\n",
    "5. U.S. Department of Energy. (2023). \"Clean Hydrogen Production Tax Credit (45V) Guidance.\"\n",
    "\n",
    "6. Pentacarbon, Inc. (2022). Technical specifications and process data.\n",
    "\n",
    "---\n",
    "\n",
    "## Contact\n",
    "\n",
    "**Adam Ritter**  \n",
    "\n",
    "📧 adam.h.ritter@gmail.com  \n",
    "💼 [LinkedIn](https://linkedin.com/in/adam-ritter-env)  \n",
    "🐙 [GitHub](https://github.com/Adam-Ritter)  \n",
    "🌐 [Portfolio](your-portfolio-link)\n",
    "\n",
    "---\n",
    "\n",
    "*This interactive analysis is based on our 2022 senior design project at Penn. The ASPEN Plus simulation and core technical data remain unchanged. Financial assumptions have been updated where appropriate to reflect 2024 market conditions.*"
   ]
  }
 ],
 "metadata": {
  "kernelspec": {
   "display_name": "climate-portfolio",
   "language": "python",
   "name": "python3"
  },
  "language_info": {
   "codemirror_mode": {
    "name": "ipython",
    "version": 3
   },
   "file_extension": ".py",
   "mimetype": "text/x-python",
   "name": "python",
   "nbconvert_exporter": "python",
   "pygments_lexer": "ipython3",
   "version": "3.10.18"
  }
 },
 "nbformat": 4,
 "nbformat_minor": 5
}
